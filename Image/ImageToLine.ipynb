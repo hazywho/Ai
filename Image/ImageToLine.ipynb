{
 "cells": [
  {
   "cell_type": "code",
   "execution_count": 1,
   "metadata": {},
   "outputs": [
    {
     "name": "stdout",
     "output_type": "stream",
     "text": [
      "C:\\Users\\zanyi\\Downloads\\MUSTWORK.jpg\n",
      "C:\\Users\\zanyi\\Downloads\\MUSTWORK.jpg\n"
     ]
    }
   ],
   "source": [
    "import os\n",
    "import cv2\n",
    "import numpy as np\n",
    "from pathlib import Path\n",
    "\n",
    "def create_line_drawing_image(img):\n",
    "    img_gray = cv2.cvtColor(img, cv2.COLOR_BGR2GRAY)\n",
    "    kernel = np.array([[0, -1, 0],\n",
    "                   [-1, 5,-1],\n",
    "                   [0, -1, 0]])\n",
    "    image_sharp = cv2.filter2D(src=img_gray, ddepth=-1, kernel=kernel)\n",
    "\n",
    "    return image_sharp\n",
    "\n",
    "def convert_images(dir_from, dir_to):\n",
    "    print(dir_from)\n",
    "    img = cv2.imread(dir_from)\n",
    "    img_contour = create_line_drawing_image(img)\n",
    "    print(Path(dir_from))\n",
    "    cv2.imwrite(dir_to + \"/\" + \"Test.jpg\", img_contour)\n",
    "\n",
    "\n",
    "dir_src = r\"C:\\Users\\zanyi\\Downloads\\MUSTWORK.jpg\"\n",
    "dir_dest = r\"C:\\Users\\zanyi\\OneDrive\\Git hub\\Ai\\Image\"\n",
    "convert_images(dir_src, dir_dest)"
   ]
  },
  {
   "cell_type": "code",
   "execution_count": 40,
   "metadata": {},
   "outputs": [
    {
     "name": "stdout",
     "output_type": "stream",
     "text": [
      "Defaulting to user installation because normal site-packages is not writeable\n",
      "Collecting rembg\n",
      "  Using cached rembg-2.0.53-py3-none-any.whl.metadata (14 kB)\n",
      "Requirement already satisfied: jsonschema in c:\\users\\zanyi\\appdata\\roaming\\python\\python310\\site-packages (from rembg) (4.16.0)\n",
      "Requirement already satisfied: numpy in c:\\users\\zanyi\\appdata\\roaming\\python\\python310\\site-packages (from rembg) (1.23.4)\n",
      "Collecting onnxruntime (from rembg)\n",
      "  Using cached onnxruntime-1.16.3-cp310-cp310-win_amd64.whl.metadata (4.5 kB)\n",
      "Collecting opencv-python-headless (from rembg)\n",
      "  Using cached opencv_python_headless-4.9.0.80-cp37-abi3-win_amd64.whl.metadata (20 kB)\n",
      "Requirement already satisfied: pillow in c:\\users\\zanyi\\appdata\\roaming\\python\\python310\\site-packages (from rembg) (9.4.0)\n",
      "Collecting pooch (from rembg)\n",
      "  Using cached pooch-1.8.0-py3-none-any.whl.metadata (9.9 kB)\n",
      "Collecting pymatting (from rembg)\n",
      "  Using cached PyMatting-1.1.12-py3-none-any.whl.metadata (7.4 kB)\n",
      "Collecting scikit-image (from rembg)\n",
      "  Using cached scikit_image-0.22.0-cp310-cp310-win_amd64.whl.metadata (13 kB)\n",
      "Requirement already satisfied: scipy in c:\\users\\zanyi\\appdata\\roaming\\python\\python310\\site-packages (from rembg) (1.10.1)\n",
      "Requirement already satisfied: tqdm in c:\\users\\zanyi\\appdata\\roaming\\python\\python310\\site-packages (from rembg) (4.65.0)\n",
      "Requirement already satisfied: attrs>=17.4.0 in c:\\users\\zanyi\\appdata\\roaming\\python\\python310\\site-packages (from jsonschema->rembg) (22.1.0)\n",
      "Requirement already satisfied: pyrsistent!=0.17.0,!=0.17.1,!=0.17.2,>=0.14.0 in c:\\users\\zanyi\\appdata\\roaming\\python\\python310\\site-packages (from jsonschema->rembg) (0.18.1)\n",
      "Collecting coloredlogs (from onnxruntime->rembg)\n",
      "  Using cached coloredlogs-15.0.1-py2.py3-none-any.whl (46 kB)\n",
      "Requirement already satisfied: flatbuffers in c:\\users\\zanyi\\appdata\\roaming\\python\\python310\\site-packages (from onnxruntime->rembg) (23.3.3)\n",
      "Requirement already satisfied: packaging in c:\\users\\zanyi\\appdata\\roaming\\python\\python310\\site-packages (from onnxruntime->rembg) (21.3)\n",
      "Requirement already satisfied: protobuf in c:\\users\\zanyi\\appdata\\roaming\\python\\python310\\site-packages (from onnxruntime->rembg) (3.20.3)\n",
      "Requirement already satisfied: sympy in c:\\users\\zanyi\\appdata\\roaming\\python\\python310\\site-packages (from onnxruntime->rembg) (1.11.1)\n",
      "Requirement already satisfied: platformdirs>=2.5.0 in c:\\users\\zanyi\\appdata\\roaming\\python\\python310\\site-packages (from pooch->rembg) (4.1.0)\n",
      "Requirement already satisfied: requests>=2.19.0 in c:\\users\\zanyi\\appdata\\roaming\\python\\python310\\site-packages (from pooch->rembg) (2.31.0)\n",
      "Requirement already satisfied: numba!=0.49.0 in c:\\users\\zanyi\\appdata\\roaming\\python\\python310\\site-packages (from pymatting->rembg) (0.58.1)\n",
      "Requirement already satisfied: networkx>=2.8 in c:\\users\\zanyi\\appdata\\roaming\\python\\python310\\site-packages (from scikit-image->rembg) (2.8.8)\n",
      "Collecting imageio>=2.27 (from scikit-image->rembg)\n",
      "  Using cached imageio-2.33.1-py3-none-any.whl.metadata (4.9 kB)\n",
      "Requirement already satisfied: tifffile>=2022.8.12 in c:\\users\\zanyi\\appdata\\roaming\\python\\python310\\site-packages (from scikit-image->rembg) (2023.12.9)\n",
      "Collecting lazy_loader>=0.3 (from scikit-image->rembg)\n",
      "  Using cached lazy_loader-0.3-py3-none-any.whl.metadata (4.3 kB)\n",
      "Requirement already satisfied: colorama in c:\\users\\zanyi\\appdata\\roaming\\python\\python310\\site-packages (from tqdm->rembg) (0.4.5)\n",
      "Requirement already satisfied: llvmlite<0.42,>=0.41.0dev0 in c:\\users\\zanyi\\appdata\\roaming\\python\\python310\\site-packages (from numba!=0.49.0->pymatting->rembg) (0.41.1)\n",
      "Requirement already satisfied: pyparsing!=3.0.5,>=2.0.2 in c:\\users\\zanyi\\appdata\\roaming\\python\\python310\\site-packages (from packaging->onnxruntime->rembg) (3.0.9)\n",
      "Requirement already satisfied: charset-normalizer<4,>=2 in c:\\users\\zanyi\\appdata\\roaming\\python\\python310\\site-packages (from requests>=2.19.0->pooch->rembg) (2.1.1)\n",
      "Requirement already satisfied: idna<4,>=2.5 in c:\\users\\zanyi\\appdata\\roaming\\python\\python310\\site-packages (from requests>=2.19.0->pooch->rembg) (3.4)\n",
      "Requirement already satisfied: urllib3<3,>=1.21.1 in c:\\users\\zanyi\\appdata\\roaming\\python\\python310\\site-packages (from requests>=2.19.0->pooch->rembg) (2.0.3)\n",
      "Requirement already satisfied: certifi>=2017.4.17 in c:\\users\\zanyi\\appdata\\roaming\\python\\python310\\site-packages (from requests>=2.19.0->pooch->rembg) (2022.9.24)\n",
      "Collecting humanfriendly>=9.1 (from coloredlogs->onnxruntime->rembg)\n",
      "  Using cached humanfriendly-10.0-py2.py3-none-any.whl (86 kB)\n",
      "Requirement already satisfied: mpmath>=0.19 in c:\\users\\zanyi\\appdata\\roaming\\python\\python310\\site-packages (from sympy->onnxruntime->rembg) (1.2.1)\n",
      "Requirement already satisfied: pyreadline3 in c:\\users\\zanyi\\appdata\\roaming\\python\\python310\\site-packages (from humanfriendly>=9.1->coloredlogs->onnxruntime->rembg) (3.4.1)\n",
      "Using cached rembg-2.0.53-py3-none-any.whl (32 kB)\n",
      "Using cached onnxruntime-1.16.3-cp310-cp310-win_amd64.whl (7.4 MB)\n",
      "Using cached opencv_python_headless-4.9.0.80-cp37-abi3-win_amd64.whl (38.5 MB)\n",
      "Using cached pooch-1.8.0-py3-none-any.whl (62 kB)\n",
      "Using cached PyMatting-1.1.12-py3-none-any.whl (52 kB)\n",
      "Using cached scikit_image-0.22.0-cp310-cp310-win_amd64.whl (24.5 MB)\n",
      "Using cached imageio-2.33.1-py3-none-any.whl (313 kB)\n",
      "Using cached lazy_loader-0.3-py3-none-any.whl (9.1 kB)\n",
      "Installing collected packages: opencv-python-headless, lazy_loader, imageio, humanfriendly, scikit-image, pymatting, pooch, coloredlogs, onnxruntime, rembg\n"
     ]
    },
    {
     "name": "stderr",
     "output_type": "stream",
     "text": [
      "ERROR: Could not install packages due to an OSError: [WinError 5] Access is denied: 'C:\\\\Users\\\\zanyi\\\\AppData\\\\Roaming\\\\Python\\\\Python310\\\\site-packages\\\\cv2\\\\cv2.pyd'\n",
      "Check the permissions.\n",
      "\n"
     ]
    }
   ],
   "source": []
  }
 ],
 "metadata": {
  "kernelspec": {
   "display_name": "Python 3",
   "language": "python",
   "name": "python3"
  },
  "language_info": {
   "codemirror_mode": {
    "name": "ipython",
    "version": 3
   },
   "file_extension": ".py",
   "mimetype": "text/x-python",
   "name": "python",
   "nbconvert_exporter": "python",
   "pygments_lexer": "ipython3",
   "version": "3.10.8"
  }
 },
 "nbformat": 4,
 "nbformat_minor": 2
}
