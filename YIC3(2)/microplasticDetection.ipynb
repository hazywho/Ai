{
 "cells": [
  {
   "cell_type": "code",
   "execution_count": 1,
   "metadata": {},
   "outputs": [
    {
     "name": "stdout",
     "output_type": "stream",
     "text": [
      "Defaulting to user installation because normal site-packages is not writeable\n",
      "Requirement already satisfied: roboflow in c:\\program files\\python310\\lib\\site-packages (1.1.30)\n",
      "Requirement already satisfied: certifi==2023.7.22 in c:\\program files\\python310\\lib\\site-packages (from roboflow) (2023.7.22)\n",
      "Requirement already satisfied: chardet==4.0.0 in c:\\program files\\python310\\lib\\site-packages (from roboflow) (4.0.0)\n",
      "Requirement already satisfied: cycler==0.10.0 in c:\\program files\\python310\\lib\\site-packages (from roboflow) (0.10.0)\n",
      "Requirement already satisfied: idna==2.10 in c:\\program files\\python310\\lib\\site-packages (from roboflow) (2.10)\n",
      "Requirement already satisfied: kiwisolver>=1.3.1 in c:\\users\\zanyi\\appdata\\roaming\\python\\python310\\site-packages (from roboflow) (1.4.4)\n",
      "Requirement already satisfied: matplotlib in c:\\users\\zanyi\\appdata\\roaming\\python\\python310\\site-packages (from roboflow) (3.7.1)\n",
      "Requirement already satisfied: numpy>=1.18.5 in c:\\users\\zanyi\\appdata\\roaming\\python\\python310\\site-packages (from roboflow) (1.23.4)\n",
      "Requirement already satisfied: opencv-python-headless==4.8.0.74 in c:\\program files\\python310\\lib\\site-packages (from roboflow) (4.8.0.74)\n",
      "Requirement already satisfied: Pillow>=7.1.2 in c:\\users\\zanyi\\appdata\\roaming\\python\\python310\\site-packages (from roboflow) (9.4.0)\n",
      "Requirement already satisfied: python-dateutil in c:\\users\\zanyi\\appdata\\roaming\\python\\python310\\site-packages (from roboflow) (2.8.2)\n",
      "Requirement already satisfied: python-dotenv in c:\\users\\zanyi\\appdata\\roaming\\python\\python310\\site-packages (from roboflow) (1.0.1)\n",
      "Requirement already satisfied: requests in c:\\users\\zanyi\\appdata\\roaming\\python\\python310\\site-packages (from roboflow) (2.31.0)\n",
      "Requirement already satisfied: six in c:\\users\\zanyi\\appdata\\roaming\\python\\python310\\site-packages (from roboflow) (1.16.0)\n",
      "Requirement already satisfied: urllib3>=1.26.6 in c:\\users\\zanyi\\appdata\\roaming\\python\\python310\\site-packages (from roboflow) (2.0.3)\n",
      "Requirement already satisfied: tqdm>=4.41.0 in c:\\users\\zanyi\\appdata\\roaming\\python\\python310\\site-packages (from roboflow) (4.65.0)\n",
      "Requirement already satisfied: PyYAML>=5.3.1 in c:\\users\\zanyi\\appdata\\roaming\\python\\python310\\site-packages (from roboflow) (6.0)\n",
      "Requirement already satisfied: requests-toolbelt in c:\\users\\zanyi\\appdata\\roaming\\python\\python310\\site-packages (from roboflow) (1.0.0)\n",
      "Requirement already satisfied: python-magic in c:\\users\\zanyi\\appdata\\roaming\\python\\python310\\site-packages (from roboflow) (0.4.27)\n",
      "Requirement already satisfied: colorama in c:\\users\\zanyi\\appdata\\roaming\\python\\python310\\site-packages (from tqdm>=4.41.0->roboflow) (0.4.5)\n",
      "Requirement already satisfied: contourpy>=1.0.1 in c:\\users\\zanyi\\appdata\\roaming\\python\\python310\\site-packages (from matplotlib->roboflow) (1.0.7)\n",
      "Requirement already satisfied: fonttools>=4.22.0 in c:\\users\\zanyi\\appdata\\roaming\\python\\python310\\site-packages (from matplotlib->roboflow) (4.39.4)\n",
      "Requirement already satisfied: packaging>=20.0 in c:\\users\\zanyi\\appdata\\roaming\\python\\python310\\site-packages (from matplotlib->roboflow) (21.3)\n",
      "Requirement already satisfied: pyparsing>=2.3.1 in c:\\users\\zanyi\\appdata\\roaming\\python\\python310\\site-packages (from matplotlib->roboflow) (3.0.9)\n",
      "Requirement already satisfied: charset-normalizer<4,>=2 in c:\\users\\zanyi\\appdata\\roaming\\python\\python310\\site-packages (from requests->roboflow) (2.1.1)\n",
      "loading Roboflow workspace...\n",
      "loading Roboflow project...\n",
      "Dependency ultralytics==8.0.196 is required but found version=8.2.28, to fix: `pip install ultralytics==8.0.196`\n"
     ]
    },
    {
     "name": "stderr",
     "output_type": "stream",
     "text": [
      "Downloading Dataset Version Zip in Microplastic-Detection-2 to yolov8:: 100%|██████████| 125767/125767 [01:46<00:00, 1182.20it/s]"
     ]
    },
    {
     "name": "stdout",
     "output_type": "stream",
     "text": [
      "\n"
     ]
    },
    {
     "name": "stderr",
     "output_type": "stream",
     "text": [
      "\n",
      "Extracting Dataset Version Zip to Microplastic-Detection-2 in yolov8:: 100%|██████████| 3278/3278 [00:03<00:00, 1008.54it/s]\n"
     ]
    }
   ],
   "source": [
    "!pip install roboflow\n",
    "\n",
    "from roboflow import Roboflow\n",
    "rf = Roboflow(api_key=\"TxIGi1xnNFU9liy45wew\")\n",
    "project = rf.workspace(\"luis-angelo-valerio\").project(\"microplastic-detection-w5uzh\")\n",
    "version = project.version(2)\n",
    "dataset = version.download(\"yolov8\")\n"
   ]
  },
  {
   "cell_type": "code",
   "execution_count": 3,
   "metadata": {},
   "outputs": [
    {
     "data": {
      "text/plain": [
       "(640, 640)"
      ]
     },
     "execution_count": 3,
     "metadata": {},
     "output_type": "execute_result"
    }
   ],
   "source": [
    "from PIL import Image\n",
    "\n",
    "Image.open(r\"C:\\Users\\zanyi\\OneDrive\\Git hub\\Ai\\YIC3(2)\\Microplastic-Detection-2\\train\\images\\0671-0020_jpg.rf.4e55dd738b507aded910b64763b97ce2.jpg\").size"
   ]
  },
  {
   "cell_type": "code",
   "execution_count": 5,
   "metadata": {},
   "outputs": [
    {
     "name": "stdout",
     "output_type": "stream",
     "text": [
      "WARNING  no model scale passed. Assuming scale='n'.\n"
     ]
    },
    {
     "name": "stdout",
     "output_type": "stream",
     "text": [
      "Downloading https://github.com/ultralytics/assets/releases/download/v8.2.0/yolov8n.pt to 'yolov8n.pt'...\n"
     ]
    },
    {
     "name": "stderr",
     "output_type": "stream",
     "text": [
      "100%|██████████| 6.23M/6.23M [00:04<00:00, 1.38MB/s]\n"
     ]
    },
    {
     "name": "stdout",
     "output_type": "stream",
     "text": [
      "Transferred 355/355 items from pretrained weights\n",
      "New https://pypi.org/project/ultralytics/8.2.32 available  Update with 'pip install -U ultralytics'\n",
      "Ultralytics YOLOv8.2.28  Python-3.10.8 torch-2.3.0+cpu CPU (AMD Ryzen 9 4900HS with Radeon Graphics)\n",
      "\u001b[34m\u001b[1mengine\\trainer: \u001b[0mtask=detect, mode=train, model=yolov8.yaml, data=C:\\Users\\zanyi\\OneDrive\\Git hub\\Ai\\YIC3(2)\\Microplastic-Detection-2\\data.yaml, epochs=60, time=None, patience=100, batch=16, imgsz=640, save=True, save_period=-1, cache=False, device=None, workers=8, project=None, name=train, exist_ok=False, pretrained=True, optimizer=auto, verbose=True, seed=0, deterministic=True, single_cls=False, rect=False, cos_lr=False, close_mosaic=10, resume=False, amp=True, fraction=1.0, profile=False, freeze=None, multi_scale=False, overlap_mask=True, mask_ratio=4, dropout=0.0, val=True, split=val, save_json=False, save_hybrid=False, conf=None, iou=0.7, max_det=300, half=False, dnn=False, plots=True, source=None, vid_stride=1, stream_buffer=False, visualize=False, augment=False, agnostic_nms=False, classes=None, retina_masks=False, embed=None, show=False, save_frames=False, save_txt=False, save_conf=False, save_crop=False, show_labels=True, show_conf=True, show_boxes=True, line_width=None, format=torchscript, keras=False, optimize=False, int8=False, dynamic=False, simplify=False, opset=None, workspace=4, nms=False, lr0=0.01, lrf=0.01, momentum=0.937, weight_decay=0.0005, warmup_epochs=3.0, warmup_momentum=0.8, warmup_bias_lr=0.1, box=7.5, cls=0.5, dfl=1.5, pose=12.0, kobj=1.0, label_smoothing=0.0, nbs=64, hsv_h=0.015, hsv_s=0.7, hsv_v=0.4, degrees=0.0, translate=0.1, scale=0.5, shear=0.0, perspective=0.0, flipud=0.0, fliplr=0.5, bgr=0.0, mosaic=1.0, mixup=0.0, copy_paste=0.0, auto_augment=randaugment, erasing=0.4, crop_fraction=1.0, cfg=None, tracker=botsort.yaml, save_dir=runs\\detect\\train\n",
      "Overriding model.yaml nc=80 with nc=3\n",
      "WARNING  no model scale passed. Assuming scale='n'.\n",
      "\n",
      "                   from  n    params  module                                       arguments                     \n",
      "  0                  -1  1       464  ultralytics.nn.modules.conv.Conv             [3, 16, 3, 2]                 \n",
      "  1                  -1  1      4672  ultralytics.nn.modules.conv.Conv             [16, 32, 3, 2]                \n",
      "  2                  -1  1      7360  ultralytics.nn.modules.block.C2f             [32, 32, 1, True]             \n",
      "  3                  -1  1     18560  ultralytics.nn.modules.conv.Conv             [32, 64, 3, 2]                \n",
      "  4                  -1  2     49664  ultralytics.nn.modules.block.C2f             [64, 64, 2, True]             \n",
      "  5                  -1  1     73984  ultralytics.nn.modules.conv.Conv             [64, 128, 3, 2]               \n",
      "  6                  -1  2    197632  ultralytics.nn.modules.block.C2f             [128, 128, 2, True]           \n",
      "  7                  -1  1    295424  ultralytics.nn.modules.conv.Conv             [128, 256, 3, 2]              \n",
      "  8                  -1  1    460288  ultralytics.nn.modules.block.C2f             [256, 256, 1, True]           \n",
      "  9                  -1  1    164608  ultralytics.nn.modules.block.SPPF            [256, 256, 5]                 \n",
      " 10                  -1  1         0  torch.nn.modules.upsampling.Upsample         [None, 2, 'nearest']          \n",
      " 11             [-1, 6]  1         0  ultralytics.nn.modules.conv.Concat           [1]                           \n",
      " 12                  -1  1    148224  ultralytics.nn.modules.block.C2f             [384, 128, 1]                 \n",
      " 13                  -1  1         0  torch.nn.modules.upsampling.Upsample         [None, 2, 'nearest']          \n",
      " 14             [-1, 4]  1         0  ultralytics.nn.modules.conv.Concat           [1]                           \n",
      " 15                  -1  1     37248  ultralytics.nn.modules.block.C2f             [192, 64, 1]                  \n",
      " 16                  -1  1     36992  ultralytics.nn.modules.conv.Conv             [64, 64, 3, 2]                \n",
      " 17            [-1, 12]  1         0  ultralytics.nn.modules.conv.Concat           [1]                           \n",
      " 18                  -1  1    123648  ultralytics.nn.modules.block.C2f             [192, 128, 1]                 \n",
      " 19                  -1  1    147712  ultralytics.nn.modules.conv.Conv             [128, 128, 3, 2]              \n",
      " 20             [-1, 9]  1         0  ultralytics.nn.modules.conv.Concat           [1]                           \n",
      " 21                  -1  1    493056  ultralytics.nn.modules.block.C2f             [384, 256, 1]                 \n",
      " 22        [15, 18, 21]  1    751897  ultralytics.nn.modules.head.Detect           [3, [64, 128, 256]]           \n",
      "YOLOv8 summary: 225 layers, 3011433 parameters, 3011417 gradients, 8.2 GFLOPs\n",
      "\n",
      "Transferred 319/355 items from pretrained weights\n",
      "ClearML Task: created new task id=5b84cacb3379476ca4d7a0692f1c7d83\n",
      "2024-06-16 23:21:08,339 - clearml.Task - INFO - Storing jupyter notebook directly as code\n",
      "WARNING:tensorflow:Please fix your imports. Module tensorflow.python.training.tracking.util has been moved to tensorflow.python.checkpoint.checkpoint. The old module will be deleted in version 2.11.\n",
      "ClearML results page: https://app.clear.ml/projects/34e8998891b1424a97df5324d4dcbc9b/experiments/5b84cacb3379476ca4d7a0692f1c7d83/output/log\n",
      "ClearML Initialized a new task. If you want to run remotely, please add clearml-init and connect your arguments before initializing YOLO.\n"
     ]
    },
    {
     "name": "stderr",
     "output_type": "stream",
     "text": [
      "\u001b[1;38;5;214mCOMET WARNING:\u001b[0m To get all data logged automatically, import comet_ml before the following modules: torch.\n",
      "\u001b[1;38;5;214mCOMET WARNING:\u001b[0m As you are running in a Jupyter environment, you will need to call `experiment.end()` when finished to ensure all metrics and code are logged before exiting.\n",
      "\u001b[1;38;5;39mCOMET INFO:\u001b[0m Experiment is live on comet.com https://www.comet.com/hazywho/general/c7fefbc93e454865a01bf5bbb962ffa9\n",
      "\n"
     ]
    },
    {
     "name": "stdout",
     "output_type": "stream",
     "text": [
      "\u001b[34m\u001b[1mTensorBoard: \u001b[0mStart with 'tensorboard --logdir runs\\detect\\train', view at http://localhost:6006/\n",
      "Freezing layer 'model.22.dfl.conv.weight'\n"
     ]
    },
    {
     "name": "stderr",
     "output_type": "stream",
     "text": [
      "\u001b[34m\u001b[1mtrain: \u001b[0mScanning C:\\Users\\zanyi\\OneDrive\\Git hub\\Ai\\YIC3(2)\\Microplastic-Detection-2\\train\\labels... 1515 images, 273 backgrounds, 0 corrupt: 100%|██████████| 1515/1515 [00:03<00:00, 448.81it/s]\n"
     ]
    },
    {
     "name": "stdout",
     "output_type": "stream",
     "text": [
      "\u001b[34m\u001b[1mtrain: \u001b[0mNew cache created: C:\\Users\\zanyi\\OneDrive\\Git hub\\Ai\\YIC3(2)\\Microplastic-Detection-2\\train\\labels.cache\n"
     ]
    },
    {
     "name": "stderr",
     "output_type": "stream",
     "text": [
      "\u001b[34m\u001b[1mval: \u001b[0mScanning C:\\Users\\zanyi\\OneDrive\\Git hub\\Ai\\YIC3(2)\\Microplastic-Detection-2\\valid\\labels... 63 images, 0 backgrounds, 0 corrupt: 100%|██████████| 63/63 [00:00<00:00, 357.37it/s]\n"
     ]
    },
    {
     "name": "stdout",
     "output_type": "stream",
     "text": [
      "\u001b[34m\u001b[1mval: \u001b[0mNew cache created: C:\\Users\\zanyi\\OneDrive\\Git hub\\Ai\\YIC3(2)\\Microplastic-Detection-2\\valid\\labels.cache\n",
      "Plotting labels to runs\\detect\\train\\labels.jpg... \n",
      "\u001b[34m\u001b[1moptimizer:\u001b[0m 'optimizer=auto' found, ignoring 'lr0=0.01' and 'momentum=0.937' and determining best 'optimizer', 'lr0' and 'momentum' automatically... \n",
      "\u001b[34m\u001b[1moptimizer:\u001b[0m AdamW(lr=0.001429, momentum=0.9) with parameter groups 57 weight(decay=0.0), 64 weight(decay=0.0005), 63 bias(decay=0.0)\n",
      "\u001b[34m\u001b[1mTensorBoard: \u001b[0mmodel graph visualization added \n",
      "Image sizes 640 train, 640 val\n",
      "Using 0 dataloader workers\n",
      "Logging results to \u001b[1mruns\\detect\\train\u001b[0m\n",
      "Starting training for 60 epochs...\n",
      "\n",
      "      Epoch    GPU_mem   box_loss   cls_loss   dfl_loss  Instances       Size\n"
     ]
    },
    {
     "name": "stderr",
     "output_type": "stream",
     "text": [
      "       1/60         0G      1.325      2.466      1.362         33        640: 100%|██████████| 95/95 [22:35<00:00, 14.27s/it]\n",
      "                 Class     Images  Instances      Box(P          R      mAP50  mAP50-95): 100%|██████████| 2/2 [00:24<00:00, 12.38s/it]"
     ]
    },
    {
     "name": "stdout",
     "output_type": "stream",
     "text": [
      "                   all         63        147      0.424      0.371      0.405      0.237\n"
     ]
    },
    {
     "name": "stderr",
     "output_type": "stream",
     "text": [
      "\n"
     ]
    },
    {
     "name": "stdout",
     "output_type": "stream",
     "text": [
      "\n",
      "      Epoch    GPU_mem   box_loss   cls_loss   dfl_loss  Instances       Size\n"
     ]
    },
    {
     "name": "stderr",
     "output_type": "stream",
     "text": [
      "       2/60         0G      1.309      1.997      1.334         16        640: 100%|██████████| 95/95 [21:26<00:00, 13.54s/it]\n",
      "                 Class     Images  Instances      Box(P          R      mAP50  mAP50-95): 100%|██████████| 2/2 [00:23<00:00, 11.82s/it]"
     ]
    },
    {
     "name": "stdout",
     "output_type": "stream",
     "text": [
      "                   all         63        147      0.366        0.5      0.402      0.221\n"
     ]
    },
    {
     "name": "stderr",
     "output_type": "stream",
     "text": [
      "\n"
     ]
    },
    {
     "name": "stdout",
     "output_type": "stream",
     "text": [
      "\n",
      "      Epoch    GPU_mem   box_loss   cls_loss   dfl_loss  Instances       Size\n"
     ]
    },
    {
     "name": "stderr",
     "output_type": "stream",
     "text": [
      "       3/60         0G      1.296      1.901      1.334         62        640: 100%|██████████| 95/95 [21:11<00:00, 13.38s/it]\n",
      "                 Class     Images  Instances      Box(P          R      mAP50  mAP50-95): 100%|██████████| 2/2 [00:23<00:00, 11.62s/it]"
     ]
    },
    {
     "name": "stdout",
     "output_type": "stream",
     "text": [
      "                   all         63        147      0.495      0.258      0.309      0.172\n"
     ]
    },
    {
     "name": "stderr",
     "output_type": "stream",
     "text": [
      "\n"
     ]
    },
    {
     "name": "stdout",
     "output_type": "stream",
     "text": [
      "\n",
      "      Epoch    GPU_mem   box_loss   cls_loss   dfl_loss  Instances       Size\n"
     ]
    },
    {
     "name": "stderr",
     "output_type": "stream",
     "text": [
      "       4/60         0G      1.276      1.686      1.322         53        640: 100%|██████████| 95/95 [22:47<00:00, 14.40s/it]\n",
      "                 Class     Images  Instances      Box(P          R      mAP50  mAP50-95): 100%|██████████| 2/2 [00:25<00:00, 12.84s/it]"
     ]
    },
    {
     "name": "stdout",
     "output_type": "stream",
     "text": [
      "                   all         63        147        0.6      0.529       0.47      0.248\n"
     ]
    },
    {
     "name": "stderr",
     "output_type": "stream",
     "text": [
      "\n"
     ]
    },
    {
     "name": "stdout",
     "output_type": "stream",
     "text": [
      "\n",
      "      Epoch    GPU_mem   box_loss   cls_loss   dfl_loss  Instances       Size\n"
     ]
    },
    {
     "name": "stderr",
     "output_type": "stream",
     "text": [
      "       5/60         0G      1.225      1.541      1.296         33        640: 100%|██████████| 95/95 [24:16<00:00, 15.33s/it]\n",
      "                 Class     Images  Instances      Box(P          R      mAP50  mAP50-95): 100%|██████████| 2/2 [00:25<00:00, 12.99s/it]"
     ]
    },
    {
     "name": "stdout",
     "output_type": "stream",
     "text": [
      "                   all         63        147      0.598      0.464      0.453      0.245\n"
     ]
    },
    {
     "name": "stderr",
     "output_type": "stream",
     "text": [
      "\n"
     ]
    },
    {
     "name": "stdout",
     "output_type": "stream",
     "text": [
      "\n",
      "      Epoch    GPU_mem   box_loss   cls_loss   dfl_loss  Instances       Size\n"
     ]
    },
    {
     "name": "stderr",
     "output_type": "stream",
     "text": [
      "       6/60         0G      1.179      1.407      1.262         32        640: 100%|██████████| 95/95 [23:16<00:00, 14.70s/it]\n",
      "                 Class     Images  Instances      Box(P          R      mAP50  mAP50-95): 100%|██████████| 2/2 [00:25<00:00, 12.72s/it]"
     ]
    },
    {
     "name": "stdout",
     "output_type": "stream",
     "text": [
      "                   all         63        147      0.697      0.388      0.415      0.245\n"
     ]
    },
    {
     "name": "stderr",
     "output_type": "stream",
     "text": [
      "\n"
     ]
    },
    {
     "name": "stdout",
     "output_type": "stream",
     "text": [
      "\n",
      "      Epoch    GPU_mem   box_loss   cls_loss   dfl_loss  Instances       Size\n"
     ]
    },
    {
     "name": "stderr",
     "output_type": "stream",
     "text": [
      "       7/60         0G      1.127      1.371      1.235        102        640: 100%|██████████| 95/95 [23:47<00:00, 15.03s/it]\n",
      "                 Class     Images  Instances      Box(P          R      mAP50  mAP50-95): 100%|██████████| 2/2 [00:25<00:00, 12.73s/it]"
     ]
    },
    {
     "name": "stdout",
     "output_type": "stream",
     "text": [
      "                   all         63        147      0.589      0.499      0.548      0.312\n"
     ]
    },
    {
     "name": "stderr",
     "output_type": "stream",
     "text": [
      "\n"
     ]
    },
    {
     "name": "stdout",
     "output_type": "stream",
     "text": [
      "\n",
      "      Epoch    GPU_mem   box_loss   cls_loss   dfl_loss  Instances       Size\n"
     ]
    },
    {
     "name": "stderr",
     "output_type": "stream",
     "text": [
      "       8/60         0G      1.101      1.272      1.227         82        640: 100%|██████████| 95/95 [23:52<00:00, 15.08s/it]\n",
      "                 Class     Images  Instances      Box(P          R      mAP50  mAP50-95): 100%|██████████| 2/2 [00:25<00:00, 12.79s/it]"
     ]
    },
    {
     "name": "stdout",
     "output_type": "stream",
     "text": [
      "                   all         63        147      0.682      0.546      0.609      0.333\n"
     ]
    },
    {
     "name": "stderr",
     "output_type": "stream",
     "text": [
      "\n"
     ]
    },
    {
     "name": "stdout",
     "output_type": "stream",
     "text": [
      "\n",
      "      Epoch    GPU_mem   box_loss   cls_loss   dfl_loss  Instances       Size\n"
     ]
    },
    {
     "name": "stderr",
     "output_type": "stream",
     "text": [
      "       9/60         0G      1.091      1.272      1.222         39        640: 100%|██████████| 95/95 [21:05<00:00, 13.32s/it]\n",
      "                 Class     Images  Instances      Box(P          R      mAP50  mAP50-95): 100%|██████████| 2/2 [00:22<00:00, 11.42s/it]"
     ]
    },
    {
     "name": "stdout",
     "output_type": "stream",
     "text": [
      "                   all         63        147      0.678      0.625      0.596      0.347\n"
     ]
    },
    {
     "name": "stderr",
     "output_type": "stream",
     "text": [
      "\n"
     ]
    },
    {
     "name": "stdout",
     "output_type": "stream",
     "text": [
      "\n",
      "      Epoch    GPU_mem   box_loss   cls_loss   dfl_loss  Instances       Size\n"
     ]
    },
    {
     "name": "stderr",
     "output_type": "stream",
     "text": [
      "      10/60         0G      1.072      1.204      1.202         69        640: 100%|██████████| 95/95 [20:39<00:00, 13.05s/it]\n",
      "                 Class     Images  Instances      Box(P          R      mAP50  mAP50-95): 100%|██████████| 2/2 [00:22<00:00, 11.22s/it]"
     ]
    },
    {
     "name": "stdout",
     "output_type": "stream",
     "text": [
      "                   all         63        147       0.68       0.48      0.535      0.329\n"
     ]
    },
    {
     "name": "stderr",
     "output_type": "stream",
     "text": [
      "\n"
     ]
    },
    {
     "name": "stdout",
     "output_type": "stream",
     "text": [
      "\n",
      "      Epoch    GPU_mem   box_loss   cls_loss   dfl_loss  Instances       Size\n"
     ]
    },
    {
     "name": "stderr",
     "output_type": "stream",
     "text": [
      "      11/60         0G      1.015      1.149      1.171         96        640: 100%|██████████| 95/95 [20:34<00:00, 13.00s/it]\n",
      "                 Class     Images  Instances      Box(P          R      mAP50  mAP50-95): 100%|██████████| 2/2 [00:22<00:00, 11.23s/it]"
     ]
    },
    {
     "name": "stdout",
     "output_type": "stream",
     "text": [
      "                   all         63        147      0.672      0.508      0.537      0.321\n"
     ]
    },
    {
     "name": "stderr",
     "output_type": "stream",
     "text": [
      "\n"
     ]
    },
    {
     "name": "stdout",
     "output_type": "stream",
     "text": [
      "\n",
      "      Epoch    GPU_mem   box_loss   cls_loss   dfl_loss  Instances       Size\n"
     ]
    },
    {
     "name": "stderr",
     "output_type": "stream",
     "text": [
      "      12/60         0G      1.004      1.139      1.169         63        640: 100%|██████████| 95/95 [20:33<00:00, 12.99s/it]\n",
      "                 Class     Images  Instances      Box(P          R      mAP50  mAP50-95): 100%|██████████| 2/2 [00:22<00:00, 11.16s/it]"
     ]
    },
    {
     "name": "stdout",
     "output_type": "stream",
     "text": [
      "                   all         63        147      0.636      0.506      0.586      0.329\n"
     ]
    },
    {
     "name": "stderr",
     "output_type": "stream",
     "text": [
      "\n"
     ]
    },
    {
     "name": "stdout",
     "output_type": "stream",
     "text": [
      "\n",
      "      Epoch    GPU_mem   box_loss   cls_loss   dfl_loss  Instances       Size\n"
     ]
    },
    {
     "name": "stderr",
     "output_type": "stream",
     "text": [
      "      13/60         0G     0.9528      1.072      1.141         70        640: 100%|██████████| 95/95 [20:33<00:00, 12.99s/it]\n",
      "                 Class     Images  Instances      Box(P          R      mAP50  mAP50-95): 100%|██████████| 2/2 [00:22<00:00, 11.22s/it]"
     ]
    },
    {
     "name": "stdout",
     "output_type": "stream",
     "text": [
      "                   all         63        147      0.621      0.586      0.597      0.362\n"
     ]
    },
    {
     "name": "stderr",
     "output_type": "stream",
     "text": [
      "\n"
     ]
    },
    {
     "name": "stdout",
     "output_type": "stream",
     "text": [
      "\n",
      "      Epoch    GPU_mem   box_loss   cls_loss   dfl_loss  Instances       Size\n"
     ]
    },
    {
     "name": "stderr",
     "output_type": "stream",
     "text": [
      "      14/60         0G      0.969      1.024      1.157         48        640: 100%|██████████| 95/95 [20:29<00:00, 12.95s/it]\n",
      "                 Class     Images  Instances      Box(P          R      mAP50  mAP50-95): 100%|██████████| 2/2 [00:22<00:00, 11.17s/it]"
     ]
    },
    {
     "name": "stdout",
     "output_type": "stream",
     "text": [
      "                   all         63        147      0.614      0.581      0.614       0.38\n"
     ]
    },
    {
     "name": "stderr",
     "output_type": "stream",
     "text": [
      "\n"
     ]
    },
    {
     "name": "stdout",
     "output_type": "stream",
     "text": [
      "\n",
      "      Epoch    GPU_mem   box_loss   cls_loss   dfl_loss  Instances       Size\n"
     ]
    },
    {
     "name": "stderr",
     "output_type": "stream",
     "text": [
      "      15/60         0G     0.9181      0.996      1.115         35        640: 100%|██████████| 95/95 [20:34<00:00, 12.99s/it]\n",
      "                 Class     Images  Instances      Box(P          R      mAP50  mAP50-95): 100%|██████████| 2/2 [00:22<00:00, 11.28s/it]"
     ]
    },
    {
     "name": "stdout",
     "output_type": "stream",
     "text": [
      "                   all         63        147      0.695      0.666      0.675       0.39\n"
     ]
    },
    {
     "name": "stderr",
     "output_type": "stream",
     "text": [
      "\n"
     ]
    },
    {
     "name": "stdout",
     "output_type": "stream",
     "text": [
      "\n",
      "      Epoch    GPU_mem   box_loss   cls_loss   dfl_loss  Instances       Size\n"
     ]
    },
    {
     "name": "stderr",
     "output_type": "stream",
     "text": [
      "      16/60         0G     0.8837     0.9289        1.1         50        640: 100%|██████████| 95/95 [20:33<00:00, 12.98s/it]\n",
      "                 Class     Images  Instances      Box(P          R      mAP50  mAP50-95): 100%|██████████| 2/2 [00:22<00:00, 11.17s/it]"
     ]
    },
    {
     "name": "stdout",
     "output_type": "stream",
     "text": [
      "                   all         63        147      0.592      0.604      0.601      0.351\n"
     ]
    },
    {
     "name": "stderr",
     "output_type": "stream",
     "text": [
      "\n"
     ]
    },
    {
     "name": "stdout",
     "output_type": "stream",
     "text": [
      "\n",
      "      Epoch    GPU_mem   box_loss   cls_loss   dfl_loss  Instances       Size\n"
     ]
    },
    {
     "name": "stderr",
     "output_type": "stream",
     "text": [
      "      17/60         0G      0.888     0.9832      1.099         25        640: 100%|██████████| 95/95 [20:33<00:00, 12.99s/it]\n",
      "                 Class     Images  Instances      Box(P          R      mAP50  mAP50-95): 100%|██████████| 2/2 [00:22<00:00, 11.09s/it]"
     ]
    },
    {
     "name": "stdout",
     "output_type": "stream",
     "text": [
      "                   all         63        147      0.611      0.648      0.638      0.385\n"
     ]
    },
    {
     "name": "stderr",
     "output_type": "stream",
     "text": [
      "\n"
     ]
    },
    {
     "name": "stdout",
     "output_type": "stream",
     "text": [
      "\n",
      "      Epoch    GPU_mem   box_loss   cls_loss   dfl_loss  Instances       Size\n"
     ]
    },
    {
     "name": "stderr",
     "output_type": "stream",
     "text": [
      "      18/60         0G     0.8671     0.9369      1.088         29        640: 100%|██████████| 95/95 [20:31<00:00, 12.96s/it]\n",
      "                 Class     Images  Instances      Box(P          R      mAP50  mAP50-95): 100%|██████████| 2/2 [00:22<00:00, 11.34s/it]"
     ]
    },
    {
     "name": "stdout",
     "output_type": "stream",
     "text": [
      "                   all         63        147      0.783      0.595      0.669      0.407\n"
     ]
    },
    {
     "name": "stderr",
     "output_type": "stream",
     "text": [
      "\n"
     ]
    },
    {
     "name": "stdout",
     "output_type": "stream",
     "text": [
      "\n",
      "      Epoch    GPU_mem   box_loss   cls_loss   dfl_loss  Instances       Size\n"
     ]
    },
    {
     "name": "stderr",
     "output_type": "stream",
     "text": [
      "      19/60         0G     0.8416     0.9079      1.073         47        640: 100%|██████████| 95/95 [20:31<00:00, 12.96s/it]\n",
      "                 Class     Images  Instances      Box(P          R      mAP50  mAP50-95): 100%|██████████| 2/2 [00:21<00:00, 11.00s/it]"
     ]
    },
    {
     "name": "stdout",
     "output_type": "stream",
     "text": [
      "                   all         63        147      0.655       0.64      0.646      0.378\n"
     ]
    },
    {
     "name": "stderr",
     "output_type": "stream",
     "text": [
      "\n"
     ]
    },
    {
     "name": "stdout",
     "output_type": "stream",
     "text": [
      "\n",
      "      Epoch    GPU_mem   box_loss   cls_loss   dfl_loss  Instances       Size\n"
     ]
    },
    {
     "name": "stderr",
     "output_type": "stream",
     "text": [
      "      20/60         0G     0.8611     0.9016      1.089         26        640: 100%|██████████| 95/95 [20:30<00:00, 12.95s/it]\n",
      "                 Class     Images  Instances      Box(P          R      mAP50  mAP50-95): 100%|██████████| 2/2 [00:22<00:00, 11.24s/it]"
     ]
    },
    {
     "name": "stdout",
     "output_type": "stream",
     "text": [
      "                   all         63        147      0.678      0.564      0.626      0.378\n"
     ]
    },
    {
     "name": "stderr",
     "output_type": "stream",
     "text": [
      "\n"
     ]
    },
    {
     "name": "stdout",
     "output_type": "stream",
     "text": [
      "\n",
      "      Epoch    GPU_mem   box_loss   cls_loss   dfl_loss  Instances       Size\n"
     ]
    },
    {
     "name": "stderr",
     "output_type": "stream",
     "text": [
      "      21/60         0G       0.83     0.8639      1.075         47        640: 100%|██████████| 95/95 [20:34<00:00, 13.00s/it]\n",
      "                 Class     Images  Instances      Box(P          R      mAP50  mAP50-95): 100%|██████████| 2/2 [00:22<00:00, 11.03s/it]"
     ]
    },
    {
     "name": "stdout",
     "output_type": "stream",
     "text": [
      "                   all         63        147      0.663      0.642       0.64      0.374\n"
     ]
    },
    {
     "name": "stderr",
     "output_type": "stream",
     "text": [
      "\n"
     ]
    },
    {
     "name": "stdout",
     "output_type": "stream",
     "text": [
      "\n",
      "      Epoch    GPU_mem   box_loss   cls_loss   dfl_loss  Instances       Size\n"
     ]
    },
    {
     "name": "stderr",
     "output_type": "stream",
     "text": [
      "      22/60         0G     0.8126     0.8659      1.065         64        640: 100%|██████████| 95/95 [20:32<00:00, 12.97s/it]\n",
      "                 Class     Images  Instances      Box(P          R      mAP50  mAP50-95): 100%|██████████| 2/2 [00:22<00:00, 11.17s/it]"
     ]
    },
    {
     "name": "stdout",
     "output_type": "stream",
     "text": [
      "                   all         63        147      0.754      0.566       0.65      0.388\n"
     ]
    },
    {
     "name": "stderr",
     "output_type": "stream",
     "text": [
      "\n"
     ]
    },
    {
     "name": "stdout",
     "output_type": "stream",
     "text": [
      "\n",
      "      Epoch    GPU_mem   box_loss   cls_loss   dfl_loss  Instances       Size\n"
     ]
    },
    {
     "name": "stderr",
     "output_type": "stream",
     "text": [
      "      23/60         0G     0.8014     0.8368      1.053         68        640: 100%|██████████| 95/95 [20:32<00:00, 12.98s/it]\n",
      "                 Class     Images  Instances      Box(P          R      mAP50  mAP50-95): 100%|██████████| 2/2 [00:22<00:00, 11.27s/it]"
     ]
    },
    {
     "name": "stdout",
     "output_type": "stream",
     "text": [
      "                   all         63        147      0.584      0.702      0.657      0.386\n"
     ]
    },
    {
     "name": "stderr",
     "output_type": "stream",
     "text": [
      "\n"
     ]
    },
    {
     "name": "stdout",
     "output_type": "stream",
     "text": [
      "\n",
      "      Epoch    GPU_mem   box_loss   cls_loss   dfl_loss  Instances       Size\n"
     ]
    },
    {
     "name": "stderr",
     "output_type": "stream",
     "text": [
      "      24/60         0G     0.7732     0.8194      1.048         34        640: 100%|██████████| 95/95 [20:35<00:00, 13.00s/it]\n",
      "                 Class     Images  Instances      Box(P          R      mAP50  mAP50-95): 100%|██████████| 2/2 [00:22<00:00, 11.21s/it]"
     ]
    },
    {
     "name": "stdout",
     "output_type": "stream",
     "text": [
      "                   all         63        147      0.666      0.703      0.673      0.411\n"
     ]
    },
    {
     "name": "stderr",
     "output_type": "stream",
     "text": [
      "\n"
     ]
    },
    {
     "name": "stdout",
     "output_type": "stream",
     "text": [
      "\n",
      "      Epoch    GPU_mem   box_loss   cls_loss   dfl_loss  Instances       Size\n"
     ]
    },
    {
     "name": "stderr",
     "output_type": "stream",
     "text": [
      "      25/60         0G      0.762      0.807      1.034         78        640: 100%|██████████| 95/95 [20:38<00:00, 13.04s/it]\n",
      "                 Class     Images  Instances      Box(P          R      mAP50  mAP50-95): 100%|██████████| 2/2 [00:22<00:00, 11.42s/it]"
     ]
    },
    {
     "name": "stdout",
     "output_type": "stream",
     "text": [
      "                   all         63        147      0.779      0.569      0.618      0.372\n"
     ]
    },
    {
     "name": "stderr",
     "output_type": "stream",
     "text": [
      "\n"
     ]
    },
    {
     "name": "stdout",
     "output_type": "stream",
     "text": [
      "\n",
      "      Epoch    GPU_mem   box_loss   cls_loss   dfl_loss  Instances       Size\n"
     ]
    },
    {
     "name": "stderr",
     "output_type": "stream",
     "text": [
      "      26/60         0G     0.7622     0.7613      1.041         47        640: 100%|██████████| 95/95 [20:43<00:00, 13.09s/it]\n",
      "                 Class     Images  Instances      Box(P          R      mAP50  mAP50-95): 100%|██████████| 2/2 [00:22<00:00, 11.13s/it]"
     ]
    },
    {
     "name": "stdout",
     "output_type": "stream",
     "text": [
      "                   all         63        147      0.668      0.558      0.563       0.34\n"
     ]
    },
    {
     "name": "stderr",
     "output_type": "stream",
     "text": [
      "\n"
     ]
    },
    {
     "name": "stdout",
     "output_type": "stream",
     "text": [
      "\n",
      "      Epoch    GPU_mem   box_loss   cls_loss   dfl_loss  Instances       Size\n"
     ]
    },
    {
     "name": "stderr",
     "output_type": "stream",
     "text": [
      "      27/60         0G     0.7545     0.7712      1.025         41        640: 100%|██████████| 95/95 [20:36<00:00, 13.02s/it]\n",
      "                 Class     Images  Instances      Box(P          R      mAP50  mAP50-95): 100%|██████████| 2/2 [00:22<00:00, 11.26s/it]"
     ]
    },
    {
     "name": "stdout",
     "output_type": "stream",
     "text": [
      "                   all         63        147      0.681      0.727      0.682      0.412\n"
     ]
    },
    {
     "name": "stderr",
     "output_type": "stream",
     "text": [
      "\n"
     ]
    },
    {
     "name": "stdout",
     "output_type": "stream",
     "text": [
      "\n",
      "      Epoch    GPU_mem   box_loss   cls_loss   dfl_loss  Instances       Size\n"
     ]
    },
    {
     "name": "stderr",
     "output_type": "stream",
     "text": [
      "      28/60         0G     0.7423     0.7695      1.031         28        640: 100%|██████████| 95/95 [20:33<00:00, 12.98s/it]\n",
      "                 Class     Images  Instances      Box(P          R      mAP50  mAP50-95): 100%|██████████| 2/2 [00:22<00:00, 11.15s/it]"
     ]
    },
    {
     "name": "stdout",
     "output_type": "stream",
     "text": [
      "                   all         63        147      0.707      0.702      0.696      0.412\n"
     ]
    },
    {
     "name": "stderr",
     "output_type": "stream",
     "text": [
      "\n"
     ]
    },
    {
     "name": "stdout",
     "output_type": "stream",
     "text": [
      "\n",
      "      Epoch    GPU_mem   box_loss   cls_loss   dfl_loss  Instances       Size\n"
     ]
    },
    {
     "name": "stderr",
     "output_type": "stream",
     "text": [
      "      29/60         0G     0.7146       0.75      1.016         36        640: 100%|██████████| 95/95 [20:31<00:00, 12.96s/it]\n",
      "                 Class     Images  Instances      Box(P          R      mAP50  mAP50-95): 100%|██████████| 2/2 [00:22<00:00, 11.10s/it]"
     ]
    },
    {
     "name": "stdout",
     "output_type": "stream",
     "text": [
      "                   all         63        147      0.755      0.675      0.662      0.396\n"
     ]
    },
    {
     "name": "stderr",
     "output_type": "stream",
     "text": [
      "\n"
     ]
    },
    {
     "name": "stdout",
     "output_type": "stream",
     "text": [
      "\n",
      "      Epoch    GPU_mem   box_loss   cls_loss   dfl_loss  Instances       Size\n"
     ]
    },
    {
     "name": "stderr",
     "output_type": "stream",
     "text": [
      "      30/60         0G     0.7223     0.7298      1.023         38        640: 100%|██████████| 95/95 [20:34<00:00, 12.99s/it]\n",
      "                 Class     Images  Instances      Box(P          R      mAP50  mAP50-95): 100%|██████████| 2/2 [00:22<00:00, 11.19s/it]"
     ]
    },
    {
     "name": "stdout",
     "output_type": "stream",
     "text": [
      "                   all         63        147      0.747      0.635      0.654      0.411\n"
     ]
    },
    {
     "name": "stderr",
     "output_type": "stream",
     "text": [
      "\n"
     ]
    },
    {
     "name": "stdout",
     "output_type": "stream",
     "text": [
      "\n",
      "      Epoch    GPU_mem   box_loss   cls_loss   dfl_loss  Instances       Size\n"
     ]
    },
    {
     "name": "stderr",
     "output_type": "stream",
     "text": [
      "      31/60         0G      0.705     0.7068      1.014         63        640: 100%|██████████| 95/95 [20:33<00:00, 12.99s/it]\n",
      "                 Class     Images  Instances      Box(P          R      mAP50  mAP50-95): 100%|██████████| 2/2 [00:22<00:00, 11.12s/it]"
     ]
    },
    {
     "name": "stdout",
     "output_type": "stream",
     "text": [
      "                   all         63        147      0.706      0.629       0.68      0.406\n"
     ]
    },
    {
     "name": "stderr",
     "output_type": "stream",
     "text": [
      "\n"
     ]
    },
    {
     "name": "stdout",
     "output_type": "stream",
     "text": [
      "\n",
      "      Epoch    GPU_mem   box_loss   cls_loss   dfl_loss  Instances       Size\n"
     ]
    },
    {
     "name": "stderr",
     "output_type": "stream",
     "text": [
      "      32/60         0G     0.7037     0.6772      1.003         47        640:  44%|████▍     | 42/95 [09:10<11:31, 13.05s/it]Retrying (Retry(total=237, connect=237, read=240, redirect=240, status=240)) after connection broken by 'NameResolutionError(\"<urllib3.connection.HTTPSConnection object at 0x000001A99AF62FB0>: Failed to resolve 'api.clear.ml' ([Errno 11001] getaddrinfo failed)\")': /v2.23/tasks.ping\n",
      "      32/60         0G     0.7047     0.6765      1.003         62        640:  45%|████▌     | 43/95 [09:23<11:17, 13.03s/it]Retrying (Retry(total=237, connect=237, read=240, redirect=240, status=240)) after connection broken by 'NameResolutionError(\"<urllib3.connection.HTTPSConnection object at 0x000001A99AF60160>: Failed to resolve 'api.clear.ml' ([Errno 11001] getaddrinfo failed)\")': /v2.23/tasks.get_all\n",
      "Retrying (Retry(total=237, connect=237, read=240, redirect=240, status=240)) after connection broken by 'NameResolutionError(\"<urllib3.connection.HTTPSConnection object at 0x000001A99AF637C0>: Failed to resolve 'api.clear.ml' ([Errno 11001] getaddrinfo failed)\")': /v2.23/events.add_batch\n",
      "Retrying (Retry(total=236, connect=236, read=240, redirect=240, status=240)) after connection broken by 'NameResolutionError(\"<urllib3.connection.HTTPSConnection object at 0x000001A99AF610F0>: Failed to resolve 'api.clear.ml' ([Errno 11001] getaddrinfo failed)\")': /v2.23/tasks.ping\n",
      "Retrying (Retry(total=236, connect=236, read=240, redirect=240, status=240)) after connection broken by 'NameResolutionError(\"<urllib3.connection.HTTPSConnection object at 0x000001A99AF62A70>: Failed to resolve 'api.clear.ml' ([Errno 11001] getaddrinfo failed)\")': /v2.23/tasks.get_all\n",
      "\u001b[1;38;5;196mCOMET ERROR:\u001b[0m Heartbeat processing error\n",
      "Retrying (Retry(total=236, connect=236, read=240, redirect=240, status=240)) after connection broken by 'NameResolutionError(\"<urllib3.connection.HTTPSConnection object at 0x000001A99AF62A10>: Failed to resolve 'api.clear.ml' ([Errno 11001] getaddrinfo failed)\")': /v2.23/events.add_batch\n",
      "      32/60         0G     0.7035     0.6754      1.002         88        640:  46%|████▋     | 44/95 [09:36<11:09, 13.12s/it]Retrying (Retry(total=235, connect=235, read=240, redirect=240, status=240)) after connection broken by 'NameResolutionError(\"<urllib3.connection.HTTPSConnection object at 0x000001A99AF60C70>: Failed to resolve 'api.clear.ml' ([Errno 11001] getaddrinfo failed)\")': /v2.23/tasks.ping\n",
      "      32/60         0G     0.7051     0.6764      1.001        119        640:  47%|████▋     | 45/95 [09:50<10:59, 13.20s/it]Retrying (Retry(total=235, connect=235, read=240, redirect=240, status=240)) after connection broken by 'NameResolutionError(\"<urllib3.connection.HTTPSConnection object at 0x000001A99D210340>: Failed to resolve 'api.clear.ml' ([Errno 11001] getaddrinfo failed)\")': /v2.23/tasks.get_all\n",
      "Retrying (Retry(total=235, connect=235, read=240, redirect=240, status=240)) after connection broken by 'NameResolutionError(\"<urllib3.connection.HTTPSConnection object at 0x000001A99D210F70>: Failed to resolve 'api.clear.ml' ([Errno 11001] getaddrinfo failed)\")': /v2.23/events.add_batch\n",
      "Retrying (Retry(total=2, connect=2, read=5, redirect=5, status=None)) after connection broken by 'NameResolutionError(\"<urllib3.connection.HTTPSConnection object at 0x000001A99D213D90>: Failed to resolve 'files.clear.ml' ([Errno 11001] getaddrinfo failed)\")': /\n",
      "Retrying (Retry(total=1, connect=1, read=5, redirect=5, status=None)) after connection broken by 'NameResolutionError(\"<urllib3.connection.HTTPSConnection object at 0x000001A99D2132E0>: Failed to resolve 'files.clear.ml' ([Errno 11001] getaddrinfo failed)\")': /\n",
      "      32/60         0G     0.7065     0.6757      1.001         95        640:  48%|████▊     | 46/95 [10:03<10:44, 13.16s/it]Retrying (Retry(total=0, connect=0, read=5, redirect=5, status=None)) after connection broken by 'NameResolutionError(\"<urllib3.connection.HTTPSConnection object at 0x000001A998632BC0>: Failed to resolve 'files.clear.ml' ([Errno 11001] getaddrinfo failed)\")': /\n",
      "Retrying (Retry(total=2, connect=2, read=5, redirect=5, status=None)) after connection broken by 'NameResolutionError(\"<urllib3.connection.HTTPSConnection object at 0x000001A998633A30>: Failed to resolve 'files.clear.ml' ([Errno 11001] getaddrinfo failed)\")': /\n",
      "Retrying (Retry(total=1, connect=1, read=5, redirect=5, status=None)) after connection broken by 'NameResolutionError(\"<urllib3.connection.HTTPSConnection object at 0x000001A998630040>: Failed to resolve 'files.clear.ml' ([Errno 11001] getaddrinfo failed)\")': /\n",
      "      32/60         0G     0.7065     0.6737          1         75        640:  49%|████▉     | 47/95 [10:16<10:31, 13.16s/it]Retrying (Retry(total=234, connect=234, read=240, redirect=240, status=240)) after connection broken by 'NameResolutionError(\"<urllib3.connection.HTTPSConnection object at 0x000001A99D2113C0>: Failed to resolve 'api.clear.ml' ([Errno 11001] getaddrinfo failed)\")': /v2.23/tasks.ping\n",
      "Retrying (Retry(total=234, connect=234, read=240, redirect=240, status=240)) after connection broken by 'NameResolutionError(\"<urllib3.connection.HTTPSConnection object at 0x000001A99D213AC0>: Failed to resolve 'api.clear.ml' ([Errno 11001] getaddrinfo failed)\")': /v2.23/tasks.get_all\n",
      "Retrying (Retry(total=0, connect=0, read=5, redirect=5, status=None)) after connection broken by 'NameResolutionError(\"<urllib3.connection.HTTPSConnection object at 0x000001A998632350>: Failed to resolve 'files.clear.ml' ([Errno 11001] getaddrinfo failed)\")': /\n"
     ]
    },
    {
     "name": "stdout",
     "output_type": "stream",
     "text": [
      "2024-06-17 10:46:40,453 - clearml.storage - ERROR - Exception encountered while uploading HTTPSConnectionPool(host='files.clear.ml', port=443): Max retries exceeded with url: / (Caused by NameResolutionError(\"<urllib3.connection.HTTPSConnection object at 0x000001A9980B3C10>: Failed to resolve 'files.clear.ml' ([Errno 11001] getaddrinfo failed)\"))\n"
     ]
    },
    {
     "name": "stderr",
     "output_type": "stream",
     "text": [
      "Retrying (Retry(total=234, connect=234, read=240, redirect=240, status=240)) after connection broken by 'NameResolutionError(\"<urllib3.connection.HTTPSConnection object at 0x000001A99D212DA0>: Failed to resolve 'api.clear.ml' ([Errno 11001] getaddrinfo failed)\")': /v2.23/events.add_batch\n",
      "      32/60         0G     0.7039     0.6733      1.001         47        640:  53%|█████▎    | 50/95 [10:56<10:00, 13.34s/it]Retrying (Retry(total=2, connect=2, read=5, redirect=5, status=None)) after connection broken by 'NameResolutionError(\"<urllib3.connection.HTTPSConnection object at 0x000001A99FD73C40>: Failed to resolve 'files.clear.ml' ([Errno 11001] getaddrinfo failed)\")': /\n",
      "Retrying (Retry(total=1, connect=1, read=5, redirect=5, status=None)) after connection broken by 'NameResolutionError(\"<urllib3.connection.HTTPSConnection object at 0x000001A99FD72EC0>: Failed to resolve 'files.clear.ml' ([Errno 11001] getaddrinfo failed)\")': /\n",
      "Retrying (Retry(total=0, connect=0, read=5, redirect=5, status=None)) after connection broken by 'NameResolutionError(\"<urllib3.connection.HTTPSConnection object at 0x000001A99FD70220>: Failed to resolve 'files.clear.ml' ([Errno 11001] getaddrinfo failed)\")': /\n",
      "      32/60         0G     0.7028     0.6731     0.9998         48        640:  54%|█████▎    | 51/95 [11:10<09:53, 13.49s/it]Retrying (Retry(total=2, connect=2, read=5, redirect=5, status=None)) after connection broken by 'NameResolutionError(\"<urllib3.connection.HTTPSConnection object at 0x000001A99FD72350>: Failed to resolve 'files.clear.ml' ([Errno 11001] getaddrinfo failed)\")': /\n",
      "Retrying (Retry(total=1, connect=1, read=5, redirect=5, status=None)) after connection broken by 'NameResolutionError(\"<urllib3.connection.HTTPSConnection object at 0x000001A99FD70D60>: Failed to resolve 'files.clear.ml' ([Errno 11001] getaddrinfo failed)\")': /\n",
      "Retrying (Retry(total=233, connect=233, read=240, redirect=240, status=240)) after connection broken by 'NameResolutionError(\"<urllib3.connection.HTTPSConnection object at 0x000001A998632680>: Failed to resolve 'api.clear.ml' ([Errno 11001] getaddrinfo failed)\")': /v2.23/tasks.ping\n",
      "      32/60         0G     0.7039     0.6779      1.001         52        640:  55%|█████▍    | 52/95 [11:23<09:42, 13.55s/it]Retrying (Retry(total=0, connect=0, read=5, redirect=5, status=None)) after connection broken by 'NameResolutionError(\"<urllib3.connection.HTTPSConnection object at 0x000001A99D34CF70>: Failed to resolve 'files.clear.ml' ([Errno 11001] getaddrinfo failed)\")': /\n",
      "Retrying (Retry(total=233, connect=233, read=240, redirect=240, status=240)) after connection broken by 'NameResolutionError(\"<urllib3.connection.HTTPSConnection object at 0x000001A9980B3E20>: Failed to resolve 'api.clear.ml' ([Errno 11001] getaddrinfo failed)\")': /v2.23/tasks.get_all\n",
      "Retrying (Retry(total=2, connect=2, read=5, redirect=5, status=None)) after connection broken by 'NameResolutionError(\"<urllib3.connection.HTTPSConnection object at 0x000001A99D34CC40>: Failed to resolve 'files.clear.ml' ([Errno 11001] getaddrinfo failed)\")': /\n",
      "Retrying (Retry(total=233, connect=233, read=240, redirect=240, status=240)) after connection broken by 'NameResolutionError(\"<urllib3.connection.HTTPSConnection object at 0x000001A9980B1B10>: Failed to resolve 'api.clear.ml' ([Errno 11001] getaddrinfo failed)\")': /v2.23/events.add_batch\n",
      "Retrying (Retry(total=1, connect=1, read=5, redirect=5, status=None)) after connection broken by 'NameResolutionError(\"<urllib3.connection.HTTPSConnection object at 0x000001A99C3DF5B0>: Failed to resolve 'files.clear.ml' ([Errno 11001] getaddrinfo failed)\")': /\n",
      "      32/60         0G     0.7019      0.676      1.001         85        640:  56%|█████▌    | 53/95 [11:37<09:30, 13.58s/it]Retrying (Retry(total=0, connect=0, read=5, redirect=5, status=None)) after connection broken by 'NameResolutionError(\"<urllib3.connection.HTTPSConnection object at 0x000001A99C3DD870>: Failed to resolve 'files.clear.ml' ([Errno 11001] getaddrinfo failed)\")': /\n"
     ]
    },
    {
     "name": "stdout",
     "output_type": "stream",
     "text": [
      "2024-06-17 10:47:55,672 - clearml.storage - ERROR - Exception encountered while uploading HTTPSConnectionPool(host='files.clear.ml', port=443): Max retries exceeded with url: / (Caused by NameResolutionError(\"<urllib3.connection.HTTPSConnection object at 0x000001A99C3DF040>: Failed to resolve 'files.clear.ml' ([Errno 11001] getaddrinfo failed)\"))\n"
     ]
    },
    {
     "name": "stderr",
     "output_type": "stream",
     "text": [
      "      32/60         0G     0.6991      0.679      1.002         41        640:  58%|█████▊    | 55/95 [12:04<09:00, 13.51s/it]Retrying (Retry(total=2, connect=2, read=5, redirect=5, status=None)) after connection broken by 'NameResolutionError(\"<urllib3.connection.HTTPSConnection object at 0x000001A99C3DD180>: Failed to resolve 'files.clear.ml' ([Errno 11001] getaddrinfo failed)\")': /\n",
      "Retrying (Retry(total=1, connect=1, read=5, redirect=5, status=None)) after connection broken by 'NameResolutionError(\"<urllib3.connection.HTTPSConnection object at 0x000001A99C3DD1B0>: Failed to resolve 'files.clear.ml' ([Errno 11001] getaddrinfo failed)\")': /\n",
      "      32/60         0G     0.6986     0.6804      1.002         53        640:  59%|█████▉    | 56/95 [12:17<08:46, 13.50s/it]Retrying (Retry(total=0, connect=0, read=5, redirect=5, status=None)) after connection broken by 'NameResolutionError(\"<urllib3.connection.HTTPSConnection object at 0x000001A99C3DCBB0>: Failed to resolve 'files.clear.ml' ([Errno 11001] getaddrinfo failed)\")': /\n",
      "Retrying (Retry(total=2, connect=2, read=5, redirect=5, status=None)) after connection broken by 'NameResolutionError(\"<urllib3.connection.HTTPSConnection object at 0x000001A99C3DD2D0>: Failed to resolve 'files.clear.ml' ([Errno 11001] getaddrinfo failed)\")': /\n",
      "Retrying (Retry(total=1, connect=1, read=5, redirect=5, status=None)) after connection broken by 'NameResolutionError(\"<urllib3.connection.HTTPSConnection object at 0x000001A9A52C7880>: Failed to resolve 'files.clear.ml' ([Errno 11001] getaddrinfo failed)\")': /\n",
      "      32/60         0G     0.6978     0.6807      1.002         46        640:  60%|██████    | 57/95 [12:31<08:35, 13.56s/it]Retrying (Retry(total=0, connect=0, read=5, redirect=5, status=None)) after connection broken by 'NameResolutionError(\"<urllib3.connection.HTTPSConnection object at 0x000001A9A52C7850>: Failed to resolve 'files.clear.ml' ([Errno 11001] getaddrinfo failed)\")': /\n",
      "Retrying (Retry(total=2, connect=2, read=5, redirect=5, status=None)) after connection broken by 'NameResolutionError(\"<urllib3.connection.HTTPSConnection object at 0x000001A99FAB1E10>: Failed to resolve 'files.clear.ml' ([Errno 11001] getaddrinfo failed)\")': /\n",
      "      32/60         0G     0.6958     0.6793      1.001         40        640:  61%|██████    | 58/95 [12:45<08:26, 13.68s/it]Retrying (Retry(total=1, connect=1, read=5, redirect=5, status=None)) after connection broken by 'NameResolutionError(\"<urllib3.connection.HTTPSConnection object at 0x000001A99FAB1C00>: Failed to resolve 'files.clear.ml' ([Errno 11001] getaddrinfo failed)\")': /\n",
      "Retrying (Retry(total=0, connect=0, read=5, redirect=5, status=None)) after connection broken by 'NameResolutionError(\"<urllib3.connection.HTTPSConnection object at 0x000001A99FAB29B0>: Failed to resolve 'files.clear.ml' ([Errno 11001] getaddrinfo failed)\")': /\n"
     ]
    },
    {
     "name": "stdout",
     "output_type": "stream",
     "text": [
      "2024-06-17 10:49:10,895 - clearml.storage - ERROR - Exception encountered while uploading HTTPSConnectionPool(host='files.clear.ml', port=443): Max retries exceeded with url: / (Caused by NameResolutionError(\"<urllib3.connection.HTTPSConnection object at 0x000001A99FAB3670>: Failed to resolve 'files.clear.ml' ([Errno 11001] getaddrinfo failed)\"))\n"
     ]
    },
    {
     "name": "stderr",
     "output_type": "stream",
     "text": [
      "      32/60         0G      0.694     0.6904      1.001         74        640:  63%|██████▎   | 60/95 [13:12<07:55, 13.58s/it]Retrying (Retry(total=232, connect=232, read=240, redirect=240, status=240)) after connection broken by 'NameResolutionError(\"<urllib3.connection.HTTPSConnection object at 0x000001A99D34E0B0>: Failed to resolve 'api.clear.ml' ([Errno 11001] getaddrinfo failed)\")': /v2.23/tasks.ping\n",
      "      32/60         0G      0.692     0.6891          1         68        640:  64%|██████▍   | 61/95 [13:26<07:46, 13.71s/it]Retrying (Retry(total=232, connect=232, read=240, redirect=240, status=240)) after connection broken by 'NameResolutionError(\"<urllib3.connection.HTTPSConnection object at 0x000001A99D34C070>: Failed to resolve 'api.clear.ml' ([Errno 11001] getaddrinfo failed)\")': /v2.23/tasks.get_all\n",
      "Retrying (Retry(total=2, connect=2, read=5, redirect=5, status=None)) after connection broken by 'NameResolutionError(\"<urllib3.connection.HTTPSConnection object at 0x000001A99FAB2D40>: Failed to resolve 'files.clear.ml' ([Errno 11001] getaddrinfo failed)\")': /\n",
      "Retrying (Retry(total=232, connect=232, read=240, redirect=240, status=240)) after connection broken by 'NameResolutionError(\"<urllib3.connection.HTTPSConnection object at 0x000001A99C3DF1F0>: Failed to resolve 'api.clear.ml' ([Errno 11001] getaddrinfo failed)\")': /v2.23/events.add_batch\n",
      "Retrying (Retry(total=1, connect=1, read=5, redirect=5, status=None)) after connection broken by 'NameResolutionError(\"<urllib3.connection.HTTPSConnection object at 0x000001A9A7347C40>: Failed to resolve 'files.clear.ml' ([Errno 11001] getaddrinfo failed)\")': /\n",
      "Retrying (Retry(total=0, connect=0, read=5, redirect=5, status=None)) after connection broken by 'NameResolutionError(\"<urllib3.connection.HTTPSConnection object at 0x000001A9A7346AD0>: Failed to resolve 'files.clear.ml' ([Errno 11001] getaddrinfo failed)\")': /\n",
      "      32/60         0G     0.6938     0.6918      1.001         44        640:  65%|██████▌   | 62/95 [13:40<07:30, 13.65s/it]Retrying (Retry(total=2, connect=2, read=5, redirect=5, status=None)) after connection broken by 'NameResolutionError(\"<urllib3.connection.HTTPSConnection object at 0x000001A9A7345B40>: Failed to resolve 'files.clear.ml' ([Errno 11001] getaddrinfo failed)\")': /\n",
      "Retrying (Retry(total=1, connect=1, read=5, redirect=5, status=None)) after connection broken by 'NameResolutionError(\"<urllib3.connection.HTTPSConnection object at 0x000001A9A73450F0>: Failed to resolve 'files.clear.ml' ([Errno 11001] getaddrinfo failed)\")': /\n",
      "      32/60         0G     0.6944     0.6952      1.002         33        640:  66%|██████▋   | 63/95 [13:53<07:15, 13.61s/it]Retrying (Retry(total=0, connect=0, read=5, redirect=5, status=None)) after connection broken by 'NameResolutionError(\"<urllib3.connection.HTTPSConnection object at 0x000001A9A7347B50>: Failed to resolve 'files.clear.ml' ([Errno 11001] getaddrinfo failed)\")': /\n",
      "Retrying (Retry(total=2, connect=2, read=5, redirect=5, status=None)) after connection broken by 'NameResolutionError(\"<urllib3.connection.HTTPSConnection object at 0x000001A99F57E9E0>: Failed to resolve 'files.clear.ml' ([Errno 11001] getaddrinfo failed)\")': /\n",
      "Retrying (Retry(total=1, connect=1, read=5, redirect=5, status=None)) after connection broken by 'NameResolutionError(\"<urllib3.connection.HTTPSConnection object at 0x000001A99F57F850>: Failed to resolve 'files.clear.ml' ([Errno 11001] getaddrinfo failed)\")': /\n",
      "      32/60         0G      0.694     0.6938      1.003         39        640:  67%|██████▋   | 64/95 [14:07<07:00, 13.56s/it]Retrying (Retry(total=0, connect=0, read=5, redirect=5, status=None)) after connection broken by 'NameResolutionError(\"<urllib3.connection.HTTPSConnection object at 0x000001A99F57F970>: Failed to resolve 'files.clear.ml' ([Errno 11001] getaddrinfo failed)\")': /\n"
     ]
    },
    {
     "name": "stdout",
     "output_type": "stream",
     "text": [
      "2024-06-17 10:50:26,095 - clearml.storage - ERROR - Exception encountered while uploading HTTPSConnectionPool(host='files.clear.ml', port=443): Max retries exceeded with url: / (Caused by NameResolutionError(\"<urllib3.connection.HTTPSConnection object at 0x000001A99F57DDE0>: Failed to resolve 'files.clear.ml' ([Errno 11001] getaddrinfo failed)\"))\n"
     ]
    },
    {
     "name": "stderr",
     "output_type": "stream",
     "text": [
      "      32/60         0G     0.6938     0.6966      1.003         46        640:  69%|██████▉   | 66/95 [14:34<06:34, 13.60s/it]Retrying (Retry(total=2, connect=2, read=5, redirect=5, status=None)) after connection broken by 'NameResolutionError(\"<urllib3.connection.HTTPSConnection object at 0x000001A99F57E560>: Failed to resolve 'files.clear.ml' ([Errno 11001] getaddrinfo failed)\")': /\n",
      "Retrying (Retry(total=1, connect=1, read=5, redirect=5, status=None)) after connection broken by 'NameResolutionError(\"<urllib3.connection.HTTPSConnection object at 0x000001A9A73463B0>: Failed to resolve 'files.clear.ml' ([Errno 11001] getaddrinfo failed)\")': /\n",
      "      32/60         0G     0.6924     0.6954      1.002         54        640:  71%|███████   | 67/95 [14:47<06:20, 13.61s/it]Retrying (Retry(total=0, connect=0, read=5, redirect=5, status=None)) after connection broken by 'NameResolutionError(\"<urllib3.connection.HTTPSConnection object at 0x000001A99F57E6E0>: Failed to resolve 'files.clear.ml' ([Errno 11001] getaddrinfo failed)\")': /\n",
      "Retrying (Retry(total=2, connect=2, read=5, redirect=5, status=None)) after connection broken by 'NameResolutionError(\"<urllib3.connection.HTTPSConnection object at 0x000001A9A7370730>: Failed to resolve 'files.clear.ml' ([Errno 11001] getaddrinfo failed)\")': /\n",
      "Retrying (Retry(total=1, connect=1, read=5, redirect=5, status=None)) after connection broken by 'NameResolutionError(\"<urllib3.connection.HTTPSConnection object at 0x000001A9A7371C30>: Failed to resolve 'files.clear.ml' ([Errno 11001] getaddrinfo failed)\")': /\n",
      "      32/60         0G     0.6928     0.6977      1.002         41        640:  72%|███████▏  | 68/95 [15:01<06:08, 13.64s/it]Retrying (Retry(total=0, connect=0, read=5, redirect=5, status=None)) after connection broken by 'NameResolutionError(\"<urllib3.connection.HTTPSConnection object at 0x000001A9A7370C40>: Failed to resolve 'files.clear.ml' ([Errno 11001] getaddrinfo failed)\")': /\n",
      "Retrying (Retry(total=2, connect=2, read=5, redirect=5, status=None)) after connection broken by 'NameResolutionError(\"<urllib3.connection.HTTPSConnection object at 0x000001A99F567DF0>: Failed to resolve 'files.clear.ml' ([Errno 11001] getaddrinfo failed)\")': /\n",
      "      32/60         0G     0.6941     0.6979      1.003         58        640:  73%|███████▎  | 69/95 [15:15<05:55, 13.66s/it]Retrying (Retry(total=1, connect=1, read=5, redirect=5, status=None)) after connection broken by 'NameResolutionError(\"<urllib3.connection.HTTPSConnection object at 0x000001A99F567AC0>: Failed to resolve 'files.clear.ml' ([Errno 11001] getaddrinfo failed)\")': /\n",
      "Retrying (Retry(total=231, connect=231, read=240, redirect=240, status=240)) after connection broken by 'NameResolutionError(\"<urllib3.connection.HTTPSConnection object at 0x000001A99FAB2740>: Failed to resolve 'api.clear.ml' ([Errno 11001] getaddrinfo failed)\")': /v2.23/tasks.ping\n",
      "Retrying (Retry(total=0, connect=0, read=5, redirect=5, status=None)) after connection broken by 'NameResolutionError(\"<urllib3.connection.HTTPSConnection object at 0x000001A99F567910>: Failed to resolve 'files.clear.ml' ([Errno 11001] getaddrinfo failed)\")': /\n"
     ]
    },
    {
     "name": "stdout",
     "output_type": "stream",
     "text": [
      "2024-06-17 10:51:41,330 - clearml.storage - ERROR - Exception encountered while uploading HTTPSConnectionPool(host='files.clear.ml', port=443): Max retries exceeded with url: / (Caused by NameResolutionError(\"<urllib3.connection.HTTPSConnection object at 0x000001A99F5652D0>: Failed to resolve 'files.clear.ml' ([Errno 11001] getaddrinfo failed)\"))\n"
     ]
    },
    {
     "name": "stderr",
     "output_type": "stream",
     "text": [
      "Retrying (Retry(total=231, connect=231, read=240, redirect=240, status=240)) after connection broken by 'NameResolutionError(\"<urllib3.connection.HTTPSConnection object at 0x000001A9A73441C0>: Failed to resolve 'api.clear.ml' ([Errno 11001] getaddrinfo failed)\")': /v2.23/tasks.get_all\n",
      "Retrying (Retry(total=231, connect=231, read=240, redirect=240, status=240)) after connection broken by 'NameResolutionError(\"<urllib3.connection.HTTPSConnection object at 0x000001A9A7346B30>: Failed to resolve 'api.clear.ml' ([Errno 11001] getaddrinfo failed)\")': /v2.23/events.add_batch\n",
      "      32/60         0G      0.696     0.7001      1.002        104        640:  76%|███████▌  | 72/95 [15:56<05:17, 13.78s/it]Retrying (Retry(total=2, connect=2, read=5, redirect=5, status=None)) after connection broken by 'NameResolutionError(\"<urllib3.connection.HTTPSConnection object at 0x000001A99F564F70>: Failed to resolve 'files.clear.ml' ([Errno 11001] getaddrinfo failed)\")': /\n",
      "Retrying (Retry(total=1, connect=1, read=5, redirect=5, status=None)) after connection broken by 'NameResolutionError(\"<urllib3.connection.HTTPSConnection object at 0x000001A99F565120>: Failed to resolve 'files.clear.ml' ([Errno 11001] getaddrinfo failed)\")': /\n",
      "Retrying (Retry(total=0, connect=0, read=5, redirect=5, status=None)) after connection broken by 'NameResolutionError(\"<urllib3.connection.HTTPSConnection object at 0x000001A9A7371990>: Failed to resolve 'files.clear.ml' ([Errno 11001] getaddrinfo failed)\")': /\n",
      "      32/60         0G     0.6951     0.6993      1.001         85        640:  77%|███████▋  | 73/95 [16:10<05:02, 13.74s/it]Retrying (Retry(total=2, connect=2, read=5, redirect=5, status=None)) after connection broken by 'NameResolutionError(\"<urllib3.connection.HTTPSConnection object at 0x000001A9A73AD810>: Failed to resolve 'files.clear.ml' ([Errno 11001] getaddrinfo failed)\")': /\n",
      "Retrying (Retry(total=1, connect=1, read=5, redirect=5, status=None)) after connection broken by 'NameResolutionError(\"<urllib3.connection.HTTPSConnection object at 0x000001A9A73AE0B0>: Failed to resolve 'files.clear.ml' ([Errno 11001] getaddrinfo failed)\")': /\n",
      "      32/60         0G     0.6953     0.7015      1.002         38        640:  78%|███████▊  | 74/95 [16:24<04:47, 13.71s/it]Retrying (Retry(total=0, connect=0, read=5, redirect=5, status=None)) after connection broken by 'NameResolutionError(\"<urllib3.connection.HTTPSConnection object at 0x000001A9A73AD240>: Failed to resolve 'files.clear.ml' ([Errno 11001] getaddrinfo failed)\")': /\n",
      "Retrying (Retry(total=2, connect=2, read=5, redirect=5, status=None)) after connection broken by 'NameResolutionError(\"<urllib3.connection.HTTPSConnection object at 0x000001A9A25EE020>: Failed to resolve 'files.clear.ml' ([Errno 11001] getaddrinfo failed)\")': /\n",
      "Retrying (Retry(total=1, connect=1, read=5, redirect=5, status=None)) after connection broken by 'NameResolutionError(\"<urllib3.connection.HTTPSConnection object at 0x000001A9A25EF460>: Failed to resolve 'files.clear.ml' ([Errno 11001] getaddrinfo failed)\")': /\n",
      "      32/60         0G      0.695        0.7      1.002         57        640:  79%|███████▉  | 75/95 [16:37<04:33, 13.69s/it]Retrying (Retry(total=0, connect=0, read=5, redirect=5, status=None)) after connection broken by 'NameResolutionError(\"<urllib3.connection.HTTPSConnection object at 0x000001A9A25ED300>: Failed to resolve 'files.clear.ml' ([Errno 11001] getaddrinfo failed)\")': /\n"
     ]
    },
    {
     "name": "stdout",
     "output_type": "stream",
     "text": [
      "2024-06-17 10:52:56,533 - clearml.storage - ERROR - Exception encountered while uploading HTTPSConnectionPool(host='files.clear.ml', port=443): Max retries exceeded with url: / (Caused by NameResolutionError(\"<urllib3.connection.HTTPSConnection object at 0x000001A9A25ED240>: Failed to resolve 'files.clear.ml' ([Errno 11001] getaddrinfo failed)\"))\n"
     ]
    },
    {
     "name": "stderr",
     "output_type": "stream",
     "text": [
      "      32/60         0G     0.6946     0.6973      1.002         71        640:  81%|████████  | 77/95 [17:05<04:06, 13.70s/it]Retrying (Retry(total=2, connect=2, read=5, redirect=5, status=None)) after connection broken by 'NameResolutionError(\"<urllib3.connection.HTTPSConnection object at 0x000001A9A256BEE0>: Failed to resolve 'files.clear.ml' ([Errno 11001] getaddrinfo failed)\")': /\n",
      "Retrying (Retry(total=1, connect=1, read=5, redirect=5, status=None)) after connection broken by 'NameResolutionError(\"<urllib3.connection.HTTPSConnection object at 0x000001A9A2569240>: Failed to resolve 'files.clear.ml' ([Errno 11001] getaddrinfo failed)\")': /\n",
      "      32/60         0G     0.6941     0.6992      1.003         45        640:  82%|████████▏ | 78/95 [17:19<03:54, 13.79s/it]Retrying (Retry(total=230, connect=230, read=240, redirect=240, status=240)) after connection broken by 'NameResolutionError(\"<urllib3.connection.HTTPSConnection object at 0x000001A99F564E20>: Failed to resolve 'api.clear.ml' ([Errno 11001] getaddrinfo failed)\")': /v2.23/tasks.ping\n",
      "Retrying (Retry(total=0, connect=0, read=5, redirect=5, status=None)) after connection broken by 'NameResolutionError(\"<urllib3.connection.HTTPSConnection object at 0x000001A9A256A9B0>: Failed to resolve 'files.clear.ml' ([Errno 11001] getaddrinfo failed)\")': /\n",
      "Retrying (Retry(total=230, connect=230, read=240, redirect=240, status=240)) after connection broken by 'NameResolutionError(\"<urllib3.connection.HTTPSConnection object at 0x000001A99F564A00>: Failed to resolve 'api.clear.ml' ([Errno 11001] getaddrinfo failed)\")': /v2.23/tasks.get_all\n",
      "Retrying (Retry(total=2, connect=2, read=5, redirect=5, status=None)) after connection broken by 'NameResolutionError(\"<urllib3.connection.HTTPSConnection object at 0x000001A9A256B730>: Failed to resolve 'files.clear.ml' ([Errno 11001] getaddrinfo failed)\")': /\n",
      "Retrying (Retry(total=230, connect=230, read=240, redirect=240, status=240)) after connection broken by 'NameResolutionError(\"<urllib3.connection.HTTPSConnection object at 0x000001A99F5666E0>: Failed to resolve 'api.clear.ml' ([Errno 11001] getaddrinfo failed)\")': /v2.23/events.add_batch\n",
      "Retrying (Retry(total=1, connect=1, read=5, redirect=5, status=None)) after connection broken by 'NameResolutionError(\"<urllib3.connection.HTTPSConnection object at 0x000001A9A25EFB20>: Failed to resolve 'files.clear.ml' ([Errno 11001] getaddrinfo failed)\")': /\n",
      "      32/60         0G     0.6927     0.6988      1.002         39        640:  83%|████████▎ | 79/95 [17:33<03:41, 13.83s/it]Retrying (Retry(total=0, connect=0, read=5, redirect=5, status=None)) after connection broken by 'NameResolutionError(\"<urllib3.connection.HTTPSConnection object at 0x000001A99A5B8C40>: Failed to resolve 'files.clear.ml' ([Errno 11001] getaddrinfo failed)\")': /\n",
      "Retrying (Retry(total=2, connect=2, read=5, redirect=5, status=None)) after connection broken by 'NameResolutionError(\"<urllib3.connection.HTTPSConnection object at 0x000001A99A5BB1F0>: Failed to resolve 'files.clear.ml' ([Errno 11001] getaddrinfo failed)\")': /\n",
      "      32/60         0G      0.694     0.6991      1.002         62        640:  84%|████████▍ | 80/95 [17:46<03:27, 13.82s/it]Retrying (Retry(total=1, connect=1, read=5, redirect=5, status=None)) after connection broken by 'NameResolutionError(\"<urllib3.connection.HTTPSConnection object at 0x000001A99A5B9120>: Failed to resolve 'files.clear.ml' ([Errno 11001] getaddrinfo failed)\")': /\n",
      "Retrying (Retry(total=0, connect=0, read=5, redirect=5, status=None)) after connection broken by 'NameResolutionError(\"<urllib3.connection.HTTPSConnection object at 0x000001A99A5BAD40>: Failed to resolve 'files.clear.ml' ([Errno 11001] getaddrinfo failed)\")': /\n"
     ]
    },
    {
     "name": "stdout",
     "output_type": "stream",
     "text": [
      "2024-06-17 10:54:11,742 - clearml.storage - ERROR - Exception encountered while uploading HTTPSConnectionPool(host='files.clear.ml', port=443): Max retries exceeded with url: / (Caused by NameResolutionError(\"<urllib3.connection.HTTPSConnection object at 0x000001A99A5BA9E0>: Failed to resolve 'files.clear.ml' ([Errno 11001] getaddrinfo failed)\"))\n"
     ]
    },
    {
     "name": "stderr",
     "output_type": "stream",
     "text": [
      "      32/60         0G      0.694     0.6963      1.003         67        640:  87%|████████▋ | 83/95 [18:27<02:44, 13.73s/it]Retrying (Retry(total=2, connect=2, read=5, redirect=5, status=None)) after connection broken by 'NameResolutionError(\"<urllib3.connection.HTTPSConnection object at 0x000001A99AFA2740>: Failed to resolve 'files.clear.ml' ([Errno 11001] getaddrinfo failed)\")': /\n",
      "Retrying (Retry(total=1, connect=1, read=5, redirect=5, status=None)) after connection broken by 'NameResolutionError(\"<urllib3.connection.HTTPSConnection object at 0x000001A99FFBF160>: Failed to resolve 'files.clear.ml' ([Errno 11001] getaddrinfo failed)\")': /\n",
      "Retrying (Retry(total=0, connect=0, read=5, redirect=5, status=None)) after connection broken by 'NameResolutionError(\"<urllib3.connection.HTTPSConnection object at 0x000001A99FFBCB50>: Failed to resolve 'files.clear.ml' ([Errno 11001] getaddrinfo failed)\")': /\n",
      "      32/60         0G     0.6929     0.6949      1.002         54        640:  88%|████████▊ | 84/95 [18:41<02:30, 13.65s/it]Retrying (Retry(total=2, connect=2, read=5, redirect=5, status=None)) after connection broken by 'NameResolutionError(\"<urllib3.connection.HTTPSConnection object at 0x000001A9A953E860>: Failed to resolve 'files.clear.ml' ([Errno 11001] getaddrinfo failed)\")': /\n",
      "Retrying (Retry(total=1, connect=1, read=5, redirect=5, status=None)) after connection broken by 'NameResolutionError(\"<urllib3.connection.HTTPSConnection object at 0x000001A9A953D0C0>: Failed to resolve 'files.clear.ml' ([Errno 11001] getaddrinfo failed)\")': /\n",
      "Retrying (Retry(total=0, connect=0, read=5, redirect=5, status=None)) after connection broken by 'NameResolutionError(\"<urllib3.connection.HTTPSConnection object at 0x000001A9A953E020>: Failed to resolve 'files.clear.ml' ([Errno 11001] getaddrinfo failed)\")': /\n",
      "      32/60         0G     0.6926     0.6945      1.002         57        640:  89%|████████▉ | 85/95 [18:55<02:17, 13.73s/it]Retrying (Retry(total=2, connect=2, read=5, redirect=5, status=None)) after connection broken by 'NameResolutionError(\"<urllib3.connection.HTTPSConnection object at 0x000001A9A953E740>: Failed to resolve 'files.clear.ml' ([Errno 11001] getaddrinfo failed)\")': /\n",
      "Retrying (Retry(total=1, connect=1, read=5, redirect=5, status=None)) after connection broken by 'NameResolutionError(\"<urllib3.connection.HTTPSConnection object at 0x000001A9A953D4B0>: Failed to resolve 'files.clear.ml' ([Errno 11001] getaddrinfo failed)\")': /\n",
      "      32/60         0G     0.6917      0.695      1.002         64        640:  91%|█████████ | 86/95 [19:08<02:03, 13.71s/it]Retrying (Retry(total=0, connect=0, read=5, redirect=5, status=None)) after connection broken by 'NameResolutionError(\"<urllib3.connection.HTTPSConnection object at 0x000001A9A953C700>: Failed to resolve 'files.clear.ml' ([Errno 11001] getaddrinfo failed)\")': /\n"
     ]
    },
    {
     "name": "stdout",
     "output_type": "stream",
     "text": [
      "2024-06-17 10:55:26,946 - clearml.storage - ERROR - Exception encountered while uploading HTTPSConnectionPool(host='files.clear.ml', port=443): Max retries exceeded with url: / (Caused by NameResolutionError(\"<urllib3.connection.HTTPSConnection object at 0x000001A9A2689F60>: Failed to resolve 'files.clear.ml' ([Errno 11001] getaddrinfo failed)\"))\n"
     ]
    },
    {
     "name": "stderr",
     "output_type": "stream",
     "text": [
      "Retrying (Retry(total=229, connect=229, read=240, redirect=240, status=240)) after connection broken by 'NameResolutionError(\"<urllib3.connection.HTTPSConnection object at 0x000001A9A256A980>: Failed to resolve 'api.clear.ml' ([Errno 11001] getaddrinfo failed)\")': /v2.23/tasks.ping\n",
      "      32/60         0G     0.6923      0.695      1.002         73        640:  92%|█████████▏| 87/95 [19:22<01:49, 13.71s/it]Retrying (Retry(total=229, connect=229, read=240, redirect=240, status=240)) after connection broken by 'NameResolutionError(\"<urllib3.connection.HTTPSConnection object at 0x000001A9A25EDA50>: Failed to resolve 'api.clear.ml' ([Errno 11001] getaddrinfo failed)\")': /v2.23/tasks.get_all\n",
      "Retrying (Retry(total=229, connect=229, read=240, redirect=240, status=240)) after connection broken by 'NameResolutionError(\"<urllib3.connection.HTTPSConnection object at 0x000001A9A73733D0>: Failed to resolve 'api.clear.ml' ([Errno 11001] getaddrinfo failed)\")': /v2.23/events.add_batch\n",
      "      32/60         0G     0.6916     0.6933      1.001         85        640:  93%|█████████▎| 88/95 [19:36<01:36, 13.84s/it]Retrying (Retry(total=2, connect=2, read=5, redirect=5, status=None)) after connection broken by 'NameResolutionError(\"<urllib3.connection.HTTPSConnection object at 0x000001A9A2688DC0>: Failed to resolve 'files.clear.ml' ([Errno 11001] getaddrinfo failed)\")': /\n",
      "Retrying (Retry(total=1, connect=1, read=5, redirect=5, status=None)) after connection broken by 'NameResolutionError(\"<urllib3.connection.HTTPSConnection object at 0x000001A9A2689750>: Failed to resolve 'files.clear.ml' ([Errno 11001] getaddrinfo failed)\")': /\n",
      "      32/60         0G     0.6917     0.6936      1.001         69        640:  94%|█████████▎| 89/95 [19:50<01:22, 13.79s/it]Retrying (Retry(total=0, connect=0, read=5, redirect=5, status=None)) after connection broken by 'NameResolutionError(\"<urllib3.connection.HTTPSConnection object at 0x000001A9A2689C30>: Failed to resolve 'files.clear.ml' ([Errno 11001] getaddrinfo failed)\")': /\n",
      "Retrying (Retry(total=2, connect=2, read=5, redirect=5, status=None)) after connection broken by 'NameResolutionError(\"<urllib3.connection.HTTPSConnection object at 0x000001A9AA6D8B50>: Failed to resolve 'files.clear.ml' ([Errno 11001] getaddrinfo failed)\")': /\n",
      "Retrying (Retry(total=1, connect=1, read=5, redirect=5, status=None)) after connection broken by 'NameResolutionError(\"<urllib3.connection.HTTPSConnection object at 0x000001A9AA6D85E0>: Failed to resolve 'files.clear.ml' ([Errno 11001] getaddrinfo failed)\")': /\n",
      "      32/60         0G      0.692     0.6922      1.001         75        640:  95%|█████████▍| 90/95 [20:04<01:09, 13.88s/it]Retrying (Retry(total=0, connect=0, read=5, redirect=5, status=None)) after connection broken by 'NameResolutionError(\"<urllib3.connection.HTTPSConnection object at 0x000001A9AA6D83D0>: Failed to resolve 'files.clear.ml' ([Errno 11001] getaddrinfo failed)\")': /\n",
      "Retrying (Retry(total=2, connect=2, read=5, redirect=5, status=None)) after connection broken by 'NameResolutionError(\"<urllib3.connection.HTTPSConnection object at 0x000001A9AA6D8460>: Failed to resolve 'files.clear.ml' ([Errno 11001] getaddrinfo failed)\")': /\n",
      "Retrying (Retry(total=1, connect=1, read=5, redirect=5, status=None)) after connection broken by 'NameResolutionError(\"<urllib3.connection.HTTPSConnection object at 0x000001A9AA6DB0A0>: Failed to resolve 'files.clear.ml' ([Errno 11001] getaddrinfo failed)\")': /\n",
      "      32/60         0G     0.6933     0.6922      1.002         61        640:  96%|█████████▌| 91/95 [20:18<00:55, 13.85s/it]Retrying (Retry(total=0, connect=0, read=5, redirect=5, status=None)) after connection broken by 'NameResolutionError(\"<urllib3.connection.HTTPSConnection object at 0x000001A9AA6D9960>: Failed to resolve 'files.clear.ml' ([Errno 11001] getaddrinfo failed)\")': /\n"
     ]
    },
    {
     "name": "stdout",
     "output_type": "stream",
     "text": [
      "2024-06-17 10:56:42,157 - clearml.storage - ERROR - Exception encountered while uploading HTTPSConnectionPool(host='files.clear.ml', port=443): Max retries exceeded with url: / (Caused by NameResolutionError(\"<urllib3.connection.HTTPSConnection object at 0x000001A9AA6D9E10>: Failed to resolve 'files.clear.ml' ([Errno 11001] getaddrinfo failed)\"))\n"
     ]
    },
    {
     "name": "stderr",
     "output_type": "stream",
     "text": [
      "      32/60         0G     0.6935     0.6924      1.002         57        640:  98%|█████████▊| 93/95 [20:46<00:27, 13.83s/it]Retrying (Retry(total=2, connect=2, read=5, redirect=5, status=None)) after connection broken by 'NameResolutionError(\"<urllib3.connection.HTTPSConnection object at 0x000001A99D414910>: Failed to resolve 'files.clear.ml' ([Errno 11001] getaddrinfo failed)\")': /\n",
      "      32/60         0G     0.6923     0.6926      1.001         63        640:  99%|█████████▉| 94/95 [21:00<00:13, 13.91s/it]Retrying (Retry(total=1, connect=1, read=5, redirect=5, status=None)) after connection broken by 'NameResolutionError(\"<urllib3.connection.HTTPSConnection object at 0x000001A99D415480>: Failed to resolve 'files.clear.ml' ([Errno 11001] getaddrinfo failed)\")': /\n",
      "      32/60         0G     0.6928     0.6961      1.001         38        640: 100%|██████████| 95/95 [21:09<00:00, 13.37s/it]\n",
      "                 Class     Images  Instances      Box(P          R      mAP50  mAP50-95):   0%|          | 0/2 [00:00<?, ?it/s]Retrying (Retry(total=0, connect=0, read=5, redirect=5, status=None)) after connection broken by 'NameResolutionError(\"<urllib3.connection.HTTPSConnection object at 0x000001A99D417E50>: Failed to resolve 'files.clear.ml' ([Errno 11001] getaddrinfo failed)\")': /\n",
      "Retrying (Retry(total=2, connect=2, read=5, redirect=5, status=None)) after connection broken by 'NameResolutionError(\"<urllib3.connection.HTTPSConnection object at 0x000001A99FD470D0>: Failed to resolve 'files.clear.ml' ([Errno 11001] getaddrinfo failed)\")': /\n",
      "Retrying (Retry(total=1, connect=1, read=5, redirect=5, status=None)) after connection broken by 'NameResolutionError(\"<urllib3.connection.HTTPSConnection object at 0x000001A99FCC2830>: Failed to resolve 'files.clear.ml' ([Errno 11001] getaddrinfo failed)\")': /\n",
      "Retrying (Retry(total=237, connect=237, read=240, redirect=240, status=240)) after connection broken by 'NameResolutionError(\"<urllib3.connection.HTTPSConnection object at 0x000001A99FCC26B0>: Failed to resolve 'api.clear.ml' ([Errno 11001] getaddrinfo failed)\")': /v2.23/events.add_batch\n",
      "                 Class     Images  Instances      Box(P          R      mAP50  mAP50-95):  50%|█████     | 1/2 [00:12<00:12, 12.09s/it]Retrying (Retry(total=228, connect=228, read=240, redirect=240, status=240)) after connection broken by 'NameResolutionError(\"<urllib3.connection.HTTPSConnection object at 0x000001A9A268ADA0>: Failed to resolve 'api.clear.ml' ([Errno 11001] getaddrinfo failed)\")': /v2.23/tasks.ping\n",
      "Retrying (Retry(total=0, connect=0, read=5, redirect=5, status=None)) after connection broken by 'NameResolutionError(\"<urllib3.connection.HTTPSConnection object at 0x000001A99FCC21D0>: Failed to resolve 'files.clear.ml' ([Errno 11001] getaddrinfo failed)\")': /\n",
      "Retrying (Retry(total=236, connect=236, read=240, redirect=240, status=240)) after connection broken by 'NameResolutionError(\"<urllib3.connection.HTTPSConnection object at 0x000001A99FCC1C90>: Failed to resolve 'api.clear.ml' ([Errno 11001] getaddrinfo failed)\")': /v2.23/events.add_batch\n",
      "Retrying (Retry(total=228, connect=228, read=240, redirect=240, status=240)) after connection broken by 'NameResolutionError(\"<urllib3.connection.HTTPSConnection object at 0x000001A9A2688100>: Failed to resolve 'api.clear.ml' ([Errno 11001] getaddrinfo failed)\")': /v2.23/tasks.get_all\n",
      "Retrying (Retry(total=228, connect=228, read=240, redirect=240, status=240)) after connection broken by 'NameResolutionError(\"<urllib3.connection.HTTPSConnection object at 0x000001A9A2689540>: Failed to resolve 'api.clear.ml' ([Errno 11001] getaddrinfo failed)\")': /v2.23/events.add_batch\n",
      "Retrying (Retry(total=2, connect=2, read=5, redirect=5, status=None)) after connection broken by 'NameResolutionError(\"<urllib3.connection.HTTPSConnection object at 0x000001A99FCC34C0>: Failed to resolve 'files.clear.ml' ([Errno 11001] getaddrinfo failed)\")': /\n",
      "Retrying (Retry(total=1, connect=1, read=5, redirect=5, status=None)) after connection broken by 'NameResolutionError(\"<urllib3.connection.HTTPSConnection object at 0x000001A99FCC34F0>: Failed to resolve 'files.clear.ml' ([Errno 11001] getaddrinfo failed)\")': /\n",
      "                 Class     Images  Instances      Box(P          R      mAP50  mAP50-95): 100%|██████████| 2/2 [00:23<00:00, 11.98s/it]"
     ]
    },
    {
     "name": "stdout",
     "output_type": "stream",
     "text": [
      "                   all         63        147      0.687      0.628      0.651      0.356\n"
     ]
    },
    {
     "name": "stderr",
     "output_type": "stream",
     "text": [
      "\n"
     ]
    },
    {
     "name": "stdout",
     "output_type": "stream",
     "text": [
      "\n",
      "      Epoch    GPU_mem   box_loss   cls_loss   dfl_loss  Instances       Size\n"
     ]
    },
    {
     "name": "stderr",
     "output_type": "stream",
     "text": [
      "  0%|          | 0/95 [00:00<?, ?it/s]Retrying (Retry(total=0, connect=0, read=5, redirect=5, status=None)) after connection broken by 'NameResolutionError(\"<urllib3.connection.HTTPSConnection object at 0x000001A99FF94850>: Failed to resolve 'files.clear.ml' ([Errno 11001] getaddrinfo failed)\")': /\n"
     ]
    },
    {
     "name": "stdout",
     "output_type": "stream",
     "text": [
      "2024-06-17 10:57:57,404 - clearml.storage - ERROR - Exception encountered while uploading HTTPSConnectionPool(host='files.clear.ml', port=443): Max retries exceeded with url: / (Caused by NameResolutionError(\"<urllib3.connection.HTTPSConnection object at 0x000001A9A7344A90>: Failed to resolve 'files.clear.ml' ([Errno 11001] getaddrinfo failed)\"))\n"
     ]
    },
    {
     "name": "stderr",
     "output_type": "stream",
     "text": [
      "Retrying (Retry(total=235, connect=235, read=240, redirect=240, status=240)) after connection broken by 'NameResolutionError(\"<urllib3.connection.HTTPSConnection object at 0x000001A99FCC03D0>: Failed to resolve 'api.clear.ml' ([Errno 11001] getaddrinfo failed)\")': /v2.23/events.add_batch\n",
      "      33/60         0G      0.723       0.67      1.021         39        640:   2%|▏         | 2/95 [00:27<20:58, 13.53s/it]Retrying (Retry(total=2, connect=2, read=5, redirect=5, status=None)) after connection broken by 'NameResolutionError(\"<urllib3.connection.HTTPSConnection object at 0x000001A9A73446A0>: Failed to resolve 'files.clear.ml' ([Errno 11001] getaddrinfo failed)\")': /\n",
      "Retrying (Retry(total=234, connect=234, read=240, redirect=240, status=240)) after connection broken by 'NameResolutionError(\"<urllib3.connection.HTTPSConnection object at 0x000001A9A7347340>: Failed to resolve 'api.clear.ml' ([Errno 11001] getaddrinfo failed)\")': /v2.23/events.add_batch\n",
      "      33/60         0G     0.7335     0.6942      1.032         54        640:   3%|▎         | 3/95 [00:40<20:55, 13.64s/it]Retrying (Retry(total=1, connect=1, read=5, redirect=5, status=None)) after connection broken by 'NameResolutionError(\"<urllib3.connection.HTTPSConnection object at 0x000001A9A7344640>: Failed to resolve 'files.clear.ml' ([Errno 11001] getaddrinfo failed)\")': /\n",
      "Retrying (Retry(total=0, connect=0, read=5, redirect=5, status=None)) after connection broken by 'NameResolutionError(\"<urllib3.connection.HTTPSConnection object at 0x000001A99C3DEDA0>: Failed to resolve 'files.clear.ml' ([Errno 11001] getaddrinfo failed)\")': /\n",
      "Retrying (Retry(total=2, connect=2, read=5, redirect=5, status=None)) after connection broken by 'NameResolutionError(\"<urllib3.connection.HTTPSConnection object at 0x000001A99C3DF430>: Failed to resolve 'files.clear.ml' ([Errno 11001] getaddrinfo failed)\")': /\n",
      "      33/60         0G     0.7531     0.6971      1.042         63        640:   4%|▍         | 4/95 [00:56<21:34, 14.22s/it]Retrying (Retry(total=1, connect=1, read=5, redirect=5, status=None)) after connection broken by 'NameResolutionError(\"<urllib3.connection.HTTPSConnection object at 0x000001A99F567A00>: Failed to resolve 'files.clear.ml' ([Errno 11001] getaddrinfo failed)\")': /\n",
      "Retrying (Retry(total=0, connect=0, read=5, redirect=5, status=None)) after connection broken by 'NameResolutionError(\"<urllib3.connection.HTTPSConnection object at 0x000001A99F565A50>: Failed to resolve 'files.clear.ml' ([Errno 11001] getaddrinfo failed)\")': /\n",
      "Retrying (Retry(total=2, connect=2, read=5, redirect=5, status=None)) after connection broken by 'NameResolutionError(\"<urllib3.connection.HTTPSConnection object at 0x000001A99F567880>: Failed to resolve 'files.clear.ml' ([Errno 11001] getaddrinfo failed)\")': /\n",
      "      33/60         0G     0.7223     0.7674      1.031         41        640:   5%|▌         | 5/95 [01:11<22:01, 14.69s/it]Retrying (Retry(total=1, connect=1, read=5, redirect=5, status=None)) after connection broken by 'NameResolutionError(\"<urllib3.connection.HTTPSConnection object at 0x000001A99F564E50>: Failed to resolve 'files.clear.ml' ([Errno 11001] getaddrinfo failed)\")': /\n",
      "Retrying (Retry(total=0, connect=0, read=5, redirect=5, status=None)) after connection broken by 'NameResolutionError(\"<urllib3.connection.HTTPSConnection object at 0x000001A99F5669B0>: Failed to resolve 'files.clear.ml' ([Errno 11001] getaddrinfo failed)\")': /\n"
     ]
    },
    {
     "name": "stdout",
     "output_type": "stream",
     "text": [
      "2024-06-17 10:59:12,650 - clearml.storage - ERROR - Exception encountered while uploading HTTPSConnectionPool(host='files.clear.ml', port=443): Max retries exceeded with url: / (Caused by NameResolutionError(\"<urllib3.connection.HTTPSConnection object at 0x000001A99F564CD0>: Failed to resolve 'files.clear.ml' ([Errno 11001] getaddrinfo failed)\"))\n"
     ]
    },
    {
     "name": "stderr",
     "output_type": "stream",
     "text": [
      "      33/60         0G     0.7018     0.8096      1.014         50        640:   7%|▋         | 7/95 [01:39<21:03, 14.35s/it]Retrying (Retry(total=233, connect=233, read=240, redirect=240, status=240)) after connection broken by 'NameResolutionError(\"<urllib3.connection.HTTPSConnection object at 0x000001A99C3DCC40>: Failed to resolve 'api.clear.ml' ([Errno 11001] getaddrinfo failed)\")': /v2.23/events.add_batch\n",
      "Retrying (Retry(total=227, connect=227, read=240, redirect=240, status=240)) after connection broken by 'NameResolutionError(\"<urllib3.connection.HTTPSConnection object at 0x000001A99FCC2B00>: Failed to resolve 'api.clear.ml' ([Errno 11001] getaddrinfo failed)\")': /v2.23/tasks.ping\n",
      "Retrying (Retry(total=227, connect=227, read=240, redirect=240, status=240)) after connection broken by 'NameResolutionError(\"<urllib3.connection.HTTPSConnection object at 0x000001A99FCC3280>: Failed to resolve 'api.clear.ml' ([Errno 11001] getaddrinfo failed)\")': /v2.23/tasks.get_all\n",
      "      33/60         0G     0.7069     0.8095      1.015         60        640:   8%|▊         | 8/95 [01:53<20:33, 14.17s/it]Retrying (Retry(total=227, connect=227, read=240, redirect=240, status=240)) after connection broken by 'NameResolutionError(\"<urllib3.connection.HTTPSConnection object at 0x000001A99FCC2EF0>: Failed to resolve 'api.clear.ml' ([Errno 11001] getaddrinfo failed)\")': /v2.23/events.add_batch\n",
      "Retrying (Retry(total=2, connect=2, read=5, redirect=5, status=None)) after connection broken by 'NameResolutionError(\"<urllib3.connection.HTTPSConnection object at 0x000001A99FD45210>: Failed to resolve 'files.clear.ml' ([Errno 11001] getaddrinfo failed)\")': /\n",
      "Retrying (Retry(total=1, connect=1, read=5, redirect=5, status=None)) after connection broken by 'NameResolutionError(\"<urllib3.connection.HTTPSConnection object at 0x000001A99FD44A30>: Failed to resolve 'files.clear.ml' ([Errno 11001] getaddrinfo failed)\")': /\n",
      "Retrying (Retry(total=0, connect=0, read=5, redirect=5, status=None)) after connection broken by 'NameResolutionError(\"<urllib3.connection.HTTPSConnection object at 0x000001A99AF61240>: Failed to resolve 'files.clear.ml' ([Errno 11001] getaddrinfo failed)\")': /\n",
      "      33/60         0G      0.708     0.7872      1.013         60        640:   9%|▉         | 9/95 [02:07<20:13, 14.10s/it]Retrying (Retry(total=2, connect=2, read=5, redirect=5, status=None)) after connection broken by 'NameResolutionError(\"<urllib3.connection.HTTPSConnection object at 0x000001A99AF63280>: Failed to resolve 'files.clear.ml' ([Errno 11001] getaddrinfo failed)\")': /\n",
      "Retrying (Retry(total=1, connect=1, read=5, redirect=5, status=None)) after connection broken by 'NameResolutionError(\"<urllib3.connection.HTTPSConnection object at 0x000001A99C3A6F80>: Failed to resolve 'files.clear.ml' ([Errno 11001] getaddrinfo failed)\")': /\n",
      "      33/60         0G     0.7125     0.7778      1.021         43        640:  11%|█         | 10/95 [02:21<19:53, 14.04s/it]Retrying (Retry(total=0, connect=0, read=5, redirect=5, status=None)) after connection broken by 'NameResolutionError(\"<urllib3.connection.HTTPSConnection object at 0x000001A99C3A64D0>: Failed to resolve 'files.clear.ml' ([Errno 11001] getaddrinfo failed)\")': /\n",
      "Retrying (Retry(total=2, connect=2, read=5, redirect=5, status=None)) after connection broken by 'NameResolutionError(\"<urllib3.connection.HTTPSConnection object at 0x000001A99C3A5390>: Failed to resolve 'files.clear.ml' ([Errno 11001] getaddrinfo failed)\")': /\n",
      "Retrying (Retry(total=1, connect=1, read=5, redirect=5, status=None)) after connection broken by 'NameResolutionError(\"<urllib3.connection.HTTPSConnection object at 0x000001A99C3A6950>: Failed to resolve 'files.clear.ml' ([Errno 11001] getaddrinfo failed)\")': /\n",
      "      33/60         0G     0.7052     0.7811       1.01        124        640:  12%|█▏        | 11/95 [02:35<19:45, 14.11s/it]Retrying (Retry(total=0, connect=0, read=5, redirect=5, status=None)) after connection broken by 'NameResolutionError(\"<urllib3.connection.HTTPSConnection object at 0x000001A99C3A6110>: Failed to resolve 'files.clear.ml' ([Errno 11001] getaddrinfo failed)\")': /\n"
     ]
    },
    {
     "name": "stdout",
     "output_type": "stream",
     "text": [
      "2024-06-17 11:00:27,856 - clearml.storage - ERROR - Exception encountered while uploading HTTPSConnectionPool(host='files.clear.ml', port=443): Max retries exceeded with url: / (Caused by NameResolutionError(\"<urllib3.connection.HTTPSConnection object at 0x000001A99FCC39D0>: Failed to resolve 'files.clear.ml' ([Errno 11001] getaddrinfo failed)\"))\n"
     ]
    },
    {
     "name": "stderr",
     "output_type": "stream",
     "text": [
      "      33/60         0G     0.7014     0.7572      1.001        120        640:  14%|█▎        | 13/95 [03:03<19:03, 13.95s/it]Retrying (Retry(total=2, connect=2, read=5, redirect=5, status=None)) after connection broken by 'NameResolutionError(\"<urllib3.connection.HTTPSConnection object at 0x000001A99874C5E0>: Failed to resolve 'files.clear.ml' ([Errno 11001] getaddrinfo failed)\")': /\n",
      "Retrying (Retry(total=1, connect=1, read=5, redirect=5, status=None)) after connection broken by 'NameResolutionError(\"<urllib3.connection.HTTPSConnection object at 0x000001A9AA6D9750>: Failed to resolve 'files.clear.ml' ([Errno 11001] getaddrinfo failed)\")': /\n",
      "      33/60         0G     0.6949     0.7517     0.9957        122        640:  15%|█▍        | 14/95 [03:17<18:56, 14.03s/it]Retrying (Retry(total=0, connect=0, read=5, redirect=5, status=None)) after connection broken by 'NameResolutionError(\"<urllib3.connection.HTTPSConnection object at 0x000001A9AA6DBB20>: Failed to resolve 'files.clear.ml' ([Errno 11001] getaddrinfo failed)\")': /\n",
      "Retrying (Retry(total=2, connect=2, read=5, redirect=5, status=None)) after connection broken by 'NameResolutionError(\"<urllib3.connection.HTTPSConnection object at 0x000001A9AA6DBFD0>: Failed to resolve 'files.clear.ml' ([Errno 11001] getaddrinfo failed)\")': /\n",
      "Retrying (Retry(total=1, connect=1, read=5, redirect=5, status=None)) after connection broken by 'NameResolutionError(\"<urllib3.connection.HTTPSConnection object at 0x000001A9AA6DAFE0>: Failed to resolve 'files.clear.ml' ([Errno 11001] getaddrinfo failed)\")': /\n",
      "      33/60         0G     0.7029     0.7534      1.002         48        640:  16%|█▌        | 15/95 [03:31<18:35, 13.94s/it]Retrying (Retry(total=0, connect=0, read=5, redirect=5, status=None)) after connection broken by 'NameResolutionError(\"<urllib3.connection.HTTPSConnection object at 0x000001A9AA6DB8B0>: Failed to resolve 'files.clear.ml' ([Errno 11001] getaddrinfo failed)\")': /\n",
      "Retrying (Retry(total=2, connect=2, read=5, redirect=5, status=None)) after connection broken by 'NameResolutionError(\"<urllib3.connection.HTTPSConnection object at 0x000001A9AA6DB970>: Failed to resolve 'files.clear.ml' ([Errno 11001] getaddrinfo failed)\")': /\n",
      "Retrying (Retry(total=1, connect=1, read=5, redirect=5, status=None)) after connection broken by 'NameResolutionError(\"<urllib3.connection.HTTPSConnection object at 0x000001A99FFBFA00>: Failed to resolve 'files.clear.ml' ([Errno 11001] getaddrinfo failed)\")': /\n",
      "Retrying (Retry(total=232, connect=232, read=240, redirect=240, status=240)) after connection broken by 'NameResolutionError(\"<urllib3.connection.HTTPSConnection object at 0x000001A99F566D40>: Failed to resolve 'api.clear.ml' ([Errno 11001] getaddrinfo failed)\")': /v2.23/events.add_batch\n",
      "      33/60         0G     0.6973     0.7452      0.999         79        640:  17%|█▋        | 16/95 [03:45<18:20, 13.93s/it]Retrying (Retry(total=226, connect=226, read=240, redirect=240, status=240)) after connection broken by 'NameResolutionError(\"<urllib3.connection.HTTPSConnection object at 0x000001A99FD47670>: Failed to resolve 'api.clear.ml' ([Errno 11001] getaddrinfo failed)\")': /v2.23/tasks.ping\n",
      "Retrying (Retry(total=0, connect=0, read=5, redirect=5, status=None)) after connection broken by 'NameResolutionError(\"<urllib3.connection.HTTPSConnection object at 0x000001A99FFBD330>: Failed to resolve 'files.clear.ml' ([Errno 11001] getaddrinfo failed)\")': /\n"
     ]
    },
    {
     "name": "stdout",
     "output_type": "stream",
     "text": [
      "2024-06-17 11:01:43,078 - clearml.storage - ERROR - Exception encountered while uploading HTTPSConnectionPool(host='files.clear.ml', port=443): Max retries exceeded with url: / (Caused by NameResolutionError(\"<urllib3.connection.HTTPSConnection object at 0x000001A99FFBD810>: Failed to resolve 'files.clear.ml' ([Errno 11001] getaddrinfo failed)\"))\n"
     ]
    },
    {
     "name": "stderr",
     "output_type": "stream",
     "text": [
      "Retrying (Retry(total=226, connect=226, read=240, redirect=240, status=240)) after connection broken by 'NameResolutionError(\"<urllib3.connection.HTTPSConnection object at 0x000001A99FD475E0>: Failed to resolve 'api.clear.ml' ([Errno 11001] getaddrinfo failed)\")': /v2.23/tasks.get_all\n",
      "Retrying (Retry(total=226, connect=226, read=240, redirect=240, status=240)) after connection broken by 'NameResolutionError(\"<urllib3.connection.HTTPSConnection object at 0x000001A99FD463B0>: Failed to resolve 'api.clear.ml' ([Errno 11001] getaddrinfo failed)\")': /v2.23/events.add_batch\n",
      "      33/60         0G     0.6993     0.7494      1.002         34        640:  19%|█▉        | 18/95 [04:13<17:53, 13.94s/it]Retrying (Retry(total=2, connect=2, read=5, redirect=5, status=None)) after connection broken by 'NameResolutionError(\"<urllib3.connection.HTTPSConnection object at 0x000001A99A5BA080>: Failed to resolve 'files.clear.ml' ([Errno 11001] getaddrinfo failed)\")': /\n",
      "      33/60         0G     0.6997     0.7421      1.003         90        640:  20%|██        | 19/95 [04:27<17:40, 13.96s/it]Retrying (Retry(total=1, connect=1, read=5, redirect=5, status=None)) after connection broken by 'NameResolutionError(\"<urllib3.connection.HTTPSConnection object at 0x000001A99A5B81F0>: Failed to resolve 'files.clear.ml' ([Errno 11001] getaddrinfo failed)\")': /\n",
      "Retrying (Retry(total=0, connect=0, read=5, redirect=5, status=None)) after connection broken by 'NameResolutionError(\"<urllib3.connection.HTTPSConnection object at 0x000001A99A5BABC0>: Failed to resolve 'files.clear.ml' ([Errno 11001] getaddrinfo failed)\")': /\n",
      "Retrying (Retry(total=2, connect=2, read=5, redirect=5, status=None)) after connection broken by 'NameResolutionError(\"<urllib3.connection.HTTPSConnection object at 0x000001A99A5B9B70>: Failed to resolve 'files.clear.ml' ([Errno 11001] getaddrinfo failed)\")': /\n",
      "      33/60         0G     0.6935     0.7363     0.9994         93        640:  21%|██        | 20/95 [04:41<17:25, 13.94s/it]Retrying (Retry(total=1, connect=1, read=5, redirect=5, status=None)) after connection broken by 'NameResolutionError(\"<urllib3.connection.HTTPSConnection object at 0x000001A99A5BBD00>: Failed to resolve 'files.clear.ml' ([Errno 11001] getaddrinfo failed)\")': /\n",
      "Retrying (Retry(total=0, connect=0, read=5, redirect=5, status=None)) after connection broken by 'NameResolutionError(\"<urllib3.connection.HTTPSConnection object at 0x000001A99A5B96F0>: Failed to resolve 'files.clear.ml' ([Errno 11001] getaddrinfo failed)\")': /\n",
      "      33/60         0G     0.6911     0.7289     0.9992         58        640:  22%|██▏       | 21/95 [04:54<17:11, 13.94s/it]Retrying (Retry(total=2, connect=2, read=5, redirect=5, status=None)) after connection broken by 'NameResolutionError(\"<urllib3.connection.HTTPSConnection object at 0x000001A99FFFCE50>: Failed to resolve 'files.clear.ml' ([Errno 11001] getaddrinfo failed)\")': /\n",
      "Retrying (Retry(total=1, connect=1, read=5, redirect=5, status=None)) after connection broken by 'NameResolutionError(\"<urllib3.connection.HTTPSConnection object at 0x000001A99FFFE8F0>: Failed to resolve 'files.clear.ml' ([Errno 11001] getaddrinfo failed)\")': /\n",
      "Retrying (Retry(total=0, connect=0, read=5, redirect=5, status=None)) after connection broken by 'NameResolutionError(\"<urllib3.connection.HTTPSConnection object at 0x000001A99FFFFC10>: Failed to resolve 'files.clear.ml' ([Errno 11001] getaddrinfo failed)\")': /\n"
     ]
    },
    {
     "name": "stdout",
     "output_type": "stream",
     "text": [
      "2024-06-17 11:02:58,305 - clearml.storage - ERROR - Exception encountered while uploading HTTPSConnectionPool(host='files.clear.ml', port=443): Max retries exceeded with url: / (Caused by NameResolutionError(\"<urllib3.connection.HTTPSConnection object at 0x000001A99FFFE860>: Failed to resolve 'files.clear.ml' ([Errno 11001] getaddrinfo failed)\"))\n"
     ]
    },
    {
     "name": "stderr",
     "output_type": "stream",
     "text": [
      "      33/60         0G     0.6923     0.7275     0.9999         81        640:  25%|██▌       | 24/95 [05:36<16:24, 13.87s/it]Retrying (Retry(total=2, connect=2, read=5, redirect=5, status=None)) after connection broken by 'NameResolutionError(\"<urllib3.connection.HTTPSConnection object at 0x000001A99870B6D0>: Failed to resolve 'files.clear.ml' ([Errno 11001] getaddrinfo failed)\")': /\n",
      "Retrying (Retry(total=1, connect=1, read=5, redirect=5, status=None)) after connection broken by 'NameResolutionError(\"<urllib3.connection.HTTPSConnection object at 0x000001A9A73709D0>: Failed to resolve 'files.clear.ml' ([Errno 11001] getaddrinfo failed)\")': /\n",
      "Retrying (Retry(total=231, connect=231, read=240, redirect=240, status=240)) after connection broken by 'NameResolutionError(\"<urllib3.connection.HTTPSConnection object at 0x000001A99FFBE2F0>: Failed to resolve 'api.clear.ml' ([Errno 11001] getaddrinfo failed)\")': /v2.23/events.add_batch\n",
      "Retrying (Retry(total=225, connect=225, read=240, redirect=240, status=240)) after connection broken by 'NameResolutionError(\"<urllib3.connection.HTTPSConnection object at 0x000001A99FFBE560>: Failed to resolve 'api.clear.ml' ([Errno 11001] getaddrinfo failed)\")': /v2.23/tasks.ping\n",
      "      33/60         0G     0.6924     0.7271      0.999         41        640:  26%|██▋       | 25/95 [05:50<16:10, 13.86s/it]Retrying (Retry(total=0, connect=0, read=5, redirect=5, status=None)) after connection broken by 'NameResolutionError(\"<urllib3.connection.HTTPSConnection object at 0x000001A99870BCD0>: Failed to resolve 'files.clear.ml' ([Errno 11001] getaddrinfo failed)\")': /\n",
      "Retrying (Retry(total=225, connect=225, read=240, redirect=240, status=240)) after connection broken by 'NameResolutionError(\"<urllib3.connection.HTTPSConnection object at 0x000001A99FFBEF50>: Failed to resolve 'api.clear.ml' ([Errno 11001] getaddrinfo failed)\")': /v2.23/tasks.get_all\n",
      "Retrying (Retry(total=225, connect=225, read=240, redirect=240, status=240)) after connection broken by 'NameResolutionError(\"<urllib3.connection.HTTPSConnection object at 0x000001A99FFBFA90>: Failed to resolve 'api.clear.ml' ([Errno 11001] getaddrinfo failed)\")': /v2.23/events.add_batch\n",
      "Retrying (Retry(total=2, connect=2, read=5, redirect=5, status=None)) after connection broken by 'NameResolutionError(\"<urllib3.connection.HTTPSConnection object at 0x000001A9A7370430>: Failed to resolve 'files.clear.ml' ([Errno 11001] getaddrinfo failed)\")': /\n",
      "Retrying (Retry(total=1, connect=1, read=5, redirect=5, status=None)) after connection broken by 'NameResolutionError(\"<urllib3.connection.HTTPSConnection object at 0x000001A9A7373E80>: Failed to resolve 'files.clear.ml' ([Errno 11001] getaddrinfo failed)\")': /\n",
      "      33/60         0G      0.693     0.7261          1         51        640:  27%|██▋       | 26/95 [06:04<15:59, 13.90s/it]Retrying (Retry(total=0, connect=0, read=5, redirect=5, status=None)) after connection broken by 'NameResolutionError(\"<urllib3.connection.HTTPSConnection object at 0x000001A9A7370E50>: Failed to resolve 'files.clear.ml' ([Errno 11001] getaddrinfo failed)\")': /\n",
      "Retrying (Retry(total=2, connect=2, read=5, redirect=5, status=None)) after connection broken by 'NameResolutionError(\"<urllib3.connection.HTTPSConnection object at 0x000001A99FAB0340>: Failed to resolve 'files.clear.ml' ([Errno 11001] getaddrinfo failed)\")': /\n",
      "Retrying (Retry(total=1, connect=1, read=5, redirect=5, status=None)) after connection broken by 'NameResolutionError(\"<urllib3.connection.HTTPSConnection object at 0x000001A99FAB1FC0>: Failed to resolve 'files.clear.ml' ([Errno 11001] getaddrinfo failed)\")': /\n",
      "      33/60         0G     0.6963     0.7262      1.003         42        640:  28%|██▊       | 27/95 [06:17<15:41, 13.85s/it]Retrying (Retry(total=0, connect=0, read=5, redirect=5, status=None)) after connection broken by 'NameResolutionError(\"<urllib3.connection.HTTPSConnection object at 0x000001A99FAB2FE0>: Failed to resolve 'files.clear.ml' ([Errno 11001] getaddrinfo failed)\")': /\n"
     ]
    },
    {
     "name": "stdout",
     "output_type": "stream",
     "text": [
      "2024-06-17 11:04:13,555 - clearml.storage - ERROR - Exception encountered while uploading HTTPSConnectionPool(host='files.clear.ml', port=443): Max retries exceeded with url: / (Caused by NameResolutionError(\"<urllib3.connection.HTTPSConnection object at 0x000001A99FAB3670>: Failed to resolve 'files.clear.ml' ([Errno 11001] getaddrinfo failed)\"))\n"
     ]
    },
    {
     "name": "stderr",
     "output_type": "stream",
     "text": [
      "      33/60         0G     0.6924     0.7224     0.9997         65        640:  31%|███       | 29/95 [06:45<15:08, 13.77s/it]Retrying (Retry(total=2, connect=2, read=5, redirect=5, status=None)) after connection broken by 'NameResolutionError(\"<urllib3.connection.HTTPSConnection object at 0x000001A9A24C3CA0>: Failed to resolve 'files.clear.ml' ([Errno 11001] getaddrinfo failed)\")': /\n",
      "      33/60         0G     0.6918     0.7232     0.9994         69        640:  32%|███▏      | 30/95 [06:59<14:54, 13.77s/it]Retrying (Retry(total=1, connect=1, read=5, redirect=5, status=None)) after connection broken by 'NameResolutionError(\"<urllib3.connection.HTTPSConnection object at 0x000001A99FAB1330>: Failed to resolve 'files.clear.ml' ([Errno 11001] getaddrinfo failed)\")': /\n",
      "Retrying (Retry(total=0, connect=0, read=5, redirect=5, status=None)) after connection broken by 'NameResolutionError(\"<urllib3.connection.HTTPSConnection object at 0x000001A99FAB2530>: Failed to resolve 'files.clear.ml' ([Errno 11001] getaddrinfo failed)\")': /\n",
      "Retrying (Retry(total=2, connect=2, read=5, redirect=5, status=None)) after connection broken by 'NameResolutionError(\"<urllib3.connection.HTTPSConnection object at 0x000001A99FAB2EC0>: Failed to resolve 'files.clear.ml' ([Errno 11001] getaddrinfo failed)\")': /\n",
      "      33/60         0G     0.6889     0.7217     0.9991         71        640:  33%|███▎      | 31/95 [07:12<14:38, 13.72s/it]Retrying (Retry(total=1, connect=1, read=5, redirect=5, status=None)) after connection broken by 'NameResolutionError(\"<urllib3.connection.HTTPSConnection object at 0x000001A99FAB3130>: Failed to resolve 'files.clear.ml' ([Errno 11001] getaddrinfo failed)\")': /\n",
      "Retrying (Retry(total=0, connect=0, read=5, redirect=5, status=None)) after connection broken by 'NameResolutionError(\"<urllib3.connection.HTTPSConnection object at 0x000001A998026530>: Failed to resolve 'files.clear.ml' ([Errno 11001] getaddrinfo failed)\")': /\n",
      "Retrying (Retry(total=2, connect=2, read=5, redirect=5, status=None)) after connection broken by 'NameResolutionError(\"<urllib3.connection.HTTPSConnection object at 0x000001A9986332B0>: Failed to resolve 'files.clear.ml' ([Errno 11001] getaddrinfo failed)\")': /\n",
      "      33/60         0G     0.6916     0.7211      1.002         40        640:  34%|███▎      | 32/95 [07:26<14:28, 13.78s/it]Retrying (Retry(total=1, connect=1, read=5, redirect=5, status=None)) after connection broken by 'NameResolutionError(\"<urllib3.connection.HTTPSConnection object at 0x000001A998630220>: Failed to resolve 'files.clear.ml' ([Errno 11001] getaddrinfo failed)\")': /\n",
      "Retrying (Retry(total=0, connect=0, read=5, redirect=5, status=None)) after connection broken by 'NameResolutionError(\"<urllib3.connection.HTTPSConnection object at 0x000001A998631390>: Failed to resolve 'files.clear.ml' ([Errno 11001] getaddrinfo failed)\")': /\n"
     ]
    },
    {
     "name": "stdout",
     "output_type": "stream",
     "text": [
      "2024-06-17 11:05:28,785 - clearml.storage - ERROR - Exception encountered while uploading HTTPSConnectionPool(host='files.clear.ml', port=443): Max retries exceeded with url: / (Caused by NameResolutionError(\"<urllib3.connection.HTTPSConnection object at 0x000001A998633010>: Failed to resolve 'files.clear.ml' ([Errno 11001] getaddrinfo failed)\"))\n"
     ]
    },
    {
     "name": "stderr",
     "output_type": "stream",
     "text": [
      "      33/60         0G     0.6952     0.7206      1.002         91        640:  35%|███▍      | 33/95 [07:40<14:21, 13.89s/it]Retrying (Retry(total=230, connect=230, read=240, redirect=240, status=240)) after connection broken by 'NameResolutionError(\"<urllib3.connection.HTTPSConnection object at 0x000001A9A7370940>: Failed to resolve 'api.clear.ml' ([Errno 11001] getaddrinfo failed)\")': /v2.23/events.add_batch\n",
      "Retrying (Retry(total=224, connect=224, read=240, redirect=240, status=240)) after connection broken by 'NameResolutionError(\"<urllib3.connection.HTTPSConnection object at 0x000001A9A7371C00>: Failed to resolve 'api.clear.ml' ([Errno 11001] getaddrinfo failed)\")': /v2.23/tasks.ping\n",
      "Retrying (Retry(total=224, connect=224, read=240, redirect=240, status=240)) after connection broken by 'NameResolutionError(\"<urllib3.connection.HTTPSConnection object at 0x000001A9A7370B80>: Failed to resolve 'api.clear.ml' ([Errno 11001] getaddrinfo failed)\")': /v2.23/tasks.get_all\n",
      "Retrying (Retry(total=224, connect=224, read=240, redirect=240, status=240)) after connection broken by 'NameResolutionError(\"<urllib3.connection.HTTPSConnection object at 0x000001A9A7372290>: Failed to resolve 'api.clear.ml' ([Errno 11001] getaddrinfo failed)\")': /v2.23/events.add_batch\n",
      "      33/60         0G     0.6954     0.7256      1.001         65        640:  37%|███▋      | 35/95 [08:08<13:53, 13.89s/it]Retrying (Retry(total=2, connect=2, read=5, redirect=5, status=None)) after connection broken by 'NameResolutionError(\"<urllib3.connection.HTTPSConnection object at 0x000001A9980B2E60>: Failed to resolve 'files.clear.ml' ([Errno 11001] getaddrinfo failed)\")': /\n",
      "Retrying (Retry(total=1, connect=1, read=5, redirect=5, status=None)) after connection broken by 'NameResolutionError(\"<urllib3.connection.HTTPSConnection object at 0x000001A9980B2F20>: Failed to resolve 'files.clear.ml' ([Errno 11001] getaddrinfo failed)\")': /\n",
      "      33/60         0G      0.693     0.7234     0.9992         58        640:  38%|███▊      | 36/95 [08:22<13:41, 13.92s/it]Retrying (Retry(total=0, connect=0, read=5, redirect=5, status=None)) after connection broken by 'NameResolutionError(\"<urllib3.connection.HTTPSConnection object at 0x000001A9980B08E0>: Failed to resolve 'files.clear.ml' ([Errno 11001] getaddrinfo failed)\")': /\n",
      "Retrying (Retry(total=2, connect=2, read=5, redirect=5, status=None)) after connection broken by 'NameResolutionError(\"<urllib3.connection.HTTPSConnection object at 0x000001A9A945CBE0>: Failed to resolve 'files.clear.ml' ([Errno 11001] getaddrinfo failed)\")': /\n",
      "Retrying (Retry(total=1, connect=1, read=5, redirect=5, status=None)) after connection broken by 'NameResolutionError(\"<urllib3.connection.HTTPSConnection object at 0x000001A9A945FB50>: Failed to resolve 'files.clear.ml' ([Errno 11001] getaddrinfo failed)\")': /\n",
      "      33/60         0G     0.6929     0.7214     0.9988         81        640:  39%|███▉      | 37/95 [08:36<13:27, 13.93s/it]Retrying (Retry(total=0, connect=0, read=5, redirect=5, status=None)) after connection broken by 'NameResolutionError(\"<urllib3.connection.HTTPSConnection object at 0x000001A9A945EB60>: Failed to resolve 'files.clear.ml' ([Errno 11001] getaddrinfo failed)\")': /\n",
      "Retrying (Retry(total=2, connect=2, read=5, redirect=5, status=None)) after connection broken by 'NameResolutionError(\"<urllib3.connection.HTTPSConnection object at 0x000001A9A945E110>: Failed to resolve 'files.clear.ml' ([Errno 11001] getaddrinfo failed)\")': /\n",
      "Retrying (Retry(total=1, connect=1, read=5, redirect=5, status=None)) after connection broken by 'NameResolutionError(\"<urllib3.connection.HTTPSConnection object at 0x000001A9A945C0D0>: Failed to resolve 'files.clear.ml' ([Errno 11001] getaddrinfo failed)\")': /\n",
      "      33/60         0G     0.6931     0.7213     0.9979        111        640:  40%|████      | 38/95 [08:50<13:21, 14.06s/it]Retrying (Retry(total=0, connect=0, read=5, redirect=5, status=None)) after connection broken by 'NameResolutionError(\"<urllib3.connection.HTTPSConnection object at 0x000001A9A945C6A0>: Failed to resolve 'files.clear.ml' ([Errno 11001] getaddrinfo failed)\")': /\n"
     ]
    },
    {
     "name": "stdout",
     "output_type": "stream",
     "text": [
      "2024-06-17 11:06:43,993 - clearml.storage - ERROR - Exception encountered while uploading HTTPSConnectionPool(host='files.clear.ml', port=443): Max retries exceeded with url: / (Caused by NameResolutionError(\"<urllib3.connection.HTTPSConnection object at 0x000001A99802A8F0>: Failed to resolve 'files.clear.ml' ([Errno 11001] getaddrinfo failed)\"))\n"
     ]
    },
    {
     "name": "stderr",
     "output_type": "stream",
     "text": [
      "      33/60         0G     0.6903     0.7258     0.9968         46        640:  42%|████▏     | 40/95 [09:18<12:42, 13.87s/it]Retrying (Retry(total=2, connect=2, read=5, redirect=5, status=None)) after connection broken by 'NameResolutionError(\"<urllib3.connection.HTTPSConnection object at 0x000001A9AC482A40>: Failed to resolve 'files.clear.ml' ([Errno 11001] getaddrinfo failed)\")': /\n",
      "Retrying (Retry(total=1, connect=1, read=5, redirect=5, status=None)) after connection broken by 'NameResolutionError(\"<urllib3.connection.HTTPSConnection object at 0x000001A9AC482E90>: Failed to resolve 'files.clear.ml' ([Errno 11001] getaddrinfo failed)\")': /\n",
      "      33/60         0G     0.6898     0.7332     0.9956         47        640:  43%|████▎     | 41/95 [09:32<12:28, 13.87s/it]Retrying (Retry(total=0, connect=0, read=5, redirect=5, status=None)) after connection broken by 'NameResolutionError(\"<urllib3.connection.HTTPSConnection object at 0x000001A9AC483FD0>: Failed to resolve 'files.clear.ml' ([Errno 11001] getaddrinfo failed)\")': /\n",
      "Retrying (Retry(total=2, connect=2, read=5, redirect=5, status=None)) after connection broken by 'NameResolutionError(\"<urllib3.connection.HTTPSConnection object at 0x000001A9AC482B00>: Failed to resolve 'files.clear.ml' ([Errno 11001] getaddrinfo failed)\")': /\n",
      "Retrying (Retry(total=229, connect=229, read=240, redirect=240, status=240)) after connection broken by 'NameResolutionError(\"<urllib3.connection.HTTPSConnection object at 0x000001A9986311B0>: Failed to resolve 'api.clear.ml' ([Errno 11001] getaddrinfo failed)\")': /v2.23/events.add_batch\n",
      "Retrying (Retry(total=1, connect=1, read=5, redirect=5, status=None)) after connection broken by 'NameResolutionError(\"<urllib3.connection.HTTPSConnection object at 0x000001A9AC483430>: Failed to resolve 'files.clear.ml' ([Errno 11001] getaddrinfo failed)\")': /\n",
      "      33/60         0G     0.6919     0.7427     0.9979         43        640:  44%|████▍     | 42/95 [09:45<12:13, 13.84s/it]Retrying (Retry(total=223, connect=223, read=240, redirect=240, status=240)) after connection broken by 'NameResolutionError(\"<urllib3.connection.HTTPSConnection object at 0x000001A998631AB0>: Failed to resolve 'api.clear.ml' ([Errno 11001] getaddrinfo failed)\")': /v2.23/tasks.ping\n",
      "Retrying (Retry(total=223, connect=223, read=240, redirect=240, status=240)) after connection broken by 'NameResolutionError(\"<urllib3.connection.HTTPSConnection object at 0x000001A998630AF0>: Failed to resolve 'api.clear.ml' ([Errno 11001] getaddrinfo failed)\")': /v2.23/tasks.get_all\n",
      "Retrying (Retry(total=0, connect=0, read=5, redirect=5, status=None)) after connection broken by 'NameResolutionError(\"<urllib3.connection.HTTPSConnection object at 0x000001A9AC4810F0>: Failed to resolve 'files.clear.ml' ([Errno 11001] getaddrinfo failed)\")': /\n",
      "Retrying (Retry(total=223, connect=223, read=240, redirect=240, status=240)) after connection broken by 'NameResolutionError(\"<urllib3.connection.HTTPSConnection object at 0x000001A9986335B0>: Failed to resolve 'api.clear.ml' ([Errno 11001] getaddrinfo failed)\")': /v2.23/events.add_batch\n",
      "Retrying (Retry(total=2, connect=2, read=5, redirect=5, status=None)) after connection broken by 'NameResolutionError(\"<urllib3.connection.HTTPSConnection object at 0x000001A99CA4AFE0>: Failed to resolve 'files.clear.ml' ([Errno 11001] getaddrinfo failed)\")': /\n",
      "      33/60         0G     0.6967      0.745          1         27        640:  45%|████▌     | 43/95 [09:59<11:58, 13.81s/it]Retrying (Retry(total=1, connect=1, read=5, redirect=5, status=None)) after connection broken by 'NameResolutionError(\"<urllib3.connection.HTTPSConnection object at 0x000001A996E88970>: Failed to resolve 'files.clear.ml' ([Errno 11001] getaddrinfo failed)\")': /\n",
      "Retrying (Retry(total=0, connect=0, read=5, redirect=5, status=None)) after connection broken by 'NameResolutionError(\"<urllib3.connection.HTTPSConnection object at 0x000001A996E89C30>: Failed to resolve 'files.clear.ml' ([Errno 11001] getaddrinfo failed)\")': /\n"
     ]
    },
    {
     "name": "stdout",
     "output_type": "stream",
     "text": [
      "2024-06-17 11:07:59,215 - clearml.storage - ERROR - Exception encountered while uploading HTTPSConnectionPool(host='files.clear.ml', port=443): Max retries exceeded with url: / (Caused by NameResolutionError(\"<urllib3.connection.HTTPSConnection object at 0x000001A996E891B0>: Failed to resolve 'files.clear.ml' ([Errno 11001] getaddrinfo failed)\"))\n"
     ]
    },
    {
     "name": "stderr",
     "output_type": "stream",
     "text": [
      "      33/60         0G     0.6972     0.7445          1         63        640:  47%|████▋     | 45/95 [10:27<11:32, 13.85s/it]Retrying (Retry(total=2, connect=2, read=5, redirect=5, status=None)) after connection broken by 'NameResolutionError(\"<urllib3.connection.HTTPSConnection object at 0x000001A9A25EC760>: Failed to resolve 'files.clear.ml' ([Errno 11001] getaddrinfo failed)\")': /\n",
      "      33/60         0G     0.6988     0.7434          1         70        640:  48%|████▊     | 46/95 [10:41<11:19, 13.87s/it]Retrying (Retry(total=1, connect=1, read=5, redirect=5, status=None)) after connection broken by 'NameResolutionError(\"<urllib3.connection.HTTPSConnection object at 0x000001A9A25ED540>: Failed to resolve 'files.clear.ml' ([Errno 11001] getaddrinfo failed)\")': /\n",
      "Retrying (Retry(total=0, connect=0, read=5, redirect=5, status=None)) after connection broken by 'NameResolutionError(\"<urllib3.connection.HTTPSConnection object at 0x000001A9A25EFF10>: Failed to resolve 'files.clear.ml' ([Errno 11001] getaddrinfo failed)\")': /\n",
      "      33/60         0G     0.7016     0.7472      1.002         59        640:  49%|████▉     | 47/95 [10:55<11:00, 13.76s/it]Retrying (Retry(total=2, connect=2, read=5, redirect=5, status=None)) after connection broken by 'NameResolutionError(\"<urllib3.connection.HTTPSConnection object at 0x000001A9A25EF2B0>: Failed to resolve 'files.clear.ml' ([Errno 11001] getaddrinfo failed)\")': /\n",
      "Retrying (Retry(total=1, connect=1, read=5, redirect=5, status=None)) after connection broken by 'NameResolutionError(\"<urllib3.connection.HTTPSConnection object at 0x000001A9A25EC340>: Failed to resolve 'files.clear.ml' ([Errno 11001] getaddrinfo failed)\")': /\n",
      "Retrying (Retry(total=0, connect=0, read=5, redirect=5, status=None)) after connection broken by 'NameResolutionError(\"<urllib3.connection.HTTPSConnection object at 0x000001A9A25ECB50>: Failed to resolve 'files.clear.ml' ([Errno 11001] getaddrinfo failed)\")': /\n",
      "      33/60         0G     0.7011     0.7447      1.004         45        640:  51%|█████     | 48/95 [11:08<10:49, 13.82s/it]Retrying (Retry(total=2, connect=2, read=5, redirect=5, status=None)) after connection broken by 'NameResolutionError(\"<urllib3.connection.HTTPSConnection object at 0x000001A996E6DBD0>: Failed to resolve 'files.clear.ml' ([Errno 11001] getaddrinfo failed)\")': /\n",
      "Retrying (Retry(total=1, connect=1, read=5, redirect=5, status=None)) after connection broken by 'NameResolutionError(\"<urllib3.connection.HTTPSConnection object at 0x000001A99700AE00>: Failed to resolve 'files.clear.ml' ([Errno 11001] getaddrinfo failed)\")': /\n",
      "      33/60         0G     0.7007     0.7455      1.004         47        640:  52%|█████▏    | 49/95 [11:22<10:33, 13.76s/it]Retrying (Retry(total=0, connect=0, read=5, redirect=5, status=None)) after connection broken by 'NameResolutionError(\"<urllib3.connection.HTTPSConnection object at 0x000001A996E6D1B0>: Failed to resolve 'files.clear.ml' ([Errno 11001] getaddrinfo failed)\")': /\n"
     ]
    },
    {
     "name": "stdout",
     "output_type": "stream",
     "text": [
      "2024-06-17 11:09:14,417 - clearml.storage - ERROR - Exception encountered while uploading HTTPSConnectionPool(host='files.clear.ml', port=443): Max retries exceeded with url: / (Caused by NameResolutionError(\"<urllib3.connection.HTTPSConnection object at 0x000001A99D34EA10>: Failed to resolve 'files.clear.ml' ([Errno 11001] getaddrinfo failed)\"))\n"
     ]
    },
    {
     "name": "stderr",
     "output_type": "stream",
     "text": [
      "      33/60         0G     0.7006     0.7433      1.004         90        640:  53%|█████▎    | 50/95 [11:36<10:24, 13.87s/it]Retrying (Retry(total=228, connect=228, read=240, redirect=240, status=240)) after connection broken by 'NameResolutionError(\"<urllib3.connection.HTTPSConnection object at 0x000001A9AC482D40>: Failed to resolve 'api.clear.ml' ([Errno 11001] getaddrinfo failed)\")': /v2.23/events.add_batch\n",
      "Retrying (Retry(total=222, connect=222, read=240, redirect=240, status=240)) after connection broken by 'NameResolutionError(\"<urllib3.connection.HTTPSConnection object at 0x000001A9AC483A90>: Failed to resolve 'api.clear.ml' ([Errno 11001] getaddrinfo failed)\")': /v2.23/tasks.ping\n",
      "      33/60         0G     0.6987      0.741      1.004         79        640:  54%|█████▎    | 51/95 [11:50<10:09, 13.84s/it]Retrying (Retry(total=222, connect=222, read=240, redirect=240, status=240)) after connection broken by 'NameResolutionError(\"<urllib3.connection.HTTPSConnection object at 0x000001A9AC483DF0>: Failed to resolve 'api.clear.ml' ([Errno 11001] getaddrinfo failed)\")': /v2.23/tasks.get_all\n",
      "Retrying (Retry(total=222, connect=222, read=240, redirect=240, status=240)) after connection broken by 'NameResolutionError(\"<urllib3.connection.HTTPSConnection object at 0x000001A99CA49FC0>: Failed to resolve 'api.clear.ml' ([Errno 11001] getaddrinfo failed)\")': /v2.23/events.add_batch\n",
      "Retrying (Retry(total=2, connect=2, read=5, redirect=5, status=None)) after connection broken by 'NameResolutionError(\"<urllib3.connection.HTTPSConnection object at 0x000001A996F48970>: Failed to resolve 'files.clear.ml' ([Errno 11001] getaddrinfo failed)\")': /\n",
      "Retrying (Retry(total=1, connect=1, read=5, redirect=5, status=None)) after connection broken by 'NameResolutionError(\"<urllib3.connection.HTTPSConnection object at 0x000001A99D34D960>: Failed to resolve 'files.clear.ml' ([Errno 11001] getaddrinfo failed)\")': /\n",
      "      33/60         0G     0.6966     0.7384      1.003         92        640:  55%|█████▍    | 52/95 [12:04<10:00, 13.97s/it]Retrying (Retry(total=0, connect=0, read=5, redirect=5, status=None)) after connection broken by 'NameResolutionError(\"<urllib3.connection.HTTPSConnection object at 0x000001A99D34E410>: Failed to resolve 'files.clear.ml' ([Errno 11001] getaddrinfo failed)\")': /\n",
      "Retrying (Retry(total=2, connect=2, read=5, redirect=5, status=None)) after connection broken by 'NameResolutionError(\"<urllib3.connection.HTTPSConnection object at 0x000001A99D34CFD0>: Failed to resolve 'files.clear.ml' ([Errno 11001] getaddrinfo failed)\")': /\n",
      "Retrying (Retry(total=1, connect=1, read=5, redirect=5, status=None)) after connection broken by 'NameResolutionError(\"<urllib3.connection.HTTPSConnection object at 0x000001A99D34F880>: Failed to resolve 'files.clear.ml' ([Errno 11001] getaddrinfo failed)\")': /\n",
      "      33/60         0G     0.6964     0.7365      1.003         64        640:  56%|█████▌    | 53/95 [12:18<09:44, 13.91s/it]Retrying (Retry(total=0, connect=0, read=5, redirect=5, status=None)) after connection broken by 'NameResolutionError(\"<urllib3.connection.HTTPSConnection object at 0x000001A99D34EB30>: Failed to resolve 'files.clear.ml' ([Errno 11001] getaddrinfo failed)\")': /\n",
      "Retrying (Retry(total=2, connect=2, read=5, redirect=5, status=None)) after connection broken by 'NameResolutionError(\"<urllib3.connection.HTTPSConnection object at 0x000001A9A52C6920>: Failed to resolve 'files.clear.ml' ([Errno 11001] getaddrinfo failed)\")': /\n",
      "Retrying (Retry(total=1, connect=1, read=5, redirect=5, status=None)) after connection broken by 'NameResolutionError(\"<urllib3.connection.HTTPSConnection object at 0x000001A9A52C50F0>: Failed to resolve 'files.clear.ml' ([Errno 11001] getaddrinfo failed)\")': /\n",
      "      33/60         0G     0.6945     0.7359      1.002        108        640:  57%|█████▋    | 54/95 [12:33<09:37, 14.09s/it]Retrying (Retry(total=0, connect=0, read=5, redirect=5, status=None)) after connection broken by 'NameResolutionError(\"<urllib3.connection.HTTPSConnection object at 0x000001A9A52C6290>: Failed to resolve 'files.clear.ml' ([Errno 11001] getaddrinfo failed)\")': /\n"
     ]
    },
    {
     "name": "stdout",
     "output_type": "stream",
     "text": [
      "2024-06-17 11:10:29,632 - clearml.storage - ERROR - Exception encountered while uploading HTTPSConnectionPool(host='files.clear.ml', port=443): Max retries exceeded with url: / (Caused by NameResolutionError(\"<urllib3.connection.HTTPSConnection object at 0x000001A9A52C7AF0>: Failed to resolve 'files.clear.ml' ([Errno 11001] getaddrinfo failed)\"))\n"
     ]
    },
    {
     "name": "stderr",
     "output_type": "stream",
     "text": [
      "      33/60         0G     0.6933     0.7316      1.001        103        640:  59%|█████▉    | 56/95 [13:00<09:04, 13.97s/it]Retrying (Retry(total=2, connect=2, read=5, redirect=5, status=None)) after connection broken by 'NameResolutionError(\"<urllib3.connection.HTTPSConnection object at 0x000001A99D0BAC50>: Failed to resolve 'files.clear.ml' ([Errno 11001] getaddrinfo failed)\")': /\n",
      "      33/60         0G     0.6923     0.7287          1         56        640:  60%|██████    | 57/95 [13:14<08:48, 13.91s/it]Retrying (Retry(total=1, connect=1, read=5, redirect=5, status=None)) after connection broken by 'NameResolutionError(\"<urllib3.connection.HTTPSConnection object at 0x000001A99D0BBFA0>: Failed to resolve 'files.clear.ml' ([Errno 11001] getaddrinfo failed)\")': /\n",
      "Retrying (Retry(total=0, connect=0, read=5, redirect=5, status=None)) after connection broken by 'NameResolutionError(\"<urllib3.connection.HTTPSConnection object at 0x000001A99D0BBA00>: Failed to resolve 'files.clear.ml' ([Errno 11001] getaddrinfo failed)\")': /\n",
      "Retrying (Retry(total=2, connect=2, read=5, redirect=5, status=None)) after connection broken by 'NameResolutionError(\"<urllib3.connection.HTTPSConnection object at 0x000001A99D0B8400>: Failed to resolve 'files.clear.ml' ([Errno 11001] getaddrinfo failed)\")': /\n",
      "      33/60         0G     0.6914     0.7285     0.9994         85        640:  61%|██████    | 58/95 [13:28<08:33, 13.89s/it]Retrying (Retry(total=1, connect=1, read=5, redirect=5, status=None)) after connection broken by 'NameResolutionError(\"<urllib3.connection.HTTPSConnection object at 0x000001A99D0B8FA0>: Failed to resolve 'files.clear.ml' ([Errno 11001] getaddrinfo failed)\")': /\n",
      "Retrying (Retry(total=0, connect=0, read=5, redirect=5, status=None)) after connection broken by 'NameResolutionError(\"<urllib3.connection.HTTPSConnection object at 0x000001A99D0B9240>: Failed to resolve 'files.clear.ml' ([Errno 11001] getaddrinfo failed)\")': /\n",
      "Retrying (Retry(total=2, connect=2, read=5, redirect=5, status=None)) after connection broken by 'NameResolutionError(\"<urllib3.connection.HTTPSConnection object at 0x000001A99D0BB040>: Failed to resolve 'files.clear.ml' ([Errno 11001] getaddrinfo failed)\")': /\n",
      "      33/60         0G     0.6925     0.7286      1.001         42        640:  62%|██████▏   | 59/95 [13:42<08:18, 13.86s/it]Retrying (Retry(total=227, connect=227, read=240, redirect=240, status=240)) after connection broken by 'NameResolutionError(\"<urllib3.connection.HTTPSConnection object at 0x000001A99D34DA80>: Failed to resolve 'api.clear.ml' ([Errno 11001] getaddrinfo failed)\")': /v2.23/events.add_batch\n",
      "Retrying (Retry(total=1, connect=1, read=5, redirect=5, status=None)) after connection broken by 'NameResolutionError(\"<urllib3.connection.HTTPSConnection object at 0x000001A99D0BBB80>: Failed to resolve 'files.clear.ml' ([Errno 11001] getaddrinfo failed)\")': /\n",
      "Retrying (Retry(total=221, connect=221, read=240, redirect=240, status=240)) after connection broken by 'NameResolutionError(\"<urllib3.connection.HTTPSConnection object at 0x000001A99D34E2F0>: Failed to resolve 'api.clear.ml' ([Errno 11001] getaddrinfo failed)\")': /v2.23/tasks.ping\n",
      "Retrying (Retry(total=221, connect=221, read=240, redirect=240, status=240)) after connection broken by 'NameResolutionError(\"<urllib3.connection.HTTPSConnection object at 0x000001A99D34FDC0>: Failed to resolve 'api.clear.ml' ([Errno 11001] getaddrinfo failed)\")': /v2.23/tasks.get_all\n",
      "Retrying (Retry(total=0, connect=0, read=5, redirect=5, status=None)) after connection broken by 'NameResolutionError(\"<urllib3.connection.HTTPSConnection object at 0x000001A99D0B95A0>: Failed to resolve 'files.clear.ml' ([Errno 11001] getaddrinfo failed)\")': /\n"
     ]
    },
    {
     "name": "stdout",
     "output_type": "stream",
     "text": [
      "2024-06-17 11:11:44,853 - clearml.storage - ERROR - Exception encountered while uploading HTTPSConnectionPool(host='files.clear.ml', port=443): Max retries exceeded with url: / (Caused by NameResolutionError(\"<urllib3.connection.HTTPSConnection object at 0x000001A99FB524D0>: Failed to resolve 'files.clear.ml' ([Errno 11001] getaddrinfo failed)\"))\n"
     ]
    },
    {
     "name": "stderr",
     "output_type": "stream",
     "text": [
      "Retrying (Retry(total=221, connect=221, read=240, redirect=240, status=240)) after connection broken by 'NameResolutionError(\"<urllib3.connection.HTTPSConnection object at 0x000001A996F489A0>: Failed to resolve 'api.clear.ml' ([Errno 11001] getaddrinfo failed)\")': /v2.23/events.add_batch\n",
      "      33/60         0G     0.6945     0.7298      1.004         51        640:  65%|██████▌   | 62/95 [14:23<07:34, 13.77s/it]Retrying (Retry(total=2, connect=2, read=5, redirect=5, status=None)) after connection broken by 'NameResolutionError(\"<urllib3.connection.HTTPSConnection object at 0x000001A99FB51450>: Failed to resolve 'files.clear.ml' ([Errno 11001] getaddrinfo failed)\")': /\n",
      "Retrying (Retry(total=1, connect=1, read=5, redirect=5, status=None)) after connection broken by 'NameResolutionError(\"<urllib3.connection.HTTPSConnection object at 0x000001A99FB51330>: Failed to resolve 'files.clear.ml' ([Errno 11001] getaddrinfo failed)\")': /\n",
      "      33/60         0G     0.6941      0.729      1.003         79        640:  66%|██████▋   | 63/95 [14:37<07:28, 14.00s/it]Retrying (Retry(total=0, connect=0, read=5, redirect=5, status=None)) after connection broken by 'NameResolutionError(\"<urllib3.connection.HTTPSConnection object at 0x000001A99FB50A30>: Failed to resolve 'files.clear.ml' ([Errno 11001] getaddrinfo failed)\")': /\n",
      "Retrying (Retry(total=2, connect=2, read=5, redirect=5, status=None)) after connection broken by 'NameResolutionError(\"<urllib3.connection.HTTPSConnection object at 0x000001A99FB50640>: Failed to resolve 'files.clear.ml' ([Errno 11001] getaddrinfo failed)\")': /\n",
      "Retrying (Retry(total=1, connect=1, read=5, redirect=5, status=None)) after connection broken by 'NameResolutionError(\"<urllib3.connection.HTTPSConnection object at 0x000001A99FB52380>: Failed to resolve 'files.clear.ml' ([Errno 11001] getaddrinfo failed)\")': /\n",
      "      33/60         0G     0.6947     0.7284      1.004         49        640:  67%|██████▋   | 64/95 [14:51<07:15, 14.06s/it]Retrying (Retry(total=0, connect=0, read=5, redirect=5, status=None)) after connection broken by 'NameResolutionError(\"<urllib3.connection.HTTPSConnection object at 0x000001A99FB50760>: Failed to resolve 'files.clear.ml' ([Errno 11001] getaddrinfo failed)\")': /\n",
      "Retrying (Retry(total=2, connect=2, read=5, redirect=5, status=None)) after connection broken by 'NameResolutionError(\"<urllib3.connection.HTTPSConnection object at 0x000001A9AB93BD00>: Failed to resolve 'files.clear.ml' ([Errno 11001] getaddrinfo failed)\")': /\n",
      "Retrying (Retry(total=1, connect=1, read=5, redirect=5, status=None)) after connection broken by 'NameResolutionError(\"<urllib3.connection.HTTPSConnection object at 0x000001A9AB93B160>: Failed to resolve 'files.clear.ml' ([Errno 11001] getaddrinfo failed)\")': /\n",
      "      33/60         0G     0.6965     0.7309      1.006         37        640:  68%|██████▊   | 65/95 [15:05<06:58, 13.96s/it]Retrying (Retry(total=0, connect=0, read=5, redirect=5, status=None)) after connection broken by 'NameResolutionError(\"<urllib3.connection.HTTPSConnection object at 0x000001A9AB939990>: Failed to resolve 'files.clear.ml' ([Errno 11001] getaddrinfo failed)\")': /\n"
     ]
    },
    {
     "name": "stdout",
     "output_type": "stream",
     "text": [
      "2024-06-17 11:13:00,103 - clearml.storage - ERROR - Exception encountered while uploading HTTPSConnectionPool(host='files.clear.ml', port=443): Max retries exceeded with url: / (Caused by NameResolutionError(\"<urllib3.connection.HTTPSConnection object at 0x000001A9AB93BA90>: Failed to resolve 'files.clear.ml' ([Errno 11001] getaddrinfo failed)\"))\n"
     ]
    },
    {
     "name": "stderr",
     "output_type": "stream",
     "text": [
      "      33/60         0G      0.695     0.7277      1.005         71        640:  71%|███████   | 67/95 [15:33<06:28, 13.88s/it]Retrying (Retry(total=2, connect=2, read=5, redirect=5, status=None)) after connection broken by 'NameResolutionError(\"<urllib3.connection.HTTPSConnection object at 0x000001A996DE8DF0>: Failed to resolve 'files.clear.ml' ([Errno 11001] getaddrinfo failed)\")': /\n",
      "Retrying (Retry(total=226, connect=226, read=240, redirect=240, status=240)) after connection broken by 'NameResolutionError(\"<urllib3.connection.HTTPSConnection object at 0x000001A99D0BBC70>: Failed to resolve 'api.clear.ml' ([Errno 11001] getaddrinfo failed)\")': /v2.23/events.add_batch\n",
      "Retrying (Retry(total=1, connect=1, read=5, redirect=5, status=None)) after connection broken by 'NameResolutionError(\"<urllib3.connection.HTTPSConnection object at 0x000001A996DEB070>: Failed to resolve 'files.clear.ml' ([Errno 11001] getaddrinfo failed)\")': /\n",
      "      33/60         0G     0.6949     0.7265      1.005         55        640:  72%|███████▏  | 68/95 [15:47<06:13, 13.85s/it]Retrying (Retry(total=220, connect=220, read=240, redirect=240, status=240)) after connection broken by 'NameResolutionError(\"<urllib3.connection.HTTPSConnection object at 0x000001A99D0BAAD0>: Failed to resolve 'api.clear.ml' ([Errno 11001] getaddrinfo failed)\")': /v2.23/tasks.ping\n",
      "Retrying (Retry(total=220, connect=220, read=240, redirect=240, status=240)) after connection broken by 'NameResolutionError(\"<urllib3.connection.HTTPSConnection object at 0x000001A99D0B80A0>: Failed to resolve 'api.clear.ml' ([Errno 11001] getaddrinfo failed)\")': /v2.23/tasks.get_all\n",
      "Retrying (Retry(total=220, connect=220, read=240, redirect=240, status=240)) after connection broken by 'NameResolutionError(\"<urllib3.connection.HTTPSConnection object at 0x000001A99FB52020>: Failed to resolve 'api.clear.ml' ([Errno 11001] getaddrinfo failed)\")': /v2.23/events.add_batch\n",
      "Retrying (Retry(total=0, connect=0, read=5, redirect=5, status=None)) after connection broken by 'NameResolutionError(\"<urllib3.connection.HTTPSConnection object at 0x000001A99688CC40>: Failed to resolve 'files.clear.ml' ([Errno 11001] getaddrinfo failed)\")': /\n",
      "Retrying (Retry(total=2, connect=2, read=5, redirect=5, status=None)) after connection broken by 'NameResolutionError(\"<urllib3.connection.HTTPSConnection object at 0x000001A9AB93A1D0>: Failed to resolve 'files.clear.ml' ([Errno 11001] getaddrinfo failed)\")': /\n",
      "      33/60         0G     0.6944     0.7267      1.005         45        640:  73%|███████▎  | 69/95 [16:00<05:59, 13.84s/it]Retrying (Retry(total=1, connect=1, read=5, redirect=5, status=None)) after connection broken by 'NameResolutionError(\"<urllib3.connection.HTTPSConnection object at 0x000001A9AB938BB0>: Failed to resolve 'files.clear.ml' ([Errno 11001] getaddrinfo failed)\")': /\n",
      "Retrying (Retry(total=0, connect=0, read=5, redirect=5, status=None)) after connection broken by 'NameResolutionError(\"<urllib3.connection.HTTPSConnection object at 0x000001A9A0CA5DE0>: Failed to resolve 'files.clear.ml' ([Errno 11001] getaddrinfo failed)\")': /\n",
      "Retrying (Retry(total=2, connect=2, read=5, redirect=5, status=None)) after connection broken by 'NameResolutionError(\"<urllib3.connection.HTTPSConnection object at 0x000001A9A0CEDB70>: Failed to resolve 'files.clear.ml' ([Errno 11001] getaddrinfo failed)\")': /\n",
      "      33/60         0G     0.6961      0.727      1.006         61        640:  74%|███████▎  | 70/95 [16:14<05:47, 13.89s/it]Retrying (Retry(total=1, connect=1, read=5, redirect=5, status=None)) after connection broken by 'NameResolutionError(\"<urllib3.connection.HTTPSConnection object at 0x000001A9A94EBF40>: Failed to resolve 'files.clear.ml' ([Errno 11001] getaddrinfo failed)\")': /\n",
      "Retrying (Retry(total=0, connect=0, read=5, redirect=5, status=None)) after connection broken by 'NameResolutionError(\"<urllib3.connection.HTTPSConnection object at 0x000001A9A94EB790>: Failed to resolve 'files.clear.ml' ([Errno 11001] getaddrinfo failed)\")': /\n"
     ]
    },
    {
     "name": "stdout",
     "output_type": "stream",
     "text": [
      "2024-06-17 11:14:15,327 - clearml.storage - ERROR - Exception encountered while uploading HTTPSConnectionPool(host='files.clear.ml', port=443): Max retries exceeded with url: / (Caused by NameResolutionError(\"<urllib3.connection.HTTPSConnection object at 0x000001A9A94EB8E0>: Failed to resolve 'files.clear.ml' ([Errno 11001] getaddrinfo failed)\"))\n"
     ]
    },
    {
     "name": "stderr",
     "output_type": "stream",
     "text": [
      "      33/60         0G     0.6964     0.7264      1.007         53        640:  77%|███████▋  | 73/95 [16:56<05:04, 13.83s/it]Retrying (Retry(total=2, connect=2, read=5, redirect=5, status=None)) after connection broken by 'NameResolutionError(\"<urllib3.connection.HTTPSConnection object at 0x000001A9A94E81C0>: Failed to resolve 'files.clear.ml' ([Errno 11001] getaddrinfo failed)\")': /\n",
      "Retrying (Retry(total=1, connect=1, read=5, redirect=5, status=None)) after connection broken by 'NameResolutionError(\"<urllib3.connection.HTTPSConnection object at 0x000001A99FF6D720>: Failed to resolve 'files.clear.ml' ([Errno 11001] getaddrinfo failed)\")': /\n",
      "Retrying (Retry(total=0, connect=0, read=5, redirect=5, status=None)) after connection broken by 'NameResolutionError(\"<urllib3.connection.HTTPSConnection object at 0x000001A99FF6D6C0>: Failed to resolve 'files.clear.ml' ([Errno 11001] getaddrinfo failed)\")': /\n",
      "      33/60         0G     0.6968     0.7273      1.007         40        640:  78%|███████▊  | 74/95 [17:09<04:50, 13.82s/it]Retrying (Retry(total=2, connect=2, read=5, redirect=5, status=None)) after connection broken by 'NameResolutionError(\"<urllib3.connection.HTTPSConnection object at 0x000001A99FF6D750>: Failed to resolve 'files.clear.ml' ([Errno 11001] getaddrinfo failed)\")': /\n",
      "Retrying (Retry(total=1, connect=1, read=5, redirect=5, status=None)) after connection broken by 'NameResolutionError(\"<urllib3.connection.HTTPSConnection object at 0x000001A99FF6C5B0>: Failed to resolve 'files.clear.ml' ([Errno 11001] getaddrinfo failed)\")': /\n",
      "      33/60         0G      0.696     0.7263      1.007         43        640:  79%|███████▉  | 75/95 [17:23<04:35, 13.80s/it]Retrying (Retry(total=0, connect=0, read=5, redirect=5, status=None)) after connection broken by 'NameResolutionError(\"<urllib3.connection.HTTPSConnection object at 0x000001A99FF6FF10>: Failed to resolve 'files.clear.ml' ([Errno 11001] getaddrinfo failed)\")': /\n",
      "Retrying (Retry(total=2, connect=2, read=5, redirect=5, status=None)) after connection broken by 'NameResolutionError(\"<urllib3.connection.HTTPSConnection object at 0x000001A99FF6FE80>: Failed to resolve 'files.clear.ml' ([Errno 11001] getaddrinfo failed)\")': /\n",
      "Retrying (Retry(total=1, connect=1, read=5, redirect=5, status=None)) after connection broken by 'NameResolutionError(\"<urllib3.connection.HTTPSConnection object at 0x000001A99FF6DA50>: Failed to resolve 'files.clear.ml' ([Errno 11001] getaddrinfo failed)\")': /\n",
      "      33/60         0G     0.6942     0.7241      1.006         82        640:  80%|████████  | 76/95 [17:37<04:24, 13.91s/it]Retrying (Retry(total=0, connect=0, read=5, redirect=5, status=None)) after connection broken by 'NameResolutionError(\"<urllib3.connection.HTTPSConnection object at 0x000001A99FF6CD30>: Failed to resolve 'files.clear.ml' ([Errno 11001] getaddrinfo failed)\")': /\n"
     ]
    },
    {
     "name": "stdout",
     "output_type": "stream",
     "text": [
      "2024-06-17 11:15:30,546 - clearml.storage - ERROR - Exception encountered while uploading HTTPSConnectionPool(host='files.clear.ml', port=443): Max retries exceeded with url: / (Caused by NameResolutionError(\"<urllib3.connection.HTTPSConnection object at 0x000001A9A94811E0>: Failed to resolve 'files.clear.ml' ([Errno 11001] getaddrinfo failed)\"))\n"
     ]
    },
    {
     "name": "stderr",
     "output_type": "stream",
     "text": [
      "Retrying (Retry(total=225, connect=225, read=240, redirect=240, status=240)) after connection broken by 'NameResolutionError(\"<urllib3.connection.HTTPSConnection object at 0x000001A99688CFD0>: Failed to resolve 'api.clear.ml' ([Errno 11001] getaddrinfo failed)\")': /v2.23/events.add_batch\n",
      "Retrying (Retry(total=219, connect=219, read=240, redirect=240, status=240)) after connection broken by 'NameResolutionError(\"<urllib3.connection.HTTPSConnection object at 0x000001A9AB939150>: Failed to resolve 'api.clear.ml' ([Errno 11001] getaddrinfo failed)\")': /v2.23/tasks.ping\n",
      "      33/60         0G     0.6946     0.7235      1.007         46        640:  81%|████████  | 77/95 [17:51<04:10, 13.93s/it]Retrying (Retry(total=219, connect=219, read=240, redirect=240, status=240)) after connection broken by 'NameResolutionError(\"<urllib3.connection.HTTPSConnection object at 0x000001A9AB939F30>: Failed to resolve 'api.clear.ml' ([Errno 11001] getaddrinfo failed)\")': /v2.23/tasks.get_all\n",
      "Retrying (Retry(total=219, connect=219, read=240, redirect=240, status=240)) after connection broken by 'NameResolutionError(\"<urllib3.connection.HTTPSConnection object at 0x000001A9AB938DC0>: Failed to resolve 'api.clear.ml' ([Errno 11001] getaddrinfo failed)\")': /v2.23/events.add_batch\n",
      "      33/60         0G     0.6939     0.7223      1.007         85        640:  82%|████████▏ | 78/95 [18:06<03:57, 14.00s/it]Retrying (Retry(total=2, connect=2, read=5, redirect=5, status=None)) after connection broken by 'NameResolutionError(\"<urllib3.connection.HTTPSConnection object at 0x000001A9A9482AA0>: Failed to resolve 'files.clear.ml' ([Errno 11001] getaddrinfo failed)\")': /\n",
      "Retrying (Retry(total=1, connect=1, read=5, redirect=5, status=None)) after connection broken by 'NameResolutionError(\"<urllib3.connection.HTTPSConnection object at 0x000001A9A94829E0>: Failed to resolve 'files.clear.ml' ([Errno 11001] getaddrinfo failed)\")': /\n",
      "      33/60         0G     0.6938     0.7224      1.007         80        640:  83%|████████▎ | 79/95 [18:19<03:43, 13.97s/it]Retrying (Retry(total=0, connect=0, read=5, redirect=5, status=None)) after connection broken by 'NameResolutionError(\"<urllib3.connection.HTTPSConnection object at 0x000001A9A9481C30>: Failed to resolve 'files.clear.ml' ([Errno 11001] getaddrinfo failed)\")': /\n",
      "Retrying (Retry(total=2, connect=2, read=5, redirect=5, status=None)) after connection broken by 'NameResolutionError(\"<urllib3.connection.HTTPSConnection object at 0x000001A9A26FAB60>: Failed to resolve 'files.clear.ml' ([Errno 11001] getaddrinfo failed)\")': /\n",
      "Retrying (Retry(total=1, connect=1, read=5, redirect=5, status=None)) after connection broken by 'NameResolutionError(\"<urllib3.connection.HTTPSConnection object at 0x000001A9A26FBF40>: Failed to resolve 'files.clear.ml' ([Errno 11001] getaddrinfo failed)\")': /\n",
      "      33/60         0G     0.6941      0.722      1.007         66        640:  84%|████████▍ | 80/95 [18:34<03:30, 14.02s/it]Retrying (Retry(total=0, connect=0, read=5, redirect=5, status=None)) after connection broken by 'NameResolutionError(\"<urllib3.connection.HTTPSConnection object at 0x000001A9A26F9150>: Failed to resolve 'files.clear.ml' ([Errno 11001] getaddrinfo failed)\")': /\n",
      "Retrying (Retry(total=2, connect=2, read=5, redirect=5, status=None)) after connection broken by 'NameResolutionError(\"<urllib3.connection.HTTPSConnection object at 0x000001A99FD525C0>: Failed to resolve 'files.clear.ml' ([Errno 11001] getaddrinfo failed)\")': /\n",
      "Retrying (Retry(total=1, connect=1, read=5, redirect=5, status=None)) after connection broken by 'NameResolutionError(\"<urllib3.connection.HTTPSConnection object at 0x000001A99FD53280>: Failed to resolve 'files.clear.ml' ([Errno 11001] getaddrinfo failed)\")': /\n",
      "      33/60         0G     0.6948     0.7224      1.008         74        640:  85%|████████▌ | 81/95 [18:48<03:15, 14.00s/it]Retrying (Retry(total=0, connect=0, read=5, redirect=5, status=None)) after connection broken by 'NameResolutionError(\"<urllib3.connection.HTTPSConnection object at 0x000001A99FD531C0>: Failed to resolve 'files.clear.ml' ([Errno 11001] getaddrinfo failed)\")': /\n"
     ]
    },
    {
     "name": "stdout",
     "output_type": "stream",
     "text": [
      "2024-06-17 11:16:45,755 - clearml.storage - ERROR - Exception encountered while uploading HTTPSConnectionPool(host='files.clear.ml', port=443): Max retries exceeded with url: / (Caused by NameResolutionError(\"<urllib3.connection.HTTPSConnection object at 0x000001A99FD506A0>: Failed to resolve 'files.clear.ml' ([Errno 11001] getaddrinfo failed)\"))\n"
     ]
    },
    {
     "name": "stderr",
     "output_type": "stream",
     "text": [
      "      33/60         0G     0.6927     0.7225      1.007         45        640:  87%|████████▋ | 83/95 [19:15<02:46, 13.89s/it]Retrying (Retry(total=2, connect=2, read=5, redirect=5, status=None)) after connection broken by 'NameResolutionError(\"<urllib3.connection.HTTPSConnection object at 0x000001A99FD51660>: Failed to resolve 'files.clear.ml' ([Errno 11001] getaddrinfo failed)\")': /\n",
      "      33/60         0G     0.6917     0.7217      1.007         71        640:  88%|████████▊ | 84/95 [19:29<02:33, 13.95s/it]Retrying (Retry(total=1, connect=1, read=5, redirect=5, status=None)) after connection broken by 'NameResolutionError(\"<urllib3.connection.HTTPSConnection object at 0x000001A99FD51510>: Failed to resolve 'files.clear.ml' ([Errno 11001] getaddrinfo failed)\")': /\n",
      "Retrying (Retry(total=0, connect=0, read=5, redirect=5, status=None)) after connection broken by 'NameResolutionError(\"<urllib3.connection.HTTPSConnection object at 0x000001A99FD50580>: Failed to resolve 'files.clear.ml' ([Errno 11001] getaddrinfo failed)\")': /\n",
      "Retrying (Retry(total=2, connect=2, read=5, redirect=5, status=None)) after connection broken by 'NameResolutionError(\"<urllib3.connection.HTTPSConnection object at 0x000001A99FEAAFB0>: Failed to resolve 'files.clear.ml' ([Errno 11001] getaddrinfo failed)\")': /\n",
      "      33/60         0G     0.6923     0.7229      1.007         60        640:  89%|████████▉ | 85/95 [19:43<02:19, 13.94s/it]Retrying (Retry(total=224, connect=224, read=240, redirect=240, status=240)) after connection broken by 'NameResolutionError(\"<urllib3.connection.HTTPSConnection object at 0x000001A9A9483D60>: Failed to resolve 'api.clear.ml' ([Errno 11001] getaddrinfo failed)\")': /v2.23/events.add_batch\n",
      "Retrying (Retry(total=1, connect=1, read=5, redirect=5, status=None)) after connection broken by 'NameResolutionError(\"<urllib3.connection.HTTPSConnection object at 0x000001A99FEAA8F0>: Failed to resolve 'files.clear.ml' ([Errno 11001] getaddrinfo failed)\")': /\n",
      "Retrying (Retry(total=218, connect=218, read=240, redirect=240, status=240)) after connection broken by 'NameResolutionError(\"<urllib3.connection.HTTPSConnection object at 0x000001A9A9483010>: Failed to resolve 'api.clear.ml' ([Errno 11001] getaddrinfo failed)\")': /v2.23/tasks.ping\n",
      "Retrying (Retry(total=218, connect=218, read=240, redirect=240, status=240)) after connection broken by 'NameResolutionError(\"<urllib3.connection.HTTPSConnection object at 0x000001A9A9481600>: Failed to resolve 'api.clear.ml' ([Errno 11001] getaddrinfo failed)\")': /v2.23/tasks.get_all\n",
      "Retrying (Retry(total=218, connect=218, read=240, redirect=240, status=240)) after connection broken by 'NameResolutionError(\"<urllib3.connection.HTTPSConnection object at 0x000001A9A94804F0>: Failed to resolve 'api.clear.ml' ([Errno 11001] getaddrinfo failed)\")': /v2.23/events.add_batch\n",
      "Retrying (Retry(total=0, connect=0, read=5, redirect=5, status=None)) after connection broken by 'NameResolutionError(\"<urllib3.connection.HTTPSConnection object at 0x000001A99FEAACE0>: Failed to resolve 'files.clear.ml' ([Errno 11001] getaddrinfo failed)\")': /\n",
      "      33/60         0G     0.6927     0.7228      1.008         79        640:  91%|█████████ | 86/95 [19:57<02:05, 13.98s/it]Retrying (Retry(total=2, connect=2, read=5, redirect=5, status=None)) after connection broken by 'NameResolutionError(\"<urllib3.connection.HTTPSConnection object at 0x000001A99FEAB520>: Failed to resolve 'files.clear.ml' ([Errno 11001] getaddrinfo failed)\")': /\n",
      "Retrying (Retry(total=1, connect=1, read=5, redirect=5, status=None)) after connection broken by 'NameResolutionError(\"<urllib3.connection.HTTPSConnection object at 0x000001A99FEA80A0>: Failed to resolve 'files.clear.ml' ([Errno 11001] getaddrinfo failed)\")': /\n",
      "Retrying (Retry(total=0, connect=0, read=5, redirect=5, status=None)) after connection broken by 'NameResolutionError(\"<urllib3.connection.HTTPSConnection object at 0x000001A99FEA9C00>: Failed to resolve 'files.clear.ml' ([Errno 11001] getaddrinfo failed)\")': /\n"
     ]
    },
    {
     "name": "stdout",
     "output_type": "stream",
     "text": [
      "2024-06-17 11:18:00,986 - clearml.storage - ERROR - Exception encountered while uploading HTTPSConnectionPool(host='files.clear.ml', port=443): Max retries exceeded with url: / (Caused by NameResolutionError(\"<urllib3.connection.HTTPSConnection object at 0x000001A99FEA9990>: Failed to resolve 'files.clear.ml' ([Errno 11001] getaddrinfo failed)\"))\n"
     ]
    },
    {
     "name": "stderr",
     "output_type": "stream",
     "text": [
      "      33/60         0G     0.6951     0.7234       1.01         92        640:  94%|█████████▎| 89/95 [20:39<01:23, 13.97s/it]Retrying (Retry(total=2, connect=2, read=5, redirect=5, status=None)) after connection broken by 'NameResolutionError(\"<urllib3.connection.HTTPSConnection object at 0x000001A9A52F2530>: Failed to resolve 'files.clear.ml' ([Errno 11001] getaddrinfo failed)\")': /\n",
      "Retrying (Retry(total=1, connect=1, read=5, redirect=5, status=None)) after connection broken by 'NameResolutionError(\"<urllib3.connection.HTTPSConnection object at 0x000001A9A52F22C0>: Failed to resolve 'files.clear.ml' ([Errno 11001] getaddrinfo failed)\")': /\n",
      "      33/60         0G     0.6946     0.7223      1.009         83        640:  95%|█████████▍| 90/95 [20:54<01:10, 14.14s/it]Retrying (Retry(total=0, connect=0, read=5, redirect=5, status=None)) after connection broken by 'NameResolutionError(\"<urllib3.connection.HTTPSConnection object at 0x000001A9A52F31C0>: Failed to resolve 'files.clear.ml' ([Errno 11001] getaddrinfo failed)\")': /\n",
      "Retrying (Retry(total=2, connect=2, read=5, redirect=5, status=None)) after connection broken by 'NameResolutionError(\"<urllib3.connection.HTTPSConnection object at 0x000001A9A52189D0>: Failed to resolve 'files.clear.ml' ([Errno 11001] getaddrinfo failed)\")': /\n",
      "Retrying (Retry(total=1, connect=1, read=5, redirect=5, status=None)) after connection broken by 'NameResolutionError(\"<urllib3.connection.HTTPSConnection object at 0x000001A9A521B490>: Failed to resolve 'files.clear.ml' ([Errno 11001] getaddrinfo failed)\")': /\n",
      "      33/60         0G     0.6936     0.7214      1.009         55        640:  96%|█████████▌| 91/95 [21:07<00:55, 13.99s/it]Retrying (Retry(total=0, connect=0, read=5, redirect=5, status=None)) after connection broken by 'NameResolutionError(\"<urllib3.connection.HTTPSConnection object at 0x000001A9A521BA00>: Failed to resolve 'files.clear.ml' ([Errno 11001] getaddrinfo failed)\")': /\n",
      "Retrying (Retry(total=2, connect=2, read=5, redirect=5, status=None)) after connection broken by 'NameResolutionError(\"<urllib3.connection.HTTPSConnection object at 0x000001A9A5219AE0>: Failed to resolve 'files.clear.ml' ([Errno 11001] getaddrinfo failed)\")': /\n",
      "Retrying (Retry(total=1, connect=1, read=5, redirect=5, status=None)) after connection broken by 'NameResolutionError(\"<urllib3.connection.HTTPSConnection object at 0x000001A9A5218430>: Failed to resolve 'files.clear.ml' ([Errno 11001] getaddrinfo failed)\")': /\n",
      "      33/60         0G     0.6929     0.7197      1.008         81        640:  97%|█████████▋| 92/95 [21:21<00:42, 14.02s/it]Retrying (Retry(total=0, connect=0, read=5, redirect=5, status=None)) after connection broken by 'NameResolutionError(\"<urllib3.connection.HTTPSConnection object at 0x000001A9A5219030>: Failed to resolve 'files.clear.ml' ([Errno 11001] getaddrinfo failed)\")': /\n"
     ]
    },
    {
     "name": "stdout",
     "output_type": "stream",
     "text": [
      "2024-06-17 11:19:16,232 - clearml.storage - ERROR - Exception encountered while uploading HTTPSConnectionPool(host='files.clear.ml', port=443): Max retries exceeded with url: / (Caused by NameResolutionError(\"<urllib3.connection.HTTPSConnection object at 0x000001A9A259B2E0>: Failed to resolve 'files.clear.ml' ([Errno 11001] getaddrinfo failed)\"))\n"
     ]
    },
    {
     "name": "stderr",
     "output_type": "stream",
     "text": [
      "      33/60         0G      0.692     0.7183      1.008         75        640:  98%|█████████▊| 93/95 [21:36<00:28, 14.05s/it]Retrying (Retry(total=223, connect=223, read=240, redirect=240, status=240)) after connection broken by 'NameResolutionError(\"<urllib3.connection.HTTPSConnection object at 0x000001A99FEA9780>: Failed to resolve 'api.clear.ml' ([Errno 11001] getaddrinfo failed)\")': /v2.23/events.add_batch\n",
      "Retrying (Retry(total=217, connect=217, read=240, redirect=240, status=240)) after connection broken by 'NameResolutionError(\"<urllib3.connection.HTTPSConnection object at 0x000001A99FEA9F00>: Failed to resolve 'api.clear.ml' ([Errno 11001] getaddrinfo failed)\")': /v2.23/tasks.ping\n",
      "      33/60         0G     0.6915      0.717      1.007         76        640:  99%|█████████▉| 94/95 [21:50<00:14, 14.08s/it]Retrying (Retry(total=217, connect=217, read=240, redirect=240, status=240)) after connection broken by 'NameResolutionError(\"<urllib3.connection.HTTPSConnection object at 0x000001A99FEA84F0>: Failed to resolve 'api.clear.ml' ([Errno 11001] getaddrinfo failed)\")': /v2.23/tasks.get_all\n",
      "Retrying (Retry(total=217, connect=217, read=240, redirect=240, status=240)) after connection broken by 'NameResolutionError(\"<urllib3.connection.HTTPSConnection object at 0x000001A99FEAB070>: Failed to resolve 'api.clear.ml' ([Errno 11001] getaddrinfo failed)\")': /v2.23/events.add_batch\n",
      "Retrying (Retry(total=2, connect=2, read=5, redirect=5, status=None)) after connection broken by 'NameResolutionError(\"<urllib3.connection.HTTPSConnection object at 0x000001A9A2598400>: Failed to resolve 'files.clear.ml' ([Errno 11001] getaddrinfo failed)\")': /\n",
      "      33/60         0G     0.6908      0.716      1.007         48        640: 100%|██████████| 95/95 [21:59<00:00, 13.89s/it]\n",
      "                 Class     Images  Instances      Box(P          R      mAP50  mAP50-95):   0%|          | 0/2 [00:00<?, ?it/s]Retrying (Retry(total=1, connect=1, read=5, redirect=5, status=None)) after connection broken by 'NameResolutionError(\"<urllib3.connection.HTTPSConnection object at 0x000001A9A2598280>: Failed to resolve 'files.clear.ml' ([Errno 11001] getaddrinfo failed)\")': /\n",
      "Retrying (Retry(total=0, connect=0, read=5, redirect=5, status=None)) after connection broken by 'NameResolutionError(\"<urllib3.connection.HTTPSConnection object at 0x000001A9A73AC220>: Failed to resolve 'files.clear.ml' ([Errno 11001] getaddrinfo failed)\")': /\n",
      "                 Class     Images  Instances      Box(P          R      mAP50  mAP50-95):  50%|█████     | 1/2 [00:12<00:12, 12.24s/it]Retrying (Retry(total=2, connect=2, read=5, redirect=5, status=None)) after connection broken by 'NameResolutionError(\"<urllib3.connection.HTTPSConnection object at 0x000001A9A73ADB40>: Failed to resolve 'files.clear.ml' ([Errno 11001] getaddrinfo failed)\")': /\n",
      "Retrying (Retry(total=1, connect=1, read=5, redirect=5, status=None)) after connection broken by 'NameResolutionError(\"<urllib3.connection.HTTPSConnection object at 0x000001A9A73ADCF0>: Failed to resolve 'files.clear.ml' ([Errno 11001] getaddrinfo failed)\")': /\n",
      "                 Class     Images  Instances      Box(P          R      mAP50  mAP50-95): 100%|██████████| 2/2 [00:24<00:00, 12.23s/it]"
     ]
    },
    {
     "name": "stdout",
     "output_type": "stream",
     "text": [
      "                   all         63        147      0.667      0.629      0.616      0.375\n"
     ]
    },
    {
     "name": "stderr",
     "output_type": "stream",
     "text": [
      "\n"
     ]
    },
    {
     "name": "stdout",
     "output_type": "stream",
     "text": [
      "\n",
      "      Epoch    GPU_mem   box_loss   cls_loss   dfl_loss  Instances       Size\n"
     ]
    },
    {
     "name": "stderr",
     "output_type": "stream",
     "text": [
      "  0%|          | 0/95 [00:00<?, ?it/s]Retrying (Retry(total=0, connect=0, read=5, redirect=5, status=None)) after connection broken by 'NameResolutionError(\"<urllib3.connection.HTTPSConnection object at 0x000001A9A73AC580>: Failed to resolve 'files.clear.ml' ([Errno 11001] getaddrinfo failed)\")': /\n",
      "Retrying (Retry(total=2, connect=2, read=5, redirect=5, status=None)) after connection broken by 'NameResolutionError(\"<urllib3.connection.HTTPSConnection object at 0x000001A9A73ADC30>: Failed to resolve 'files.clear.ml' ([Errno 11001] getaddrinfo failed)\")': /\n",
      "Retrying (Retry(total=1, connect=1, read=5, redirect=5, status=None)) after connection broken by 'NameResolutionError(\"<urllib3.connection.HTTPSConnection object at 0x000001A9A73AD0F0>: Failed to resolve 'files.clear.ml' ([Errno 11001] getaddrinfo failed)\")': /\n",
      "      34/60         0G     0.6293     0.6115     0.9863         62        640:   1%|          | 1/95 [00:13<21:34, 13.77s/it]Retrying (Retry(total=0, connect=0, read=5, redirect=5, status=None)) after connection broken by 'NameResolutionError(\"<urllib3.connection.HTTPSConnection object at 0x000001A9A73ADDB0>: Failed to resolve 'files.clear.ml' ([Errno 11001] getaddrinfo failed)\")': /\n"
     ]
    },
    {
     "name": "stdout",
     "output_type": "stream",
     "text": [
      "2024-06-17 11:20:31,479 - clearml.storage - ERROR - Exception encountered while uploading HTTPSConnectionPool(host='files.clear.ml', port=443): Max retries exceeded with url: / (Caused by NameResolutionError(\"<urllib3.connection.HTTPSConnection object at 0x000001A9A73AD990>: Failed to resolve 'files.clear.ml' ([Errno 11001] getaddrinfo failed)\"))\n"
     ]
    },
    {
     "name": "stderr",
     "output_type": "stream",
     "text": [
      "      34/60         0G     0.6969     0.6883      1.018         57        640:   3%|▎         | 3/95 [00:41<21:14, 13.85s/it]Retrying (Retry(total=2, connect=2, read=5, redirect=5, status=None)) after connection broken by 'NameResolutionError(\"<urllib3.connection.HTTPSConnection object at 0x000001A99FEAB640>: Failed to resolve 'files.clear.ml' ([Errno 11001] getaddrinfo failed)\")': /\n",
      "Retrying (Retry(total=1, connect=1, read=5, redirect=5, status=None)) after connection broken by 'NameResolutionError(\"<urllib3.connection.HTTPSConnection object at 0x000001A99FEAA6B0>: Failed to resolve 'files.clear.ml' ([Errno 11001] getaddrinfo failed)\")': /\n",
      "      34/60         0G     0.6767     0.6499      1.004         77        640:   4%|▍         | 4/95 [00:55<21:08, 13.94s/it]Retrying (Retry(total=0, connect=0, read=5, redirect=5, status=None)) after connection broken by 'NameResolutionError(\"<urllib3.connection.HTTPSConnection object at 0x000001A99FEAA7A0>: Failed to resolve 'files.clear.ml' ([Errno 11001] getaddrinfo failed)\")': /\n",
      "Retrying (Retry(total=2, connect=2, read=5, redirect=5, status=None)) after connection broken by 'NameResolutionError(\"<urllib3.connection.HTTPSConnection object at 0x000001A99FEA9270>: Failed to resolve 'files.clear.ml' ([Errno 11001] getaddrinfo failed)\")': /\n",
      "Retrying (Retry(total=1, connect=1, read=5, redirect=5, status=None)) after connection broken by 'NameResolutionError(\"<urllib3.connection.HTTPSConnection object at 0x000001A99FEA97B0>: Failed to resolve 'files.clear.ml' ([Errno 11001] getaddrinfo failed)\")': /\n",
      "      34/60         0G     0.6709     0.6317      1.021         35        640:   5%|▌         | 5/95 [01:09<20:42, 13.81s/it]Retrying (Retry(total=0, connect=0, read=5, redirect=5, status=None)) after connection broken by 'NameResolutionError(\"<urllib3.connection.HTTPSConnection object at 0x000001A99FEAB610>: Failed to resolve 'files.clear.ml' ([Errno 11001] getaddrinfo failed)\")': /\n",
      "Retrying (Retry(total=2, connect=2, read=5, redirect=5, status=None)) after connection broken by 'NameResolutionError(\"<urllib3.connection.HTTPSConnection object at 0x000001A99FEAA8F0>: Failed to resolve 'files.clear.ml' ([Errno 11001] getaddrinfo failed)\")': /\n",
      "Retrying (Retry(total=222, connect=222, read=240, redirect=240, status=240)) after connection broken by 'NameResolutionError(\"<urllib3.connection.HTTPSConnection object at 0x000001A9A259B550>: Failed to resolve 'api.clear.ml' ([Errno 11001] getaddrinfo failed)\")': /v2.23/events.add_batch\n",
      "Retrying (Retry(total=1, connect=1, read=5, redirect=5, status=None)) after connection broken by 'NameResolutionError(\"<urllib3.connection.HTTPSConnection object at 0x000001A9A9483D00>: Failed to resolve 'files.clear.ml' ([Errno 11001] getaddrinfo failed)\")': /\n",
      "Retrying (Retry(total=216, connect=216, read=240, redirect=240, status=240)) after connection broken by 'NameResolutionError(\"<urllib3.connection.HTTPSConnection object at 0x000001A9A2598CD0>: Failed to resolve 'api.clear.ml' ([Errno 11001] getaddrinfo failed)\")': /v2.23/tasks.ping\n",
      "      34/60         0G      0.664     0.6172      1.006         87        640:   6%|▋         | 6/95 [01:23<20:33, 13.86s/it]Retrying (Retry(total=216, connect=216, read=240, redirect=240, status=240)) after connection broken by 'NameResolutionError(\"<urllib3.connection.HTTPSConnection object at 0x000001A9A259BC70>: Failed to resolve 'api.clear.ml' ([Errno 11001] getaddrinfo failed)\")': /v2.23/tasks.get_all\n",
      "Retrying (Retry(total=216, connect=216, read=240, redirect=240, status=240)) after connection broken by 'NameResolutionError(\"<urllib3.connection.HTTPSConnection object at 0x000001A9A259B5E0>: Failed to resolve 'api.clear.ml' ([Errno 11001] getaddrinfo failed)\")': /v2.23/events.add_batch\n",
      "Retrying (Retry(total=0, connect=0, read=5, redirect=5, status=None)) after connection broken by 'NameResolutionError(\"<urllib3.connection.HTTPSConnection object at 0x000001A99FF6C430>: Failed to resolve 'files.clear.ml' ([Errno 11001] getaddrinfo failed)\")': /\n"
     ]
    },
    {
     "name": "stdout",
     "output_type": "stream",
     "text": [
      "2024-06-17 11:21:46,690 - clearml.storage - ERROR - Exception encountered while uploading HTTPSConnectionPool(host='files.clear.ml', port=443): Max retries exceeded with url: / (Caused by NameResolutionError(\"<urllib3.connection.HTTPSConnection object at 0x000001A99FF6C250>: Failed to resolve 'files.clear.ml' ([Errno 11001] getaddrinfo failed)\"))\n"
     ]
    },
    {
     "name": "stderr",
     "output_type": "stream",
     "text": [
      "      34/60         0G      0.661     0.6318     0.9932         82        640:   8%|▊         | 8/95 [01:51<20:09, 13.91s/it]Retrying (Retry(total=2, connect=2, read=5, redirect=5, status=None)) after connection broken by 'NameResolutionError(\"<urllib3.connection.HTTPSConnection object at 0x000001A99FF6E110>: Failed to resolve 'files.clear.ml' ([Errno 11001] getaddrinfo failed)\")': /\n",
      "      34/60         0G     0.6554     0.6313     0.9904         45        640:   9%|▉         | 9/95 [02:04<19:53, 13.87s/it]Retrying (Retry(total=1, connect=1, read=5, redirect=5, status=None)) after connection broken by 'NameResolutionError(\"<urllib3.connection.HTTPSConnection object at 0x000001A99FF6E230>: Failed to resolve 'files.clear.ml' ([Errno 11001] getaddrinfo failed)\")': /\n",
      "Retrying (Retry(total=0, connect=0, read=5, redirect=5, status=None)) after connection broken by 'NameResolutionError(\"<urllib3.connection.HTTPSConnection object at 0x000001A99FF6C2E0>: Failed to resolve 'files.clear.ml' ([Errno 11001] getaddrinfo failed)\")': /\n",
      "Retrying (Retry(total=2, connect=2, read=5, redirect=5, status=None)) after connection broken by 'NameResolutionError(\"<urllib3.connection.HTTPSConnection object at 0x000001A9A94E9420>: Failed to resolve 'files.clear.ml' ([Errno 11001] getaddrinfo failed)\")': /\n",
      "      34/60         0G     0.6642     0.6329     0.9962         72        640:  11%|█         | 10/95 [02:18<19:44, 13.94s/it]Retrying (Retry(total=1, connect=1, read=5, redirect=5, status=None)) after connection broken by 'NameResolutionError(\"<urllib3.connection.HTTPSConnection object at 0x000001A9A94E8EB0>: Failed to resolve 'files.clear.ml' ([Errno 11001] getaddrinfo failed)\")': /\n",
      "Retrying (Retry(total=0, connect=0, read=5, redirect=5, status=None)) after connection broken by 'NameResolutionError(\"<urllib3.connection.HTTPSConnection object at 0x000001A9A94EA7D0>: Failed to resolve 'files.clear.ml' ([Errno 11001] getaddrinfo failed)\")': /\n",
      "      34/60         0G     0.6737      0.649     0.9968         74        640:  12%|█▏        | 11/95 [02:33<19:37, 14.02s/it]Retrying (Retry(total=2, connect=2, read=5, redirect=5, status=None)) after connection broken by 'NameResolutionError(\"<urllib3.connection.HTTPSConnection object at 0x000001A99FB52320>: Failed to resolve 'files.clear.ml' ([Errno 11001] getaddrinfo failed)\")': /\n",
      "Retrying (Retry(total=1, connect=1, read=5, redirect=5, status=None)) after connection broken by 'NameResolutionError(\"<urllib3.connection.HTTPSConnection object at 0x000001A99FB52F80>: Failed to resolve 'files.clear.ml' ([Errno 11001] getaddrinfo failed)\")': /\n",
      "Retrying (Retry(total=0, connect=0, read=5, redirect=5, status=None)) after connection broken by 'NameResolutionError(\"<urllib3.connection.HTTPSConnection object at 0x000001A99FB53430>: Failed to resolve 'files.clear.ml' ([Errno 11001] getaddrinfo failed)\")': /\n"
     ]
    },
    {
     "name": "stdout",
     "output_type": "stream",
     "text": [
      "2024-06-17 11:23:01,921 - clearml.storage - ERROR - Exception encountered while uploading HTTPSConnectionPool(host='files.clear.ml', port=443): Max retries exceeded with url: / (Caused by NameResolutionError(\"<urllib3.connection.HTTPSConnection object at 0x000001A99FB50880>: Failed to resolve 'files.clear.ml' ([Errno 11001] getaddrinfo failed)\"))\n"
     ]
    },
    {
     "name": "stderr",
     "output_type": "stream",
     "text": [
      "      34/60         0G     0.6702     0.6369     0.9901         58        640:  15%|█▍        | 14/95 [03:15<18:50, 13.95s/it]Retrying (Retry(total=2, connect=2, read=5, redirect=5, status=None)) after connection broken by 'NameResolutionError(\"<urllib3.connection.HTTPSConnection object at 0x000001A99D0BAE60>: Failed to resolve 'files.clear.ml' ([Errno 11001] getaddrinfo failed)\")': /\n",
      "Retrying (Retry(total=221, connect=221, read=240, redirect=240, status=240)) after connection broken by 'NameResolutionError(\"<urllib3.connection.HTTPSConnection object at 0x000001A9A9480EB0>: Failed to resolve 'api.clear.ml' ([Errno 11001] getaddrinfo failed)\")': /v2.23/events.add_batch\n",
      "Retrying (Retry(total=215, connect=215, read=240, redirect=240, status=240)) after connection broken by 'NameResolutionError(\"<urllib3.connection.HTTPSConnection object at 0x000001A99FF6C370>: Failed to resolve 'api.clear.ml' ([Errno 11001] getaddrinfo failed)\")': /v2.23/tasks.ping\n",
      "Retrying (Retry(total=1, connect=1, read=5, redirect=5, status=None)) after connection broken by 'NameResolutionError(\"<urllib3.connection.HTTPSConnection object at 0x000001A99D0BBA90>: Failed to resolve 'files.clear.ml' ([Errno 11001] getaddrinfo failed)\")': /\n",
      "Retrying (Retry(total=215, connect=215, read=240, redirect=240, status=240)) after connection broken by 'NameResolutionError(\"<urllib3.connection.HTTPSConnection object at 0x000001A99FF6E0E0>: Failed to resolve 'api.clear.ml' ([Errno 11001] getaddrinfo failed)\")': /v2.23/tasks.get_all\n",
      "Retrying (Retry(total=215, connect=215, read=240, redirect=240, status=240)) after connection broken by 'NameResolutionError(\"<urllib3.connection.HTTPSConnection object at 0x000001A99FF6E1D0>: Failed to resolve 'api.clear.ml' ([Errno 11001] getaddrinfo failed)\")': /v2.23/events.add_batch\n",
      "      34/60         0G     0.6641     0.6289     0.9872         77        640:  16%|█▌        | 15/95 [03:29<18:37, 13.97s/it]Retrying (Retry(total=0, connect=0, read=5, redirect=5, status=None)) after connection broken by 'NameResolutionError(\"<urllib3.connection.HTTPSConnection object at 0x000001A99D0B85E0>: Failed to resolve 'files.clear.ml' ([Errno 11001] getaddrinfo failed)\")': /\n",
      "Retrying (Retry(total=2, connect=2, read=5, redirect=5, status=None)) after connection broken by 'NameResolutionError(\"<urllib3.connection.HTTPSConnection object at 0x000001A99D0BAC20>: Failed to resolve 'files.clear.ml' ([Errno 11001] getaddrinfo failed)\")': /\n",
      "Retrying (Retry(total=1, connect=1, read=5, redirect=5, status=None)) after connection broken by 'NameResolutionError(\"<urllib3.connection.HTTPSConnection object at 0x000001A99D0B8880>: Failed to resolve 'files.clear.ml' ([Errno 11001] getaddrinfo failed)\")': /\n",
      "      34/60         0G      0.669     0.6367       0.99         77        640:  17%|█▋        | 16/95 [03:43<18:27, 14.02s/it]Retrying (Retry(total=0, connect=0, read=5, redirect=5, status=None)) after connection broken by 'NameResolutionError(\"<urllib3.connection.HTTPSConnection object at 0x000001A99D0BAB00>: Failed to resolve 'files.clear.ml' ([Errno 11001] getaddrinfo failed)\")': /\n",
      "Retrying (Retry(total=2, connect=2, read=5, redirect=5, status=None)) after connection broken by 'NameResolutionError(\"<urllib3.connection.HTTPSConnection object at 0x000001A9A25EC2E0>: Failed to resolve 'files.clear.ml' ([Errno 11001] getaddrinfo failed)\")': /\n",
      "Retrying (Retry(total=1, connect=1, read=5, redirect=5, status=None)) after connection broken by 'NameResolutionError(\"<urllib3.connection.HTTPSConnection object at 0x000001A9A25EE5F0>: Failed to resolve 'files.clear.ml' ([Errno 11001] getaddrinfo failed)\")': /\n",
      "      34/60         0G     0.6702     0.6355     0.9898         67        640:  18%|█▊        | 17/95 [03:57<18:12, 14.00s/it]Retrying (Retry(total=0, connect=0, read=5, redirect=5, status=None)) after connection broken by 'NameResolutionError(\"<urllib3.connection.HTTPSConnection object at 0x000001A9A25EEC80>: Failed to resolve 'files.clear.ml' ([Errno 11001] getaddrinfo failed)\")': /\n"
     ]
    },
    {
     "name": "stdout",
     "output_type": "stream",
     "text": [
      "2024-06-17 11:24:17,145 - clearml.storage - ERROR - Exception encountered while uploading HTTPSConnectionPool(host='files.clear.ml', port=443): Max retries exceeded with url: / (Caused by NameResolutionError(\"<urllib3.connection.HTTPSConnection object at 0x000001A9A25EE3B0>: Failed to resolve 'files.clear.ml' ([Errno 11001] getaddrinfo failed)\"))\n"
     ]
    },
    {
     "name": "stderr",
     "output_type": "stream",
     "text": [
      "      34/60         0G     0.6765     0.6471     0.9912         59        640:  20%|██        | 19/95 [04:25<17:41, 13.96s/it]Retrying (Retry(total=2, connect=2, read=5, redirect=5, status=None)) after connection broken by 'NameResolutionError(\"<urllib3.connection.HTTPSConnection object at 0x000001A996E6D180>: Failed to resolve 'files.clear.ml' ([Errno 11001] getaddrinfo failed)\")': /\n",
      "Retrying (Retry(total=1, connect=1, read=5, redirect=5, status=None)) after connection broken by 'NameResolutionError(\"<urllib3.connection.HTTPSConnection object at 0x000001A996E88FD0>: Failed to resolve 'files.clear.ml' ([Errno 11001] getaddrinfo failed)\")': /\n",
      "      34/60         0G      0.683     0.6519     0.9972         44        640:  21%|██        | 20/95 [04:38<17:20, 13.87s/it]Retrying (Retry(total=0, connect=0, read=5, redirect=5, status=None)) after connection broken by 'NameResolutionError(\"<urllib3.connection.HTTPSConnection object at 0x000001A996E8AAA0>: Failed to resolve 'files.clear.ml' ([Errno 11001] getaddrinfo failed)\")': /\n",
      "Retrying (Retry(total=2, connect=2, read=5, redirect=5, status=None)) after connection broken by 'NameResolutionError(\"<urllib3.connection.HTTPSConnection object at 0x000001A9A25EE260>: Failed to resolve 'files.clear.ml' ([Errno 11001] getaddrinfo failed)\")': /\n",
      "      34/60         0G     0.6807     0.6456     0.9971         64        640:  22%|██▏       | 21/95 [04:52<17:08, 13.89s/it]Retrying (Retry(total=1, connect=1, read=5, redirect=5, status=None)) after connection broken by 'NameResolutionError(\"<urllib3.connection.HTTPSConnection object at 0x000001A9A25EDC60>: Failed to resolve 'files.clear.ml' ([Errno 11001] getaddrinfo failed)\")': /\n",
      "Retrying (Retry(total=0, connect=0, read=5, redirect=5, status=None)) after connection broken by 'NameResolutionError(\"<urllib3.connection.HTTPSConnection object at 0x000001A9A25ECFA0>: Failed to resolve 'files.clear.ml' ([Errno 11001] getaddrinfo failed)\")': /\n",
      "Retrying (Retry(total=2, connect=2, read=5, redirect=5, status=None)) after connection broken by 'NameResolutionError(\"<urllib3.connection.HTTPSConnection object at 0x000001A9AC481240>: Failed to resolve 'files.clear.ml' ([Errno 11001] getaddrinfo failed)\")': /\n",
      "      34/60         0G     0.6805     0.6468     0.9981         48        640:  23%|██▎       | 22/95 [05:06<16:54, 13.89s/it]Retrying (Retry(total=1, connect=1, read=5, redirect=5, status=None)) after connection broken by 'NameResolutionError(\"<urllib3.connection.HTTPSConnection object at 0x000001A9AC480EE0>: Failed to resolve 'files.clear.ml' ([Errno 11001] getaddrinfo failed)\")': /\n",
      "Retrying (Retry(total=0, connect=0, read=5, redirect=5, status=None)) after connection broken by 'NameResolutionError(\"<urllib3.connection.HTTPSConnection object at 0x000001A9AC483A00>: Failed to resolve 'files.clear.ml' ([Errno 11001] getaddrinfo failed)\")': /\n"
     ]
    },
    {
     "name": "stdout",
     "output_type": "stream",
     "text": [
      "2024-06-17 11:25:32,356 - clearml.storage - ERROR - Exception encountered while uploading HTTPSConnectionPool(host='files.clear.ml', port=443): Max retries exceeded with url: / (Caused by NameResolutionError(\"<urllib3.connection.HTTPSConnection object at 0x000001A9AC482A40>: Failed to resolve 'files.clear.ml' ([Errno 11001] getaddrinfo failed)\"))\n"
     ]
    },
    {
     "name": "stderr",
     "output_type": "stream",
     "text": [
      "Retrying (Retry(total=220, connect=220, read=240, redirect=240, status=240)) after connection broken by 'NameResolutionError(\"<urllib3.connection.HTTPSConnection object at 0x000001A99D0BA020>: Failed to resolve 'api.clear.ml' ([Errno 11001] getaddrinfo failed)\")': /v2.23/events.add_batch\n",
      "      34/60         0G      0.679     0.6404     0.9973         98        640:  24%|██▍       | 23/95 [05:20<16:49, 14.02s/it]Retrying (Retry(total=214, connect=214, read=240, redirect=240, status=240)) after connection broken by 'NameResolutionError(\"<urllib3.connection.HTTPSConnection object at 0x000001A99D0BAF50>: Failed to resolve 'api.clear.ml' ([Errno 11001] getaddrinfo failed)\")': /v2.23/tasks.ping\n",
      "Retrying (Retry(total=214, connect=214, read=240, redirect=240, status=240)) after connection broken by 'NameResolutionError(\"<urllib3.connection.HTTPSConnection object at 0x000001A99D0BAB30>: Failed to resolve 'api.clear.ml' ([Errno 11001] getaddrinfo failed)\")': /v2.23/tasks.get_all\n",
      "Retrying (Retry(total=214, connect=214, read=240, redirect=240, status=240)) after connection broken by 'NameResolutionError(\"<urllib3.connection.HTTPSConnection object at 0x000001A99D0BA560>: Failed to resolve 'api.clear.ml' ([Errno 11001] getaddrinfo failed)\")': /v2.23/events.add_batch\n",
      "      34/60         0G     0.6785     0.6452      0.998         50        640:  26%|██▋       | 25/95 [05:48<16:18, 13.97s/it]Retrying (Retry(total=2, connect=2, read=5, redirect=5, status=None)) after connection broken by 'NameResolutionError(\"<urllib3.connection.HTTPSConnection object at 0x000001A9A945D840>: Failed to resolve 'files.clear.ml' ([Errno 11001] getaddrinfo failed)\")': /\n",
      "Retrying (Retry(total=1, connect=1, read=5, redirect=5, status=None)) after connection broken by 'NameResolutionError(\"<urllib3.connection.HTTPSConnection object at 0x000001A9A945F4C0>: Failed to resolve 'files.clear.ml' ([Errno 11001] getaddrinfo failed)\")': /\n",
      "Retrying (Retry(total=0, connect=0, read=5, redirect=5, status=None)) after connection broken by 'NameResolutionError(\"<urllib3.connection.HTTPSConnection object at 0x000001A9A945F3D0>: Failed to resolve 'files.clear.ml' ([Errno 11001] getaddrinfo failed)\")': /\n",
      "      34/60         0G     0.6776     0.6435     0.9971         90        640:  27%|██▋       | 26/95 [06:03<16:09, 14.06s/it]Retrying (Retry(total=2, connect=2, read=5, redirect=5, status=None)) after connection broken by 'NameResolutionError(\"<urllib3.connection.HTTPSConnection object at 0x000001A9A945D630>: Failed to resolve 'files.clear.ml' ([Errno 11001] getaddrinfo failed)\")': /\n",
      "Retrying (Retry(total=1, connect=1, read=5, redirect=5, status=None)) after connection broken by 'NameResolutionError(\"<urllib3.connection.HTTPSConnection object at 0x000001A9A945D9C0>: Failed to resolve 'files.clear.ml' ([Errno 11001] getaddrinfo failed)\")': /\n",
      "Retrying (Retry(total=0, connect=0, read=5, redirect=5, status=None)) after connection broken by 'NameResolutionError(\"<urllib3.connection.HTTPSConnection object at 0x000001A9A945CE20>: Failed to resolve 'files.clear.ml' ([Errno 11001] getaddrinfo failed)\")': /\n",
      "      34/60         0G     0.6767     0.6444     0.9942        105        640:  28%|██▊       | 27/95 [06:17<15:59, 14.11s/it]Retrying (Retry(total=2, connect=2, read=5, redirect=5, status=None)) after connection broken by 'NameResolutionError(\"<urllib3.connection.HTTPSConnection object at 0x000001A9980B1E70>: Failed to resolve 'files.clear.ml' ([Errno 11001] getaddrinfo failed)\")': /\n",
      "Retrying (Retry(total=1, connect=1, read=5, redirect=5, status=None)) after connection broken by 'NameResolutionError(\"<urllib3.connection.HTTPSConnection object at 0x000001A9980B2950>: Failed to resolve 'files.clear.ml' ([Errno 11001] getaddrinfo failed)\")': /\n",
      "      34/60         0G     0.6767     0.6421     0.9938         50        640:  29%|██▉       | 28/95 [06:31<15:42, 14.07s/it]Retrying (Retry(total=0, connect=0, read=5, redirect=5, status=None)) after connection broken by 'NameResolutionError(\"<urllib3.connection.HTTPSConnection object at 0x000001A9980B1CF0>: Failed to resolve 'files.clear.ml' ([Errno 11001] getaddrinfo failed)\")': /\n"
     ]
    },
    {
     "name": "stdout",
     "output_type": "stream",
     "text": [
      "2024-06-17 11:26:47,618 - clearml.storage - ERROR - Exception encountered while uploading HTTPSConnectionPool(host='files.clear.ml', port=443): Max retries exceeded with url: / (Caused by NameResolutionError(\"<urllib3.connection.HTTPSConnection object at 0x000001A998026B60>: Failed to resolve 'files.clear.ml' ([Errno 11001] getaddrinfo failed)\"))\n"
     ]
    },
    {
     "name": "stderr",
     "output_type": "stream",
     "text": [
      "      34/60         0G     0.6746     0.6389     0.9938         66        640:  32%|███▏      | 30/95 [06:59<15:10, 14.01s/it]Retrying (Retry(total=2, connect=2, read=5, redirect=5, status=None)) after connection broken by 'NameResolutionError(\"<urllib3.connection.HTTPSConnection object at 0x000001A998633730>: Failed to resolve 'files.clear.ml' ([Errno 11001] getaddrinfo failed)\")': /\n",
      "Retrying (Retry(total=1, connect=1, read=5, redirect=5, status=None)) after connection broken by 'NameResolutionError(\"<urllib3.connection.HTTPSConnection object at 0x000001A9986307F0>: Failed to resolve 'files.clear.ml' ([Errno 11001] getaddrinfo failed)\")': /\n",
      "      34/60         0G     0.6739     0.6357     0.9945         67        640:  33%|███▎      | 31/95 [07:13<15:04, 14.13s/it]Retrying (Retry(total=0, connect=0, read=5, redirect=5, status=None)) after connection broken by 'NameResolutionError(\"<urllib3.connection.HTTPSConnection object at 0x000001A998633C10>: Failed to resolve 'files.clear.ml' ([Errno 11001] getaddrinfo failed)\")': /\n",
      "Retrying (Retry(total=219, connect=219, read=240, redirect=240, status=240)) after connection broken by 'NameResolutionError(\"<urllib3.connection.HTTPSConnection object at 0x000001A9AC483D60>: Failed to resolve 'api.clear.ml' ([Errno 11001] getaddrinfo failed)\")': /v2.23/events.add_batch\n",
      "Retrying (Retry(total=2, connect=2, read=5, redirect=5, status=None)) after connection broken by 'NameResolutionError(\"<urllib3.connection.HTTPSConnection object at 0x000001A9986306A0>: Failed to resolve 'files.clear.ml' ([Errno 11001] getaddrinfo failed)\")': /\n",
      "Retrying (Retry(total=213, connect=213, read=240, redirect=240, status=240)) after connection broken by 'NameResolutionError(\"<urllib3.connection.HTTPSConnection object at 0x000001A9AC4807F0>: Failed to resolve 'api.clear.ml' ([Errno 11001] getaddrinfo failed)\")': /v2.23/tasks.ping\n",
      "Retrying (Retry(total=1, connect=1, read=5, redirect=5, status=None)) after connection broken by 'NameResolutionError(\"<urllib3.connection.HTTPSConnection object at 0x000001A998632CE0>: Failed to resolve 'files.clear.ml' ([Errno 11001] getaddrinfo failed)\")': /\n",
      "Retrying (Retry(total=213, connect=213, read=240, redirect=240, status=240)) after connection broken by 'NameResolutionError(\"<urllib3.connection.HTTPSConnection object at 0x000001A998029660>: Failed to resolve 'api.clear.ml' ([Errno 11001] getaddrinfo failed)\")': /v2.23/tasks.get_all\n",
      "      34/60         0G     0.6733     0.6327     0.9946         76        640:  34%|███▎      | 32/95 [07:27<14:51, 14.15s/it]Retrying (Retry(total=213, connect=213, read=240, redirect=240, status=240)) after connection broken by 'NameResolutionError(\"<urllib3.connection.HTTPSConnection object at 0x000001A99802BCD0>: Failed to resolve 'api.clear.ml' ([Errno 11001] getaddrinfo failed)\")': /v2.23/events.add_batch\n",
      "Retrying (Retry(total=0, connect=0, read=5, redirect=5, status=None)) after connection broken by 'NameResolutionError(\"<urllib3.connection.HTTPSConnection object at 0x000001A9986303D0>: Failed to resolve 'files.clear.ml' ([Errno 11001] getaddrinfo failed)\")': /\n",
      "Retrying (Retry(total=2, connect=2, read=5, redirect=5, status=None)) after connection broken by 'NameResolutionError(\"<urllib3.connection.HTTPSConnection object at 0x000001A99FAB3A60>: Failed to resolve 'files.clear.ml' ([Errno 11001] getaddrinfo failed)\")': /\n",
      "Retrying (Retry(total=1, connect=1, read=5, redirect=5, status=None)) after connection broken by 'NameResolutionError(\"<urllib3.connection.HTTPSConnection object at 0x000001A99FAB08B0>: Failed to resolve 'files.clear.ml' ([Errno 11001] getaddrinfo failed)\")': /\n",
      "      34/60         0G     0.6706     0.6383      0.994         53        640:  35%|███▍      | 33/95 [07:41<14:31, 14.06s/it]Retrying (Retry(total=0, connect=0, read=5, redirect=5, status=None)) after connection broken by 'NameResolutionError(\"<urllib3.connection.HTTPSConnection object at 0x000001A99FAB16C0>: Failed to resolve 'files.clear.ml' ([Errno 11001] getaddrinfo failed)\")': /\n"
     ]
    },
    {
     "name": "stdout",
     "output_type": "stream",
     "text": [
      "2024-06-17 11:28:02,831 - clearml.storage - ERROR - Exception encountered while uploading HTTPSConnectionPool(host='files.clear.ml', port=443): Max retries exceeded with url: / (Caused by NameResolutionError(\"<urllib3.connection.HTTPSConnection object at 0x000001A99FAB01C0>: Failed to resolve 'files.clear.ml' ([Errno 11001] getaddrinfo failed)\"))\n"
     ]
    },
    {
     "name": "stderr",
     "output_type": "stream",
     "text": [
      "      34/60         0G     0.6725     0.6435     0.9968         62        640:  37%|███▋      | 35/95 [08:09<13:56, 13.95s/it]Retrying (Retry(total=2, connect=2, read=5, redirect=5, status=None)) after connection broken by 'NameResolutionError(\"<urllib3.connection.HTTPSConnection object at 0x000001A99870B970>: Failed to resolve 'files.clear.ml' ([Errno 11001] getaddrinfo failed)\")': /\n",
      "      34/60         0G     0.6708     0.6434     0.9958         62        640:  38%|███▊      | 36/95 [08:23<13:40, 13.90s/it]Retrying (Retry(total=1, connect=1, read=5, redirect=5, status=None)) after connection broken by 'NameResolutionError(\"<urllib3.connection.HTTPSConnection object at 0x000001A99870BCA0>: Failed to resolve 'files.clear.ml' ([Errno 11001] getaddrinfo failed)\")': /\n",
      "Retrying (Retry(total=0, connect=0, read=5, redirect=5, status=None)) after connection broken by 'NameResolutionError(\"<urllib3.connection.HTTPSConnection object at 0x000001A99FAB22F0>: Failed to resolve 'files.clear.ml' ([Errno 11001] getaddrinfo failed)\")': /\n",
      "Retrying (Retry(total=2, connect=2, read=5, redirect=5, status=None)) after connection broken by 'NameResolutionError(\"<urllib3.connection.HTTPSConnection object at 0x000001A99FAB28C0>: Failed to resolve 'files.clear.ml' ([Errno 11001] getaddrinfo failed)\")': /\n",
      "      34/60         0G     0.6724     0.6465     0.9945        120        640:  39%|███▉      | 37/95 [08:38<13:49, 14.29s/it]Retrying (Retry(total=1, connect=1, read=5, redirect=5, status=None)) after connection broken by 'NameResolutionError(\"<urllib3.connection.HTTPSConnection object at 0x000001A9A256BDF0>: Failed to resolve 'files.clear.ml' ([Errno 11001] getaddrinfo failed)\")': /\n",
      "Retrying (Retry(total=0, connect=0, read=5, redirect=5, status=None)) after connection broken by 'NameResolutionError(\"<urllib3.connection.HTTPSConnection object at 0x000001A9A256A9E0>: Failed to resolve 'files.clear.ml' ([Errno 11001] getaddrinfo failed)\")': /\n",
      "Retrying (Retry(total=2, connect=2, read=5, redirect=5, status=None)) after connection broken by 'NameResolutionError(\"<urllib3.connection.HTTPSConnection object at 0x000001A9A256AE30>: Failed to resolve 'files.clear.ml' ([Errno 11001] getaddrinfo failed)\")': /\n",
      "      34/60         0G     0.6745      0.651     0.9961         53        640:  40%|████      | 38/95 [08:52<13:27, 14.17s/it]Retrying (Retry(total=1, connect=1, read=5, redirect=5, status=None)) after connection broken by 'NameResolutionError(\"<urllib3.connection.HTTPSConnection object at 0x000001A9A2569660>: Failed to resolve 'files.clear.ml' ([Errno 11001] getaddrinfo failed)\")': /\n",
      "Retrying (Retry(total=0, connect=0, read=5, redirect=5, status=None)) after connection broken by 'NameResolutionError(\"<urllib3.connection.HTTPSConnection object at 0x000001A9A256A230>: Failed to resolve 'files.clear.ml' ([Errno 11001] getaddrinfo failed)\")': /\n"
     ]
    },
    {
     "name": "stdout",
     "output_type": "stream",
     "text": [
      "2024-06-17 11:29:18,073 - clearml.storage - ERROR - Exception encountered while uploading HTTPSConnectionPool(host='files.clear.ml', port=443): Max retries exceeded with url: / (Caused by NameResolutionError(\"<urllib3.connection.HTTPSConnection object at 0x000001A9A256ACE0>: Failed to resolve 'files.clear.ml' ([Errno 11001] getaddrinfo failed)\"))\n"
     ]
    },
    {
     "name": "stderr",
     "output_type": "stream",
     "text": [
      "      34/60         0G     0.6735     0.6509     0.9959         52        640:  41%|████      | 39/95 [09:06<13:22, 14.33s/it]Retrying (Retry(total=218, connect=218, read=240, redirect=240, status=240)) after connection broken by 'NameResolutionError(\"<urllib3.connection.HTTPSConnection object at 0x000001A998631F60>: Failed to resolve 'api.clear.ml' ([Errno 11001] getaddrinfo failed)\")': /v2.23/events.add_batch\n",
      "      34/60         0G     0.6744      0.652     0.9969         49        640:  42%|████▏     | 40/95 [09:20<12:59, 14.18s/it]Retrying (Retry(total=212, connect=212, read=240, redirect=240, status=240)) after connection broken by 'NameResolutionError(\"<urllib3.connection.HTTPSConnection object at 0x000001A9986327D0>: Failed to resolve 'api.clear.ml' ([Errno 11001] getaddrinfo failed)\")': /v2.23/tasks.ping\n",
      "Retrying (Retry(total=212, connect=212, read=240, redirect=240, status=240)) after connection broken by 'NameResolutionError(\"<urllib3.connection.HTTPSConnection object at 0x000001A998630AC0>: Failed to resolve 'api.clear.ml' ([Errno 11001] getaddrinfo failed)\")': /v2.23/tasks.get_all\n",
      "Retrying (Retry(total=212, connect=212, read=240, redirect=240, status=240)) after connection broken by 'NameResolutionError(\"<urllib3.connection.HTTPSConnection object at 0x000001A9AC481D50>: Failed to resolve 'api.clear.ml' ([Errno 11001] getaddrinfo failed)\")': /v2.23/events.add_batch\n",
      "      34/60         0G      0.674     0.6515     0.9968         60        640:  43%|████▎     | 41/95 [09:34<12:41, 14.11s/it]Retrying (Retry(total=2, connect=2, read=5, redirect=5, status=None)) after connection broken by 'NameResolutionError(\"<urllib3.connection.HTTPSConnection object at 0x000001A996FFE440>: Failed to resolve 'files.clear.ml' ([Errno 11001] getaddrinfo failed)\")': /\n",
      "Retrying (Retry(total=1, connect=1, read=5, redirect=5, status=None)) after connection broken by 'NameResolutionError(\"<urllib3.connection.HTTPSConnection object at 0x000001A99FFFF880>: Failed to resolve 'files.clear.ml' ([Errno 11001] getaddrinfo failed)\")': /\n",
      "Retrying (Retry(total=0, connect=0, read=5, redirect=5, status=None)) after connection broken by 'NameResolutionError(\"<urllib3.connection.HTTPSConnection object at 0x000001A99FFFEF20>: Failed to resolve 'files.clear.ml' ([Errno 11001] getaddrinfo failed)\")': /\n",
      "      34/60         0G     0.6759     0.6546     0.9969         84        640:  44%|████▍     | 42/95 [09:49<12:33, 14.22s/it]Retrying (Retry(total=2, connect=2, read=5, redirect=5, status=None)) after connection broken by 'NameResolutionError(\"<urllib3.connection.HTTPSConnection object at 0x000001A99FFFEFE0>: Failed to resolve 'files.clear.ml' ([Errno 11001] getaddrinfo failed)\")': /\n",
      "Retrying (Retry(total=1, connect=1, read=5, redirect=5, status=None)) after connection broken by 'NameResolutionError(\"<urllib3.connection.HTTPSConnection object at 0x000001A99FFFC6D0>: Failed to resolve 'files.clear.ml' ([Errno 11001] getaddrinfo failed)\")': /\n",
      "Retrying (Retry(total=0, connect=0, read=5, redirect=5, status=None)) after connection broken by 'NameResolutionError(\"<urllib3.connection.HTTPSConnection object at 0x000001A99FFFF340>: Failed to resolve 'files.clear.ml' ([Errno 11001] getaddrinfo failed)\")': /\n",
      "      34/60         0G     0.6765     0.6591     0.9964         51        640:  45%|████▌     | 43/95 [10:03<12:15, 14.15s/it]Retrying (Retry(total=2, connect=2, read=5, redirect=5, status=None)) after connection broken by 'NameResolutionError(\"<urllib3.connection.HTTPSConnection object at 0x000001A99FFBD660>: Failed to resolve 'files.clear.ml' ([Errno 11001] getaddrinfo failed)\")': /\n",
      "Retrying (Retry(total=1, connect=1, read=5, redirect=5, status=None)) after connection broken by 'NameResolutionError(\"<urllib3.connection.HTTPSConnection object at 0x000001A99FFBD9C0>: Failed to resolve 'files.clear.ml' ([Errno 11001] getaddrinfo failed)\")': /\n",
      "      34/60         0G     0.6743     0.6599     0.9948         64        640:  46%|████▋     | 44/95 [10:17<11:56, 14.06s/it]Retrying (Retry(total=0, connect=0, read=5, redirect=5, status=None)) after connection broken by 'NameResolutionError(\"<urllib3.connection.HTTPSConnection object at 0x000001A99FFBE3B0>: Failed to resolve 'files.clear.ml' ([Errno 11001] getaddrinfo failed)\")': /\n"
     ]
    },
    {
     "name": "stdout",
     "output_type": "stream",
     "text": [
      "2024-06-17 11:30:33,331 - clearml.storage - ERROR - Exception encountered while uploading HTTPSConnectionPool(host='files.clear.ml', port=443): Max retries exceeded with url: / (Caused by NameResolutionError(\"<urllib3.connection.HTTPSConnection object at 0x000001A9983B32B0>: Failed to resolve 'files.clear.ml' ([Errno 11001] getaddrinfo failed)\"))\n"
     ]
    },
    {
     "name": "stderr",
     "output_type": "stream",
     "text": [
      "      34/60         0G      0.671     0.6631     0.9933         76        640:  48%|████▊     | 46/95 [10:44<11:17, 13.83s/it]Retrying (Retry(total=2, connect=2, read=5, redirect=5, status=None)) after connection broken by 'NameResolutionError(\"<urllib3.connection.HTTPSConnection object at 0x000001A99FF3B250>: Failed to resolve 'files.clear.ml' ([Errno 11001] getaddrinfo failed)\")': /\n",
      "Retrying (Retry(total=1, connect=1, read=5, redirect=5, status=None)) after connection broken by 'NameResolutionError(\"<urllib3.connection.HTTPSConnection object at 0x000001A99FF3A7D0>: Failed to resolve 'files.clear.ml' ([Errno 11001] getaddrinfo failed)\")': /\n",
      "      34/60         0G     0.6699     0.6612     0.9927         58        640:  49%|████▉     | 47/95 [10:58<11:06, 13.88s/it]Retrying (Retry(total=0, connect=0, read=5, redirect=5, status=None)) after connection broken by 'NameResolutionError(\"<urllib3.connection.HTTPSConnection object at 0x000001A99FF38DF0>: Failed to resolve 'files.clear.ml' ([Errno 11001] getaddrinfo failed)\")': /\n",
      "Retrying (Retry(total=2, connect=2, read=5, redirect=5, status=None)) after connection broken by 'NameResolutionError(\"<urllib3.connection.HTTPSConnection object at 0x000001A99FF39330>: Failed to resolve 'files.clear.ml' ([Errno 11001] getaddrinfo failed)\")': /\n",
      "Retrying (Retry(total=1, connect=1, read=5, redirect=5, status=None)) after connection broken by 'NameResolutionError(\"<urllib3.connection.HTTPSConnection object at 0x000001A99FFBEF80>: Failed to resolve 'files.clear.ml' ([Errno 11001] getaddrinfo failed)\")': /\n",
      "      34/60         0G     0.6693     0.6593     0.9915         99        640:  51%|█████     | 48/95 [11:12<10:55, 13.95s/it]Retrying (Retry(total=0, connect=0, read=5, redirect=5, status=None)) after connection broken by 'NameResolutionError(\"<urllib3.connection.HTTPSConnection object at 0x000001A99AFA2290>: Failed to resolve 'files.clear.ml' ([Errno 11001] getaddrinfo failed)\")': /\n",
      "Retrying (Retry(total=217, connect=217, read=240, redirect=240, status=240)) after connection broken by 'NameResolutionError(\"<urllib3.connection.HTTPSConnection object at 0x000001A9A256A6E0>: Failed to resolve 'api.clear.ml' ([Errno 11001] getaddrinfo failed)\")': /v2.23/events.add_batch\n",
      "Retrying (Retry(total=2, connect=2, read=5, redirect=5, status=None)) after connection broken by 'NameResolutionError(\"<urllib3.connection.HTTPSConnection object at 0x000001A99AFA3CD0>: Failed to resolve 'files.clear.ml' ([Errno 11001] getaddrinfo failed)\")': /\n",
      "Retrying (Retry(total=211, connect=211, read=240, redirect=240, status=240)) after connection broken by 'NameResolutionError(\"<urllib3.connection.HTTPSConnection object at 0x000001A9A2568910>: Failed to resolve 'api.clear.ml' ([Errno 11001] getaddrinfo failed)\")': /v2.23/tasks.ping\n",
      "Retrying (Retry(total=1, connect=1, read=5, redirect=5, status=None)) after connection broken by 'NameResolutionError(\"<urllib3.connection.HTTPSConnection object at 0x000001A99AFA09D0>: Failed to resolve 'files.clear.ml' ([Errno 11001] getaddrinfo failed)\")': /\n",
      "      34/60         0G      0.672       0.66     0.9926         66        640:  52%|█████▏    | 49/95 [11:25<10:37, 13.87s/it]Retrying (Retry(total=211, connect=211, read=240, redirect=240, status=240)) after connection broken by 'NameResolutionError(\"<urllib3.connection.HTTPSConnection object at 0x000001A9A256AA70>: Failed to resolve 'api.clear.ml' ([Errno 11001] getaddrinfo failed)\")': /v2.23/tasks.get_all\n",
      "Retrying (Retry(total=211, connect=211, read=240, redirect=240, status=240)) after connection broken by 'NameResolutionError(\"<urllib3.connection.HTTPSConnection object at 0x000001A99FFFC9D0>: Failed to resolve 'api.clear.ml' ([Errno 11001] getaddrinfo failed)\")': /v2.23/events.add_batch\n",
      "Retrying (Retry(total=0, connect=0, read=5, redirect=5, status=None)) after connection broken by 'NameResolutionError(\"<urllib3.connection.HTTPSConnection object at 0x000001A99874C850>: Failed to resolve 'files.clear.ml' ([Errno 11001] getaddrinfo failed)\")': /\n"
     ]
    },
    {
     "name": "stdout",
     "output_type": "stream",
     "text": [
      "2024-06-17 11:31:48,542 - clearml.storage - ERROR - Exception encountered while uploading HTTPSConnectionPool(host='files.clear.ml', port=443): Max retries exceeded with url: / (Caused by NameResolutionError(\"<urllib3.connection.HTTPSConnection object at 0x000001A99D0FC4F0>: Failed to resolve 'files.clear.ml' ([Errno 11001] getaddrinfo failed)\"))\n"
     ]
    },
    {
     "name": "stderr",
     "output_type": "stream",
     "text": [
      "      34/60         0G     0.6688     0.6581     0.9921         87        640:  54%|█████▎    | 51/95 [11:54<10:16, 14.01s/it]Retrying (Retry(total=2, connect=2, read=5, redirect=5, status=None)) after connection broken by 'NameResolutionError(\"<urllib3.connection.HTTPSConnection object at 0x000001A9A847E650>: Failed to resolve 'files.clear.ml' ([Errno 11001] getaddrinfo failed)\")': /\n",
      "      34/60         0G     0.6699     0.6586     0.9928         58        640:  55%|█████▍    | 52/95 [12:08<10:07, 14.14s/it]Retrying (Retry(total=1, connect=1, read=5, redirect=5, status=None)) after connection broken by 'NameResolutionError(\"<urllib3.connection.HTTPSConnection object at 0x000001A9A847F910>: Failed to resolve 'files.clear.ml' ([Errno 11001] getaddrinfo failed)\")': /\n",
      "Retrying (Retry(total=0, connect=0, read=5, redirect=5, status=None)) after connection broken by 'NameResolutionError(\"<urllib3.connection.HTTPSConnection object at 0x000001A9A847D7E0>: Failed to resolve 'files.clear.ml' ([Errno 11001] getaddrinfo failed)\")': /\n",
      "Retrying (Retry(total=2, connect=2, read=5, redirect=5, status=None)) after connection broken by 'NameResolutionError(\"<urllib3.connection.HTTPSConnection object at 0x000001A9A847E680>: Failed to resolve 'files.clear.ml' ([Errno 11001] getaddrinfo failed)\")': /\n",
      "      34/60         0G     0.6699     0.6621     0.9934         53        640:  56%|█████▌    | 53/95 [12:22<09:49, 14.04s/it]Retrying (Retry(total=1, connect=1, read=5, redirect=5, status=None)) after connection broken by 'NameResolutionError(\"<urllib3.connection.HTTPSConnection object at 0x000001A9A847CBB0>: Failed to resolve 'files.clear.ml' ([Errno 11001] getaddrinfo failed)\")': /\n",
      "Retrying (Retry(total=0, connect=0, read=5, redirect=5, status=None)) after connection broken by 'NameResolutionError(\"<urllib3.connection.HTTPSConnection object at 0x000001A99C3A6EF0>: Failed to resolve 'files.clear.ml' ([Errno 11001] getaddrinfo failed)\")': /\n",
      "      34/60         0G     0.6683     0.6615     0.9945         95        640:  59%|█████▉    | 56/95 [13:10<09:53, 15.23s/it]Retrying (Retry(total=216, connect=216, read=240, redirect=240, status=240)) after connection broken by 'NameResolutionError(\"<urllib3.connection.HTTPSConnection object at 0x000001A99AFA03D0>: Failed to resolve 'api.clear.ml' ([Errno 11001] getaddrinfo failed)\")': /v2.23/events.add_batch\n",
      "Retrying (Retry(total=210, connect=210, read=240, redirect=240, status=240)) after connection broken by 'NameResolutionError(\"<urllib3.connection.HTTPSConnection object at 0x000001A99AFA0670>: Failed to resolve 'api.clear.ml' ([Errno 11001] getaddrinfo failed)\")': /v2.23/tasks.ping\n",
      "      34/60         0G     0.6672     0.6619     0.9938         49        640:  60%|██████    | 57/95 [13:26<09:37, 15.20s/it]Retrying (Retry(total=210, connect=210, read=240, redirect=240, status=240)) after connection broken by 'NameResolutionError(\"<urllib3.connection.HTTPSConnection object at 0x000001A99874CB80>: Failed to resolve 'api.clear.ml' ([Errno 11001] getaddrinfo failed)\")': /v2.23/tasks.get_all\n",
      "Retrying (Retry(total=210, connect=210, read=240, redirect=240, status=240)) after connection broken by 'NameResolutionError(\"<urllib3.connection.HTTPSConnection object at 0x000001A99874C400>: Failed to resolve 'api.clear.ml' ([Errno 11001] getaddrinfo failed)\")': /v2.23/events.add_batch\n",
      "      34/60         0G     0.6671     0.6622      0.994         49        640: 100%|██████████| 95/95 [32:32<00:00, 20.56s/it]\n",
      "                 Class     Images  Instances      Box(P          R      mAP50  mAP50-95): 100%|██████████| 2/2 [00:53<00:00, 26.80s/it]"
     ]
    },
    {
     "name": "stdout",
     "output_type": "stream",
     "text": [
      "                   all         63        147      0.807       0.56      0.652      0.398\n"
     ]
    },
    {
     "name": "stderr",
     "output_type": "stream",
     "text": [
      "\n"
     ]
    },
    {
     "name": "stdout",
     "output_type": "stream",
     "text": [
      "\n",
      "      Epoch    GPU_mem   box_loss   cls_loss   dfl_loss  Instances       Size\n"
     ]
    },
    {
     "name": "stderr",
     "output_type": "stream",
     "text": [
      "      35/60         0G     0.6568       0.67     0.9872         31        640: 100%|██████████| 95/95 [32:44<00:00, 20.68s/it]\n",
      "                 Class     Images  Instances      Box(P          R      mAP50  mAP50-95): 100%|██████████| 2/2 [00:22<00:00, 11.36s/it]"
     ]
    },
    {
     "name": "stdout",
     "output_type": "stream",
     "text": [
      "                   all         63        147      0.771      0.589      0.621      0.396\n"
     ]
    },
    {
     "name": "stderr",
     "output_type": "stream",
     "text": [
      "\n"
     ]
    },
    {
     "name": "stdout",
     "output_type": "stream",
     "text": [
      "\n",
      "      Epoch    GPU_mem   box_loss   cls_loss   dfl_loss  Instances       Size\n"
     ]
    },
    {
     "name": "stderr",
     "output_type": "stream",
     "text": [
      "      36/60         0G      0.652     0.6408     0.9848         38        640: 100%|██████████| 95/95 [20:42<00:00, 13.07s/it]\n",
      "                 Class     Images  Instances      Box(P          R      mAP50  mAP50-95): 100%|██████████| 2/2 [00:22<00:00, 11.16s/it]"
     ]
    },
    {
     "name": "stdout",
     "output_type": "stream",
     "text": [
      "                   all         63        147      0.665      0.676      0.679      0.399\n"
     ]
    },
    {
     "name": "stderr",
     "output_type": "stream",
     "text": [
      "\n"
     ]
    },
    {
     "name": "stdout",
     "output_type": "stream",
     "text": [
      "\n",
      "      Epoch    GPU_mem   box_loss   cls_loss   dfl_loss  Instances       Size\n"
     ]
    },
    {
     "name": "stderr",
     "output_type": "stream",
     "text": [
      "      37/60         0G     0.6487      0.669     0.9893         55        640: 100%|██████████| 95/95 [20:32<00:00, 12.97s/it]\n",
      "                 Class     Images  Instances      Box(P          R      mAP50  mAP50-95): 100%|██████████| 2/2 [00:22<00:00, 11.31s/it]"
     ]
    },
    {
     "name": "stdout",
     "output_type": "stream",
     "text": [
      "                   all         63        147      0.714      0.611      0.658      0.393\n"
     ]
    },
    {
     "name": "stderr",
     "output_type": "stream",
     "text": [
      "\n"
     ]
    },
    {
     "name": "stdout",
     "output_type": "stream",
     "text": [
      "\n",
      "      Epoch    GPU_mem   box_loss   cls_loss   dfl_loss  Instances       Size\n"
     ]
    },
    {
     "name": "stderr",
     "output_type": "stream",
     "text": [
      "      38/60         0G     0.6436     0.6349     0.9845         75        640:  93%|█████████▎| 88/95 [19:04<01:32, 13.16s/it]Retrying (Retry(total=237, connect=238, read=239, redirect=240, status=240)) after connection broken by 'NameResolutionError(\"<urllib3.connection.HTTPSConnection object at 0x000001A9AB939C60>: Failed to resolve 'api.clear.ml' ([Errno 11001] getaddrinfo failed)\")': /v2.23/tasks.get_all\n",
      "Retrying (Retry(total=237, connect=237, read=240, redirect=240, status=240)) after connection broken by 'NameResolutionError(\"<urllib3.connection.HTTPSConnection object at 0x000001A9AB939450>: Failed to resolve 'api.clear.ml' ([Errno 11001] getaddrinfo failed)\")': /v2.23/events.add_batch\n",
      "Retrying (Retry(total=237, connect=237, read=240, redirect=240, status=240)) after connection broken by 'NameResolutionError(\"<urllib3.connection.HTTPSConnection object at 0x000001A9AB93B7C0>: Failed to resolve 'api.clear.ml' ([Errno 11001] getaddrinfo failed)\")': /v2.23/tasks.get_all\n",
      "Retrying (Retry(total=236, connect=237, read=239, redirect=240, status=240)) after connection broken by 'NameResolutionError(\"<urllib3.connection.HTTPSConnection object at 0x000001A99A653AF0>: Failed to resolve 'api.clear.ml' ([Errno 11001] getaddrinfo failed)\")': /v2.23/tasks.get_all\n",
      "Retrying (Retry(total=236, connect=236, read=240, redirect=240, status=240)) after connection broken by 'NameResolutionError(\"<urllib3.connection.HTTPSConnection object at 0x000001A99A651780>: Failed to resolve 'api.clear.ml' ([Errno 11001] getaddrinfo failed)\")': /v2.23/events.add_batch\n",
      "      38/60         0G     0.6436     0.6345     0.9847         65        640:  94%|█████████▎| 89/95 [19:17<01:18, 13.08s/it]Retrying (Retry(total=236, connect=236, read=240, redirect=240, status=240)) after connection broken by 'NameResolutionError(\"<urllib3.connection.HTTPSConnection object at 0x000001A99A6515A0>: Failed to resolve 'api.clear.ml' ([Errno 11001] getaddrinfo failed)\")': /v2.23/tasks.get_all\n",
      "      38/60         0G     0.6438     0.6346     0.9843         89        640:  95%|█████████▍| 90/95 [19:30<01:05, 13.13s/it]Retrying (Retry(total=235, connect=236, read=239, redirect=240, status=240)) after connection broken by 'NameResolutionError(\"<urllib3.connection.HTTPSConnection object at 0x000001A9AB938040>: Failed to resolve 'api.clear.ml' ([Errno 11001] getaddrinfo failed)\")': /v2.23/tasks.get_all\n",
      "Retrying (Retry(total=235, connect=235, read=240, redirect=240, status=240)) after connection broken by 'NameResolutionError(\"<urllib3.connection.HTTPSConnection object at 0x000001A9AB9387F0>: Failed to resolve 'api.clear.ml' ([Errno 11001] getaddrinfo failed)\")': /v2.23/events.add_batch\n",
      "Retrying (Retry(total=235, connect=235, read=240, redirect=240, status=240)) after connection broken by 'NameResolutionError(\"<urllib3.connection.HTTPSConnection object at 0x000001A9AB938E50>: Failed to resolve 'api.clear.ml' ([Errno 11001] getaddrinfo failed)\")': /v2.23/tasks.get_all\n",
      "Retrying (Retry(total=2, connect=3, read=5, redirect=5, status=None)) after connection broken by 'NameResolutionError(\"<urllib3.connection.HTTPSConnection object at 0x000001A99FF3B340>: Failed to resolve 'files.clear.ml' ([Errno 11001] getaddrinfo failed)\")': /\n",
      "Retrying (Retry(total=1, connect=2, read=5, redirect=5, status=None)) after connection broken by 'NameResolutionError(\"<urllib3.connection.HTTPSConnection object at 0x000001A99FF39DE0>: Failed to resolve 'files.clear.ml' ([Errno 11001] getaddrinfo failed)\")': /\n",
      "      38/60         0G     0.6449     0.6345     0.9849         72        640:  96%|█████████▌| 91/95 [19:43<00:52, 13.18s/it]Retrying (Retry(total=0, connect=1, read=5, redirect=5, status=None)) after connection broken by 'NameResolutionError(\"<urllib3.connection.HTTPSConnection object at 0x000001A99FF38FA0>: Failed to resolve 'files.clear.ml' ([Errno 11001] getaddrinfo failed)\")': /\n",
      "Retrying (Retry(total=2, connect=2, read=5, redirect=5, status=None)) after connection broken by 'NameResolutionError(\"<urllib3.connection.HTTPSConnection object at 0x000001A99FF3AAD0>: Failed to resolve 'files.clear.ml' ([Errno 11001] getaddrinfo failed)\")': /\n",
      "Retrying (Retry(total=1, connect=1, read=5, redirect=5, status=None)) after connection broken by 'NameResolutionError(\"<urllib3.connection.HTTPSConnection object at 0x000001A9AB978A00>: Failed to resolve 'files.clear.ml' ([Errno 11001] getaddrinfo failed)\")': /\n",
      "      38/60         0G     0.6453      0.635     0.9847         86        640:  97%|█████████▋| 92/95 [19:57<00:39, 13.26s/it]Retrying (Retry(total=0, connect=0, read=5, redirect=5, status=None)) after connection broken by 'NameResolutionError(\"<urllib3.connection.HTTPSConnection object at 0x000001A9AB97A0B0>: Failed to resolve 'files.clear.ml' ([Errno 11001] getaddrinfo failed)\")': /\n",
      "Retrying (Retry(total=234, connect=235, read=239, redirect=240, status=240)) after connection broken by 'NameResolutionError(\"<urllib3.connection.HTTPSConnection object at 0x000001A99FF397B0>: Failed to resolve 'api.clear.ml' ([Errno 11001] getaddrinfo failed)\")': /v2.23/tasks.get_all\n",
      "Retrying (Retry(total=234, connect=234, read=240, redirect=240, status=240)) after connection broken by 'NameResolutionError(\"<urllib3.connection.HTTPSConnection object at 0x000001A99FF39660>: Failed to resolve 'api.clear.ml' ([Errno 11001] getaddrinfo failed)\")': /v2.23/events.add_batch\n",
      "Retrying (Retry(total=234, connect=234, read=240, redirect=240, status=240)) after connection broken by 'NameResolutionError(\"<urllib3.connection.HTTPSConnection object at 0x000001A99FF3BEE0>: Failed to resolve 'api.clear.ml' ([Errno 11001] getaddrinfo failed)\")': /v2.23/tasks.get_all\n",
      "Retrying (Retry(total=2, connect=2, read=5, redirect=5, status=None)) after connection broken by 'NameResolutionError(\"<urllib3.connection.HTTPSConnection object at 0x000001A9AB9792D0>: Failed to resolve 'files.clear.ml' ([Errno 11001] getaddrinfo failed)\")': /\n",
      "      38/60         0G     0.6463     0.6358     0.9851         52        640:  98%|█████████▊| 93/95 [20:10<00:26, 13.16s/it]Retrying (Retry(total=1, connect=1, read=5, redirect=5, status=None)) after connection broken by 'NameResolutionError(\"<urllib3.connection.HTTPSConnection object at 0x000001A9AB97AE60>: Failed to resolve 'files.clear.ml' ([Errno 11001] getaddrinfo failed)\")': /\n",
      "Retrying (Retry(total=0, connect=0, read=5, redirect=5, status=None)) after connection broken by 'NameResolutionError(\"<urllib3.connection.HTTPSConnection object at 0x000001A9AB9783A0>: Failed to resolve 'files.clear.ml' ([Errno 11001] getaddrinfo failed)\")': /\n",
      "      38/60         0G     0.6476     0.6373     0.9851        115        640: 100%|██████████| 95/95 [20:34<00:00, 12.99s/it]\n",
      "                 Class     Images  Instances      Box(P          R      mAP50  mAP50-95): 100%|██████████| 2/2 [00:22<00:00, 11.15s/it]"
     ]
    },
    {
     "name": "stdout",
     "output_type": "stream",
     "text": [
      "                   all         63        147      0.672       0.72      0.715       0.42\n"
     ]
    },
    {
     "name": "stderr",
     "output_type": "stream",
     "text": [
      "\n"
     ]
    },
    {
     "name": "stdout",
     "output_type": "stream",
     "text": [
      "\n",
      "      Epoch    GPU_mem   box_loss   cls_loss   dfl_loss  Instances       Size\n"
     ]
    },
    {
     "name": "stderr",
     "output_type": "stream",
     "text": [
      "  0%|          | 0/95 [00:00<?, ?it/s]Retrying (Retry(total=233, connect=234, read=239, redirect=240, status=240)) after connection broken by 'NameResolutionError(\"<urllib3.connection.HTTPSConnection object at 0x000001A9AB97B9D0>: Failed to resolve 'api.clear.ml' ([Errno 11001] getaddrinfo failed)\")': /v2.23/tasks.get_all\n",
      "Retrying (Retry(total=233, connect=233, read=240, redirect=240, status=240)) after connection broken by 'NameResolutionError(\"<urllib3.connection.HTTPSConnection object at 0x000001A9AB978370>: Failed to resolve 'api.clear.ml' ([Errno 11001] getaddrinfo failed)\")': /v2.23/events.add_batch\n",
      "Retrying (Retry(total=233, connect=233, read=240, redirect=240, status=240)) after connection broken by 'NameResolutionError(\"<urllib3.connection.HTTPSConnection object at 0x000001A9AB978EE0>: Failed to resolve 'api.clear.ml' ([Errno 11001] getaddrinfo failed)\")': /v2.23/tasks.get_all\n",
      "      39/60         0G     0.6306     0.6417     0.9746         23        640: 100%|██████████| 95/95 [20:42<00:00, 13.07s/it]\n",
      "                 Class     Images  Instances      Box(P          R      mAP50  mAP50-95): 100%|██████████| 2/2 [00:22<00:00, 11.36s/it]"
     ]
    },
    {
     "name": "stdout",
     "output_type": "stream",
     "text": [
      "                   all         63        147      0.743      0.694      0.708      0.397\n"
     ]
    },
    {
     "name": "stderr",
     "output_type": "stream",
     "text": [
      "\n"
     ]
    },
    {
     "name": "stdout",
     "output_type": "stream",
     "text": [
      "\n",
      "      Epoch    GPU_mem   box_loss   cls_loss   dfl_loss  Instances       Size\n"
     ]
    },
    {
     "name": "stderr",
     "output_type": "stream",
     "text": [
      "      40/60         0G     0.6101     0.6253     0.9698         73        640:  72%|███████▏  | 68/95 [15:04<05:56, 13.19s/it]Retrying (Retry(total=237, connect=237, read=240, redirect=240, status=240)) after connection broken by 'NameResolutionError(\"<urllib3.connection.HTTPSConnection object at 0x000001A99F5DA4D0>: Failed to resolve 'api.clear.ml' ([Errno 11001] getaddrinfo failed)\")': /v2.23/events.add_batch\n",
      "Retrying (Retry(total=237, connect=238, read=239, redirect=240, status=240)) after connection broken by 'NameResolutionError(\"<urllib3.connection.HTTPSConnection object at 0x000001A99F5DBEE0>: Failed to resolve 'api.clear.ml' ([Errno 11001] getaddrinfo failed)\")': /v2.23/tasks.get_all\n",
      "Retrying (Retry(total=237, connect=237, read=240, redirect=240, status=240)) after connection broken by 'NameResolutionError(\"<urllib3.connection.HTTPSConnection object at 0x000001A99F5DB9D0>: Failed to resolve 'api.clear.ml' ([Errno 11001] getaddrinfo failed)\")': /v2.23/tasks.get_all\n",
      "Retrying (Retry(total=236, connect=236, read=240, redirect=240, status=240)) after connection broken by 'NameResolutionError(\"<urllib3.connection.HTTPSConnection object at 0x000001A99F5DAB30>: Failed to resolve 'api.clear.ml' ([Errno 11001] getaddrinfo failed)\")': /v2.23/events.add_batch\n",
      "      40/60         0G      0.609     0.6237     0.9693         46        640:  73%|███████▎  | 69/95 [15:18<05:45, 13.29s/it]Retrying (Retry(total=236, connect=237, read=239, redirect=240, status=240)) after connection broken by 'NameResolutionError(\"<urllib3.connection.HTTPSConnection object at 0x000001A99F5DB880>: Failed to resolve 'api.clear.ml' ([Errno 11001] getaddrinfo failed)\")': /v2.23/tasks.get_all\n",
      "Retrying (Retry(total=236, connect=236, read=240, redirect=240, status=240)) after connection broken by 'NameResolutionError(\"<urllib3.connection.HTTPSConnection object at 0x000001A99F5DA470>: Failed to resolve 'api.clear.ml' ([Errno 11001] getaddrinfo failed)\")': /v2.23/tasks.get_all\n",
      "      40/60         0G     0.6096     0.6233     0.9698         73        640:  74%|███████▎  | 70/95 [15:31<05:32, 13.31s/it]Retrying (Retry(total=235, connect=235, read=240, redirect=240, status=240)) after connection broken by 'NameResolutionError(\"<urllib3.connection.HTTPSConnection object at 0x000001A99F5DB5B0>: Failed to resolve 'api.clear.ml' ([Errno 11001] getaddrinfo failed)\")': /v2.23/events.add_batch\n",
      "Retrying (Retry(total=235, connect=236, read=239, redirect=240, status=240)) after connection broken by 'NameResolutionError(\"<urllib3.connection.HTTPSConnection object at 0x000001A99F5D8D60>: Failed to resolve 'api.clear.ml' ([Errno 11001] getaddrinfo failed)\")': /v2.23/tasks.get_all\n",
      "Retrying (Retry(total=235, connect=235, read=240, redirect=240, status=240)) after connection broken by 'NameResolutionError(\"<urllib3.connection.HTTPSConnection object at 0x000001A99F5D85E0>: Failed to resolve 'api.clear.ml' ([Errno 11001] getaddrinfo failed)\")': /v2.23/tasks.get_all\n",
      "      40/60         0G     0.6129     0.6254     0.9716         53        640:  76%|███████▌  | 72/95 [15:58<05:05, 13.28s/it]Retrying (Retry(total=2, connect=3, read=5, redirect=5, status=None)) after connection broken by 'NameResolutionError(\"<urllib3.connection.HTTPSConnection object at 0x000001A9A253D5D0>: Failed to resolve 'files.clear.ml' ([Errno 11001] getaddrinfo failed)\")': /\n",
      "Retrying (Retry(total=1, connect=2, read=5, redirect=5, status=None)) after connection broken by 'NameResolutionError(\"<urllib3.connection.HTTPSConnection object at 0x000001A9A253EFB0>: Failed to resolve 'files.clear.ml' ([Errno 11001] getaddrinfo failed)\")': /\n",
      "Retrying (Retry(total=234, connect=234, read=240, redirect=240, status=240)) after connection broken by 'NameResolutionError(\"<urllib3.connection.HTTPSConnection object at 0x000001A9A253F8E0>: Failed to resolve 'api.clear.ml' ([Errno 11001] getaddrinfo failed)\")': /v2.23/events.add_batch\n",
      "Retrying (Retry(total=234, connect=235, read=239, redirect=240, status=240)) after connection broken by 'NameResolutionError(\"<urllib3.connection.HTTPSConnection object at 0x000001A9A253D720>: Failed to resolve 'api.clear.ml' ([Errno 11001] getaddrinfo failed)\")': /v2.23/tasks.get_all\n",
      "Retrying (Retry(total=0, connect=1, read=5, redirect=5, status=None)) after connection broken by 'NameResolutionError(\"<urllib3.connection.HTTPSConnection object at 0x000001A9A253D660>: Failed to resolve 'files.clear.ml' ([Errno 11001] getaddrinfo failed)\")': /\n",
      "Retrying (Retry(total=234, connect=234, read=240, redirect=240, status=240)) after connection broken by 'NameResolutionError(\"<urllib3.connection.HTTPSConnection object at 0x000001A9A253D0C0>: Failed to resolve 'api.clear.ml' ([Errno 11001] getaddrinfo failed)\")': /v2.23/tasks.get_all\n",
      "      40/60         0G      0.614     0.6263     0.9718         98        640:  77%|███████▋  | 73/95 [16:11<04:53, 13.32s/it]Retrying (Retry(total=2, connect=2, read=5, redirect=5, status=None)) after connection broken by 'NameResolutionError(\"<urllib3.connection.HTTPSConnection object at 0x000001A99FD51C90>: Failed to resolve 'files.clear.ml' ([Errno 11001] getaddrinfo failed)\")': /\n",
      "Retrying (Retry(total=1, connect=1, read=5, redirect=5, status=None)) after connection broken by 'NameResolutionError(\"<urllib3.connection.HTTPSConnection object at 0x000001A99FD53D60>: Failed to resolve 'files.clear.ml' ([Errno 11001] getaddrinfo failed)\")': /\n",
      "      40/60         0G     0.6133     0.6253     0.9718         79        640:  78%|███████▊  | 74/95 [16:25<04:41, 13.39s/it]Retrying (Retry(total=0, connect=0, read=5, redirect=5, status=None)) after connection broken by 'NameResolutionError(\"<urllib3.connection.HTTPSConnection object at 0x000001A99FD50940>: Failed to resolve 'files.clear.ml' ([Errno 11001] getaddrinfo failed)\")': /\n",
      "Retrying (Retry(total=2, connect=2, read=5, redirect=5, status=None)) after connection broken by 'NameResolutionError(\"<urllib3.connection.HTTPSConnection object at 0x000001A99FD533A0>: Failed to resolve 'files.clear.ml' ([Errno 11001] getaddrinfo failed)\")': /\n",
      "Retrying (Retry(total=1, connect=1, read=5, redirect=5, status=None)) after connection broken by 'NameResolutionError(\"<urllib3.connection.HTTPSConnection object at 0x000001A99FD52440>: Failed to resolve 'files.clear.ml' ([Errno 11001] getaddrinfo failed)\")': /\n",
      "      40/60         0G     0.6138     0.6256     0.9725         58        640:  79%|███████▉  | 75/95 [16:38<04:27, 13.37s/it]Retrying (Retry(total=0, connect=0, read=5, redirect=5, status=None)) after connection broken by 'NameResolutionError(\"<urllib3.connection.HTTPSConnection object at 0x000001A99FD51A50>: Failed to resolve 'files.clear.ml' ([Errno 11001] getaddrinfo failed)\")': /\n"
     ]
    },
    {
     "name": "stdout",
     "output_type": "stream",
     "text": [
      "2024-06-17 14:07:42,768 - clearml.storage - ERROR - Exception encountered while uploading HTTPSConnectionPool(host='files.clear.ml', port=443): Max retries exceeded with url: / (Caused by NameResolutionError(\"<urllib3.connection.HTTPSConnection object at 0x000001A99FD53400>: Failed to resolve 'files.clear.ml' ([Errno 11001] getaddrinfo failed)\"))\n"
     ]
    },
    {
     "name": "stderr",
     "output_type": "stream",
     "text": [
      "      40/60         0G     0.6147     0.6263     0.9723         53        640:  81%|████████  | 77/95 [17:05<04:02, 13.45s/it]Retrying (Retry(total=233, connect=233, read=240, redirect=240, status=240)) after connection broken by 'NameResolutionError(\"<urllib3.connection.HTTPSConnection object at 0x000001A9A253CB20>: Failed to resolve 'api.clear.ml' ([Errno 11001] getaddrinfo failed)\")': /v2.23/events.add_batch\n",
      "Retrying (Retry(total=233, connect=234, read=239, redirect=240, status=240)) after connection broken by 'NameResolutionError(\"<urllib3.connection.HTTPSConnection object at 0x000001A9A253D090>: Failed to resolve 'api.clear.ml' ([Errno 11001] getaddrinfo failed)\")': /v2.23/tasks.get_all\n",
      "Retrying (Retry(total=2, connect=2, read=5, redirect=5, status=None)) after connection broken by 'NameResolutionError(\"<urllib3.connection.HTTPSConnection object at 0x000001A99D0B80D0>: Failed to resolve 'files.clear.ml' ([Errno 11001] getaddrinfo failed)\")': /\n",
      "Retrying (Retry(total=233, connect=233, read=240, redirect=240, status=240)) after connection broken by 'NameResolutionError(\"<urllib3.connection.HTTPSConnection object at 0x000001A99FD52200>: Failed to resolve 'api.clear.ml' ([Errno 11001] getaddrinfo failed)\")': /v2.23/tasks.get_all\n",
      "Retrying (Retry(total=1, connect=1, read=5, redirect=5, status=None)) after connection broken by 'NameResolutionError(\"<urllib3.connection.HTTPSConnection object at 0x000001A99D0BA5F0>: Failed to resolve 'files.clear.ml' ([Errno 11001] getaddrinfo failed)\")': /\n",
      "      40/60         0G     0.6145     0.6259     0.9721         63        640:  82%|████████▏ | 78/95 [17:19<03:49, 13.51s/it]Retrying (Retry(total=0, connect=0, read=5, redirect=5, status=None)) after connection broken by 'NameResolutionError(\"<urllib3.connection.HTTPSConnection object at 0x000001A99D0B9300>: Failed to resolve 'files.clear.ml' ([Errno 11001] getaddrinfo failed)\")': /\n",
      "Retrying (Retry(total=2, connect=2, read=5, redirect=5, status=None)) after connection broken by 'NameResolutionError(\"<urllib3.connection.HTTPSConnection object at 0x000001A99D0B8F40>: Failed to resolve 'files.clear.ml' ([Errno 11001] getaddrinfo failed)\")': /\n",
      "      40/60         0G     0.6137     0.6262     0.9709         68        640:  83%|████████▎ | 79/95 [17:32<03:37, 13.58s/it]Retrying (Retry(total=1, connect=1, read=5, redirect=5, status=None)) after connection broken by 'NameResolutionError(\"<urllib3.connection.HTTPSConnection object at 0x000001A99D0BBB20>: Failed to resolve 'files.clear.ml' ([Errno 11001] getaddrinfo failed)\")': /\n",
      "Retrying (Retry(total=0, connect=0, read=5, redirect=5, status=None)) after connection broken by 'NameResolutionError(\"<urllib3.connection.HTTPSConnection object at 0x000001A99D0BB6A0>: Failed to resolve 'files.clear.ml' ([Errno 11001] getaddrinfo failed)\")': /\n",
      "Retrying (Retry(total=2, connect=2, read=5, redirect=5, status=None)) after connection broken by 'NameResolutionError(\"<urllib3.connection.HTTPSConnection object at 0x000001A9AB93BBB0>: Failed to resolve 'files.clear.ml' ([Errno 11001] getaddrinfo failed)\")': /\n",
      "      40/60         0G     0.6125     0.6251     0.9703         39        640:  84%|████████▍ | 80/95 [17:45<03:21, 13.42s/it]Retrying (Retry(total=1, connect=1, read=5, redirect=5, status=None)) after connection broken by 'NameResolutionError(\"<urllib3.connection.HTTPSConnection object at 0x000001A9AB938A30>: Failed to resolve 'files.clear.ml' ([Errno 11001] getaddrinfo failed)\")': /\n",
      "Retrying (Retry(total=0, connect=0, read=5, redirect=5, status=None)) after connection broken by 'NameResolutionError(\"<urllib3.connection.HTTPSConnection object at 0x000001A9AB939FF0>: Failed to resolve 'files.clear.ml' ([Errno 11001] getaddrinfo failed)\")': /\n"
     ]
    },
    {
     "name": "stdout",
     "output_type": "stream",
     "text": [
      "2024-06-17 14:08:58,014 - clearml.storage - ERROR - Exception encountered while uploading HTTPSConnectionPool(host='files.clear.ml', port=443): Max retries exceeded with url: / (Caused by NameResolutionError(\"<urllib3.connection.HTTPSConnection object at 0x000001A9AB93A1D0>: Failed to resolve 'files.clear.ml' ([Errno 11001] getaddrinfo failed)\"))\n"
     ]
    },
    {
     "name": "stderr",
     "output_type": "stream",
     "text": [
      "      40/60         0G     0.6116     0.6243     0.9692         53        640:  87%|████████▋ | 83/95 [18:25<02:38, 13.23s/it]Retrying (Retry(total=2, connect=2, read=5, redirect=5, status=None)) after connection broken by 'NameResolutionError(\"<urllib3.connection.HTTPSConnection object at 0x000001A9AB939F60>: Failed to resolve 'files.clear.ml' ([Errno 11001] getaddrinfo failed)\")': /\n",
      "Retrying (Retry(total=1, connect=1, read=5, redirect=5, status=None)) after connection broken by 'NameResolutionError(\"<urllib3.connection.HTTPSConnection object at 0x000001A9AB939DE0>: Failed to resolve 'files.clear.ml' ([Errno 11001] getaddrinfo failed)\")': /\n",
      "      40/60         0G     0.6116     0.6242     0.9694         60        640:  88%|████████▊ | 84/95 [18:38<02:25, 13.24s/it]Retrying (Retry(total=0, connect=0, read=5, redirect=5, status=None)) after connection broken by 'NameResolutionError(\"<urllib3.connection.HTTPSConnection object at 0x000001A9AB939120>: Failed to resolve 'files.clear.ml' ([Errno 11001] getaddrinfo failed)\")': /\n",
      "Retrying (Retry(total=2, connect=2, read=5, redirect=5, status=None)) after connection broken by 'NameResolutionError(\"<urllib3.connection.HTTPSConnection object at 0x000001A9AB937160>: Failed to resolve 'files.clear.ml' ([Errno 11001] getaddrinfo failed)\")': /\n",
      "Retrying (Retry(total=1, connect=1, read=5, redirect=5, status=None)) after connection broken by 'NameResolutionError(\"<urllib3.connection.HTTPSConnection object at 0x000001A9AB935540>: Failed to resolve 'files.clear.ml' ([Errno 11001] getaddrinfo failed)\")': /\n",
      "      40/60         0G     0.6108     0.6238     0.9689         53        640:  89%|████████▉ | 85/95 [18:51<02:12, 13.23s/it]Retrying (Retry(total=0, connect=0, read=5, redirect=5, status=None)) after connection broken by 'NameResolutionError(\"<urllib3.connection.HTTPSConnection object at 0x000001A9AB935660>: Failed to resolve 'files.clear.ml' ([Errno 11001] getaddrinfo failed)\")': /\n",
      "Retrying (Retry(total=2, connect=2, read=5, redirect=5, status=None)) after connection broken by 'NameResolutionError(\"<urllib3.connection.HTTPSConnection object at 0x000001A9AB9365F0>: Failed to resolve 'files.clear.ml' ([Errno 11001] getaddrinfo failed)\")': /\n",
      "Retrying (Retry(total=1, connect=1, read=5, redirect=5, status=None)) after connection broken by 'NameResolutionError(\"<urllib3.connection.HTTPSConnection object at 0x000001A9AB935990>: Failed to resolve 'files.clear.ml' ([Errno 11001] getaddrinfo failed)\")': /\n",
      "      40/60         0G     0.6108     0.6232     0.9687         59        640:  91%|█████████ | 86/95 [19:05<01:59, 13.23s/it]Retrying (Retry(total=232, connect=232, read=240, redirect=240, status=240)) after connection broken by 'NameResolutionError(\"<urllib3.connection.HTTPSConnection object at 0x000001A99D0B97E0>: Failed to resolve 'api.clear.ml' ([Errno 11001] getaddrinfo failed)\")': /v2.23/events.add_batch\n",
      "Retrying (Retry(total=0, connect=0, read=5, redirect=5, status=None)) after connection broken by 'NameResolutionError(\"<urllib3.connection.HTTPSConnection object at 0x000001A9AB934A90>: Failed to resolve 'files.clear.ml' ([Errno 11001] getaddrinfo failed)\")': /\n"
     ]
    },
    {
     "name": "stdout",
     "output_type": "stream",
     "text": [
      "2024-06-17 14:10:13,272 - clearml.storage - ERROR - Exception encountered while uploading HTTPSConnectionPool(host='files.clear.ml', port=443): Max retries exceeded with url: / (Caused by NameResolutionError(\"<urllib3.connection.HTTPSConnection object at 0x000001A9AB936020>: Failed to resolve 'files.clear.ml' ([Errno 11001] getaddrinfo failed)\"))\n"
     ]
    },
    {
     "name": "stderr",
     "output_type": "stream",
     "text": [
      "Retrying (Retry(total=232, connect=233, read=239, redirect=240, status=240)) after connection broken by 'NameResolutionError(\"<urllib3.connection.HTTPSConnection object at 0x000001A99D0B8BB0>: Failed to resolve 'api.clear.ml' ([Errno 11001] getaddrinfo failed)\")': /v2.23/tasks.get_all\n",
      "Retrying (Retry(total=232, connect=232, read=240, redirect=240, status=240)) after connection broken by 'NameResolutionError(\"<urllib3.connection.HTTPSConnection object at 0x000001A99D0B8760>: Failed to resolve 'api.clear.ml' ([Errno 11001] getaddrinfo failed)\")': /v2.23/tasks.get_all\n",
      "      40/60         0G     0.6113     0.6226     0.9688         68        640:  93%|█████████▎| 88/95 [19:31<01:33, 13.29s/it]Retrying (Retry(total=2, connect=2, read=5, redirect=5, status=None)) after connection broken by 'NameResolutionError(\"<urllib3.connection.HTTPSConnection object at 0x000001A99FF01A50>: Failed to resolve 'files.clear.ml' ([Errno 11001] getaddrinfo failed)\")': /\n",
      "      40/60         0G     0.6129     0.6232     0.9696         40        640:  94%|█████████▎| 89/95 [19:44<01:19, 13.23s/it]Retrying (Retry(total=1, connect=1, read=5, redirect=5, status=None)) after connection broken by 'NameResolutionError(\"<urllib3.connection.HTTPSConnection object at 0x000001A99FF02530>: Failed to resolve 'files.clear.ml' ([Errno 11001] getaddrinfo failed)\")': /\n",
      "Retrying (Retry(total=0, connect=0, read=5, redirect=5, status=None)) after connection broken by 'NameResolutionError(\"<urllib3.connection.HTTPSConnection object at 0x000001A99FF016F0>: Failed to resolve 'files.clear.ml' ([Errno 11001] getaddrinfo failed)\")': /\n",
      "      40/60         0G     0.6141      0.625       0.97         46        640:  95%|█████████▍| 90/95 [19:57<01:05, 13.14s/it]Retrying (Retry(total=2, connect=2, read=5, redirect=5, status=None)) after connection broken by 'NameResolutionError(\"<urllib3.connection.HTTPSConnection object at 0x000001A99FF02BF0>: Failed to resolve 'files.clear.ml' ([Errno 11001] getaddrinfo failed)\")': /\n",
      "Retrying (Retry(total=1, connect=1, read=5, redirect=5, status=None)) after connection broken by 'NameResolutionError(\"<urllib3.connection.HTTPSConnection object at 0x000001A99FF013C0>: Failed to resolve 'files.clear.ml' ([Errno 11001] getaddrinfo failed)\")': /\n",
      "      40/60         0G     0.6133     0.6241     0.9695         80        640:  96%|█████████▌| 91/95 [20:11<00:52, 13.18s/it]Retrying (Retry(total=0, connect=0, read=5, redirect=5, status=None)) after connection broken by 'NameResolutionError(\"<urllib3.connection.HTTPSConnection object at 0x000001A99FF01E10>: Failed to resolve 'files.clear.ml' ([Errno 11001] getaddrinfo failed)\")': /\n",
      "Retrying (Retry(total=2, connect=2, read=5, redirect=5, status=None)) after connection broken by 'NameResolutionError(\"<urllib3.connection.HTTPSConnection object at 0x000001A99FF03340>: Failed to resolve 'files.clear.ml' ([Errno 11001] getaddrinfo failed)\")': /\n",
      "Retrying (Retry(total=1, connect=1, read=5, redirect=5, status=None)) after connection broken by 'NameResolutionError(\"<urllib3.connection.HTTPSConnection object at 0x000001A9A2598A60>: Failed to resolve 'files.clear.ml' ([Errno 11001] getaddrinfo failed)\")': /\n",
      "      40/60         0G     0.6128     0.6237      0.969         73        640:  97%|█████████▋| 92/95 [20:24<00:39, 13.29s/it]Retrying (Retry(total=0, connect=0, read=5, redirect=5, status=None)) after connection broken by 'NameResolutionError(\"<urllib3.connection.HTTPSConnection object at 0x000001A9A259B1F0>: Failed to resolve 'files.clear.ml' ([Errno 11001] getaddrinfo failed)\")': /\n"
     ]
    },
    {
     "name": "stdout",
     "output_type": "stream",
     "text": [
      "2024-06-17 14:11:28,504 - clearml.storage - ERROR - Exception encountered while uploading HTTPSConnectionPool(host='files.clear.ml', port=443): Max retries exceeded with url: / (Caused by NameResolutionError(\"<urllib3.connection.HTTPSConnection object at 0x000001A9A259A050>: Failed to resolve 'files.clear.ml' ([Errno 11001] getaddrinfo failed)\"))\n"
     ]
    },
    {
     "name": "stderr",
     "output_type": "stream",
     "text": [
      "      40/60         0G     0.6135     0.6235     0.9693         50        640:  99%|█████████▉| 94/95 [20:51<00:13, 13.24s/it]Retrying (Retry(total=2, connect=2, read=5, redirect=5, status=None)) after connection broken by 'NameResolutionError(\"<urllib3.connection.HTTPSConnection object at 0x000001A998365090>: Failed to resolve 'files.clear.ml' ([Errno 11001] getaddrinfo failed)\")': /\n",
      "      40/60         0G     0.6114     0.6228     0.9685         38        640: 100%|██████████| 95/95 [20:59<00:00, 13.26s/it]\n",
      "                 Class     Images  Instances      Box(P          R      mAP50  mAP50-95):   0%|          | 0/2 [00:00<?, ?it/s]Retrying (Retry(total=1, connect=1, read=5, redirect=5, status=None)) after connection broken by 'NameResolutionError(\"<urllib3.connection.HTTPSConnection object at 0x000001A9A259BE20>: Failed to resolve 'files.clear.ml' ([Errno 11001] getaddrinfo failed)\")': /\n",
      "Retrying (Retry(total=237, connect=237, read=240, redirect=240, status=240)) after connection broken by 'NameResolutionError(\"<urllib3.connection.HTTPSConnection object at 0x000001A99FDFCBE0>: Failed to resolve 'api.clear.ml' ([Errno 11001] getaddrinfo failed)\")': /v2.23/events.add_batch\n",
      "Retrying (Retry(total=231, connect=231, read=240, redirect=240, status=240)) after connection broken by 'NameResolutionError(\"<urllib3.connection.HTTPSConnection object at 0x000001A9AB936230>: Failed to resolve 'api.clear.ml' ([Errno 11001] getaddrinfo failed)\")': /v2.23/events.add_batch\n",
      "                 Class     Images  Instances      Box(P          R      mAP50  mAP50-95):  50%|█████     | 1/2 [00:11<00:11, 11.83s/it]Retrying (Retry(total=0, connect=0, read=5, redirect=5, status=None)) after connection broken by 'NameResolutionError(\"<urllib3.connection.HTTPSConnection object at 0x000001A99FDFD5A0>: Failed to resolve 'files.clear.ml' ([Errno 11001] getaddrinfo failed)\")': /\n",
      "Retrying (Retry(total=231, connect=232, read=239, redirect=240, status=240)) after connection broken by 'NameResolutionError(\"<urllib3.connection.HTTPSConnection object at 0x000001A9AB937B80>: Failed to resolve 'api.clear.ml' ([Errno 11001] getaddrinfo failed)\")': /v2.23/tasks.get_all\n",
      "Retrying (Retry(total=2, connect=2, read=5, redirect=5, status=None)) after connection broken by 'NameResolutionError(\"<urllib3.connection.HTTPSConnection object at 0x000001A99FDFE530>: Failed to resolve 'files.clear.ml' ([Errno 11001] getaddrinfo failed)\")': /\n",
      "Retrying (Retry(total=236, connect=236, read=240, redirect=240, status=240)) after connection broken by 'NameResolutionError(\"<urllib3.connection.HTTPSConnection object at 0x000001A99FDFD780>: Failed to resolve 'api.clear.ml' ([Errno 11001] getaddrinfo failed)\")': /v2.23/events.add_batch\n",
      "Retrying (Retry(total=231, connect=231, read=240, redirect=240, status=240)) after connection broken by 'NameResolutionError(\"<urllib3.connection.HTTPSConnection object at 0x000001A9AB934040>: Failed to resolve 'api.clear.ml' ([Errno 11001] getaddrinfo failed)\")': /v2.23/tasks.get_all\n",
      "Retrying (Retry(total=1, connect=1, read=5, redirect=5, status=None)) after connection broken by 'NameResolutionError(\"<urllib3.connection.HTTPSConnection object at 0x000001A99FDFE2C0>: Failed to resolve 'files.clear.ml' ([Errno 11001] getaddrinfo failed)\")': /\n",
      "                 Class     Images  Instances      Box(P          R      mAP50  mAP50-95): 100%|██████████| 2/2 [00:23<00:00, 11.57s/it]"
     ]
    },
    {
     "name": "stdout",
     "output_type": "stream",
     "text": [
      "                   all         63        147      0.694      0.649      0.672      0.415\n"
     ]
    },
    {
     "name": "stderr",
     "output_type": "stream",
     "text": [
      "\n"
     ]
    },
    {
     "name": "stdout",
     "output_type": "stream",
     "text": [
      "\n",
      "      Epoch    GPU_mem   box_loss   cls_loss   dfl_loss  Instances       Size\n"
     ]
    },
    {
     "name": "stderr",
     "output_type": "stream",
     "text": [
      "  0%|          | 0/95 [00:00<?, ?it/s]Retrying (Retry(total=0, connect=0, read=5, redirect=5, status=None)) after connection broken by 'NameResolutionError(\"<urllib3.connection.HTTPSConnection object at 0x000001A99FDFF580>: Failed to resolve 'files.clear.ml' ([Errno 11001] getaddrinfo failed)\")': /\n",
      "Retrying (Retry(total=2, connect=2, read=5, redirect=5, status=None)) after connection broken by 'NameResolutionError(\"<urllib3.connection.HTTPSConnection object at 0x000001A9967BE080>: Failed to resolve 'files.clear.ml' ([Errno 11001] getaddrinfo failed)\")': /\n",
      "Retrying (Retry(total=235, connect=235, read=240, redirect=240, status=240)) after connection broken by 'NameResolutionError(\"<urllib3.connection.HTTPSConnection object at 0x000001A99FDFC190>: Failed to resolve 'api.clear.ml' ([Errno 11001] getaddrinfo failed)\")': /v2.23/events.add_batch\n",
      "Retrying (Retry(total=1, connect=1, read=5, redirect=5, status=None)) after connection broken by 'NameResolutionError(\"<urllib3.connection.HTTPSConnection object at 0x000001A9967BEEC0>: Failed to resolve 'files.clear.ml' ([Errno 11001] getaddrinfo failed)\")': /\n",
      "      41/60         0G     0.6702     0.5104      1.038         59        640:   1%|          | 1/95 [00:13<20:58, 13.39s/it]Retrying (Retry(total=0, connect=0, read=5, redirect=5, status=None)) after connection broken by 'NameResolutionError(\"<urllib3.connection.HTTPSConnection object at 0x000001A9967BE980>: Failed to resolve 'files.clear.ml' ([Errno 11001] getaddrinfo failed)\")': /\n"
     ]
    },
    {
     "name": "stdout",
     "output_type": "stream",
     "text": [
      "2024-06-17 14:12:43,750 - clearml.storage - ERROR - Exception encountered while uploading HTTPSConnectionPool(host='files.clear.ml', port=443): Max retries exceeded with url: / (Caused by NameResolutionError(\"<urllib3.connection.HTTPSConnection object at 0x000001A98DB55E70>: Failed to resolve 'files.clear.ml' ([Errno 11001] getaddrinfo failed)\"))\n"
     ]
    },
    {
     "name": "stderr",
     "output_type": "stream",
     "text": [
      "      41/60         0G     0.6713     0.5932     0.9871         86        640:   2%|▏         | 2/95 [00:27<21:12, 13.69s/it]Retrying (Retry(total=234, connect=234, read=240, redirect=240, status=240)) after connection broken by 'NameResolutionError(\"<urllib3.connection.HTTPSConnection object at 0x000001A9967BE9B0>: Failed to resolve 'api.clear.ml' ([Errno 11001] getaddrinfo failed)\")': /v2.23/events.add_batch\n",
      "      41/60         0G     0.6389     0.5821     0.9669         84        640:   3%|▎         | 3/95 [00:42<21:55, 14.30s/it]Retrying (Retry(total=2, connect=2, read=5, redirect=5, status=None)) after connection broken by 'NameResolutionError(\"<urllib3.connection.HTTPSConnection object at 0x000001A99FD50370>: Failed to resolve 'files.clear.ml' ([Errno 11001] getaddrinfo failed)\")': /\n",
      "Retrying (Retry(total=1, connect=1, read=5, redirect=5, status=None)) after connection broken by 'NameResolutionError(\"<urllib3.connection.HTTPSConnection object at 0x000001A99FD52C20>: Failed to resolve 'files.clear.ml' ([Errno 11001] getaddrinfo failed)\")': /\n",
      "      41/60         0G     0.6102     0.5934     0.9683         60        640:   7%|▋         | 7/95 [01:42<21:50, 14.89s/it]Retrying (Retry(total=233, connect=233, read=240, redirect=240, status=240)) after connection broken by 'NameResolutionError(\"<urllib3.connection.HTTPSConnection object at 0x000001A99FD504F0>: Failed to resolve 'api.clear.ml' ([Errno 11001] getaddrinfo failed)\")': /v2.23/events.add_batch\n",
      "Retrying (Retry(total=230, connect=230, read=240, redirect=240, status=240)) after connection broken by 'NameResolutionError(\"<urllib3.connection.HTTPSConnection object at 0x000001A99FDFE650>: Failed to resolve 'api.clear.ml' ([Errno 11001] getaddrinfo failed)\")': /v2.23/events.add_batch\n",
      "Retrying (Retry(total=230, connect=231, read=239, redirect=240, status=240)) after connection broken by 'NameResolutionError(\"<urllib3.connection.HTTPSConnection object at 0x000001A99FDFCD00>: Failed to resolve 'api.clear.ml' ([Errno 11001] getaddrinfo failed)\")': /v2.23/tasks.get_all\n",
      "Retrying (Retry(total=230, connect=230, read=240, redirect=240, status=240)) after connection broken by 'NameResolutionError(\"<urllib3.connection.HTTPSConnection object at 0x000001A99FDFEB90>: Failed to resolve 'api.clear.ml' ([Errno 11001] getaddrinfo failed)\")': /v2.23/tasks.get_all\n",
      "      41/60         0G     0.6125      0.598     0.9702         27        640: 100%|██████████| 95/95 [22:42<00:00, 14.35s/it]\n",
      "                 Class     Images  Instances      Box(P          R      mAP50  mAP50-95): 100%|██████████| 2/2 [00:25<00:00, 12.58s/it]"
     ]
    },
    {
     "name": "stdout",
     "output_type": "stream",
     "text": [
      "                   all         63        147       0.84      0.593      0.673      0.418\n"
     ]
    },
    {
     "name": "stderr",
     "output_type": "stream",
     "text": [
      "\n"
     ]
    },
    {
     "name": "stdout",
     "output_type": "stream",
     "text": [
      "\n",
      "      Epoch    GPU_mem   box_loss   cls_loss   dfl_loss  Instances       Size\n"
     ]
    },
    {
     "name": "stderr",
     "output_type": "stream",
     "text": [
      "      42/60         0G     0.5959      0.609     0.9601         32        640: 100%|██████████| 95/95 [22:28<00:00, 14.19s/it]\n",
      "                 Class     Images  Instances      Box(P          R      mAP50  mAP50-95): 100%|██████████| 2/2 [00:23<00:00, 11.96s/it]"
     ]
    },
    {
     "name": "stdout",
     "output_type": "stream",
     "text": [
      "                   all         63        147       0.73      0.629      0.645      0.399\n"
     ]
    },
    {
     "name": "stderr",
     "output_type": "stream",
     "text": [
      "\n"
     ]
    },
    {
     "name": "stdout",
     "output_type": "stream",
     "text": [
      "\n",
      "      Epoch    GPU_mem   box_loss   cls_loss   dfl_loss  Instances       Size\n"
     ]
    },
    {
     "name": "stderr",
     "output_type": "stream",
     "text": [
      "      43/60         0G     0.5943     0.6158     0.9685         43        640: 100%|██████████| 95/95 [21:16<00:00, 13.44s/it]\n",
      "                 Class     Images  Instances      Box(P          R      mAP50  mAP50-95): 100%|██████████| 2/2 [00:23<00:00, 11.58s/it]"
     ]
    },
    {
     "name": "stdout",
     "output_type": "stream",
     "text": [
      "                   all         63        147      0.755      0.659      0.669       0.41\n"
     ]
    },
    {
     "name": "stderr",
     "output_type": "stream",
     "text": [
      "\n"
     ]
    },
    {
     "name": "stdout",
     "output_type": "stream",
     "text": [
      "\n",
      "      Epoch    GPU_mem   box_loss   cls_loss   dfl_loss  Instances       Size\n"
     ]
    },
    {
     "name": "stderr",
     "output_type": "stream",
     "text": [
      "      44/60         0G     0.5705     0.5947     0.9459         36        640: 100%|██████████| 95/95 [21:00<00:00, 13.26s/it]\n",
      "                 Class     Images  Instances      Box(P          R      mAP50  mAP50-95): 100%|██████████| 2/2 [00:23<00:00, 11.61s/it]"
     ]
    },
    {
     "name": "stdout",
     "output_type": "stream",
     "text": [
      "                   all         63        147      0.694      0.681      0.655      0.392\n"
     ]
    },
    {
     "name": "stderr",
     "output_type": "stream",
     "text": [
      "\n"
     ]
    },
    {
     "name": "stdout",
     "output_type": "stream",
     "text": [
      "\n",
      "      Epoch    GPU_mem   box_loss   cls_loss   dfl_loss  Instances       Size\n"
     ]
    },
    {
     "name": "stderr",
     "output_type": "stream",
     "text": [
      "      45/60         0G     0.5717     0.5911       0.95         31        640: 100%|██████████| 95/95 [21:18<00:00, 13.46s/it]\n",
      "                 Class     Images  Instances      Box(P          R      mAP50  mAP50-95): 100%|██████████| 2/2 [00:23<00:00, 11.51s/it]"
     ]
    },
    {
     "name": "stdout",
     "output_type": "stream",
     "text": [
      "                   all         63        147      0.729      0.625      0.645      0.404\n"
     ]
    },
    {
     "name": "stderr",
     "output_type": "stream",
     "text": [
      "\n"
     ]
    },
    {
     "name": "stdout",
     "output_type": "stream",
     "text": [
      "\n",
      "      Epoch    GPU_mem   box_loss   cls_loss   dfl_loss  Instances       Size\n"
     ]
    },
    {
     "name": "stderr",
     "output_type": "stream",
     "text": [
      "      46/60         0G      0.557     0.5763     0.9457         65        640: 100%|██████████| 95/95 [21:18<00:00, 13.46s/it]\n",
      "                 Class     Images  Instances      Box(P          R      mAP50  mAP50-95): 100%|██████████| 2/2 [00:22<00:00, 11.42s/it]"
     ]
    },
    {
     "name": "stdout",
     "output_type": "stream",
     "text": [
      "                   all         63        147      0.674       0.66      0.665      0.396\n"
     ]
    },
    {
     "name": "stderr",
     "output_type": "stream",
     "text": [
      "\n"
     ]
    },
    {
     "name": "stdout",
     "output_type": "stream",
     "text": [
      "\n",
      "      Epoch    GPU_mem   box_loss   cls_loss   dfl_loss  Instances       Size\n"
     ]
    },
    {
     "name": "stderr",
     "output_type": "stream",
     "text": [
      "      47/60         0G     0.5609     0.5903      0.948         43        640: 100%|██████████| 95/95 [26:02<00:00, 16.45s/it]\n",
      "                 Class     Images  Instances      Box(P          R      mAP50  mAP50-95): 100%|██████████| 2/2 [00:23<00:00, 11.57s/it]"
     ]
    },
    {
     "name": "stdout",
     "output_type": "stream",
     "text": [
      "                   all         63        147      0.777      0.648       0.66      0.406\n"
     ]
    },
    {
     "name": "stderr",
     "output_type": "stream",
     "text": [
      "\n"
     ]
    },
    {
     "name": "stdout",
     "output_type": "stream",
     "text": [
      "\n",
      "      Epoch    GPU_mem   box_loss   cls_loss   dfl_loss  Instances       Size\n"
     ]
    },
    {
     "name": "stderr",
     "output_type": "stream",
     "text": [
      "      48/60         0G     0.5613     0.5847     0.9486         40        640: 100%|██████████| 95/95 [21:09<00:00, 13.36s/it]\n",
      "                 Class     Images  Instances      Box(P          R      mAP50  mAP50-95): 100%|██████████| 2/2 [00:22<00:00, 11.43s/it]"
     ]
    },
    {
     "name": "stdout",
     "output_type": "stream",
     "text": [
      "                   all         63        147      0.702      0.684      0.657      0.396\n"
     ]
    },
    {
     "name": "stderr",
     "output_type": "stream",
     "text": [
      "\n"
     ]
    },
    {
     "name": "stdout",
     "output_type": "stream",
     "text": [
      "\n",
      "      Epoch    GPU_mem   box_loss   cls_loss   dfl_loss  Instances       Size\n"
     ]
    },
    {
     "name": "stderr",
     "output_type": "stream",
     "text": [
      "      49/60         0G     0.5479     0.5979     0.9446         84        640:  74%|███████▎  | 70/95 [15:18<05:30, 13.21s/it]Retrying (Retry(total=237, connect=237, read=240, redirect=240, status=240)) after connection broken by 'NameResolutionError(\"<urllib3.connection.HTTPSConnection object at 0x000001A99C3A4460>: Failed to resolve 'api.clear.ml' ([Errno 11001] getaddrinfo failed)\")': /v2.23/tasks.get_all\n",
      "Retrying (Retry(total=237, connect=237, read=240, redirect=240, status=240)) after connection broken by 'NameResolutionError(\"<urllib3.connection.HTTPSConnection object at 0x000001A99C3A7790>: Failed to resolve 'api.clear.ml' ([Errno 11001] getaddrinfo failed)\")': /v2.23/tasks.get_all\n",
      "Retrying (Retry(total=237, connect=237, read=240, redirect=240, status=240)) after connection broken by 'NameResolutionError(\"<urllib3.connection.HTTPSConnection object at 0x000001A9A94E8160>: Failed to resolve 'api.clear.ml' ([Errno 11001] getaddrinfo failed)\")': /v2.23/events.add_batch\n",
      "Retrying (Retry(total=2, connect=3, read=5, redirect=5, status=None)) after connection broken by 'NameResolutionError(\"<urllib3.connection.HTTPSConnection object at 0x000001A9A94E9660>: Failed to resolve 'files.clear.ml' ([Errno 11001] getaddrinfo failed)\")': /\n",
      "Retrying (Retry(total=236, connect=236, read=240, redirect=240, status=240)) after connection broken by 'NameResolutionError(\"<urllib3.connection.HTTPSConnection object at 0x000001A9A94EBA30>: Failed to resolve 'api.clear.ml' ([Errno 11001] getaddrinfo failed)\")': /v2.23/tasks.get_all\n",
      "Retrying (Retry(total=236, connect=236, read=240, redirect=240, status=240)) after connection broken by 'NameResolutionError(\"<urllib3.connection.HTTPSConnection object at 0x000001A9A94E8820>: Failed to resolve 'api.clear.ml' ([Errno 11001] getaddrinfo failed)\")': /v2.23/tasks.get_all\n",
      "Retrying (Retry(total=1, connect=2, read=5, redirect=5, status=None)) after connection broken by 'NameResolutionError(\"<urllib3.connection.HTTPSConnection object at 0x000001A9A94EBD60>: Failed to resolve 'files.clear.ml' ([Errno 11001] getaddrinfo failed)\")': /\n",
      "Retrying (Retry(total=236, connect=236, read=240, redirect=240, status=240)) after connection broken by 'NameResolutionError(\"<urllib3.connection.HTTPSConnection object at 0x000001A9A94E81C0>: Failed to resolve 'api.clear.ml' ([Errno 11001] getaddrinfo failed)\")': /v2.23/events.add_batch\n",
      "      49/60         0G     0.5472     0.5959     0.9445         54        640:  75%|███████▍  | 71/95 [15:31<05:16, 13.19s/it]Retrying (Retry(total=0, connect=1, read=5, redirect=5, status=None)) after connection broken by 'NameResolutionError(\"<urllib3.connection.HTTPSConnection object at 0x000001A99FBCD5A0>: Failed to resolve 'files.clear.ml' ([Errno 11001] getaddrinfo failed)\")': /\n",
      "Retrying (Retry(total=2, connect=2, read=5, redirect=5, status=None)) after connection broken by 'NameResolutionError(\"<urllib3.connection.HTTPSConnection object at 0x000001A99FBCE6E0>: Failed to resolve 'files.clear.ml' ([Errno 11001] getaddrinfo failed)\")': /\n",
      "Retrying (Retry(total=235, connect=235, read=240, redirect=240, status=240)) after connection broken by 'NameResolutionError(\"<urllib3.connection.HTTPSConnection object at 0x000001A9A94E9C90>: Failed to resolve 'api.clear.ml' ([Errno 11001] getaddrinfo failed)\")': /v2.23/tasks.get_all\n",
      "Retrying (Retry(total=235, connect=235, read=240, redirect=240, status=240)) after connection broken by 'NameResolutionError(\"<urllib3.connection.HTTPSConnection object at 0x000001A99FBCD870>: Failed to resolve 'api.clear.ml' ([Errno 11001] getaddrinfo failed)\")': /v2.23/tasks.get_all\n",
      "Retrying (Retry(total=1, connect=1, read=5, redirect=5, status=None)) after connection broken by 'NameResolutionError(\"<urllib3.connection.HTTPSConnection object at 0x000001A99FBCE020>: Failed to resolve 'files.clear.ml' ([Errno 11001] getaddrinfo failed)\")': /\n",
      "      49/60         0G     0.5473     0.5989     0.9441         67        640:  76%|███████▌  | 72/95 [15:45<05:05, 13.28s/it]Retrying (Retry(total=235, connect=235, read=240, redirect=240, status=240)) after connection broken by 'NameResolutionError(\"<urllib3.connection.HTTPSConnection object at 0x000001A99FBCDFF0>: Failed to resolve 'api.clear.ml' ([Errno 11001] getaddrinfo failed)\")': /v2.23/events.add_batch\n",
      "Retrying (Retry(total=0, connect=0, read=5, redirect=5, status=None)) after connection broken by 'NameResolutionError(\"<urllib3.connection.HTTPSConnection object at 0x000001A99FBCF130>: Failed to resolve 'files.clear.ml' ([Errno 11001] getaddrinfo failed)\")': /\n",
      "Retrying (Retry(total=2, connect=2, read=5, redirect=5, status=None)) after connection broken by 'NameResolutionError(\"<urllib3.connection.HTTPSConnection object at 0x000001A99FBCE230>: Failed to resolve 'files.clear.ml' ([Errno 11001] getaddrinfo failed)\")': /\n",
      "      49/60         0G     0.5474     0.5991     0.9442         69        640:  77%|███████▋  | 73/95 [15:58<04:54, 13.37s/it]Retrying (Retry(total=1, connect=1, read=5, redirect=5, status=None)) after connection broken by 'NameResolutionError(\"<urllib3.connection.HTTPSConnection object at 0x000001A99FBCD270>: Failed to resolve 'files.clear.ml' ([Errno 11001] getaddrinfo failed)\")': /\n",
      "Retrying (Retry(total=0, connect=0, read=5, redirect=5, status=None)) after connection broken by 'NameResolutionError(\"<urllib3.connection.HTTPSConnection object at 0x000001A99FBCE650>: Failed to resolve 'files.clear.ml' ([Errno 11001] getaddrinfo failed)\")': /\n"
     ]
    },
    {
     "name": "stdout",
     "output_type": "stream",
     "text": [
      "2024-06-17 17:29:05,469 - clearml.storage - ERROR - Exception encountered while uploading HTTPSConnectionPool(host='files.clear.ml', port=443): Max retries exceeded with url: / (Caused by NameResolutionError(\"<urllib3.connection.HTTPSConnection object at 0x000001A99D212650>: Failed to resolve 'files.clear.ml' ([Errno 11001] getaddrinfo failed)\"))\n"
     ]
    },
    {
     "name": "stderr",
     "output_type": "stream",
     "text": [
      "      49/60         0G     0.5469     0.5976     0.9434         72        640:  78%|███████▊  | 74/95 [16:12<04:43, 13.52s/it]Retrying (Retry(total=234, connect=234, read=240, redirect=240, status=240)) after connection broken by 'NameResolutionError(\"<urllib3.connection.HTTPSConnection object at 0x000001A99FBCC880>: Failed to resolve 'api.clear.ml' ([Errno 11001] getaddrinfo failed)\")': /v2.23/tasks.get_all\n",
      "Retrying (Retry(total=234, connect=234, read=240, redirect=240, status=240)) after connection broken by 'NameResolutionError(\"<urllib3.connection.HTTPSConnection object at 0x000001A99FBCD330>: Failed to resolve 'api.clear.ml' ([Errno 11001] getaddrinfo failed)\")': /v2.23/tasks.get_all\n",
      "Retrying (Retry(total=234, connect=234, read=240, redirect=240, status=240)) after connection broken by 'NameResolutionError(\"<urllib3.connection.HTTPSConnection object at 0x000001A99FBCFDF0>: Failed to resolve 'api.clear.ml' ([Errno 11001] getaddrinfo failed)\")': /v2.23/events.add_batch\n",
      "      49/60         0G     0.5471      0.597     0.9432         75        640:  80%|████████  | 76/95 [16:40<04:19, 13.64s/it]Retrying (Retry(total=2, connect=2, read=5, redirect=5, status=None)) after connection broken by 'NameResolutionError(\"<urllib3.connection.HTTPSConnection object at 0x000001A99D2122C0>: Failed to resolve 'files.clear.ml' ([Errno 11001] getaddrinfo failed)\")': /\n",
      "Retrying (Retry(total=1, connect=1, read=5, redirect=5, status=None)) after connection broken by 'NameResolutionError(\"<urllib3.connection.HTTPSConnection object at 0x000001A99D213610>: Failed to resolve 'files.clear.ml' ([Errno 11001] getaddrinfo failed)\")': /\n",
      "Retrying (Retry(total=0, connect=0, read=5, redirect=5, status=None)) after connection broken by 'NameResolutionError(\"<urllib3.connection.HTTPSConnection object at 0x000001A99D2118D0>: Failed to resolve 'files.clear.ml' ([Errno 11001] getaddrinfo failed)\")': /\n",
      "      49/60         0G     0.5477     0.5961     0.9442         46        640:  81%|████████  | 77/95 [16:54<04:06, 13.72s/it]Retrying (Retry(total=2, connect=2, read=5, redirect=5, status=None)) after connection broken by 'NameResolutionError(\"<urllib3.connection.HTTPSConnection object at 0x000001A99D2136A0>: Failed to resolve 'files.clear.ml' ([Errno 11001] getaddrinfo failed)\")': /\n",
      "Retrying (Retry(total=1, connect=1, read=5, redirect=5, status=None)) after connection broken by 'NameResolutionError(\"<urllib3.connection.HTTPSConnection object at 0x000001A99D210A00>: Failed to resolve 'files.clear.ml' ([Errno 11001] getaddrinfo failed)\")': /\n",
      "      49/60         0G     0.5475     0.5966     0.9442         44        640:  82%|████████▏ | 78/95 [17:07<03:52, 13.68s/it]Retrying (Retry(total=0, connect=0, read=5, redirect=5, status=None)) after connection broken by 'NameResolutionError(\"<urllib3.connection.HTTPSConnection object at 0x000001A99D211F00>: Failed to resolve 'files.clear.ml' ([Errno 11001] getaddrinfo failed)\")': /\n",
      "Retrying (Retry(total=2, connect=2, read=5, redirect=5, status=None)) after connection broken by 'NameResolutionError(\"<urllib3.connection.HTTPSConnection object at 0x000001A9AC4223E0>: Failed to resolve 'files.clear.ml' ([Errno 11001] getaddrinfo failed)\")': /\n",
      "Retrying (Retry(total=1, connect=1, read=5, redirect=5, status=None)) after connection broken by 'NameResolutionError(\"<urllib3.connection.HTTPSConnection object at 0x000001A9AC420DF0>: Failed to resolve 'files.clear.ml' ([Errno 11001] getaddrinfo failed)\")': /\n",
      "Retrying (Retry(total=233, connect=233, read=240, redirect=240, status=240)) after connection broken by 'NameResolutionError(\"<urllib3.connection.HTTPSConnection object at 0x000001A99D213670>: Failed to resolve 'api.clear.ml' ([Errno 11001] getaddrinfo failed)\")': /v2.23/tasks.get_all\n",
      "Retrying (Retry(total=233, connect=233, read=240, redirect=240, status=240)) after connection broken by 'NameResolutionError(\"<urllib3.connection.HTTPSConnection object at 0x000001A99D212D70>: Failed to resolve 'api.clear.ml' ([Errno 11001] getaddrinfo failed)\")': /v2.23/tasks.get_all\n",
      "      49/60         0G     0.5474     0.5963     0.9439         86        640:  83%|████████▎ | 79/95 [17:22<03:43, 13.95s/it]Retrying (Retry(total=0, connect=0, read=5, redirect=5, status=None)) after connection broken by 'NameResolutionError(\"<urllib3.connection.HTTPSConnection object at 0x000001A9AC420640>: Failed to resolve 'files.clear.ml' ([Errno 11001] getaddrinfo failed)\")': /\n"
     ]
    },
    {
     "name": "stdout",
     "output_type": "stream",
     "text": [
      "2024-06-17 17:30:20,732 - clearml.storage - ERROR - Exception encountered while uploading HTTPSConnectionPool(host='files.clear.ml', port=443): Max retries exceeded with url: / (Caused by NameResolutionError(\"<urllib3.connection.HTTPSConnection object at 0x000001A9AC4229B0>: Failed to resolve 'files.clear.ml' ([Errno 11001] getaddrinfo failed)\"))\n"
     ]
    },
    {
     "name": "stderr",
     "output_type": "stream",
     "text": [
      "Retrying (Retry(total=233, connect=233, read=240, redirect=240, status=240)) after connection broken by 'NameResolutionError(\"<urllib3.connection.HTTPSConnection object at 0x000001A99D213190>: Failed to resolve 'api.clear.ml' ([Errno 11001] getaddrinfo failed)\")': /v2.23/events.add_batch\n",
      "      49/60         0G     0.5479     0.5952     0.9447         45        640:  85%|████████▌ | 81/95 [17:49<03:14, 13.87s/it]Retrying (Retry(total=2, connect=2, read=5, redirect=5, status=None)) after connection broken by 'NameResolutionError(\"<urllib3.connection.HTTPSConnection object at 0x000001A99F555F30>: Failed to resolve 'files.clear.ml' ([Errno 11001] getaddrinfo failed)\")': /\n",
      "Retrying (Retry(total=1, connect=1, read=5, redirect=5, status=None)) after connection broken by 'NameResolutionError(\"<urllib3.connection.HTTPSConnection object at 0x000001A99F556860>: Failed to resolve 'files.clear.ml' ([Errno 11001] getaddrinfo failed)\")': /\n",
      "      49/60         0G      0.548     0.5954     0.9449         52        640:  86%|████████▋ | 82/95 [18:04<03:01, 13.94s/it]Retrying (Retry(total=0, connect=0, read=5, redirect=5, status=None)) after connection broken by 'NameResolutionError(\"<urllib3.connection.HTTPSConnection object at 0x000001A99FC91510>: Failed to resolve 'files.clear.ml' ([Errno 11001] getaddrinfo failed)\")': /\n",
      "Retrying (Retry(total=2, connect=2, read=5, redirect=5, status=None)) after connection broken by 'NameResolutionError(\"<urllib3.connection.HTTPSConnection object at 0x000001A99FC93E20>: Failed to resolve 'files.clear.ml' ([Errno 11001] getaddrinfo failed)\")': /\n",
      "Retrying (Retry(total=1, connect=1, read=5, redirect=5, status=None)) after connection broken by 'NameResolutionError(\"<urllib3.connection.HTTPSConnection object at 0x000001A99FC93B50>: Failed to resolve 'files.clear.ml' ([Errno 11001] getaddrinfo failed)\")': /\n",
      "      49/60         0G     0.5482     0.5955     0.9454         51        640:  87%|████████▋ | 83/95 [18:17<02:46, 13.91s/it]Retrying (Retry(total=0, connect=0, read=5, redirect=5, status=None)) after connection broken by 'NameResolutionError(\"<urllib3.connection.HTTPSConnection object at 0x000001A99FC933A0>: Failed to resolve 'files.clear.ml' ([Errno 11001] getaddrinfo failed)\")': /\n",
      "Retrying (Retry(total=2, connect=2, read=5, redirect=5, status=None)) after connection broken by 'NameResolutionError(\"<urllib3.connection.HTTPSConnection object at 0x000001A9AC420A90>: Failed to resolve 'files.clear.ml' ([Errno 11001] getaddrinfo failed)\")': /\n",
      "Retrying (Retry(total=1, connect=1, read=5, redirect=5, status=None)) after connection broken by 'NameResolutionError(\"<urllib3.connection.HTTPSConnection object at 0x000001A9AC423400>: Failed to resolve 'files.clear.ml' ([Errno 11001] getaddrinfo failed)\")': /\n",
      "      49/60         0G     0.5472     0.5934     0.9451         67        640:  88%|████████▊ | 84/95 [18:32<02:33, 13.98s/it]Retrying (Retry(total=0, connect=0, read=5, redirect=5, status=None)) after connection broken by 'NameResolutionError(\"<urllib3.connection.HTTPSConnection object at 0x000001A9980B1AB0>: Failed to resolve 'files.clear.ml' ([Errno 11001] getaddrinfo failed)\")': /\n"
     ]
    },
    {
     "name": "stdout",
     "output_type": "stream",
     "text": [
      "2024-06-17 17:31:35,990 - clearml.storage - ERROR - Exception encountered while uploading HTTPSConnectionPool(host='files.clear.ml', port=443): Max retries exceeded with url: / (Caused by NameResolutionError(\"<urllib3.connection.HTTPSConnection object at 0x000001A9980B2410>: Failed to resolve 'files.clear.ml' ([Errno 11001] getaddrinfo failed)\"))\n"
     ]
    },
    {
     "name": "stderr",
     "output_type": "stream",
     "text": [
      "      49/60         0G     0.5463     0.5915     0.9445         87        640:  91%|█████████ | 86/95 [18:59<02:05, 13.95s/it]Retrying (Retry(total=2, connect=2, read=5, redirect=5, status=None)) after connection broken by 'NameResolutionError(\"<urllib3.connection.HTTPSConnection object at 0x000001A99AFA0220>: Failed to resolve 'files.clear.ml' ([Errno 11001] getaddrinfo failed)\")': /\n",
      "      49/60         0G     0.5475     0.5912     0.9451         64        640:  92%|█████████▏| 87/95 [19:13<01:51, 13.94s/it]Retrying (Retry(total=1, connect=1, read=5, redirect=5, status=None)) after connection broken by 'NameResolutionError(\"<urllib3.connection.HTTPSConnection object at 0x000001A99AFA3310>: Failed to resolve 'files.clear.ml' ([Errno 11001] getaddrinfo failed)\")': /\n",
      "Retrying (Retry(total=232, connect=232, read=240, redirect=240, status=240)) after connection broken by 'NameResolutionError(\"<urllib3.connection.HTTPSConnection object at 0x000001A9AC4225F0>: Failed to resolve 'api.clear.ml' ([Errno 11001] getaddrinfo failed)\")': /v2.23/tasks.get_all\n",
      "Retrying (Retry(total=232, connect=232, read=240, redirect=240, status=240)) after connection broken by 'NameResolutionError(\"<urllib3.connection.HTTPSConnection object at 0x000001A9AC4218D0>: Failed to resolve 'api.clear.ml' ([Errno 11001] getaddrinfo failed)\")': /v2.23/tasks.get_all\n",
      "Retrying (Retry(total=232, connect=232, read=240, redirect=240, status=240)) after connection broken by 'NameResolutionError(\"<urllib3.connection.HTTPSConnection object at 0x000001A9AC420760>: Failed to resolve 'api.clear.ml' ([Errno 11001] getaddrinfo failed)\")': /v2.23/events.add_batch\n",
      "Retrying (Retry(total=0, connect=0, read=5, redirect=5, status=None)) after connection broken by 'NameResolutionError(\"<urllib3.connection.HTTPSConnection object at 0x000001A99AFA1BD0>: Failed to resolve 'files.clear.ml' ([Errno 11001] getaddrinfo failed)\")': /\n",
      "Retrying (Retry(total=2, connect=2, read=5, redirect=5, status=None)) after connection broken by 'NameResolutionError(\"<urllib3.connection.HTTPSConnection object at 0x000001A9A25080A0>: Failed to resolve 'files.clear.ml' ([Errno 11001] getaddrinfo failed)\")': /\n",
      "      49/60         0G     0.5479     0.5918     0.9456         50        640:  93%|█████████▎| 88/95 [19:27<01:37, 13.87s/it]Retrying (Retry(total=1, connect=1, read=5, redirect=5, status=None)) after connection broken by 'NameResolutionError(\"<urllib3.connection.HTTPSConnection object at 0x000001A9A25097B0>: Failed to resolve 'files.clear.ml' ([Errno 11001] getaddrinfo failed)\")': /\n",
      "Retrying (Retry(total=0, connect=0, read=5, redirect=5, status=None)) after connection broken by 'NameResolutionError(\"<urllib3.connection.HTTPSConnection object at 0x000001A9A2508580>: Failed to resolve 'files.clear.ml' ([Errno 11001] getaddrinfo failed)\")': /\n",
      "Retrying (Retry(total=2, connect=2, read=5, redirect=5, status=None)) after connection broken by 'NameResolutionError(\"<urllib3.connection.HTTPSConnection object at 0x000001A9A25081F0>: Failed to resolve 'files.clear.ml' ([Errno 11001] getaddrinfo failed)\")': /\n",
      "      49/60         0G      0.548     0.5914     0.9454         71        640:  94%|█████████▎| 89/95 [19:41<01:23, 13.92s/it]Retrying (Retry(total=1, connect=1, read=5, redirect=5, status=None)) after connection broken by 'NameResolutionError(\"<urllib3.connection.HTTPSConnection object at 0x000001A9A2509540>: Failed to resolve 'files.clear.ml' ([Errno 11001] getaddrinfo failed)\")': /\n",
      "Retrying (Retry(total=0, connect=0, read=5, redirect=5, status=None)) after connection broken by 'NameResolutionError(\"<urllib3.connection.HTTPSConnection object at 0x000001A9A250A350>: Failed to resolve 'files.clear.ml' ([Errno 11001] getaddrinfo failed)\")': /\n"
     ]
    },
    {
     "name": "stdout",
     "output_type": "stream",
     "text": [
      "2024-06-17 17:32:51,227 - clearml.storage - ERROR - Exception encountered while uploading HTTPSConnectionPool(host='files.clear.ml', port=443): Max retries exceeded with url: / (Caused by NameResolutionError(\"<urllib3.connection.HTTPSConnection object at 0x000001A9A250AB90>: Failed to resolve 'files.clear.ml' ([Errno 11001] getaddrinfo failed)\"))\n"
     ]
    },
    {
     "name": "stderr",
     "output_type": "stream",
     "text": [
      "      49/60         0G     0.5485     0.5897     0.9465        114        640:  97%|█████████▋| 92/95 [20:23<00:42, 14.06s/it]Retrying (Retry(total=2, connect=2, read=5, redirect=5, status=None)) after connection broken by 'NameResolutionError(\"<urllib3.connection.HTTPSConnection object at 0x000001A9A24FC760>: Failed to resolve 'files.clear.ml' ([Errno 11001] getaddrinfo failed)\")': /\n",
      "Retrying (Retry(total=1, connect=1, read=5, redirect=5, status=None)) after connection broken by 'NameResolutionError(\"<urllib3.connection.HTTPSConnection object at 0x000001A9A24FDFF0>: Failed to resolve 'files.clear.ml' ([Errno 11001] getaddrinfo failed)\")': /\n",
      "      49/60         0G     0.5495      0.589     0.9476         53        640:  98%|█████████▊| 93/95 [20:37<00:27, 13.99s/it]Retrying (Retry(total=0, connect=0, read=5, redirect=5, status=None)) after connection broken by 'NameResolutionError(\"<urllib3.connection.HTTPSConnection object at 0x000001A9A24FF8E0>: Failed to resolve 'files.clear.ml' ([Errno 11001] getaddrinfo failed)\")': /\n",
      "Retrying (Retry(total=2, connect=2, read=5, redirect=5, status=None)) after connection broken by 'NameResolutionError(\"<urllib3.connection.HTTPSConnection object at 0x000001A9A24FDE70>: Failed to resolve 'files.clear.ml' ([Errno 11001] getaddrinfo failed)\")': /\n",
      "Retrying (Retry(total=1, connect=1, read=5, redirect=5, status=None)) after connection broken by 'NameResolutionError(\"<urllib3.connection.HTTPSConnection object at 0x000001A9A24FF040>: Failed to resolve 'files.clear.ml' ([Errno 11001] getaddrinfo failed)\")': /\n",
      "      49/60         0G     0.5493     0.5878     0.9477         69        640:  99%|█████████▉| 94/95 [20:51<00:13, 13.98s/it]Retrying (Retry(total=0, connect=0, read=5, redirect=5, status=None)) after connection broken by 'NameResolutionError(\"<urllib3.connection.HTTPSConnection object at 0x000001A9A24FDA50>: Failed to resolve 'files.clear.ml' ([Errno 11001] getaddrinfo failed)\")': /\n",
      "Retrying (Retry(total=2, connect=2, read=5, redirect=5, status=None)) after connection broken by 'NameResolutionError(\"<urllib3.connection.HTTPSConnection object at 0x000001A99FC6E950>: Failed to resolve 'files.clear.ml' ([Errno 11001] getaddrinfo failed)\")': /\n",
      "Retrying (Retry(total=1, connect=1, read=5, redirect=5, status=None)) after connection broken by 'NameResolutionError(\"<urllib3.connection.HTTPSConnection object at 0x000001A99FC6DF00>: Failed to resolve 'files.clear.ml' ([Errno 11001] getaddrinfo failed)\")': /\n",
      "      49/60         0G     0.5511     0.5922     0.9479         49        640: 100%|██████████| 95/95 [21:01<00:00, 13.28s/it]\n",
      "                 Class     Images  Instances      Box(P          R      mAP50  mAP50-95):   0%|          | 0/2 [00:00<?, ?it/s]Retrying (Retry(total=0, connect=0, read=5, redirect=5, status=None)) after connection broken by 'NameResolutionError(\"<urllib3.connection.HTTPSConnection object at 0x000001A99FC6F0D0>: Failed to resolve 'files.clear.ml' ([Errno 11001] getaddrinfo failed)\")': /\n"
     ]
    },
    {
     "name": "stdout",
     "output_type": "stream",
     "text": [
      "2024-06-17 17:34:06,512 - clearml.storage - ERROR - Exception encountered while uploading HTTPSConnectionPool(host='files.clear.ml', port=443): Max retries exceeded with url: / (Caused by NameResolutionError(\"<urllib3.connection.HTTPSConnection object at 0x000001A9A2640820>: Failed to resolve 'files.clear.ml' ([Errno 11001] getaddrinfo failed)\"))\n"
     ]
    },
    {
     "name": "stderr",
     "output_type": "stream",
     "text": [
      "Retrying (Retry(total=237, connect=237, read=240, redirect=240, status=240)) after connection broken by 'NameResolutionError(\"<urllib3.connection.HTTPSConnection object at 0x000001A9A2642DA0>: Failed to resolve 'api.clear.ml' ([Errno 11001] getaddrinfo failed)\")': /v2.23/events.add_batch\n",
      "                 Class     Images  Instances      Box(P          R      mAP50  mAP50-95):  50%|█████     | 1/2 [00:12<00:12, 12.32s/it]Retrying (Retry(total=231, connect=231, read=240, redirect=240, status=240)) after connection broken by 'NameResolutionError(\"<urllib3.connection.HTTPSConnection object at 0x000001A99AFA1A50>: Failed to resolve 'api.clear.ml' ([Errno 11001] getaddrinfo failed)\")': /v2.23/tasks.get_all\n",
      "Retrying (Retry(total=236, connect=236, read=240, redirect=240, status=240)) after connection broken by 'NameResolutionError(\"<urllib3.connection.HTTPSConnection object at 0x000001A9A26437C0>: Failed to resolve 'api.clear.ml' ([Errno 11001] getaddrinfo failed)\")': /v2.23/events.add_batch\n",
      "Retrying (Retry(total=231, connect=231, read=240, redirect=240, status=240)) after connection broken by 'NameResolutionError(\"<urllib3.connection.HTTPSConnection object at 0x000001A9A250A500>: Failed to resolve 'api.clear.ml' ([Errno 11001] getaddrinfo failed)\")': /v2.23/tasks.get_all\n",
      "Retrying (Retry(total=231, connect=231, read=240, redirect=240, status=240)) after connection broken by 'NameResolutionError(\"<urllib3.connection.HTTPSConnection object at 0x000001A9A250BB80>: Failed to resolve 'api.clear.ml' ([Errno 11001] getaddrinfo failed)\")': /v2.23/events.add_batch\n",
      "                 Class     Images  Instances      Box(P          R      mAP50  mAP50-95): 100%|██████████| 2/2 [00:24<00:00, 12.27s/it]"
     ]
    },
    {
     "name": "stdout",
     "output_type": "stream",
     "text": [
      "                   all         63        147      0.722      0.703      0.675       0.41\n"
     ]
    },
    {
     "name": "stderr",
     "output_type": "stream",
     "text": [
      "\n"
     ]
    },
    {
     "name": "stdout",
     "output_type": "stream",
     "text": [
      "\n",
      "      Epoch    GPU_mem   box_loss   cls_loss   dfl_loss  Instances       Size\n"
     ]
    },
    {
     "name": "stderr",
     "output_type": "stream",
     "text": [
      "  0%|          | 0/95 [00:00<?, ?it/s]Retrying (Retry(total=235, connect=235, read=240, redirect=240, status=240)) after connection broken by 'NameResolutionError(\"<urllib3.connection.HTTPSConnection object at 0x000001A9A26410C0>: Failed to resolve 'api.clear.ml' ([Errno 11001] getaddrinfo failed)\")': /v2.23/events.add_batch\n",
      "      50/60         0G     0.5429     0.5502     0.9134         37        640:   1%|          | 1/95 [00:13<21:47, 13.91s/it]Retrying (Retry(total=2, connect=2, read=5, redirect=5, status=None)) after connection broken by 'NameResolutionError(\"<urllib3.connection.HTTPSConnection object at 0x000001A9A25081F0>: Failed to resolve 'files.clear.ml' ([Errno 11001] getaddrinfo failed)\")': /\n",
      "Retrying (Retry(total=1, connect=1, read=5, redirect=5, status=None)) after connection broken by 'NameResolutionError(\"<urllib3.connection.HTTPSConnection object at 0x000001A9A250BFD0>: Failed to resolve 'files.clear.ml' ([Errno 11001] getaddrinfo failed)\")': /\n",
      "Retrying (Retry(total=0, connect=0, read=5, redirect=5, status=None)) after connection broken by 'NameResolutionError(\"<urllib3.connection.HTTPSConnection object at 0x000001A9A250A3E0>: Failed to resolve 'files.clear.ml' ([Errno 11001] getaddrinfo failed)\")': /\n",
      "      50/60         0G     0.5907     0.5545     0.9446         55        640:   2%|▏         | 2/95 [00:27<21:19, 13.76s/it]Retrying (Retry(total=2, connect=2, read=5, redirect=5, status=None)) after connection broken by 'NameResolutionError(\"<urllib3.connection.HTTPSConnection object at 0x000001A9A2509B40>: Failed to resolve 'files.clear.ml' ([Errno 11001] getaddrinfo failed)\")': /\n",
      "Retrying (Retry(total=1, connect=1, read=5, redirect=5, status=None)) after connection broken by 'NameResolutionError(\"<urllib3.connection.HTTPSConnection object at 0x000001A9A2509660>: Failed to resolve 'files.clear.ml' ([Errno 11001] getaddrinfo failed)\")': /\n",
      "Retrying (Retry(total=234, connect=234, read=240, redirect=240, status=240)) after connection broken by 'NameResolutionError(\"<urllib3.connection.HTTPSConnection object at 0x000001A9A26FA6E0>: Failed to resolve 'api.clear.ml' ([Errno 11001] getaddrinfo failed)\")': /v2.23/events.add_batch\n",
      "      50/60         0G     0.5989     0.5918      0.956         97        640:   3%|▎         | 3/95 [00:41<21:23, 13.95s/it]Retrying (Retry(total=0, connect=0, read=5, redirect=5, status=None)) after connection broken by 'NameResolutionError(\"<urllib3.connection.HTTPSConnection object at 0x000001A9A2508E50>: Failed to resolve 'files.clear.ml' ([Errno 11001] getaddrinfo failed)\")': /\n",
      "Retrying (Retry(total=2, connect=2, read=5, redirect=5, status=None)) after connection broken by 'NameResolutionError(\"<urllib3.connection.HTTPSConnection object at 0x000001A9A250A2C0>: Failed to resolve 'files.clear.ml' ([Errno 11001] getaddrinfo failed)\")': /\n",
      "Retrying (Retry(total=1, connect=1, read=5, redirect=5, status=None)) after connection broken by 'NameResolutionError(\"<urllib3.connection.HTTPSConnection object at 0x000001A9A26F9ED0>: Failed to resolve 'files.clear.ml' ([Errno 11001] getaddrinfo failed)\")': /\n",
      "      50/60         0G     0.5911     0.5678     0.9538         64        640:   4%|▍         | 4/95 [00:55<21:17, 14.04s/it]Retrying (Retry(total=0, connect=0, read=5, redirect=5, status=None)) after connection broken by 'NameResolutionError(\"<urllib3.connection.HTTPSConnection object at 0x000001A9A26FA5C0>: Failed to resolve 'files.clear.ml' ([Errno 11001] getaddrinfo failed)\")': /\n"
     ]
    },
    {
     "name": "stdout",
     "output_type": "stream",
     "text": [
      "2024-06-17 17:35:21,813 - clearml.storage - ERROR - Exception encountered while uploading HTTPSConnectionPool(host='files.clear.ml', port=443): Max retries exceeded with url: / (Caused by NameResolutionError(\"<urllib3.connection.HTTPSConnection object at 0x000001A9A524FAF0>: Failed to resolve 'files.clear.ml' ([Errno 11001] getaddrinfo failed)\"))\n"
     ]
    },
    {
     "name": "stderr",
     "output_type": "stream",
     "text": [
      "      50/60         0G     0.5819     0.6094     0.9428         81        640:   6%|▋         | 6/95 [01:24<20:58, 14.15s/it]Retrying (Retry(total=2, connect=2, read=5, redirect=5, status=None)) after connection broken by 'NameResolutionError(\"<urllib3.connection.HTTPSConnection object at 0x000001A9A52F1F90>: Failed to resolve 'files.clear.ml' ([Errno 11001] getaddrinfo failed)\")': /\n",
      "Retrying (Retry(total=1, connect=1, read=5, redirect=5, status=None)) after connection broken by 'NameResolutionError(\"<urllib3.connection.HTTPSConnection object at 0x000001A9A52F05B0>: Failed to resolve 'files.clear.ml' ([Errno 11001] getaddrinfo failed)\")': /\n",
      "      50/60         0G     0.5863     0.6024     0.9473         69        640:   7%|▋         | 7/95 [01:38<20:45, 14.15s/it]Retrying (Retry(total=0, connect=0, read=5, redirect=5, status=None)) after connection broken by 'NameResolutionError(\"<urllib3.connection.HTTPSConnection object at 0x000001A9A52F3FA0>: Failed to resolve 'files.clear.ml' ([Errno 11001] getaddrinfo failed)\")': /\n",
      "Retrying (Retry(total=233, connect=233, read=240, redirect=240, status=240)) after connection broken by 'NameResolutionError(\"<urllib3.connection.HTTPSConnection object at 0x000001A9A250A560>: Failed to resolve 'api.clear.ml' ([Errno 11001] getaddrinfo failed)\")': /v2.23/events.add_batch\n",
      "Retrying (Retry(total=2, connect=2, read=5, redirect=5, status=None)) after connection broken by 'NameResolutionError(\"<urllib3.connection.HTTPSConnection object at 0x000001A9A524EB00>: Failed to resolve 'files.clear.ml' ([Errno 11001] getaddrinfo failed)\")': /\n",
      "Retrying (Retry(total=1, connect=1, read=5, redirect=5, status=None)) after connection broken by 'NameResolutionError(\"<urllib3.connection.HTTPSConnection object at 0x000001A9A524F700>: Failed to resolve 'files.clear.ml' ([Errno 11001] getaddrinfo failed)\")': /\n",
      "Retrying (Retry(total=230, connect=230, read=240, redirect=240, status=240)) after connection broken by 'NameResolutionError(\"<urllib3.connection.HTTPSConnection object at 0x000001A9A2640CA0>: Failed to resolve 'api.clear.ml' ([Errno 11001] getaddrinfo failed)\")': /v2.23/tasks.get_all\n",
      "      50/60         0G       0.59        0.6     0.9493         96        640:   8%|▊         | 8/95 [01:52<20:36, 14.21s/it]Retrying (Retry(total=230, connect=230, read=240, redirect=240, status=240)) after connection broken by 'NameResolutionError(\"<urllib3.connection.HTTPSConnection object at 0x000001A9A2640910>: Failed to resolve 'api.clear.ml' ([Errno 11001] getaddrinfo failed)\")': /v2.23/tasks.get_all\n",
      "Retrying (Retry(total=230, connect=230, read=240, redirect=240, status=240)) after connection broken by 'NameResolutionError(\"<urllib3.connection.HTTPSConnection object at 0x000001A9A2642D70>: Failed to resolve 'api.clear.ml' ([Errno 11001] getaddrinfo failed)\")': /v2.23/events.add_batch\n",
      "Retrying (Retry(total=0, connect=0, read=5, redirect=5, status=None)) after connection broken by 'NameResolutionError(\"<urllib3.connection.HTTPSConnection object at 0x000001A9A524EC20>: Failed to resolve 'files.clear.ml' ([Errno 11001] getaddrinfo failed)\")': /\n",
      "Retrying (Retry(total=2, connect=2, read=5, redirect=5, status=None)) after connection broken by 'NameResolutionError(\"<urllib3.connection.HTTPSConnection object at 0x000001A99FF439D0>: Failed to resolve 'files.clear.ml' ([Errno 11001] getaddrinfo failed)\")': /\n",
      "Retrying (Retry(total=1, connect=1, read=5, redirect=5, status=None)) after connection broken by 'NameResolutionError(\"<urllib3.connection.HTTPSConnection object at 0x000001A99FF42950>: Failed to resolve 'files.clear.ml' ([Errno 11001] getaddrinfo failed)\")': /\n",
      "      50/60         0G     0.5865     0.5874     0.9478         67        640:   9%|▉         | 9/95 [02:06<20:14, 14.13s/it]Retrying (Retry(total=0, connect=0, read=5, redirect=5, status=None)) after connection broken by 'NameResolutionError(\"<urllib3.connection.HTTPSConnection object at 0x000001A99D386920>: Failed to resolve 'files.clear.ml' ([Errno 11001] getaddrinfo failed)\")': /\n"
     ]
    },
    {
     "name": "stdout",
     "output_type": "stream",
     "text": [
      "2024-06-17 17:36:37,090 - clearml.storage - ERROR - Exception encountered while uploading HTTPSConnectionPool(host='files.clear.ml', port=443): Max retries exceeded with url: / (Caused by NameResolutionError(\"<urllib3.connection.HTTPSConnection object at 0x000001A99D386620>: Failed to resolve 'files.clear.ml' ([Errno 11001] getaddrinfo failed)\"))\n"
     ]
    },
    {
     "name": "stderr",
     "output_type": "stream",
     "text": [
      "      50/60         0G      0.581     0.5702     0.9483         63        640:  12%|█▏        | 11/95 [02:34<19:43, 14.08s/it]Retrying (Retry(total=2, connect=2, read=5, redirect=5, status=None)) after connection broken by 'NameResolutionError(\"<urllib3.connection.HTTPSConnection object at 0x000001A9A739D9C0>: Failed to resolve 'files.clear.ml' ([Errno 11001] getaddrinfo failed)\")': /\n",
      "      50/60         0G     0.5762     0.5637      0.946         80        640:  13%|█▎        | 12/95 [02:48<19:27, 14.06s/it]Retrying (Retry(total=1, connect=1, read=5, redirect=5, status=None)) after connection broken by 'NameResolutionError(\"<urllib3.connection.HTTPSConnection object at 0x000001A9A739EFB0>: Failed to resolve 'files.clear.ml' ([Errno 11001] getaddrinfo failed)\")': /\n",
      "Retrying (Retry(total=0, connect=0, read=5, redirect=5, status=None)) after connection broken by 'NameResolutionError(\"<urllib3.connection.HTTPSConnection object at 0x000001A9A739E1A0>: Failed to resolve 'files.clear.ml' ([Errno 11001] getaddrinfo failed)\")': /\n",
      "Retrying (Retry(total=2, connect=2, read=5, redirect=5, status=None)) after connection broken by 'NameResolutionError(\"<urllib3.connection.HTTPSConnection object at 0x000001A9A739F190>: Failed to resolve 'files.clear.ml' ([Errno 11001] getaddrinfo failed)\")': /\n",
      "      50/60         0G     0.5711     0.5621     0.9453         53        640:  14%|█▎        | 13/95 [03:02<19:14, 14.07s/it]Retrying (Retry(total=1, connect=1, read=5, redirect=5, status=None)) after connection broken by 'NameResolutionError(\"<urllib3.connection.HTTPSConnection object at 0x000001A996DEBA60>: Failed to resolve 'files.clear.ml' ([Errno 11001] getaddrinfo failed)\")': /\n",
      "Retrying (Retry(total=0, connect=0, read=5, redirect=5, status=None)) after connection broken by 'NameResolutionError(\"<urllib3.connection.HTTPSConnection object at 0x000001A9A84178E0>: Failed to resolve 'files.clear.ml' ([Errno 11001] getaddrinfo failed)\")': /\n",
      "Retrying (Retry(total=2, connect=2, read=5, redirect=5, status=None)) after connection broken by 'NameResolutionError(\"<urllib3.connection.HTTPSConnection object at 0x000001A9A84176A0>: Failed to resolve 'files.clear.ml' ([Errno 11001] getaddrinfo failed)\")': /\n",
      "      50/60         0G     0.5676       0.56     0.9434         70        640:  15%|█▍        | 14/95 [03:16<18:52, 13.98s/it]Retrying (Retry(total=1, connect=1, read=5, redirect=5, status=None)) after connection broken by 'NameResolutionError(\"<urllib3.connection.HTTPSConnection object at 0x000001A9A8417160>: Failed to resolve 'files.clear.ml' ([Errno 11001] getaddrinfo failed)\")': /\n",
      "Retrying (Retry(total=0, connect=0, read=5, redirect=5, status=None)) after connection broken by 'NameResolutionError(\"<urllib3.connection.HTTPSConnection object at 0x000001A9A8415AE0>: Failed to resolve 'files.clear.ml' ([Errno 11001] getaddrinfo failed)\")': /\n"
     ]
    },
    {
     "name": "stdout",
     "output_type": "stream",
     "text": [
      "2024-06-17 17:37:52,358 - clearml.storage - ERROR - Exception encountered while uploading HTTPSConnectionPool(host='files.clear.ml', port=443): Max retries exceeded with url: / (Caused by NameResolutionError(\"<urllib3.connection.HTTPSConnection object at 0x000001A9A84166E0>: Failed to resolve 'files.clear.ml' ([Errno 11001] getaddrinfo failed)\"))\n"
     ]
    },
    {
     "name": "stderr",
     "output_type": "stream",
     "text": [
      "      50/60         0G      0.561     0.5501     0.9412         90        640:  17%|█▋        | 16/95 [03:44<18:29, 14.05s/it]Retrying (Retry(total=232, connect=232, read=240, redirect=240, status=240)) after connection broken by 'NameResolutionError(\"<urllib3.connection.HTTPSConnection object at 0x000001A9A524E740>: Failed to resolve 'api.clear.ml' ([Errno 11001] getaddrinfo failed)\")': /v2.23/events.add_batch\n",
      "Retrying (Retry(total=229, connect=229, read=240, redirect=240, status=240)) after connection broken by 'NameResolutionError(\"<urllib3.connection.HTTPSConnection object at 0x000001A9A524DE10>: Failed to resolve 'api.clear.ml' ([Errno 11001] getaddrinfo failed)\")': /v2.23/tasks.get_all\n",
      "Retrying (Retry(total=229, connect=229, read=240, redirect=240, status=240)) after connection broken by 'NameResolutionError(\"<urllib3.connection.HTTPSConnection object at 0x000001A9A524E770>: Failed to resolve 'api.clear.ml' ([Errno 11001] getaddrinfo failed)\")': /v2.23/tasks.get_all\n",
      "Retrying (Retry(total=229, connect=229, read=240, redirect=240, status=240)) after connection broken by 'NameResolutionError(\"<urllib3.connection.HTTPSConnection object at 0x000001A9A524D3F0>: Failed to resolve 'api.clear.ml' ([Errno 11001] getaddrinfo failed)\")': /v2.23/events.add_batch\n",
      "      50/60         0G     0.5572     0.5514     0.9408         74        640:  18%|█▊        | 17/95 [03:58<18:17, 14.07s/it]Retrying (Retry(total=2, connect=2, read=5, redirect=5, status=None)) after connection broken by 'NameResolutionError(\"<urllib3.connection.HTTPSConnection object at 0x000001A99AFA1990>: Failed to resolve 'files.clear.ml' ([Errno 11001] getaddrinfo failed)\")': /\n",
      "Retrying (Retry(total=1, connect=1, read=5, redirect=5, status=None)) after connection broken by 'NameResolutionError(\"<urllib3.connection.HTTPSConnection object at 0x000001A99AFA2110>: Failed to resolve 'files.clear.ml' ([Errno 11001] getaddrinfo failed)\")': /\n",
      "Retrying (Retry(total=0, connect=0, read=5, redirect=5, status=None)) after connection broken by 'NameResolutionError(\"<urllib3.connection.HTTPSConnection object at 0x000001A99AFA2560>: Failed to resolve 'files.clear.ml' ([Errno 11001] getaddrinfo failed)\")': /\n",
      "      50/60         0G       0.56     0.5584     0.9452         53        640:  19%|█▉        | 18/95 [04:13<18:04, 14.09s/it]Retrying (Retry(total=2, connect=2, read=5, redirect=5, status=None)) after connection broken by 'NameResolutionError(\"<urllib3.connection.HTTPSConnection object at 0x000001A99AFA01C0>: Failed to resolve 'files.clear.ml' ([Errno 11001] getaddrinfo failed)\")': /\n",
      "Retrying (Retry(total=1, connect=1, read=5, redirect=5, status=None)) after connection broken by 'NameResolutionError(\"<urllib3.connection.HTTPSConnection object at 0x000001A99AFA32B0>: Failed to resolve 'files.clear.ml' ([Errno 11001] getaddrinfo failed)\")': /\n",
      "      50/60         0G     0.5599     0.5613     0.9474         52        640:  20%|██        | 19/95 [04:26<17:46, 14.04s/it]Retrying (Retry(total=0, connect=0, read=5, redirect=5, status=None)) after connection broken by 'NameResolutionError(\"<urllib3.connection.HTTPSConnection object at 0x000001A9A0CED480>: Failed to resolve 'files.clear.ml' ([Errno 11001] getaddrinfo failed)\")': /\n",
      "Retrying (Retry(total=2, connect=2, read=5, redirect=5, status=None)) after connection broken by 'NameResolutionError(\"<urllib3.connection.HTTPSConnection object at 0x000001A99FF028F0>: Failed to resolve 'files.clear.ml' ([Errno 11001] getaddrinfo failed)\")': /\n",
      "Retrying (Retry(total=1, connect=1, read=5, redirect=5, status=None)) after connection broken by 'NameResolutionError(\"<urllib3.connection.HTTPSConnection object at 0x000001A99FF01480>: Failed to resolve 'files.clear.ml' ([Errno 11001] getaddrinfo failed)\")': /\n",
      "      50/60         0G     0.5558     0.5617     0.9459         45        640:  21%|██        | 20/95 [04:40<17:31, 14.02s/it]Retrying (Retry(total=0, connect=0, read=5, redirect=5, status=None)) after connection broken by 'NameResolutionError(\"<urllib3.connection.HTTPSConnection object at 0x000001A99FF02860>: Failed to resolve 'files.clear.ml' ([Errno 11001] getaddrinfo failed)\")': /\n"
     ]
    },
    {
     "name": "stdout",
     "output_type": "stream",
     "text": [
      "2024-06-17 17:39:07,595 - clearml.storage - ERROR - Exception encountered while uploading HTTPSConnectionPool(host='files.clear.ml', port=443): Max retries exceeded with url: / (Caused by NameResolutionError(\"<urllib3.connection.HTTPSConnection object at 0x000001A99FF02500>: Failed to resolve 'files.clear.ml' ([Errno 11001] getaddrinfo failed)\"))\n"
     ]
    },
    {
     "name": "stderr",
     "output_type": "stream",
     "text": [
      "      50/60         0G     0.5529     0.5666     0.9434         79        640:  23%|██▎       | 22/95 [05:08<16:53, 13.89s/it]Retrying (Retry(total=2, connect=2, read=5, redirect=5, status=None)) after connection broken by 'NameResolutionError(\"<urllib3.connection.HTTPSConnection object at 0x000001A9A83870A0>: Failed to resolve 'files.clear.ml' ([Errno 11001] getaddrinfo failed)\")': /\n",
      "Retrying (Retry(total=1, connect=1, read=5, redirect=5, status=None)) after connection broken by 'NameResolutionError(\"<urllib3.connection.HTTPSConnection object at 0x000001A9A8385900>: Failed to resolve 'files.clear.ml' ([Errno 11001] getaddrinfo failed)\")': /\n",
      "      50/60         0G     0.5509     0.5624      0.942         73        640:  24%|██▍       | 23/95 [05:22<16:49, 14.02s/it]Retrying (Retry(total=0, connect=0, read=5, redirect=5, status=None)) after connection broken by 'NameResolutionError(\"<urllib3.connection.HTTPSConnection object at 0x000001A9A8384640>: Failed to resolve 'files.clear.ml' ([Errno 11001] getaddrinfo failed)\")': /\n",
      "Retrying (Retry(total=2, connect=2, read=5, redirect=5, status=None)) after connection broken by 'NameResolutionError(\"<urllib3.connection.HTTPSConnection object at 0x000001A9A8385F90>: Failed to resolve 'files.clear.ml' ([Errno 11001] getaddrinfo failed)\")': /\n",
      "Retrying (Retry(total=1, connect=1, read=5, redirect=5, status=None)) after connection broken by 'NameResolutionError(\"<urllib3.connection.HTTPSConnection object at 0x000001A9A8386200>: Failed to resolve 'files.clear.ml' ([Errno 11001] getaddrinfo failed)\")': /\n",
      "      50/60         0G     0.5468     0.5574     0.9416         52        640:  25%|██▌       | 24/95 [05:36<16:31, 13.97s/it]Retrying (Retry(total=0, connect=0, read=5, redirect=5, status=None)) after connection broken by 'NameResolutionError(\"<urllib3.connection.HTTPSConnection object at 0x000001A9A8386080>: Failed to resolve 'files.clear.ml' ([Errno 11001] getaddrinfo failed)\")': /\n",
      "Retrying (Retry(total=231, connect=231, read=240, redirect=240, status=240)) after connection broken by 'NameResolutionError(\"<urllib3.connection.HTTPSConnection object at 0x000001A9965FB100>: Failed to resolve 'api.clear.ml' ([Errno 11001] getaddrinfo failed)\")': /v2.23/events.add_batch\n",
      "Retrying (Retry(total=2, connect=2, read=5, redirect=5, status=None)) after connection broken by 'NameResolutionError(\"<urllib3.connection.HTTPSConnection object at 0x000001A9A8384EB0>: Failed to resolve 'files.clear.ml' ([Errno 11001] getaddrinfo failed)\")': /\n",
      "Retrying (Retry(total=1, connect=1, read=5, redirect=5, status=None)) after connection broken by 'NameResolutionError(\"<urllib3.connection.HTTPSConnection object at 0x000001A9A953F310>: Failed to resolve 'files.clear.ml' ([Errno 11001] getaddrinfo failed)\")': /\n",
      "      50/60         0G     0.5455     0.5576     0.9391         68        640:  26%|██▋       | 25/95 [05:50<16:23, 14.04s/it]Retrying (Retry(total=228, connect=228, read=240, redirect=240, status=240)) after connection broken by 'NameResolutionError(\"<urllib3.connection.HTTPSConnection object at 0x000001A9965FB910>: Failed to resolve 'api.clear.ml' ([Errno 11001] getaddrinfo failed)\")': /v2.23/tasks.get_all\n",
      "Retrying (Retry(total=228, connect=228, read=240, redirect=240, status=240)) after connection broken by 'NameResolutionError(\"<urllib3.connection.HTTPSConnection object at 0x000001A9965FAB90>: Failed to resolve 'api.clear.ml' ([Errno 11001] getaddrinfo failed)\")': /v2.23/tasks.get_all\n",
      "Retrying (Retry(total=228, connect=228, read=240, redirect=240, status=240)) after connection broken by 'NameResolutionError(\"<urllib3.connection.HTTPSConnection object at 0x000001A9A0CEDB40>: Failed to resolve 'api.clear.ml' ([Errno 11001] getaddrinfo failed)\")': /v2.23/events.add_batch\n",
      "Retrying (Retry(total=0, connect=0, read=5, redirect=5, status=None)) after connection broken by 'NameResolutionError(\"<urllib3.connection.HTTPSConnection object at 0x000001A9A953F130>: Failed to resolve 'files.clear.ml' ([Errno 11001] getaddrinfo failed)\")': /\n"
     ]
    },
    {
     "name": "stdout",
     "output_type": "stream",
     "text": [
      "2024-06-17 17:40:22,848 - clearml.storage - ERROR - Exception encountered while uploading HTTPSConnectionPool(host='files.clear.ml', port=443): Max retries exceeded with url: / (Caused by NameResolutionError(\"<urllib3.connection.HTTPSConnection object at 0x000001A99F5C1750>: Failed to resolve 'files.clear.ml' ([Errno 11001] getaddrinfo failed)\"))\n"
     ]
    },
    {
     "name": "stderr",
     "output_type": "stream",
     "text": [
      "      50/60         0G     0.5494     0.5589     0.9423         45        640:  28%|██▊       | 27/95 [06:18<15:48, 13.95s/it]Retrying (Retry(total=2, connect=2, read=5, redirect=5, status=None)) after connection broken by 'NameResolutionError(\"<urllib3.connection.HTTPSConnection object at 0x000001A99F5C0400>: Failed to resolve 'files.clear.ml' ([Errno 11001] getaddrinfo failed)\")': /\n",
      "      50/60         0G     0.5509     0.5597     0.9424         48        640:  29%|██▉       | 28/95 [06:32<15:38, 14.01s/it]Retrying (Retry(total=1, connect=1, read=5, redirect=5, status=None)) after connection broken by 'NameResolutionError(\"<urllib3.connection.HTTPSConnection object at 0x000001A99F5C11B0>: Failed to resolve 'files.clear.ml' ([Errno 11001] getaddrinfo failed)\")': /\n",
      "Retrying (Retry(total=0, connect=0, read=5, redirect=5, status=None)) after connection broken by 'NameResolutionError(\"<urllib3.connection.HTTPSConnection object at 0x000001A99F5C0160>: Failed to resolve 'files.clear.ml' ([Errno 11001] getaddrinfo failed)\")': /\n",
      "Retrying (Retry(total=2, connect=2, read=5, redirect=5, status=None)) after connection broken by 'NameResolutionError(\"<urllib3.connection.HTTPSConnection object at 0x000001A99FD42AD0>: Failed to resolve 'files.clear.ml' ([Errno 11001] getaddrinfo failed)\")': /\n",
      "      50/60         0G     0.5505     0.5564     0.9428        113        640:  31%|███       | 29/95 [06:47<15:37, 14.20s/it]Retrying (Retry(total=1, connect=1, read=5, redirect=5, status=None)) after connection broken by 'NameResolutionError(\"<urllib3.connection.HTTPSConnection object at 0x000001A99FD42980>: Failed to resolve 'files.clear.ml' ([Errno 11001] getaddrinfo failed)\")': /\n",
      "Retrying (Retry(total=0, connect=0, read=5, redirect=5, status=None)) after connection broken by 'NameResolutionError(\"<urllib3.connection.HTTPSConnection object at 0x000001A99FD41FF0>: Failed to resolve 'files.clear.ml' ([Errno 11001] getaddrinfo failed)\")': /\n",
      "Retrying (Retry(total=2, connect=2, read=5, redirect=5, status=None)) after connection broken by 'NameResolutionError(\"<urllib3.connection.HTTPSConnection object at 0x000001A99FD431F0>: Failed to resolve 'files.clear.ml' ([Errno 11001] getaddrinfo failed)\")': /\n",
      "      50/60         0G     0.5497     0.5523     0.9426         88        640:  32%|███▏      | 30/95 [07:01<15:24, 14.22s/it]Retrying (Retry(total=1, connect=1, read=5, redirect=5, status=None)) after connection broken by 'NameResolutionError(\"<urllib3.connection.HTTPSConnection object at 0x000001A99FD40CD0>: Failed to resolve 'files.clear.ml' ([Errno 11001] getaddrinfo failed)\")': /\n",
      "Retrying (Retry(total=0, connect=0, read=5, redirect=5, status=None)) after connection broken by 'NameResolutionError(\"<urllib3.connection.HTTPSConnection object at 0x000001A99FD42C50>: Failed to resolve 'files.clear.ml' ([Errno 11001] getaddrinfo failed)\")': /\n"
     ]
    },
    {
     "name": "stdout",
     "output_type": "stream",
     "text": [
      "2024-06-17 17:41:38,108 - clearml.storage - ERROR - Exception encountered while uploading HTTPSConnectionPool(host='files.clear.ml', port=443): Max retries exceeded with url: / (Caused by NameResolutionError(\"<urllib3.connection.HTTPSConnection object at 0x000001A99FD430A0>: Failed to resolve 'files.clear.ml' ([Errno 11001] getaddrinfo failed)\"))\n"
     ]
    },
    {
     "name": "stderr",
     "output_type": "stream",
     "text": [
      "      50/60         0G     0.5472     0.5476     0.9434         54        640:  35%|███▍      | 33/95 [07:44<14:36, 14.13s/it]Retrying (Retry(total=230, connect=230, read=240, redirect=240, status=240)) after connection broken by 'NameResolutionError(\"<urllib3.connection.HTTPSConnection object at 0x000001A9A953F490>: Failed to resolve 'api.clear.ml' ([Errno 11001] getaddrinfo failed)\")': /v2.23/events.add_batch\n",
      "Retrying (Retry(total=2, connect=2, read=5, redirect=5, status=None)) after connection broken by 'NameResolutionError(\"<urllib3.connection.HTTPSConnection object at 0x000001A9A9482650>: Failed to resolve 'files.clear.ml' ([Errno 11001] getaddrinfo failed)\")': /\n",
      "Retrying (Retry(total=1, connect=1, read=5, redirect=5, status=None)) after connection broken by 'NameResolutionError(\"<urllib3.connection.HTTPSConnection object at 0x000001A9A94818D0>: Failed to resolve 'files.clear.ml' ([Errno 11001] getaddrinfo failed)\")': /\n",
      "Retrying (Retry(total=227, connect=227, read=240, redirect=240, status=240)) after connection broken by 'NameResolutionError(\"<urllib3.connection.HTTPSConnection object at 0x000001A9A953D090>: Failed to resolve 'api.clear.ml' ([Errno 11001] getaddrinfo failed)\")': /v2.23/tasks.get_all\n",
      "Retrying (Retry(total=227, connect=227, read=240, redirect=240, status=240)) after connection broken by 'NameResolutionError(\"<urllib3.connection.HTTPSConnection object at 0x000001A9A953CFD0>: Failed to resolve 'api.clear.ml' ([Errno 11001] getaddrinfo failed)\")': /v2.23/tasks.get_all\n",
      "Retrying (Retry(total=227, connect=227, read=240, redirect=240, status=240)) after connection broken by 'NameResolutionError(\"<urllib3.connection.HTTPSConnection object at 0x000001A99F5C35B0>: Failed to resolve 'api.clear.ml' ([Errno 11001] getaddrinfo failed)\")': /v2.23/events.add_batch\n",
      "      50/60         0G     0.5452     0.5473     0.9422         58        640:  36%|███▌      | 34/95 [07:58<14:21, 14.13s/it]Retrying (Retry(total=0, connect=0, read=5, redirect=5, status=None)) after connection broken by 'NameResolutionError(\"<urllib3.connection.HTTPSConnection object at 0x000001A9A94816C0>: Failed to resolve 'files.clear.ml' ([Errno 11001] getaddrinfo failed)\")': /\n",
      "Retrying (Retry(total=2, connect=2, read=5, redirect=5, status=None)) after connection broken by 'NameResolutionError(\"<urllib3.connection.HTTPSConnection object at 0x000001A9A9481780>: Failed to resolve 'files.clear.ml' ([Errno 11001] getaddrinfo failed)\")': /\n",
      "Retrying (Retry(total=1, connect=1, read=5, redirect=5, status=None)) after connection broken by 'NameResolutionError(\"<urllib3.connection.HTTPSConnection object at 0x000001A9A94834C0>: Failed to resolve 'files.clear.ml' ([Errno 11001] getaddrinfo failed)\")': /\n",
      "      50/60         0G     0.5462     0.5448     0.9416         57        640:  37%|███▋      | 35/95 [08:12<14:11, 14.18s/it]Retrying (Retry(total=0, connect=0, read=5, redirect=5, status=None)) after connection broken by 'NameResolutionError(\"<urllib3.connection.HTTPSConnection object at 0x000001A9A9483040>: Failed to resolve 'files.clear.ml' ([Errno 11001] getaddrinfo failed)\")': /\n",
      "Retrying (Retry(total=2, connect=2, read=5, redirect=5, status=None)) after connection broken by 'NameResolutionError(\"<urllib3.connection.HTTPSConnection object at 0x000001A9A9481E40>: Failed to resolve 'files.clear.ml' ([Errno 11001] getaddrinfo failed)\")': /\n",
      "Retrying (Retry(total=1, connect=1, read=5, redirect=5, status=None)) after connection broken by 'NameResolutionError(\"<urllib3.connection.HTTPSConnection object at 0x000001A9A94830A0>: Failed to resolve 'files.clear.ml' ([Errno 11001] getaddrinfo failed)\")': /\n",
      "      50/60         0G     0.5466     0.5466     0.9424         51        640:  38%|███▊      | 36/95 [08:26<13:52, 14.10s/it]Retrying (Retry(total=0, connect=0, read=5, redirect=5, status=None)) after connection broken by 'NameResolutionError(\"<urllib3.connection.HTTPSConnection object at 0x000001A996F48820>: Failed to resolve 'files.clear.ml' ([Errno 11001] getaddrinfo failed)\")': /\n"
     ]
    },
    {
     "name": "stdout",
     "output_type": "stream",
     "text": [
      "2024-06-17 17:42:53,382 - clearml.storage - ERROR - Exception encountered while uploading HTTPSConnectionPool(host='files.clear.ml', port=443): Max retries exceeded with url: / (Caused by NameResolutionError(\"<urllib3.connection.HTTPSConnection object at 0x000001A9AC4C66E0>: Failed to resolve 'files.clear.ml' ([Errno 11001] getaddrinfo failed)\"))\n"
     ]
    },
    {
     "name": "stderr",
     "output_type": "stream",
     "text": [
      "      50/60         0G     0.5532     0.5507     0.9483         63        640:  40%|████      | 38/95 [08:54<13:23, 14.09s/it]Retrying (Retry(total=2, connect=2, read=5, redirect=5, status=None)) after connection broken by 'NameResolutionError(\"<urllib3.connection.HTTPSConnection object at 0x000001A9A24FDED0>: Failed to resolve 'files.clear.ml' ([Errno 11001] getaddrinfo failed)\")': /\n",
      "Retrying (Retry(total=1, connect=1, read=5, redirect=5, status=None)) after connection broken by 'NameResolutionError(\"<urllib3.connection.HTTPSConnection object at 0x000001A9A24FDAE0>: Failed to resolve 'files.clear.ml' ([Errno 11001] getaddrinfo failed)\")': /\n",
      "      50/60         0G     0.5533     0.5494       0.95         57        640:  41%|████      | 39/95 [09:08<13:01, 13.95s/it]Retrying (Retry(total=0, connect=0, read=5, redirect=5, status=None)) after connection broken by 'NameResolutionError(\"<urllib3.connection.HTTPSConnection object at 0x000001A9A24FF0A0>: Failed to resolve 'files.clear.ml' ([Errno 11001] getaddrinfo failed)\")': /\n",
      "Retrying (Retry(total=2, connect=2, read=5, redirect=5, status=None)) after connection broken by 'NameResolutionError(\"<urllib3.connection.HTTPSConnection object at 0x000001A9A24FC220>: Failed to resolve 'files.clear.ml' ([Errno 11001] getaddrinfo failed)\")': /\n",
      "Retrying (Retry(total=1, connect=1, read=5, redirect=5, status=None)) after connection broken by 'NameResolutionError(\"<urllib3.connection.HTTPSConnection object at 0x000001A9A24FEE30>: Failed to resolve 'files.clear.ml' ([Errno 11001] getaddrinfo failed)\")': /\n",
      "      50/60         0G     0.5526     0.5472     0.9501         83        640:  42%|████▏     | 40/95 [09:22<12:51, 14.03s/it]Retrying (Retry(total=0, connect=0, read=5, redirect=5, status=None)) after connection broken by 'NameResolutionError(\"<urllib3.connection.HTTPSConnection object at 0x000001A9A24FEFB0>: Failed to resolve 'files.clear.ml' ([Errno 11001] getaddrinfo failed)\")': /\n",
      "Retrying (Retry(total=2, connect=2, read=5, redirect=5, status=None)) after connection broken by 'NameResolutionError(\"<urllib3.connection.HTTPSConnection object at 0x000001A99D1EADA0>: Failed to resolve 'files.clear.ml' ([Errno 11001] getaddrinfo failed)\")': /\n",
      "Retrying (Retry(total=1, connect=1, read=5, redirect=5, status=None)) after connection broken by 'NameResolutionError(\"<urllib3.connection.HTTPSConnection object at 0x000001A99D1EBEB0>: Failed to resolve 'files.clear.ml' ([Errno 11001] getaddrinfo failed)\")': /\n",
      "      50/60         0G     0.5545     0.5492     0.9509         43        640:  43%|████▎     | 41/95 [09:36<12:38, 14.04s/it]Retrying (Retry(total=0, connect=0, read=5, redirect=5, status=None)) after connection broken by 'NameResolutionError(\"<urllib3.connection.HTTPSConnection object at 0x000001A99D1E8460>: Failed to resolve 'files.clear.ml' ([Errno 11001] getaddrinfo failed)\")': /\n"
     ]
    },
    {
     "name": "stdout",
     "output_type": "stream",
     "text": [
      "2024-06-17 17:44:08,627 - clearml.storage - ERROR - Exception encountered while uploading HTTPSConnectionPool(host='files.clear.ml', port=443): Max retries exceeded with url: / (Caused by NameResolutionError(\"<urllib3.connection.HTTPSConnection object at 0x000001A99D1E9000>: Failed to resolve 'files.clear.ml' ([Errno 11001] getaddrinfo failed)\"))\n"
     ]
    },
    {
     "name": "stderr",
     "output_type": "stream",
     "text": [
      "Retrying (Retry(total=229, connect=229, read=240, redirect=240, status=240)) after connection broken by 'NameResolutionError(\"<urllib3.connection.HTTPSConnection object at 0x000001A9A9481030>: Failed to resolve 'api.clear.ml' ([Errno 11001] getaddrinfo failed)\")': /v2.23/events.add_batch\n",
      "      50/60         0G     0.5526     0.5539     0.9491         54        640:  44%|████▍     | 42/95 [09:50<12:22, 14.01s/it]Retrying (Retry(total=226, connect=226, read=240, redirect=240, status=240)) after connection broken by 'NameResolutionError(\"<urllib3.connection.HTTPSConnection object at 0x000001A9A94828C0>: Failed to resolve 'api.clear.ml' ([Errno 11001] getaddrinfo failed)\")': /v2.23/tasks.get_all\n",
      "Retrying (Retry(total=226, connect=226, read=240, redirect=240, status=240)) after connection broken by 'NameResolutionError(\"<urllib3.connection.HTTPSConnection object at 0x000001A9A9480E50>: Failed to resolve 'api.clear.ml' ([Errno 11001] getaddrinfo failed)\")': /v2.23/tasks.get_all\n",
      "Retrying (Retry(total=226, connect=226, read=240, redirect=240, status=240)) after connection broken by 'NameResolutionError(\"<urllib3.connection.HTTPSConnection object at 0x000001A9A94802B0>: Failed to resolve 'api.clear.ml' ([Errno 11001] getaddrinfo failed)\")': /v2.23/events.add_batch\n",
      "      50/60         0G     0.5544      0.554     0.9492        113        640:  45%|████▌     | 43/95 [10:05<12:19, 14.22s/it]Retrying (Retry(total=2, connect=2, read=5, redirect=5, status=None)) after connection broken by 'NameResolutionError(\"<urllib3.connection.HTTPSConnection object at 0x000001A99D4A6C50>: Failed to resolve 'files.clear.ml' ([Errno 11001] getaddrinfo failed)\")': /\n",
      "      50/60         0G     0.5539     0.5576     0.9475        126        640:  46%|████▋     | 44/95 [10:19<12:06, 14.25s/it]Retrying (Retry(total=1, connect=1, read=5, redirect=5, status=None)) after connection broken by 'NameResolutionError(\"<urllib3.connection.HTTPSConnection object at 0x000001A99D4A72E0>: Failed to resolve 'files.clear.ml' ([Errno 11001] getaddrinfo failed)\")': /\n",
      "Retrying (Retry(total=0, connect=0, read=5, redirect=5, status=None)) after connection broken by 'NameResolutionError(\"<urllib3.connection.HTTPSConnection object at 0x000001A99D4A7760>: Failed to resolve 'files.clear.ml' ([Errno 11001] getaddrinfo failed)\")': /\n",
      "Retrying (Retry(total=2, connect=2, read=5, redirect=5, status=None)) after connection broken by 'NameResolutionError(\"<urllib3.connection.HTTPSConnection object at 0x000001A99D4A6D10>: Failed to resolve 'files.clear.ml' ([Errno 11001] getaddrinfo failed)\")': /\n",
      "      50/60         0G     0.5525     0.5579     0.9455        113        640:  47%|████▋     | 45/95 [10:33<11:56, 14.33s/it]Retrying (Retry(total=1, connect=1, read=5, redirect=5, status=None)) after connection broken by 'NameResolutionError(\"<urllib3.connection.HTTPSConnection object at 0x000001A99D4A7E80>: Failed to resolve 'files.clear.ml' ([Errno 11001] getaddrinfo failed)\")': /\n",
      "Retrying (Retry(total=0, connect=0, read=5, redirect=5, status=None)) after connection broken by 'NameResolutionError(\"<urllib3.connection.HTTPSConnection object at 0x000001A99D4A4A00>: Failed to resolve 'files.clear.ml' ([Errno 11001] getaddrinfo failed)\")': /\n",
      "Retrying (Retry(total=2, connect=2, read=5, redirect=5, status=None)) after connection broken by 'NameResolutionError(\"<urllib3.connection.HTTPSConnection object at 0x000001A99D1E9930>: Failed to resolve 'files.clear.ml' ([Errno 11001] getaddrinfo failed)\")': /\n",
      "      50/60         0G     0.5516      0.556      0.944         55        640:  48%|████▊     | 46/95 [10:48<11:40, 14.30s/it]Retrying (Retry(total=1, connect=1, read=5, redirect=5, status=None)) after connection broken by 'NameResolutionError(\"<urllib3.connection.HTTPSConnection object at 0x000001A99FC93160>: Failed to resolve 'files.clear.ml' ([Errno 11001] getaddrinfo failed)\")': /\n",
      "Retrying (Retry(total=0, connect=0, read=5, redirect=5, status=None)) after connection broken by 'NameResolutionError(\"<urllib3.connection.HTTPSConnection object at 0x000001A99FC90910>: Failed to resolve 'files.clear.ml' ([Errno 11001] getaddrinfo failed)\")': /\n"
     ]
    },
    {
     "name": "stdout",
     "output_type": "stream",
     "text": [
      "2024-06-17 17:45:23,901 - clearml.storage - ERROR - Exception encountered while uploading HTTPSConnectionPool(host='files.clear.ml', port=443): Max retries exceeded with url: / (Caused by NameResolutionError(\"<urllib3.connection.HTTPSConnection object at 0x000001A99FC92CB0>: Failed to resolve 'files.clear.ml' ([Errno 11001] getaddrinfo failed)\"))\n"
     ]
    },
    {
     "name": "stderr",
     "output_type": "stream",
     "text": [
      "      50/60         0G     0.5463     0.5537     0.9414         30        640:  52%|█████▏    | 49/95 [11:31<10:56, 14.27s/it]Retrying (Retry(total=2, connect=2, read=5, redirect=5, status=None)) after connection broken by 'NameResolutionError(\"<urllib3.connection.HTTPSConnection object at 0x000001A9A94E9000>: Failed to resolve 'files.clear.ml' ([Errno 11001] getaddrinfo failed)\")': /\n",
      "Retrying (Retry(total=1, connect=1, read=5, redirect=5, status=None)) after connection broken by 'NameResolutionError(\"<urllib3.connection.HTTPSConnection object at 0x000001A9A94E8190>: Failed to resolve 'files.clear.ml' ([Errno 11001] getaddrinfo failed)\")': /\n",
      "Retrying (Retry(total=0, connect=0, read=5, redirect=5, status=None)) after connection broken by 'NameResolutionError(\"<urllib3.connection.HTTPSConnection object at 0x000001A9A94E9480>: Failed to resolve 'files.clear.ml' ([Errno 11001] getaddrinfo failed)\")': /\n",
      "Retrying (Retry(total=228, connect=228, read=240, redirect=240, status=240)) after connection broken by 'NameResolutionError(\"<urllib3.connection.HTTPSConnection object at 0x000001A99D1EA9B0>: Failed to resolve 'api.clear.ml' ([Errno 11001] getaddrinfo failed)\")': /v2.23/events.add_batch\n",
      "      50/60         0G     0.5473     0.5544     0.9421         57        640:  53%|█████▎    | 50/95 [11:45<10:40, 14.23s/it]Retrying (Retry(total=2, connect=2, read=5, redirect=5, status=None)) after connection broken by 'NameResolutionError(\"<urllib3.connection.HTTPSConnection object at 0x000001A9A0CB3FA0>: Failed to resolve 'files.clear.ml' ([Errno 11001] getaddrinfo failed)\")': /\n",
      "Retrying (Retry(total=1, connect=1, read=5, redirect=5, status=None)) after connection broken by 'NameResolutionError(\"<urllib3.connection.HTTPSConnection object at 0x000001A9A0CB1420>: Failed to resolve 'files.clear.ml' ([Errno 11001] getaddrinfo failed)\")': /\n",
      "Retrying (Retry(total=225, connect=225, read=240, redirect=240, status=240)) after connection broken by 'NameResolutionError(\"<urllib3.connection.HTTPSConnection object at 0x000001A99D1E9F00>: Failed to resolve 'api.clear.ml' ([Errno 11001] getaddrinfo failed)\")': /v2.23/tasks.get_all\n",
      "Retrying (Retry(total=225, connect=225, read=240, redirect=240, status=240)) after connection broken by 'NameResolutionError(\"<urllib3.connection.HTTPSConnection object at 0x000001A99D1E9C30>: Failed to resolve 'api.clear.ml' ([Errno 11001] getaddrinfo failed)\")': /v2.23/tasks.get_all\n",
      "Retrying (Retry(total=225, connect=225, read=240, redirect=240, status=240)) after connection broken by 'NameResolutionError(\"<urllib3.connection.HTTPSConnection object at 0x000001A99D1E8F70>: Failed to resolve 'api.clear.ml' ([Errno 11001] getaddrinfo failed)\")': /v2.23/events.add_batch\n",
      "      50/60         0G     0.5467     0.5544     0.9418         53        640:  54%|█████▎    | 51/95 [11:59<10:24, 14.19s/it]Retrying (Retry(total=0, connect=0, read=5, redirect=5, status=None)) after connection broken by 'NameResolutionError(\"<urllib3.connection.HTTPSConnection object at 0x000001A9A0CB1600>: Failed to resolve 'files.clear.ml' ([Errno 11001] getaddrinfo failed)\")': /\n",
      "Retrying (Retry(total=2, connect=2, read=5, redirect=5, status=None)) after connection broken by 'NameResolutionError(\"<urllib3.connection.HTTPSConnection object at 0x000001A99FC90730>: Failed to resolve 'files.clear.ml' ([Errno 11001] getaddrinfo failed)\")': /\n",
      "Retrying (Retry(total=1, connect=1, read=5, redirect=5, status=None)) after connection broken by 'NameResolutionError(\"<urllib3.connection.HTTPSConnection object at 0x000001A99FC907F0>: Failed to resolve 'files.clear.ml' ([Errno 11001] getaddrinfo failed)\")': /\n",
      "      50/60         0G     0.5483     0.5593     0.9429         34        640:  55%|█████▍    | 52/95 [12:13<10:01, 14.00s/it]Retrying (Retry(total=0, connect=0, read=5, redirect=5, status=None)) after connection broken by 'NameResolutionError(\"<urllib3.connection.HTTPSConnection object at 0x000001A99FC93340>: Failed to resolve 'files.clear.ml' ([Errno 11001] getaddrinfo failed)\")': /\n"
     ]
    },
    {
     "name": "stdout",
     "output_type": "stream",
     "text": [
      "2024-06-17 17:46:39,164 - clearml.storage - ERROR - Exception encountered while uploading HTTPSConnectionPool(host='files.clear.ml', port=443): Max retries exceeded with url: / (Caused by NameResolutionError(\"<urllib3.connection.HTTPSConnection object at 0x000001A9986D86D0>: Failed to resolve 'files.clear.ml' ([Errno 11001] getaddrinfo failed)\"))\n"
     ]
    },
    {
     "name": "stderr",
     "output_type": "stream",
     "text": [
      "      50/60         0G     0.5505     0.5587     0.9437         56        640:  57%|█████▋    | 54/95 [12:41<09:36, 14.05s/it]Retrying (Retry(total=2, connect=2, read=5, redirect=5, status=None)) after connection broken by 'NameResolutionError(\"<urllib3.connection.HTTPSConnection object at 0x000001A99FB50520>: Failed to resolve 'files.clear.ml' ([Errno 11001] getaddrinfo failed)\")': /\n",
      "Retrying (Retry(total=1, connect=1, read=5, redirect=5, status=None)) after connection broken by 'NameResolutionError(\"<urllib3.connection.HTTPSConnection object at 0x000001A99FB53280>: Failed to resolve 'files.clear.ml' ([Errno 11001] getaddrinfo failed)\")': /\n",
      "      50/60         0G     0.5491     0.5575      0.943         67        640:  58%|█████▊    | 55/95 [12:55<09:25, 14.13s/it]Retrying (Retry(total=0, connect=0, read=5, redirect=5, status=None)) after connection broken by 'NameResolutionError(\"<urllib3.connection.HTTPSConnection object at 0x000001A99FB501F0>: Failed to resolve 'files.clear.ml' ([Errno 11001] getaddrinfo failed)\")': /\n",
      "Retrying (Retry(total=2, connect=2, read=5, redirect=5, status=None)) after connection broken by 'NameResolutionError(\"<urllib3.connection.HTTPSConnection object at 0x000001A99FB52A10>: Failed to resolve 'files.clear.ml' ([Errno 11001] getaddrinfo failed)\")': /\n",
      "Retrying (Retry(total=1, connect=1, read=5, redirect=5, status=None)) after connection broken by 'NameResolutionError(\"<urllib3.connection.HTTPSConnection object at 0x000001A99FB51FC0>: Failed to resolve 'files.clear.ml' ([Errno 11001] getaddrinfo failed)\")': /\n",
      "      50/60         0G     0.5485     0.5567     0.9431         65        640:  59%|█████▉    | 56/95 [13:09<09:09, 14.08s/it]Retrying (Retry(total=0, connect=0, read=5, redirect=5, status=None)) after connection broken by 'NameResolutionError(\"<urllib3.connection.HTTPSConnection object at 0x000001A99FB52FB0>: Failed to resolve 'files.clear.ml' ([Errno 11001] getaddrinfo failed)\")': /\n",
      "Retrying (Retry(total=2, connect=2, read=5, redirect=5, status=None)) after connection broken by 'NameResolutionError(\"<urllib3.connection.HTTPSConnection object at 0x000001A99FB52E00>: Failed to resolve 'files.clear.ml' ([Errno 11001] getaddrinfo failed)\")': /\n",
      "Retrying (Retry(total=1, connect=1, read=5, redirect=5, status=None)) after connection broken by 'NameResolutionError(\"<urllib3.connection.HTTPSConnection object at 0x000001A99FB50AF0>: Failed to resolve 'files.clear.ml' ([Errno 11001] getaddrinfo failed)\")': /\n",
      "      50/60         0G     0.5462     0.5557     0.9419         58        640:  60%|██████    | 57/95 [13:23<08:55, 14.08s/it]Retrying (Retry(total=0, connect=0, read=5, redirect=5, status=None)) after connection broken by 'NameResolutionError(\"<urllib3.connection.HTTPSConnection object at 0x000001A99FB50CD0>: Failed to resolve 'files.clear.ml' ([Errno 11001] getaddrinfo failed)\")': /\n"
     ]
    },
    {
     "name": "stdout",
     "output_type": "stream",
     "text": [
      "2024-06-17 17:47:54,406 - clearml.storage - ERROR - Exception encountered while uploading HTTPSConnectionPool(host='files.clear.ml', port=443): Max retries exceeded with url: / (Caused by NameResolutionError(\"<urllib3.connection.HTTPSConnection object at 0x000001A99FB52020>: Failed to resolve 'files.clear.ml' ([Errno 11001] getaddrinfo failed)\"))\n"
     ]
    },
    {
     "name": "stderr",
     "output_type": "stream",
     "text": [
      "      50/60         0G     0.5461     0.5566     0.9416         70        640:  61%|██████    | 58/95 [13:37<08:42, 14.11s/it]Retrying (Retry(total=227, connect=227, read=240, redirect=240, status=240)) after connection broken by 'NameResolutionError(\"<urllib3.connection.HTTPSConnection object at 0x000001A9A0CB1840>: Failed to resolve 'api.clear.ml' ([Errno 11001] getaddrinfo failed)\")': /v2.23/events.add_batch\n",
      "      50/60         0G     0.5455     0.5561     0.9408         66        640:  62%|██████▏   | 59/95 [13:51<08:25, 14.03s/it]Retrying (Retry(total=224, connect=224, read=240, redirect=240, status=240)) after connection broken by 'NameResolutionError(\"<urllib3.connection.HTTPSConnection object at 0x000001A998026530>: Failed to resolve 'api.clear.ml' ([Errno 11001] getaddrinfo failed)\")': /v2.23/tasks.get_all\n",
      "Retrying (Retry(total=224, connect=224, read=240, redirect=240, status=240)) after connection broken by 'NameResolutionError(\"<urllib3.connection.HTTPSConnection object at 0x000001A998026AA0>: Failed to resolve 'api.clear.ml' ([Errno 11001] getaddrinfo failed)\")': /v2.23/tasks.get_all\n",
      "Retrying (Retry(total=224, connect=224, read=240, redirect=240, status=240)) after connection broken by 'NameResolutionError(\"<urllib3.connection.HTTPSConnection object at 0x000001A9980249D0>: Failed to resolve 'api.clear.ml' ([Errno 11001] getaddrinfo failed)\")': /v2.23/events.add_batch\n",
      "Retrying (Retry(total=2, connect=2, read=5, redirect=5, status=None)) after connection broken by 'NameResolutionError(\"<urllib3.connection.HTTPSConnection object at 0x000001A99700B370>: Failed to resolve 'files.clear.ml' ([Errno 11001] getaddrinfo failed)\")': /\n",
      "      50/60         0G     0.5445     0.5547     0.9398         63        640:  63%|██████▎   | 60/95 [14:05<08:13, 14.10s/it]Retrying (Retry(total=1, connect=1, read=5, redirect=5, status=None)) after connection broken by 'NameResolutionError(\"<urllib3.connection.HTTPSConnection object at 0x000001A99700BB50>: Failed to resolve 'files.clear.ml' ([Errno 11001] getaddrinfo failed)\")': /\n",
      "Retrying (Retry(total=0, connect=0, read=5, redirect=5, status=None)) after connection broken by 'NameResolutionError(\"<urllib3.connection.HTTPSConnection object at 0x000001A99FD2C670>: Failed to resolve 'files.clear.ml' ([Errno 11001] getaddrinfo failed)\")': /\n",
      "Retrying (Retry(total=2, connect=2, read=5, redirect=5, status=None)) after connection broken by 'NameResolutionError(\"<urllib3.connection.HTTPSConnection object at 0x000001A99FD2C820>: Failed to resolve 'files.clear.ml' ([Errno 11001] getaddrinfo failed)\")': /\n",
      "      50/60         0G     0.5441     0.5551     0.9398         51        640:  64%|██████▍   | 61/95 [14:20<07:59, 14.09s/it]Retrying (Retry(total=1, connect=1, read=5, redirect=5, status=None)) after connection broken by 'NameResolutionError(\"<urllib3.connection.HTTPSConnection object at 0x000001A99FD2DB40>: Failed to resolve 'files.clear.ml' ([Errno 11001] getaddrinfo failed)\")': /\n",
      "Retrying (Retry(total=0, connect=0, read=5, redirect=5, status=None)) after connection broken by 'NameResolutionError(\"<urllib3.connection.HTTPSConnection object at 0x000001A99FD2D4E0>: Failed to resolve 'files.clear.ml' ([Errno 11001] getaddrinfo failed)\")': /\n",
      "Retrying (Retry(total=2, connect=2, read=5, redirect=5, status=None)) after connection broken by 'NameResolutionError(\"<urllib3.connection.HTTPSConnection object at 0x000001A99FFFC520>: Failed to resolve 'files.clear.ml' ([Errno 11001] getaddrinfo failed)\")': /\n",
      "      50/60         0G     0.5456     0.5563     0.9419         48        640:  65%|██████▌   | 62/95 [14:34<07:44, 14.08s/it]Retrying (Retry(total=1, connect=1, read=5, redirect=5, status=None)) after connection broken by 'NameResolutionError(\"<urllib3.connection.HTTPSConnection object at 0x000001A99FFFC4F0>: Failed to resolve 'files.clear.ml' ([Errno 11001] getaddrinfo failed)\")': /\n",
      "Retrying (Retry(total=0, connect=0, read=5, redirect=5, status=None)) after connection broken by 'NameResolutionError(\"<urllib3.connection.HTTPSConnection object at 0x000001A99FFFF640>: Failed to resolve 'files.clear.ml' ([Errno 11001] getaddrinfo failed)\")': /\n"
     ]
    },
    {
     "name": "stdout",
     "output_type": "stream",
     "text": [
      "2024-06-17 17:49:09,675 - clearml.storage - ERROR - Exception encountered while uploading HTTPSConnectionPool(host='files.clear.ml', port=443): Max retries exceeded with url: / (Caused by NameResolutionError(\"<urllib3.connection.HTTPSConnection object at 0x000001A99FFFCA00>: Failed to resolve 'files.clear.ml' ([Errno 11001] getaddrinfo failed)\"))\n"
     ]
    },
    {
     "name": "stderr",
     "output_type": "stream",
     "text": [
      "      50/60         0G      0.547     0.5578     0.9434         55        640:  68%|██████▊   | 65/95 [15:16<07:03, 14.11s/it]Retrying (Retry(total=2, connect=2, read=5, redirect=5, status=None)) after connection broken by 'NameResolutionError(\"<urllib3.connection.HTTPSConnection object at 0x000001A996FFE380>: Failed to resolve 'files.clear.ml' ([Errno 11001] getaddrinfo failed)\")': /\n",
      "Retrying (Retry(total=1, connect=1, read=5, redirect=5, status=None)) after connection broken by 'NameResolutionError(\"<urllib3.connection.HTTPSConnection object at 0x000001A99C3BAE00>: Failed to resolve 'files.clear.ml' ([Errno 11001] getaddrinfo failed)\")': /\n",
      "Retrying (Retry(total=0, connect=0, read=5, redirect=5, status=None)) after connection broken by 'NameResolutionError(\"<urllib3.connection.HTTPSConnection object at 0x000001A99C3B9330>: Failed to resolve 'files.clear.ml' ([Errno 11001] getaddrinfo failed)\")': /\n",
      "      50/60         0G     0.5463     0.5571      0.943         76        640:  69%|██████▉   | 66/95 [15:30<06:49, 14.11s/it]Retrying (Retry(total=2, connect=2, read=5, redirect=5, status=None)) after connection broken by 'NameResolutionError(\"<urllib3.connection.HTTPSConnection object at 0x000001A9A0BE8460>: Failed to resolve 'files.clear.ml' ([Errno 11001] getaddrinfo failed)\")': /\n",
      "Retrying (Retry(total=1, connect=1, read=5, redirect=5, status=None)) after connection broken by 'NameResolutionError(\"<urllib3.connection.HTTPSConnection object at 0x000001A9A94B2AA0>: Failed to resolve 'files.clear.ml' ([Errno 11001] getaddrinfo failed)\")': /\n",
      "      50/60         0G     0.5464     0.5575     0.9429         93        640:  71%|███████   | 67/95 [15:44<06:35, 14.11s/it]Retrying (Retry(total=226, connect=226, read=240, redirect=240, status=240)) after connection broken by 'NameResolutionError(\"<urllib3.connection.HTTPSConnection object at 0x000001A99FD2CDF0>: Failed to resolve 'api.clear.ml' ([Errno 11001] getaddrinfo failed)\")': /v2.23/events.add_batch\n",
      "Retrying (Retry(total=0, connect=0, read=5, redirect=5, status=None)) after connection broken by 'NameResolutionError(\"<urllib3.connection.HTTPSConnection object at 0x000001A9A94B1F00>: Failed to resolve 'files.clear.ml' ([Errno 11001] getaddrinfo failed)\")': /\n",
      "Retrying (Retry(total=2, connect=2, read=5, redirect=5, status=None)) after connection broken by 'NameResolutionError(\"<urllib3.connection.HTTPSConnection object at 0x000001A9A94B29B0>: Failed to resolve 'files.clear.ml' ([Errno 11001] getaddrinfo failed)\")': /\n",
      "Retrying (Retry(total=1, connect=1, read=5, redirect=5, status=None)) after connection broken by 'NameResolutionError(\"<urllib3.connection.HTTPSConnection object at 0x000001A9A94B1270>: Failed to resolve 'files.clear.ml' ([Errno 11001] getaddrinfo failed)\")': /\n",
      "Retrying (Retry(total=223, connect=223, read=240, redirect=240, status=240)) after connection broken by 'NameResolutionError(\"<urllib3.connection.HTTPSConnection object at 0x000001A99FD2CFD0>: Failed to resolve 'api.clear.ml' ([Errno 11001] getaddrinfo failed)\")': /v2.23/tasks.get_all\n",
      "Retrying (Retry(total=223, connect=223, read=240, redirect=240, status=240)) after connection broken by 'NameResolutionError(\"<urllib3.connection.HTTPSConnection object at 0x000001A99FD2C070>: Failed to resolve 'api.clear.ml' ([Errno 11001] getaddrinfo failed)\")': /v2.23/tasks.get_all\n",
      "Retrying (Retry(total=223, connect=223, read=240, redirect=240, status=240)) after connection broken by 'NameResolutionError(\"<urllib3.connection.HTTPSConnection object at 0x000001A99FD2DC60>: Failed to resolve 'api.clear.ml' ([Errno 11001] getaddrinfo failed)\")': /v2.23/events.add_batch\n",
      "      50/60         0G     0.5451     0.5557     0.9421        102        640:  72%|███████▏  | 68/95 [15:59<06:24, 14.24s/it]Retrying (Retry(total=0, connect=0, read=5, redirect=5, status=None)) after connection broken by 'NameResolutionError(\"<urllib3.connection.HTTPSConnection object at 0x000001A9A94B0820>: Failed to resolve 'files.clear.ml' ([Errno 11001] getaddrinfo failed)\")': /\n"
     ]
    },
    {
     "name": "stdout",
     "output_type": "stream",
     "text": [
      "2024-06-17 17:50:24,950 - clearml.storage - ERROR - Exception encountered while uploading HTTPSConnectionPool(host='files.clear.ml', port=443): Max retries exceeded with url: / (Caused by NameResolutionError(\"<urllib3.connection.HTTPSConnection object at 0x000001A9A94B3790>: Failed to resolve 'files.clear.ml' ([Errno 11001] getaddrinfo failed)\"))\n"
     ]
    },
    {
     "name": "stderr",
     "output_type": "stream",
     "text": [
      "      50/60         0G     0.5443     0.5539     0.9416         83        640:  74%|███████▎  | 70/95 [16:27<05:54, 14.19s/it]Retrying (Retry(total=2, connect=2, read=5, redirect=5, status=None)) after connection broken by 'NameResolutionError(\"<urllib3.connection.HTTPSConnection object at 0x000001A99D5063B0>: Failed to resolve 'files.clear.ml' ([Errno 11001] getaddrinfo failed)\")': /\n",
      "Retrying (Retry(total=1, connect=1, read=5, redirect=5, status=None)) after connection broken by 'NameResolutionError(\"<urllib3.connection.HTTPSConnection object at 0x000001A99D506530>: Failed to resolve 'files.clear.ml' ([Errno 11001] getaddrinfo failed)\")': /\n",
      "      50/60         0G     0.5441     0.5531     0.9417         44        640:  75%|███████▍  | 71/95 [16:41<05:40, 14.18s/it]Retrying (Retry(total=0, connect=0, read=5, redirect=5, status=None)) after connection broken by 'NameResolutionError(\"<urllib3.connection.HTTPSConnection object at 0x000001A99D504F40>: Failed to resolve 'files.clear.ml' ([Errno 11001] getaddrinfo failed)\")': /\n",
      "Retrying (Retry(total=2, connect=2, read=5, redirect=5, status=None)) after connection broken by 'NameResolutionError(\"<urllib3.connection.HTTPSConnection object at 0x000001A99D506140>: Failed to resolve 'files.clear.ml' ([Errno 11001] getaddrinfo failed)\")': /\n",
      "Retrying (Retry(total=1, connect=1, read=5, redirect=5, status=None)) after connection broken by 'NameResolutionError(\"<urllib3.connection.HTTPSConnection object at 0x000001A99D504070>: Failed to resolve 'files.clear.ml' ([Errno 11001] getaddrinfo failed)\")': /\n",
      "      50/60         0G     0.5439     0.5537     0.9416         53        640:  76%|███████▌  | 72/95 [16:55<05:24, 14.09s/it]Retrying (Retry(total=0, connect=0, read=5, redirect=5, status=None)) after connection broken by 'NameResolutionError(\"<urllib3.connection.HTTPSConnection object at 0x000001A99D507C40>: Failed to resolve 'files.clear.ml' ([Errno 11001] getaddrinfo failed)\")': /\n",
      "Retrying (Retry(total=2, connect=2, read=5, redirect=5, status=None)) after connection broken by 'NameResolutionError(\"<urllib3.connection.HTTPSConnection object at 0x000001A99D505420>: Failed to resolve 'files.clear.ml' ([Errno 11001] getaddrinfo failed)\")': /\n",
      "Retrying (Retry(total=1, connect=1, read=5, redirect=5, status=None)) after connection broken by 'NameResolutionError(\"<urllib3.connection.HTTPSConnection object at 0x000001A99FD2D720>: Failed to resolve 'files.clear.ml' ([Errno 11001] getaddrinfo failed)\")': /\n",
      "      50/60         0G     0.5444     0.5547      0.941         69        640:  77%|███████▋  | 73/95 [17:09<05:10, 14.13s/it]Retrying (Retry(total=0, connect=0, read=5, redirect=5, status=None)) after connection broken by 'NameResolutionError(\"<urllib3.connection.HTTPSConnection object at 0x000001A9A7344FD0>: Failed to resolve 'files.clear.ml' ([Errno 11001] getaddrinfo failed)\")': /\n"
     ]
    },
    {
     "name": "stdout",
     "output_type": "stream",
     "text": [
      "2024-06-17 17:51:40,181 - clearml.storage - ERROR - Exception encountered while uploading HTTPSConnectionPool(host='files.clear.ml', port=443): Max retries exceeded with url: / (Caused by NameResolutionError(\"<urllib3.connection.HTTPSConnection object at 0x000001A9A7346440>: Failed to resolve 'files.clear.ml' ([Errno 11001] getaddrinfo failed)\"))\n"
     ]
    },
    {
     "name": "stderr",
     "output_type": "stream",
     "text": [
      "      50/60         0G     0.5435     0.5545     0.9412         80        640:  79%|███████▉  | 75/95 [17:38<04:44, 14.20s/it]Retrying (Retry(total=225, connect=225, read=240, redirect=240, status=240)) after connection broken by 'NameResolutionError(\"<urllib3.connection.HTTPSConnection object at 0x000001A9A94B3C70>: Failed to resolve 'api.clear.ml' ([Errno 11001] getaddrinfo failed)\")': /v2.23/events.add_batch\n",
      "Retrying (Retry(total=2, connect=2, read=5, redirect=5, status=None)) after connection broken by 'NameResolutionError(\"<urllib3.connection.HTTPSConnection object at 0x000001A99FCC2C20>: Failed to resolve 'files.clear.ml' ([Errno 11001] getaddrinfo failed)\")': /\n",
      "      50/60         0G     0.5437     0.5556     0.9411         59        640:  80%|████████  | 76/95 [17:52<04:29, 14.18s/it]Retrying (Retry(total=1, connect=1, read=5, redirect=5, status=None)) after connection broken by 'NameResolutionError(\"<urllib3.connection.HTTPSConnection object at 0x000001A99FCC36D0>: Failed to resolve 'files.clear.ml' ([Errno 11001] getaddrinfo failed)\")': /\n",
      "Retrying (Retry(total=222, connect=222, read=240, redirect=240, status=240)) after connection broken by 'NameResolutionError(\"<urllib3.connection.HTTPSConnection object at 0x000001A9A94B3700>: Failed to resolve 'api.clear.ml' ([Errno 11001] getaddrinfo failed)\")': /v2.23/tasks.get_all\n",
      "Retrying (Retry(total=222, connect=222, read=240, redirect=240, status=240)) after connection broken by 'NameResolutionError(\"<urllib3.connection.HTTPSConnection object at 0x000001A9A94B3D30>: Failed to resolve 'api.clear.ml' ([Errno 11001] getaddrinfo failed)\")': /v2.23/tasks.get_all\n",
      "Retrying (Retry(total=222, connect=222, read=240, redirect=240, status=240)) after connection broken by 'NameResolutionError(\"<urllib3.connection.HTTPSConnection object at 0x000001A9A94B1360>: Failed to resolve 'api.clear.ml' ([Errno 11001] getaddrinfo failed)\")': /v2.23/events.add_batch\n",
      "Retrying (Retry(total=0, connect=0, read=5, redirect=5, status=None)) after connection broken by 'NameResolutionError(\"<urllib3.connection.HTTPSConnection object at 0x000001A99FCC2D70>: Failed to resolve 'files.clear.ml' ([Errno 11001] getaddrinfo failed)\")': /\n",
      "Retrying (Retry(total=2, connect=2, read=5, redirect=5, status=None)) after connection broken by 'NameResolutionError(\"<urllib3.connection.HTTPSConnection object at 0x000001A99FCC2BC0>: Failed to resolve 'files.clear.ml' ([Errno 11001] getaddrinfo failed)\")': /\n",
      "      50/60         0G     0.5451     0.5551     0.9419         53        640:  81%|████████  | 77/95 [18:06<04:15, 14.17s/it]Retrying (Retry(total=1, connect=1, read=5, redirect=5, status=None)) after connection broken by 'NameResolutionError(\"<urllib3.connection.HTTPSConnection object at 0x000001A99FCC1BD0>: Failed to resolve 'files.clear.ml' ([Errno 11001] getaddrinfo failed)\")': /\n",
      "Retrying (Retry(total=0, connect=0, read=5, redirect=5, status=None)) after connection broken by 'NameResolutionError(\"<urllib3.connection.HTTPSConnection object at 0x000001A99FCC2440>: Failed to resolve 'files.clear.ml' ([Errno 11001] getaddrinfo failed)\")': /\n",
      "Retrying (Retry(total=2, connect=2, read=5, redirect=5, status=None)) after connection broken by 'NameResolutionError(\"<urllib3.connection.HTTPSConnection object at 0x000001A9AC421B70>: Failed to resolve 'files.clear.ml' ([Errno 11001] getaddrinfo failed)\")': /\n",
      "      50/60         0G     0.5442     0.5545     0.9412         77        640:  82%|████████▏ | 78/95 [18:20<04:01, 14.22s/it]Retrying (Retry(total=1, connect=1, read=5, redirect=5, status=None)) after connection broken by 'NameResolutionError(\"<urllib3.connection.HTTPSConnection object at 0x000001A9AC420B50>: Failed to resolve 'files.clear.ml' ([Errno 11001] getaddrinfo failed)\")': /\n",
      "Retrying (Retry(total=0, connect=0, read=5, redirect=5, status=None)) after connection broken by 'NameResolutionError(\"<urllib3.connection.HTTPSConnection object at 0x000001A9AC420B80>: Failed to resolve 'files.clear.ml' ([Errno 11001] getaddrinfo failed)\")': /\n"
     ]
    },
    {
     "name": "stdout",
     "output_type": "stream",
     "text": [
      "2024-06-17 17:52:55,437 - clearml.storage - ERROR - Exception encountered while uploading HTTPSConnectionPool(host='files.clear.ml', port=443): Max retries exceeded with url: / (Caused by NameResolutionError(\"<urllib3.connection.HTTPSConnection object at 0x000001A9AC4215A0>: Failed to resolve 'files.clear.ml' ([Errno 11001] getaddrinfo failed)\"))\n"
     ]
    },
    {
     "name": "stderr",
     "output_type": "stream",
     "text": [
      "      50/60         0G     0.5437     0.5522     0.9401         66        640:  85%|████████▌ | 81/95 [19:03<03:18, 14.21s/it]Retrying (Retry(total=2, connect=2, read=5, redirect=5, status=None)) after connection broken by 'NameResolutionError(\"<urllib3.connection.HTTPSConnection object at 0x000001A996E89EA0>: Failed to resolve 'files.clear.ml' ([Errno 11001] getaddrinfo failed)\")': /\n",
      "Retrying (Retry(total=1, connect=1, read=5, redirect=5, status=None)) after connection broken by 'NameResolutionError(\"<urllib3.connection.HTTPSConnection object at 0x000001A996E885E0>: Failed to resolve 'files.clear.ml' ([Errno 11001] getaddrinfo failed)\")': /\n",
      "Retrying (Retry(total=0, connect=0, read=5, redirect=5, status=None)) after connection broken by 'NameResolutionError(\"<urllib3.connection.HTTPSConnection object at 0x000001A996E8A200>: Failed to resolve 'files.clear.ml' ([Errno 11001] getaddrinfo failed)\")': /\n",
      "      50/60         0G     0.5433     0.5527     0.9394         74        640:  86%|████████▋ | 82/95 [19:17<03:05, 14.23s/it]Retrying (Retry(total=2, connect=2, read=5, redirect=5, status=None)) after connection broken by 'NameResolutionError(\"<urllib3.connection.HTTPSConnection object at 0x000001A9AC421420>: Failed to resolve 'files.clear.ml' ([Errno 11001] getaddrinfo failed)\")': /\n",
      "Retrying (Retry(total=1, connect=1, read=5, redirect=5, status=None)) after connection broken by 'NameResolutionError(\"<urllib3.connection.HTTPSConnection object at 0x000001A9AC420FA0>: Failed to resolve 'files.clear.ml' ([Errno 11001] getaddrinfo failed)\")': /\n",
      "Retrying (Retry(total=0, connect=0, read=5, redirect=5, status=None)) after connection broken by 'NameResolutionError(\"<urllib3.connection.HTTPSConnection object at 0x000001A9AC420BE0>: Failed to resolve 'files.clear.ml' ([Errno 11001] getaddrinfo failed)\")': /\n",
      "      50/60         0G     0.5427     0.5522      0.939         40        640:  87%|████████▋ | 83/95 [19:31<02:49, 14.11s/it]Retrying (Retry(total=2, connect=2, read=5, redirect=5, status=None)) after connection broken by 'NameResolutionError(\"<urllib3.connection.HTTPSConnection object at 0x000001A99FC0CD30>: Failed to resolve 'files.clear.ml' ([Errno 11001] getaddrinfo failed)\")': /\n",
      "Retrying (Retry(total=1, connect=1, read=5, redirect=5, status=None)) after connection broken by 'NameResolutionError(\"<urllib3.connection.HTTPSConnection object at 0x000001A99FC0E770>: Failed to resolve 'files.clear.ml' ([Errno 11001] getaddrinfo failed)\")': /\n",
      "Retrying (Retry(total=224, connect=224, read=240, redirect=240, status=240)) after connection broken by 'NameResolutionError(\"<urllib3.connection.HTTPSConnection object at 0x000001A99FCC12D0>: Failed to resolve 'api.clear.ml' ([Errno 11001] getaddrinfo failed)\")': /v2.23/events.add_batch\n",
      "      50/60         0G     0.5412     0.5511     0.9386         58        640:  88%|████████▊ | 84/95 [19:45<02:35, 14.12s/it]Retrying (Retry(total=0, connect=0, read=5, redirect=5, status=None)) after connection broken by 'NameResolutionError(\"<urllib3.connection.HTTPSConnection object at 0x000001A99FC0CA00>: Failed to resolve 'files.clear.ml' ([Errno 11001] getaddrinfo failed)\")': /\n"
     ]
    },
    {
     "name": "stdout",
     "output_type": "stream",
     "text": [
      "2024-06-17 17:54:10,694 - clearml.storage - ERROR - Exception encountered while uploading HTTPSConnectionPool(host='files.clear.ml', port=443): Max retries exceeded with url: / (Caused by NameResolutionError(\"<urllib3.connection.HTTPSConnection object at 0x000001A99FC0EA40>: Failed to resolve 'files.clear.ml' ([Errno 11001] getaddrinfo failed)\"))\n"
     ]
    },
    {
     "name": "stderr",
     "output_type": "stream",
     "text": [
      "Retrying (Retry(total=221, connect=221, read=240, redirect=240, status=240)) after connection broken by 'NameResolutionError(\"<urllib3.connection.HTTPSConnection object at 0x000001A99FCC2140>: Failed to resolve 'api.clear.ml' ([Errno 11001] getaddrinfo failed)\")': /v2.23/tasks.get_all\n",
      "Retrying (Retry(total=221, connect=221, read=240, redirect=240, status=240)) after connection broken by 'NameResolutionError(\"<urllib3.connection.HTTPSConnection object at 0x000001A99FCC09D0>: Failed to resolve 'api.clear.ml' ([Errno 11001] getaddrinfo failed)\")': /v2.23/tasks.get_all\n",
      "Retrying (Retry(total=221, connect=221, read=240, redirect=240, status=240)) after connection broken by 'NameResolutionError(\"<urllib3.connection.HTTPSConnection object at 0x000001A99FCC3D00>: Failed to resolve 'api.clear.ml' ([Errno 11001] getaddrinfo failed)\")': /v2.23/events.add_batch\n",
      "      50/60         0G     0.5422     0.5518     0.9394         42        640:  91%|█████████ | 86/95 [20:13<02:06, 14.06s/it]Retrying (Retry(total=2, connect=2, read=5, redirect=5, status=None)) after connection broken by 'NameResolutionError(\"<urllib3.connection.HTTPSConnection object at 0x000001A9A72DE920>: Failed to resolve 'files.clear.ml' ([Errno 11001] getaddrinfo failed)\")': /\n",
      "Retrying (Retry(total=1, connect=1, read=5, redirect=5, status=None)) after connection broken by 'NameResolutionError(\"<urllib3.connection.HTTPSConnection object at 0x000001A9A72DEDD0>: Failed to resolve 'files.clear.ml' ([Errno 11001] getaddrinfo failed)\")': /\n",
      "      50/60         0G     0.5417     0.5513     0.9391         80        640:  92%|█████████▏| 87/95 [20:28<01:53, 14.24s/it]Retrying (Retry(total=0, connect=0, read=5, redirect=5, status=None)) after connection broken by 'NameResolutionError(\"<urllib3.connection.HTTPSConnection object at 0x000001A9A72DE380>: Failed to resolve 'files.clear.ml' ([Errno 11001] getaddrinfo failed)\")': /\n",
      "Retrying (Retry(total=2, connect=2, read=5, redirect=5, status=None)) after connection broken by 'NameResolutionError(\"<urllib3.connection.HTTPSConnection object at 0x000001A9A72DD600>: Failed to resolve 'files.clear.ml' ([Errno 11001] getaddrinfo failed)\")': /\n",
      "Retrying (Retry(total=1, connect=1, read=5, redirect=5, status=None)) after connection broken by 'NameResolutionError(\"<urllib3.connection.HTTPSConnection object at 0x000001A9A72DC490>: Failed to resolve 'files.clear.ml' ([Errno 11001] getaddrinfo failed)\")': /\n",
      "      50/60         0G     0.5424      0.551     0.9393         71        640:  93%|█████████▎| 88/95 [20:42<01:39, 14.23s/it]Retrying (Retry(total=0, connect=0, read=5, redirect=5, status=None)) after connection broken by 'NameResolutionError(\"<urllib3.connection.HTTPSConnection object at 0x000001A9A72DF6A0>: Failed to resolve 'files.clear.ml' ([Errno 11001] getaddrinfo failed)\")': /\n",
      "Retrying (Retry(total=2, connect=2, read=5, redirect=5, status=None)) after connection broken by 'NameResolutionError(\"<urllib3.connection.HTTPSConnection object at 0x000001A9A72DD990>: Failed to resolve 'files.clear.ml' ([Errno 11001] getaddrinfo failed)\")': /\n",
      "Retrying (Retry(total=1, connect=1, read=5, redirect=5, status=None)) after connection broken by 'NameResolutionError(\"<urllib3.connection.HTTPSConnection object at 0x000001A9A72DFA30>: Failed to resolve 'files.clear.ml' ([Errno 11001] getaddrinfo failed)\")': /\n",
      "      50/60         0G     0.5409      0.553     0.9388         39        640:  94%|█████████▎| 89/95 [20:56<01:24, 14.13s/it]Retrying (Retry(total=0, connect=0, read=5, redirect=5, status=None)) after connection broken by 'NameResolutionError(\"<urllib3.connection.HTTPSConnection object at 0x000001A9A72DD0C0>: Failed to resolve 'files.clear.ml' ([Errno 11001] getaddrinfo failed)\")': /\n"
     ]
    },
    {
     "name": "stdout",
     "output_type": "stream",
     "text": [
      "2024-06-17 17:55:25,948 - clearml.storage - ERROR - Exception encountered while uploading HTTPSConnectionPool(host='files.clear.ml', port=443): Max retries exceeded with url: / (Caused by NameResolutionError(\"<urllib3.connection.HTTPSConnection object at 0x000001A99FC0DC60>: Failed to resolve 'files.clear.ml' ([Errno 11001] getaddrinfo failed)\"))\n"
     ]
    },
    {
     "name": "stderr",
     "output_type": "stream",
     "text": [
      "      50/60         0G     0.5419      0.554     0.9393         47        640:  96%|█████████▌| 91/95 [21:24<00:56, 14.11s/it]Retrying (Retry(total=2, connect=2, read=5, redirect=5, status=None)) after connection broken by 'NameResolutionError(\"<urllib3.connection.HTTPSConnection object at 0x000001A9983642E0>: Failed to resolve 'files.clear.ml' ([Errno 11001] getaddrinfo failed)\")': /\n",
      "Retrying (Retry(total=1, connect=1, read=5, redirect=5, status=None)) after connection broken by 'NameResolutionError(\"<urllib3.connection.HTTPSConnection object at 0x000001A9983646A0>: Failed to resolve 'files.clear.ml' ([Errno 11001] getaddrinfo failed)\")': /\n",
      "      50/60         0G     0.5426     0.5534     0.9402         42        640:  97%|█████████▋| 92/95 [21:38<00:42, 14.05s/it]Retrying (Retry(total=223, connect=223, read=240, redirect=240, status=240)) after connection broken by 'NameResolutionError(\"<urllib3.connection.HTTPSConnection object at 0x000001A99FC0DB40>: Failed to resolve 'api.clear.ml' ([Errno 11001] getaddrinfo failed)\")': /v2.23/events.add_batch\n",
      "Retrying (Retry(total=0, connect=0, read=5, redirect=5, status=None)) after connection broken by 'NameResolutionError(\"<urllib3.connection.HTTPSConnection object at 0x000001A9983647C0>: Failed to resolve 'files.clear.ml' ([Errno 11001] getaddrinfo failed)\")': /\n",
      "Retrying (Retry(total=2, connect=2, read=5, redirect=5, status=None)) after connection broken by 'NameResolutionError(\"<urllib3.connection.HTTPSConnection object at 0x000001A9A24747F0>: Failed to resolve 'files.clear.ml' ([Errno 11001] getaddrinfo failed)\")': /\n",
      "Retrying (Retry(total=220, connect=220, read=240, redirect=240, status=240)) after connection broken by 'NameResolutionError(\"<urllib3.connection.HTTPSConnection object at 0x000001A99FC0C190>: Failed to resolve 'api.clear.ml' ([Errno 11001] getaddrinfo failed)\")': /v2.23/tasks.get_all\n",
      "      50/60         0G     0.5421     0.5529     0.9399         50        640:  98%|█████████▊| 93/95 [21:53<00:28, 14.11s/it]Retrying (Retry(total=220, connect=220, read=240, redirect=240, status=240)) after connection broken by 'NameResolutionError(\"<urllib3.connection.HTTPSConnection object at 0x000001A99FC0EB00>: Failed to resolve 'api.clear.ml' ([Errno 11001] getaddrinfo failed)\")': /v2.23/tasks.get_all\n",
      "Retrying (Retry(total=1, connect=1, read=5, redirect=5, status=None)) after connection broken by 'NameResolutionError(\"<urllib3.connection.HTTPSConnection object at 0x000001A9A2474340>: Failed to resolve 'files.clear.ml' ([Errno 11001] getaddrinfo failed)\")': /\n",
      "Retrying (Retry(total=220, connect=220, read=240, redirect=240, status=240)) after connection broken by 'NameResolutionError(\"<urllib3.connection.HTTPSConnection object at 0x000001A99FC0C550>: Failed to resolve 'api.clear.ml' ([Errno 11001] getaddrinfo failed)\")': /v2.23/events.add_batch\n",
      "Retrying (Retry(total=0, connect=0, read=5, redirect=5, status=None)) after connection broken by 'NameResolutionError(\"<urllib3.connection.HTTPSConnection object at 0x000001A9A2477310>: Failed to resolve 'files.clear.ml' ([Errno 11001] getaddrinfo failed)\")': /\n",
      "Retrying (Retry(total=2, connect=2, read=5, redirect=5, status=None)) after connection broken by 'NameResolutionError(\"<urllib3.connection.HTTPSConnection object at 0x000001A9A2477C10>: Failed to resolve 'files.clear.ml' ([Errno 11001] getaddrinfo failed)\")': /\n",
      "      50/60         0G      0.541     0.5526     0.9396         41        640:  99%|█████████▉| 94/95 [22:07<00:14, 14.10s/it]Retrying (Retry(total=1, connect=1, read=5, redirect=5, status=None)) after connection broken by 'NameResolutionError(\"<urllib3.connection.HTTPSConnection object at 0x000001A9A24760E0>: Failed to resolve 'files.clear.ml' ([Errno 11001] getaddrinfo failed)\")': /\n",
      "Retrying (Retry(total=0, connect=0, read=5, redirect=5, status=None)) after connection broken by 'NameResolutionError(\"<urllib3.connection.HTTPSConnection object at 0x000001A99C3A4370>: Failed to resolve 'files.clear.ml' ([Errno 11001] getaddrinfo failed)\")': /\n"
     ]
    },
    {
     "name": "stdout",
     "output_type": "stream",
     "text": [
      "2024-06-17 17:56:41,202 - clearml.storage - ERROR - Exception encountered while uploading HTTPSConnectionPool(host='files.clear.ml', port=443): Max retries exceeded with url: / (Caused by NameResolutionError(\"<urllib3.connection.HTTPSConnection object at 0x000001A99C3A4F10>: Failed to resolve 'files.clear.ml' ([Errno 11001] getaddrinfo failed)\"))\n"
     ]
    },
    {
     "name": "stderr",
     "output_type": "stream",
     "text": [
      "      50/60         0G     0.5425     0.5526     0.9402         36        640: 100%|██████████| 95/95 [22:17<00:00, 14.08s/it]\n",
      "                 Class     Images  Instances      Box(P          R      mAP50  mAP50-95): 100%|██████████| 2/2 [00:24<00:00, 12.30s/it]"
     ]
    },
    {
     "name": "stdout",
     "output_type": "stream",
     "text": [
      "                   all         63        147      0.676      0.663      0.662      0.402\n"
     ]
    },
    {
     "name": "stderr",
     "output_type": "stream",
     "text": [
      "\n"
     ]
    },
    {
     "name": "stdout",
     "output_type": "stream",
     "text": [
      "Closing dataloader mosaic\n",
      "\n",
      "      Epoch    GPU_mem   box_loss   cls_loss   dfl_loss  Instances       Size\n"
     ]
    },
    {
     "name": "stderr",
     "output_type": "stream",
     "text": [
      "  0%|          | 0/95 [00:00<?, ?it/s]Retrying (Retry(total=2, connect=2, read=5, redirect=5, status=None)) after connection broken by 'NameResolutionError(\"<urllib3.connection.HTTPSConnection object at 0x000001A998364EB0>: Failed to resolve 'files.clear.ml' ([Errno 11001] getaddrinfo failed)\")': /\n",
      "Retrying (Retry(total=1, connect=1, read=5, redirect=5, status=None)) after connection broken by 'NameResolutionError(\"<urllib3.connection.HTTPSConnection object at 0x000001A998365690>: Failed to resolve 'files.clear.ml' ([Errno 11001] getaddrinfo failed)\")': /\n",
      "      51/60         0G     0.6533      0.595      1.012         30        640:   1%|          | 1/95 [00:13<21:28, 13.71s/it]Retrying (Retry(total=0, connect=0, read=5, redirect=5, status=None)) after connection broken by 'NameResolutionError(\"<urllib3.connection.HTTPSConnection object at 0x000001A99A443FD0>: Failed to resolve 'files.clear.ml' ([Errno 11001] getaddrinfo failed)\")': /\n",
      "Retrying (Retry(total=2, connect=2, read=5, redirect=5, status=None)) after connection broken by 'NameResolutionError(\"<urllib3.connection.HTTPSConnection object at 0x000001A9A72DC370>: Failed to resolve 'files.clear.ml' ([Errno 11001] getaddrinfo failed)\")': /\n",
      "Retrying (Retry(total=1, connect=1, read=5, redirect=5, status=None)) after connection broken by 'NameResolutionError(\"<urllib3.connection.HTTPSConnection object at 0x000001A9A72DF5E0>: Failed to resolve 'files.clear.ml' ([Errno 11001] getaddrinfo failed)\")': /\n",
      "      51/60         0G     0.5277     0.4667     0.9377         76        640:   2%|▏         | 2/95 [00:28<22:00, 14.20s/it]Retrying (Retry(total=0, connect=0, read=5, redirect=5, status=None)) after connection broken by 'NameResolutionError(\"<urllib3.connection.HTTPSConnection object at 0x000001A9A72DC4C0>: Failed to resolve 'files.clear.ml' ([Errno 11001] getaddrinfo failed)\")': /\n",
      "Retrying (Retry(total=2, connect=2, read=5, redirect=5, status=None)) after connection broken by 'NameResolutionError(\"<urllib3.connection.HTTPSConnection object at 0x000001A9A72DDED0>: Failed to resolve 'files.clear.ml' ([Errno 11001] getaddrinfo failed)\")': /\n",
      "Retrying (Retry(total=1, connect=1, read=5, redirect=5, status=None)) after connection broken by 'NameResolutionError(\"<urllib3.connection.HTTPSConnection object at 0x000001A9A72DDA50>: Failed to resolve 'files.clear.ml' ([Errno 11001] getaddrinfo failed)\")': /\n",
      "      51/60         0G     0.4858      0.445     0.9139         39        640:   3%|▎         | 3/95 [00:42<21:47, 14.21s/it]Retrying (Retry(total=0, connect=0, read=5, redirect=5, status=None)) after connection broken by 'NameResolutionError(\"<urllib3.connection.HTTPSConnection object at 0x000001A9A72DF460>: Failed to resolve 'files.clear.ml' ([Errno 11001] getaddrinfo failed)\")': /\n"
     ]
    },
    {
     "name": "stdout",
     "output_type": "stream",
     "text": [
      "2024-06-17 17:57:56,447 - clearml.storage - ERROR - Exception encountered while uploading HTTPSConnectionPool(host='files.clear.ml', port=443): Max retries exceeded with url: / (Caused by NameResolutionError(\"<urllib3.connection.HTTPSConnection object at 0x000001A9A72DC3D0>: Failed to resolve 'files.clear.ml' ([Errno 11001] getaddrinfo failed)\"))\n"
     ]
    },
    {
     "name": "stderr",
     "output_type": "stream",
     "text": [
      "      51/60         0G     0.4845     0.4263     0.9123         23        640:   4%|▍         | 4/95 [00:56<21:19, 14.06s/it]Retrying (Retry(total=222, connect=222, read=240, redirect=240, status=240)) after connection broken by 'NameResolutionError(\"<urllib3.connection.HTTPSConnection object at 0x000001A9A2475F90>: Failed to resolve 'api.clear.ml' ([Errno 11001] getaddrinfo failed)\")': /v2.23/events.add_batch\n",
      "      51/60         0G     0.4579     0.4384     0.9006         19        640:   5%|▌         | 5/95 [01:10<20:54, 13.94s/it]Retrying (Retry(total=219, connect=219, read=240, redirect=240, status=240)) after connection broken by 'NameResolutionError(\"<urllib3.connection.HTTPSConnection object at 0x000001A9A2477C70>: Failed to resolve 'api.clear.ml' ([Errno 11001] getaddrinfo failed)\")': /v2.23/tasks.get_all\n",
      "Retrying (Retry(total=219, connect=219, read=240, redirect=240, status=240)) after connection broken by 'NameResolutionError(\"<urllib3.connection.HTTPSConnection object at 0x000001A9A2474880>: Failed to resolve 'api.clear.ml' ([Errno 11001] getaddrinfo failed)\")': /v2.23/tasks.get_all\n",
      "Retrying (Retry(total=219, connect=219, read=240, redirect=240, status=240)) after connection broken by 'NameResolutionError(\"<urllib3.connection.HTTPSConnection object at 0x000001A9A2476B60>: Failed to resolve 'api.clear.ml' ([Errno 11001] getaddrinfo failed)\")': /v2.23/events.add_batch\n",
      "Retrying (Retry(total=2, connect=2, read=5, redirect=5, status=None)) after connection broken by 'NameResolutionError(\"<urllib3.connection.HTTPSConnection object at 0x000001A99C3B8730>: Failed to resolve 'files.clear.ml' ([Errno 11001] getaddrinfo failed)\")': /\n",
      "      51/60         0G     0.4442     0.4292     0.8885         44        640:   6%|▋         | 6/95 [01:24<20:48, 14.03s/it]Retrying (Retry(total=1, connect=1, read=5, redirect=5, status=None)) after connection broken by 'NameResolutionError(\"<urllib3.connection.HTTPSConnection object at 0x000001A99C3B9FF0>: Failed to resolve 'files.clear.ml' ([Errno 11001] getaddrinfo failed)\")': /\n",
      "Retrying (Retry(total=0, connect=0, read=5, redirect=5, status=None)) after connection broken by 'NameResolutionError(\"<urllib3.connection.HTTPSConnection object at 0x000001A99C3BBA90>: Failed to resolve 'files.clear.ml' ([Errno 11001] getaddrinfo failed)\")': /\n",
      "Retrying (Retry(total=2, connect=2, read=5, redirect=5, status=None)) after connection broken by 'NameResolutionError(\"<urllib3.connection.HTTPSConnection object at 0x000001A99D5063E0>: Failed to resolve 'files.clear.ml' ([Errno 11001] getaddrinfo failed)\")': /\n",
      "      51/60         0G      0.444     0.4516     0.8821         33        640:   7%|▋         | 7/95 [01:38<20:36, 14.05s/it]Retrying (Retry(total=1, connect=1, read=5, redirect=5, status=None)) after connection broken by 'NameResolutionError(\"<urllib3.connection.HTTPSConnection object at 0x000001A99D507970>: Failed to resolve 'files.clear.ml' ([Errno 11001] getaddrinfo failed)\")': /\n",
      "Retrying (Retry(total=0, connect=0, read=5, redirect=5, status=None)) after connection broken by 'NameResolutionError(\"<urllib3.connection.HTTPSConnection object at 0x000001A99D504C40>: Failed to resolve 'files.clear.ml' ([Errno 11001] getaddrinfo failed)\")': /\n",
      "Retrying (Retry(total=2, connect=2, read=5, redirect=5, status=None)) after connection broken by 'NameResolutionError(\"<urllib3.connection.HTTPSConnection object at 0x000001A99D5066E0>: Failed to resolve 'files.clear.ml' ([Errno 11001] getaddrinfo failed)\")': /\n",
      "      51/60         0G     0.4496     0.4591     0.8855         35        640:   8%|▊         | 8/95 [01:52<20:28, 14.12s/it]Retrying (Retry(total=1, connect=1, read=5, redirect=5, status=None)) after connection broken by 'NameResolutionError(\"<urllib3.connection.HTTPSConnection object at 0x000001A99D504E20>: Failed to resolve 'files.clear.ml' ([Errno 11001] getaddrinfo failed)\")': /\n",
      "Retrying (Retry(total=0, connect=0, read=5, redirect=5, status=None)) after connection broken by 'NameResolutionError(\"<urllib3.connection.HTTPSConnection object at 0x000001A99D506290>: Failed to resolve 'files.clear.ml' ([Errno 11001] getaddrinfo failed)\")': /\n"
     ]
    },
    {
     "name": "stdout",
     "output_type": "stream",
     "text": [
      "2024-06-17 17:59:11,733 - clearml.storage - ERROR - Exception encountered while uploading HTTPSConnectionPool(host='files.clear.ml', port=443): Max retries exceeded with url: / (Caused by NameResolutionError(\"<urllib3.connection.HTTPSConnection object at 0x000001A99D504FD0>: Failed to resolve 'files.clear.ml' ([Errno 11001] getaddrinfo failed)\"))\n"
     ]
    },
    {
     "name": "stderr",
     "output_type": "stream",
     "text": [
      "      51/60         0G     0.4591     0.4488     0.8984         25        640:  12%|█▏        | 11/95 [02:33<19:24, 13.87s/it]Retrying (Retry(total=2, connect=2, read=5, redirect=5, status=None)) after connection broken by 'NameResolutionError(\"<urllib3.connection.HTTPSConnection object at 0x000001A9A0CB04C0>: Failed to resolve 'files.clear.ml' ([Errno 11001] getaddrinfo failed)\")': /\n",
      "Retrying (Retry(total=1, connect=1, read=5, redirect=5, status=None)) after connection broken by 'NameResolutionError(\"<urllib3.connection.HTTPSConnection object at 0x000001A9A0CB0DC0>: Failed to resolve 'files.clear.ml' ([Errno 11001] getaddrinfo failed)\")': /\n",
      "      51/60         0G       0.46     0.4446     0.9008         86        640:  13%|█▎        | 12/95 [02:48<19:26, 14.05s/it]Retrying (Retry(total=0, connect=0, read=5, redirect=5, status=None)) after connection broken by 'NameResolutionError(\"<urllib3.connection.HTTPSConnection object at 0x000001A9A0CB15A0>: Failed to resolve 'files.clear.ml' ([Errno 11001] getaddrinfo failed)\")': /\n",
      "Retrying (Retry(total=2, connect=2, read=5, redirect=5, status=None)) after connection broken by 'NameResolutionError(\"<urllib3.connection.HTTPSConnection object at 0x000001A9986D8730>: Failed to resolve 'files.clear.ml' ([Errno 11001] getaddrinfo failed)\")': /\n",
      "Retrying (Retry(total=1, connect=1, read=5, redirect=5, status=None)) after connection broken by 'NameResolutionError(\"<urllib3.connection.HTTPSConnection object at 0x000001A99FB51C90>: Failed to resolve 'files.clear.ml' ([Errno 11001] getaddrinfo failed)\")': /\n",
      "Retrying (Retry(total=221, connect=221, read=240, redirect=240, status=240)) after connection broken by 'NameResolutionError(\"<urllib3.connection.HTTPSConnection object at 0x000001A9A7344220>: Failed to resolve 'api.clear.ml' ([Errno 11001] getaddrinfo failed)\")': /v2.23/events.add_batch\n",
      "      51/60         0G     0.4497     0.4426     0.8975         22        640:  14%|█▎        | 13/95 [03:02<19:13, 14.07s/it]Retrying (Retry(total=0, connect=0, read=5, redirect=5, status=None)) after connection broken by 'NameResolutionError(\"<urllib3.connection.HTTPSConnection object at 0x000001A99FB52FE0>: Failed to resolve 'files.clear.ml' ([Errno 11001] getaddrinfo failed)\")': /\n",
      "Retrying (Retry(total=2, connect=2, read=5, redirect=5, status=None)) after connection broken by 'NameResolutionError(\"<urllib3.connection.HTTPSConnection object at 0x000001A99FB50AC0>: Failed to resolve 'files.clear.ml' ([Errno 11001] getaddrinfo failed)\")': /\n",
      "Retrying (Retry(total=218, connect=218, read=240, redirect=240, status=240)) after connection broken by 'NameResolutionError(\"<urllib3.connection.HTTPSConnection object at 0x000001A9A7345EA0>: Failed to resolve 'api.clear.ml' ([Errno 11001] getaddrinfo failed)\")': /v2.23/tasks.get_all\n",
      "Retrying (Retry(total=218, connect=218, read=240, redirect=240, status=240)) after connection broken by 'NameResolutionError(\"<urllib3.connection.HTTPSConnection object at 0x000001A99D504040>: Failed to resolve 'api.clear.ml' ([Errno 11001] getaddrinfo failed)\")': /v2.23/tasks.get_all\n",
      "Retrying (Retry(total=1, connect=1, read=5, redirect=5, status=None)) after connection broken by 'NameResolutionError(\"<urllib3.connection.HTTPSConnection object at 0x000001A99FB52DA0>: Failed to resolve 'files.clear.ml' ([Errno 11001] getaddrinfo failed)\")': /\n",
      "Retrying (Retry(total=218, connect=218, read=240, redirect=240, status=240)) after connection broken by 'NameResolutionError(\"<urllib3.connection.HTTPSConnection object at 0x000001A99D507AF0>: Failed to resolve 'api.clear.ml' ([Errno 11001] getaddrinfo failed)\")': /v2.23/events.add_batch\n",
      "      51/60         0G     0.4533     0.4686     0.9062         22        640:  15%|█▍        | 14/95 [03:16<18:57, 14.05s/it]Retrying (Retry(total=0, connect=0, read=5, redirect=5, status=None)) after connection broken by 'NameResolutionError(\"<urllib3.connection.HTTPSConnection object at 0x000001A99FB51960>: Failed to resolve 'files.clear.ml' ([Errno 11001] getaddrinfo failed)\")': /\n",
      "      51/60         0G     0.4377     0.4995      0.894         23        640:  22%|██▏       | 21/95 [04:55<16:43, 13.56s/it]Retrying (Retry(total=220, connect=220, read=240, redirect=240, status=240)) after connection broken by 'NameResolutionError(\"<urllib3.connection.HTTPSConnection object at 0x000001A99FB50FD0>: Failed to resolve 'api.clear.ml' ([Errno 11001] getaddrinfo failed)\")': /v2.23/events.add_batch\n",
      "      51/60         0G     0.4402     0.4932     0.8941         35        640:  23%|██▎       | 22/95 [05:08<16:27, 13.53s/it]Retrying (Retry(total=217, connect=217, read=240, redirect=240, status=240)) after connection broken by 'NameResolutionError(\"<urllib3.connection.HTTPSConnection object at 0x000001A99FB51120>: Failed to resolve 'api.clear.ml' ([Errno 11001] getaddrinfo failed)\")': /v2.23/tasks.get_all\n",
      "Retrying (Retry(total=217, connect=217, read=240, redirect=240, status=240)) after connection broken by 'NameResolutionError(\"<urllib3.connection.HTTPSConnection object at 0x000001A99FB52290>: Failed to resolve 'api.clear.ml' ([Errno 11001] getaddrinfo failed)\")': /v2.23/tasks.get_all\n",
      "Retrying (Retry(total=217, connect=217, read=240, redirect=240, status=240)) after connection broken by 'NameResolutionError(\"<urllib3.connection.HTTPSConnection object at 0x000001A9A94EB100>: Failed to resolve 'api.clear.ml' ([Errno 11001] getaddrinfo failed)\")': /v2.23/events.add_batch\n",
      "      51/60         0G     0.4397     0.4902     0.8942         27        640: 100%|██████████| 95/95 [21:05<00:00, 13.32s/it]\n",
      "                 Class     Images  Instances      Box(P          R      mAP50  mAP50-95): 100%|██████████| 2/2 [00:21<00:00, 10.83s/it]"
     ]
    },
    {
     "name": "stdout",
     "output_type": "stream",
     "text": [
      "                   all         63        147      0.775      0.631      0.668      0.416\n"
     ]
    },
    {
     "name": "stderr",
     "output_type": "stream",
     "text": [
      "\n"
     ]
    },
    {
     "name": "stdout",
     "output_type": "stream",
     "text": [
      "\n",
      "      Epoch    GPU_mem   box_loss   cls_loss   dfl_loss  Instances       Size\n"
     ]
    },
    {
     "name": "stderr",
     "output_type": "stream",
     "text": [
      "      52/60         0G     0.4122     0.4414     0.8774         25        640: 100%|██████████| 95/95 [20:03<00:00, 12.66s/it]\n",
      "                 Class     Images  Instances      Box(P          R      mAP50  mAP50-95): 100%|██████████| 2/2 [00:22<00:00, 11.01s/it]"
     ]
    },
    {
     "name": "stdout",
     "output_type": "stream",
     "text": [
      "                   all         63        147      0.736      0.669      0.668      0.411\n"
     ]
    },
    {
     "name": "stderr",
     "output_type": "stream",
     "text": [
      "\n"
     ]
    },
    {
     "name": "stdout",
     "output_type": "stream",
     "text": [
      "\n",
      "      Epoch    GPU_mem   box_loss   cls_loss   dfl_loss  Instances       Size\n"
     ]
    },
    {
     "name": "stderr",
     "output_type": "stream",
     "text": [
      "      53/60         0G     0.3884     0.4317     0.8609         16        640: 100%|██████████| 95/95 [19:45<00:00, 12.48s/it]\n",
      "                 Class     Images  Instances      Box(P          R      mAP50  mAP50-95): 100%|██████████| 2/2 [00:21<00:00, 10.79s/it]"
     ]
    },
    {
     "name": "stdout",
     "output_type": "stream",
     "text": [
      "                   all         63        147      0.706      0.651      0.675      0.404\n"
     ]
    },
    {
     "name": "stderr",
     "output_type": "stream",
     "text": [
      "\n"
     ]
    },
    {
     "name": "stdout",
     "output_type": "stream",
     "text": [
      "\n",
      "      Epoch    GPU_mem   box_loss   cls_loss   dfl_loss  Instances       Size\n"
     ]
    },
    {
     "name": "stderr",
     "output_type": "stream",
     "text": [
      "      54/60         0G     0.3842     0.4446     0.8675         19        640: 100%|██████████| 95/95 [19:55<00:00, 12.58s/it]\n",
      "                 Class     Images  Instances      Box(P          R      mAP50  mAP50-95): 100%|██████████| 2/2 [00:21<00:00, 10.93s/it]"
     ]
    },
    {
     "name": "stdout",
     "output_type": "stream",
     "text": [
      "                   all         63        147      0.728      0.657      0.676      0.421\n"
     ]
    },
    {
     "name": "stderr",
     "output_type": "stream",
     "text": [
      "\n"
     ]
    },
    {
     "name": "stdout",
     "output_type": "stream",
     "text": [
      "\n",
      "      Epoch    GPU_mem   box_loss   cls_loss   dfl_loss  Instances       Size\n"
     ]
    },
    {
     "name": "stderr",
     "output_type": "stream",
     "text": [
      "      55/60         0G     0.3728     0.4196     0.8649         61        640: 100%|██████████| 95/95 [19:47<00:00, 12.50s/it]\n",
      "                 Class     Images  Instances      Box(P          R      mAP50  mAP50-95): 100%|██████████| 2/2 [00:22<00:00, 11.08s/it]"
     ]
    },
    {
     "name": "stdout",
     "output_type": "stream",
     "text": [
      "                   all         63        147      0.738      0.651      0.689      0.422\n"
     ]
    },
    {
     "name": "stderr",
     "output_type": "stream",
     "text": [
      "\n"
     ]
    },
    {
     "name": "stdout",
     "output_type": "stream",
     "text": [
      "\n",
      "      Epoch    GPU_mem   box_loss   cls_loss   dfl_loss  Instances       Size\n"
     ]
    },
    {
     "name": "stderr",
     "output_type": "stream",
     "text": [
      "      56/60         0G      0.398     0.3903     0.8803         59        640:  11%|█         | 10/95 [02:07<17:57, 12.68s/it]Retrying (Retry(total=237, connect=237, read=240, redirect=240, status=240)) after connection broken by 'NameResolutionError(\"<urllib3.connection.HTTPSConnection object at 0x000001A9A524F850>: Failed to resolve 'api.clear.ml' ([Errno 11001] getaddrinfo failed)\")': /v2.23/tasks.get_all\n",
      "Retrying (Retry(total=237, connect=237, read=240, redirect=240, status=240)) after connection broken by 'NameResolutionError(\"<urllib3.connection.HTTPSConnection object at 0x000001A9A524E530>: Failed to resolve 'api.clear.ml' ([Errno 11001] getaddrinfo failed)\")': /v2.23/tasks.get_all\n",
      "Retrying (Retry(total=237, connect=237, read=240, redirect=240, status=240)) after connection broken by 'NameResolutionError(\"<urllib3.connection.HTTPSConnection object at 0x000001A99FC90DC0>: Failed to resolve 'api.clear.ml' ([Errno 11001] getaddrinfo failed)\")': /v2.23/events.add_batch\n",
      "      56/60         0G     0.3898     0.3847     0.8757         26        640:  12%|█▏        | 11/95 [02:19<17:45, 12.69s/it]Retrying (Retry(total=236, connect=236, read=240, redirect=240, status=240)) after connection broken by 'NameResolutionError(\"<urllib3.connection.HTTPSConnection object at 0x000001A99FC91E40>: Failed to resolve 'api.clear.ml' ([Errno 11001] getaddrinfo failed)\")': /v2.23/tasks.get_all\n",
      "Retrying (Retry(total=236, connect=236, read=240, redirect=240, status=240)) after connection broken by 'NameResolutionError(\"<urllib3.connection.HTTPSConnection object at 0x000001A99FC91270>: Failed to resolve 'api.clear.ml' ([Errno 11001] getaddrinfo failed)\")': /v2.23/tasks.get_all\n",
      "Retrying (Retry(total=236, connect=236, read=240, redirect=240, status=240)) after connection broken by 'NameResolutionError(\"<urllib3.connection.HTTPSConnection object at 0x000001A9A24FE800>: Failed to resolve 'api.clear.ml' ([Errno 11001] getaddrinfo failed)\")': /v2.23/events.add_batch\n",
      "      56/60         0G     0.3821     0.3786     0.8707         24        640:  13%|█▎        | 12/95 [02:32<17:42, 12.80s/it]Retrying (Retry(total=235, connect=235, read=240, redirect=240, status=240)) after connection broken by 'NameResolutionError(\"<urllib3.connection.HTTPSConnection object at 0x000001A9A24FD930>: Failed to resolve 'api.clear.ml' ([Errno 11001] getaddrinfo failed)\")': /v2.23/tasks.get_all\n",
      "Retrying (Retry(total=235, connect=235, read=240, redirect=240, status=240)) after connection broken by 'NameResolutionError(\"<urllib3.connection.HTTPSConnection object at 0x000001A9A24FD6F0>: Failed to resolve 'api.clear.ml' ([Errno 11001] getaddrinfo failed)\")': /v2.23/tasks.get_all\n",
      "Retrying (Retry(total=235, connect=235, read=240, redirect=240, status=240)) after connection broken by 'NameResolutionError(\"<urllib3.connection.HTTPSConnection object at 0x000001A9A24FEFB0>: Failed to resolve 'api.clear.ml' ([Errno 11001] getaddrinfo failed)\")': /v2.23/events.add_batch\n",
      "      56/60         0G     0.3588     0.4266     0.8537         32        640: 100%|██████████| 95/95 [20:51<00:00, 13.17s/it]\n",
      "                 Class     Images  Instances      Box(P          R      mAP50  mAP50-95): 100%|██████████| 2/2 [00:25<00:00, 12.68s/it]"
     ]
    },
    {
     "name": "stdout",
     "output_type": "stream",
     "text": [
      "                   all         63        147      0.787      0.636        0.7      0.429\n"
     ]
    },
    {
     "name": "stderr",
     "output_type": "stream",
     "text": [
      "\n"
     ]
    },
    {
     "name": "stdout",
     "output_type": "stream",
     "text": [
      "\n",
      "      Epoch    GPU_mem   box_loss   cls_loss   dfl_loss  Instances       Size\n"
     ]
    },
    {
     "name": "stderr",
     "output_type": "stream",
     "text": [
      "      57/60         0G     0.3536     0.4262     0.8496         11        640: 100%|██████████| 95/95 [23:31<00:00, 14.86s/it]\n",
      "                 Class     Images  Instances      Box(P          R      mAP50  mAP50-95): 100%|██████████| 2/2 [00:26<00:00, 13.05s/it]"
     ]
    },
    {
     "name": "stdout",
     "output_type": "stream",
     "text": [
      "                   all         63        147      0.705      0.664      0.683      0.425\n"
     ]
    },
    {
     "name": "stderr",
     "output_type": "stream",
     "text": [
      "\n"
     ]
    },
    {
     "name": "stdout",
     "output_type": "stream",
     "text": [
      "\n",
      "      Epoch    GPU_mem   box_loss   cls_loss   dfl_loss  Instances       Size\n"
     ]
    },
    {
     "name": "stderr",
     "output_type": "stream",
     "text": [
      "      58/60         0G     0.3487     0.4045     0.8581         67        640: 100%|██████████| 95/95 [22:52<00:00, 14.45s/it]\n",
      "                 Class     Images  Instances      Box(P          R      mAP50  mAP50-95): 100%|██████████| 2/2 [00:28<00:00, 14.05s/it]"
     ]
    },
    {
     "name": "stdout",
     "output_type": "stream",
     "text": [
      "                   all         63        147      0.694       0.67      0.686      0.434\n"
     ]
    },
    {
     "name": "stderr",
     "output_type": "stream",
     "text": [
      "\n"
     ]
    },
    {
     "name": "stdout",
     "output_type": "stream",
     "text": [
      "\n",
      "      Epoch    GPU_mem   box_loss   cls_loss   dfl_loss  Instances       Size\n"
     ]
    },
    {
     "name": "stderr",
     "output_type": "stream",
     "text": [
      "      59/60         0G     0.3521     0.3908      0.856         47        640:  46%|████▋     | 44/95 [10:03<11:37, 13.67s/it]Retrying (Retry(total=237, connect=240, read=237, redirect=240, status=240)) after connection broken by 'ReadTimeoutError(\"HTTPSConnectionPool(host='api.clear.ml', port=443): Read timed out. (read timeout=10.0)\")': /v2.23/events.add_batch\n",
      "      59/60         0G     0.3425     0.4123      0.852         43        640: 100%|██████████| 95/95 [22:15<00:00, 14.05s/it]\n",
      "                 Class     Images  Instances      Box(P          R      mAP50  mAP50-95): 100%|██████████| 2/2 [00:26<00:00, 13.14s/it]"
     ]
    },
    {
     "name": "stdout",
     "output_type": "stream",
     "text": [
      "                   all         63        147      0.731       0.67      0.696      0.445\n"
     ]
    },
    {
     "name": "stderr",
     "output_type": "stream",
     "text": [
      "\n"
     ]
    },
    {
     "name": "stdout",
     "output_type": "stream",
     "text": [
      "\n",
      "      Epoch    GPU_mem   box_loss   cls_loss   dfl_loss  Instances       Size\n"
     ]
    },
    {
     "name": "stderr",
     "output_type": "stream",
     "text": [
      "      60/60         0G      0.329     0.3895     0.8466         19        640: 100%|██████████| 95/95 [23:02<00:00, 14.55s/it]\n",
      "                 Class     Images  Instances      Box(P          R      mAP50  mAP50-95): 100%|██████████| 2/2 [00:26<00:00, 13.05s/it]"
     ]
    },
    {
     "name": "stdout",
     "output_type": "stream",
     "text": [
      "                   all         63        147      0.694      0.675      0.693      0.442\n"
     ]
    },
    {
     "name": "stderr",
     "output_type": "stream",
     "text": [
      "\n"
     ]
    },
    {
     "name": "stdout",
     "output_type": "stream",
     "text": [
      "\n",
      "60 epochs completed in 22.125 hours.\n",
      "Optimizer stripped from runs\\detect\\train\\weights\\last.pt, 6.3MB\n",
      "Optimizer stripped from runs\\detect\\train\\weights\\best.pt, 6.3MB\n",
      "\n",
      "Validating runs\\detect\\train\\weights\\best.pt...\n",
      "Ultralytics YOLOv8.2.28  Python-3.10.8 torch-2.3.0+cpu CPU (AMD Ryzen 9 4900HS with Radeon Graphics)\n",
      "YOLOv8 summary (fused): 168 layers, 3006233 parameters, 0 gradients, 8.1 GFLOPs\n"
     ]
    },
    {
     "name": "stderr",
     "output_type": "stream",
     "text": [
      "                 Class     Images  Instances      Box(P          R      mAP50  mAP50-95): 100%|██████████| 2/2 [00:21<00:00, 10.98s/it]\n"
     ]
    },
    {
     "name": "stdout",
     "output_type": "stream",
     "text": [
      "                   all         63        147       0.73       0.67      0.694      0.444\n",
      "                 beads         17         69      0.855      0.826      0.905      0.595\n",
      "                fibers         44         60      0.696      0.683      0.713       0.39\n",
      "             fragments          9         18      0.638        0.5      0.464      0.346\n",
      "Speed: 5.7ms preprocess, 330.2ms inference, 0.0ms loss, 0.5ms postprocess per image\n",
      "Results saved to \u001b[1mruns\\detect\\train\u001b[0m\n",
      "2024-06-17 21:35:17,963 - clearml.storage - INFO - Starting upload: runs\\detect\\train\\weights\\best.pt => https://files.clear.ml/YOLOv8/train.5b84cacb3379476ca4d7a0692f1c7d83/models/best.pt\n"
     ]
    },
    {
     "name": "stderr",
     "output_type": "stream",
     "text": [
      "\u001b[1;38;5;39mCOMET INFO:\u001b[0m ---------------------------------------------------------------------------------------\n",
      "\u001b[1;38;5;39mCOMET INFO:\u001b[0m Comet.ml Experiment Summary\n",
      "\u001b[1;38;5;39mCOMET INFO:\u001b[0m ---------------------------------------------------------------------------------------\n",
      "\u001b[1;38;5;39mCOMET INFO:\u001b[0m   Data:\n",
      "\u001b[1;38;5;39mCOMET INFO:\u001b[0m     display_summary_level : 1\n",
      "\u001b[1;38;5;39mCOMET INFO:\u001b[0m     url                   : https://www.comet.com/hazywho/general/c7fefbc93e454865a01bf5bbb962ffa9\n",
      "\u001b[1;38;5;39mCOMET INFO:\u001b[0m   Metrics [count] (min, max):\n",
      "\u001b[1;38;5;39mCOMET INFO:\u001b[0m     lr/pg0 [121]               : (3.786850000000007e-05, 0.0013769944280701753)\n",
      "\u001b[1;38;5;39mCOMET INFO:\u001b[0m     lr/pg1 [121]               : (3.786850000000007e-05, 0.0013769944280701753)\n",
      "\u001b[1;38;5;39mCOMET INFO:\u001b[0m     lr/pg2 [121]               : (3.786850000000007e-05, 0.0013769944280701753)\n",
      "\u001b[1;38;5;39mCOMET INFO:\u001b[0m     metrics/mAP50(B) [122]     : (0.30945, 0.71484)\n",
      "\u001b[1;38;5;39mCOMET INFO:\u001b[0m     metrics/mAP50-95(B) [122]  : (0.17199, 0.44465)\n",
      "\u001b[1;38;5;39mCOMET INFO:\u001b[0m     metrics/precision(B) [122] : (0.36641, 0.83996)\n",
      "\u001b[1;38;5;39mCOMET INFO:\u001b[0m     metrics/recall(B) [122]    : (0.25838, 0.72711)\n",
      "\u001b[1;38;5;39mCOMET INFO:\u001b[0m     model/GFLOPs               : 8.196\n",
      "\u001b[1;38;5;39mCOMET INFO:\u001b[0m     model/parameters           : 3011433\n",
      "\u001b[1;38;5;39mCOMET INFO:\u001b[0m     model/speed_PyTorch(ms)    : 317.155\n",
      "\u001b[1;38;5;39mCOMET INFO:\u001b[0m     train/box_loss [120]       : (0.32904, 1.32482)\n",
      "\u001b[1;38;5;39mCOMET INFO:\u001b[0m     train/cls_loss [120]       : (0.38953, 2.4656)\n",
      "\u001b[1;38;5;39mCOMET INFO:\u001b[0m     train/dfl_loss [120]       : (0.84663, 1.36246)\n",
      "\u001b[1;38;5;39mCOMET INFO:\u001b[0m     val/box_loss [120]         : (1.33051, 1.76208)\n",
      "\u001b[1;38;5;39mCOMET INFO:\u001b[0m     val/cls_loss [120]         : (1.00315, 2.92953)\n",
      "\u001b[1;38;5;39mCOMET INFO:\u001b[0m     val/dfl_loss [120]         : (1.45597, 1.93904)\n",
      "\u001b[1;38;5;39mCOMET INFO:\u001b[0m   Others:\n",
      "\u001b[1;38;5;39mCOMET INFO:\u001b[0m     eval_batch_logging_interval  : 1\n",
      "\u001b[1;38;5;39mCOMET INFO:\u001b[0m     log_confusion_matrix_on_eval : False\n",
      "\u001b[1;38;5;39mCOMET INFO:\u001b[0m     log_image_predictions        : True\n",
      "\u001b[1;38;5;39mCOMET INFO:\u001b[0m     max_image_predictions        : 100\n",
      "\u001b[1;38;5;39mCOMET INFO:\u001b[0m   Parameters:\n",
      "\u001b[1;38;5;39mCOMET INFO:\u001b[0m     agnostic_nms    : False\n",
      "\u001b[1;38;5;39mCOMET INFO:\u001b[0m     amp             : True\n",
      "\u001b[1;38;5;39mCOMET INFO:\u001b[0m     augment         : False\n",
      "\u001b[1;38;5;39mCOMET INFO:\u001b[0m     auto_augment    : randaugment\n",
      "\u001b[1;38;5;39mCOMET INFO:\u001b[0m     batch           : 16\n",
      "\u001b[1;38;5;39mCOMET INFO:\u001b[0m     bgr             : 0.0\n",
      "\u001b[1;38;5;39mCOMET INFO:\u001b[0m     box             : 7.5\n",
      "\u001b[1;38;5;39mCOMET INFO:\u001b[0m     cache           : False\n",
      "\u001b[1;38;5;39mCOMET INFO:\u001b[0m     cfg             : 1\n",
      "\u001b[1;38;5;39mCOMET INFO:\u001b[0m     classes         : 1\n",
      "\u001b[1;38;5;39mCOMET INFO:\u001b[0m     close_mosaic    : 10\n",
      "\u001b[1;38;5;39mCOMET INFO:\u001b[0m     cls             : 0.5\n",
      "\u001b[1;38;5;39mCOMET INFO:\u001b[0m     conf            : 1\n",
      "\u001b[1;38;5;39mCOMET INFO:\u001b[0m     copy_paste      : 0.0\n",
      "\u001b[1;38;5;39mCOMET INFO:\u001b[0m     cos_lr          : False\n",
      "\u001b[1;38;5;39mCOMET INFO:\u001b[0m     crop_fraction   : 1.0\n",
      "\u001b[1;38;5;39mCOMET INFO:\u001b[0m     data            : C:\\Users\\zanyi\\OneDrive\\Git hub\\Ai\\YIC3(2)\\Microplastic-Detection-2\\data.yaml\n",
      "\u001b[1;38;5;39mCOMET INFO:\u001b[0m     degrees         : 0.0\n",
      "\u001b[1;38;5;39mCOMET INFO:\u001b[0m     deterministic   : True\n",
      "\u001b[1;38;5;39mCOMET INFO:\u001b[0m     device          : 1\n",
      "\u001b[1;38;5;39mCOMET INFO:\u001b[0m     dfl             : 1.5\n",
      "\u001b[1;38;5;39mCOMET INFO:\u001b[0m     dnn             : False\n",
      "\u001b[1;38;5;39mCOMET INFO:\u001b[0m     dropout         : 0.0\n",
      "\u001b[1;38;5;39mCOMET INFO:\u001b[0m     dynamic         : False\n",
      "\u001b[1;38;5;39mCOMET INFO:\u001b[0m     embed           : 1\n",
      "\u001b[1;38;5;39mCOMET INFO:\u001b[0m     epochs          : 60\n",
      "\u001b[1;38;5;39mCOMET INFO:\u001b[0m     erasing         : 0.4\n",
      "\u001b[1;38;5;39mCOMET INFO:\u001b[0m     exist_ok        : False\n",
      "\u001b[1;38;5;39mCOMET INFO:\u001b[0m     fliplr          : 0.5\n",
      "\u001b[1;38;5;39mCOMET INFO:\u001b[0m     flipud          : 0.0\n",
      "\u001b[1;38;5;39mCOMET INFO:\u001b[0m     format          : torchscript\n",
      "\u001b[1;38;5;39mCOMET INFO:\u001b[0m     fraction        : 1.0\n",
      "\u001b[1;38;5;39mCOMET INFO:\u001b[0m     freeze          : 1\n",
      "\u001b[1;38;5;39mCOMET INFO:\u001b[0m     half            : False\n",
      "\u001b[1;38;5;39mCOMET INFO:\u001b[0m     hsv_h           : 0.015\n",
      "\u001b[1;38;5;39mCOMET INFO:\u001b[0m     hsv_s           : 0.7\n",
      "\u001b[1;38;5;39mCOMET INFO:\u001b[0m     hsv_v           : 0.4\n",
      "\u001b[1;38;5;39mCOMET INFO:\u001b[0m     imgsz           : 640\n",
      "\u001b[1;38;5;39mCOMET INFO:\u001b[0m     int8            : False\n",
      "\u001b[1;38;5;39mCOMET INFO:\u001b[0m     iou             : 0.7\n",
      "\u001b[1;38;5;39mCOMET INFO:\u001b[0m     keras           : False\n",
      "\u001b[1;38;5;39mCOMET INFO:\u001b[0m     kobj            : 1.0\n",
      "\u001b[1;38;5;39mCOMET INFO:\u001b[0m     label_smoothing : 0.0\n",
      "\u001b[1;38;5;39mCOMET INFO:\u001b[0m     line_width      : 1\n",
      "\u001b[1;38;5;39mCOMET INFO:\u001b[0m     lr0             : 0.01\n",
      "\u001b[1;38;5;39mCOMET INFO:\u001b[0m     lrf             : 0.01\n",
      "\u001b[1;38;5;39mCOMET INFO:\u001b[0m     mask_ratio      : 4\n",
      "\u001b[1;38;5;39mCOMET INFO:\u001b[0m     max_det         : 300\n",
      "\u001b[1;38;5;39mCOMET INFO:\u001b[0m     mixup           : 0.0\n",
      "\u001b[1;38;5;39mCOMET INFO:\u001b[0m     mode            : train\n",
      "\u001b[1;38;5;39mCOMET INFO:\u001b[0m     model           : yolov8.yaml\n",
      "\u001b[1;38;5;39mCOMET INFO:\u001b[0m     momentum        : 0.937\n",
      "\u001b[1;38;5;39mCOMET INFO:\u001b[0m     mosaic          : 1.0\n",
      "\u001b[1;38;5;39mCOMET INFO:\u001b[0m     multi_scale     : False\n",
      "\u001b[1;38;5;39mCOMET INFO:\u001b[0m     name            : train\n",
      "\u001b[1;38;5;39mCOMET INFO:\u001b[0m     nbs             : 64\n",
      "\u001b[1;38;5;39mCOMET INFO:\u001b[0m     nms             : False\n",
      "\u001b[1;38;5;39mCOMET INFO:\u001b[0m     opset           : 1\n",
      "\u001b[1;38;5;39mCOMET INFO:\u001b[0m     optimize        : False\n",
      "\u001b[1;38;5;39mCOMET INFO:\u001b[0m     optimizer       : auto\n",
      "\u001b[1;38;5;39mCOMET INFO:\u001b[0m     overlap_mask    : True\n",
      "\u001b[1;38;5;39mCOMET INFO:\u001b[0m     patience        : 100\n",
      "\u001b[1;38;5;39mCOMET INFO:\u001b[0m     perspective     : 0.0\n",
      "\u001b[1;38;5;39mCOMET INFO:\u001b[0m     plots           : True\n",
      "\u001b[1;38;5;39mCOMET INFO:\u001b[0m     pose            : 12.0\n",
      "\u001b[1;38;5;39mCOMET INFO:\u001b[0m     pretrained      : True\n",
      "\u001b[1;38;5;39mCOMET INFO:\u001b[0m     profile         : False\n",
      "\u001b[1;38;5;39mCOMET INFO:\u001b[0m     project         : 1\n",
      "\u001b[1;38;5;39mCOMET INFO:\u001b[0m     rect            : False\n",
      "\u001b[1;38;5;39mCOMET INFO:\u001b[0m     resume          : False\n",
      "\u001b[1;38;5;39mCOMET INFO:\u001b[0m     retina_masks    : False\n",
      "\u001b[1;38;5;39mCOMET INFO:\u001b[0m     save            : True\n",
      "\u001b[1;38;5;39mCOMET INFO:\u001b[0m     save_conf       : False\n",
      "\u001b[1;38;5;39mCOMET INFO:\u001b[0m     save_crop       : False\n",
      "\u001b[1;38;5;39mCOMET INFO:\u001b[0m     save_dir        : runs\\detect\\train\n",
      "\u001b[1;38;5;39mCOMET INFO:\u001b[0m     save_frames     : False\n",
      "\u001b[1;38;5;39mCOMET INFO:\u001b[0m     save_hybrid     : False\n",
      "\u001b[1;38;5;39mCOMET INFO:\u001b[0m     save_json       : False\n",
      "\u001b[1;38;5;39mCOMET INFO:\u001b[0m     save_period     : -1\n",
      "\u001b[1;38;5;39mCOMET INFO:\u001b[0m     save_txt        : False\n",
      "\u001b[1;38;5;39mCOMET INFO:\u001b[0m     scale           : 0.5\n",
      "\u001b[1;38;5;39mCOMET INFO:\u001b[0m     seed            : 0\n",
      "\u001b[1;38;5;39mCOMET INFO:\u001b[0m     shear           : 0.0\n",
      "\u001b[1;38;5;39mCOMET INFO:\u001b[0m     show            : False\n",
      "\u001b[1;38;5;39mCOMET INFO:\u001b[0m     show_boxes      : True\n",
      "\u001b[1;38;5;39mCOMET INFO:\u001b[0m     show_conf       : True\n",
      "\u001b[1;38;5;39mCOMET INFO:\u001b[0m     show_labels     : True\n",
      "\u001b[1;38;5;39mCOMET INFO:\u001b[0m     simplify        : False\n",
      "\u001b[1;38;5;39mCOMET INFO:\u001b[0m     single_cls      : False\n",
      "\u001b[1;38;5;39mCOMET INFO:\u001b[0m     source          : 1\n",
      "\u001b[1;38;5;39mCOMET INFO:\u001b[0m     split           : val\n",
      "\u001b[1;38;5;39mCOMET INFO:\u001b[0m     stream_buffer   : False\n",
      "\u001b[1;38;5;39mCOMET INFO:\u001b[0m     task            : detect\n",
      "\u001b[1;38;5;39mCOMET INFO:\u001b[0m     time            : 1\n",
      "\u001b[1;38;5;39mCOMET INFO:\u001b[0m     tracker         : botsort.yaml\n",
      "\u001b[1;38;5;39mCOMET INFO:\u001b[0m     translate       : 0.1\n",
      "\u001b[1;38;5;39mCOMET INFO:\u001b[0m     val             : True\n",
      "\u001b[1;38;5;39mCOMET INFO:\u001b[0m     verbose         : True\n",
      "\u001b[1;38;5;39mCOMET INFO:\u001b[0m     vid_stride      : 1\n",
      "\u001b[1;38;5;39mCOMET INFO:\u001b[0m     visualize       : False\n",
      "\u001b[1;38;5;39mCOMET INFO:\u001b[0m     warmup_bias_lr  : 0.1\n",
      "\u001b[1;38;5;39mCOMET INFO:\u001b[0m     warmup_epochs   : 3.0\n",
      "\u001b[1;38;5;39mCOMET INFO:\u001b[0m     warmup_momentum : 0.8\n",
      "\u001b[1;38;5;39mCOMET INFO:\u001b[0m     weight_decay    : 0.0005\n",
      "\u001b[1;38;5;39mCOMET INFO:\u001b[0m     workers         : 0\n",
      "\u001b[1;38;5;39mCOMET INFO:\u001b[0m     workspace       : 4\n",
      "\u001b[1;38;5;39mCOMET INFO:\u001b[0m   Uploads:\n",
      "\u001b[1;38;5;39mCOMET INFO:\u001b[0m     confusion-matrix         : 1\n",
      "\u001b[1;38;5;39mCOMET INFO:\u001b[0m     environment details      : 1\n",
      "\u001b[1;38;5;39mCOMET INFO:\u001b[0m     filename                 : 1\n",
      "\u001b[1;38;5;39mCOMET INFO:\u001b[0m     git metadata             : 1\n",
      "\u001b[1;38;5;39mCOMET INFO:\u001b[0m     git-patch (uncompressed) : 1 (287.00 KB)\n",
      "\u001b[1;38;5;39mCOMET INFO:\u001b[0m     images                   : 10\n",
      "\u001b[1;38;5;39mCOMET INFO:\u001b[0m     installed packages       : 1\n",
      "\u001b[1;38;5;39mCOMET INFO:\u001b[0m     model-element            : 1 (5.96 MB)\n",
      "\u001b[1;38;5;39mCOMET INFO:\u001b[0m     notebook                 : 1\n",
      "\u001b[1;38;5;39mCOMET INFO:\u001b[0m     source_code              : 1\n",
      "\u001b[1;38;5;39mCOMET INFO:\u001b[0m \n",
      "\u001b[1;38;5;214mCOMET WARNING:\u001b[0m To get all data logged automatically, import comet_ml before the following modules: torch.\n",
      "\u001b[1;38;5;39mCOMET INFO:\u001b[0m Using 'c:\\\\Users\\\\zanyi\\\\OneDrive\\\\Git hub\\\\Ai\\\\YIC3(2)\\\\.cometml-runs' path as offline directory. Pass 'offline_directory' parameter into constructor or set the 'COMET_OFFLINE_DIRECTORY' environment variable to manually choose where to store offline experiment archives.\n",
      "\u001b[1;38;5;214mCOMET WARNING:\u001b[0m Could not send live data to Comet during experiment runtime. An offline experiment will be available for upload:\n",
      "    comet upload --force-reupload c:\\Users\\zanyi\\OneDrive\\Git hub\\Ai\\YIC3(2)\\.cometml-runs\\c7fefbc93e454865a01bf5bbb962ffa9-HkbORK.zip\n"
     ]
    },
    {
     "data": {
      "text/plain": [
       "ultralytics.utils.metrics.DetMetrics object with attributes:\n",
       "\n",
       "ap_class_index: array([0, 1, 2])\n",
       "box: ultralytics.utils.metrics.Metric object\n",
       "confusion_matrix: <ultralytics.utils.metrics.ConfusionMatrix object at 0x000001A99F5678B0>\n",
       "curves: ['Precision-Recall(B)', 'F1-Confidence(B)', 'Precision-Confidence(B)', 'Recall-Confidence(B)']\n",
       "curves_results: [[array([          0,    0.001001,    0.002002,    0.003003,    0.004004,    0.005005,    0.006006,    0.007007,    0.008008,    0.009009,     0.01001,    0.011011,    0.012012,    0.013013,    0.014014,    0.015015,    0.016016,    0.017017,    0.018018,    0.019019,     0.02002,    0.021021,    0.022022,    0.023023,\n",
       "          0.024024,    0.025025,    0.026026,    0.027027,    0.028028,    0.029029,     0.03003,    0.031031,    0.032032,    0.033033,    0.034034,    0.035035,    0.036036,    0.037037,    0.038038,    0.039039,     0.04004,    0.041041,    0.042042,    0.043043,    0.044044,    0.045045,    0.046046,    0.047047,\n",
       "          0.048048,    0.049049,     0.05005,    0.051051,    0.052052,    0.053053,    0.054054,    0.055055,    0.056056,    0.057057,    0.058058,    0.059059,     0.06006,    0.061061,    0.062062,    0.063063,    0.064064,    0.065065,    0.066066,    0.067067,    0.068068,    0.069069,     0.07007,    0.071071,\n",
       "          0.072072,    0.073073,    0.074074,    0.075075,    0.076076,    0.077077,    0.078078,    0.079079,     0.08008,    0.081081,    0.082082,    0.083083,    0.084084,    0.085085,    0.086086,    0.087087,    0.088088,    0.089089,     0.09009,    0.091091,    0.092092,    0.093093,    0.094094,    0.095095,\n",
       "          0.096096,    0.097097,    0.098098,    0.099099,      0.1001,      0.1011,      0.1021,      0.1031,      0.1041,     0.10511,     0.10611,     0.10711,     0.10811,     0.10911,     0.11011,     0.11111,     0.11211,     0.11311,     0.11411,     0.11512,     0.11612,     0.11712,     0.11812,     0.11912,\n",
       "           0.12012,     0.12112,     0.12212,     0.12312,     0.12412,     0.12513,     0.12613,     0.12713,     0.12813,     0.12913,     0.13013,     0.13113,     0.13213,     0.13313,     0.13413,     0.13514,     0.13614,     0.13714,     0.13814,     0.13914,     0.14014,     0.14114,     0.14214,     0.14314,\n",
       "           0.14414,     0.14515,     0.14615,     0.14715,     0.14815,     0.14915,     0.15015,     0.15115,     0.15215,     0.15315,     0.15415,     0.15516,     0.15616,     0.15716,     0.15816,     0.15916,     0.16016,     0.16116,     0.16216,     0.16316,     0.16416,     0.16517,     0.16617,     0.16717,\n",
       "           0.16817,     0.16917,     0.17017,     0.17117,     0.17217,     0.17317,     0.17417,     0.17518,     0.17618,     0.17718,     0.17818,     0.17918,     0.18018,     0.18118,     0.18218,     0.18318,     0.18418,     0.18519,     0.18619,     0.18719,     0.18819,     0.18919,     0.19019,     0.19119,\n",
       "           0.19219,     0.19319,     0.19419,      0.1952,      0.1962,      0.1972,      0.1982,      0.1992,      0.2002,      0.2012,      0.2022,      0.2032,      0.2042,     0.20521,     0.20621,     0.20721,     0.20821,     0.20921,     0.21021,     0.21121,     0.21221,     0.21321,     0.21421,     0.21522,\n",
       "           0.21622,     0.21722,     0.21822,     0.21922,     0.22022,     0.22122,     0.22222,     0.22322,     0.22422,     0.22523,     0.22623,     0.22723,     0.22823,     0.22923,     0.23023,     0.23123,     0.23223,     0.23323,     0.23423,     0.23524,     0.23624,     0.23724,     0.23824,     0.23924,\n",
       "           0.24024,     0.24124,     0.24224,     0.24324,     0.24424,     0.24525,     0.24625,     0.24725,     0.24825,     0.24925,     0.25025,     0.25125,     0.25225,     0.25325,     0.25425,     0.25526,     0.25626,     0.25726,     0.25826,     0.25926,     0.26026,     0.26126,     0.26226,     0.26326,\n",
       "           0.26426,     0.26527,     0.26627,     0.26727,     0.26827,     0.26927,     0.27027,     0.27127,     0.27227,     0.27327,     0.27427,     0.27528,     0.27628,     0.27728,     0.27828,     0.27928,     0.28028,     0.28128,     0.28228,     0.28328,     0.28428,     0.28529,     0.28629,     0.28729,\n",
       "           0.28829,     0.28929,     0.29029,     0.29129,     0.29229,     0.29329,     0.29429,      0.2953,      0.2963,      0.2973,      0.2983,      0.2993,      0.3003,      0.3013,      0.3023,      0.3033,      0.3043,     0.30531,     0.30631,     0.30731,     0.30831,     0.30931,     0.31031,     0.31131,\n",
       "           0.31231,     0.31331,     0.31431,     0.31532,     0.31632,     0.31732,     0.31832,     0.31932,     0.32032,     0.32132,     0.32232,     0.32332,     0.32432,     0.32533,     0.32633,     0.32733,     0.32833,     0.32933,     0.33033,     0.33133,     0.33233,     0.33333,     0.33433,     0.33534,\n",
       "           0.33634,     0.33734,     0.33834,     0.33934,     0.34034,     0.34134,     0.34234,     0.34334,     0.34434,     0.34535,     0.34635,     0.34735,     0.34835,     0.34935,     0.35035,     0.35135,     0.35235,     0.35335,     0.35435,     0.35536,     0.35636,     0.35736,     0.35836,     0.35936,\n",
       "           0.36036,     0.36136,     0.36236,     0.36336,     0.36436,     0.36537,     0.36637,     0.36737,     0.36837,     0.36937,     0.37037,     0.37137,     0.37237,     0.37337,     0.37437,     0.37538,     0.37638,     0.37738,     0.37838,     0.37938,     0.38038,     0.38138,     0.38238,     0.38338,\n",
       "           0.38438,     0.38539,     0.38639,     0.38739,     0.38839,     0.38939,     0.39039,     0.39139,     0.39239,     0.39339,     0.39439,      0.3954,      0.3964,      0.3974,      0.3984,      0.3994,      0.4004,      0.4014,      0.4024,      0.4034,      0.4044,     0.40541,     0.40641,     0.40741,\n",
       "           0.40841,     0.40941,     0.41041,     0.41141,     0.41241,     0.41341,     0.41441,     0.41542,     0.41642,     0.41742,     0.41842,     0.41942,     0.42042,     0.42142,     0.42242,     0.42342,     0.42442,     0.42543,     0.42643,     0.42743,     0.42843,     0.42943,     0.43043,     0.43143,\n",
       "           0.43243,     0.43343,     0.43443,     0.43544,     0.43644,     0.43744,     0.43844,     0.43944,     0.44044,     0.44144,     0.44244,     0.44344,     0.44444,     0.44545,     0.44645,     0.44745,     0.44845,     0.44945,     0.45045,     0.45145,     0.45245,     0.45345,     0.45445,     0.45546,\n",
       "           0.45646,     0.45746,     0.45846,     0.45946,     0.46046,     0.46146,     0.46246,     0.46346,     0.46446,     0.46547,     0.46647,     0.46747,     0.46847,     0.46947,     0.47047,     0.47147,     0.47247,     0.47347,     0.47447,     0.47548,     0.47648,     0.47748,     0.47848,     0.47948,\n",
       "           0.48048,     0.48148,     0.48248,     0.48348,     0.48448,     0.48549,     0.48649,     0.48749,     0.48849,     0.48949,     0.49049,     0.49149,     0.49249,     0.49349,     0.49449,      0.4955,      0.4965,      0.4975,      0.4985,      0.4995,      0.5005,      0.5015,      0.5025,      0.5035,\n",
       "            0.5045,     0.50551,     0.50651,     0.50751,     0.50851,     0.50951,     0.51051,     0.51151,     0.51251,     0.51351,     0.51451,     0.51552,     0.51652,     0.51752,     0.51852,     0.51952,     0.52052,     0.52152,     0.52252,     0.52352,     0.52452,     0.52553,     0.52653,     0.52753,\n",
       "           0.52853,     0.52953,     0.53053,     0.53153,     0.53253,     0.53353,     0.53453,     0.53554,     0.53654,     0.53754,     0.53854,     0.53954,     0.54054,     0.54154,     0.54254,     0.54354,     0.54454,     0.54555,     0.54655,     0.54755,     0.54855,     0.54955,     0.55055,     0.55155,\n",
       "           0.55255,     0.55355,     0.55455,     0.55556,     0.55656,     0.55756,     0.55856,     0.55956,     0.56056,     0.56156,     0.56256,     0.56356,     0.56456,     0.56557,     0.56657,     0.56757,     0.56857,     0.56957,     0.57057,     0.57157,     0.57257,     0.57357,     0.57457,     0.57558,\n",
       "           0.57658,     0.57758,     0.57858,     0.57958,     0.58058,     0.58158,     0.58258,     0.58358,     0.58458,     0.58559,     0.58659,     0.58759,     0.58859,     0.58959,     0.59059,     0.59159,     0.59259,     0.59359,     0.59459,      0.5956,      0.5966,      0.5976,      0.5986,      0.5996,\n",
       "            0.6006,      0.6016,      0.6026,      0.6036,      0.6046,     0.60561,     0.60661,     0.60761,     0.60861,     0.60961,     0.61061,     0.61161,     0.61261,     0.61361,     0.61461,     0.61562,     0.61662,     0.61762,     0.61862,     0.61962,     0.62062,     0.62162,     0.62262,     0.62362,\n",
       "           0.62462,     0.62563,     0.62663,     0.62763,     0.62863,     0.62963,     0.63063,     0.63163,     0.63263,     0.63363,     0.63463,     0.63564,     0.63664,     0.63764,     0.63864,     0.63964,     0.64064,     0.64164,     0.64264,     0.64364,     0.64464,     0.64565,     0.64665,     0.64765,\n",
       "           0.64865,     0.64965,     0.65065,     0.65165,     0.65265,     0.65365,     0.65465,     0.65566,     0.65666,     0.65766,     0.65866,     0.65966,     0.66066,     0.66166,     0.66266,     0.66366,     0.66466,     0.66567,     0.66667,     0.66767,     0.66867,     0.66967,     0.67067,     0.67167,\n",
       "           0.67267,     0.67367,     0.67467,     0.67568,     0.67668,     0.67768,     0.67868,     0.67968,     0.68068,     0.68168,     0.68268,     0.68368,     0.68468,     0.68569,     0.68669,     0.68769,     0.68869,     0.68969,     0.69069,     0.69169,     0.69269,     0.69369,     0.69469,      0.6957,\n",
       "            0.6967,      0.6977,      0.6987,      0.6997,      0.7007,      0.7017,      0.7027,      0.7037,      0.7047,     0.70571,     0.70671,     0.70771,     0.70871,     0.70971,     0.71071,     0.71171,     0.71271,     0.71371,     0.71471,     0.71572,     0.71672,     0.71772,     0.71872,     0.71972,\n",
       "           0.72072,     0.72172,     0.72272,     0.72372,     0.72472,     0.72573,     0.72673,     0.72773,     0.72873,     0.72973,     0.73073,     0.73173,     0.73273,     0.73373,     0.73473,     0.73574,     0.73674,     0.73774,     0.73874,     0.73974,     0.74074,     0.74174,     0.74274,     0.74374,\n",
       "           0.74474,     0.74575,     0.74675,     0.74775,     0.74875,     0.74975,     0.75075,     0.75175,     0.75275,     0.75375,     0.75475,     0.75576,     0.75676,     0.75776,     0.75876,     0.75976,     0.76076,     0.76176,     0.76276,     0.76376,     0.76476,     0.76577,     0.76677,     0.76777,\n",
       "           0.76877,     0.76977,     0.77077,     0.77177,     0.77277,     0.77377,     0.77477,     0.77578,     0.77678,     0.77778,     0.77878,     0.77978,     0.78078,     0.78178,     0.78278,     0.78378,     0.78478,     0.78579,     0.78679,     0.78779,     0.78879,     0.78979,     0.79079,     0.79179,\n",
       "           0.79279,     0.79379,     0.79479,      0.7958,      0.7968,      0.7978,      0.7988,      0.7998,      0.8008,      0.8018,      0.8028,      0.8038,      0.8048,     0.80581,     0.80681,     0.80781,     0.80881,     0.80981,     0.81081,     0.81181,     0.81281,     0.81381,     0.81481,     0.81582,\n",
       "           0.81682,     0.81782,     0.81882,     0.81982,     0.82082,     0.82182,     0.82282,     0.82382,     0.82482,     0.82583,     0.82683,     0.82783,     0.82883,     0.82983,     0.83083,     0.83183,     0.83283,     0.83383,     0.83483,     0.83584,     0.83684,     0.83784,     0.83884,     0.83984,\n",
       "           0.84084,     0.84184,     0.84284,     0.84384,     0.84484,     0.84585,     0.84685,     0.84785,     0.84885,     0.84985,     0.85085,     0.85185,     0.85285,     0.85385,     0.85485,     0.85586,     0.85686,     0.85786,     0.85886,     0.85986,     0.86086,     0.86186,     0.86286,     0.86386,\n",
       "           0.86486,     0.86587,     0.86687,     0.86787,     0.86887,     0.86987,     0.87087,     0.87187,     0.87287,     0.87387,     0.87487,     0.87588,     0.87688,     0.87788,     0.87888,     0.87988,     0.88088,     0.88188,     0.88288,     0.88388,     0.88488,     0.88589,     0.88689,     0.88789,\n",
       "           0.88889,     0.88989,     0.89089,     0.89189,     0.89289,     0.89389,     0.89489,      0.8959,      0.8969,      0.8979,      0.8989,      0.8999,      0.9009,      0.9019,      0.9029,      0.9039,      0.9049,     0.90591,     0.90691,     0.90791,     0.90891,     0.90991,     0.91091,     0.91191,\n",
       "           0.91291,     0.91391,     0.91491,     0.91592,     0.91692,     0.91792,     0.91892,     0.91992,     0.92092,     0.92192,     0.92292,     0.92392,     0.92492,     0.92593,     0.92693,     0.92793,     0.92893,     0.92993,     0.93093,     0.93193,     0.93293,     0.93393,     0.93493,     0.93594,\n",
       "           0.93694,     0.93794,     0.93894,     0.93994,     0.94094,     0.94194,     0.94294,     0.94394,     0.94494,     0.94595,     0.94695,     0.94795,     0.94895,     0.94995,     0.95095,     0.95195,     0.95295,     0.95395,     0.95495,     0.95596,     0.95696,     0.95796,     0.95896,     0.95996,\n",
       "           0.96096,     0.96196,     0.96296,     0.96396,     0.96496,     0.96597,     0.96697,     0.96797,     0.96897,     0.96997,     0.97097,     0.97197,     0.97297,     0.97397,     0.97497,     0.97598,     0.97698,     0.97798,     0.97898,     0.97998,     0.98098,     0.98198,     0.98298,     0.98398,\n",
       "           0.98498,     0.98599,     0.98699,     0.98799,     0.98899,     0.98999,     0.99099,     0.99199,     0.99299,     0.99399,     0.99499,       0.996,       0.997,       0.998,       0.999,           1]), array([[          1,           1,           1, ...,    0.025116,    0.012558,           0],\n",
       "       [          1,           1,           1, ...,   0.0036126,   0.0018063,           0],\n",
       "       [          1,           1,           1, ...,   0.0010599,  0.00052994,           0]]), 'Recall', 'Precision'], [array([          0,    0.001001,    0.002002,    0.003003,    0.004004,    0.005005,    0.006006,    0.007007,    0.008008,    0.009009,     0.01001,    0.011011,    0.012012,    0.013013,    0.014014,    0.015015,    0.016016,    0.017017,    0.018018,    0.019019,     0.02002,    0.021021,    0.022022,    0.023023,\n",
       "          0.024024,    0.025025,    0.026026,    0.027027,    0.028028,    0.029029,     0.03003,    0.031031,    0.032032,    0.033033,    0.034034,    0.035035,    0.036036,    0.037037,    0.038038,    0.039039,     0.04004,    0.041041,    0.042042,    0.043043,    0.044044,    0.045045,    0.046046,    0.047047,\n",
       "          0.048048,    0.049049,     0.05005,    0.051051,    0.052052,    0.053053,    0.054054,    0.055055,    0.056056,    0.057057,    0.058058,    0.059059,     0.06006,    0.061061,    0.062062,    0.063063,    0.064064,    0.065065,    0.066066,    0.067067,    0.068068,    0.069069,     0.07007,    0.071071,\n",
       "          0.072072,    0.073073,    0.074074,    0.075075,    0.076076,    0.077077,    0.078078,    0.079079,     0.08008,    0.081081,    0.082082,    0.083083,    0.084084,    0.085085,    0.086086,    0.087087,    0.088088,    0.089089,     0.09009,    0.091091,    0.092092,    0.093093,    0.094094,    0.095095,\n",
       "          0.096096,    0.097097,    0.098098,    0.099099,      0.1001,      0.1011,      0.1021,      0.1031,      0.1041,     0.10511,     0.10611,     0.10711,     0.10811,     0.10911,     0.11011,     0.11111,     0.11211,     0.11311,     0.11411,     0.11512,     0.11612,     0.11712,     0.11812,     0.11912,\n",
       "           0.12012,     0.12112,     0.12212,     0.12312,     0.12412,     0.12513,     0.12613,     0.12713,     0.12813,     0.12913,     0.13013,     0.13113,     0.13213,     0.13313,     0.13413,     0.13514,     0.13614,     0.13714,     0.13814,     0.13914,     0.14014,     0.14114,     0.14214,     0.14314,\n",
       "           0.14414,     0.14515,     0.14615,     0.14715,     0.14815,     0.14915,     0.15015,     0.15115,     0.15215,     0.15315,     0.15415,     0.15516,     0.15616,     0.15716,     0.15816,     0.15916,     0.16016,     0.16116,     0.16216,     0.16316,     0.16416,     0.16517,     0.16617,     0.16717,\n",
       "           0.16817,     0.16917,     0.17017,     0.17117,     0.17217,     0.17317,     0.17417,     0.17518,     0.17618,     0.17718,     0.17818,     0.17918,     0.18018,     0.18118,     0.18218,     0.18318,     0.18418,     0.18519,     0.18619,     0.18719,     0.18819,     0.18919,     0.19019,     0.19119,\n",
       "           0.19219,     0.19319,     0.19419,      0.1952,      0.1962,      0.1972,      0.1982,      0.1992,      0.2002,      0.2012,      0.2022,      0.2032,      0.2042,     0.20521,     0.20621,     0.20721,     0.20821,     0.20921,     0.21021,     0.21121,     0.21221,     0.21321,     0.21421,     0.21522,\n",
       "           0.21622,     0.21722,     0.21822,     0.21922,     0.22022,     0.22122,     0.22222,     0.22322,     0.22422,     0.22523,     0.22623,     0.22723,     0.22823,     0.22923,     0.23023,     0.23123,     0.23223,     0.23323,     0.23423,     0.23524,     0.23624,     0.23724,     0.23824,     0.23924,\n",
       "           0.24024,     0.24124,     0.24224,     0.24324,     0.24424,     0.24525,     0.24625,     0.24725,     0.24825,     0.24925,     0.25025,     0.25125,     0.25225,     0.25325,     0.25425,     0.25526,     0.25626,     0.25726,     0.25826,     0.25926,     0.26026,     0.26126,     0.26226,     0.26326,\n",
       "           0.26426,     0.26527,     0.26627,     0.26727,     0.26827,     0.26927,     0.27027,     0.27127,     0.27227,     0.27327,     0.27427,     0.27528,     0.27628,     0.27728,     0.27828,     0.27928,     0.28028,     0.28128,     0.28228,     0.28328,     0.28428,     0.28529,     0.28629,     0.28729,\n",
       "           0.28829,     0.28929,     0.29029,     0.29129,     0.29229,     0.29329,     0.29429,      0.2953,      0.2963,      0.2973,      0.2983,      0.2993,      0.3003,      0.3013,      0.3023,      0.3033,      0.3043,     0.30531,     0.30631,     0.30731,     0.30831,     0.30931,     0.31031,     0.31131,\n",
       "           0.31231,     0.31331,     0.31431,     0.31532,     0.31632,     0.31732,     0.31832,     0.31932,     0.32032,     0.32132,     0.32232,     0.32332,     0.32432,     0.32533,     0.32633,     0.32733,     0.32833,     0.32933,     0.33033,     0.33133,     0.33233,     0.33333,     0.33433,     0.33534,\n",
       "           0.33634,     0.33734,     0.33834,     0.33934,     0.34034,     0.34134,     0.34234,     0.34334,     0.34434,     0.34535,     0.34635,     0.34735,     0.34835,     0.34935,     0.35035,     0.35135,     0.35235,     0.35335,     0.35435,     0.35536,     0.35636,     0.35736,     0.35836,     0.35936,\n",
       "           0.36036,     0.36136,     0.36236,     0.36336,     0.36436,     0.36537,     0.36637,     0.36737,     0.36837,     0.36937,     0.37037,     0.37137,     0.37237,     0.37337,     0.37437,     0.37538,     0.37638,     0.37738,     0.37838,     0.37938,     0.38038,     0.38138,     0.38238,     0.38338,\n",
       "           0.38438,     0.38539,     0.38639,     0.38739,     0.38839,     0.38939,     0.39039,     0.39139,     0.39239,     0.39339,     0.39439,      0.3954,      0.3964,      0.3974,      0.3984,      0.3994,      0.4004,      0.4014,      0.4024,      0.4034,      0.4044,     0.40541,     0.40641,     0.40741,\n",
       "           0.40841,     0.40941,     0.41041,     0.41141,     0.41241,     0.41341,     0.41441,     0.41542,     0.41642,     0.41742,     0.41842,     0.41942,     0.42042,     0.42142,     0.42242,     0.42342,     0.42442,     0.42543,     0.42643,     0.42743,     0.42843,     0.42943,     0.43043,     0.43143,\n",
       "           0.43243,     0.43343,     0.43443,     0.43544,     0.43644,     0.43744,     0.43844,     0.43944,     0.44044,     0.44144,     0.44244,     0.44344,     0.44444,     0.44545,     0.44645,     0.44745,     0.44845,     0.44945,     0.45045,     0.45145,     0.45245,     0.45345,     0.45445,     0.45546,\n",
       "           0.45646,     0.45746,     0.45846,     0.45946,     0.46046,     0.46146,     0.46246,     0.46346,     0.46446,     0.46547,     0.46647,     0.46747,     0.46847,     0.46947,     0.47047,     0.47147,     0.47247,     0.47347,     0.47447,     0.47548,     0.47648,     0.47748,     0.47848,     0.47948,\n",
       "           0.48048,     0.48148,     0.48248,     0.48348,     0.48448,     0.48549,     0.48649,     0.48749,     0.48849,     0.48949,     0.49049,     0.49149,     0.49249,     0.49349,     0.49449,      0.4955,      0.4965,      0.4975,      0.4985,      0.4995,      0.5005,      0.5015,      0.5025,      0.5035,\n",
       "            0.5045,     0.50551,     0.50651,     0.50751,     0.50851,     0.50951,     0.51051,     0.51151,     0.51251,     0.51351,     0.51451,     0.51552,     0.51652,     0.51752,     0.51852,     0.51952,     0.52052,     0.52152,     0.52252,     0.52352,     0.52452,     0.52553,     0.52653,     0.52753,\n",
       "           0.52853,     0.52953,     0.53053,     0.53153,     0.53253,     0.53353,     0.53453,     0.53554,     0.53654,     0.53754,     0.53854,     0.53954,     0.54054,     0.54154,     0.54254,     0.54354,     0.54454,     0.54555,     0.54655,     0.54755,     0.54855,     0.54955,     0.55055,     0.55155,\n",
       "           0.55255,     0.55355,     0.55455,     0.55556,     0.55656,     0.55756,     0.55856,     0.55956,     0.56056,     0.56156,     0.56256,     0.56356,     0.56456,     0.56557,     0.56657,     0.56757,     0.56857,     0.56957,     0.57057,     0.57157,     0.57257,     0.57357,     0.57457,     0.57558,\n",
       "           0.57658,     0.57758,     0.57858,     0.57958,     0.58058,     0.58158,     0.58258,     0.58358,     0.58458,     0.58559,     0.58659,     0.58759,     0.58859,     0.58959,     0.59059,     0.59159,     0.59259,     0.59359,     0.59459,      0.5956,      0.5966,      0.5976,      0.5986,      0.5996,\n",
       "            0.6006,      0.6016,      0.6026,      0.6036,      0.6046,     0.60561,     0.60661,     0.60761,     0.60861,     0.60961,     0.61061,     0.61161,     0.61261,     0.61361,     0.61461,     0.61562,     0.61662,     0.61762,     0.61862,     0.61962,     0.62062,     0.62162,     0.62262,     0.62362,\n",
       "           0.62462,     0.62563,     0.62663,     0.62763,     0.62863,     0.62963,     0.63063,     0.63163,     0.63263,     0.63363,     0.63463,     0.63564,     0.63664,     0.63764,     0.63864,     0.63964,     0.64064,     0.64164,     0.64264,     0.64364,     0.64464,     0.64565,     0.64665,     0.64765,\n",
       "           0.64865,     0.64965,     0.65065,     0.65165,     0.65265,     0.65365,     0.65465,     0.65566,     0.65666,     0.65766,     0.65866,     0.65966,     0.66066,     0.66166,     0.66266,     0.66366,     0.66466,     0.66567,     0.66667,     0.66767,     0.66867,     0.66967,     0.67067,     0.67167,\n",
       "           0.67267,     0.67367,     0.67467,     0.67568,     0.67668,     0.67768,     0.67868,     0.67968,     0.68068,     0.68168,     0.68268,     0.68368,     0.68468,     0.68569,     0.68669,     0.68769,     0.68869,     0.68969,     0.69069,     0.69169,     0.69269,     0.69369,     0.69469,      0.6957,\n",
       "            0.6967,      0.6977,      0.6987,      0.6997,      0.7007,      0.7017,      0.7027,      0.7037,      0.7047,     0.70571,     0.70671,     0.70771,     0.70871,     0.70971,     0.71071,     0.71171,     0.71271,     0.71371,     0.71471,     0.71572,     0.71672,     0.71772,     0.71872,     0.71972,\n",
       "           0.72072,     0.72172,     0.72272,     0.72372,     0.72472,     0.72573,     0.72673,     0.72773,     0.72873,     0.72973,     0.73073,     0.73173,     0.73273,     0.73373,     0.73473,     0.73574,     0.73674,     0.73774,     0.73874,     0.73974,     0.74074,     0.74174,     0.74274,     0.74374,\n",
       "           0.74474,     0.74575,     0.74675,     0.74775,     0.74875,     0.74975,     0.75075,     0.75175,     0.75275,     0.75375,     0.75475,     0.75576,     0.75676,     0.75776,     0.75876,     0.75976,     0.76076,     0.76176,     0.76276,     0.76376,     0.76476,     0.76577,     0.76677,     0.76777,\n",
       "           0.76877,     0.76977,     0.77077,     0.77177,     0.77277,     0.77377,     0.77477,     0.77578,     0.77678,     0.77778,     0.77878,     0.77978,     0.78078,     0.78178,     0.78278,     0.78378,     0.78478,     0.78579,     0.78679,     0.78779,     0.78879,     0.78979,     0.79079,     0.79179,\n",
       "           0.79279,     0.79379,     0.79479,      0.7958,      0.7968,      0.7978,      0.7988,      0.7998,      0.8008,      0.8018,      0.8028,      0.8038,      0.8048,     0.80581,     0.80681,     0.80781,     0.80881,     0.80981,     0.81081,     0.81181,     0.81281,     0.81381,     0.81481,     0.81582,\n",
       "           0.81682,     0.81782,     0.81882,     0.81982,     0.82082,     0.82182,     0.82282,     0.82382,     0.82482,     0.82583,     0.82683,     0.82783,     0.82883,     0.82983,     0.83083,     0.83183,     0.83283,     0.83383,     0.83483,     0.83584,     0.83684,     0.83784,     0.83884,     0.83984,\n",
       "           0.84084,     0.84184,     0.84284,     0.84384,     0.84484,     0.84585,     0.84685,     0.84785,     0.84885,     0.84985,     0.85085,     0.85185,     0.85285,     0.85385,     0.85485,     0.85586,     0.85686,     0.85786,     0.85886,     0.85986,     0.86086,     0.86186,     0.86286,     0.86386,\n",
       "           0.86486,     0.86587,     0.86687,     0.86787,     0.86887,     0.86987,     0.87087,     0.87187,     0.87287,     0.87387,     0.87487,     0.87588,     0.87688,     0.87788,     0.87888,     0.87988,     0.88088,     0.88188,     0.88288,     0.88388,     0.88488,     0.88589,     0.88689,     0.88789,\n",
       "           0.88889,     0.88989,     0.89089,     0.89189,     0.89289,     0.89389,     0.89489,      0.8959,      0.8969,      0.8979,      0.8989,      0.8999,      0.9009,      0.9019,      0.9029,      0.9039,      0.9049,     0.90591,     0.90691,     0.90791,     0.90891,     0.90991,     0.91091,     0.91191,\n",
       "           0.91291,     0.91391,     0.91491,     0.91592,     0.91692,     0.91792,     0.91892,     0.91992,     0.92092,     0.92192,     0.92292,     0.92392,     0.92492,     0.92593,     0.92693,     0.92793,     0.92893,     0.92993,     0.93093,     0.93193,     0.93293,     0.93393,     0.93493,     0.93594,\n",
       "           0.93694,     0.93794,     0.93894,     0.93994,     0.94094,     0.94194,     0.94294,     0.94394,     0.94494,     0.94595,     0.94695,     0.94795,     0.94895,     0.94995,     0.95095,     0.95195,     0.95295,     0.95395,     0.95495,     0.95596,     0.95696,     0.95796,     0.95896,     0.95996,\n",
       "           0.96096,     0.96196,     0.96296,     0.96396,     0.96496,     0.96597,     0.96697,     0.96797,     0.96897,     0.96997,     0.97097,     0.97197,     0.97297,     0.97397,     0.97497,     0.97598,     0.97698,     0.97798,     0.97898,     0.97998,     0.98098,     0.98198,     0.98298,     0.98398,\n",
       "           0.98498,     0.98599,     0.98699,     0.98799,     0.98899,     0.98999,     0.99099,     0.99199,     0.99299,     0.99399,     0.99499,       0.996,       0.997,       0.998,       0.999,           1]), array([[    0.69474,     0.69474,     0.76197, ...,           0,           0,           0],\n",
       "       [    0.49741,     0.49741,     0.54013, ...,           0,           0,           0],\n",
       "       [    0.27907,     0.27907,     0.33084, ...,           0,           0,           0]]), 'Confidence', 'F1'], [array([          0,    0.001001,    0.002002,    0.003003,    0.004004,    0.005005,    0.006006,    0.007007,    0.008008,    0.009009,     0.01001,    0.011011,    0.012012,    0.013013,    0.014014,    0.015015,    0.016016,    0.017017,    0.018018,    0.019019,     0.02002,    0.021021,    0.022022,    0.023023,\n",
       "          0.024024,    0.025025,    0.026026,    0.027027,    0.028028,    0.029029,     0.03003,    0.031031,    0.032032,    0.033033,    0.034034,    0.035035,    0.036036,    0.037037,    0.038038,    0.039039,     0.04004,    0.041041,    0.042042,    0.043043,    0.044044,    0.045045,    0.046046,    0.047047,\n",
       "          0.048048,    0.049049,     0.05005,    0.051051,    0.052052,    0.053053,    0.054054,    0.055055,    0.056056,    0.057057,    0.058058,    0.059059,     0.06006,    0.061061,    0.062062,    0.063063,    0.064064,    0.065065,    0.066066,    0.067067,    0.068068,    0.069069,     0.07007,    0.071071,\n",
       "          0.072072,    0.073073,    0.074074,    0.075075,    0.076076,    0.077077,    0.078078,    0.079079,     0.08008,    0.081081,    0.082082,    0.083083,    0.084084,    0.085085,    0.086086,    0.087087,    0.088088,    0.089089,     0.09009,    0.091091,    0.092092,    0.093093,    0.094094,    0.095095,\n",
       "          0.096096,    0.097097,    0.098098,    0.099099,      0.1001,      0.1011,      0.1021,      0.1031,      0.1041,     0.10511,     0.10611,     0.10711,     0.10811,     0.10911,     0.11011,     0.11111,     0.11211,     0.11311,     0.11411,     0.11512,     0.11612,     0.11712,     0.11812,     0.11912,\n",
       "           0.12012,     0.12112,     0.12212,     0.12312,     0.12412,     0.12513,     0.12613,     0.12713,     0.12813,     0.12913,     0.13013,     0.13113,     0.13213,     0.13313,     0.13413,     0.13514,     0.13614,     0.13714,     0.13814,     0.13914,     0.14014,     0.14114,     0.14214,     0.14314,\n",
       "           0.14414,     0.14515,     0.14615,     0.14715,     0.14815,     0.14915,     0.15015,     0.15115,     0.15215,     0.15315,     0.15415,     0.15516,     0.15616,     0.15716,     0.15816,     0.15916,     0.16016,     0.16116,     0.16216,     0.16316,     0.16416,     0.16517,     0.16617,     0.16717,\n",
       "           0.16817,     0.16917,     0.17017,     0.17117,     0.17217,     0.17317,     0.17417,     0.17518,     0.17618,     0.17718,     0.17818,     0.17918,     0.18018,     0.18118,     0.18218,     0.18318,     0.18418,     0.18519,     0.18619,     0.18719,     0.18819,     0.18919,     0.19019,     0.19119,\n",
       "           0.19219,     0.19319,     0.19419,      0.1952,      0.1962,      0.1972,      0.1982,      0.1992,      0.2002,      0.2012,      0.2022,      0.2032,      0.2042,     0.20521,     0.20621,     0.20721,     0.20821,     0.20921,     0.21021,     0.21121,     0.21221,     0.21321,     0.21421,     0.21522,\n",
       "           0.21622,     0.21722,     0.21822,     0.21922,     0.22022,     0.22122,     0.22222,     0.22322,     0.22422,     0.22523,     0.22623,     0.22723,     0.22823,     0.22923,     0.23023,     0.23123,     0.23223,     0.23323,     0.23423,     0.23524,     0.23624,     0.23724,     0.23824,     0.23924,\n",
       "           0.24024,     0.24124,     0.24224,     0.24324,     0.24424,     0.24525,     0.24625,     0.24725,     0.24825,     0.24925,     0.25025,     0.25125,     0.25225,     0.25325,     0.25425,     0.25526,     0.25626,     0.25726,     0.25826,     0.25926,     0.26026,     0.26126,     0.26226,     0.26326,\n",
       "           0.26426,     0.26527,     0.26627,     0.26727,     0.26827,     0.26927,     0.27027,     0.27127,     0.27227,     0.27327,     0.27427,     0.27528,     0.27628,     0.27728,     0.27828,     0.27928,     0.28028,     0.28128,     0.28228,     0.28328,     0.28428,     0.28529,     0.28629,     0.28729,\n",
       "           0.28829,     0.28929,     0.29029,     0.29129,     0.29229,     0.29329,     0.29429,      0.2953,      0.2963,      0.2973,      0.2983,      0.2993,      0.3003,      0.3013,      0.3023,      0.3033,      0.3043,     0.30531,     0.30631,     0.30731,     0.30831,     0.30931,     0.31031,     0.31131,\n",
       "           0.31231,     0.31331,     0.31431,     0.31532,     0.31632,     0.31732,     0.31832,     0.31932,     0.32032,     0.32132,     0.32232,     0.32332,     0.32432,     0.32533,     0.32633,     0.32733,     0.32833,     0.32933,     0.33033,     0.33133,     0.33233,     0.33333,     0.33433,     0.33534,\n",
       "           0.33634,     0.33734,     0.33834,     0.33934,     0.34034,     0.34134,     0.34234,     0.34334,     0.34434,     0.34535,     0.34635,     0.34735,     0.34835,     0.34935,     0.35035,     0.35135,     0.35235,     0.35335,     0.35435,     0.35536,     0.35636,     0.35736,     0.35836,     0.35936,\n",
       "           0.36036,     0.36136,     0.36236,     0.36336,     0.36436,     0.36537,     0.36637,     0.36737,     0.36837,     0.36937,     0.37037,     0.37137,     0.37237,     0.37337,     0.37437,     0.37538,     0.37638,     0.37738,     0.37838,     0.37938,     0.38038,     0.38138,     0.38238,     0.38338,\n",
       "           0.38438,     0.38539,     0.38639,     0.38739,     0.38839,     0.38939,     0.39039,     0.39139,     0.39239,     0.39339,     0.39439,      0.3954,      0.3964,      0.3974,      0.3984,      0.3994,      0.4004,      0.4014,      0.4024,      0.4034,      0.4044,     0.40541,     0.40641,     0.40741,\n",
       "           0.40841,     0.40941,     0.41041,     0.41141,     0.41241,     0.41341,     0.41441,     0.41542,     0.41642,     0.41742,     0.41842,     0.41942,     0.42042,     0.42142,     0.42242,     0.42342,     0.42442,     0.42543,     0.42643,     0.42743,     0.42843,     0.42943,     0.43043,     0.43143,\n",
       "           0.43243,     0.43343,     0.43443,     0.43544,     0.43644,     0.43744,     0.43844,     0.43944,     0.44044,     0.44144,     0.44244,     0.44344,     0.44444,     0.44545,     0.44645,     0.44745,     0.44845,     0.44945,     0.45045,     0.45145,     0.45245,     0.45345,     0.45445,     0.45546,\n",
       "           0.45646,     0.45746,     0.45846,     0.45946,     0.46046,     0.46146,     0.46246,     0.46346,     0.46446,     0.46547,     0.46647,     0.46747,     0.46847,     0.46947,     0.47047,     0.47147,     0.47247,     0.47347,     0.47447,     0.47548,     0.47648,     0.47748,     0.47848,     0.47948,\n",
       "           0.48048,     0.48148,     0.48248,     0.48348,     0.48448,     0.48549,     0.48649,     0.48749,     0.48849,     0.48949,     0.49049,     0.49149,     0.49249,     0.49349,     0.49449,      0.4955,      0.4965,      0.4975,      0.4985,      0.4995,      0.5005,      0.5015,      0.5025,      0.5035,\n",
       "            0.5045,     0.50551,     0.50651,     0.50751,     0.50851,     0.50951,     0.51051,     0.51151,     0.51251,     0.51351,     0.51451,     0.51552,     0.51652,     0.51752,     0.51852,     0.51952,     0.52052,     0.52152,     0.52252,     0.52352,     0.52452,     0.52553,     0.52653,     0.52753,\n",
       "           0.52853,     0.52953,     0.53053,     0.53153,     0.53253,     0.53353,     0.53453,     0.53554,     0.53654,     0.53754,     0.53854,     0.53954,     0.54054,     0.54154,     0.54254,     0.54354,     0.54454,     0.54555,     0.54655,     0.54755,     0.54855,     0.54955,     0.55055,     0.55155,\n",
       "           0.55255,     0.55355,     0.55455,     0.55556,     0.55656,     0.55756,     0.55856,     0.55956,     0.56056,     0.56156,     0.56256,     0.56356,     0.56456,     0.56557,     0.56657,     0.56757,     0.56857,     0.56957,     0.57057,     0.57157,     0.57257,     0.57357,     0.57457,     0.57558,\n",
       "           0.57658,     0.57758,     0.57858,     0.57958,     0.58058,     0.58158,     0.58258,     0.58358,     0.58458,     0.58559,     0.58659,     0.58759,     0.58859,     0.58959,     0.59059,     0.59159,     0.59259,     0.59359,     0.59459,      0.5956,      0.5966,      0.5976,      0.5986,      0.5996,\n",
       "            0.6006,      0.6016,      0.6026,      0.6036,      0.6046,     0.60561,     0.60661,     0.60761,     0.60861,     0.60961,     0.61061,     0.61161,     0.61261,     0.61361,     0.61461,     0.61562,     0.61662,     0.61762,     0.61862,     0.61962,     0.62062,     0.62162,     0.62262,     0.62362,\n",
       "           0.62462,     0.62563,     0.62663,     0.62763,     0.62863,     0.62963,     0.63063,     0.63163,     0.63263,     0.63363,     0.63463,     0.63564,     0.63664,     0.63764,     0.63864,     0.63964,     0.64064,     0.64164,     0.64264,     0.64364,     0.64464,     0.64565,     0.64665,     0.64765,\n",
       "           0.64865,     0.64965,     0.65065,     0.65165,     0.65265,     0.65365,     0.65465,     0.65566,     0.65666,     0.65766,     0.65866,     0.65966,     0.66066,     0.66166,     0.66266,     0.66366,     0.66466,     0.66567,     0.66667,     0.66767,     0.66867,     0.66967,     0.67067,     0.67167,\n",
       "           0.67267,     0.67367,     0.67467,     0.67568,     0.67668,     0.67768,     0.67868,     0.67968,     0.68068,     0.68168,     0.68268,     0.68368,     0.68468,     0.68569,     0.68669,     0.68769,     0.68869,     0.68969,     0.69069,     0.69169,     0.69269,     0.69369,     0.69469,      0.6957,\n",
       "            0.6967,      0.6977,      0.6987,      0.6997,      0.7007,      0.7017,      0.7027,      0.7037,      0.7047,     0.70571,     0.70671,     0.70771,     0.70871,     0.70971,     0.71071,     0.71171,     0.71271,     0.71371,     0.71471,     0.71572,     0.71672,     0.71772,     0.71872,     0.71972,\n",
       "           0.72072,     0.72172,     0.72272,     0.72372,     0.72472,     0.72573,     0.72673,     0.72773,     0.72873,     0.72973,     0.73073,     0.73173,     0.73273,     0.73373,     0.73473,     0.73574,     0.73674,     0.73774,     0.73874,     0.73974,     0.74074,     0.74174,     0.74274,     0.74374,\n",
       "           0.74474,     0.74575,     0.74675,     0.74775,     0.74875,     0.74975,     0.75075,     0.75175,     0.75275,     0.75375,     0.75475,     0.75576,     0.75676,     0.75776,     0.75876,     0.75976,     0.76076,     0.76176,     0.76276,     0.76376,     0.76476,     0.76577,     0.76677,     0.76777,\n",
       "           0.76877,     0.76977,     0.77077,     0.77177,     0.77277,     0.77377,     0.77477,     0.77578,     0.77678,     0.77778,     0.77878,     0.77978,     0.78078,     0.78178,     0.78278,     0.78378,     0.78478,     0.78579,     0.78679,     0.78779,     0.78879,     0.78979,     0.79079,     0.79179,\n",
       "           0.79279,     0.79379,     0.79479,      0.7958,      0.7968,      0.7978,      0.7988,      0.7998,      0.8008,      0.8018,      0.8028,      0.8038,      0.8048,     0.80581,     0.80681,     0.80781,     0.80881,     0.80981,     0.81081,     0.81181,     0.81281,     0.81381,     0.81481,     0.81582,\n",
       "           0.81682,     0.81782,     0.81882,     0.81982,     0.82082,     0.82182,     0.82282,     0.82382,     0.82482,     0.82583,     0.82683,     0.82783,     0.82883,     0.82983,     0.83083,     0.83183,     0.83283,     0.83383,     0.83483,     0.83584,     0.83684,     0.83784,     0.83884,     0.83984,\n",
       "           0.84084,     0.84184,     0.84284,     0.84384,     0.84484,     0.84585,     0.84685,     0.84785,     0.84885,     0.84985,     0.85085,     0.85185,     0.85285,     0.85385,     0.85485,     0.85586,     0.85686,     0.85786,     0.85886,     0.85986,     0.86086,     0.86186,     0.86286,     0.86386,\n",
       "           0.86486,     0.86587,     0.86687,     0.86787,     0.86887,     0.86987,     0.87087,     0.87187,     0.87287,     0.87387,     0.87487,     0.87588,     0.87688,     0.87788,     0.87888,     0.87988,     0.88088,     0.88188,     0.88288,     0.88388,     0.88488,     0.88589,     0.88689,     0.88789,\n",
       "           0.88889,     0.88989,     0.89089,     0.89189,     0.89289,     0.89389,     0.89489,      0.8959,      0.8969,      0.8979,      0.8989,      0.8999,      0.9009,      0.9019,      0.9029,      0.9039,      0.9049,     0.90591,     0.90691,     0.90791,     0.90891,     0.90991,     0.91091,     0.91191,\n",
       "           0.91291,     0.91391,     0.91491,     0.91592,     0.91692,     0.91792,     0.91892,     0.91992,     0.92092,     0.92192,     0.92292,     0.92392,     0.92492,     0.92593,     0.92693,     0.92793,     0.92893,     0.92993,     0.93093,     0.93193,     0.93293,     0.93393,     0.93493,     0.93594,\n",
       "           0.93694,     0.93794,     0.93894,     0.93994,     0.94094,     0.94194,     0.94294,     0.94394,     0.94494,     0.94595,     0.94695,     0.94795,     0.94895,     0.94995,     0.95095,     0.95195,     0.95295,     0.95395,     0.95495,     0.95596,     0.95696,     0.95796,     0.95896,     0.95996,\n",
       "           0.96096,     0.96196,     0.96296,     0.96396,     0.96496,     0.96597,     0.96697,     0.96797,     0.96897,     0.96997,     0.97097,     0.97197,     0.97297,     0.97397,     0.97497,     0.97598,     0.97698,     0.97798,     0.97898,     0.97998,     0.98098,     0.98198,     0.98298,     0.98398,\n",
       "           0.98498,     0.98599,     0.98699,     0.98799,     0.98899,     0.98999,     0.99099,     0.99199,     0.99299,     0.99399,     0.99499,       0.996,       0.997,       0.998,       0.999,           1]), array([[    0.54545,     0.54545,      0.6397, ...,           1,           1,           1],\n",
       "       [     0.3609,      0.3609,     0.41693, ...,           1,           1,           1],\n",
       "       [    0.17647,     0.17647,     0.23556, ...,           1,           1,           1]]), 'Confidence', 'Precision'], [array([          0,    0.001001,    0.002002,    0.003003,    0.004004,    0.005005,    0.006006,    0.007007,    0.008008,    0.009009,     0.01001,    0.011011,    0.012012,    0.013013,    0.014014,    0.015015,    0.016016,    0.017017,    0.018018,    0.019019,     0.02002,    0.021021,    0.022022,    0.023023,\n",
       "          0.024024,    0.025025,    0.026026,    0.027027,    0.028028,    0.029029,     0.03003,    0.031031,    0.032032,    0.033033,    0.034034,    0.035035,    0.036036,    0.037037,    0.038038,    0.039039,     0.04004,    0.041041,    0.042042,    0.043043,    0.044044,    0.045045,    0.046046,    0.047047,\n",
       "          0.048048,    0.049049,     0.05005,    0.051051,    0.052052,    0.053053,    0.054054,    0.055055,    0.056056,    0.057057,    0.058058,    0.059059,     0.06006,    0.061061,    0.062062,    0.063063,    0.064064,    0.065065,    0.066066,    0.067067,    0.068068,    0.069069,     0.07007,    0.071071,\n",
       "          0.072072,    0.073073,    0.074074,    0.075075,    0.076076,    0.077077,    0.078078,    0.079079,     0.08008,    0.081081,    0.082082,    0.083083,    0.084084,    0.085085,    0.086086,    0.087087,    0.088088,    0.089089,     0.09009,    0.091091,    0.092092,    0.093093,    0.094094,    0.095095,\n",
       "          0.096096,    0.097097,    0.098098,    0.099099,      0.1001,      0.1011,      0.1021,      0.1031,      0.1041,     0.10511,     0.10611,     0.10711,     0.10811,     0.10911,     0.11011,     0.11111,     0.11211,     0.11311,     0.11411,     0.11512,     0.11612,     0.11712,     0.11812,     0.11912,\n",
       "           0.12012,     0.12112,     0.12212,     0.12312,     0.12412,     0.12513,     0.12613,     0.12713,     0.12813,     0.12913,     0.13013,     0.13113,     0.13213,     0.13313,     0.13413,     0.13514,     0.13614,     0.13714,     0.13814,     0.13914,     0.14014,     0.14114,     0.14214,     0.14314,\n",
       "           0.14414,     0.14515,     0.14615,     0.14715,     0.14815,     0.14915,     0.15015,     0.15115,     0.15215,     0.15315,     0.15415,     0.15516,     0.15616,     0.15716,     0.15816,     0.15916,     0.16016,     0.16116,     0.16216,     0.16316,     0.16416,     0.16517,     0.16617,     0.16717,\n",
       "           0.16817,     0.16917,     0.17017,     0.17117,     0.17217,     0.17317,     0.17417,     0.17518,     0.17618,     0.17718,     0.17818,     0.17918,     0.18018,     0.18118,     0.18218,     0.18318,     0.18418,     0.18519,     0.18619,     0.18719,     0.18819,     0.18919,     0.19019,     0.19119,\n",
       "           0.19219,     0.19319,     0.19419,      0.1952,      0.1962,      0.1972,      0.1982,      0.1992,      0.2002,      0.2012,      0.2022,      0.2032,      0.2042,     0.20521,     0.20621,     0.20721,     0.20821,     0.20921,     0.21021,     0.21121,     0.21221,     0.21321,     0.21421,     0.21522,\n",
       "           0.21622,     0.21722,     0.21822,     0.21922,     0.22022,     0.22122,     0.22222,     0.22322,     0.22422,     0.22523,     0.22623,     0.22723,     0.22823,     0.22923,     0.23023,     0.23123,     0.23223,     0.23323,     0.23423,     0.23524,     0.23624,     0.23724,     0.23824,     0.23924,\n",
       "           0.24024,     0.24124,     0.24224,     0.24324,     0.24424,     0.24525,     0.24625,     0.24725,     0.24825,     0.24925,     0.25025,     0.25125,     0.25225,     0.25325,     0.25425,     0.25526,     0.25626,     0.25726,     0.25826,     0.25926,     0.26026,     0.26126,     0.26226,     0.26326,\n",
       "           0.26426,     0.26527,     0.26627,     0.26727,     0.26827,     0.26927,     0.27027,     0.27127,     0.27227,     0.27327,     0.27427,     0.27528,     0.27628,     0.27728,     0.27828,     0.27928,     0.28028,     0.28128,     0.28228,     0.28328,     0.28428,     0.28529,     0.28629,     0.28729,\n",
       "           0.28829,     0.28929,     0.29029,     0.29129,     0.29229,     0.29329,     0.29429,      0.2953,      0.2963,      0.2973,      0.2983,      0.2993,      0.3003,      0.3013,      0.3023,      0.3033,      0.3043,     0.30531,     0.30631,     0.30731,     0.30831,     0.30931,     0.31031,     0.31131,\n",
       "           0.31231,     0.31331,     0.31431,     0.31532,     0.31632,     0.31732,     0.31832,     0.31932,     0.32032,     0.32132,     0.32232,     0.32332,     0.32432,     0.32533,     0.32633,     0.32733,     0.32833,     0.32933,     0.33033,     0.33133,     0.33233,     0.33333,     0.33433,     0.33534,\n",
       "           0.33634,     0.33734,     0.33834,     0.33934,     0.34034,     0.34134,     0.34234,     0.34334,     0.34434,     0.34535,     0.34635,     0.34735,     0.34835,     0.34935,     0.35035,     0.35135,     0.35235,     0.35335,     0.35435,     0.35536,     0.35636,     0.35736,     0.35836,     0.35936,\n",
       "           0.36036,     0.36136,     0.36236,     0.36336,     0.36436,     0.36537,     0.36637,     0.36737,     0.36837,     0.36937,     0.37037,     0.37137,     0.37237,     0.37337,     0.37437,     0.37538,     0.37638,     0.37738,     0.37838,     0.37938,     0.38038,     0.38138,     0.38238,     0.38338,\n",
       "           0.38438,     0.38539,     0.38639,     0.38739,     0.38839,     0.38939,     0.39039,     0.39139,     0.39239,     0.39339,     0.39439,      0.3954,      0.3964,      0.3974,      0.3984,      0.3994,      0.4004,      0.4014,      0.4024,      0.4034,      0.4044,     0.40541,     0.40641,     0.40741,\n",
       "           0.40841,     0.40941,     0.41041,     0.41141,     0.41241,     0.41341,     0.41441,     0.41542,     0.41642,     0.41742,     0.41842,     0.41942,     0.42042,     0.42142,     0.42242,     0.42342,     0.42442,     0.42543,     0.42643,     0.42743,     0.42843,     0.42943,     0.43043,     0.43143,\n",
       "           0.43243,     0.43343,     0.43443,     0.43544,     0.43644,     0.43744,     0.43844,     0.43944,     0.44044,     0.44144,     0.44244,     0.44344,     0.44444,     0.44545,     0.44645,     0.44745,     0.44845,     0.44945,     0.45045,     0.45145,     0.45245,     0.45345,     0.45445,     0.45546,\n",
       "           0.45646,     0.45746,     0.45846,     0.45946,     0.46046,     0.46146,     0.46246,     0.46346,     0.46446,     0.46547,     0.46647,     0.46747,     0.46847,     0.46947,     0.47047,     0.47147,     0.47247,     0.47347,     0.47447,     0.47548,     0.47648,     0.47748,     0.47848,     0.47948,\n",
       "           0.48048,     0.48148,     0.48248,     0.48348,     0.48448,     0.48549,     0.48649,     0.48749,     0.48849,     0.48949,     0.49049,     0.49149,     0.49249,     0.49349,     0.49449,      0.4955,      0.4965,      0.4975,      0.4985,      0.4995,      0.5005,      0.5015,      0.5025,      0.5035,\n",
       "            0.5045,     0.50551,     0.50651,     0.50751,     0.50851,     0.50951,     0.51051,     0.51151,     0.51251,     0.51351,     0.51451,     0.51552,     0.51652,     0.51752,     0.51852,     0.51952,     0.52052,     0.52152,     0.52252,     0.52352,     0.52452,     0.52553,     0.52653,     0.52753,\n",
       "           0.52853,     0.52953,     0.53053,     0.53153,     0.53253,     0.53353,     0.53453,     0.53554,     0.53654,     0.53754,     0.53854,     0.53954,     0.54054,     0.54154,     0.54254,     0.54354,     0.54454,     0.54555,     0.54655,     0.54755,     0.54855,     0.54955,     0.55055,     0.55155,\n",
       "           0.55255,     0.55355,     0.55455,     0.55556,     0.55656,     0.55756,     0.55856,     0.55956,     0.56056,     0.56156,     0.56256,     0.56356,     0.56456,     0.56557,     0.56657,     0.56757,     0.56857,     0.56957,     0.57057,     0.57157,     0.57257,     0.57357,     0.57457,     0.57558,\n",
       "           0.57658,     0.57758,     0.57858,     0.57958,     0.58058,     0.58158,     0.58258,     0.58358,     0.58458,     0.58559,     0.58659,     0.58759,     0.58859,     0.58959,     0.59059,     0.59159,     0.59259,     0.59359,     0.59459,      0.5956,      0.5966,      0.5976,      0.5986,      0.5996,\n",
       "            0.6006,      0.6016,      0.6026,      0.6036,      0.6046,     0.60561,     0.60661,     0.60761,     0.60861,     0.60961,     0.61061,     0.61161,     0.61261,     0.61361,     0.61461,     0.61562,     0.61662,     0.61762,     0.61862,     0.61962,     0.62062,     0.62162,     0.62262,     0.62362,\n",
       "           0.62462,     0.62563,     0.62663,     0.62763,     0.62863,     0.62963,     0.63063,     0.63163,     0.63263,     0.63363,     0.63463,     0.63564,     0.63664,     0.63764,     0.63864,     0.63964,     0.64064,     0.64164,     0.64264,     0.64364,     0.64464,     0.64565,     0.64665,     0.64765,\n",
       "           0.64865,     0.64965,     0.65065,     0.65165,     0.65265,     0.65365,     0.65465,     0.65566,     0.65666,     0.65766,     0.65866,     0.65966,     0.66066,     0.66166,     0.66266,     0.66366,     0.66466,     0.66567,     0.66667,     0.66767,     0.66867,     0.66967,     0.67067,     0.67167,\n",
       "           0.67267,     0.67367,     0.67467,     0.67568,     0.67668,     0.67768,     0.67868,     0.67968,     0.68068,     0.68168,     0.68268,     0.68368,     0.68468,     0.68569,     0.68669,     0.68769,     0.68869,     0.68969,     0.69069,     0.69169,     0.69269,     0.69369,     0.69469,      0.6957,\n",
       "            0.6967,      0.6977,      0.6987,      0.6997,      0.7007,      0.7017,      0.7027,      0.7037,      0.7047,     0.70571,     0.70671,     0.70771,     0.70871,     0.70971,     0.71071,     0.71171,     0.71271,     0.71371,     0.71471,     0.71572,     0.71672,     0.71772,     0.71872,     0.71972,\n",
       "           0.72072,     0.72172,     0.72272,     0.72372,     0.72472,     0.72573,     0.72673,     0.72773,     0.72873,     0.72973,     0.73073,     0.73173,     0.73273,     0.73373,     0.73473,     0.73574,     0.73674,     0.73774,     0.73874,     0.73974,     0.74074,     0.74174,     0.74274,     0.74374,\n",
       "           0.74474,     0.74575,     0.74675,     0.74775,     0.74875,     0.74975,     0.75075,     0.75175,     0.75275,     0.75375,     0.75475,     0.75576,     0.75676,     0.75776,     0.75876,     0.75976,     0.76076,     0.76176,     0.76276,     0.76376,     0.76476,     0.76577,     0.76677,     0.76777,\n",
       "           0.76877,     0.76977,     0.77077,     0.77177,     0.77277,     0.77377,     0.77477,     0.77578,     0.77678,     0.77778,     0.77878,     0.77978,     0.78078,     0.78178,     0.78278,     0.78378,     0.78478,     0.78579,     0.78679,     0.78779,     0.78879,     0.78979,     0.79079,     0.79179,\n",
       "           0.79279,     0.79379,     0.79479,      0.7958,      0.7968,      0.7978,      0.7988,      0.7998,      0.8008,      0.8018,      0.8028,      0.8038,      0.8048,     0.80581,     0.80681,     0.80781,     0.80881,     0.80981,     0.81081,     0.81181,     0.81281,     0.81381,     0.81481,     0.81582,\n",
       "           0.81682,     0.81782,     0.81882,     0.81982,     0.82082,     0.82182,     0.82282,     0.82382,     0.82482,     0.82583,     0.82683,     0.82783,     0.82883,     0.82983,     0.83083,     0.83183,     0.83283,     0.83383,     0.83483,     0.83584,     0.83684,     0.83784,     0.83884,     0.83984,\n",
       "           0.84084,     0.84184,     0.84284,     0.84384,     0.84484,     0.84585,     0.84685,     0.84785,     0.84885,     0.84985,     0.85085,     0.85185,     0.85285,     0.85385,     0.85485,     0.85586,     0.85686,     0.85786,     0.85886,     0.85986,     0.86086,     0.86186,     0.86286,     0.86386,\n",
       "           0.86486,     0.86587,     0.86687,     0.86787,     0.86887,     0.86987,     0.87087,     0.87187,     0.87287,     0.87387,     0.87487,     0.87588,     0.87688,     0.87788,     0.87888,     0.87988,     0.88088,     0.88188,     0.88288,     0.88388,     0.88488,     0.88589,     0.88689,     0.88789,\n",
       "           0.88889,     0.88989,     0.89089,     0.89189,     0.89289,     0.89389,     0.89489,      0.8959,      0.8969,      0.8979,      0.8989,      0.8999,      0.9009,      0.9019,      0.9029,      0.9039,      0.9049,     0.90591,     0.90691,     0.90791,     0.90891,     0.90991,     0.91091,     0.91191,\n",
       "           0.91291,     0.91391,     0.91491,     0.91592,     0.91692,     0.91792,     0.91892,     0.91992,     0.92092,     0.92192,     0.92292,     0.92392,     0.92492,     0.92593,     0.92693,     0.92793,     0.92893,     0.92993,     0.93093,     0.93193,     0.93293,     0.93393,     0.93493,     0.93594,\n",
       "           0.93694,     0.93794,     0.93894,     0.93994,     0.94094,     0.94194,     0.94294,     0.94394,     0.94494,     0.94595,     0.94695,     0.94795,     0.94895,     0.94995,     0.95095,     0.95195,     0.95295,     0.95395,     0.95495,     0.95596,     0.95696,     0.95796,     0.95896,     0.95996,\n",
       "           0.96096,     0.96196,     0.96296,     0.96396,     0.96496,     0.96597,     0.96697,     0.96797,     0.96897,     0.96997,     0.97097,     0.97197,     0.97297,     0.97397,     0.97497,     0.97598,     0.97698,     0.97798,     0.97898,     0.97998,     0.98098,     0.98198,     0.98298,     0.98398,\n",
       "           0.98498,     0.98599,     0.98699,     0.98799,     0.98899,     0.98999,     0.99099,     0.99199,     0.99299,     0.99399,     0.99499,       0.996,       0.997,       0.998,       0.999,           1]), array([[    0.95652,     0.95652,     0.94203, ...,           0,           0,           0],\n",
       "       [        0.8,         0.8,     0.76667, ...,           0,           0,           0],\n",
       "       [    0.66667,     0.66667,     0.55556, ...,           0,           0,           0]]), 'Confidence', 'Recall']]\n",
       "fitness: 0.4687163966333573\n",
       "keys: ['metrics/precision(B)', 'metrics/recall(B)', 'metrics/mAP50(B)', 'metrics/mAP50-95(B)']\n",
       "maps: array([    0.59535,     0.38972,     0.34596])\n",
       "names: {0: 'beads', 1: 'fibers', 2: 'fragments'}\n",
       "plot: True\n",
       "results_dict: {'metrics/precision(B)': 0.7295696442436116, 'metrics/recall(B)': 0.6698067632850241, 'metrics/mAP50(B)': 0.694078569620642, 'metrics/mAP50-95(B)': 0.44367615519032566, 'fitness': 0.4687163966333573}\n",
       "save_dir: WindowsPath('runs/detect/train')\n",
       "speed: {'preprocess': 5.672908964611236, 'inference': 330.15486550709556, 'loss': 0.0, 'postprocess': 0.5364985693068732}\n",
       "task: 'detect'"
      ]
     },
     "execution_count": 5,
     "metadata": {},
     "output_type": "execute_result"
    },
    {
     "name": "stdout",
     "output_type": "stream",
     "text": [
      "2024-06-17 21:35:52,843 - clearml.Task - INFO - Completed model upload to https://files.clear.ml/YOLOv8/train.5b84cacb3379476ca4d7a0692f1c7d83/models/best.pt\n"
     ]
    }
   ],
   "source": [
    "from ultralytics import YOLO\n",
    "\n",
    "model = YOLO(\"yolov8.yaml\").load(\"yolov8n.pt\")\n",
    "model.train(data=r\"C:\\Users\\zanyi\\OneDrive\\Git hub\\Ai\\YIC3(2)\\Microplastic-Detection-2\\data.yaml\", epochs=60, imgsz=640)"
   ]
  },
  {
   "cell_type": "code",
   "execution_count": 7,
   "metadata": {},
   "outputs": [
    {
     "name": "stdout",
     "output_type": "stream",
     "text": [
      "\n",
      "image 1/1 C:\\Users\\zanyi\\OneDrive\\Git hub\\Ai\\YIC3(2)\\Microplastic-Detection-2\\train\\images\\0671-0020_jpg.rf.9afb0f1fc5d6315b73d1324b4b470d22.jpg: 640x640 1 fibers, 257.1ms\n",
      "Speed: 5.8ms preprocess, 257.1ms inference, 0.5ms postprocess per image at shape (1, 3, 640, 640)\n",
      "Results saved to \u001b[1mruns\\detect\\predict\u001b[0m\n"
     ]
    },
    {
     "data": {
      "text/plain": [
       "[ultralytics.engine.results.Results object with attributes:\n",
       " \n",
       " boxes: ultralytics.engine.results.Boxes object\n",
       " keypoints: None\n",
       " masks: None\n",
       " names: {0: 'beads', 1: 'fibers', 2: 'fragments'}\n",
       " obb: None\n",
       " orig_img: array([[[3, 1, 0],\n",
       "         [3, 1, 0],\n",
       "         [3, 1, 0],\n",
       "         ...,\n",
       "         [3, 1, 0],\n",
       "         [3, 1, 0],\n",
       "         [3, 1, 0]],\n",
       " \n",
       "        [[3, 1, 0],\n",
       "         [3, 1, 0],\n",
       "         [3, 1, 0],\n",
       "         ...,\n",
       "         [3, 1, 0],\n",
       "         [3, 1, 0],\n",
       "         [3, 1, 0]],\n",
       " \n",
       "        [[3, 1, 0],\n",
       "         [3, 1, 0],\n",
       "         [3, 1, 0],\n",
       "         ...,\n",
       "         [3, 1, 0],\n",
       "         [3, 1, 0],\n",
       "         [3, 1, 0]],\n",
       " \n",
       "        ...,\n",
       " \n",
       "        [[3, 1, 0],\n",
       "         [3, 1, 0],\n",
       "         [3, 1, 0],\n",
       "         ...,\n",
       "         [3, 1, 1],\n",
       "         [3, 1, 1],\n",
       "         [3, 1, 1]],\n",
       " \n",
       "        [[3, 1, 0],\n",
       "         [3, 1, 0],\n",
       "         [3, 1, 0],\n",
       "         ...,\n",
       "         [3, 1, 1],\n",
       "         [3, 1, 1],\n",
       "         [3, 1, 1]],\n",
       " \n",
       "        [[3, 1, 0],\n",
       "         [3, 1, 0],\n",
       "         [3, 1, 0],\n",
       "         ...,\n",
       "         [3, 1, 1],\n",
       "         [3, 1, 1],\n",
       "         [3, 1, 1]]], dtype=uint8)\n",
       " orig_shape: (640, 640)\n",
       " path: 'C:\\\\Users\\\\zanyi\\\\OneDrive\\\\Git hub\\\\Ai\\\\YIC3(2)\\\\Microplastic-Detection-2\\\\train\\\\images\\\\0671-0020_jpg.rf.9afb0f1fc5d6315b73d1324b4b470d22.jpg'\n",
       " probs: None\n",
       " save_dir: 'runs\\\\detect\\\\predict'\n",
       " speed: {'preprocess': 5.767345428466797, 'inference': 257.0650577545166, 'postprocess': 0.5095005035400391}]"
      ]
     },
     "execution_count": 7,
     "metadata": {},
     "output_type": "execute_result"
    },
    {
     "ename": "",
     "evalue": "",
     "output_type": "error",
     "traceback": [
      "\u001b[1;31mThe Kernel crashed while executing code in the current cell or a previous cell. \n",
      "\u001b[1;31mPlease review the code in the cell(s) to identify a possible cause of the failure. \n",
      "\u001b[1;31mClick <a href='https://aka.ms/vscodeJupyterKernelCrash'>here</a> for more info. \n",
      "\u001b[1;31mView Jupyter <a href='command:jupyter.viewOutput'>log</a> for further details."
     ]
    }
   ],
   "source": [
    "from ultralytics import YOLO\n",
    "model = YOLO(r\"C:\\Users\\zanyi\\OneDrive\\Git hub\\Ai\\YIC3(2)\\runs\\detect\\train\\weights\\best.pt\")\n",
    "model.predict(source=r\"C:\\Users\\zanyi\\OneDrive\\Git hub\\Ai\\YIC3(2)\\Microplastic-Detection-2\\train\\images\\0671-0020_jpg.rf.9afb0f1fc5d6315b73d1324b4b470d22.jpg\", save=True)"
   ]
  }
 ],
 "metadata": {
  "kernelspec": {
   "display_name": "Python 3",
   "language": "python",
   "name": "python3"
  },
  "language_info": {
   "codemirror_mode": {
    "name": "ipython",
    "version": 3
   },
   "file_extension": ".py",
   "mimetype": "text/x-python",
   "name": "python",
   "nbconvert_exporter": "python",
   "pygments_lexer": "ipython3",
   "version": "3.10.8"
  }
 },
 "nbformat": 4,
 "nbformat_minor": 2
}
