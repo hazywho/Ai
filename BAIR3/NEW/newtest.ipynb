{
 "cells": [
  {
   "cell_type": "code",
   "execution_count": null,
   "metadata": {},
   "outputs": [],
   "source": [
    "!pip install roboflow\n",
    "\n",
    "from roboflow import Roboflow\n",
    "rf = Roboflow(api_key=\"TxIGi1xnNFU9liy45wew\")\n",
    "project = rf.workspace(\"custom-yolov5-o0hdb\").project(\"leukemia-cancer-detection\")\n",
    "version = project.version(6)\n",
    "dataset = version.download(\"yolov8\")\n"
   ]
  },
  {
   "cell_type": "code",
   "execution_count": null,
   "metadata": {},
   "outputs": [],
   "source": [
    "from PIL import Image\n",
    "Image.open(r\"C:\\Users\\zanyi\\OneDrive\\Git hub\\Ai\\BAIR3\\NEW\\Leukemia-Cancer-Detection-6\\test\\images\\WBC-Benign-141_jpg.rf.0ab7b9db292f730338a6e3629e9ab58e.jpg\").size"
   ]
  },
  {
   "cell_type": "code",
   "execution_count": null,
   "metadata": {},
   "outputs": [],
   "source": [
    "from ultralytics import YOLO\n",
    "\n",
    "model=YOLO(\"yolov8.yaml\").load(\"yolov8n.pt\")\n",
    "model.train(data=r\"C:\\Users\\zanyi\\OneDrive\\Git hub\\Ai\\BAIR3\\NEW\\Leukemia-Cancer-Detection-6\\data.yaml\",epochs = 70, imgsz=640)"
   ]
  },
  {
   "cell_type": "markdown",
   "metadata": {},
   "source": []
  },
  {
   "cell_type": "code",
   "execution_count": null,
   "metadata": {},
   "outputs": [],
   "source": [
    "from ultralytics import YOLO\n",
    "model = YOLO(r\"C:\\Users\\zanyi\\OneDrive\\Git hub\\Ai\\BAIR3\\NEW\\runs\\detect\\train4\\weights\\last.pt\")\n",
    "model.train(resume=True)"
   ]
  },
  {
   "cell_type": "code",
   "execution_count": null,
   "metadata": {},
   "outputs": [],
   "source": []
  },
  {
   "cell_type": "code",
   "execution_count": null,
   "metadata": {},
   "outputs": [],
   "source": [
    "from ultralytics import YOLO\n",
    "model = YOLO(r\"C:\\Users\\zanyi\\OneDrive\\Git hub\\Ai\\BAIR3\\NEW\\runs\\detect\\train4\\weights\\last.pt\")\n",
    "model.train(resume=True)"
   ]
  },
  {
   "cell_type": "code",
   "execution_count": null,
   "metadata": {},
   "outputs": [],
   "source": []
  }
 ],
 "metadata": {
  "kernelspec": {
   "display_name": "Python 3",
   "language": "python",
   "name": "python3"
  },
  "language_info": {
   "codemirror_mode": {
    "name": "ipython",
    "version": 3
   },
   "file_extension": ".py",
   "mimetype": "text/x-python",
   "name": "python",
   "nbconvert_exporter": "python",
   "pygments_lexer": "ipython3",
   "version": "3.10.8"
  }
 },
 "nbformat": 4,
 "nbformat_minor": 2
}
