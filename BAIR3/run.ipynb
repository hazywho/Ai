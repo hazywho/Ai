{
 "cells": [
  {
   "cell_type": "code",
   "execution_count": 10,
   "metadata": {},
   "outputs": [
    {
     "name": "stdout",
     "output_type": "stream",
     "text": [
      "Defaulting to user installation because normal site-packages is not writeable\n",
      "Requirement already satisfied: roboflow in c:\\program files\\python310\\lib\\site-packages (1.1.30)\n",
      "Requirement already satisfied: certifi==2023.7.22 in c:\\program files\\python310\\lib\\site-packages (from roboflow) (2023.7.22)\n",
      "Requirement already satisfied: chardet==4.0.0 in c:\\program files\\python310\\lib\\site-packages (from roboflow) (4.0.0)\n",
      "Requirement already satisfied: cycler==0.10.0 in c:\\program files\\python310\\lib\\site-packages (from roboflow) (0.10.0)\n",
      "Requirement already satisfied: idna==2.10 in c:\\program files\\python310\\lib\\site-packages (from roboflow) (2.10)\n",
      "Requirement already satisfied: kiwisolver>=1.3.1 in c:\\users\\zanyi\\appdata\\roaming\\python\\python310\\site-packages (from roboflow) (1.4.4)\n",
      "Requirement already satisfied: matplotlib in c:\\users\\zanyi\\appdata\\roaming\\python\\python310\\site-packages (from roboflow) (3.7.1)\n",
      "Requirement already satisfied: numpy>=1.18.5 in c:\\users\\zanyi\\appdata\\roaming\\python\\python310\\site-packages (from roboflow) (1.23.4)\n",
      "Requirement already satisfied: opencv-python-headless==4.8.0.74 in c:\\program files\\python310\\lib\\site-packages (from roboflow) (4.8.0.74)\n",
      "Requirement already satisfied: Pillow>=7.1.2 in c:\\users\\zanyi\\appdata\\roaming\\python\\python310\\site-packages (from roboflow) (9.4.0)\n",
      "Requirement already satisfied: python-dateutil in c:\\users\\zanyi\\appdata\\roaming\\python\\python310\\site-packages (from roboflow) (2.8.2)\n",
      "Requirement already satisfied: python-dotenv in c:\\users\\zanyi\\appdata\\roaming\\python\\python310\\site-packages (from roboflow) (1.0.1)\n",
      "Requirement already satisfied: requests in c:\\users\\zanyi\\appdata\\roaming\\python\\python310\\site-packages (from roboflow) (2.31.0)\n",
      "Requirement already satisfied: six in c:\\users\\zanyi\\appdata\\roaming\\python\\python310\\site-packages (from roboflow) (1.16.0)\n",
      "Requirement already satisfied: urllib3>=1.26.6 in c:\\users\\zanyi\\appdata\\roaming\\python\\python310\\site-packages (from roboflow) (2.0.3)\n",
      "Requirement already satisfied: tqdm>=4.41.0 in c:\\users\\zanyi\\appdata\\roaming\\python\\python310\\site-packages (from roboflow) (4.65.0)\n",
      "Requirement already satisfied: PyYAML>=5.3.1 in c:\\users\\zanyi\\appdata\\roaming\\python\\python310\\site-packages (from roboflow) (6.0)\n",
      "Requirement already satisfied: requests-toolbelt in c:\\users\\zanyi\\appdata\\roaming\\python\\python310\\site-packages (from roboflow) (1.0.0)\n",
      "Requirement already satisfied: python-magic in c:\\users\\zanyi\\appdata\\roaming\\python\\python310\\site-packages (from roboflow) (0.4.27)\n",
      "Requirement already satisfied: colorama in c:\\users\\zanyi\\appdata\\roaming\\python\\python310\\site-packages (from tqdm>=4.41.0->roboflow) (0.4.5)\n",
      "Requirement already satisfied: contourpy>=1.0.1 in c:\\users\\zanyi\\appdata\\roaming\\python\\python310\\site-packages (from matplotlib->roboflow) (1.0.7)\n",
      "Requirement already satisfied: fonttools>=4.22.0 in c:\\users\\zanyi\\appdata\\roaming\\python\\python310\\site-packages (from matplotlib->roboflow) (4.39.4)\n",
      "Requirement already satisfied: packaging>=20.0 in c:\\users\\zanyi\\appdata\\roaming\\python\\python310\\site-packages (from matplotlib->roboflow) (21.3)\n",
      "Requirement already satisfied: pyparsing>=2.3.1 in c:\\users\\zanyi\\appdata\\roaming\\python\\python310\\site-packages (from matplotlib->roboflow) (3.0.9)\n",
      "Requirement already satisfied: charset-normalizer<4,>=2 in c:\\users\\zanyi\\appdata\\roaming\\python\\python310\\site-packages (from requests->roboflow) (2.1.1)\n",
      "loading Roboflow workspace...\n",
      "loading Roboflow project...\n",
      "Dependency ultralytics==8.0.196 is required but found version=8.2.28, to fix: `pip install ultralytics==8.0.196`\n"
     ]
    },
    {
     "name": "stderr",
     "output_type": "stream",
     "text": [
      "Downloading Dataset Version Zip in Leukemia-Detection-1 to yolov8:: 100%|██████████| 65327/65327 [01:15<00:00, 863.97it/s] "
     ]
    },
    {
     "name": "stdout",
     "output_type": "stream",
     "text": [
      "\n"
     ]
    },
    {
     "name": "stderr",
     "output_type": "stream",
     "text": [
      "\n",
      "Extracting Dataset Version Zip to Leukemia-Detection-1 in yolov8:: 100%|██████████| 6793/6793 [00:06<00:00, 1087.62it/s]\n"
     ]
    }
   ],
   "source": [
    "!pip install roboflow\n",
    "\n",
    "from roboflow import Roboflow\n",
    "rf = Roboflow(api_key=\"TxIGi1xnNFU9liy45wew\")\n",
    "project = rf.workspace(\"new-workspace-iy2aw\").project(\"leukemia-detection\")\n",
    "version = project.version(1)\n",
    "dataset = version.download(\"yolov8\")\n",
    "\n"
   ]
  },
  {
   "cell_type": "code",
   "execution_count": 11,
   "metadata": {},
   "outputs": [
    {
     "name": "stdout",
     "output_type": "stream",
     "text": [
      "416\n",
      "416\n"
     ]
    }
   ],
   "source": [
    "import pandas\n",
    "from PIL import Image\n",
    "img = Image.open(r\"C:\\Users\\zanyi\\OneDrive\\Git hub\\Ai\\BAIR3\\Leukemia-Detection-1\\train\\images\\1_00005_jpg.rf.76b05973f396383d697f0eccfb01629e.jpg\")\n",
    "width,height=img.size\n",
    "print(width)\n",
    "print(height)"
   ]
  },
  {
   "cell_type": "code",
   "execution_count": 7,
   "metadata": {},
   "outputs": [
    {
     "name": "stdout",
     "output_type": "stream",
     "text": [
      "WARNING  no model scale passed. Assuming scale='n'.\n",
      "Transferred 355/355 items from pretrained weights\n",
      "Ultralytics YOLOv8.2.28  Python-3.10.8 torch-2.0.1+cpu CPU (AMD Ryzen 9 4900HS with Radeon Graphics)\n",
      "\u001b[34m\u001b[1mengine\\trainer: \u001b[0mtask=detect, mode=train, model=yolov8.yaml, data=C:\\Users\\zanyi\\OneDrive\\Git hub\\Ai\\BAIR3\\Lung-Cancer-1\\data.yaml, epochs=40, time=None, patience=100, batch=16, imgsz=416, save=True, save_period=-1, cache=False, device=None, workers=8, project=None, name=train4, exist_ok=False, pretrained=True, optimizer=auto, verbose=True, seed=0, deterministic=True, single_cls=False, rect=False, cos_lr=False, close_mosaic=10, resume=False, amp=True, fraction=1.0, profile=False, freeze=None, multi_scale=False, overlap_mask=True, mask_ratio=4, dropout=0.0, val=True, split=val, save_json=False, save_hybrid=False, conf=None, iou=0.7, max_det=300, half=False, dnn=False, plots=True, source=None, vid_stride=1, stream_buffer=False, visualize=False, augment=False, agnostic_nms=False, classes=None, retina_masks=False, embed=None, show=False, save_frames=False, save_txt=False, save_conf=False, save_crop=False, show_labels=True, show_conf=True, show_boxes=True, line_width=None, format=torchscript, keras=False, optimize=False, int8=False, dynamic=False, simplify=False, opset=None, workspace=4, nms=False, lr0=0.01, lrf=0.01, momentum=0.937, weight_decay=0.0005, warmup_epochs=3.0, warmup_momentum=0.8, warmup_bias_lr=0.1, box=7.5, cls=0.5, dfl=1.5, pose=12.0, kobj=1.0, label_smoothing=0.0, nbs=64, hsv_h=0.015, hsv_s=0.7, hsv_v=0.4, degrees=0.0, translate=0.1, scale=0.5, shear=0.0, perspective=0.0, flipud=0.0, fliplr=0.5, bgr=0.0, mosaic=1.0, mixup=0.0, copy_paste=0.0, auto_augment=randaugment, erasing=0.4, crop_fraction=1.0, cfg=None, tracker=botsort.yaml, save_dir=runs\\detect\\train4\n",
      "Overriding model.yaml nc=80 with nc=4\n",
      "WARNING  no model scale passed. Assuming scale='n'.\n",
      "\n",
      "                   from  n    params  module                                       arguments                     \n",
      "  0                  -1  1       464  ultralytics.nn.modules.conv.Conv             [3, 16, 3, 2]                 \n",
      "  1                  -1  1      4672  ultralytics.nn.modules.conv.Conv             [16, 32, 3, 2]                \n",
      "  2                  -1  1      7360  ultralytics.nn.modules.block.C2f             [32, 32, 1, True]             \n",
      "  3                  -1  1     18560  ultralytics.nn.modules.conv.Conv             [32, 64, 3, 2]                \n",
      "  4                  -1  2     49664  ultralytics.nn.modules.block.C2f             [64, 64, 2, True]             \n",
      "  5                  -1  1     73984  ultralytics.nn.modules.conv.Conv             [64, 128, 3, 2]               \n",
      "  6                  -1  2    197632  ultralytics.nn.modules.block.C2f             [128, 128, 2, True]           \n",
      "  7                  -1  1    295424  ultralytics.nn.modules.conv.Conv             [128, 256, 3, 2]              \n",
      "  8                  -1  1    460288  ultralytics.nn.modules.block.C2f             [256, 256, 1, True]           \n",
      "  9                  -1  1    164608  ultralytics.nn.modules.block.SPPF            [256, 256, 5]                 \n",
      " 10                  -1  1         0  torch.nn.modules.upsampling.Upsample         [None, 2, 'nearest']          \n",
      " 11             [-1, 6]  1         0  ultralytics.nn.modules.conv.Concat           [1]                           \n",
      " 12                  -1  1    148224  ultralytics.nn.modules.block.C2f             [384, 128, 1]                 \n",
      " 13                  -1  1         0  torch.nn.modules.upsampling.Upsample         [None, 2, 'nearest']          \n",
      " 14             [-1, 4]  1         0  ultralytics.nn.modules.conv.Concat           [1]                           \n",
      " 15                  -1  1     37248  ultralytics.nn.modules.block.C2f             [192, 64, 1]                  \n",
      " 16                  -1  1     36992  ultralytics.nn.modules.conv.Conv             [64, 64, 3, 2]                \n",
      " 17            [-1, 12]  1         0  ultralytics.nn.modules.conv.Concat           [1]                           \n",
      " 18                  -1  1    123648  ultralytics.nn.modules.block.C2f             [192, 128, 1]                 \n",
      " 19                  -1  1    147712  ultralytics.nn.modules.conv.Conv             [128, 128, 3, 2]              \n",
      " 20             [-1, 9]  1         0  ultralytics.nn.modules.conv.Concat           [1]                           \n",
      " 21                  -1  1    493056  ultralytics.nn.modules.block.C2f             [384, 256, 1]                 \n",
      " 22        [15, 18, 21]  1    752092  ultralytics.nn.modules.head.Detect           [4, [64, 128, 256]]           \n",
      "YOLOv8 summary: 225 layers, 3011628 parameters, 3011612 gradients, 8.2 GFLOPs\n",
      "\n",
      "Transferred 319/355 items from pretrained weights\n",
      "\u001b[34m\u001b[1mTensorBoard: \u001b[0mStart with 'tensorboard --logdir runs\\detect\\train4', view at http://localhost:6006/\n",
      "Freezing layer 'model.22.dfl.conv.weight'\n"
     ]
    },
    {
     "name": "stderr",
     "output_type": "stream",
     "text": [
      "\u001b[34m\u001b[1mtrain: \u001b[0mScanning C:\\Users\\zanyi\\OneDrive\\Git hub\\Ai\\BAIR3\\Lung-Cancer-1\\train\\labels.cache... 4335 images, 15 backgrounds, 0 corrupt: 100%|██████████| 4335/4335 [00:00<?, ?it/s]"
     ]
    },
    {
     "name": "stdout",
     "output_type": "stream",
     "text": [
      "WARNING  Box and segment counts should be equal, but got len(segments) = 3, len(boxes) = 4470. To resolve this only boxes will be used and all segments will be removed. To avoid this please supply either a detect or segment dataset, not a detect-segment mixed dataset.\n"
     ]
    },
    {
     "name": "stderr",
     "output_type": "stream",
     "text": [
      "\n",
      "\u001b[34m\u001b[1mval: \u001b[0mScanning C:\\Users\\zanyi\\OneDrive\\Git hub\\Ai\\BAIR3\\Lung-Cancer-1\\valid\\labels.cache... 182 images, 0 backgrounds, 0 corrupt: 100%|██████████| 182/182 [00:00<?, ?it/s]"
     ]
    },
    {
     "name": "stdout",
     "output_type": "stream",
     "text": [
      "Plotting labels to runs\\detect\\train4\\labels.jpg... \n"
     ]
    },
    {
     "name": "stderr",
     "output_type": "stream",
     "text": [
      "\n"
     ]
    },
    {
     "name": "stdout",
     "output_type": "stream",
     "text": [
      "\u001b[34m\u001b[1moptimizer:\u001b[0m 'optimizer=auto' found, ignoring 'lr0=0.01' and 'momentum=0.937' and determining best 'optimizer', 'lr0' and 'momentum' automatically... \n",
      "\u001b[34m\u001b[1moptimizer:\u001b[0m AdamW(lr=0.00125, momentum=0.9) with parameter groups 57 weight(decay=0.0), 64 weight(decay=0.0005), 63 bias(decay=0.0)\n",
      "\u001b[34m\u001b[1mTensorBoard: \u001b[0mmodel graph visualization added \n",
      "Image sizes 416 train, 416 val\n",
      "Using 0 dataloader workers\n",
      "Logging results to \u001b[1mruns\\detect\\train4\u001b[0m\n",
      "Starting training for 40 epochs...\n",
      "\n",
      "      Epoch    GPU_mem   box_loss   cls_loss   dfl_loss  Instances       Size\n"
     ]
    },
    {
     "name": "stderr",
     "output_type": "stream",
     "text": [
      "       1/40         0G     0.3299      1.858      1.038         43        416: 100%|██████████| 271/271 [23:53<00:00,  5.29s/it]\n",
      "                 Class     Images  Instances      Box(P          R      mAP50  mAP50-95): 100%|██████████| 6/6 [00:24<00:00,  4.13s/it]"
     ]
    },
    {
     "name": "stdout",
     "output_type": "stream",
     "text": [
      "                   all        182        186      0.443      0.698      0.598      0.481\n"
     ]
    },
    {
     "name": "stderr",
     "output_type": "stream",
     "text": [
      "\n"
     ]
    },
    {
     "name": "stdout",
     "output_type": "stream",
     "text": [
      "\n",
      "      Epoch    GPU_mem   box_loss   cls_loss   dfl_loss  Instances       Size\n"
     ]
    },
    {
     "name": "stderr",
     "output_type": "stream",
     "text": [
      "       2/40         0G     0.2467      1.201     0.9688         43        416: 100%|██████████| 271/271 [22:54<00:00,  5.07s/it]\n",
      "                 Class     Images  Instances      Box(P          R      mAP50  mAP50-95): 100%|██████████| 6/6 [00:24<00:00,  4.06s/it]"
     ]
    },
    {
     "name": "stdout",
     "output_type": "stream",
     "text": [
      "                   all        182        186       0.57      0.672      0.607      0.555\n"
     ]
    },
    {
     "name": "stderr",
     "output_type": "stream",
     "text": [
      "\n"
     ]
    },
    {
     "name": "stdout",
     "output_type": "stream",
     "text": [
      "\n",
      "      Epoch    GPU_mem   box_loss   cls_loss   dfl_loss  Instances       Size\n"
     ]
    },
    {
     "name": "stderr",
     "output_type": "stream",
     "text": [
      "       3/40         0G     0.2216      1.083     0.9565         48        416: 100%|██████████| 271/271 [24:10<00:00,  5.35s/it]\n",
      "                 Class     Images  Instances      Box(P          R      mAP50  mAP50-95): 100%|██████████| 6/6 [00:25<00:00,  4.25s/it]"
     ]
    },
    {
     "name": "stdout",
     "output_type": "stream",
     "text": [
      "                   all        182        186      0.486      0.661      0.604      0.533\n"
     ]
    },
    {
     "name": "stderr",
     "output_type": "stream",
     "text": [
      "\n"
     ]
    },
    {
     "name": "stdout",
     "output_type": "stream",
     "text": [
      "\n",
      "      Epoch    GPU_mem   box_loss   cls_loss   dfl_loss  Instances       Size\n"
     ]
    },
    {
     "name": "stderr",
     "output_type": "stream",
     "text": [
      "       4/40         0G     0.2178      1.041     0.9571         47        416: 100%|██████████| 271/271 [23:17<00:00,  5.16s/it]\n",
      "                 Class     Images  Instances      Box(P          R      mAP50  mAP50-95): 100%|██████████| 6/6 [00:24<00:00,  4.01s/it]"
     ]
    },
    {
     "name": "stdout",
     "output_type": "stream",
     "text": [
      "                   all        182        186      0.468      0.569      0.556      0.505\n"
     ]
    },
    {
     "name": "stderr",
     "output_type": "stream",
     "text": [
      "\n"
     ]
    },
    {
     "name": "stdout",
     "output_type": "stream",
     "text": [
      "\n",
      "      Epoch    GPU_mem   box_loss   cls_loss   dfl_loss  Instances       Size\n"
     ]
    },
    {
     "name": "stderr",
     "output_type": "stream",
     "text": [
      "       5/40         0G     0.2005     0.9884       0.95         54        416: 100%|██████████| 271/271 [22:49<00:00,  5.06s/it]\n",
      "                 Class     Images  Instances      Box(P          R      mAP50  mAP50-95): 100%|██████████| 6/6 [00:23<00:00,  3.97s/it]"
     ]
    },
    {
     "name": "stdout",
     "output_type": "stream",
     "text": [
      "                   all        182        186      0.569      0.776      0.735      0.659\n"
     ]
    },
    {
     "name": "stderr",
     "output_type": "stream",
     "text": [
      "\n"
     ]
    },
    {
     "name": "stdout",
     "output_type": "stream",
     "text": [
      "\n",
      "      Epoch    GPU_mem   box_loss   cls_loss   dfl_loss  Instances       Size\n"
     ]
    },
    {
     "name": "stderr",
     "output_type": "stream",
     "text": [
      "       6/40         0G     0.1811     0.9351     0.9458         50        416: 100%|██████████| 271/271 [22:46<00:00,  5.04s/it]\n",
      "                 Class     Images  Instances      Box(P          R      mAP50  mAP50-95): 100%|██████████| 6/6 [00:24<00:00,  4.01s/it]"
     ]
    },
    {
     "name": "stdout",
     "output_type": "stream",
     "text": [
      "                   all        182        186      0.592      0.758      0.693      0.641\n"
     ]
    },
    {
     "name": "stderr",
     "output_type": "stream",
     "text": [
      "\n"
     ]
    },
    {
     "name": "stdout",
     "output_type": "stream",
     "text": [
      "\n",
      "      Epoch    GPU_mem   box_loss   cls_loss   dfl_loss  Instances       Size\n"
     ]
    },
    {
     "name": "stderr",
     "output_type": "stream",
     "text": [
      "       7/40         0G     0.1711     0.8981      0.942         51        416: 100%|██████████| 271/271 [22:48<00:00,  5.05s/it]\n",
      "                 Class     Images  Instances      Box(P          R      mAP50  mAP50-95): 100%|██████████| 6/6 [00:23<00:00,  3.97s/it]"
     ]
    },
    {
     "name": "stdout",
     "output_type": "stream",
     "text": [
      "                   all        182        186       0.69      0.707      0.735      0.671\n"
     ]
    },
    {
     "name": "stderr",
     "output_type": "stream",
     "text": [
      "\n"
     ]
    },
    {
     "name": "stdout",
     "output_type": "stream",
     "text": [
      "\n",
      "      Epoch    GPU_mem   box_loss   cls_loss   dfl_loss  Instances       Size\n"
     ]
    },
    {
     "name": "stderr",
     "output_type": "stream",
     "text": [
      "       8/40         0G     0.1656     0.8862     0.9363         45        416: 100%|██████████| 271/271 [22:49<00:00,  5.05s/it]\n",
      "                 Class     Images  Instances      Box(P          R      mAP50  mAP50-95): 100%|██████████| 6/6 [00:24<00:00,  4.01s/it]"
     ]
    },
    {
     "name": "stdout",
     "output_type": "stream",
     "text": [
      "                   all        182        186      0.631        0.8      0.748      0.641\n"
     ]
    },
    {
     "name": "stderr",
     "output_type": "stream",
     "text": [
      "\n"
     ]
    },
    {
     "name": "stdout",
     "output_type": "stream",
     "text": [
      "\n",
      "      Epoch    GPU_mem   box_loss   cls_loss   dfl_loss  Instances       Size\n"
     ]
    },
    {
     "name": "stderr",
     "output_type": "stream",
     "text": [
      "       9/40         0G     0.1615     0.8628     0.9386         47        416: 100%|██████████| 271/271 [22:47<00:00,  5.04s/it]\n",
      "                 Class     Images  Instances      Box(P          R      mAP50  mAP50-95): 100%|██████████| 6/6 [00:23<00:00,  3.98s/it]"
     ]
    },
    {
     "name": "stdout",
     "output_type": "stream",
     "text": [
      "                   all        182        186      0.602      0.774      0.722      0.656\n"
     ]
    },
    {
     "name": "stderr",
     "output_type": "stream",
     "text": [
      "\n"
     ]
    },
    {
     "name": "stdout",
     "output_type": "stream",
     "text": [
      "\n",
      "      Epoch    GPU_mem   box_loss   cls_loss   dfl_loss  Instances       Size\n"
     ]
    },
    {
     "name": "stderr",
     "output_type": "stream",
     "text": [
      "      10/40         0G     0.1533     0.8395     0.9316         47        416: 100%|██████████| 271/271 [22:49<00:00,  5.05s/it]\n",
      "                 Class     Images  Instances      Box(P          R      mAP50  mAP50-95): 100%|██████████| 6/6 [00:24<00:00,  4.01s/it]"
     ]
    },
    {
     "name": "stdout",
     "output_type": "stream",
     "text": [
      "                   all        182        186      0.624      0.732      0.726      0.629\n"
     ]
    },
    {
     "name": "stderr",
     "output_type": "stream",
     "text": [
      "\n"
     ]
    },
    {
     "name": "stdout",
     "output_type": "stream",
     "text": [
      "\n",
      "      Epoch    GPU_mem   box_loss   cls_loss   dfl_loss  Instances       Size\n"
     ]
    },
    {
     "name": "stderr",
     "output_type": "stream",
     "text": [
      "      11/40         0G     0.1445     0.8198       0.93         43        416: 100%|██████████| 271/271 [22:45<00:00,  5.04s/it]\n",
      "                 Class     Images  Instances      Box(P          R      mAP50  mAP50-95): 100%|██████████| 6/6 [00:23<00:00,  3.99s/it]"
     ]
    },
    {
     "name": "stdout",
     "output_type": "stream",
     "text": [
      "                   all        182        186      0.644      0.716      0.772      0.723\n"
     ]
    },
    {
     "name": "stderr",
     "output_type": "stream",
     "text": [
      "\n"
     ]
    },
    {
     "name": "stdout",
     "output_type": "stream",
     "text": [
      "\n",
      "      Epoch    GPU_mem   box_loss   cls_loss   dfl_loss  Instances       Size\n"
     ]
    },
    {
     "name": "stderr",
     "output_type": "stream",
     "text": [
      "      12/40         0G     0.1461     0.8167     0.9336         48        416: 100%|██████████| 271/271 [22:45<00:00,  5.04s/it]\n",
      "                 Class     Images  Instances      Box(P          R      mAP50  mAP50-95): 100%|██████████| 6/6 [00:24<00:00,  4.02s/it]"
     ]
    },
    {
     "name": "stdout",
     "output_type": "stream",
     "text": [
      "                   all        182        186      0.729      0.735      0.795      0.704\n"
     ]
    },
    {
     "name": "stderr",
     "output_type": "stream",
     "text": [
      "\n"
     ]
    },
    {
     "name": "stdout",
     "output_type": "stream",
     "text": [
      "\n",
      "      Epoch    GPU_mem   box_loss   cls_loss   dfl_loss  Instances       Size\n"
     ]
    },
    {
     "name": "stderr",
     "output_type": "stream",
     "text": [
      "      13/40         0G     0.1456      0.807      0.932         49        416: 100%|██████████| 271/271 [22:47<00:00,  5.04s/it]\n",
      "                 Class     Images  Instances      Box(P          R      mAP50  mAP50-95): 100%|██████████| 6/6 [00:24<00:00,  4.01s/it]"
     ]
    },
    {
     "name": "stdout",
     "output_type": "stream",
     "text": [
      "                   all        182        186      0.761      0.758      0.822      0.781\n"
     ]
    },
    {
     "name": "stderr",
     "output_type": "stream",
     "text": [
      "\n"
     ]
    },
    {
     "name": "stdout",
     "output_type": "stream",
     "text": [
      "\n",
      "      Epoch    GPU_mem   box_loss   cls_loss   dfl_loss  Instances       Size\n"
     ]
    },
    {
     "name": "stderr",
     "output_type": "stream",
     "text": [
      "      14/40         0G     0.1401      0.786     0.9322         40        416: 100%|██████████| 271/271 [22:47<00:00,  5.05s/it]\n",
      "                 Class     Images  Instances      Box(P          R      mAP50  mAP50-95): 100%|██████████| 6/6 [00:23<00:00,  3.97s/it]"
     ]
    },
    {
     "name": "stdout",
     "output_type": "stream",
     "text": [
      "                   all        182        186      0.732      0.825      0.842      0.778\n"
     ]
    },
    {
     "name": "stderr",
     "output_type": "stream",
     "text": [
      "\n"
     ]
    },
    {
     "name": "stdout",
     "output_type": "stream",
     "text": [
      "\n",
      "      Epoch    GPU_mem   box_loss   cls_loss   dfl_loss  Instances       Size\n"
     ]
    },
    {
     "name": "stderr",
     "output_type": "stream",
     "text": [
      "      15/40         0G     0.1356     0.7637      0.928         56        416: 100%|██████████| 271/271 [22:45<00:00,  5.04s/it]\n",
      "                 Class     Images  Instances      Box(P          R      mAP50  mAP50-95): 100%|██████████| 6/6 [00:23<00:00,  3.98s/it]"
     ]
    },
    {
     "name": "stdout",
     "output_type": "stream",
     "text": [
      "                   all        182        186      0.653      0.744      0.776      0.721\n"
     ]
    },
    {
     "name": "stderr",
     "output_type": "stream",
     "text": [
      "\n"
     ]
    },
    {
     "name": "stdout",
     "output_type": "stream",
     "text": [
      "\n",
      "      Epoch    GPU_mem   box_loss   cls_loss   dfl_loss  Instances       Size\n"
     ]
    },
    {
     "name": "stderr",
     "output_type": "stream",
     "text": [
      "      16/40         0G     0.1356     0.7533     0.9258         42        416: 100%|██████████| 271/271 [22:45<00:00,  5.04s/it]\n",
      "                 Class     Images  Instances      Box(P          R      mAP50  mAP50-95): 100%|██████████| 6/6 [00:23<00:00,  4.00s/it]"
     ]
    },
    {
     "name": "stdout",
     "output_type": "stream",
     "text": [
      "                   all        182        186      0.767      0.712      0.837      0.764\n"
     ]
    },
    {
     "name": "stderr",
     "output_type": "stream",
     "text": [
      "\n"
     ]
    },
    {
     "name": "stdout",
     "output_type": "stream",
     "text": [
      "\n",
      "      Epoch    GPU_mem   box_loss   cls_loss   dfl_loss  Instances       Size\n"
     ]
    },
    {
     "name": "stderr",
     "output_type": "stream",
     "text": [
      "      17/40         0G     0.1298      0.741     0.9266         55        416: 100%|██████████| 271/271 [22:45<00:00,  5.04s/it]\n",
      "                 Class     Images  Instances      Box(P          R      mAP50  mAP50-95): 100%|██████████| 6/6 [00:24<00:00,  4.02s/it]"
     ]
    },
    {
     "name": "stdout",
     "output_type": "stream",
     "text": [
      "                   all        182        186      0.778      0.748      0.841      0.772\n"
     ]
    },
    {
     "name": "stderr",
     "output_type": "stream",
     "text": [
      "\n"
     ]
    },
    {
     "name": "stdout",
     "output_type": "stream",
     "text": [
      "\n",
      "      Epoch    GPU_mem   box_loss   cls_loss   dfl_loss  Instances       Size\n"
     ]
    },
    {
     "name": "stderr",
     "output_type": "stream",
     "text": [
      "      18/40         0G     0.1273     0.7299     0.9256         42        416: 100%|██████████| 271/271 [22:49<00:00,  5.05s/it]\n",
      "                 Class     Images  Instances      Box(P          R      mAP50  mAP50-95): 100%|██████████| 6/6 [00:24<00:00,  4.03s/it]"
     ]
    },
    {
     "name": "stdout",
     "output_type": "stream",
     "text": [
      "                   all        182        186       0.73      0.749      0.842       0.78\n"
     ]
    },
    {
     "name": "stderr",
     "output_type": "stream",
     "text": [
      "\n"
     ]
    },
    {
     "name": "stdout",
     "output_type": "stream",
     "text": [
      "\n",
      "      Epoch    GPU_mem   box_loss   cls_loss   dfl_loss  Instances       Size\n"
     ]
    },
    {
     "name": "stderr",
     "output_type": "stream",
     "text": [
      "      19/40         0G     0.1291     0.7166     0.9278         45        416: 100%|██████████| 271/271 [23:00<00:00,  5.10s/it]\n",
      "                 Class     Images  Instances      Box(P          R      mAP50  mAP50-95): 100%|██████████| 6/6 [00:24<00:00,  4.07s/it]"
     ]
    },
    {
     "name": "stdout",
     "output_type": "stream",
     "text": [
      "                   all        182        186      0.773      0.835      0.874      0.819\n"
     ]
    },
    {
     "name": "stderr",
     "output_type": "stream",
     "text": [
      "\n"
     ]
    },
    {
     "name": "stdout",
     "output_type": "stream",
     "text": [
      "\n",
      "      Epoch    GPU_mem   box_loss   cls_loss   dfl_loss  Instances       Size\n"
     ]
    },
    {
     "name": "stderr",
     "output_type": "stream",
     "text": [
      "      20/40         0G     0.1258     0.6931     0.9286         43        416: 100%|██████████| 271/271 [23:04<00:00,  5.11s/it]\n",
      "                 Class     Images  Instances      Box(P          R      mAP50  mAP50-95): 100%|██████████| 6/6 [00:24<00:00,  4.05s/it]"
     ]
    },
    {
     "name": "stdout",
     "output_type": "stream",
     "text": [
      "                   all        182        186       0.78      0.843      0.894       0.84\n"
     ]
    },
    {
     "name": "stderr",
     "output_type": "stream",
     "text": [
      "\n"
     ]
    },
    {
     "name": "stdout",
     "output_type": "stream",
     "text": [
      "\n",
      "      Epoch    GPU_mem   box_loss   cls_loss   dfl_loss  Instances       Size\n"
     ]
    },
    {
     "name": "stderr",
     "output_type": "stream",
     "text": [
      "      21/40         0G     0.1203     0.6798     0.9226         37        416: 100%|██████████| 271/271 [23:07<00:00,  5.12s/it]\n",
      "                 Class     Images  Instances      Box(P          R      mAP50  mAP50-95): 100%|██████████| 6/6 [00:24<00:00,  4.09s/it]"
     ]
    },
    {
     "name": "stdout",
     "output_type": "stream",
     "text": [
      "                   all        182        186       0.68      0.848      0.866      0.786\n"
     ]
    },
    {
     "name": "stderr",
     "output_type": "stream",
     "text": [
      "\n"
     ]
    },
    {
     "name": "stdout",
     "output_type": "stream",
     "text": [
      "\n",
      "      Epoch    GPU_mem   box_loss   cls_loss   dfl_loss  Instances       Size\n"
     ]
    },
    {
     "name": "stderr",
     "output_type": "stream",
     "text": [
      "      22/40         0G     0.1209     0.6701     0.9269         45        416:  55%|█████▍    | 149/271 [12:42<10:21,  5.10s/it]\u001b[1;38;5;196mCOMET ERROR:\u001b[0m Heartbeat processing error\n",
      "Retrying (Retry(total=237, connect=237, read=240, redirect=240, status=240)) after connection broken by 'NameResolutionError(\"<urllib3.connection.HTTPSConnection object at 0x000001AF08FB8070>: Failed to resolve 'api.clear.ml' ([Errno 11001] getaddrinfo failed)\")': /v2.23/events.add_batch\n",
      "Retrying (Retry(total=237, connect=237, read=240, redirect=240, status=240)) after connection broken by 'NameResolutionError(\"<urllib3.connection.HTTPSConnection object at 0x000001AF08FBA350>: Failed to resolve 'api.clear.ml' ([Errno 11001] getaddrinfo failed)\")': /v2.23/tasks.get_all\n",
      "Retrying (Retry(total=237, connect=238, read=239, redirect=240, status=240)) after connection broken by 'NameResolutionError(\"<urllib3.connection.HTTPSConnection object at 0x000001AF5507EE30>: Failed to resolve 'api.clear.ml' ([Errno 11001] getaddrinfo failed)\")': /v2.23/tasks.get_all\n",
      "      22/40         0G      0.121     0.6709      0.927         55        416:  55%|█████▌    | 150/271 [12:48<10:22,  5.14s/it]Retrying (Retry(total=236, connect=236, read=240, redirect=240, status=240)) after connection broken by 'NameResolutionError(\"<urllib3.connection.HTTPSConnection object at 0x000001AF5507FEE0>: Failed to resolve 'api.clear.ml' ([Errno 11001] getaddrinfo failed)\")': /v2.23/events.add_batch\n",
      "Retrying (Retry(total=236, connect=236, read=240, redirect=240, status=240)) after connection broken by 'NameResolutionError(\"<urllib3.connection.HTTPSConnection object at 0x000001AF0381ABC0>: Failed to resolve 'api.clear.ml' ([Errno 11001] getaddrinfo failed)\")': /v2.23/tasks.get_all\n",
      "      22/40         0G      0.122     0.6717     0.9281         44        416:  56%|█████▌    | 151/271 [12:53<10:11,  5.10s/it]Retrying (Retry(total=236, connect=237, read=239, redirect=240, status=240)) after connection broken by 'NameResolutionError(\"<urllib3.connection.HTTPSConnection object at 0x000001AF0381B1F0>: Failed to resolve 'api.clear.ml' ([Errno 11001] getaddrinfo failed)\")': /v2.23/tasks.get_all\n",
      "      22/40         0G     0.1226     0.6718     0.9288         54        416:  56%|█████▋    | 153/271 [13:03<09:56,  5.06s/it]Retrying (Retry(total=235, connect=235, read=240, redirect=240, status=240)) after connection broken by 'NameResolutionError(\"<urllib3.connection.HTTPSConnection object at 0x000001AF09E7ABF0>: Failed to resolve 'api.clear.ml' ([Errno 11001] getaddrinfo failed)\")': /v2.23/events.add_batch\n",
      "      22/40         0G     0.1227     0.6723     0.9294         48        416:  57%|█████▋    | 154/271 [13:08<09:47,  5.02s/it]Retrying (Retry(total=2, connect=2, read=5, redirect=5, status=None)) after connection broken by 'NameResolutionError(\"<urllib3.connection.HTTPSConnection object at 0x000001AF09E79CF0>: Failed to resolve 'files.clear.ml' ([Errno 11001] getaddrinfo failed)\")': /\n",
      "Retrying (Retry(total=235, connect=235, read=240, redirect=240, status=240)) after connection broken by 'NameResolutionError(\"<urllib3.connection.HTTPSConnection object at 0x000001AF09E7A140>: Failed to resolve 'api.clear.ml' ([Errno 11001] getaddrinfo failed)\")': /v2.23/tasks.get_all\n",
      "Retrying (Retry(total=235, connect=236, read=239, redirect=240, status=240)) after connection broken by 'NameResolutionError(\"<urllib3.connection.HTTPSConnection object at 0x000001AF09E781C0>: Failed to resolve 'api.clear.ml' ([Errno 11001] getaddrinfo failed)\")': /v2.23/tasks.get_all\n",
      "Retrying (Retry(total=1, connect=1, read=5, redirect=5, status=None)) after connection broken by 'NameResolutionError(\"<urllib3.connection.HTTPSConnection object at 0x000001AF09E79ED0>: Failed to resolve 'files.clear.ml' ([Errno 11001] getaddrinfo failed)\")': /\n",
      "      22/40         0G     0.1231     0.6726       0.93         52        416:  58%|█████▊    | 156/271 [13:18<09:40,  5.05s/it]Retrying (Retry(total=0, connect=0, read=5, redirect=5, status=None)) after connection broken by 'NameResolutionError(\"<urllib3.connection.HTTPSConnection object at 0x000001AF09E7B3A0>: Failed to resolve 'files.clear.ml' ([Errno 11001] getaddrinfo failed)\")': /\n",
      "      22/40         0G      0.123     0.6722     0.9297         47        416:  58%|█████▊    | 157/271 [13:23<09:43,  5.12s/it]Retrying (Retry(total=2, connect=2, read=5, redirect=5, status=None)) after connection broken by 'NameResolutionError(\"<urllib3.connection.HTTPSConnection object at 0x000001AF094BF0D0>: Failed to resolve 'files.clear.ml' ([Errno 11001] getaddrinfo failed)\")': /\n",
      "Retrying (Retry(total=1, connect=1, read=5, redirect=5, status=None)) after connection broken by 'NameResolutionError(\"<urllib3.connection.HTTPSConnection object at 0x000001AF094BC790>: Failed to resolve 'files.clear.ml' ([Errno 11001] getaddrinfo failed)\")': /\n",
      "      22/40         0G      0.123     0.6704     0.9298         49        416:  59%|█████▊    | 159/271 [13:33<09:30,  5.09s/it]Retrying (Retry(total=0, connect=0, read=5, redirect=5, status=None)) after connection broken by 'NameResolutionError(\"<urllib3.connection.HTTPSConnection object at 0x000001AF094BC520>: Failed to resolve 'files.clear.ml' ([Errno 11001] getaddrinfo failed)\")': /\n"
     ]
    },
    {
     "name": "stdout",
     "output_type": "stream",
     "text": [
      "2024-06-05 06:02:56,181 - clearml.storage - ERROR - Exception encountered while uploading HTTPSConnectionPool(host='files.clear.ml', port=443): Max retries exceeded with url: / (Caused by NameResolutionError(\"<urllib3.connection.HTTPSConnection object at 0x000001AF094BFF70>: Failed to resolve 'files.clear.ml' ([Errno 11001] getaddrinfo failed)\"))\n"
     ]
    },
    {
     "name": "stderr",
     "output_type": "stream",
     "text": [
      "      22/40         0G      0.123       0.67     0.9299         46        416:  59%|█████▉    | 160/271 [13:38<09:21,  5.06s/it]Retrying (Retry(total=234, connect=234, read=240, redirect=240, status=240)) after connection broken by 'NameResolutionError(\"<urllib3.connection.HTTPSConnection object at 0x000001AF09E78820>: Failed to resolve 'api.clear.ml' ([Errno 11001] getaddrinfo failed)\")': /v2.23/events.add_batch\n",
      "Retrying (Retry(total=234, connect=234, read=240, redirect=240, status=240)) after connection broken by 'NameResolutionError(\"<urllib3.connection.HTTPSConnection object at 0x000001AF09E78BB0>: Failed to resolve 'api.clear.ml' ([Errno 11001] getaddrinfo failed)\")': /v2.23/tasks.get_all\n",
      "Retrying (Retry(total=234, connect=235, read=239, redirect=240, status=240)) after connection broken by 'NameResolutionError(\"<urllib3.connection.HTTPSConnection object at 0x000001AF09E78E80>: Failed to resolve 'api.clear.ml' ([Errno 11001] getaddrinfo failed)\")': /v2.23/tasks.get_all\n",
      "      22/40         0G     0.1235     0.6712     0.9299         50        416:  61%|██████    | 165/271 [14:04<09:00,  5.10s/it]Retrying (Retry(total=2, connect=2, read=5, redirect=5, status=None)) after connection broken by 'NameResolutionError(\"<urllib3.connection.HTTPSConnection object at 0x000001AF0381BAC0>: Failed to resolve 'files.clear.ml' ([Errno 11001] getaddrinfo failed)\")': /\n",
      "      22/40         0G     0.1234     0.6703       0.93         45        416:  61%|██████▏   | 166/271 [14:09<08:53,  5.08s/it]Retrying (Retry(total=1, connect=1, read=5, redirect=5, status=None)) after connection broken by 'NameResolutionError(\"<urllib3.connection.HTTPSConnection object at 0x000001AF09E791B0>: Failed to resolve 'files.clear.ml' ([Errno 11001] getaddrinfo failed)\")': /\n",
      "      22/40         0G      0.123     0.6705     0.9295         47        416:  62%|██████▏   | 168/271 [14:19<08:41,  5.06s/it]Retrying (Retry(total=0, connect=0, read=5, redirect=5, status=None)) after connection broken by 'NameResolutionError(\"<urllib3.connection.HTTPSConnection object at 0x000001AF09E783D0>: Failed to resolve 'files.clear.ml' ([Errno 11001] getaddrinfo failed)\")': /\n",
      "Retrying (Retry(total=2, connect=2, read=5, redirect=5, status=None)) after connection broken by 'NameResolutionError(\"<urllib3.connection.HTTPSConnection object at 0x000001AF09E7A080>: Failed to resolve 'files.clear.ml' ([Errno 11001] getaddrinfo failed)\")': /\n",
      "      22/40         0G     0.1227     0.6699     0.9294         54        416:  62%|██████▏   | 169/271 [14:24<08:40,  5.10s/it]Retrying (Retry(total=1, connect=1, read=5, redirect=5, status=None)) after connection broken by 'NameResolutionError(\"<urllib3.connection.HTTPSConnection object at 0x000001AF09E78B80>: Failed to resolve 'files.clear.ml' ([Errno 11001] getaddrinfo failed)\")': /\n",
      "      22/40         0G     0.1232     0.6696     0.9301         52        416:  63%|██████▎   | 171/271 [14:34<08:28,  5.09s/it]Retrying (Retry(total=0, connect=0, read=5, redirect=5, status=None)) after connection broken by 'NameResolutionError(\"<urllib3.connection.HTTPSConnection object at 0x000001AF09E7A350>: Failed to resolve 'files.clear.ml' ([Errno 11001] getaddrinfo failed)\")': /\n",
      "Retrying (Retry(total=2, connect=2, read=5, redirect=5, status=None)) after connection broken by 'NameResolutionError(\"<urllib3.connection.HTTPSConnection object at 0x000001AF09E78520>: Failed to resolve 'files.clear.ml' ([Errno 11001] getaddrinfo failed)\")': /\n",
      "      22/40         0G     0.1239     0.6688     0.9306         47        416:  63%|██████▎   | 172/271 [14:39<08:22,  5.08s/it]Retrying (Retry(total=1, connect=1, read=5, redirect=5, status=None)) after connection broken by 'NameResolutionError(\"<urllib3.connection.HTTPSConnection object at 0x000001AF08FBA170>: Failed to resolve 'files.clear.ml' ([Errno 11001] getaddrinfo failed)\")': /\n",
      "Retrying (Retry(total=233, connect=233, read=240, redirect=240, status=240)) after connection broken by 'NameResolutionError(\"<urllib3.connection.HTTPSConnection object at 0x000001AF094BD510>: Failed to resolve 'api.clear.ml' ([Errno 11001] getaddrinfo failed)\")': /v2.23/events.add_batch\n",
      "      22/40         0G     0.1236     0.6691     0.9303         51        416:  64%|██████▍   | 173/271 [14:44<08:18,  5.09s/it]Retrying (Retry(total=233, connect=233, read=240, redirect=240, status=240)) after connection broken by 'NameResolutionError(\"<urllib3.connection.HTTPSConnection object at 0x000001AF094BD600>: Failed to resolve 'api.clear.ml' ([Errno 11001] getaddrinfo failed)\")': /v2.23/tasks.get_all\n",
      "Retrying (Retry(total=233, connect=234, read=239, redirect=240, status=240)) after connection broken by 'NameResolutionError(\"<urllib3.connection.HTTPSConnection object at 0x000001AF094BC9A0>: Failed to resolve 'api.clear.ml' ([Errno 11001] getaddrinfo failed)\")': /v2.23/tasks.get_all\n",
      "      22/40         0G     0.1234     0.6682     0.9301         43        416:  64%|██████▍   | 174/271 [14:49<08:13,  5.09s/it]Retrying (Retry(total=0, connect=0, read=5, redirect=5, status=None)) after connection broken by 'NameResolutionError(\"<urllib3.connection.HTTPSConnection object at 0x000001AF08FB8C70>: Failed to resolve 'files.clear.ml' ([Errno 11001] getaddrinfo failed)\")': /\n"
     ]
    },
    {
     "name": "stdout",
     "output_type": "stream",
     "text": [
      "2024-06-05 06:04:11,373 - clearml.storage - ERROR - Exception encountered while uploading HTTPSConnectionPool(host='files.clear.ml', port=443): Max retries exceeded with url: / (Caused by NameResolutionError(\"<urllib3.connection.HTTPSConnection object at 0x000001AF094BE1D0>: Failed to resolve 'files.clear.ml' ([Errno 11001] getaddrinfo failed)\"))\n"
     ]
    },
    {
     "name": "stderr",
     "output_type": "stream",
     "text": [
      "      22/40         0G     0.1236     0.6681     0.9306         47        416:  66%|██████▋   | 180/271 [15:20<07:39,  5.05s/it]Retrying (Retry(total=2, connect=2, read=5, redirect=5, status=None)) after connection broken by 'NameResolutionError(\"<urllib3.connection.HTTPSConnection object at 0x000001AF094BD420>: Failed to resolve 'files.clear.ml' ([Errno 11001] getaddrinfo failed)\")': /\n",
      "      22/40         0G     0.1238     0.6691      0.931         54        416:  67%|██████▋   | 181/271 [15:25<07:36,  5.07s/it]Retrying (Retry(total=1, connect=1, read=5, redirect=5, status=None)) after connection broken by 'NameResolutionError(\"<urllib3.connection.HTTPSConnection object at 0x000001AF094BC790>: Failed to resolve 'files.clear.ml' ([Errno 11001] getaddrinfo failed)\")': /\n",
      "      22/40         0G     0.1235      0.668     0.9313         42        416:  68%|██████▊   | 183/271 [15:35<07:32,  5.14s/it]Retrying (Retry(total=0, connect=0, read=5, redirect=5, status=None)) after connection broken by 'NameResolutionError(\"<urllib3.connection.HTTPSConnection object at 0x000001AF094BDC60>: Failed to resolve 'files.clear.ml' ([Errno 11001] getaddrinfo failed)\")': /\n",
      "Retrying (Retry(total=2, connect=2, read=5, redirect=5, status=None)) after connection broken by 'NameResolutionError(\"<urllib3.connection.HTTPSConnection object at 0x000001AF08EDA4A0>: Failed to resolve 'files.clear.ml' ([Errno 11001] getaddrinfo failed)\")': /\n",
      "      22/40         0G     0.1233     0.6687     0.9314         42        416:  68%|██████▊   | 184/271 [15:40<07:28,  5.15s/it]Retrying (Retry(total=1, connect=1, read=5, redirect=5, status=None)) after connection broken by 'NameResolutionError(\"<urllib3.connection.HTTPSConnection object at 0x000001AF08EDA200>: Failed to resolve 'files.clear.ml' ([Errno 11001] getaddrinfo failed)\")': /\n",
      "      22/40         0G     0.1236     0.6692     0.9316         46        416:  68%|██████▊   | 185/271 [15:45<07:20,  5.12s/it]Retrying (Retry(total=0, connect=0, read=5, redirect=5, status=None)) after connection broken by 'NameResolutionError(\"<urllib3.connection.HTTPSConnection object at 0x000001AF094BF310>: Failed to resolve 'files.clear.ml' ([Errno 11001] getaddrinfo failed)\")': /\n",
      "      22/40         0G     0.1235     0.6695      0.931         53        416:  69%|██████▊   | 186/271 [15:51<07:13,  5.10s/it]Retrying (Retry(total=2, connect=2, read=5, redirect=5, status=None)) after connection broken by 'NameResolutionError(\"<urllib3.connection.HTTPSConnection object at 0x000001AF5507E0B0>: Failed to resolve 'files.clear.ml' ([Errno 11001] getaddrinfo failed)\")': /\n",
      "      22/40         0G     0.1235     0.6702      0.931         54        416:  69%|██████▉   | 187/271 [15:56<07:07,  5.08s/it]Retrying (Retry(total=1, connect=1, read=5, redirect=5, status=None)) after connection broken by 'NameResolutionError(\"<urllib3.connection.HTTPSConnection object at 0x000001AF09E7A530>: Failed to resolve 'files.clear.ml' ([Errno 11001] getaddrinfo failed)\")': /\n",
      "      22/40         0G     0.1236     0.6708      0.931         48        416:  69%|██████▉   | 188/271 [16:01<07:05,  5.12s/it]Retrying (Retry(total=0, connect=0, read=5, redirect=5, status=None)) after connection broken by 'NameResolutionError(\"<urllib3.connection.HTTPSConnection object at 0x000001AF09E78D90>: Failed to resolve 'files.clear.ml' ([Errno 11001] getaddrinfo failed)\")': /\n"
     ]
    },
    {
     "name": "stdout",
     "output_type": "stream",
     "text": [
      "2024-06-05 06:05:26,566 - clearml.storage - ERROR - Exception encountered while uploading HTTPSConnectionPool(host='files.clear.ml', port=443): Max retries exceeded with url: / (Caused by NameResolutionError(\"<urllib3.connection.HTTPSConnection object at 0x000001AF09E7AB00>: Failed to resolve 'files.clear.ml' ([Errno 11001] getaddrinfo failed)\"))\n"
     ]
    },
    {
     "name": "stderr",
     "output_type": "stream",
     "text": [
      "      22/40         0G      0.124     0.6727     0.9307         49        416:  72%|███████▏  | 195/271 [16:37<06:27,  5.10s/it]Retrying (Retry(total=2, connect=2, read=5, redirect=5, status=None)) after connection broken by 'NameResolutionError(\"<urllib3.connection.HTTPSConnection object at 0x000001AF09E78670>: Failed to resolve 'files.clear.ml' ([Errno 11001] getaddrinfo failed)\")': /\n",
      "      22/40         0G     0.1241     0.6731     0.9309         51        416:  72%|███████▏  | 196/271 [16:42<06:20,  5.08s/it]Retrying (Retry(total=1, connect=1, read=5, redirect=5, status=None)) after connection broken by 'NameResolutionError(\"<urllib3.connection.HTTPSConnection object at 0x000001AF09E7B6A0>: Failed to resolve 'files.clear.ml' ([Errno 11001] getaddrinfo failed)\")': /\n",
      "Retrying (Retry(total=232, connect=232, read=240, redirect=240, status=240)) after connection broken by 'NameResolutionError(\"<urllib3.connection.HTTPSConnection object at 0x000001AF08FB8A90>: Failed to resolve 'api.clear.ml' ([Errno 11001] getaddrinfo failed)\")': /v2.23/events.add_batch\n",
      "Retrying (Retry(total=232, connect=232, read=240, redirect=240, status=240)) after connection broken by 'NameResolutionError(\"<urllib3.connection.HTTPSConnection object at 0x000001AF09E7A020>: Failed to resolve 'api.clear.ml' ([Errno 11001] getaddrinfo failed)\")': /v2.23/tasks.get_all\n",
      "Retrying (Retry(total=232, connect=233, read=239, redirect=240, status=240)) after connection broken by 'NameResolutionError(\"<urllib3.connection.HTTPSConnection object at 0x000001AF0359F490>: Failed to resolve 'api.clear.ml' ([Errno 11001] getaddrinfo failed)\")': /v2.23/tasks.get_all\n",
      "      22/40         0G     0.1239     0.6726     0.9307         48        416:  73%|███████▎  | 197/271 [16:47<06:16,  5.08s/it]Retrying (Retry(total=0, connect=0, read=5, redirect=5, status=None)) after connection broken by 'NameResolutionError(\"<urllib3.connection.HTTPSConnection object at 0x000001AF09E79300>: Failed to resolve 'files.clear.ml' ([Errno 11001] getaddrinfo failed)\")': /\n",
      "      22/40         0G     0.1238     0.6732     0.9307         49        416:  73%|███████▎  | 198/271 [16:52<06:09,  5.07s/it]Retrying (Retry(total=2, connect=2, read=5, redirect=5, status=None)) after connection broken by 'NameResolutionError(\"<urllib3.connection.HTTPSConnection object at 0x000001AF0381B0D0>: Failed to resolve 'files.clear.ml' ([Errno 11001] getaddrinfo failed)\")': /\n",
      "      22/40         0G     0.1236     0.6741     0.9304         45        416:  73%|███████▎  | 199/271 [16:57<06:04,  5.06s/it]Retrying (Retry(total=1, connect=1, read=5, redirect=5, status=None)) after connection broken by 'NameResolutionError(\"<urllib3.connection.HTTPSConnection object at 0x000001AF094BED10>: Failed to resolve 'files.clear.ml' ([Errno 11001] getaddrinfo failed)\")': /\n",
      "      22/40         0G     0.1236     0.6746     0.9305         43        416:  74%|███████▍  | 200/271 [17:02<05:58,  5.05s/it]Retrying (Retry(total=0, connect=0, read=5, redirect=5, status=None)) after connection broken by 'NameResolutionError(\"<urllib3.connection.HTTPSConnection object at 0x000001AF08EDB100>: Failed to resolve 'files.clear.ml' ([Errno 11001] getaddrinfo failed)\")': /\n",
      "      22/40         0G     0.1234     0.6746     0.9305         43        416:  74%|███████▍  | 201/271 [17:07<05:57,  5.11s/it]Retrying (Retry(total=2, connect=2, read=5, redirect=5, status=None)) after connection broken by 'NameResolutionError(\"<urllib3.connection.HTTPSConnection object at 0x000001AF08EDBE50>: Failed to resolve 'files.clear.ml' ([Errno 11001] getaddrinfo failed)\")': /\n",
      "      22/40         0G     0.1232     0.6744     0.9303         45        416:  75%|███████▍  | 202/271 [17:12<05:53,  5.12s/it]Retrying (Retry(total=1, connect=1, read=5, redirect=5, status=None)) after connection broken by 'NameResolutionError(\"<urllib3.connection.HTTPSConnection object at 0x000001AF08ED8D30>: Failed to resolve 'files.clear.ml' ([Errno 11001] getaddrinfo failed)\")': /\n",
      "      22/40         0G     0.1231     0.6741     0.9303         44        416:  75%|███████▍  | 203/271 [17:17<05:45,  5.07s/it]Retrying (Retry(total=0, connect=0, read=5, redirect=5, status=None)) after connection broken by 'NameResolutionError(\"<urllib3.connection.HTTPSConnection object at 0x000001AF08EDBCD0>: Failed to resolve 'files.clear.ml' ([Errno 11001] getaddrinfo failed)\")': /\n"
     ]
    },
    {
     "name": "stdout",
     "output_type": "stream",
     "text": [
      "2024-06-05 06:06:41,755 - clearml.storage - ERROR - Exception encountered while uploading HTTPSConnectionPool(host='files.clear.ml', port=443): Max retries exceeded with url: / (Caused by NameResolutionError(\"<urllib3.connection.HTTPSConnection object at 0x000001AF08ED9CC0>: Failed to resolve 'files.clear.ml' ([Errno 11001] getaddrinfo failed)\"))\n"
     ]
    },
    {
     "name": "stderr",
     "output_type": "stream",
     "text": [
      "      22/40         0G     0.1234     0.6724     0.9308         52        416:  77%|███████▋  | 209/271 [17:49<05:29,  5.32s/it]Retrying (Retry(total=2, connect=2, read=5, redirect=5, status=None)) after connection broken by 'NameResolutionError(\"<urllib3.connection.HTTPSConnection object at 0x000001AF094BDC00>: Failed to resolve 'files.clear.ml' ([Errno 11001] getaddrinfo failed)\")': /\n",
      "      22/40         0G     0.1234     0.6716     0.9311         44        416:  77%|███████▋  | 210/271 [17:54<05:19,  5.23s/it]Retrying (Retry(total=1, connect=1, read=5, redirect=5, status=None)) after connection broken by 'NameResolutionError(\"<urllib3.connection.HTTPSConnection object at 0x000001AF09E78280>: Failed to resolve 'files.clear.ml' ([Errno 11001] getaddrinfo failed)\")': /\n",
      "      22/40         0G     0.1234     0.6721     0.9311         43        416:  78%|███████▊  | 212/271 [18:04<05:04,  5.16s/it]Retrying (Retry(total=0, connect=0, read=5, redirect=5, status=None)) after connection broken by 'NameResolutionError(\"<urllib3.connection.HTTPSConnection object at 0x000001AF09E7AFE0>: Failed to resolve 'files.clear.ml' ([Errno 11001] getaddrinfo failed)\")': /\n",
      "Retrying (Retry(total=2, connect=2, read=5, redirect=5, status=None)) after connection broken by 'NameResolutionError(\"<urllib3.connection.HTTPSConnection object at 0x000001AF09E7BBE0>: Failed to resolve 'files.clear.ml' ([Errno 11001] getaddrinfo failed)\")': /\n",
      "      22/40         0G     0.1231     0.6716     0.9307         48        416:  79%|███████▊  | 213/271 [18:09<04:57,  5.12s/it]Retrying (Retry(total=1, connect=1, read=5, redirect=5, status=None)) after connection broken by 'NameResolutionError(\"<urllib3.connection.HTTPSConnection object at 0x000001AF08ED94E0>: Failed to resolve 'files.clear.ml' ([Errno 11001] getaddrinfo failed)\")': /\n",
      "      22/40         0G     0.1231     0.6727     0.9302         59        416:  79%|███████▉  | 215/271 [18:20<04:45,  5.11s/it]Retrying (Retry(total=0, connect=0, read=5, redirect=5, status=None)) after connection broken by 'NameResolutionError(\"<urllib3.connection.HTTPSConnection object at 0x000001AF094BD780>: Failed to resolve 'files.clear.ml' ([Errno 11001] getaddrinfo failed)\")': /\n",
      "Retrying (Retry(total=2, connect=2, read=5, redirect=5, status=None)) after connection broken by 'NameResolutionError(\"<urllib3.connection.HTTPSConnection object at 0x000001AF08ED8A60>: Failed to resolve 'files.clear.ml' ([Errno 11001] getaddrinfo failed)\")': /\n",
      "      22/40         0G      0.123     0.6717     0.9301         46        416:  80%|███████▉  | 216/271 [18:25<04:39,  5.09s/it]Retrying (Retry(total=1, connect=1, read=5, redirect=5, status=None)) after connection broken by 'NameResolutionError(\"<urllib3.connection.HTTPSConnection object at 0x000001AF08ED8DC0>: Failed to resolve 'files.clear.ml' ([Errno 11001] getaddrinfo failed)\")': /\n",
      "      22/40         0G     0.1226      0.672     0.9297         51        416:  80%|████████  | 218/271 [18:35<04:28,  5.07s/it]Retrying (Retry(total=0, connect=0, read=5, redirect=5, status=None)) after connection broken by 'NameResolutionError(\"<urllib3.connection.HTTPSConnection object at 0x000001AF08EDA920>: Failed to resolve 'files.clear.ml' ([Errno 11001] getaddrinfo failed)\")': /\n"
     ]
    },
    {
     "name": "stdout",
     "output_type": "stream",
     "text": [
      "2024-06-05 06:07:56,968 - clearml.storage - ERROR - Exception encountered while uploading HTTPSConnectionPool(host='files.clear.ml', port=443): Max retries exceeded with url: / (Caused by NameResolutionError(\"<urllib3.connection.HTTPSConnection object at 0x000001AF08ED81C0>: Failed to resolve 'files.clear.ml' ([Errno 11001] getaddrinfo failed)\"))\n"
     ]
    },
    {
     "name": "stderr",
     "output_type": "stream",
     "text": [
      "      22/40         0G     0.1225     0.6719     0.9295         51        416:  81%|████████  | 219/271 [18:40<04:22,  5.04s/it]Retrying (Retry(total=231, connect=231, read=240, redirect=240, status=240)) after connection broken by 'NameResolutionError(\"<urllib3.connection.HTTPSConnection object at 0x000001AF09E793C0>: Failed to resolve 'api.clear.ml' ([Errno 11001] getaddrinfo failed)\")': /v2.23/events.add_batch\n",
      "Retrying (Retry(total=231, connect=231, read=240, redirect=240, status=240)) after connection broken by 'NameResolutionError(\"<urllib3.connection.HTTPSConnection object at 0x000001AF09E78D00>: Failed to resolve 'api.clear.ml' ([Errno 11001] getaddrinfo failed)\")': /v2.23/tasks.get_all\n",
      "      22/40         0G     0.1224     0.6716     0.9293         53        416:  81%|████████  | 220/271 [18:45<04:17,  5.06s/it]Retrying (Retry(total=231, connect=232, read=239, redirect=240, status=240)) after connection broken by 'NameResolutionError(\"<urllib3.connection.HTTPSConnection object at 0x000001AF09E7AE30>: Failed to resolve 'api.clear.ml' ([Errno 11001] getaddrinfo failed)\")': /v2.23/tasks.get_all\n",
      "      22/40         0G     0.1222     0.6705     0.9297         43        416:  83%|████████▎ | 224/271 [19:05<03:58,  5.08s/it]Retrying (Retry(total=2, connect=2, read=5, redirect=5, status=None)) after connection broken by 'NameResolutionError(\"<urllib3.connection.HTTPSConnection object at 0x000001AF539B0B80>: Failed to resolve 'files.clear.ml' ([Errno 11001] getaddrinfo failed)\")': /\n",
      "      22/40         0G     0.1223     0.6705     0.9296         54        416:  83%|████████▎ | 225/271 [19:10<03:53,  5.08s/it]Retrying (Retry(total=1, connect=1, read=5, redirect=5, status=None)) after connection broken by 'NameResolutionError(\"<urllib3.connection.HTTPSConnection object at 0x000001AF539B0C40>: Failed to resolve 'files.clear.ml' ([Errno 11001] getaddrinfo failed)\")': /\n",
      "      22/40         0G     0.1223     0.6705     0.9294         51        416:  84%|████████▍ | 227/271 [19:21<03:44,  5.10s/it]Retrying (Retry(total=0, connect=0, read=5, redirect=5, status=None)) after connection broken by 'NameResolutionError(\"<urllib3.connection.HTTPSConnection object at 0x000001AF539B1990>: Failed to resolve 'files.clear.ml' ([Errno 11001] getaddrinfo failed)\")': /\n",
      "Retrying (Retry(total=2, connect=2, read=5, redirect=5, status=None)) after connection broken by 'NameResolutionError(\"<urllib3.connection.HTTPSConnection object at 0x000001AF09067A00>: Failed to resolve 'files.clear.ml' ([Errno 11001] getaddrinfo failed)\")': /\n",
      "      22/40         0G     0.1223     0.6703     0.9294         52        416:  84%|████████▍ | 228/271 [19:26<03:39,  5.11s/it]Retrying (Retry(total=1, connect=1, read=5, redirect=5, status=None)) after connection broken by 'NameResolutionError(\"<urllib3.connection.HTTPSConnection object at 0x000001AF090646A0>: Failed to resolve 'files.clear.ml' ([Errno 11001] getaddrinfo failed)\")': /\n",
      "      22/40         0G     0.1223     0.6698      0.929         50        416:  85%|████████▍ | 230/271 [19:36<03:29,  5.11s/it]Retrying (Retry(total=0, connect=0, read=5, redirect=5, status=None)) after connection broken by 'NameResolutionError(\"<urllib3.connection.HTTPSConnection object at 0x000001AF09064490>: Failed to resolve 'files.clear.ml' ([Errno 11001] getaddrinfo failed)\")': /\n",
      "Retrying (Retry(total=2, connect=2, read=5, redirect=5, status=None)) after connection broken by 'NameResolutionError(\"<urllib3.connection.HTTPSConnection object at 0x000001AF539B1120>: Failed to resolve 'files.clear.ml' ([Errno 11001] getaddrinfo failed)\")': /\n",
      "      22/40         0G     0.1223     0.6697      0.929         52        416:  85%|████████▌ | 231/271 [19:41<03:25,  5.13s/it]Retrying (Retry(total=1, connect=1, read=5, redirect=5, status=None)) after connection broken by 'NameResolutionError(\"<urllib3.connection.HTTPSConnection object at 0x000001AF539B31F0>: Failed to resolve 'files.clear.ml' ([Errno 11001] getaddrinfo failed)\")': /\n",
      "      22/40         0G     0.1223     0.6694     0.9289         48        416:  86%|████████▌ | 232/271 [19:46<03:19,  5.11s/it]Retrying (Retry(total=0, connect=0, read=5, redirect=5, status=None)) after connection broken by 'NameResolutionError(\"<urllib3.connection.HTTPSConnection object at 0x000001AF539B2D70>: Failed to resolve 'files.clear.ml' ([Errno 11001] getaddrinfo failed)\")': /\n"
     ]
    },
    {
     "name": "stdout",
     "output_type": "stream",
     "text": [
      "2024-06-05 06:09:12,166 - clearml.storage - ERROR - Exception encountered while uploading HTTPSConnectionPool(host='files.clear.ml', port=443): Max retries exceeded with url: / (Caused by NameResolutionError(\"<urllib3.connection.HTTPSConnection object at 0x000001AF094BDF60>: Failed to resolve 'files.clear.ml' ([Errno 11001] getaddrinfo failed)\"))\n"
     ]
    },
    {
     "name": "stderr",
     "output_type": "stream",
     "text": [
      "      22/40         0G     0.1219     0.6672     0.9289         48        416:  88%|████████▊ | 239/271 [20:22<02:42,  5.07s/it]Retrying (Retry(total=2, connect=2, read=5, redirect=5, status=None)) after connection broken by 'NameResolutionError(\"<urllib3.connection.HTTPSConnection object at 0x000001AF08ED87F0>: Failed to resolve 'files.clear.ml' ([Errno 11001] getaddrinfo failed)\")': /\n",
      "      22/40         0G     0.1218     0.6672     0.9289         50        416:  89%|████████▊ | 240/271 [20:27<02:38,  5.11s/it]Retrying (Retry(total=1, connect=1, read=5, redirect=5, status=None)) after connection broken by 'NameResolutionError(\"<urllib3.connection.HTTPSConnection object at 0x000001AF08EDAEF0>: Failed to resolve 'files.clear.ml' ([Errno 11001] getaddrinfo failed)\")': /\n",
      "      22/40         0G     0.1219      0.667     0.9287         48        416:  89%|████████▉ | 241/271 [20:32<02:32,  5.09s/it]Retrying (Retry(total=0, connect=0, read=5, redirect=5, status=None)) after connection broken by 'NameResolutionError(\"<urllib3.connection.HTTPSConnection object at 0x000001AF08ED9360>: Failed to resolve 'files.clear.ml' ([Errno 11001] getaddrinfo failed)\")': /\n",
      "      22/40         0G     0.1218     0.6666     0.9287         53        416:  89%|████████▉ | 242/271 [20:37<02:29,  5.15s/it]Retrying (Retry(total=2, connect=2, read=5, redirect=5, status=None)) after connection broken by 'NameResolutionError(\"<urllib3.connection.HTTPSConnection object at 0x000001AF09E78B50>: Failed to resolve 'files.clear.ml' ([Errno 11001] getaddrinfo failed)\")': /\n",
      "      22/40         0G     0.1218     0.6664     0.9287         49        416:  90%|████████▉ | 243/271 [20:42<02:23,  5.12s/it]Retrying (Retry(total=1, connect=1, read=5, redirect=5, status=None)) after connection broken by 'NameResolutionError(\"<urllib3.connection.HTTPSConnection object at 0x000001AF09E7B7F0>: Failed to resolve 'files.clear.ml' ([Errno 11001] getaddrinfo failed)\")': /\n",
      "Retrying (Retry(total=230, connect=230, read=240, redirect=240, status=240)) after connection broken by 'NameResolutionError(\"<urllib3.connection.HTTPSConnection object at 0x000001AF08EDB640>: Failed to resolve 'api.clear.ml' ([Errno 11001] getaddrinfo failed)\")': /v2.23/events.add_batch\n",
      "Retrying (Retry(total=230, connect=230, read=240, redirect=240, status=240)) after connection broken by 'NameResolutionError(\"<urllib3.connection.HTTPSConnection object at 0x000001AF08F37100>: Failed to resolve 'api.clear.ml' ([Errno 11001] getaddrinfo failed)\")': /v2.23/tasks.get_all\n",
      "Retrying (Retry(total=230, connect=231, read=239, redirect=240, status=240)) after connection broken by 'NameResolutionError(\"<urllib3.connection.HTTPSConnection object at 0x000001AF539B3220>: Failed to resolve 'api.clear.ml' ([Errno 11001] getaddrinfo failed)\")': /v2.23/tasks.get_all\n",
      "      22/40         0G     0.1218     0.6663     0.9288         53        416:  90%|█████████ | 244/271 [20:47<02:17,  5.10s/it]Retrying (Retry(total=0, connect=0, read=5, redirect=5, status=None)) after connection broken by 'NameResolutionError(\"<urllib3.connection.HTTPSConnection object at 0x000001AF09E7A2C0>: Failed to resolve 'files.clear.ml' ([Errno 11001] getaddrinfo failed)\")': /\n",
      "      22/40         0G     0.1218      0.668     0.9287         55        416:  90%|█████████ | 245/271 [20:53<02:12,  5.09s/it]Retrying (Retry(total=2, connect=2, read=5, redirect=5, status=None)) after connection broken by 'NameResolutionError(\"<urllib3.connection.HTTPSConnection object at 0x000001AF0381B6D0>: Failed to resolve 'files.clear.ml' ([Errno 11001] getaddrinfo failed)\")': /\n",
      "      22/40         0G     0.1218     0.6687     0.9287         54        416:  91%|█████████ | 246/271 [20:58<02:09,  5.19s/it]Retrying (Retry(total=1, connect=1, read=5, redirect=5, status=None)) after connection broken by 'NameResolutionError(\"<urllib3.connection.HTTPSConnection object at 0x000001AF09064A30>: Failed to resolve 'files.clear.ml' ([Errno 11001] getaddrinfo failed)\")': /\n",
      "      22/40         0G     0.1217      0.669     0.9287         50        416:  91%|█████████ | 247/271 [21:03<02:03,  5.16s/it]Retrying (Retry(total=0, connect=0, read=5, redirect=5, status=None)) after connection broken by 'NameResolutionError(\"<urllib3.connection.HTTPSConnection object at 0x000001AF09066AA0>: Failed to resolve 'files.clear.ml' ([Errno 11001] getaddrinfo failed)\")': /\n"
     ]
    },
    {
     "name": "stdout",
     "output_type": "stream",
     "text": [
      "2024-06-05 06:10:27,366 - clearml.storage - ERROR - Exception encountered while uploading HTTPSConnectionPool(host='files.clear.ml', port=443): Max retries exceeded with url: / (Caused by NameResolutionError(\"<urllib3.connection.HTTPSConnection object at 0x000001AF09064C10>: Failed to resolve 'files.clear.ml' ([Errno 11001] getaddrinfo failed)\"))\n"
     ]
    },
    {
     "name": "stderr",
     "output_type": "stream",
     "text": [
      "      22/40         0G     0.1209     0.6689      0.928         45        416:  94%|█████████▎| 254/271 [21:39<01:26,  5.11s/it]Retrying (Retry(total=2, connect=2, read=5, redirect=5, status=None)) after connection broken by 'NameResolutionError(\"<urllib3.connection.HTTPSConnection object at 0x000001AF09E7B1C0>: Failed to resolve 'files.clear.ml' ([Errno 11001] getaddrinfo failed)\")': /\n",
      "Retrying (Retry(total=1, connect=1, read=5, redirect=5, status=None)) after connection broken by 'NameResolutionError(\"<urllib3.connection.HTTPSConnection object at 0x000001AF08FBACE0>: Failed to resolve 'files.clear.ml' ([Errno 11001] getaddrinfo failed)\")': /\n",
      "      22/40         0G      0.121     0.6683     0.9282         47        416:  94%|█████████▍| 256/271 [21:49<01:16,  5.11s/it]Retrying (Retry(total=0, connect=0, read=5, redirect=5, status=None)) after connection broken by 'NameResolutionError(\"<urllib3.connection.HTTPSConnection object at 0x000001AF08EDB6A0>: Failed to resolve 'files.clear.ml' ([Errno 11001] getaddrinfo failed)\")': /\n",
      "      22/40         0G     0.1208     0.6682     0.9281         49        416:  95%|█████████▍| 257/271 [21:54<01:11,  5.08s/it]Retrying (Retry(total=2, connect=2, read=5, redirect=5, status=None)) after connection broken by 'NameResolutionError(\"<urllib3.connection.HTTPSConnection object at 0x000001AF08ED8E50>: Failed to resolve 'files.clear.ml' ([Errno 11001] getaddrinfo failed)\")': /\n",
      "Retrying (Retry(total=1, connect=1, read=5, redirect=5, status=None)) after connection broken by 'NameResolutionError(\"<urllib3.connection.HTTPSConnection object at 0x000001AF08FBBD30>: Failed to resolve 'files.clear.ml' ([Errno 11001] getaddrinfo failed)\")': /\n",
      "      22/40         0G     0.1205     0.6685     0.9278         48        416:  96%|█████████▌| 259/271 [22:04<01:01,  5.13s/it]Retrying (Retry(total=0, connect=0, read=5, redirect=5, status=None)) after connection broken by 'NameResolutionError(\"<urllib3.connection.HTTPSConnection object at 0x000001AF08FB8430>: Failed to resolve 'files.clear.ml' ([Errno 11001] getaddrinfo failed)\")': /\n",
      "      22/40         0G     0.1204     0.6682     0.9279         49        416:  96%|█████████▌| 260/271 [22:09<00:55,  5.09s/it]Retrying (Retry(total=2, connect=2, read=5, redirect=5, status=None)) after connection broken by 'NameResolutionError(\"<urllib3.connection.HTTPSConnection object at 0x000001AF539B13C0>: Failed to resolve 'files.clear.ml' ([Errno 11001] getaddrinfo failed)\")': /\n",
      "Retrying (Retry(total=1, connect=1, read=5, redirect=5, status=None)) after connection broken by 'NameResolutionError(\"<urllib3.connection.HTTPSConnection object at 0x000001AF094BD390>: Failed to resolve 'files.clear.ml' ([Errno 11001] getaddrinfo failed)\")': /\n",
      "      22/40         0G     0.1204      0.668     0.9279         49        416:  97%|█████████▋| 262/271 [22:19<00:45,  5.08s/it]Retrying (Retry(total=0, connect=0, read=5, redirect=5, status=None)) after connection broken by 'NameResolutionError(\"<urllib3.connection.HTTPSConnection object at 0x000001AF094BD810>: Failed to resolve 'files.clear.ml' ([Errno 11001] getaddrinfo failed)\")': /\n"
     ]
    },
    {
     "name": "stdout",
     "output_type": "stream",
     "text": [
      "2024-06-05 06:11:42,556 - clearml.storage - ERROR - Exception encountered while uploading HTTPSConnectionPool(host='files.clear.ml', port=443): Max retries exceeded with url: / (Caused by NameResolutionError(\"<urllib3.connection.HTTPSConnection object at 0x000001AF094BEA40>: Failed to resolve 'files.clear.ml' ([Errno 11001] getaddrinfo failed)\"))\n"
     ]
    },
    {
     "name": "stderr",
     "output_type": "stream",
     "text": [
      "      22/40         0G      0.121     0.6699     0.9279         42        416:  98%|█████████▊| 266/271 [22:40<00:25,  5.10s/it]Retrying (Retry(total=229, connect=229, read=240, redirect=240, status=240)) after connection broken by 'NameResolutionError(\"<urllib3.connection.HTTPSConnection object at 0x000001AF09E7B6A0>: Failed to resolve 'api.clear.ml' ([Errno 11001] getaddrinfo failed)\")': /v2.23/events.add_batch\n",
      "Retrying (Retry(total=229, connect=229, read=240, redirect=240, status=240)) after connection broken by 'NameResolutionError(\"<urllib3.connection.HTTPSConnection object at 0x000001AF09E7BF70>: Failed to resolve 'api.clear.ml' ([Errno 11001] getaddrinfo failed)\")': /v2.23/tasks.get_all\n",
      "      22/40         0G     0.1208     0.6701     0.9277         51        416:  99%|█████████▊| 267/271 [22:45<00:20,  5.12s/it]Retrying (Retry(total=229, connect=230, read=239, redirect=240, status=240)) after connection broken by 'NameResolutionError(\"<urllib3.connection.HTTPSConnection object at 0x000001AF09E7BBE0>: Failed to resolve 'api.clear.ml' ([Errno 11001] getaddrinfo failed)\")': /v2.23/tasks.get_all\n",
      "      22/40         0G     0.1207       0.67     0.9276         47        416:  99%|█████████▉| 268/271 [22:50<00:15,  5.13s/it]Retrying (Retry(total=2, connect=2, read=5, redirect=5, status=None)) after connection broken by 'NameResolutionError(\"<urllib3.connection.HTTPSConnection object at 0x000001AF09064040>: Failed to resolve 'files.clear.ml' ([Errno 11001] getaddrinfo failed)\")': /\n",
      "      22/40         0G     0.1205     0.6696     0.9275         46        416:  99%|█████████▉| 269/271 [22:55<00:10,  5.14s/it]Retrying (Retry(total=1, connect=1, read=5, redirect=5, status=None)) after connection broken by 'NameResolutionError(\"<urllib3.connection.HTTPSConnection object at 0x000001AF09067AC0>: Failed to resolve 'files.clear.ml' ([Errno 11001] getaddrinfo failed)\")': /\n",
      "      22/40         0G     0.1204     0.6689     0.9273         47        416: 100%|██████████| 271/271 [23:05<00:00,  5.11s/it]\n",
      "                 Class     Images  Instances      Box(P          R      mAP50  mAP50-95):   0%|          | 0/6 [00:00<?, ?it/s]Retrying (Retry(total=0, connect=0, read=5, redirect=5, status=None)) after connection broken by 'NameResolutionError(\"<urllib3.connection.HTTPSConnection object at 0x000001AF09066380>: Failed to resolve 'files.clear.ml' ([Errno 11001] getaddrinfo failed)\")': /\n",
      "Retrying (Retry(total=2, connect=2, read=5, redirect=5, status=None)) after connection broken by 'NameResolutionError(\"<urllib3.connection.HTTPSConnection object at 0x000001AF53DCE6E0>: Failed to resolve 'files.clear.ml' ([Errno 11001] getaddrinfo failed)\")': /\n",
      "                 Class     Images  Instances      Box(P          R      mAP50  mAP50-95):  17%|█▋        | 1/6 [00:04<00:21,  4.31s/it]Retrying (Retry(total=1, connect=1, read=5, redirect=5, status=None)) after connection broken by 'NameResolutionError(\"<urllib3.connection.HTTPSConnection object at 0x000001AF53DCDC00>: Failed to resolve 'files.clear.ml' ([Errno 11001] getaddrinfo failed)\")': /\n",
      "                 Class     Images  Instances      Box(P          R      mAP50  mAP50-95):  33%|███▎      | 2/6 [00:08<00:17,  4.28s/it]Retrying (Retry(total=237, connect=237, read=240, redirect=240, status=240)) after connection broken by 'NameResolutionError(\"<urllib3.connection.HTTPSConnection object at 0x000001AF53DCE830>: Failed to resolve 'api.clear.ml' ([Errno 11001] getaddrinfo failed)\")': /v2.23/events.add_batch\n",
      "                 Class     Images  Instances      Box(P          R      mAP50  mAP50-95):  50%|█████     | 3/6 [00:12<00:12,  4.23s/it]Retrying (Retry(total=0, connect=0, read=5, redirect=5, status=None)) after connection broken by 'NameResolutionError(\"<urllib3.connection.HTTPSConnection object at 0x000001AF539B3DF0>: Failed to resolve 'files.clear.ml' ([Errno 11001] getaddrinfo failed)\")': /\n",
      "                 Class     Images  Instances      Box(P          R      mAP50  mAP50-95):  67%|██████▋   | 4/6 [00:16<00:08,  4.23s/it]Retrying (Retry(total=236, connect=236, read=240, redirect=240, status=240)) after connection broken by 'NameResolutionError(\"<urllib3.connection.HTTPSConnection object at 0x000001AF094BDC90>: Failed to resolve 'api.clear.ml' ([Errno 11001] getaddrinfo failed)\")': /v2.23/events.add_batch\n",
      "Retrying (Retry(total=2, connect=2, read=5, redirect=5, status=None)) after connection broken by 'NameResolutionError(\"<urllib3.connection.HTTPSConnection object at 0x000001AF08FB9720>: Failed to resolve 'files.clear.ml' ([Errno 11001] getaddrinfo failed)\")': /\n",
      "                 Class     Images  Instances      Box(P          R      mAP50  mAP50-95):  83%|████████▎ | 5/6 [00:21<00:04,  4.31s/it]Retrying (Retry(total=1, connect=1, read=5, redirect=5, status=None)) after connection broken by 'NameResolutionError(\"<urllib3.connection.HTTPSConnection object at 0x000001AF094BEA40>: Failed to resolve 'files.clear.ml' ([Errno 11001] getaddrinfo failed)\")': /\n",
      "                 Class     Images  Instances      Box(P          R      mAP50  mAP50-95): 100%|██████████| 6/6 [00:24<00:00,  4.05s/it]"
     ]
    },
    {
     "name": "stdout",
     "output_type": "stream",
     "text": [
      "                   all        182        186      0.747      0.744      0.835      0.777\n"
     ]
    },
    {
     "name": "stderr",
     "output_type": "stream",
     "text": [
      "\n"
     ]
    },
    {
     "name": "stdout",
     "output_type": "stream",
     "text": [
      "\n",
      "      Epoch    GPU_mem   box_loss   cls_loss   dfl_loss  Instances       Size\n"
     ]
    },
    {
     "name": "stderr",
     "output_type": "stream",
     "text": [
      "      23/40         0G     0.1382      0.568     0.9129         44        416:   0%|          | 1/271 [00:05<22:39,  5.03s/it]Retrying (Retry(total=0, connect=0, read=5, redirect=5, status=None)) after connection broken by 'NameResolutionError(\"<urllib3.connection.HTTPSConnection object at 0x000001AF09E7B070>: Failed to resolve 'files.clear.ml' ([Errno 11001] getaddrinfo failed)\")': /\n"
     ]
    },
    {
     "name": "stdout",
     "output_type": "stream",
     "text": [
      "2024-06-05 06:12:57,749 - clearml.storage - ERROR - Exception encountered while uploading HTTPSConnectionPool(host='files.clear.ml', port=443): Max retries exceeded with url: / (Caused by NameResolutionError(\"<urllib3.connection.HTTPSConnection object at 0x000001AF0AACE950>: Failed to resolve 'files.clear.ml' ([Errno 11001] getaddrinfo failed)\"))\n"
     ]
    },
    {
     "name": "stderr",
     "output_type": "stream",
     "text": [
      "Retrying (Retry(total=235, connect=235, read=240, redirect=240, status=240)) after connection broken by 'NameResolutionError(\"<urllib3.connection.HTTPSConnection object at 0x000001AF08FBB0A0>: Failed to resolve 'api.clear.ml' ([Errno 11001] getaddrinfo failed)\")': /v2.23/events.add_batch\n",
      "      23/40         0G     0.1274       0.67     0.9252         53        416:   3%|▎         | 7/271 [00:35<22:10,  5.04s/it]Retrying (Retry(total=2, connect=2, read=5, redirect=5, status=None)) after connection broken by 'NameResolutionError(\"<urllib3.connection.HTTPSConnection object at 0x000001AF54EFB910>: Failed to resolve 'files.clear.ml' ([Errno 11001] getaddrinfo failed)\")': /\n",
      "      23/40         0G     0.1327     0.6828     0.9267         49        416:   3%|▎         | 8/271 [00:40<22:05,  5.04s/it]Retrying (Retry(total=234, connect=234, read=240, redirect=240, status=240)) after connection broken by 'NameResolutionError(\"<urllib3.connection.HTTPSConnection object at 0x000001AF0AACE230>: Failed to resolve 'api.clear.ml' ([Errno 11001] getaddrinfo failed)\")': /v2.23/events.add_batch\n",
      "Retrying (Retry(total=1, connect=1, read=5, redirect=5, status=None)) after connection broken by 'NameResolutionError(\"<urllib3.connection.HTTPSConnection object at 0x000001AF03691A80>: Failed to resolve 'files.clear.ml' ([Errno 11001] getaddrinfo failed)\")': /\n",
      "      23/40         0G     0.1339     0.6677     0.9305         48        416:   4%|▎         | 10/271 [00:50<22:01,  5.06s/it]Retrying (Retry(total=0, connect=0, read=5, redirect=5, status=None)) after connection broken by 'NameResolutionError(\"<urllib3.connection.HTTPSConnection object at 0x000001AF03690BB0>: Failed to resolve 'files.clear.ml' ([Errno 11001] getaddrinfo failed)\")': /\n",
      "Retrying (Retry(total=2, connect=2, read=5, redirect=5, status=None)) after connection broken by 'NameResolutionError(\"<urllib3.connection.HTTPSConnection object at 0x000001AF041402E0>: Failed to resolve 'files.clear.ml' ([Errno 11001] getaddrinfo failed)\")': /\n",
      "      23/40         0G     0.1335     0.6545     0.9268         50        416:   4%|▍         | 11/271 [00:55<21:51,  5.04s/it]Retrying (Retry(total=1, connect=1, read=5, redirect=5, status=None)) after connection broken by 'NameResolutionError(\"<urllib3.connection.HTTPSConnection object at 0x000001AF0381A590>: Failed to resolve 'files.clear.ml' ([Errno 11001] getaddrinfo failed)\")': /\n",
      "      23/40         0G     0.1301     0.6585     0.9193         49        416:   5%|▍         | 13/271 [01:05<21:39,  5.04s/it]Retrying (Retry(total=0, connect=0, read=5, redirect=5, status=None)) after connection broken by 'NameResolutionError(\"<urllib3.connection.HTTPSConnection object at 0x000001AF04142F20>: Failed to resolve 'files.clear.ml' ([Errno 11001] getaddrinfo failed)\")': /\n",
      "Retrying (Retry(total=2, connect=2, read=5, redirect=5, status=None)) after connection broken by 'NameResolutionError(\"<urllib3.connection.HTTPSConnection object at 0x000001AF04142C50>: Failed to resolve 'files.clear.ml' ([Errno 11001] getaddrinfo failed)\")': /\n",
      "      23/40         0G      0.127     0.6665     0.9201         51        416:   5%|▌         | 14/271 [01:10<21:33,  5.03s/it]Retrying (Retry(total=228, connect=228, read=240, redirect=240, status=240)) after connection broken by 'NameResolutionError(\"<urllib3.connection.HTTPSConnection object at 0x000001AF09064220>: Failed to resolve 'api.clear.ml' ([Errno 11001] getaddrinfo failed)\")': /v2.23/events.add_batch\n",
      "Retrying (Retry(total=1, connect=1, read=5, redirect=5, status=None)) after connection broken by 'NameResolutionError(\"<urllib3.connection.HTTPSConnection object at 0x000001AF04143940>: Failed to resolve 'files.clear.ml' ([Errno 11001] getaddrinfo failed)\")': /\n",
      "Retrying (Retry(total=228, connect=228, read=240, redirect=240, status=240)) after connection broken by 'NameResolutionError(\"<urllib3.connection.HTTPSConnection object at 0x000001AF09064C10>: Failed to resolve 'api.clear.ml' ([Errno 11001] getaddrinfo failed)\")': /v2.23/tasks.get_all\n",
      "Retrying (Retry(total=228, connect=229, read=239, redirect=240, status=240)) after connection broken by 'NameResolutionError(\"<urllib3.connection.HTTPSConnection object at 0x000001AF09066590>: Failed to resolve 'api.clear.ml' ([Errno 11001] getaddrinfo failed)\")': /v2.23/tasks.get_all\n",
      "      23/40         0G     0.1244     0.6727     0.9195         54        416:   6%|▌         | 16/271 [01:21<21:45,  5.12s/it]Retrying (Retry(total=0, connect=0, read=5, redirect=5, status=None)) after connection broken by 'NameResolutionError(\"<urllib3.connection.HTTPSConnection object at 0x000001AF041431F0>: Failed to resolve 'files.clear.ml' ([Errno 11001] getaddrinfo failed)\")': /\n"
     ]
    },
    {
     "name": "stdout",
     "output_type": "stream",
     "text": [
      "2024-06-05 06:14:12,948 - clearml.storage - ERROR - Exception encountered while uploading HTTPSConnectionPool(host='files.clear.ml', port=443): Max retries exceeded with url: / (Caused by NameResolutionError(\"<urllib3.connection.HTTPSConnection object at 0x000001AF08FB8160>: Failed to resolve 'files.clear.ml' ([Errno 11001] getaddrinfo failed)\"))\n"
     ]
    },
    {
     "name": "stderr",
     "output_type": "stream",
     "text": [
      "      23/40         0G     0.1188     0.6613     0.9211         54        416:   7%|▋         | 20/271 [01:41<21:10,  5.06s/it]Retrying (Retry(total=233, connect=233, read=240, redirect=240, status=240)) after connection broken by 'NameResolutionError(\"<urllib3.connection.HTTPSConnection object at 0x000001AF03691630>: Failed to resolve 'api.clear.ml' ([Errno 11001] getaddrinfo failed)\")': /v2.23/events.add_batch\n",
      "      23/40         0G     0.1148     0.6467     0.9198         51        416:   8%|▊         | 22/271 [01:51<21:05,  5.08s/it]Retrying (Retry(total=2, connect=2, read=5, redirect=5, status=None)) after connection broken by 'NameResolutionError(\"<urllib3.connection.HTTPSConnection object at 0x000001AF549BA8C0>: Failed to resolve 'files.clear.ml' ([Errno 11001] getaddrinfo failed)\")': /\n",
      "      23/40         0G     0.1155     0.6594     0.9223         45        416:   8%|▊         | 23/271 [01:56<20:55,  5.06s/it]Retrying (Retry(total=1, connect=1, read=5, redirect=5, status=None)) after connection broken by 'NameResolutionError(\"<urllib3.connection.HTTPSConnection object at 0x000001AF549B9030>: Failed to resolve 'files.clear.ml' ([Errno 11001] getaddrinfo failed)\")': /\n",
      "      23/40         0G     0.1165     0.6636      0.921         57        416:   9%|▉         | 25/271 [02:06<20:52,  5.09s/it]Retrying (Retry(total=0, connect=0, read=5, redirect=5, status=None)) after connection broken by 'NameResolutionError(\"<urllib3.connection.HTTPSConnection object at 0x000001AF54F0D870>: Failed to resolve 'files.clear.ml' ([Errno 11001] getaddrinfo failed)\")': /\n",
      "Retrying (Retry(total=2, connect=2, read=5, redirect=5, status=None)) after connection broken by 'NameResolutionError(\"<urllib3.connection.HTTPSConnection object at 0x000001AF036904F0>: Failed to resolve 'files.clear.ml' ([Errno 11001] getaddrinfo failed)\")': /\n",
      "      23/40         0G     0.1172     0.6644     0.9233         51        416:  10%|▉         | 26/271 [02:11<20:41,  5.07s/it]Retrying (Retry(total=1, connect=1, read=5, redirect=5, status=None)) after connection broken by 'NameResolutionError(\"<urllib3.connection.HTTPSConnection object at 0x000001AF03691210>: Failed to resolve 'files.clear.ml' ([Errno 11001] getaddrinfo failed)\")': /\n",
      "      23/40         0G     0.1157     0.6707     0.9246         48        416:  10%|▉         | 27/271 [02:16<20:32,  5.05s/it]Retrying (Retry(total=0, connect=0, read=5, redirect=5, status=None)) after connection broken by 'NameResolutionError(\"<urllib3.connection.HTTPSConnection object at 0x000001AF549B8CD0>: Failed to resolve 'files.clear.ml' ([Errno 11001] getaddrinfo failed)\")': /\n",
      "      23/40         0G     0.1153     0.6674     0.9261         51        416:  10%|█         | 28/271 [02:21<20:36,  5.09s/it]Retrying (Retry(total=2, connect=2, read=5, redirect=5, status=None)) after connection broken by 'NameResolutionError(\"<urllib3.connection.HTTPSConnection object at 0x000001AF5507F940>: Failed to resolve 'files.clear.ml' ([Errno 11001] getaddrinfo failed)\")': /\n",
      "      23/40         0G     0.1137     0.6646     0.9258         46        416:  11%|█         | 29/271 [02:26<20:23,  5.06s/it]Retrying (Retry(total=1, connect=1, read=5, redirect=5, status=None)) after connection broken by 'NameResolutionError(\"<urllib3.connection.HTTPSConnection object at 0x000001AF5507D1E0>: Failed to resolve 'files.clear.ml' ([Errno 11001] getaddrinfo failed)\")': /\n",
      "      23/40         0G      0.117     0.6656     0.9274         52        416:  11%|█         | 30/271 [02:32<20:28,  5.10s/it]Retrying (Retry(total=0, connect=0, read=5, redirect=5, status=None)) after connection broken by 'NameResolutionError(\"<urllib3.connection.HTTPSConnection object at 0x000001AF5507E620>: Failed to resolve 'files.clear.ml' ([Errno 11001] getaddrinfo failed)\")': /\n"
     ]
    },
    {
     "name": "stdout",
     "output_type": "stream",
     "text": [
      "2024-06-05 06:15:28,135 - clearml.storage - ERROR - Exception encountered while uploading HTTPSConnectionPool(host='files.clear.ml', port=443): Max retries exceeded with url: / (Caused by NameResolutionError(\"<urllib3.connection.HTTPSConnection object at 0x000001AF03690E20>: Failed to resolve 'files.clear.ml' ([Errno 11001] getaddrinfo failed)\"))\n"
     ]
    },
    {
     "name": "stderr",
     "output_type": "stream",
     "text": [
      "      23/40         0G     0.1218     0.6814      0.926         43        416:  14%|█▎        | 37/271 [03:07<19:58,  5.12s/it]Retrying (Retry(total=2, connect=2, read=5, redirect=5, status=None)) after connection broken by 'NameResolutionError(\"<urllib3.connection.HTTPSConnection object at 0x000001AF5507EEC0>: Failed to resolve 'files.clear.ml' ([Errno 11001] getaddrinfo failed)\")': /\n",
      "      23/40         0G     0.1226     0.6818     0.9266         48        416:  14%|█▍        | 38/271 [03:12<19:47,  5.10s/it]Retrying (Retry(total=227, connect=227, read=240, redirect=240, status=240)) after connection broken by 'NameResolutionError(\"<urllib3.connection.HTTPSConnection object at 0x000001AF04143280>: Failed to resolve 'api.clear.ml' ([Errno 11001] getaddrinfo failed)\")': /v2.23/events.add_batch\n",
      "Retrying (Retry(total=1, connect=1, read=5, redirect=5, status=None)) after connection broken by 'NameResolutionError(\"<urllib3.connection.HTTPSConnection object at 0x000001AF5507E8C0>: Failed to resolve 'files.clear.ml' ([Errno 11001] getaddrinfo failed)\")': /\n",
      "Retrying (Retry(total=227, connect=227, read=240, redirect=240, status=240)) after connection broken by 'NameResolutionError(\"<urllib3.connection.HTTPSConnection object at 0x000001AF04142680>: Failed to resolve 'api.clear.ml' ([Errno 11001] getaddrinfo failed)\")': /v2.23/tasks.get_all\n",
      "Retrying (Retry(total=227, connect=228, read=239, redirect=240, status=240)) after connection broken by 'NameResolutionError(\"<urllib3.connection.HTTPSConnection object at 0x000001AF04142260>: Failed to resolve 'api.clear.ml' ([Errno 11001] getaddrinfo failed)\")': /v2.23/tasks.get_all\n",
      "      23/40         0G     0.1223     0.6831     0.9256         46        416:  14%|█▍        | 39/271 [03:17<19:34,  5.06s/it]Retrying (Retry(total=0, connect=0, read=5, redirect=5, status=None)) after connection broken by 'NameResolutionError(\"<urllib3.connection.HTTPSConnection object at 0x000001AF5507C3D0>: Failed to resolve 'files.clear.ml' ([Errno 11001] getaddrinfo failed)\")': /\n",
      "      23/40         0G     0.1219     0.6807     0.9262         39        416:  15%|█▍        | 40/271 [03:22<19:26,  5.05s/it]Retrying (Retry(total=2, connect=2, read=5, redirect=5, status=None)) after connection broken by 'NameResolutionError(\"<urllib3.connection.HTTPSConnection object at 0x000001AF540EF880>: Failed to resolve 'files.clear.ml' ([Errno 11001] getaddrinfo failed)\")': /\n",
      "      23/40         0G     0.1223     0.6843     0.9252         57        416:  15%|█▌        | 41/271 [03:27<19:30,  5.09s/it]Retrying (Retry(total=1, connect=1, read=5, redirect=5, status=None)) after connection broken by 'NameResolutionError(\"<urllib3.connection.HTTPSConnection object at 0x000001AF540EFA60>: Failed to resolve 'files.clear.ml' ([Errno 11001] getaddrinfo failed)\")': /\n",
      "      23/40         0G     0.1227     0.6835     0.9255         55        416:  15%|█▌        | 42/271 [03:32<19:25,  5.09s/it]Retrying (Retry(total=0, connect=0, read=5, redirect=5, status=None)) after connection broken by 'NameResolutionError(\"<urllib3.connection.HTTPSConnection object at 0x000001AF540EDDE0>: Failed to resolve 'files.clear.ml' ([Errno 11001] getaddrinfo failed)\")': /\n",
      "      23/40         0G      0.122     0.6812     0.9247         52        416:  16%|█▌        | 43/271 [03:37<19:13,  5.06s/it]Retrying (Retry(total=2, connect=2, read=5, redirect=5, status=None)) after connection broken by 'NameResolutionError(\"<urllib3.connection.HTTPSConnection object at 0x000001AF0783E6B0>: Failed to resolve 'files.clear.ml' ([Errno 11001] getaddrinfo failed)\")': /\n",
      "      23/40         0G     0.1218     0.6788     0.9248         52        416:  16%|█▌        | 44/271 [03:43<19:16,  5.09s/it]Retrying (Retry(total=1, connect=1, read=5, redirect=5, status=None)) after connection broken by 'NameResolutionError(\"<urllib3.connection.HTTPSConnection object at 0x000001AF036911B0>: Failed to resolve 'files.clear.ml' ([Errno 11001] getaddrinfo failed)\")': /\n",
      "Retrying (Retry(total=232, connect=232, read=240, redirect=240, status=240)) after connection broken by 'NameResolutionError(\"<urllib3.connection.HTTPSConnection object at 0x000001AF0381A590>: Failed to resolve 'api.clear.ml' ([Errno 11001] getaddrinfo failed)\")': /v2.23/events.add_batch\n",
      "      23/40         0G     0.1225     0.6781     0.9251         50        416:  17%|█▋        | 45/271 [03:48<19:20,  5.13s/it]Retrying (Retry(total=0, connect=0, read=5, redirect=5, status=None)) after connection broken by 'NameResolutionError(\"<urllib3.connection.HTTPSConnection object at 0x000001AF03691A50>: Failed to resolve 'files.clear.ml' ([Errno 11001] getaddrinfo failed)\")': /\n"
     ]
    },
    {
     "name": "stdout",
     "output_type": "stream",
     "text": [
      "2024-06-05 06:16:43,283 - clearml.storage - ERROR - Exception encountered while uploading HTTPSConnectionPool(host='files.clear.ml', port=443): Max retries exceeded with url: / (Caused by NameResolutionError(\"<urllib3.connection.HTTPSConnection object at 0x000001AF53949F30>: Failed to resolve 'files.clear.ml' ([Errno 11001] getaddrinfo failed)\"))\n"
     ]
    },
    {
     "name": "stderr",
     "output_type": "stream",
     "text": [
      "      23/40         0G     0.1228     0.6793     0.9242         51        416:  19%|█▉        | 52/271 [04:24<18:50,  5.16s/it]Retrying (Retry(total=2, connect=2, read=5, redirect=5, status=None)) after connection broken by 'NameResolutionError(\"<urllib3.connection.HTTPSConnection object at 0x000001AF5392CEE0>: Failed to resolve 'files.clear.ml' ([Errno 11001] getaddrinfo failed)\")': /\n",
      "Retrying (Retry(total=1, connect=1, read=5, redirect=5, status=None)) after connection broken by 'NameResolutionError(\"<urllib3.connection.HTTPSConnection object at 0x000001AF5392E440>: Failed to resolve 'files.clear.ml' ([Errno 11001] getaddrinfo failed)\")': /\n",
      "      23/40         0G      0.122     0.6778     0.9246         50        416:  20%|█▉        | 54/271 [04:34<18:47,  5.19s/it]Retrying (Retry(total=0, connect=0, read=5, redirect=5, status=None)) after connection broken by 'NameResolutionError(\"<urllib3.connection.HTTPSConnection object at 0x000001AF5392F460>: Failed to resolve 'files.clear.ml' ([Errno 11001] getaddrinfo failed)\")': /\n",
      "      23/40         0G     0.1215     0.6761     0.9244         59        416:  20%|██        | 55/271 [04:39<18:26,  5.12s/it]Retrying (Retry(total=2, connect=2, read=5, redirect=5, status=None)) after connection broken by 'NameResolutionError(\"<urllib3.connection.HTTPSConnection object at 0x000001AF03DD81F0>: Failed to resolve 'files.clear.ml' ([Errno 11001] getaddrinfo failed)\")': /\n",
      "Retrying (Retry(total=1, connect=1, read=5, redirect=5, status=None)) after connection broken by 'NameResolutionError(\"<urllib3.connection.HTTPSConnection object at 0x000001AF03691960>: Failed to resolve 'files.clear.ml' ([Errno 11001] getaddrinfo failed)\")': /\n",
      "      23/40         0G     0.1215     0.6776     0.9236         54        416:  21%|██        | 57/271 [04:50<18:08,  5.08s/it]Retrying (Retry(total=0, connect=0, read=5, redirect=5, status=None)) after connection broken by 'NameResolutionError(\"<urllib3.connection.HTTPSConnection object at 0x000001AF03690220>: Failed to resolve 'files.clear.ml' ([Errno 11001] getaddrinfo failed)\")': /\n",
      "      23/40         0G     0.1218     0.6753     0.9236         46        416:  21%|██▏       | 58/271 [04:55<18:02,  5.08s/it]Retrying (Retry(total=2, connect=2, read=5, redirect=5, status=None)) after connection broken by 'NameResolutionError(\"<urllib3.connection.HTTPSConnection object at 0x000001AF540EFC10>: Failed to resolve 'files.clear.ml' ([Errno 11001] getaddrinfo failed)\")': /\n",
      "Retrying (Retry(total=1, connect=1, read=5, redirect=5, status=None)) after connection broken by 'NameResolutionError(\"<urllib3.connection.HTTPSConnection object at 0x000001AF540EF9D0>: Failed to resolve 'files.clear.ml' ([Errno 11001] getaddrinfo failed)\")': /\n",
      "      23/40         0G     0.1227      0.675      0.924         49        416:  22%|██▏       | 60/271 [05:05<17:57,  5.11s/it]Retrying (Retry(total=0, connect=0, read=5, redirect=5, status=None)) after connection broken by 'NameResolutionError(\"<urllib3.connection.HTTPSConnection object at 0x000001AF0368BE50>: Failed to resolve 'files.clear.ml' ([Errno 11001] getaddrinfo failed)\")': /\n"
     ]
    },
    {
     "name": "stdout",
     "output_type": "stream",
     "text": [
      "2024-06-05 06:17:58,464 - clearml.storage - ERROR - Exception encountered while uploading HTTPSConnectionPool(host='files.clear.ml', port=443): Max retries exceeded with url: / (Caused by NameResolutionError(\"<urllib3.connection.HTTPSConnection object at 0x000001AF540ED3C0>: Failed to resolve 'files.clear.ml' ([Errno 11001] getaddrinfo failed)\"))\n"
     ]
    },
    {
     "name": "stderr",
     "output_type": "stream",
     "text": [
      "      23/40         0G     0.1223     0.6767     0.9244         45        416:  23%|██▎       | 61/271 [05:10<17:52,  5.11s/it]Retrying (Retry(total=226, connect=226, read=240, redirect=240, status=240)) after connection broken by 'NameResolutionError(\"<urllib3.connection.HTTPSConnection object at 0x000001AF5507D5A0>: Failed to resolve 'api.clear.ml' ([Errno 11001] getaddrinfo failed)\")': /v2.23/events.add_batch\n",
      "Retrying (Retry(total=226, connect=226, read=240, redirect=240, status=240)) after connection broken by 'NameResolutionError(\"<urllib3.connection.HTTPSConnection object at 0x000001AF0783E980>: Failed to resolve 'api.clear.ml' ([Errno 11001] getaddrinfo failed)\")': /v2.23/tasks.get_all\n",
      "Retrying (Retry(total=226, connect=227, read=239, redirect=240, status=240)) after connection broken by 'NameResolutionError(\"<urllib3.connection.HTTPSConnection object at 0x000001AF0783E1D0>: Failed to resolve 'api.clear.ml' ([Errno 11001] getaddrinfo failed)\")': /v2.23/tasks.get_all\n",
      "      23/40         0G      0.121     0.6691     0.9244         55        416:  24%|██▍       | 66/271 [05:35<17:25,  5.10s/it]Retrying (Retry(total=2, connect=2, read=5, redirect=5, status=None)) after connection broken by 'NameResolutionError(\"<urllib3.connection.HTTPSConnection object at 0x000001AF5507D840>: Failed to resolve 'files.clear.ml' ([Errno 11001] getaddrinfo failed)\")': /\n",
      "      23/40         0G      0.122     0.6698     0.9243         47        416:  25%|██▍       | 67/271 [05:41<17:28,  5.14s/it]Retrying (Retry(total=1, connect=1, read=5, redirect=5, status=None)) after connection broken by 'NameResolutionError(\"<urllib3.connection.HTTPSConnection object at 0x000001AF54A44310>: Failed to resolve 'files.clear.ml' ([Errno 11001] getaddrinfo failed)\")': /\n",
      "Retrying (Retry(total=231, connect=231, read=240, redirect=240, status=240)) after connection broken by 'NameResolutionError(\"<urllib3.connection.HTTPSConnection object at 0x000001AF03690430>: Failed to resolve 'api.clear.ml' ([Errno 11001] getaddrinfo failed)\")': /v2.23/events.add_batch\n",
      "      23/40         0G     0.1223     0.6686     0.9252         47        416:  25%|██▌       | 69/271 [05:51<17:11,  5.11s/it]Retrying (Retry(total=0, connect=0, read=5, redirect=5, status=None)) after connection broken by 'NameResolutionError(\"<urllib3.connection.HTTPSConnection object at 0x000001AF54A463E0>: Failed to resolve 'files.clear.ml' ([Errno 11001] getaddrinfo failed)\")': /\n",
      "Retrying (Retry(total=2, connect=2, read=5, redirect=5, status=None)) after connection broken by 'NameResolutionError(\"<urllib3.connection.HTTPSConnection object at 0x000001AF4E77FF40>: Failed to resolve 'files.clear.ml' ([Errno 11001] getaddrinfo failed)\")': /\n",
      "      23/40         0G     0.1227     0.6666     0.9253         38        416:  26%|██▌       | 70/271 [05:56<17:14,  5.15s/it]Retrying (Retry(total=1, connect=1, read=5, redirect=5, status=None)) after connection broken by 'NameResolutionError(\"<urllib3.connection.HTTPSConnection object at 0x000001AF54A47A90>: Failed to resolve 'files.clear.ml' ([Errno 11001] getaddrinfo failed)\")': /\n",
      "      23/40         0G     0.1224     0.6674     0.9257         49        416:  27%|██▋       | 72/271 [06:06<16:57,  5.11s/it]Retrying (Retry(total=0, connect=0, read=5, redirect=5, status=None)) after connection broken by 'NameResolutionError(\"<urllib3.connection.HTTPSConnection object at 0x000001AF550A4F40>: Failed to resolve 'files.clear.ml' ([Errno 11001] getaddrinfo failed)\")': /\n",
      "Retrying (Retry(total=2, connect=2, read=5, redirect=5, status=None)) after connection broken by 'NameResolutionError(\"<urllib3.connection.HTTPSConnection object at 0x000001AF550A6620>: Failed to resolve 'files.clear.ml' ([Errno 11001] getaddrinfo failed)\")': /\n",
      "      23/40         0G     0.1222     0.6664     0.9256         44        416:  27%|██▋       | 73/271 [06:11<16:58,  5.14s/it]Retrying (Retry(total=1, connect=1, read=5, redirect=5, status=None)) after connection broken by 'NameResolutionError(\"<urllib3.connection.HTTPSConnection object at 0x000001AF550A5900>: Failed to resolve 'files.clear.ml' ([Errno 11001] getaddrinfo failed)\")': /\n",
      "      23/40         0G     0.1218     0.6678     0.9254         47        416:  28%|██▊       | 75/271 [06:22<16:49,  5.15s/it]Retrying (Retry(total=0, connect=0, read=5, redirect=5, status=None)) after connection broken by 'NameResolutionError(\"<urllib3.connection.HTTPSConnection object at 0x000001AF550A6440>: Failed to resolve 'files.clear.ml' ([Errno 11001] getaddrinfo failed)\")': /\n"
     ]
    },
    {
     "name": "stdout",
     "output_type": "stream",
     "text": [
      "2024-06-05 06:19:13,647 - clearml.storage - ERROR - Exception encountered while uploading HTTPSConnectionPool(host='files.clear.ml', port=443): Max retries exceeded with url: / (Caused by NameResolutionError(\"<urllib3.connection.HTTPSConnection object at 0x000001AF538ED210>: Failed to resolve 'files.clear.ml' ([Errno 11001] getaddrinfo failed)\"))\n"
     ]
    },
    {
     "name": "stderr",
     "output_type": "stream",
     "text": [
      "      23/40         0G      0.121     0.6643     0.9252         45        416:  30%|██▉       | 81/271 [06:53<16:24,  5.18s/it]Retrying (Retry(total=2, connect=2, read=5, redirect=5, status=None)) after connection broken by 'NameResolutionError(\"<urllib3.connection.HTTPSConnection object at 0x000001AF4FF45A80>: Failed to resolve 'files.clear.ml' ([Errno 11001] getaddrinfo failed)\")': /\n",
      "      23/40         0G     0.1208      0.667     0.9254         54        416:  30%|███       | 82/271 [06:58<16:15,  5.16s/it]Retrying (Retry(total=1, connect=1, read=5, redirect=5, status=None)) after connection broken by 'NameResolutionError(\"<urllib3.connection.HTTPSConnection object at 0x000001AF5507E3E0>: Failed to resolve 'files.clear.ml' ([Errno 11001] getaddrinfo failed)\")': /\n",
      "      23/40         0G     0.1212     0.6661     0.9255         53        416:  31%|███       | 83/271 [07:03<16:02,  5.12s/it]Retrying (Retry(total=0, connect=0, read=5, redirect=5, status=None)) after connection broken by 'NameResolutionError(\"<urllib3.connection.HTTPSConnection object at 0x000001AF540EFA60>: Failed to resolve 'files.clear.ml' ([Errno 11001] getaddrinfo failed)\")': /\n",
      "      23/40         0G     0.1216     0.6661     0.9257         50        416:  31%|███       | 84/271 [07:08<15:58,  5.13s/it]Retrying (Retry(total=2, connect=2, read=5, redirect=5, status=None)) after connection broken by 'NameResolutionError(\"<urllib3.connection.HTTPSConnection object at 0x000001AF0783FDF0>: Failed to resolve 'files.clear.ml' ([Errno 11001] getaddrinfo failed)\")': /\n",
      "Retrying (Retry(total=225, connect=225, read=240, redirect=240, status=240)) after connection broken by 'NameResolutionError(\"<urllib3.connection.HTTPSConnection object at 0x000001AF5507E4D0>: Failed to resolve 'api.clear.ml' ([Errno 11001] getaddrinfo failed)\")': /v2.23/events.add_batch\n",
      "      23/40         0G     0.1217      0.664     0.9258         49        416:  31%|███▏      | 85/271 [07:13<15:48,  5.10s/it]Retrying (Retry(total=225, connect=225, read=240, redirect=240, status=240)) after connection broken by 'NameResolutionError(\"<urllib3.connection.HTTPSConnection object at 0x000001AF5507C850>: Failed to resolve 'api.clear.ml' ([Errno 11001] getaddrinfo failed)\")': /v2.23/tasks.get_all\n",
      "Retrying (Retry(total=1, connect=1, read=5, redirect=5, status=None)) after connection broken by 'NameResolutionError(\"<urllib3.connection.HTTPSConnection object at 0x000001AF0783CD30>: Failed to resolve 'files.clear.ml' ([Errno 11001] getaddrinfo failed)\")': /\n",
      "Retrying (Retry(total=225, connect=226, read=239, redirect=240, status=240)) after connection broken by 'NameResolutionError(\"<urllib3.connection.HTTPSConnection object at 0x000001AF5507E0B0>: Failed to resolve 'api.clear.ml' ([Errno 11001] getaddrinfo failed)\")': /v2.23/tasks.get_all\n",
      "      23/40         0G     0.1215     0.6653      0.926         46        416:  32%|███▏      | 86/271 [07:18<15:55,  5.17s/it]Retrying (Retry(total=0, connect=0, read=5, redirect=5, status=None)) after connection broken by 'NameResolutionError(\"<urllib3.connection.HTTPSConnection object at 0x000001AF03690A00>: Failed to resolve 'files.clear.ml' ([Errno 11001] getaddrinfo failed)\")': /\n",
      "      23/40         0G     0.1213     0.6648      0.926         50        416:  32%|███▏      | 87/271 [07:23<15:41,  5.12s/it]Retrying (Retry(total=2, connect=2, read=5, redirect=5, status=None)) after connection broken by 'NameResolutionError(\"<urllib3.connection.HTTPSConnection object at 0x000001AF550A7280>: Failed to resolve 'files.clear.ml' ([Errno 11001] getaddrinfo failed)\")': /\n",
      "      23/40         0G     0.1208     0.6652     0.9255         48        416:  32%|███▏      | 88/271 [07:29<15:35,  5.11s/it]Retrying (Retry(total=1, connect=1, read=5, redirect=5, status=None)) after connection broken by 'NameResolutionError(\"<urllib3.connection.HTTPSConnection object at 0x000001AF550A5060>: Failed to resolve 'files.clear.ml' ([Errno 11001] getaddrinfo failed)\")': /\n",
      "      23/40         0G     0.1207     0.6651     0.9255         49        416:  33%|███▎      | 89/271 [07:34<15:29,  5.11s/it]Retrying (Retry(total=0, connect=0, read=5, redirect=5, status=None)) after connection broken by 'NameResolutionError(\"<urllib3.connection.HTTPSConnection object at 0x000001AF550A6830>: Failed to resolve 'files.clear.ml' ([Errno 11001] getaddrinfo failed)\")': /\n"
     ]
    },
    {
     "name": "stdout",
     "output_type": "stream",
     "text": [
      "2024-06-05 06:20:28,861 - clearml.storage - ERROR - Exception encountered while uploading HTTPSConnectionPool(host='files.clear.ml', port=443): Max retries exceeded with url: / (Caused by NameResolutionError(\"<urllib3.connection.HTTPSConnection object at 0x000001AF550A74F0>: Failed to resolve 'files.clear.ml' ([Errno 11001] getaddrinfo failed)\"))\n"
     ]
    },
    {
     "name": "stderr",
     "output_type": "stream",
     "text": [
      "      23/40         0G     0.1205     0.6664     0.9256         59        416:  34%|███▎      | 91/271 [07:44<15:11,  5.06s/it]Retrying (Retry(total=230, connect=230, read=240, redirect=240, status=240)) after connection broken by 'NameResolutionError(\"<urllib3.connection.HTTPSConnection object at 0x000001AF54A44910>: Failed to resolve 'api.clear.ml' ([Errno 11001] getaddrinfo failed)\")': /v2.23/events.add_batch\n",
      "      23/40         0G     0.1206     0.6684     0.9251         46        416:  35%|███▌      | 96/271 [08:09<14:43,  5.05s/it]Retrying (Retry(total=2, connect=2, read=5, redirect=5, status=None)) after connection broken by 'NameResolutionError(\"<urllib3.connection.HTTPSConnection object at 0x000001AF550A65F0>: Failed to resolve 'files.clear.ml' ([Errno 11001] getaddrinfo failed)\")': /\n",
      "      23/40         0G     0.1204     0.6677     0.9249         47        416:  36%|███▌      | 97/271 [08:14<14:35,  5.03s/it]Retrying (Retry(total=1, connect=1, read=5, redirect=5, status=None)) after connection broken by 'NameResolutionError(\"<urllib3.connection.HTTPSConnection object at 0x000001AF550A4AC0>: Failed to resolve 'files.clear.ml' ([Errno 11001] getaddrinfo failed)\")': /\n",
      "      23/40         0G     0.1207     0.6719     0.9252         40        416:  36%|███▌      | 98/271 [08:19<14:33,  5.05s/it]Retrying (Retry(total=0, connect=0, read=5, redirect=5, status=None)) after connection broken by 'NameResolutionError(\"<urllib3.connection.HTTPSConnection object at 0x000001AF550A4CD0>: Failed to resolve 'files.clear.ml' ([Errno 11001] getaddrinfo failed)\")': /\n",
      "      23/40         0G     0.1203     0.6731     0.9251         44        416:  37%|███▋      | 99/271 [08:24<14:35,  5.09s/it]Retrying (Retry(total=2, connect=2, read=5, redirect=5, status=None)) after connection broken by 'NameResolutionError(\"<urllib3.connection.HTTPSConnection object at 0x000001AF550A6590>: Failed to resolve 'files.clear.ml' ([Errno 11001] getaddrinfo failed)\")': /\n",
      "Retrying (Retry(total=1, connect=1, read=5, redirect=5, status=None)) after connection broken by 'NameResolutionError(\"<urllib3.connection.HTTPSConnection object at 0x000001AF03690A00>: Failed to resolve 'files.clear.ml' ([Errno 11001] getaddrinfo failed)\")': /\n",
      "      23/40         0G     0.1198     0.6726     0.9244         57        416:  37%|███▋      | 101/271 [08:34<14:21,  5.07s/it]Retrying (Retry(total=0, connect=0, read=5, redirect=5, status=None)) after connection broken by 'NameResolutionError(\"<urllib3.connection.HTTPSConnection object at 0x000001AF54A474F0>: Failed to resolve 'files.clear.ml' ([Errno 11001] getaddrinfo failed)\")': /\n",
      "      23/40         0G     0.1201     0.6733     0.9246         50        416:  38%|███▊      | 102/271 [08:39<14:13,  5.05s/it]Retrying (Retry(total=2, connect=2, read=5, redirect=5, status=None)) after connection broken by 'NameResolutionError(\"<urllib3.connection.HTTPSConnection object at 0x000001AF5507D840>: Failed to resolve 'files.clear.ml' ([Errno 11001] getaddrinfo failed)\")': /\n",
      "Retrying (Retry(total=1, connect=1, read=5, redirect=5, status=None)) after connection broken by 'NameResolutionError(\"<urllib3.connection.HTTPSConnection object at 0x000001AF44658B20>: Failed to resolve 'files.clear.ml' ([Errno 11001] getaddrinfo failed)\")': /\n",
      "      23/40         0G       0.12     0.6732     0.9242         53        416:  38%|███▊      | 104/271 [08:49<14:00,  5.03s/it]Retrying (Retry(total=0, connect=0, read=5, redirect=5, status=None)) after connection broken by 'NameResolutionError(\"<urllib3.connection.HTTPSConnection object at 0x000001AF54D83610>: Failed to resolve 'files.clear.ml' ([Errno 11001] getaddrinfo failed)\")': /\n"
     ]
    },
    {
     "name": "stdout",
     "output_type": "stream",
     "text": [
      "2024-06-05 06:21:44,066 - clearml.storage - ERROR - Exception encountered while uploading HTTPSConnectionPool(host='files.clear.ml', port=443): Max retries exceeded with url: / (Caused by NameResolutionError(\"<urllib3.connection.HTTPSConnection object at 0x000001AF08F8B370>: Failed to resolve 'files.clear.ml' ([Errno 11001] getaddrinfo failed)\"))\n"
     ]
    },
    {
     "name": "stderr",
     "output_type": "stream",
     "text": [
      "      23/40         0G     0.1204     0.6725     0.9248         43        416:  40%|███▉      | 108/271 [09:10<13:53,  5.12s/it]Retrying (Retry(total=224, connect=224, read=240, redirect=240, status=240)) after connection broken by 'NameResolutionError(\"<urllib3.connection.HTTPSConnection object at 0x000001AF036911B0>: Failed to resolve 'api.clear.ml' ([Errno 11001] getaddrinfo failed)\")': /v2.23/events.add_batch\n",
      "Retrying (Retry(total=224, connect=224, read=240, redirect=240, status=240)) after connection broken by 'NameResolutionError(\"<urllib3.connection.HTTPSConnection object at 0x000001AF03691360>: Failed to resolve 'api.clear.ml' ([Errno 11001] getaddrinfo failed)\")': /v2.23/tasks.get_all\n",
      "Retrying (Retry(total=224, connect=225, read=239, redirect=240, status=240)) after connection broken by 'NameResolutionError(\"<urllib3.connection.HTTPSConnection object at 0x000001AF550A4FD0>: Failed to resolve 'api.clear.ml' ([Errno 11001] getaddrinfo failed)\")': /v2.23/tasks.get_all\n",
      "      23/40         0G      0.121     0.6729     0.9243         47        416:  41%|████      | 110/271 [09:20<13:46,  5.13s/it]Retrying (Retry(total=2, connect=2, read=5, redirect=5, status=None)) after connection broken by 'NameResolutionError(\"<urllib3.connection.HTTPSConnection object at 0x000001AF08F8A710>: Failed to resolve 'files.clear.ml' ([Errno 11001] getaddrinfo failed)\")': /\n",
      "      23/40         0G     0.1209     0.6721      0.924         47        416:  41%|████      | 111/271 [09:26<13:41,  5.13s/it]Retrying (Retry(total=1, connect=1, read=5, redirect=5, status=None)) after connection broken by 'NameResolutionError(\"<urllib3.connection.HTTPSConnection object at 0x000001AF08F8A470>: Failed to resolve 'files.clear.ml' ([Errno 11001] getaddrinfo failed)\")': /\n",
      "      23/40         0G     0.1217     0.6716     0.9248         49        416:  42%|████▏     | 113/271 [09:36<13:29,  5.12s/it]Retrying (Retry(total=0, connect=0, read=5, redirect=5, status=None)) after connection broken by 'NameResolutionError(\"<urllib3.connection.HTTPSConnection object at 0x000001AF08F8B160>: Failed to resolve 'files.clear.ml' ([Errno 11001] getaddrinfo failed)\")': /\n",
      "Retrying (Retry(total=2, connect=2, read=5, redirect=5, status=None)) after connection broken by 'NameResolutionError(\"<urllib3.connection.HTTPSConnection object at 0x000001AF54D83610>: Failed to resolve 'files.clear.ml' ([Errno 11001] getaddrinfo failed)\")': /\n",
      "      23/40         0G     0.1215      0.672      0.925         51        416:  42%|████▏     | 114/271 [09:41<13:27,  5.14s/it]Retrying (Retry(total=229, connect=229, read=240, redirect=240, status=240)) after connection broken by 'NameResolutionError(\"<urllib3.connection.HTTPSConnection object at 0x000001AF550A7F10>: Failed to resolve 'api.clear.ml' ([Errno 11001] getaddrinfo failed)\")': /v2.23/events.add_batch\n",
      "Retrying (Retry(total=1, connect=1, read=5, redirect=5, status=None)) after connection broken by 'NameResolutionError(\"<urllib3.connection.HTTPSConnection object at 0x000001AF08FBBF10>: Failed to resolve 'files.clear.ml' ([Errno 11001] getaddrinfo failed)\")': /\n",
      "      23/40         0G     0.1225     0.6716      0.926         47        416:  43%|████▎     | 116/271 [09:51<13:15,  5.13s/it]Retrying (Retry(total=0, connect=0, read=5, redirect=5, status=None)) after connection broken by 'NameResolutionError(\"<urllib3.connection.HTTPSConnection object at 0x000001AF08F8B940>: Failed to resolve 'files.clear.ml' ([Errno 11001] getaddrinfo failed)\")': /\n",
      "Retrying (Retry(total=2, connect=2, read=5, redirect=5, status=None)) after connection broken by 'NameResolutionError(\"<urllib3.connection.HTTPSConnection object at 0x000001AF08F8BB20>: Failed to resolve 'files.clear.ml' ([Errno 11001] getaddrinfo failed)\")': /\n",
      "      23/40         0G      0.123     0.6734     0.9264         52        416:  43%|████▎     | 117/271 [09:56<13:06,  5.11s/it]Retrying (Retry(total=1, connect=1, read=5, redirect=5, status=None)) after connection broken by 'NameResolutionError(\"<urllib3.connection.HTTPSConnection object at 0x000001AF08F88250>: Failed to resolve 'files.clear.ml' ([Errno 11001] getaddrinfo failed)\")': /\n",
      "      23/40         0G     0.1228     0.6716     0.9266         51        416:  44%|████▍     | 119/271 [10:07<12:55,  5.10s/it]Retrying (Retry(total=0, connect=0, read=5, redirect=5, status=None)) after connection broken by 'NameResolutionError(\"<urllib3.connection.HTTPSConnection object at 0x000001AF5507C3D0>: Failed to resolve 'files.clear.ml' ([Errno 11001] getaddrinfo failed)\")': /\n"
     ]
    },
    {
     "name": "stdout",
     "output_type": "stream",
     "text": [
      "2024-06-05 06:22:59,256 - clearml.storage - ERROR - Exception encountered while uploading HTTPSConnectionPool(host='files.clear.ml', port=443): Max retries exceeded with url: / (Caused by NameResolutionError(\"<urllib3.connection.HTTPSConnection object at 0x000001AF4FF45C30>: Failed to resolve 'files.clear.ml' ([Errno 11001] getaddrinfo failed)\"))\n"
     ]
    },
    {
     "name": "stderr",
     "output_type": "stream",
     "text": [
      "      23/40         0G     0.1235     0.6703     0.9274         43        416:  46%|████▌     | 125/271 [10:37<12:25,  5.10s/it]Retrying (Retry(total=2, connect=2, read=5, redirect=5, status=None)) after connection broken by 'NameResolutionError(\"<urllib3.connection.HTTPSConnection object at 0x000001AF550A5240>: Failed to resolve 'files.clear.ml' ([Errno 11001] getaddrinfo failed)\")': /\n",
      "      23/40         0G     0.1234     0.6697     0.9269         47        416:  46%|████▋     | 126/271 [10:42<12:17,  5.09s/it]Retrying (Retry(total=1, connect=1, read=5, redirect=5, status=None)) after connection broken by 'NameResolutionError(\"<urllib3.connection.HTTPSConnection object at 0x000001AF550A4790>: Failed to resolve 'files.clear.ml' ([Errno 11001] getaddrinfo failed)\")': /\n",
      "      23/40         0G     0.1232     0.6685     0.9273         57        416:  47%|████▋     | 128/271 [10:52<12:00,  5.04s/it]Retrying (Retry(total=0, connect=0, read=5, redirect=5, status=None)) after connection broken by 'NameResolutionError(\"<urllib3.connection.HTTPSConnection object at 0x000001AF550A55A0>: Failed to resolve 'files.clear.ml' ([Errno 11001] getaddrinfo failed)\")': /\n",
      "Retrying (Retry(total=2, connect=2, read=5, redirect=5, status=None)) after connection broken by 'NameResolutionError(\"<urllib3.connection.HTTPSConnection object at 0x000001AF4FF45E40>: Failed to resolve 'files.clear.ml' ([Errno 11001] getaddrinfo failed)\")': /\n",
      "      23/40         0G     0.1229     0.6682     0.9275         42        416:  48%|████▊     | 129/271 [10:57<11:53,  5.02s/it]Retrying (Retry(total=1, connect=1, read=5, redirect=5, status=None)) after connection broken by 'NameResolutionError(\"<urllib3.connection.HTTPSConnection object at 0x000001AF094BD4E0>: Failed to resolve 'files.clear.ml' ([Errno 11001] getaddrinfo failed)\")': /\n",
      "      23/40         0G     0.1225     0.6678     0.9275         44        416:  48%|████▊     | 131/271 [11:07<11:50,  5.07s/it]Retrying (Retry(total=0, connect=0, read=5, redirect=5, status=None)) after connection broken by 'NameResolutionError(\"<urllib3.connection.HTTPSConnection object at 0x000001AF094BDAB0>: Failed to resolve 'files.clear.ml' ([Errno 11001] getaddrinfo failed)\")': /\n",
      "Retrying (Retry(total=2, connect=2, read=5, redirect=5, status=None)) after connection broken by 'NameResolutionError(\"<urllib3.connection.HTTPSConnection object at 0x000001AF094BCDF0>: Failed to resolve 'files.clear.ml' ([Errno 11001] getaddrinfo failed)\")': /\n",
      "      23/40         0G     0.1221     0.6677     0.9273         49        416:  49%|████▊     | 132/271 [11:13<11:44,  5.07s/it]Retrying (Retry(total=223, connect=223, read=240, redirect=240, status=240)) after connection broken by 'NameResolutionError(\"<urllib3.connection.HTTPSConnection object at 0x000001AF08F89660>: Failed to resolve 'api.clear.ml' ([Errno 11001] getaddrinfo failed)\")': /v2.23/events.add_batch\n",
      "Retrying (Retry(total=223, connect=223, read=240, redirect=240, status=240)) after connection broken by 'NameResolutionError(\"<urllib3.connection.HTTPSConnection object at 0x000001AF08F883D0>: Failed to resolve 'api.clear.ml' ([Errno 11001] getaddrinfo failed)\")': /v2.23/tasks.get_all\n",
      "Retrying (Retry(total=1, connect=1, read=5, redirect=5, status=None)) after connection broken by 'NameResolutionError(\"<urllib3.connection.HTTPSConnection object at 0x000001AF094BC460>: Failed to resolve 'files.clear.ml' ([Errno 11001] getaddrinfo failed)\")': /\n",
      "Retrying (Retry(total=223, connect=224, read=239, redirect=240, status=240)) after connection broken by 'NameResolutionError(\"<urllib3.connection.HTTPSConnection object at 0x000001AF08F88490>: Failed to resolve 'api.clear.ml' ([Errno 11001] getaddrinfo failed)\")': /v2.23/tasks.get_all\n",
      "      23/40         0G      0.122     0.6675     0.9275         44        416:  49%|████▉     | 134/271 [11:23<11:31,  5.05s/it]Retrying (Retry(total=0, connect=0, read=5, redirect=5, status=None)) after connection broken by 'NameResolutionError(\"<urllib3.connection.HTTPSConnection object at 0x000001AF094BC4C0>: Failed to resolve 'files.clear.ml' ([Errno 11001] getaddrinfo failed)\")': /\n"
     ]
    },
    {
     "name": "stdout",
     "output_type": "stream",
     "text": [
      "2024-06-05 06:24:14,467 - clearml.storage - ERROR - Exception encountered while uploading HTTPSConnectionPool(host='files.clear.ml', port=443): Max retries exceeded with url: / (Caused by NameResolutionError(\"<urllib3.connection.HTTPSConnection object at 0x000001AF0783FDF0>: Failed to resolve 'files.clear.ml' ([Errno 11001] getaddrinfo failed)\"))\n"
     ]
    },
    {
     "name": "stderr",
     "output_type": "stream",
     "text": [
      "      23/40         0G     0.1214      0.669     0.9265         43        416:  51%|█████     | 138/271 [11:43<11:11,  5.05s/it]Retrying (Retry(total=228, connect=228, read=240, redirect=240, status=240)) after connection broken by 'NameResolutionError(\"<urllib3.connection.HTTPSConnection object at 0x000001AF08F8B010>: Failed to resolve 'api.clear.ml' ([Errno 11001] getaddrinfo failed)\")': /v2.23/events.add_batch\n",
      "      23/40         0G     0.1218     0.6701     0.9271         46        416:  52%|█████▏    | 140/271 [11:53<11:00,  5.04s/it]Retrying (Retry(total=2, connect=2, read=5, redirect=5, status=None)) after connection broken by 'NameResolutionError(\"<urllib3.connection.HTTPSConnection object at 0x000001AF54D83580>: Failed to resolve 'files.clear.ml' ([Errno 11001] getaddrinfo failed)\")': /\n",
      "      23/40         0G     0.1218     0.6711     0.9274         52        416:  52%|█████▏    | 141/271 [11:58<10:53,  5.03s/it]Retrying (Retry(total=1, connect=1, read=5, redirect=5, status=None)) after connection broken by 'NameResolutionError(\"<urllib3.connection.HTTPSConnection object at 0x000001AF549BA8C0>: Failed to resolve 'files.clear.ml' ([Errno 11001] getaddrinfo failed)\")': /\n",
      "      23/40         0G     0.1218      0.671     0.9273         40        416:  52%|█████▏    | 142/271 [12:03<10:48,  5.03s/it]Retrying (Retry(total=0, connect=0, read=5, redirect=5, status=None)) after connection broken by 'NameResolutionError(\"<urllib3.connection.HTTPSConnection object at 0x000001AF550A40D0>: Failed to resolve 'files.clear.ml' ([Errno 11001] getaddrinfo failed)\")': /\n",
      "      23/40         0G     0.1214     0.6711     0.9271         45        416:  53%|█████▎    | 143/271 [12:08<10:44,  5.04s/it]Retrying (Retry(total=2, connect=2, read=5, redirect=5, status=None)) after connection broken by 'NameResolutionError(\"<urllib3.connection.HTTPSConnection object at 0x000001AF4E77FA30>: Failed to resolve 'files.clear.ml' ([Errno 11001] getaddrinfo failed)\")': /\n",
      "      23/40         0G     0.1214     0.6714     0.9275         45        416:  53%|█████▎    | 144/271 [12:13<10:42,  5.06s/it]Retrying (Retry(total=1, connect=1, read=5, redirect=5, status=None)) after connection broken by 'NameResolutionError(\"<urllib3.connection.HTTPSConnection object at 0x000001AF094BDC60>: Failed to resolve 'files.clear.ml' ([Errno 11001] getaddrinfo failed)\")': /\n",
      "      23/40         0G     0.1215     0.6714     0.9277         49        416:  54%|█████▎    | 145/271 [12:18<10:36,  5.05s/it]Retrying (Retry(total=0, connect=0, read=5, redirect=5, status=None)) after connection broken by 'NameResolutionError(\"<urllib3.connection.HTTPSConnection object at 0x000001AF094BC940>: Failed to resolve 'files.clear.ml' ([Errno 11001] getaddrinfo failed)\")': /\n",
      "      23/40         0G     0.1216     0.6718     0.9279         46        416:  54%|█████▍    | 146/271 [12:23<10:33,  5.07s/it]Retrying (Retry(total=2, connect=2, read=5, redirect=5, status=None)) after connection broken by 'NameResolutionError(\"<urllib3.connection.HTTPSConnection object at 0x000001AF550A61D0>: Failed to resolve 'files.clear.ml' ([Errno 11001] getaddrinfo failed)\")': /\n",
      "      23/40         0G     0.1213     0.6715     0.9279         48        416:  54%|█████▍    | 147/271 [12:28<10:29,  5.08s/it]Retrying (Retry(total=1, connect=1, read=5, redirect=5, status=None)) after connection broken by 'NameResolutionError(\"<urllib3.connection.HTTPSConnection object at 0x000001AF550A4340>: Failed to resolve 'files.clear.ml' ([Errno 11001] getaddrinfo failed)\")': /\n",
      "      23/40         0G     0.1209     0.6716     0.9277         51        416:  55%|█████▍    | 148/271 [12:33<10:29,  5.12s/it]Retrying (Retry(total=0, connect=0, read=5, redirect=5, status=None)) after connection broken by 'NameResolutionError(\"<urllib3.connection.HTTPSConnection object at 0x000001AF094BE350>: Failed to resolve 'files.clear.ml' ([Errno 11001] getaddrinfo failed)\")': /\n"
     ]
    },
    {
     "name": "stdout",
     "output_type": "stream",
     "text": [
      "2024-06-05 06:25:29,671 - clearml.storage - ERROR - Exception encountered while uploading HTTPSConnectionPool(host='files.clear.ml', port=443): Max retries exceeded with url: / (Caused by NameResolutionError(\"<urllib3.connection.HTTPSConnection object at 0x000001AF08ED8070>: Failed to resolve 'files.clear.ml' ([Errno 11001] getaddrinfo failed)\"))\n"
     ]
    },
    {
     "name": "stderr",
     "output_type": "stream",
     "text": [
      "      23/40         0G     0.1204     0.6729     0.9282         40        416:  57%|█████▋    | 155/271 [13:09<09:49,  5.08s/it]Retrying (Retry(total=2, connect=2, read=5, redirect=5, status=None)) after connection broken by 'NameResolutionError(\"<urllib3.connection.HTTPSConnection object at 0x000001AF08F88850>: Failed to resolve 'files.clear.ml' ([Errno 11001] getaddrinfo failed)\")': /\n",
      "Retrying (Retry(total=222, connect=222, read=240, redirect=240, status=240)) after connection broken by 'NameResolutionError(\"<urllib3.connection.HTTPSConnection object at 0x000001AF094BC730>: Failed to resolve 'api.clear.ml' ([Errno 11001] getaddrinfo failed)\")': /v2.23/events.add_batch\n",
      "Retrying (Retry(total=222, connect=222, read=240, redirect=240, status=240)) after connection broken by 'NameResolutionError(\"<urllib3.connection.HTTPSConnection object at 0x000001AF094BC5E0>: Failed to resolve 'api.clear.ml' ([Errno 11001] getaddrinfo failed)\")': /v2.23/tasks.get_all\n",
      "      23/40         0G     0.1205     0.6729     0.9281         47        416:  58%|█████▊    | 156/271 [13:14<09:46,  5.10s/it]Retrying (Retry(total=1, connect=1, read=5, redirect=5, status=None)) after connection broken by 'NameResolutionError(\"<urllib3.connection.HTTPSConnection object at 0x000001AF538EE710>: Failed to resolve 'files.clear.ml' ([Errno 11001] getaddrinfo failed)\")': /\n",
      "Retrying (Retry(total=222, connect=223, read=239, redirect=240, status=240)) after connection broken by 'NameResolutionError(\"<urllib3.connection.HTTPSConnection object at 0x000001AF094BC160>: Failed to resolve 'api.clear.ml' ([Errno 11001] getaddrinfo failed)\")': /v2.23/tasks.get_all\n",
      "      23/40         0G     0.1203     0.6725      0.928         44        416:  58%|█████▊    | 157/271 [13:19<09:40,  5.09s/it]Retrying (Retry(total=0, connect=0, read=5, redirect=5, status=None)) after connection broken by 'NameResolutionError(\"<urllib3.connection.HTTPSConnection object at 0x000001AF550A76A0>: Failed to resolve 'files.clear.ml' ([Errno 11001] getaddrinfo failed)\")': /\n",
      "      23/40         0G     0.1208     0.6722     0.9287         48        416:  58%|█████▊    | 158/271 [13:25<09:36,  5.10s/it]Retrying (Retry(total=2, connect=2, read=5, redirect=5, status=None)) after connection broken by 'NameResolutionError(\"<urllib3.connection.HTTPSConnection object at 0x000001AF094BE350>: Failed to resolve 'files.clear.ml' ([Errno 11001] getaddrinfo failed)\")': /\n",
      "      23/40         0G     0.1208     0.6725     0.9288         48        416:  59%|█████▊    | 159/271 [13:30<09:32,  5.11s/it]Retrying (Retry(total=1, connect=1, read=5, redirect=5, status=None)) after connection broken by 'NameResolutionError(\"<urllib3.connection.HTTPSConnection object at 0x000001AF094BE4A0>: Failed to resolve 'files.clear.ml' ([Errno 11001] getaddrinfo failed)\")': /\n",
      "      23/40         0G     0.1204     0.6727     0.9287         37        416:  59%|█████▉    | 160/271 [13:35<09:24,  5.09s/it]Retrying (Retry(total=0, connect=0, read=5, redirect=5, status=None)) after connection broken by 'NameResolutionError(\"<urllib3.connection.HTTPSConnection object at 0x000001AF094BD0C0>: Failed to resolve 'files.clear.ml' ([Errno 11001] getaddrinfo failed)\")': /\n",
      "      23/40         0G     0.1203     0.6723     0.9289         46        416:  59%|█████▉    | 161/271 [13:40<09:17,  5.07s/it]Retrying (Retry(total=2, connect=2, read=5, redirect=5, status=None)) after connection broken by 'NameResolutionError(\"<urllib3.connection.HTTPSConnection object at 0x000001AF08EDA860>: Failed to resolve 'files.clear.ml' ([Errno 11001] getaddrinfo failed)\")': /\n",
      "Retrying (Retry(total=227, connect=227, read=240, redirect=240, status=240)) after connection broken by 'NameResolutionError(\"<urllib3.connection.HTTPSConnection object at 0x000001AF54A46410>: Failed to resolve 'api.clear.ml' ([Errno 11001] getaddrinfo failed)\")': /v2.23/events.add_batch\n",
      "      23/40         0G     0.1203     0.6724     0.9288         53        416:  60%|█████▉    | 162/271 [13:45<09:13,  5.07s/it]Retrying (Retry(total=1, connect=1, read=5, redirect=5, status=None)) after connection broken by 'NameResolutionError(\"<urllib3.connection.HTTPSConnection object at 0x000001AF08ED8AC0>: Failed to resolve 'files.clear.ml' ([Errno 11001] getaddrinfo failed)\")': /\n",
      "      23/40         0G     0.1206     0.6722      0.929         45        416:  60%|██████    | 163/271 [13:50<09:09,  5.09s/it]Retrying (Retry(total=0, connect=0, read=5, redirect=5, status=None)) after connection broken by 'NameResolutionError(\"<urllib3.connection.HTTPSConnection object at 0x000001AF08EDA290>: Failed to resolve 'files.clear.ml' ([Errno 11001] getaddrinfo failed)\")': /\n"
     ]
    },
    {
     "name": "stdout",
     "output_type": "stream",
     "text": [
      "2024-06-05 06:26:44,900 - clearml.storage - ERROR - Exception encountered while uploading HTTPSConnectionPool(host='files.clear.ml', port=443): Max retries exceeded with url: / (Caused by NameResolutionError(\"<urllib3.connection.HTTPSConnection object at 0x000001AF08EDAEC0>: Failed to resolve 'files.clear.ml' ([Errno 11001] getaddrinfo failed)\"))\n"
     ]
    },
    {
     "name": "stderr",
     "output_type": "stream",
     "text": [
      "      23/40         0G     0.1202     0.6733     0.9287         57        416:  63%|██████▎   | 170/271 [14:26<08:42,  5.17s/it]Retrying (Retry(total=2, connect=2, read=5, redirect=5, status=None)) after connection broken by 'NameResolutionError(\"<urllib3.connection.HTTPSConnection object at 0x000001AF08ED8CD0>: Failed to resolve 'files.clear.ml' ([Errno 11001] getaddrinfo failed)\")': /\n",
      "Retrying (Retry(total=1, connect=1, read=5, redirect=5, status=None)) after connection broken by 'NameResolutionError(\"<urllib3.connection.HTTPSConnection object at 0x000001AF08ED8580>: Failed to resolve 'files.clear.ml' ([Errno 11001] getaddrinfo failed)\")': /\n",
      "      23/40         0G     0.1203     0.6746     0.9286         44        416:  63%|██████▎   | 172/271 [14:36<08:22,  5.08s/it]Retrying (Retry(total=0, connect=0, read=5, redirect=5, status=None)) after connection broken by 'NameResolutionError(\"<urllib3.connection.HTTPSConnection object at 0x000001AF08EDA500>: Failed to resolve 'files.clear.ml' ([Errno 11001] getaddrinfo failed)\")': /\n",
      "      23/40         0G       0.12     0.6749     0.9283         53        416:  64%|██████▍   | 173/271 [14:41<08:20,  5.11s/it]Retrying (Retry(total=2, connect=2, read=5, redirect=5, status=None)) after connection broken by 'NameResolutionError(\"<urllib3.connection.HTTPSConnection object at 0x000001AF51895150>: Failed to resolve 'files.clear.ml' ([Errno 11001] getaddrinfo failed)\")': /\n",
      "Retrying (Retry(total=1, connect=1, read=5, redirect=5, status=None)) after connection broken by 'NameResolutionError(\"<urllib3.connection.HTTPSConnection object at 0x000001AF51897FD0>: Failed to resolve 'files.clear.ml' ([Errno 11001] getaddrinfo failed)\")': /\n",
      "      23/40         0G     0.1202     0.6755     0.9281         53        416:  65%|██████▍   | 175/271 [14:51<08:06,  5.07s/it]Retrying (Retry(total=0, connect=0, read=5, redirect=5, status=None)) after connection broken by 'NameResolutionError(\"<urllib3.connection.HTTPSConnection object at 0x000001AF51897520>: Failed to resolve 'files.clear.ml' ([Errno 11001] getaddrinfo failed)\")': /\n",
      "Retrying (Retry(total=2, connect=2, read=5, redirect=5, status=None)) after connection broken by 'NameResolutionError(\"<urllib3.connection.HTTPSConnection object at 0x000001AF08ED95D0>: Failed to resolve 'files.clear.ml' ([Errno 11001] getaddrinfo failed)\")': /\n",
      "      23/40         0G     0.1201     0.6749     0.9282         50        416:  65%|██████▍   | 176/271 [14:56<08:08,  5.14s/it]Retrying (Retry(total=1, connect=1, read=5, redirect=5, status=None)) after connection broken by 'NameResolutionError(\"<urllib3.connection.HTTPSConnection object at 0x000001AF08ED82E0>: Failed to resolve 'files.clear.ml' ([Errno 11001] getaddrinfo failed)\")': /\n",
      "      23/40         0G     0.1208     0.6769     0.9282         51        416:  66%|██████▌   | 178/271 [15:07<07:56,  5.12s/it]Retrying (Retry(total=0, connect=0, read=5, redirect=5, status=None)) after connection broken by 'NameResolutionError(\"<urllib3.connection.HTTPSConnection object at 0x000001AF08EDBB80>: Failed to resolve 'files.clear.ml' ([Errno 11001] getaddrinfo failed)\")': /\n"
     ]
    },
    {
     "name": "stdout",
     "output_type": "stream",
     "text": [
      "2024-06-05 06:28:00,080 - clearml.storage - ERROR - Exception encountered while uploading HTTPSConnectionPool(host='files.clear.ml', port=443): Max retries exceeded with url: / (Caused by NameResolutionError(\"<urllib3.connection.HTTPSConnection object at 0x000001AF08ED9840>: Failed to resolve 'files.clear.ml' ([Errno 11001] getaddrinfo failed)\"))\n"
     ]
    },
    {
     "name": "stderr",
     "output_type": "stream",
     "text": [
      "      23/40         0G      0.121      0.677     0.9282         55        416:  66%|██████▌   | 179/271 [15:12<07:49,  5.10s/it]Retrying (Retry(total=221, connect=221, read=240, redirect=240, status=240)) after connection broken by 'NameResolutionError(\"<urllib3.connection.HTTPSConnection object at 0x000001AF5507D450>: Failed to resolve 'api.clear.ml' ([Errno 11001] getaddrinfo failed)\")': /v2.23/events.add_batch\n",
      "Retrying (Retry(total=221, connect=221, read=240, redirect=240, status=240)) after connection broken by 'NameResolutionError(\"<urllib3.connection.HTTPSConnection object at 0x000001AF44658C10>: Failed to resolve 'api.clear.ml' ([Errno 11001] getaddrinfo failed)\")': /v2.23/tasks.get_all\n",
      "Retrying (Retry(total=221, connect=222, read=239, redirect=240, status=240)) after connection broken by 'NameResolutionError(\"<urllib3.connection.HTTPSConnection object at 0x000001AF550A5DE0>: Failed to resolve 'api.clear.ml' ([Errno 11001] getaddrinfo failed)\")': /v2.23/tasks.get_all\n",
      "      23/40         0G     0.1204      0.675     0.9271         45        416:  68%|██████▊   | 184/271 [15:37<07:22,  5.09s/it]Retrying (Retry(total=2, connect=2, read=5, redirect=5, status=None)) after connection broken by 'NameResolutionError(\"<urllib3.connection.HTTPSConnection object at 0x000001AF08F8BDC0>: Failed to resolve 'files.clear.ml' ([Errno 11001] getaddrinfo failed)\")': /\n",
      "      23/40         0G     0.1202     0.6747      0.927         44        416:  68%|██████▊   | 185/271 [15:42<07:15,  5.06s/it]Retrying (Retry(total=226, connect=226, read=240, redirect=240, status=240)) after connection broken by 'NameResolutionError(\"<urllib3.connection.HTTPSConnection object at 0x000001AF08ED8040>: Failed to resolve 'api.clear.ml' ([Errno 11001] getaddrinfo failed)\")': /v2.23/events.add_batch\n",
      "Retrying (Retry(total=1, connect=1, read=5, redirect=5, status=None)) after connection broken by 'NameResolutionError(\"<urllib3.connection.HTTPSConnection object at 0x000001AF094BF1F0>: Failed to resolve 'files.clear.ml' ([Errno 11001] getaddrinfo failed)\")': /\n",
      "      23/40         0G     0.1202      0.675     0.9267         59        416:  69%|██████▉   | 187/271 [15:52<07:04,  5.06s/it]Retrying (Retry(total=0, connect=0, read=5, redirect=5, status=None)) after connection broken by 'NameResolutionError(\"<urllib3.connection.HTTPSConnection object at 0x000001AF094BD450>: Failed to resolve 'files.clear.ml' ([Errno 11001] getaddrinfo failed)\")': /\n",
      "Retrying (Retry(total=2, connect=2, read=5, redirect=5, status=None)) after connection broken by 'NameResolutionError(\"<urllib3.connection.HTTPSConnection object at 0x000001AF094BC430>: Failed to resolve 'files.clear.ml' ([Errno 11001] getaddrinfo failed)\")': /\n",
      "      23/40         0G       0.12     0.6748     0.9262         53        416:  69%|██████▉   | 188/271 [15:57<06:59,  5.06s/it]Retrying (Retry(total=1, connect=1, read=5, redirect=5, status=None)) after connection broken by 'NameResolutionError(\"<urllib3.connection.HTTPSConnection object at 0x000001AF54A45510>: Failed to resolve 'files.clear.ml' ([Errno 11001] getaddrinfo failed)\")': /\n",
      "      23/40         0G       0.12     0.6745     0.9262         52        416:  70%|███████   | 190/271 [16:08<06:53,  5.10s/it]Retrying (Retry(total=0, connect=0, read=5, redirect=5, status=None)) after connection broken by 'NameResolutionError(\"<urllib3.connection.HTTPSConnection object at 0x000001AF51894A30>: Failed to resolve 'files.clear.ml' ([Errno 11001] getaddrinfo failed)\")': /\n",
      "Retrying (Retry(total=2, connect=2, read=5, redirect=5, status=None)) after connection broken by 'NameResolutionError(\"<urllib3.connection.HTTPSConnection object at 0x000001AF51896770>: Failed to resolve 'files.clear.ml' ([Errno 11001] getaddrinfo failed)\")': /\n",
      "      23/40         0G     0.1199     0.6746     0.9264         44        416:  70%|███████   | 191/271 [16:13<06:47,  5.09s/it]Retrying (Retry(total=1, connect=1, read=5, redirect=5, status=None)) after connection broken by 'NameResolutionError(\"<urllib3.connection.HTTPSConnection object at 0x000001AF518958A0>: Failed to resolve 'files.clear.ml' ([Errno 11001] getaddrinfo failed)\")': /\n",
      "      23/40         0G     0.1197     0.6744     0.9264         41        416:  71%|███████   | 193/271 [16:23<06:34,  5.06s/it]Retrying (Retry(total=0, connect=0, read=5, redirect=5, status=None)) after connection broken by 'NameResolutionError(\"<urllib3.connection.HTTPSConnection object at 0x000001AF51897D00>: Failed to resolve 'files.clear.ml' ([Errno 11001] getaddrinfo failed)\")': /\n"
     ]
    },
    {
     "name": "stdout",
     "output_type": "stream",
     "text": [
      "2024-06-05 06:29:15,284 - clearml.storage - ERROR - Exception encountered while uploading HTTPSConnectionPool(host='files.clear.ml', port=443): Max retries exceeded with url: / (Caused by NameResolutionError(\"<urllib3.connection.HTTPSConnection object at 0x000001AF077D6170>: Failed to resolve 'files.clear.ml' ([Errno 11001] getaddrinfo failed)\"))\n"
     ]
    },
    {
     "name": "stderr",
     "output_type": "stream",
     "text": [
      "      23/40         0G     0.1197     0.6741     0.9261         46        416:  73%|███████▎  | 199/271 [16:54<06:08,  5.11s/it]Retrying (Retry(total=2, connect=2, read=5, redirect=5, status=None)) after connection broken by 'NameResolutionError(\"<urllib3.connection.HTTPSConnection object at 0x000001AF51895480>: Failed to resolve 'files.clear.ml' ([Errno 11001] getaddrinfo failed)\")': /\n",
      "      23/40         0G     0.1196     0.6743     0.9262         53        416:  74%|███████▍  | 200/271 [16:59<06:00,  5.07s/it]Retrying (Retry(total=1, connect=1, read=5, redirect=5, status=None)) after connection broken by 'NameResolutionError(\"<urllib3.connection.HTTPSConnection object at 0x000001AF51896140>: Failed to resolve 'files.clear.ml' ([Errno 11001] getaddrinfo failed)\")': /\n",
      "      23/40         0G     0.1198     0.6744     0.9263         63        416:  74%|███████▍  | 201/271 [17:04<05:58,  5.12s/it]Retrying (Retry(total=0, connect=0, read=5, redirect=5, status=None)) after connection broken by 'NameResolutionError(\"<urllib3.connection.HTTPSConnection object at 0x000001AF51895FF0>: Failed to resolve 'files.clear.ml' ([Errno 11001] getaddrinfo failed)\")': /\n",
      "      23/40         0G     0.1199     0.6749     0.9266         42        416:  75%|███████▍  | 202/271 [17:09<05:51,  5.10s/it]Retrying (Retry(total=2, connect=2, read=5, redirect=5, status=None)) after connection broken by 'NameResolutionError(\"<urllib3.connection.HTTPSConnection object at 0x000001AF51896350>: Failed to resolve 'files.clear.ml' ([Errno 11001] getaddrinfo failed)\")': /\n",
      "Retrying (Retry(total=220, connect=220, read=240, redirect=240, status=240)) after connection broken by 'NameResolutionError(\"<urllib3.connection.HTTPSConnection object at 0x000001AF08EDA320>: Failed to resolve 'api.clear.ml' ([Errno 11001] getaddrinfo failed)\")': /v2.23/events.add_batch\n",
      "      23/40         0G       0.12     0.6748     0.9269         39        416:  75%|███████▍  | 203/271 [17:14<05:44,  5.06s/it]Retrying (Retry(total=220, connect=220, read=240, redirect=240, status=240)) after connection broken by 'NameResolutionError(\"<urllib3.connection.HTTPSConnection object at 0x000001AF08ED8B80>: Failed to resolve 'api.clear.ml' ([Errno 11001] getaddrinfo failed)\")': /v2.23/tasks.get_all\n",
      "Retrying (Retry(total=220, connect=221, read=239, redirect=240, status=240)) after connection broken by 'NameResolutionError(\"<urllib3.connection.HTTPSConnection object at 0x000001AF08ED9750>: Failed to resolve 'api.clear.ml' ([Errno 11001] getaddrinfo failed)\")': /v2.23/tasks.get_all\n",
      "Retrying (Retry(total=1, connect=1, read=5, redirect=5, status=None)) after connection broken by 'NameResolutionError(\"<urllib3.connection.HTTPSConnection object at 0x000001AF51895390>: Failed to resolve 'files.clear.ml' ([Errno 11001] getaddrinfo failed)\")': /\n",
      "      23/40         0G       0.12     0.6744     0.9269         53        416:  75%|███████▌  | 204/271 [17:19<05:40,  5.08s/it]Retrying (Retry(total=0, connect=0, read=5, redirect=5, status=None)) after connection broken by 'NameResolutionError(\"<urllib3.connection.HTTPSConnection object at 0x000001AF094BE530>: Failed to resolve 'files.clear.ml' ([Errno 11001] getaddrinfo failed)\")': /\n",
      "      23/40         0G     0.1203     0.6749     0.9269         52        416:  76%|███████▌  | 205/271 [17:24<05:37,  5.11s/it]Retrying (Retry(total=2, connect=2, read=5, redirect=5, status=None)) after connection broken by 'NameResolutionError(\"<urllib3.connection.HTTPSConnection object at 0x000001AF54D83610>: Failed to resolve 'files.clear.ml' ([Errno 11001] getaddrinfo failed)\")': /\n",
      "      23/40         0G     0.1203     0.6744      0.927         45        416:  76%|███████▌  | 206/271 [17:29<05:30,  5.09s/it]Retrying (Retry(total=1, connect=1, read=5, redirect=5, status=None)) after connection broken by 'NameResolutionError(\"<urllib3.connection.HTTPSConnection object at 0x000001AF08ED9810>: Failed to resolve 'files.clear.ml' ([Errno 11001] getaddrinfo failed)\")': /\n",
      "      23/40         0G     0.1206     0.6743     0.9273         50        416:  76%|███████▋  | 207/271 [17:34<05:25,  5.08s/it]Retrying (Retry(total=0, connect=0, read=5, redirect=5, status=None)) after connection broken by 'NameResolutionError(\"<urllib3.connection.HTTPSConnection object at 0x000001AF094BC940>: Failed to resolve 'files.clear.ml' ([Errno 11001] getaddrinfo failed)\")': /\n"
     ]
    },
    {
     "name": "stdout",
     "output_type": "stream",
     "text": [
      "2024-06-05 06:30:30,486 - clearml.storage - ERROR - Exception encountered while uploading HTTPSConnectionPool(host='files.clear.ml', port=443): Max retries exceeded with url: / (Caused by NameResolutionError(\"<urllib3.connection.HTTPSConnection object at 0x000001AF08ED8490>: Failed to resolve 'files.clear.ml' ([Errno 11001] getaddrinfo failed)\"))\n"
     ]
    },
    {
     "name": "stderr",
     "output_type": "stream",
     "text": [
      "      23/40         0G     0.1206     0.6744     0.9273         50        416:  77%|███████▋  | 208/271 [17:40<05:24,  5.14s/it]Retrying (Retry(total=225, connect=225, read=240, redirect=240, status=240)) after connection broken by 'NameResolutionError(\"<urllib3.connection.HTTPSConnection object at 0x000001AF094BF520>: Failed to resolve 'api.clear.ml' ([Errno 11001] getaddrinfo failed)\")': /v2.23/events.add_batch\n",
      "      23/40         0G     0.1205     0.6732     0.9272         57        416:  79%|███████▉  | 214/271 [18:10<04:52,  5.14s/it]Retrying (Retry(total=2, connect=2, read=5, redirect=5, status=None)) after connection broken by 'NameResolutionError(\"<urllib3.connection.HTTPSConnection object at 0x000001AF54D82920>: Failed to resolve 'files.clear.ml' ([Errno 11001] getaddrinfo failed)\")': /\n",
      "      23/40         0G     0.1204     0.6731     0.9273         37        416:  79%|███████▉  | 215/271 [18:15<04:46,  5.12s/it]Retrying (Retry(total=1, connect=1, read=5, redirect=5, status=None)) after connection broken by 'NameResolutionError(\"<urllib3.connection.HTTPSConnection object at 0x000001AF08F890C0>: Failed to resolve 'files.clear.ml' ([Errno 11001] getaddrinfo failed)\")': /\n",
      "      23/40         0G     0.1203     0.6729     0.9271         47        416:  80%|███████▉  | 216/271 [18:20<04:40,  5.10s/it]Retrying (Retry(total=0, connect=0, read=5, redirect=5, status=None)) after connection broken by 'NameResolutionError(\"<urllib3.connection.HTTPSConnection object at 0x000001AF08F89CF0>: Failed to resolve 'files.clear.ml' ([Errno 11001] getaddrinfo failed)\")': /\n",
      "      23/40         0G     0.1202     0.6726     0.9272         54        416:  80%|████████  | 217/271 [18:25<04:35,  5.10s/it]Retrying (Retry(total=2, connect=2, read=5, redirect=5, status=None)) after connection broken by 'NameResolutionError(\"<urllib3.connection.HTTPSConnection object at 0x000001AF094BC130>: Failed to resolve 'files.clear.ml' ([Errno 11001] getaddrinfo failed)\")': /\n",
      "      23/40         0G       0.12     0.6729      0.927         46        416:  80%|████████  | 218/271 [18:31<04:30,  5.11s/it]Retrying (Retry(total=1, connect=1, read=5, redirect=5, status=None)) after connection broken by 'NameResolutionError(\"<urllib3.connection.HTTPSConnection object at 0x000001AF518950F0>: Failed to resolve 'files.clear.ml' ([Errno 11001] getaddrinfo failed)\")': /\n",
      "      23/40         0G       0.12     0.6727     0.9269         50        416:  81%|████████  | 219/271 [18:36<04:25,  5.10s/it]Retrying (Retry(total=0, connect=0, read=5, redirect=5, status=None)) after connection broken by 'NameResolutionError(\"<urllib3.connection.HTTPSConnection object at 0x000001AF08F8B4C0>: Failed to resolve 'files.clear.ml' ([Errno 11001] getaddrinfo failed)\")': /\n",
      "      23/40         0G     0.1199     0.6725     0.9265         51        416:  81%|████████  | 220/271 [18:41<04:21,  5.13s/it]Retrying (Retry(total=2, connect=2, read=5, redirect=5, status=None)) after connection broken by 'NameResolutionError(\"<urllib3.connection.HTTPSConnection object at 0x000001AF51896CE0>: Failed to resolve 'files.clear.ml' ([Errno 11001] getaddrinfo failed)\")': /\n",
      "Retrying (Retry(total=1, connect=1, read=5, redirect=5, status=None)) after connection broken by 'NameResolutionError(\"<urllib3.connection.HTTPSConnection object at 0x000001AF077D5B70>: Failed to resolve 'files.clear.ml' ([Errno 11001] getaddrinfo failed)\")': /\n",
      "      23/40         0G     0.1201      0.672     0.9268         46        416:  82%|████████▏ | 222/271 [18:51<04:09,  5.10s/it]Retrying (Retry(total=0, connect=0, read=5, redirect=5, status=None)) after connection broken by 'NameResolutionError(\"<urllib3.connection.HTTPSConnection object at 0x000001AF077D6800>: Failed to resolve 'files.clear.ml' ([Errno 11001] getaddrinfo failed)\")': /\n"
     ]
    },
    {
     "name": "stdout",
     "output_type": "stream",
     "text": [
      "2024-06-05 06:31:45,700 - clearml.storage - ERROR - Exception encountered while uploading HTTPSConnectionPool(host='files.clear.ml', port=443): Max retries exceeded with url: / (Caused by NameResolutionError(\"<urllib3.connection.HTTPSConnection object at 0x000001AF077D4B20>: Failed to resolve 'files.clear.ml' ([Errno 11001] getaddrinfo failed)\"))\n"
     ]
    },
    {
     "name": "stderr",
     "output_type": "stream",
     "text": [
      "      23/40         0G       0.12     0.6718     0.9267         45        416:  83%|████████▎ | 226/271 [19:11<03:49,  5.10s/it]Retrying (Retry(total=219, connect=219, read=240, redirect=240, status=240)) after connection broken by 'NameResolutionError(\"<urllib3.connection.HTTPSConnection object at 0x000001AF550A5F30>: Failed to resolve 'api.clear.ml' ([Errno 11001] getaddrinfo failed)\")': /v2.23/events.add_batch\n",
      "Retrying (Retry(total=219, connect=219, read=240, redirect=240, status=240)) after connection broken by 'NameResolutionError(\"<urllib3.connection.HTTPSConnection object at 0x000001AF550A6590>: Failed to resolve 'api.clear.ml' ([Errno 11001] getaddrinfo failed)\")': /v2.23/tasks.get_all\n",
      "Retrying (Retry(total=219, connect=220, read=239, redirect=240, status=240)) after connection broken by 'NameResolutionError(\"<urllib3.connection.HTTPSConnection object at 0x000001AF094BE770>: Failed to resolve 'api.clear.ml' ([Errno 11001] getaddrinfo failed)\")': /v2.23/tasks.get_all\n",
      "      23/40         0G      0.121     0.6726      0.927         50        416:  85%|████████▍ | 229/271 [19:27<03:34,  5.11s/it]Retrying (Retry(total=2, connect=2, read=5, redirect=5, status=None)) after connection broken by 'NameResolutionError(\"<urllib3.connection.HTTPSConnection object at 0x000001AF077D59C0>: Failed to resolve 'files.clear.ml' ([Errno 11001] getaddrinfo failed)\")': /\n",
      "Retrying (Retry(total=1, connect=1, read=5, redirect=5, status=None)) after connection broken by 'NameResolutionError(\"<urllib3.connection.HTTPSConnection object at 0x000001AF077D7580>: Failed to resolve 'files.clear.ml' ([Errno 11001] getaddrinfo failed)\")': /\n",
      "      23/40         0G     0.1211     0.6731      0.927         47        416:  85%|████████▌ | 231/271 [19:37<03:22,  5.07s/it]Retrying (Retry(total=0, connect=0, read=5, redirect=5, status=None)) after connection broken by 'NameResolutionError(\"<urllib3.connection.HTTPSConnection object at 0x000001AF077D68F0>: Failed to resolve 'files.clear.ml' ([Errno 11001] getaddrinfo failed)\")': /\n",
      "      23/40         0G     0.1211     0.6731     0.9269         53        416:  86%|████████▌ | 232/271 [19:42<03:17,  5.06s/it]Retrying (Retry(total=2, connect=2, read=5, redirect=5, status=None)) after connection broken by 'NameResolutionError(\"<urllib3.connection.HTTPSConnection object at 0x000001AF094BE530>: Failed to resolve 'files.clear.ml' ([Errno 11001] getaddrinfo failed)\")': /\n",
      "Retrying (Retry(total=224, connect=224, read=240, redirect=240, status=240)) after connection broken by 'NameResolutionError(\"<urllib3.connection.HTTPSConnection object at 0x000001AF08EDB4C0>: Failed to resolve 'api.clear.ml' ([Errno 11001] getaddrinfo failed)\")': /v2.23/events.add_batch\n",
      "Retrying (Retry(total=1, connect=1, read=5, redirect=5, status=None)) after connection broken by 'NameResolutionError(\"<urllib3.connection.HTTPSConnection object at 0x000001AF538EE710>: Failed to resolve 'files.clear.ml' ([Errno 11001] getaddrinfo failed)\")': /\n",
      "      23/40         0G      0.121      0.673     0.9266         54        416:  86%|████████▋ | 234/271 [19:52<03:08,  5.09s/it]Retrying (Retry(total=0, connect=0, read=5, redirect=5, status=None)) after connection broken by 'NameResolutionError(\"<urllib3.connection.HTTPSConnection object at 0x000001AF08F89B70>: Failed to resolve 'files.clear.ml' ([Errno 11001] getaddrinfo failed)\")': /\n",
      "      23/40         0G     0.1212     0.6729     0.9268         45        416:  87%|████████▋ | 235/271 [19:57<03:02,  5.07s/it]Retrying (Retry(total=2, connect=2, read=5, redirect=5, status=None)) after connection broken by 'NameResolutionError(\"<urllib3.connection.HTTPSConnection object at 0x000001AF08ED8490>: Failed to resolve 'files.clear.ml' ([Errno 11001] getaddrinfo failed)\")': /\n",
      "Retrying (Retry(total=1, connect=1, read=5, redirect=5, status=None)) after connection broken by 'NameResolutionError(\"<urllib3.connection.HTTPSConnection object at 0x000001AF077D4910>: Failed to resolve 'files.clear.ml' ([Errno 11001] getaddrinfo failed)\")': /\n",
      "      23/40         0G     0.1212     0.6742     0.9267         49        416:  87%|████████▋ | 237/271 [20:07<02:50,  5.03s/it]Retrying (Retry(total=0, connect=0, read=5, redirect=5, status=None)) after connection broken by 'NameResolutionError(\"<urllib3.connection.HTTPSConnection object at 0x000001AF08ED99C0>: Failed to resolve 'files.clear.ml' ([Errno 11001] getaddrinfo failed)\")': /\n"
     ]
    },
    {
     "name": "stdout",
     "output_type": "stream",
     "text": [
      "2024-06-05 06:33:00,897 - clearml.storage - ERROR - Exception encountered while uploading HTTPSConnectionPool(host='files.clear.ml', port=443): Max retries exceeded with url: / (Caused by NameResolutionError(\"<urllib3.connection.HTTPSConnection object at 0x000001AF077D5000>: Failed to resolve 'files.clear.ml' ([Errno 11001] getaddrinfo failed)\"))\n"
     ]
    },
    {
     "name": "stderr",
     "output_type": "stream",
     "text": [
      "      23/40         0G     0.1209     0.6727     0.9262         47        416:  90%|████████▉ | 243/271 [20:37<02:21,  5.05s/it]Retrying (Retry(total=2, connect=2, read=5, redirect=5, status=None)) after connection broken by 'NameResolutionError(\"<urllib3.connection.HTTPSConnection object at 0x000001AF518960B0>: Failed to resolve 'files.clear.ml' ([Errno 11001] getaddrinfo failed)\")': /\n",
      "      23/40         0G     0.1211     0.6727     0.9264         54        416:  90%|█████████ | 244/271 [20:43<02:17,  5.08s/it]Retrying (Retry(total=1, connect=1, read=5, redirect=5, status=None)) after connection broken by 'NameResolutionError(\"<urllib3.connection.HTTPSConnection object at 0x000001AF51895EA0>: Failed to resolve 'files.clear.ml' ([Errno 11001] getaddrinfo failed)\")': /\n",
      "      23/40         0G      0.121     0.6726     0.9262         53        416:  91%|█████████ | 246/271 [20:53<02:07,  5.12s/it]Retrying (Retry(total=0, connect=0, read=5, redirect=5, status=None)) after connection broken by 'NameResolutionError(\"<urllib3.connection.HTTPSConnection object at 0x000001AF518962C0>: Failed to resolve 'files.clear.ml' ([Errno 11001] getaddrinfo failed)\")': /\n",
      "Retrying (Retry(total=2, connect=2, read=5, redirect=5, status=None)) after connection broken by 'NameResolutionError(\"<urllib3.connection.HTTPSConnection object at 0x000001AF4C0C34C0>: Failed to resolve 'files.clear.ml' ([Errno 11001] getaddrinfo failed)\")': /\n",
      "      23/40         0G     0.1209     0.6725     0.9261         51        416:  91%|█████████ | 247/271 [20:58<02:03,  5.14s/it]Retrying (Retry(total=1, connect=1, read=5, redirect=5, status=None)) after connection broken by 'NameResolutionError(\"<urllib3.connection.HTTPSConnection object at 0x000001AF0C480460>: Failed to resolve 'files.clear.ml' ([Errno 11001] getaddrinfo failed)\")': /\n",
      "      23/40         0G      0.121     0.6722     0.9259         51        416:  92%|█████████▏| 249/271 [21:08<01:52,  5.09s/it]Retrying (Retry(total=0, connect=0, read=5, redirect=5, status=None)) after connection broken by 'NameResolutionError(\"<urllib3.connection.HTTPSConnection object at 0x000001AF0C480FD0>: Failed to resolve 'files.clear.ml' ([Errno 11001] getaddrinfo failed)\")': /\n",
      "Retrying (Retry(total=2, connect=2, read=5, redirect=5, status=None)) after connection broken by 'NameResolutionError(\"<urllib3.connection.HTTPSConnection object at 0x000001AF077D6FE0>: Failed to resolve 'files.clear.ml' ([Errno 11001] getaddrinfo failed)\")': /\n",
      "Retrying (Retry(total=218, connect=218, read=240, redirect=240, status=240)) after connection broken by 'NameResolutionError(\"<urllib3.connection.HTTPSConnection object at 0x000001AF077D4220>: Failed to resolve 'api.clear.ml' ([Errno 11001] getaddrinfo failed)\")': /v2.23/events.add_batch\n",
      "      23/40         0G     0.1208     0.6716     0.9259         48        416:  92%|█████████▏| 250/271 [21:13<01:46,  5.08s/it]Retrying (Retry(total=218, connect=218, read=240, redirect=240, status=240)) after connection broken by 'NameResolutionError(\"<urllib3.connection.HTTPSConnection object at 0x000001AF077D5180>: Failed to resolve 'api.clear.ml' ([Errno 11001] getaddrinfo failed)\")': /v2.23/tasks.get_all\n",
      "Retrying (Retry(total=218, connect=219, read=239, redirect=240, status=240)) after connection broken by 'NameResolutionError(\"<urllib3.connection.HTTPSConnection object at 0x000001AF077D42B0>: Failed to resolve 'api.clear.ml' ([Errno 11001] getaddrinfo failed)\")': /v2.23/tasks.get_all\n",
      "Retrying (Retry(total=1, connect=1, read=5, redirect=5, status=None)) after connection broken by 'NameResolutionError(\"<urllib3.connection.HTTPSConnection object at 0x000001AF0C480CA0>: Failed to resolve 'files.clear.ml' ([Errno 11001] getaddrinfo failed)\")': /\n",
      "      23/40         0G     0.1207     0.6723      0.926         52        416:  93%|█████████▎| 252/271 [21:23<01:35,  5.04s/it]Retrying (Retry(total=0, connect=0, read=5, redirect=5, status=None)) after connection broken by 'NameResolutionError(\"<urllib3.connection.HTTPSConnection object at 0x000001AF0C4827D0>: Failed to resolve 'files.clear.ml' ([Errno 11001] getaddrinfo failed)\")': /\n"
     ]
    },
    {
     "name": "stdout",
     "output_type": "stream",
     "text": [
      "2024-06-05 06:34:16,102 - clearml.storage - ERROR - Exception encountered while uploading HTTPSConnectionPool(host='files.clear.ml', port=443): Max retries exceeded with url: / (Caused by NameResolutionError(\"<urllib3.connection.HTTPSConnection object at 0x000001AF0C482B60>: Failed to resolve 'files.clear.ml' ([Errno 11001] getaddrinfo failed)\"))\n"
     ]
    },
    {
     "name": "stderr",
     "output_type": "stream",
     "text": [
      "      23/40         0G     0.1212     0.6723      0.926         54        416:  94%|█████████▍| 256/271 [21:44<01:16,  5.08s/it]Retrying (Retry(total=223, connect=223, read=240, redirect=240, status=240)) after connection broken by 'NameResolutionError(\"<urllib3.connection.HTTPSConnection object at 0x000001AF08F89DB0>: Failed to resolve 'api.clear.ml' ([Errno 11001] getaddrinfo failed)\")': /v2.23/events.add_batch\n",
      "      23/40         0G     0.1208     0.6724     0.9258         51        416:  95%|█████████▌| 258/271 [21:54<01:06,  5.10s/it]Retrying (Retry(total=2, connect=2, read=5, redirect=5, status=None)) after connection broken by 'NameResolutionError(\"<urllib3.connection.HTTPSConnection object at 0x000001AF077D4760>: Failed to resolve 'files.clear.ml' ([Errno 11001] getaddrinfo failed)\")': /\n",
      "      23/40         0G     0.1208      0.672     0.9258         52        416:  96%|█████████▌| 259/271 [21:59<01:01,  5.12s/it]Retrying (Retry(total=1, connect=1, read=5, redirect=5, status=None)) after connection broken by 'NameResolutionError(\"<urllib3.connection.HTTPSConnection object at 0x000001AF538FC760>: Failed to resolve 'files.clear.ml' ([Errno 11001] getaddrinfo failed)\")': /\n",
      "      23/40         0G     0.1206     0.6715     0.9259         48        416:  96%|█████████▋| 261/271 [22:09<00:51,  5.12s/it]Retrying (Retry(total=0, connect=0, read=5, redirect=5, status=None)) after connection broken by 'NameResolutionError(\"<urllib3.connection.HTTPSConnection object at 0x000001AF077D7190>: Failed to resolve 'files.clear.ml' ([Errno 11001] getaddrinfo failed)\")': /\n",
      "Retrying (Retry(total=2, connect=2, read=5, redirect=5, status=None)) after connection broken by 'NameResolutionError(\"<urllib3.connection.HTTPSConnection object at 0x000001AF51895B40>: Failed to resolve 'files.clear.ml' ([Errno 11001] getaddrinfo failed)\")': /\n",
      "      23/40         0G     0.1205     0.6712     0.9259         49        416:  97%|█████████▋| 262/271 [22:15<00:46,  5.13s/it]Retrying (Retry(total=1, connect=1, read=5, redirect=5, status=None)) after connection broken by 'NameResolutionError(\"<urllib3.connection.HTTPSConnection object at 0x000001AF51895FF0>: Failed to resolve 'files.clear.ml' ([Errno 11001] getaddrinfo failed)\")': /\n",
      "      23/40         0G     0.1204     0.6713      0.926         51        416:  97%|█████████▋| 263/271 [22:20<00:40,  5.11s/it]Retrying (Retry(total=0, connect=0, read=5, redirect=5, status=None)) after connection broken by 'NameResolutionError(\"<urllib3.connection.HTTPSConnection object at 0x000001AF094BD870>: Failed to resolve 'files.clear.ml' ([Errno 11001] getaddrinfo failed)\")': /\n",
      "      23/40         0G     0.1203     0.6714     0.9262         46        416:  97%|█████████▋| 264/271 [22:25<00:35,  5.09s/it]Retrying (Retry(total=2, connect=2, read=5, redirect=5, status=None)) after connection broken by 'NameResolutionError(\"<urllib3.connection.HTTPSConnection object at 0x000001AF0C483BB0>: Failed to resolve 'files.clear.ml' ([Errno 11001] getaddrinfo failed)\")': /\n",
      "      23/40         0G     0.1203     0.6713     0.9261         50        416:  98%|█████████▊| 265/271 [22:30<00:30,  5.07s/it]Retrying (Retry(total=1, connect=1, read=5, redirect=5, status=None)) after connection broken by 'NameResolutionError(\"<urllib3.connection.HTTPSConnection object at 0x000001AF0C4809A0>: Failed to resolve 'files.clear.ml' ([Errno 11001] getaddrinfo failed)\")': /\n",
      "      23/40         0G     0.1202     0.6714     0.9262         51        416:  98%|█████████▊| 266/271 [22:35<00:25,  5.12s/it]Retrying (Retry(total=0, connect=0, read=5, redirect=5, status=None)) after connection broken by 'NameResolutionError(\"<urllib3.connection.HTTPSConnection object at 0x000001AF0C480070>: Failed to resolve 'files.clear.ml' ([Errno 11001] getaddrinfo failed)\")': /\n"
     ]
    },
    {
     "name": "stdout",
     "output_type": "stream",
     "text": [
      "2024-06-05 06:35:31,334 - clearml.storage - ERROR - Exception encountered while uploading HTTPSConnectionPool(host='files.clear.ml', port=443): Max retries exceeded with url: / (Caused by NameResolutionError(\"<urllib3.connection.HTTPSConnection object at 0x000001AF0C483850>: Failed to resolve 'files.clear.ml' ([Errno 11001] getaddrinfo failed)\"))\n"
     ]
    },
    {
     "name": "stderr",
     "output_type": "stream",
     "text": [
      "      23/40         0G     0.1196     0.6729     0.9259         48        416: 100%|██████████| 271/271 [23:00<00:00,  5.09s/it]\n",
      "                 Class     Images  Instances      Box(P          R      mAP50  mAP50-95):  33%|███▎      | 2/6 [00:08<00:17,  4.36s/it]Retrying (Retry(total=2, connect=2, read=5, redirect=5, status=None)) after connection broken by 'NameResolutionError(\"<urllib3.connection.HTTPSConnection object at 0x000001AF51896CE0>: Failed to resolve 'files.clear.ml' ([Errno 11001] getaddrinfo failed)\")': /\n",
      "Retrying (Retry(total=217, connect=217, read=240, redirect=240, status=240)) after connection broken by 'NameResolutionError(\"<urllib3.connection.HTTPSConnection object at 0x000001AF0C480B20>: Failed to resolve 'api.clear.ml' ([Errno 11001] getaddrinfo failed)\")': /v2.23/events.add_batch\n",
      "                 Class     Images  Instances      Box(P          R      mAP50  mAP50-95):  50%|█████     | 3/6 [00:12<00:12,  4.31s/it]Retrying (Retry(total=217, connect=217, read=240, redirect=240, status=240)) after connection broken by 'NameResolutionError(\"<urllib3.connection.HTTPSConnection object at 0x000001AF0C480160>: Failed to resolve 'api.clear.ml' ([Errno 11001] getaddrinfo failed)\")': /v2.23/tasks.get_all\n",
      "Retrying (Retry(total=217, connect=218, read=239, redirect=240, status=240)) after connection broken by 'NameResolutionError(\"<urllib3.connection.HTTPSConnection object at 0x000001AF0C4815A0>: Failed to resolve 'api.clear.ml' ([Errno 11001] getaddrinfo failed)\")': /v2.23/tasks.get_all\n",
      "Retrying (Retry(total=1, connect=1, read=5, redirect=5, status=None)) after connection broken by 'NameResolutionError(\"<urllib3.connection.HTTPSConnection object at 0x000001AF51896740>: Failed to resolve 'files.clear.ml' ([Errno 11001] getaddrinfo failed)\")': /\n",
      "                 Class     Images  Instances      Box(P          R      mAP50  mAP50-95): 100%|██████████| 6/6 [00:24<00:00,  4.05s/it]"
     ]
    },
    {
     "name": "stdout",
     "output_type": "stream",
     "text": [
      "                   all        182        186      0.741        0.8      0.847       0.79\n"
     ]
    },
    {
     "name": "stderr",
     "output_type": "stream",
     "text": [
      "\n"
     ]
    },
    {
     "name": "stdout",
     "output_type": "stream",
     "text": [
      "\n",
      "      Epoch    GPU_mem   box_loss   cls_loss   dfl_loss  Instances       Size\n"
     ]
    },
    {
     "name": "stderr",
     "output_type": "stream",
     "text": [
      "Retrying (Retry(total=0, connect=0, read=5, redirect=5, status=None)) after connection broken by 'NameResolutionError(\"<urllib3.connection.HTTPSConnection object at 0x000001AF094BF100>: Failed to resolve 'files.clear.ml' ([Errno 11001] getaddrinfo failed)\")': /\n",
      "  0%|          | 0/271 [00:00<?, ?it/s]Retrying (Retry(total=2, connect=2, read=5, redirect=5, status=None)) after connection broken by 'NameResolutionError(\"<urllib3.connection.HTTPSConnection object at 0x000001AF025011E0>: Failed to resolve 'files.clear.ml' ([Errno 11001] getaddrinfo failed)\")': /\n",
      "      24/40         0G      0.075     0.6394     0.9365         41        416:   0%|          | 1/271 [00:04<22:21,  4.97s/it]Retrying (Retry(total=1, connect=1, read=5, redirect=5, status=None)) after connection broken by 'NameResolutionError(\"<urllib3.connection.HTTPSConnection object at 0x000001AF02502DD0>: Failed to resolve 'files.clear.ml' ([Errno 11001] getaddrinfo failed)\")': /\n",
      "      24/40         0G    0.08437     0.5717     0.9287         49        416:   1%|          | 2/271 [00:09<22:26,  5.01s/it]Retrying (Retry(total=0, connect=0, read=5, redirect=5, status=None)) after connection broken by 'NameResolutionError(\"<urllib3.connection.HTTPSConnection object at 0x000001AF4EA4B6D0>: Failed to resolve 'files.clear.ml' ([Errno 11001] getaddrinfo failed)\")': /\n",
      "      24/40         0G    0.08621     0.5616     0.9216         48        416:   1%|          | 3/271 [00:15<22:41,  5.08s/it]Retrying (Retry(total=2, connect=2, read=5, redirect=5, status=None)) after connection broken by 'NameResolutionError(\"<urllib3.connection.HTTPSConnection object at 0x000001AF4EA070A0>: Failed to resolve 'files.clear.ml' ([Errno 11001] getaddrinfo failed)\")': /\n",
      "Retrying (Retry(total=222, connect=222, read=240, redirect=240, status=240)) after connection broken by 'NameResolutionError(\"<urllib3.connection.HTTPSConnection object at 0x000001AF51894D00>: Failed to resolve 'api.clear.ml' ([Errno 11001] getaddrinfo failed)\")': /v2.23/events.add_batch\n",
      "      24/40         0G    0.08545      0.617     0.9089         48        416:   1%|▏         | 4/271 [00:20<22:24,  5.03s/it]Retrying (Retry(total=1, connect=1, read=5, redirect=5, status=None)) after connection broken by 'NameResolutionError(\"<urllib3.connection.HTTPSConnection object at 0x000001AF4E9D5930>: Failed to resolve 'files.clear.ml' ([Errno 11001] getaddrinfo failed)\")': /\n",
      "      24/40         0G      0.102     0.6176     0.9176         48        416:   2%|▏         | 5/271 [00:25<22:18,  5.03s/it]Retrying (Retry(total=0, connect=0, read=5, redirect=5, status=None)) after connection broken by 'NameResolutionError(\"<urllib3.connection.HTTPSConnection object at 0x000001AF4E91DC60>: Failed to resolve 'files.clear.ml' ([Errno 11001] getaddrinfo failed)\")': /\n"
     ]
    },
    {
     "name": "stdout",
     "output_type": "stream",
     "text": [
      "2024-06-05 06:36:46,757 - clearml.storage - ERROR - Exception encountered while uploading HTTPSConnectionPool(host='files.clear.ml', port=443): Max retries exceeded with url: / (Caused by NameResolutionError(\"<urllib3.connection.HTTPSConnection object at 0x000001AF540C9000>: Failed to resolve 'files.clear.ml' ([Errno 11001] getaddrinfo failed)\"))\n"
     ]
    },
    {
     "name": "stderr",
     "output_type": "stream",
     "text": [
      "      24/40         0G     0.1208     0.6131     0.9323         48        416:   4%|▍         | 12/271 [01:00<21:53,  5.07s/it]Retrying (Retry(total=2, connect=2, read=5, redirect=5, status=None)) after connection broken by 'NameResolutionError(\"<urllib3.connection.HTTPSConnection object at 0x000001AF08F34610>: Failed to resolve 'files.clear.ml' ([Errno 11001] getaddrinfo failed)\")': /\n",
      "      24/40         0G     0.1177       0.63     0.9313         42        416:   5%|▍         | 13/271 [01:05<21:49,  5.08s/it]Retrying (Retry(total=1, connect=1, read=5, redirect=5, status=None)) after connection broken by 'NameResolutionError(\"<urllib3.connection.HTTPSConnection object at 0x000001AF08F34700>: Failed to resolve 'files.clear.ml' ([Errno 11001] getaddrinfo failed)\")': /\n",
      "      24/40         0G     0.1162      0.627      0.929         44        416:   5%|▌         | 14/271 [01:10<21:37,  5.05s/it]Retrying (Retry(total=0, connect=0, read=5, redirect=5, status=None)) after connection broken by 'NameResolutionError(\"<urllib3.connection.HTTPSConnection object at 0x000001AF08F361A0>: Failed to resolve 'files.clear.ml' ([Errno 11001] getaddrinfo failed)\")': /\n",
      "      24/40         0G     0.1183     0.6348     0.9294         46        416:   6%|▌         | 15/271 [01:15<21:45,  5.10s/it]Retrying (Retry(total=2, connect=2, read=5, redirect=5, status=None)) after connection broken by 'NameResolutionError(\"<urllib3.connection.HTTPSConnection object at 0x000001AF54A16170>: Failed to resolve 'files.clear.ml' ([Errno 11001] getaddrinfo failed)\")': /\n",
      "      24/40         0G     0.1165     0.6386     0.9248         50        416:   6%|▌         | 16/271 [01:21<21:45,  5.12s/it]Retrying (Retry(total=1, connect=1, read=5, redirect=5, status=None)) after connection broken by 'NameResolutionError(\"<urllib3.connection.HTTPSConnection object at 0x000001AF54A14FA0>: Failed to resolve 'files.clear.ml' ([Errno 11001] getaddrinfo failed)\")': /\n",
      "      24/40         0G     0.1183      0.642     0.9235         56        416:   6%|▋         | 17/271 [01:26<21:33,  5.09s/it]Retrying (Retry(total=0, connect=0, read=5, redirect=5, status=None)) after connection broken by 'NameResolutionError(\"<urllib3.connection.HTTPSConnection object at 0x000001AF540CBF10>: Failed to resolve 'files.clear.ml' ([Errno 11001] getaddrinfo failed)\")': /\n",
      "      24/40         0G      0.118     0.6516     0.9241         42        416:   7%|▋         | 18/271 [01:31<21:25,  5.08s/it]Retrying (Retry(total=2, connect=2, read=5, redirect=5, status=None)) after connection broken by 'NameResolutionError(\"<urllib3.connection.HTTPSConnection object at 0x000001AF4EA4BA30>: Failed to resolve 'files.clear.ml' ([Errno 11001] getaddrinfo failed)\")': /\n",
      "      24/40         0G     0.1153     0.6676     0.9238         43        416:   7%|▋         | 19/271 [01:36<21:17,  5.07s/it]Retrying (Retry(total=1, connect=1, read=5, redirect=5, status=None)) after connection broken by 'NameResolutionError(\"<urllib3.connection.HTTPSConnection object at 0x000001AF4EA4B790>: Failed to resolve 'files.clear.ml' ([Errno 11001] getaddrinfo failed)\")': /\n",
      "      24/40         0G     0.1155     0.6732     0.9235         46        416:   7%|▋         | 20/271 [01:41<21:08,  5.05s/it]Retrying (Retry(total=0, connect=0, read=5, redirect=5, status=None)) after connection broken by 'NameResolutionError(\"<urllib3.connection.HTTPSConnection object at 0x000001AF540CAA10>: Failed to resolve 'files.clear.ml' ([Errno 11001] getaddrinfo failed)\")': /\n"
     ]
    },
    {
     "name": "stdout",
     "output_type": "stream",
     "text": [
      "2024-06-05 06:38:01,957 - clearml.storage - ERROR - Exception encountered while uploading HTTPSConnectionPool(host='files.clear.ml', port=443): Max retries exceeded with url: / (Caused by NameResolutionError(\"<urllib3.connection.HTTPSConnection object at 0x000001AF025013F0>: Failed to resolve 'files.clear.ml' ([Errno 11001] getaddrinfo failed)\"))\n"
     ]
    },
    {
     "name": "stderr",
     "output_type": "stream",
     "text": [
      "      24/40         0G     0.1142     0.6731      0.921         52        416:   8%|▊         | 21/271 [01:46<21:00,  5.04s/it]Retrying (Retry(total=216, connect=216, read=240, redirect=240, status=240)) after connection broken by 'NameResolutionError(\"<urllib3.connection.HTTPSConnection object at 0x000001AF51895030>: Failed to resolve 'api.clear.ml' ([Errno 11001] getaddrinfo failed)\")': /v2.23/events.add_batch\n",
      "Retrying (Retry(total=216, connect=216, read=240, redirect=240, status=240)) after connection broken by 'NameResolutionError(\"<urllib3.connection.HTTPSConnection object at 0x000001AF51897EE0>: Failed to resolve 'api.clear.ml' ([Errno 11001] getaddrinfo failed)\")': /v2.23/tasks.get_all\n",
      "Retrying (Retry(total=216, connect=217, read=239, redirect=240, status=240)) after connection broken by 'NameResolutionError(\"<urllib3.connection.HTTPSConnection object at 0x000001AF5507DCC0>: Failed to resolve 'api.clear.ml' ([Errno 11001] getaddrinfo failed)\")': /v2.23/tasks.get_all\n",
      "      24/40         0G     0.1179     0.6772      0.922         49        416:  10%|▉         | 27/271 [02:16<20:42,  5.09s/it]Retrying (Retry(total=2, connect=2, read=5, redirect=5, status=None)) after connection broken by 'NameResolutionError(\"<urllib3.connection.HTTPSConnection object at 0x000001AF0534E920>: Failed to resolve 'files.clear.ml' ([Errno 11001] getaddrinfo failed)\")': /\n",
      "Retrying (Retry(total=221, connect=221, read=240, redirect=240, status=240)) after connection broken by 'NameResolutionError(\"<urllib3.connection.HTTPSConnection object at 0x000001AF4E91D960>: Failed to resolve 'api.clear.ml' ([Errno 11001] getaddrinfo failed)\")': /v2.23/events.add_batch\n",
      "      24/40         0G     0.1185     0.6785     0.9203         51        416:  10%|█         | 28/271 [02:21<20:41,  5.11s/it]Retrying (Retry(total=1, connect=1, read=5, redirect=5, status=None)) after connection broken by 'NameResolutionError(\"<urllib3.connection.HTTPSConnection object at 0x000001AF0534C5E0>: Failed to resolve 'files.clear.ml' ([Errno 11001] getaddrinfo failed)\")': /\n",
      "      24/40         0G     0.1206     0.6809     0.9213         54        416:  11%|█         | 29/271 [02:27<20:33,  5.10s/it]Retrying (Retry(total=0, connect=0, read=5, redirect=5, status=None)) after connection broken by 'NameResolutionError(\"<urllib3.connection.HTTPSConnection object at 0x000001AF025014E0>: Failed to resolve 'files.clear.ml' ([Errno 11001] getaddrinfo failed)\")': /\n",
      "      24/40         0G     0.1216     0.6816     0.9208         51        416:  11%|█         | 30/271 [02:32<20:27,  5.09s/it]Retrying (Retry(total=2, connect=2, read=5, redirect=5, status=None)) after connection broken by 'NameResolutionError(\"<urllib3.connection.HTTPSConnection object at 0x000001AF0783DFC0>: Failed to resolve 'files.clear.ml' ([Errno 11001] getaddrinfo failed)\")': /\n",
      "      24/40         0G     0.1293     0.6966      0.926         59        416:  11%|█▏        | 31/271 [02:37<20:20,  5.08s/it]Retrying (Retry(total=1, connect=1, read=5, redirect=5, status=None)) after connection broken by 'NameResolutionError(\"<urllib3.connection.HTTPSConnection object at 0x000001AF54A45B70>: Failed to resolve 'files.clear.ml' ([Errno 11001] getaddrinfo failed)\")': /\n",
      "      24/40         0G     0.1306     0.6989     0.9265         53        416:  12%|█▏        | 32/271 [02:42<20:14,  5.08s/it]Retrying (Retry(total=0, connect=0, read=5, redirect=5, status=None)) after connection broken by 'NameResolutionError(\"<urllib3.connection.HTTPSConnection object at 0x000001AF0534EAD0>: Failed to resolve 'files.clear.ml' ([Errno 11001] getaddrinfo failed)\")': /\n",
      "      24/40         0G     0.1302        0.7     0.9261         52        416:  12%|█▏        | 33/271 [02:47<20:05,  5.07s/it]Retrying (Retry(total=2, connect=2, read=5, redirect=5, status=None)) after connection broken by 'NameResolutionError(\"<urllib3.connection.HTTPSConnection object at 0x000001AF54021390>: Failed to resolve 'files.clear.ml' ([Errno 11001] getaddrinfo failed)\")': /\n",
      "      24/40         0G     0.1302     0.7019      0.926         47        416:  13%|█▎        | 34/271 [02:52<19:56,  5.05s/it]Retrying (Retry(total=1, connect=1, read=5, redirect=5, status=None)) after connection broken by 'NameResolutionError(\"<urllib3.connection.HTTPSConnection object at 0x000001AF54021060>: Failed to resolve 'files.clear.ml' ([Errno 11001] getaddrinfo failed)\")': /\n",
      "      24/40         0G     0.1292     0.6996     0.9262         47        416:  13%|█▎        | 35/271 [02:57<20:03,  5.10s/it]Retrying (Retry(total=0, connect=0, read=5, redirect=5, status=None)) after connection broken by 'NameResolutionError(\"<urllib3.connection.HTTPSConnection object at 0x000001AF54020D00>: Failed to resolve 'files.clear.ml' ([Errno 11001] getaddrinfo failed)\")': /\n"
     ]
    },
    {
     "name": "stdout",
     "output_type": "stream",
     "text": [
      "2024-06-05 06:39:17,180 - clearml.storage - ERROR - Exception encountered while uploading HTTPSConnectionPool(host='files.clear.ml', port=443): Max retries exceeded with url: / (Caused by NameResolutionError(\"<urllib3.connection.HTTPSConnection object at 0x000001AF54A44790>: Failed to resolve 'files.clear.ml' ([Errno 11001] getaddrinfo failed)\"))\n"
     ]
    },
    {
     "name": "stderr",
     "output_type": "stream",
     "text": [
      "      24/40         0G      0.131     0.6989      0.926         45        416:  15%|█▌        | 42/271 [03:33<19:37,  5.14s/it]Retrying (Retry(total=2, connect=2, read=5, redirect=5, status=None)) after connection broken by 'NameResolutionError(\"<urllib3.connection.HTTPSConnection object at 0x000001AF4EA4A110>: Failed to resolve 'files.clear.ml' ([Errno 11001] getaddrinfo failed)\")': /\n",
      "Retrying (Retry(total=1, connect=1, read=5, redirect=5, status=None)) after connection broken by 'NameResolutionError(\"<urllib3.connection.HTTPSConnection object at 0x000001AF0534C5E0>: Failed to resolve 'files.clear.ml' ([Errno 11001] getaddrinfo failed)\")': /\n",
      "      24/40         0G     0.1297     0.6965     0.9258         57        416:  16%|█▌        | 44/271 [03:43<19:15,  5.09s/it]Retrying (Retry(total=0, connect=0, read=5, redirect=5, status=None)) after connection broken by 'NameResolutionError(\"<urllib3.connection.HTTPSConnection object at 0x000001AF539482E0>: Failed to resolve 'files.clear.ml' ([Errno 11001] getaddrinfo failed)\")': /\n",
      "Retrying (Retry(total=215, connect=215, read=240, redirect=240, status=240)) after connection broken by 'NameResolutionError(\"<urllib3.connection.HTTPSConnection object at 0x000001AF09DB2470>: Failed to resolve 'api.clear.ml' ([Errno 11001] getaddrinfo failed)\")': /v2.23/events.add_batch\n",
      "      24/40         0G     0.1308      0.696      0.926         47        416:  17%|█▋        | 45/271 [03:48<19:06,  5.07s/it]Retrying (Retry(total=2, connect=2, read=5, redirect=5, status=None)) after connection broken by 'NameResolutionError(\"<urllib3.connection.HTTPSConnection object at 0x000001AF5392CC10>: Failed to resolve 'files.clear.ml' ([Errno 11001] getaddrinfo failed)\")': /\n",
      "Retrying (Retry(total=215, connect=215, read=240, redirect=240, status=240)) after connection broken by 'NameResolutionError(\"<urllib3.connection.HTTPSConnection object at 0x000001AF09DB0FA0>: Failed to resolve 'api.clear.ml' ([Errno 11001] getaddrinfo failed)\")': /v2.23/tasks.get_all\n",
      "Retrying (Retry(total=215, connect=216, read=239, redirect=240, status=240)) after connection broken by 'NameResolutionError(\"<urllib3.connection.HTTPSConnection object at 0x000001AF09DB0EE0>: Failed to resolve 'api.clear.ml' ([Errno 11001] getaddrinfo failed)\")': /v2.23/tasks.get_all\n",
      "Retrying (Retry(total=1, connect=1, read=5, redirect=5, status=None)) after connection broken by 'NameResolutionError(\"<urllib3.connection.HTTPSConnection object at 0x000001AF54023E50>: Failed to resolve 'files.clear.ml' ([Errno 11001] getaddrinfo failed)\")': /\n",
      "      24/40         0G     0.1297      0.689     0.9251         50        416:  17%|█▋        | 47/271 [03:58<19:00,  5.09s/it]Retrying (Retry(total=0, connect=0, read=5, redirect=5, status=None)) after connection broken by 'NameResolutionError(\"<urllib3.connection.HTTPSConnection object at 0x000001AF54020CA0>: Failed to resolve 'files.clear.ml' ([Errno 11001] getaddrinfo failed)\")': /\n",
      "Retrying (Retry(total=2, connect=2, read=5, redirect=5, status=None)) after connection broken by 'NameResolutionError(\"<urllib3.connection.HTTPSConnection object at 0x000001AF041405B0>: Failed to resolve 'files.clear.ml' ([Errno 11001] getaddrinfo failed)\")': /\n",
      "      24/40         0G     0.1283     0.6883     0.9242         45        416:  18%|█▊        | 48/271 [04:03<18:57,  5.10s/it]Retrying (Retry(total=1, connect=1, read=5, redirect=5, status=None)) after connection broken by 'NameResolutionError(\"<urllib3.connection.HTTPSConnection object at 0x000001AF04142BF0>: Failed to resolve 'files.clear.ml' ([Errno 11001] getaddrinfo failed)\")': /\n",
      "      24/40         0G     0.1268     0.6876     0.9245         46        416:  18%|█▊        | 50/271 [04:14<18:53,  5.13s/it]Retrying (Retry(total=0, connect=0, read=5, redirect=5, status=None)) after connection broken by 'NameResolutionError(\"<urllib3.connection.HTTPSConnection object at 0x000001AF04142890>: Failed to resolve 'files.clear.ml' ([Errno 11001] getaddrinfo failed)\")': /\n"
     ]
    },
    {
     "name": "stdout",
     "output_type": "stream",
     "text": [
      "2024-06-05 06:40:32,382 - clearml.storage - ERROR - Exception encountered while uploading HTTPSConnectionPool(host='files.clear.ml', port=443): Max retries exceeded with url: / (Caused by NameResolutionError(\"<urllib3.connection.HTTPSConnection object at 0x000001AF04142200>: Failed to resolve 'files.clear.ml' ([Errno 11001] getaddrinfo failed)\"))\n"
     ]
    },
    {
     "name": "stderr",
     "output_type": "stream",
     "text": [
      "Retrying (Retry(total=220, connect=220, read=240, redirect=240, status=240)) after connection broken by 'NameResolutionError(\"<urllib3.connection.HTTPSConnection object at 0x000001AF0534F340>: Failed to resolve 'api.clear.ml' ([Errno 11001] getaddrinfo failed)\")': /v2.23/events.add_batch\n",
      "      24/40         0G      0.126     0.6811     0.9244         53        416:  21%|██        | 56/271 [04:45<18:28,  5.15s/it]Retrying (Retry(total=2, connect=2, read=5, redirect=5, status=None)) after connection broken by 'NameResolutionError(\"<urllib3.connection.HTTPSConnection object at 0x000001AF0534FA30>: Failed to resolve 'files.clear.ml' ([Errno 11001] getaddrinfo failed)\")': /\n",
      "      24/40         0G     0.1269     0.6807     0.9252         41        416:  21%|██        | 57/271 [04:50<18:19,  5.14s/it]Retrying (Retry(total=1, connect=1, read=5, redirect=5, status=None)) after connection broken by 'NameResolutionError(\"<urllib3.connection.HTTPSConnection object at 0x000001AF4EA4B640>: Failed to resolve 'files.clear.ml' ([Errno 11001] getaddrinfo failed)\")': /\n",
      "      24/40         0G     0.1274     0.6816     0.9258         52        416:  22%|██▏       | 59/271 [05:00<18:17,  5.18s/it]Retrying (Retry(total=0, connect=0, read=5, redirect=5, status=None)) after connection broken by 'NameResolutionError(\"<urllib3.connection.HTTPSConnection object at 0x000001AF4EA4BA60>: Failed to resolve 'files.clear.ml' ([Errno 11001] getaddrinfo failed)\")': /\n",
      "Retrying (Retry(total=2, connect=2, read=5, redirect=5, status=None)) after connection broken by 'NameResolutionError(\"<urllib3.connection.HTTPSConnection object at 0x000001AF540EF7C0>: Failed to resolve 'files.clear.ml' ([Errno 11001] getaddrinfo failed)\")': /\n",
      "      24/40         0G     0.1265     0.6796     0.9251         44        416:  22%|██▏       | 60/271 [05:06<18:28,  5.25s/it]Retrying (Retry(total=1, connect=1, read=5, redirect=5, status=None)) after connection broken by 'NameResolutionError(\"<urllib3.connection.HTTPSConnection object at 0x000001AF540EDD20>: Failed to resolve 'files.clear.ml' ([Errno 11001] getaddrinfo failed)\")': /\n",
      "      24/40         0G     0.1258      0.677     0.9249         48        416:  23%|██▎       | 61/271 [05:11<18:11,  5.20s/it]Retrying (Retry(total=0, connect=0, read=5, redirect=5, status=None)) after connection broken by 'NameResolutionError(\"<urllib3.connection.HTTPSConnection object at 0x000001AF08F37F10>: Failed to resolve 'files.clear.ml' ([Errno 11001] getaddrinfo failed)\")': /\n",
      "      24/40         0G     0.1269      0.677     0.9264         45        416:  23%|██▎       | 62/271 [05:16<17:57,  5.16s/it]Retrying (Retry(total=2, connect=2, read=5, redirect=5, status=None)) after connection broken by 'NameResolutionError(\"<urllib3.connection.HTTPSConnection object at 0x000001AF53DCCBB0>: Failed to resolve 'files.clear.ml' ([Errno 11001] getaddrinfo failed)\")': /\n",
      "      24/40         0G     0.1267     0.6754     0.9257         53        416:  23%|██▎       | 63/271 [05:21<17:48,  5.14s/it]Retrying (Retry(total=1, connect=1, read=5, redirect=5, status=None)) after connection broken by 'NameResolutionError(\"<urllib3.connection.HTTPSConnection object at 0x000001AF54A77370>: Failed to resolve 'files.clear.ml' ([Errno 11001] getaddrinfo failed)\")': /\n",
      "      24/40         0G     0.1262     0.6748     0.9255         60        416:  24%|██▎       | 64/271 [05:26<17:34,  5.10s/it]Retrying (Retry(total=0, connect=0, read=5, redirect=5, status=None)) after connection broken by 'NameResolutionError(\"<urllib3.connection.HTTPSConnection object at 0x000001AF53DCEC80>: Failed to resolve 'files.clear.ml' ([Errno 11001] getaddrinfo failed)\")': /\n"
     ]
    },
    {
     "name": "stdout",
     "output_type": "stream",
     "text": [
      "2024-06-05 06:41:47,629 - clearml.storage - ERROR - Exception encountered while uploading HTTPSConnectionPool(host='files.clear.ml', port=443): Max retries exceeded with url: / (Caused by NameResolutionError(\"<urllib3.connection.HTTPSConnection object at 0x000001AF53DCF580>: Failed to resolve 'files.clear.ml' ([Errno 11001] getaddrinfo failed)\"))\n"
     ]
    },
    {
     "name": "stderr",
     "output_type": "stream",
     "text": [
      "      24/40         0G     0.1275     0.6739     0.9266         43        416:  25%|██▌       | 68/271 [05:46<17:16,  5.11s/it]Retrying (Retry(total=214, connect=214, read=240, redirect=240, status=240)) after connection broken by 'NameResolutionError(\"<urllib3.connection.HTTPSConnection object at 0x000001AF54023AF0>: Failed to resolve 'api.clear.ml' ([Errno 11001] getaddrinfo failed)\")': /v2.23/events.add_batch\n",
      "Retrying (Retry(total=214, connect=214, read=240, redirect=240, status=240)) after connection broken by 'NameResolutionError(\"<urllib3.connection.HTTPSConnection object at 0x000001AF540EDE70>: Failed to resolve 'api.clear.ml' ([Errno 11001] getaddrinfo failed)\")': /v2.23/tasks.get_all\n",
      "Retrying (Retry(total=214, connect=215, read=239, redirect=240, status=240)) after connection broken by 'NameResolutionError(\"<urllib3.connection.HTTPSConnection object at 0x000001AF4EC0A440>: Failed to resolve 'api.clear.ml' ([Errno 11001] getaddrinfo failed)\")': /v2.23/tasks.get_all\n",
      "      24/40         0G     0.1288     0.6759     0.9273         51        416:  26%|██▌       | 71/271 [06:02<17:15,  5.18s/it]Retrying (Retry(total=2, connect=2, read=5, redirect=5, status=None)) after connection broken by 'NameResolutionError(\"<urllib3.connection.HTTPSConnection object at 0x000001AF08FE2980>: Failed to resolve 'files.clear.ml' ([Errno 11001] getaddrinfo failed)\")': /\n",
      "      24/40         0G     0.1282     0.6772     0.9267         45        416:  27%|██▋       | 72/271 [06:07<17:06,  5.16s/it]Retrying (Retry(total=1, connect=1, read=5, redirect=5, status=None)) after connection broken by 'NameResolutionError(\"<urllib3.connection.HTTPSConnection object at 0x000001AF54A470D0>: Failed to resolve 'files.clear.ml' ([Errno 11001] getaddrinfo failed)\")': /\n",
      "      24/40         0G     0.1284     0.6795     0.9262         45        416:  27%|██▋       | 73/271 [06:12<17:03,  5.17s/it]Retrying (Retry(total=0, connect=0, read=5, redirect=5, status=None)) after connection broken by 'NameResolutionError(\"<urllib3.connection.HTTPSConnection object at 0x000001AF540210C0>: Failed to resolve 'files.clear.ml' ([Errno 11001] getaddrinfo failed)\")': /\n",
      "      24/40         0G     0.1291     0.6787     0.9271         44        416:  27%|██▋       | 74/271 [06:17<16:57,  5.16s/it]Retrying (Retry(total=2, connect=2, read=5, redirect=5, status=None)) after connection broken by 'NameResolutionError(\"<urllib3.connection.HTTPSConnection object at 0x000001AF08F34430>: Failed to resolve 'files.clear.ml' ([Errno 11001] getaddrinfo failed)\")': /\n",
      "Retrying (Retry(total=219, connect=219, read=240, redirect=240, status=240)) after connection broken by 'NameResolutionError(\"<urllib3.connection.HTTPSConnection object at 0x000001AF04140130>: Failed to resolve 'api.clear.ml' ([Errno 11001] getaddrinfo failed)\")': /v2.23/events.add_batch\n",
      "      24/40         0G     0.1295     0.6787     0.9274         41        416:  28%|██▊       | 75/271 [06:23<16:52,  5.16s/it]Retrying (Retry(total=1, connect=1, read=5, redirect=5, status=None)) after connection broken by 'NameResolutionError(\"<urllib3.connection.HTTPSConnection object at 0x000001AF54A17F10>: Failed to resolve 'files.clear.ml' ([Errno 11001] getaddrinfo failed)\")': /\n",
      "      24/40         0G     0.1285     0.6773     0.9274         45        416:  28%|██▊       | 76/271 [06:28<16:46,  5.16s/it]Retrying (Retry(total=0, connect=0, read=5, redirect=5, status=None)) after connection broken by 'NameResolutionError(\"<urllib3.connection.HTTPSConnection object at 0x000001AF4EA4AAA0>: Failed to resolve 'files.clear.ml' ([Errno 11001] getaddrinfo failed)\")': /\n",
      "      24/40         0G     0.1276     0.6765     0.9269         44        416:  28%|██▊       | 77/271 [06:33<16:30,  5.11s/it]Retrying (Retry(total=2, connect=2, read=5, redirect=5, status=None)) after connection broken by 'NameResolutionError(\"<urllib3.connection.HTTPSConnection object at 0x000001AF0534EB60>: Failed to resolve 'files.clear.ml' ([Errno 11001] getaddrinfo failed)\")': /\n",
      "Retrying (Retry(total=1, connect=1, read=5, redirect=5, status=None)) after connection broken by 'NameResolutionError(\"<urllib3.connection.HTTPSConnection object at 0x000001AF08FE13C0>: Failed to resolve 'files.clear.ml' ([Errno 11001] getaddrinfo failed)\")': /\n",
      "      24/40         0G     0.1281     0.6779     0.9271         54        416:  29%|██▉       | 79/271 [06:43<16:23,  5.12s/it]Retrying (Retry(total=0, connect=0, read=5, redirect=5, status=None)) after connection broken by 'NameResolutionError(\"<urllib3.connection.HTTPSConnection object at 0x000001AF08FE29B0>: Failed to resolve 'files.clear.ml' ([Errno 11001] getaddrinfo failed)\")': /\n"
     ]
    },
    {
     "name": "stdout",
     "output_type": "stream",
     "text": [
      "2024-06-05 06:43:02,838 - clearml.storage - ERROR - Exception encountered while uploading HTTPSConnectionPool(host='files.clear.ml', port=443): Max retries exceeded with url: / (Caused by NameResolutionError(\"<urllib3.connection.HTTPSConnection object at 0x000001AF4EA4B970>: Failed to resolve 'files.clear.ml' ([Errno 11001] getaddrinfo failed)\"))\n"
     ]
    },
    {
     "name": "stderr",
     "output_type": "stream",
     "text": [
      "      24/40         0G     0.1281     0.6744     0.9264         52        416:  31%|███▏      | 85/271 [07:14<15:53,  5.13s/it]Retrying (Retry(total=2, connect=2, read=5, redirect=5, status=None)) after connection broken by 'NameResolutionError(\"<urllib3.connection.HTTPSConnection object at 0x000001AF53DCD480>: Failed to resolve 'files.clear.ml' ([Errno 11001] getaddrinfo failed)\")': /\n",
      "      24/40         0G     0.1287     0.6741      0.927         45        416:  32%|███▏      | 86/271 [07:19<15:55,  5.16s/it]Retrying (Retry(total=1, connect=1, read=5, redirect=5, status=None)) after connection broken by 'NameResolutionError(\"<urllib3.connection.HTTPSConnection object at 0x000001AF53DCC760>: Failed to resolve 'files.clear.ml' ([Errno 11001] getaddrinfo failed)\")': /\n",
      "      24/40         0G     0.1289     0.6738     0.9266         53        416:  32%|███▏      | 88/271 [07:29<15:40,  5.14s/it]Retrying (Retry(total=0, connect=0, read=5, redirect=5, status=None)) after connection broken by 'NameResolutionError(\"<urllib3.connection.HTTPSConnection object at 0x000001AF53DCF3D0>: Failed to resolve 'files.clear.ml' ([Errno 11001] getaddrinfo failed)\")': /\n",
      "Retrying (Retry(total=2, connect=2, read=5, redirect=5, status=None)) after connection broken by 'NameResolutionError(\"<urllib3.connection.HTTPSConnection object at 0x000001AF53DCD420>: Failed to resolve 'files.clear.ml' ([Errno 11001] getaddrinfo failed)\")': /\n",
      "      24/40         0G     0.1285     0.6734     0.9259         52        416:  33%|███▎      | 89/271 [07:34<15:27,  5.10s/it]Retrying (Retry(total=1, connect=1, read=5, redirect=5, status=None)) after connection broken by 'NameResolutionError(\"<urllib3.connection.HTTPSConnection object at 0x000001AF09AFA740>: Failed to resolve 'files.clear.ml' ([Errno 11001] getaddrinfo failed)\")': /\n",
      "      24/40         0G     0.1274     0.6721     0.9249         51        416:  34%|███▎      | 91/271 [07:45<15:20,  5.11s/it]Retrying (Retry(total=0, connect=0, read=5, redirect=5, status=None)) after connection broken by 'NameResolutionError(\"<urllib3.connection.HTTPSConnection object at 0x000001AF09AF87F0>: Failed to resolve 'files.clear.ml' ([Errno 11001] getaddrinfo failed)\")': /\n",
      "Retrying (Retry(total=213, connect=213, read=240, redirect=240, status=240)) after connection broken by 'NameResolutionError(\"<urllib3.connection.HTTPSConnection object at 0x000001AF08FE06A0>: Failed to resolve 'api.clear.ml' ([Errno 11001] getaddrinfo failed)\")': /v2.23/events.add_batch\n",
      "Retrying (Retry(total=213, connect=213, read=240, redirect=240, status=240)) after connection broken by 'NameResolutionError(\"<urllib3.connection.HTTPSConnection object at 0x000001AF08FE27A0>: Failed to resolve 'api.clear.ml' ([Errno 11001] getaddrinfo failed)\")': /v2.23/tasks.get_all\n",
      "Retrying (Retry(total=2, connect=2, read=5, redirect=5, status=None)) after connection broken by 'NameResolutionError(\"<urllib3.connection.HTTPSConnection object at 0x000001AF53DCD450>: Failed to resolve 'files.clear.ml' ([Errno 11001] getaddrinfo failed)\")': /\n",
      "      24/40         0G     0.1274     0.6717     0.9254         56        416:  34%|███▍      | 92/271 [07:50<15:16,  5.12s/it]Retrying (Retry(total=213, connect=214, read=239, redirect=240, status=240)) after connection broken by 'NameResolutionError(\"<urllib3.connection.HTTPSConnection object at 0x000001AF08FE1EA0>: Failed to resolve 'api.clear.ml' ([Errno 11001] getaddrinfo failed)\")': /v2.23/tasks.get_all\n",
      "Retrying (Retry(total=1, connect=1, read=5, redirect=5, status=None)) after connection broken by 'NameResolutionError(\"<urllib3.connection.HTTPSConnection object at 0x000001AF09AFA800>: Failed to resolve 'files.clear.ml' ([Errno 11001] getaddrinfo failed)\")': /\n",
      "      24/40         0G     0.1268     0.6714     0.9254         50        416:  35%|███▍      | 94/271 [08:00<15:08,  5.13s/it]Retrying (Retry(total=0, connect=0, read=5, redirect=5, status=None)) after connection broken by 'NameResolutionError(\"<urllib3.connection.HTTPSConnection object at 0x000001AF09AF8490>: Failed to resolve 'files.clear.ml' ([Errno 11001] getaddrinfo failed)\")': /\n"
     ]
    },
    {
     "name": "stdout",
     "output_type": "stream",
     "text": [
      "2024-06-05 06:44:18,055 - clearml.storage - ERROR - Exception encountered while uploading HTTPSConnectionPool(host='files.clear.ml', port=443): Max retries exceeded with url: / (Caused by NameResolutionError(\"<urllib3.connection.HTTPSConnection object at 0x000001AF53DCFDF0>: Failed to resolve 'files.clear.ml' ([Errno 11001] getaddrinfo failed)\"))\n"
     ]
    },
    {
     "name": "stderr",
     "output_type": "stream",
     "text": [
      "      24/40         0G     0.1252     0.6691     0.9253         51        416:  36%|███▌      | 97/271 [08:15<14:47,  5.10s/it]Retrying (Retry(total=218, connect=218, read=240, redirect=240, status=240)) after connection broken by 'NameResolutionError(\"<urllib3.connection.HTTPSConnection object at 0x000001AF540CAFB0>: Failed to resolve 'api.clear.ml' ([Errno 11001] getaddrinfo failed)\")': /v2.23/events.add_batch\n",
      "      24/40         0G     0.1251     0.6695     0.9254         48        416:  37%|███▋      | 100/271 [08:31<14:42,  5.16s/it]Retrying (Retry(total=2, connect=2, read=5, redirect=5, status=None)) after connection broken by 'NameResolutionError(\"<urllib3.connection.HTTPSConnection object at 0x000001AF08FE3130>: Failed to resolve 'files.clear.ml' ([Errno 11001] getaddrinfo failed)\")': /\n",
      "      24/40         0G     0.1249     0.6686     0.9252         52        416:  37%|███▋      | 101/271 [08:36<14:41,  5.18s/it]Retrying (Retry(total=1, connect=1, read=5, redirect=5, status=None)) after connection broken by 'NameResolutionError(\"<urllib3.connection.HTTPSConnection object at 0x000001AF54A752A0>: Failed to resolve 'files.clear.ml' ([Errno 11001] getaddrinfo failed)\")': /\n",
      "      24/40         0G     0.1255     0.6691     0.9256         44        416:  38%|███▊      | 102/271 [08:41<14:33,  5.17s/it]Retrying (Retry(total=0, connect=0, read=5, redirect=5, status=None)) after connection broken by 'NameResolutionError(\"<urllib3.connection.HTTPSConnection object at 0x000001AF336EB4F0>: Failed to resolve 'files.clear.ml' ([Errno 11001] getaddrinfo failed)\")': /\n",
      "      24/40         0G     0.1251     0.6684     0.9255         49        416:  38%|███▊      | 103/271 [08:46<14:20,  5.12s/it]Retrying (Retry(total=2, connect=2, read=5, redirect=5, status=None)) after connection broken by 'NameResolutionError(\"<urllib3.connection.HTTPSConnection object at 0x000001AF54023100>: Failed to resolve 'files.clear.ml' ([Errno 11001] getaddrinfo failed)\")': /\n",
      "      24/40         0G     0.1247     0.6675     0.9249         48        416:  38%|███▊      | 104/271 [08:51<14:06,  5.07s/it]Retrying (Retry(total=1, connect=1, read=5, redirect=5, status=None)) after connection broken by 'NameResolutionError(\"<urllib3.connection.HTTPSConnection object at 0x000001AF54021630>: Failed to resolve 'files.clear.ml' ([Errno 11001] getaddrinfo failed)\")': /\n",
      "      24/40         0G     0.1254     0.6687     0.9254         35        416:  39%|███▊      | 105/271 [08:57<14:15,  5.15s/it]Retrying (Retry(total=0, connect=0, read=5, redirect=5, status=None)) after connection broken by 'NameResolutionError(\"<urllib3.connection.HTTPSConnection object at 0x000001AF08FE1F00>: Failed to resolve 'files.clear.ml' ([Errno 11001] getaddrinfo failed)\")': /\n",
      "      24/40         0G     0.1256     0.6689     0.9254         54        416:  39%|███▉      | 106/271 [09:02<14:05,  5.13s/it]Retrying (Retry(total=2, connect=2, read=5, redirect=5, status=None)) after connection broken by 'NameResolutionError(\"<urllib3.connection.HTTPSConnection object at 0x000001AF09AFAA70>: Failed to resolve 'files.clear.ml' ([Errno 11001] getaddrinfo failed)\")': /\n",
      "      24/40         0G     0.1259     0.6684     0.9253         54        416:  39%|███▉      | 107/271 [09:07<13:56,  5.10s/it]Retrying (Retry(total=1, connect=1, read=5, redirect=5, status=None)) after connection broken by 'NameResolutionError(\"<urllib3.connection.HTTPSConnection object at 0x000001AF09AFA1D0>: Failed to resolve 'files.clear.ml' ([Errno 11001] getaddrinfo failed)\")': /\n",
      "      24/40         0G     0.1253     0.6666     0.9256         48        416:  40%|███▉      | 108/271 [09:12<13:45,  5.07s/it]Retrying (Retry(total=0, connect=0, read=5, redirect=5, status=None)) after connection broken by 'NameResolutionError(\"<urllib3.connection.HTTPSConnection object at 0x000001AF53DCF3D0>: Failed to resolve 'files.clear.ml' ([Errno 11001] getaddrinfo failed)\")': /\n"
     ]
    },
    {
     "name": "stdout",
     "output_type": "stream",
     "text": [
      "2024-06-05 06:45:33,272 - clearml.storage - ERROR - Exception encountered while uploading HTTPSConnectionPool(host='files.clear.ml', port=443): Max retries exceeded with url: / (Caused by NameResolutionError(\"<urllib3.connection.HTTPSConnection object at 0x000001AF09AFADD0>: Failed to resolve 'files.clear.ml' ([Errno 11001] getaddrinfo failed)\"))\n"
     ]
    },
    {
     "name": "stderr",
     "output_type": "stream",
     "text": [
      "      24/40         0G     0.1257     0.6633     0.9253         60        416:  42%|████▏     | 114/271 [09:43<13:27,  5.14s/it]Retrying (Retry(total=212, connect=212, read=240, redirect=240, status=240)) after connection broken by 'NameResolutionError(\"<urllib3.connection.HTTPSConnection object at 0x000001AF09AFBEE0>: Failed to resolve 'api.clear.ml' ([Errno 11001] getaddrinfo failed)\")': /v2.23/events.add_batch\n",
      "      24/40         0G      0.126     0.6636     0.9254         50        416:  42%|████▏     | 115/271 [09:48<13:18,  5.12s/it]Retrying (Retry(total=212, connect=212, read=240, redirect=240, status=240)) after connection broken by 'NameResolutionError(\"<urllib3.connection.HTTPSConnection object at 0x000001AF09AF8280>: Failed to resolve 'api.clear.ml' ([Errno 11001] getaddrinfo failed)\")': /v2.23/tasks.get_all\n",
      "Retrying (Retry(total=2, connect=2, read=5, redirect=5, status=None)) after connection broken by 'NameResolutionError(\"<urllib3.connection.HTTPSConnection object at 0x000001AF53DCF1F0>: Failed to resolve 'files.clear.ml' ([Errno 11001] getaddrinfo failed)\")': /\n",
      "Retrying (Retry(total=212, connect=213, read=239, redirect=240, status=240)) after connection broken by 'NameResolutionError(\"<urllib3.connection.HTTPSConnection object at 0x000001AF09AF9FF0>: Failed to resolve 'api.clear.ml' ([Errno 11001] getaddrinfo failed)\")': /v2.23/tasks.get_all\n",
      "      24/40         0G     0.1255     0.6635     0.9251         52        416:  43%|████▎     | 116/271 [09:53<13:14,  5.13s/it]Retrying (Retry(total=1, connect=1, read=5, redirect=5, status=None)) after connection broken by 'NameResolutionError(\"<urllib3.connection.HTTPSConnection object at 0x000001AF54023100>: Failed to resolve 'files.clear.ml' ([Errno 11001] getaddrinfo failed)\")': /\n",
      "      24/40         0G     0.1259     0.6629     0.9251         57        416:  43%|████▎     | 117/271 [09:58<13:08,  5.12s/it]Retrying (Retry(total=0, connect=0, read=5, redirect=5, status=None)) after connection broken by 'NameResolutionError(\"<urllib3.connection.HTTPSConnection object at 0x000001AF09AFBF40>: Failed to resolve 'files.clear.ml' ([Errno 11001] getaddrinfo failed)\")': /\n",
      "      24/40         0G     0.1261     0.6617      0.925         53        416:  44%|████▎     | 118/271 [10:03<13:09,  5.16s/it]Retrying (Retry(total=2, connect=2, read=5, redirect=5, status=None)) after connection broken by 'NameResolutionError(\"<urllib3.connection.HTTPSConnection object at 0x000001AF025014E0>: Failed to resolve 'files.clear.ml' ([Errno 11001] getaddrinfo failed)\")': /\n",
      "Retrying (Retry(total=1, connect=1, read=5, redirect=5, status=None)) after connection broken by 'NameResolutionError(\"<urllib3.connection.HTTPSConnection object at 0x000001AF08FE3760>: Failed to resolve 'files.clear.ml' ([Errno 11001] getaddrinfo failed)\")': /\n",
      "      24/40         0G     0.1263     0.6634     0.9254         43        416:  44%|████▍     | 120/271 [10:14<13:01,  5.18s/it]Retrying (Retry(total=0, connect=0, read=5, redirect=5, status=None)) after connection broken by 'NameResolutionError(\"<urllib3.connection.HTTPSConnection object at 0x000001AF08FE3B80>: Failed to resolve 'files.clear.ml' ([Errno 11001] getaddrinfo failed)\")': /\n",
      "      24/40         0G     0.1263     0.6638     0.9259         43        416:  45%|████▍     | 121/271 [10:19<12:52,  5.15s/it]Retrying (Retry(total=217, connect=217, read=240, redirect=240, status=240)) after connection broken by 'NameResolutionError(\"<urllib3.connection.HTTPSConnection object at 0x000001AF53DCF5E0>: Failed to resolve 'api.clear.ml' ([Errno 11001] getaddrinfo failed)\")': /v2.23/events.add_batch\n",
      "Retrying (Retry(total=2, connect=2, read=5, redirect=5, status=None)) after connection broken by 'NameResolutionError(\"<urllib3.connection.HTTPSConnection object at 0x000001AF08F36650>: Failed to resolve 'files.clear.ml' ([Errno 11001] getaddrinfo failed)\")': /\n",
      "Retrying (Retry(total=1, connect=1, read=5, redirect=5, status=None)) after connection broken by 'NameResolutionError(\"<urllib3.connection.HTTPSConnection object at 0x000001AF0534C250>: Failed to resolve 'files.clear.ml' ([Errno 11001] getaddrinfo failed)\")': /\n",
      "      24/40         0G     0.1268     0.6624     0.9259         48        416:  45%|████▌     | 123/271 [10:29<12:38,  5.13s/it]Retrying (Retry(total=0, connect=0, read=5, redirect=5, status=None)) after connection broken by 'NameResolutionError(\"<urllib3.connection.HTTPSConnection object at 0x000001AF53F54580>: Failed to resolve 'files.clear.ml' ([Errno 11001] getaddrinfo failed)\")': /\n"
     ]
    },
    {
     "name": "stdout",
     "output_type": "stream",
     "text": [
      "2024-06-05 06:46:48,482 - clearml.storage - ERROR - Exception encountered while uploading HTTPSConnectionPool(host='files.clear.ml', port=443): Max retries exceeded with url: / (Caused by NameResolutionError(\"<urllib3.connection.HTTPSConnection object at 0x000001AF4EA49FF0>: Failed to resolve 'files.clear.ml' ([Errno 11001] getaddrinfo failed)\"))\n"
     ]
    },
    {
     "name": "stderr",
     "output_type": "stream",
     "text": [
      "      24/40         0G     0.1258     0.6559     0.9263         44        416:  48%|████▊     | 130/271 [11:04<11:55,  5.07s/it]Retrying (Retry(total=2, connect=2, read=5, redirect=5, status=None)) after connection broken by 'NameResolutionError(\"<urllib3.connection.HTTPSConnection object at 0x000001AF53F57040>: Failed to resolve 'files.clear.ml' ([Errno 11001] getaddrinfo failed)\")': /\n",
      "Retrying (Retry(total=1, connect=1, read=5, redirect=5, status=None)) after connection broken by 'NameResolutionError(\"<urllib3.connection.HTTPSConnection object at 0x000001AF53F54310>: Failed to resolve 'files.clear.ml' ([Errno 11001] getaddrinfo failed)\")': /\n",
      "      24/40         0G     0.1254     0.6547     0.9259         44        416:  49%|████▊     | 132/271 [11:15<11:48,  5.10s/it]Retrying (Retry(total=0, connect=0, read=5, redirect=5, status=None)) after connection broken by 'NameResolutionError(\"<urllib3.connection.HTTPSConnection object at 0x000001AF53F55540>: Failed to resolve 'files.clear.ml' ([Errno 11001] getaddrinfo failed)\")': /\n",
      "Retrying (Retry(total=2, connect=2, read=5, redirect=5, status=None)) after connection broken by 'NameResolutionError(\"<urllib3.connection.HTTPSConnection object at 0x000001AF54A470D0>: Failed to resolve 'files.clear.ml' ([Errno 11001] getaddrinfo failed)\")': /\n",
      "      24/40         0G      0.125     0.6532     0.9255         50        416:  49%|████▉     | 133/271 [11:20<11:38,  5.06s/it]Retrying (Retry(total=1, connect=1, read=5, redirect=5, status=None)) after connection broken by 'NameResolutionError(\"<urllib3.connection.HTTPSConnection object at 0x000001AF08FE2290>: Failed to resolve 'files.clear.ml' ([Errno 11001] getaddrinfo failed)\")': /\n",
      "      24/40         0G     0.1251     0.6517     0.9257         46        416:  50%|████▉     | 135/271 [11:30<11:30,  5.08s/it]Retrying (Retry(total=0, connect=0, read=5, redirect=5, status=None)) after connection broken by 'NameResolutionError(\"<urllib3.connection.HTTPSConnection object at 0x000001AF08FE17E0>: Failed to resolve 'files.clear.ml' ([Errno 11001] getaddrinfo failed)\")': /\n",
      "Retrying (Retry(total=2, connect=2, read=5, redirect=5, status=None)) after connection broken by 'NameResolutionError(\"<urllib3.connection.HTTPSConnection object at 0x000001AF09AFA710>: Failed to resolve 'files.clear.ml' ([Errno 11001] getaddrinfo failed)\")': /\n",
      "      24/40         0G      0.125      0.651     0.9256         51        416:  50%|█████     | 136/271 [11:35<11:24,  5.07s/it]Retrying (Retry(total=1, connect=1, read=5, redirect=5, status=None)) after connection broken by 'NameResolutionError(\"<urllib3.connection.HTTPSConnection object at 0x000001AF09AF90C0>: Failed to resolve 'files.clear.ml' ([Errno 11001] getaddrinfo failed)\")': /\n",
      "      24/40         0G     0.1251     0.6519     0.9259         50        416:  51%|█████     | 138/271 [11:45<11:23,  5.14s/it]Retrying (Retry(total=0, connect=0, read=5, redirect=5, status=None)) after connection broken by 'NameResolutionError(\"<urllib3.connection.HTTPSConnection object at 0x000001AF09AFAC80>: Failed to resolve 'files.clear.ml' ([Errno 11001] getaddrinfo failed)\")': /\n"
     ]
    },
    {
     "name": "stdout",
     "output_type": "stream",
     "text": [
      "2024-06-05 06:48:03,680 - clearml.storage - ERROR - Exception encountered while uploading HTTPSConnectionPool(host='files.clear.ml', port=443): Max retries exceeded with url: / (Caused by NameResolutionError(\"<urllib3.connection.HTTPSConnection object at 0x000001AF53DCCA60>: Failed to resolve 'files.clear.ml' ([Errno 11001] getaddrinfo failed)\"))\n"
     ]
    },
    {
     "name": "stderr",
     "output_type": "stream",
     "text": [
      "Retrying (Retry(total=211, connect=211, read=240, redirect=240, status=240)) after connection broken by 'NameResolutionError(\"<urllib3.connection.HTTPSConnection object at 0x000001AF53DCD1B0>: Failed to resolve 'api.clear.ml' ([Errno 11001] getaddrinfo failed)\")': /v2.23/events.add_batch\n",
      "Retrying (Retry(total=211, connect=211, read=240, redirect=240, status=240)) after connection broken by 'NameResolutionError(\"<urllib3.connection.HTTPSConnection object at 0x000001AF53DCC040>: Failed to resolve 'api.clear.ml' ([Errno 11001] getaddrinfo failed)\")': /v2.23/tasks.get_all\n",
      "Retrying (Retry(total=211, connect=212, read=239, redirect=240, status=240)) after connection broken by 'NameResolutionError(\"<urllib3.connection.HTTPSConnection object at 0x000001AF54023E50>: Failed to resolve 'api.clear.ml' ([Errno 11001] getaddrinfo failed)\")': /v2.23/tasks.get_all\n",
      "      24/40         0G      0.125     0.6503     0.9246         45        416:  53%|█████▎    | 144/271 [12:16<10:52,  5.14s/it]Retrying (Retry(total=216, connect=216, read=240, redirect=240, status=240)) after connection broken by 'NameResolutionError(\"<urllib3.connection.HTTPSConnection object at 0x000001AF54A14FA0>: Failed to resolve 'api.clear.ml' ([Errno 11001] getaddrinfo failed)\")': /v2.23/events.add_batch\n",
      "Retrying (Retry(total=2, connect=2, read=5, redirect=5, status=None)) after connection broken by 'NameResolutionError(\"<urllib3.connection.HTTPSConnection object at 0x000001AF53F56D70>: Failed to resolve 'files.clear.ml' ([Errno 11001] getaddrinfo failed)\")': /\n",
      "      24/40         0G     0.1248     0.6498     0.9243         52        416:  54%|█████▎    | 145/271 [12:21<10:44,  5.12s/it]Retrying (Retry(total=1, connect=1, read=5, redirect=5, status=None)) after connection broken by 'NameResolutionError(\"<urllib3.connection.HTTPSConnection object at 0x000001AF53F55360>: Failed to resolve 'files.clear.ml' ([Errno 11001] getaddrinfo failed)\")': /\n",
      "      24/40         0G     0.1247     0.6486     0.9243         45        416:  54%|█████▍    | 147/271 [12:31<10:30,  5.08s/it]Retrying (Retry(total=0, connect=0, read=5, redirect=5, status=None)) after connection broken by 'NameResolutionError(\"<urllib3.connection.HTTPSConnection object at 0x000001AF53F558A0>: Failed to resolve 'files.clear.ml' ([Errno 11001] getaddrinfo failed)\")': /\n",
      "Retrying (Retry(total=2, connect=2, read=5, redirect=5, status=None)) after connection broken by 'NameResolutionError(\"<urllib3.connection.HTTPSConnection object at 0x000001AF53F54760>: Failed to resolve 'files.clear.ml' ([Errno 11001] getaddrinfo failed)\")': /\n",
      "      24/40         0G     0.1244     0.6469      0.924         46        416:  55%|█████▍    | 148/271 [12:36<10:25,  5.09s/it]Retrying (Retry(total=1, connect=1, read=5, redirect=5, status=None)) after connection broken by 'NameResolutionError(\"<urllib3.connection.HTTPSConnection object at 0x000001AF53F57FD0>: Failed to resolve 'files.clear.ml' ([Errno 11001] getaddrinfo failed)\")': /\n",
      "      24/40         0G     0.1242     0.6481     0.9241         45        416:  55%|█████▌    | 150/271 [12:46<10:17,  5.11s/it]Retrying (Retry(total=0, connect=0, read=5, redirect=5, status=None)) after connection broken by 'NameResolutionError(\"<urllib3.connection.HTTPSConnection object at 0x000001AF03E18160>: Failed to resolve 'files.clear.ml' ([Errno 11001] getaddrinfo failed)\")': /\n",
      "Retrying (Retry(total=2, connect=2, read=5, redirect=5, status=None)) after connection broken by 'NameResolutionError(\"<urllib3.connection.HTTPSConnection object at 0x000001AF53F54EB0>: Failed to resolve 'files.clear.ml' ([Errno 11001] getaddrinfo failed)\")': /\n",
      "      24/40         0G     0.1239     0.6472      0.924         58        416:  56%|█████▌    | 151/271 [12:52<10:11,  5.09s/it]Retrying (Retry(total=1, connect=1, read=5, redirect=5, status=None)) after connection broken by 'NameResolutionError(\"<urllib3.connection.HTTPSConnection object at 0x000001AF53F56830>: Failed to resolve 'files.clear.ml' ([Errno 11001] getaddrinfo failed)\")': /\n",
      "      24/40         0G     0.1236     0.6459     0.9238         44        416:  56%|█████▋    | 153/271 [13:02<09:59,  5.08s/it]Retrying (Retry(total=0, connect=0, read=5, redirect=5, status=None)) after connection broken by 'NameResolutionError(\"<urllib3.connection.HTTPSConnection object at 0x000001AF53F55960>: Failed to resolve 'files.clear.ml' ([Errno 11001] getaddrinfo failed)\")': /\n"
     ]
    },
    {
     "name": "stdout",
     "output_type": "stream",
     "text": [
      "2024-06-05 06:49:18,841 - clearml.storage - ERROR - Exception encountered while uploading HTTPSConnectionPool(host='files.clear.ml', port=443): Max retries exceeded with url: / (Caused by NameResolutionError(\"<urllib3.connection.HTTPSConnection object at 0x000001AF03E199F0>: Failed to resolve 'files.clear.ml' ([Errno 11001] getaddrinfo failed)\"))\n"
     ]
    },
    {
     "name": "stderr",
     "output_type": "stream",
     "text": [
      "      24/40         0G     0.1233     0.6457     0.9236         45        416:  59%|█████▊    | 159/271 [13:32<09:29,  5.08s/it]Retrying (Retry(total=2, connect=2, read=5, redirect=5, status=None)) after connection broken by 'NameResolutionError(\"<urllib3.connection.HTTPSConnection object at 0x000001AF53F57550>: Failed to resolve 'files.clear.ml' ([Errno 11001] getaddrinfo failed)\")': /\n",
      "      24/40         0G     0.1232     0.6456     0.9231         54        416:  59%|█████▉    | 160/271 [13:37<09:24,  5.09s/it]Retrying (Retry(total=1, connect=1, read=5, redirect=5, status=None)) after connection broken by 'NameResolutionError(\"<urllib3.connection.HTTPSConnection object at 0x000001AF53F54D30>: Failed to resolve 'files.clear.ml' ([Errno 11001] getaddrinfo failed)\")': /\n",
      "      24/40         0G     0.1229     0.6454     0.9226         45        416:  59%|█████▉    | 161/271 [13:42<09:17,  5.07s/it]Retrying (Retry(total=0, connect=0, read=5, redirect=5, status=None)) after connection broken by 'NameResolutionError(\"<urllib3.connection.HTTPSConnection object at 0x000001AF53F54100>: Failed to resolve 'files.clear.ml' ([Errno 11001] getaddrinfo failed)\")': /\n",
      "      24/40         0G     0.1229     0.6468     0.9229         50        416:  60%|█████▉    | 162/271 [13:47<09:14,  5.08s/it]Retrying (Retry(total=210, connect=210, read=240, redirect=240, status=240)) after connection broken by 'NameResolutionError(\"<urllib3.connection.HTTPSConnection object at 0x000001AF4EA4BA60>: Failed to resolve 'api.clear.ml' ([Errno 11001] getaddrinfo failed)\")': /v2.23/events.add_batch\n",
      "Retrying (Retry(total=210, connect=210, read=240, redirect=240, status=240)) after connection broken by 'NameResolutionError(\"<urllib3.connection.HTTPSConnection object at 0x000001AF53DCCFD0>: Failed to resolve 'api.clear.ml' ([Errno 11001] getaddrinfo failed)\")': /v2.23/tasks.get_all\n",
      "Retrying (Retry(total=210, connect=211, read=239, redirect=240, status=240)) after connection broken by 'NameResolutionError(\"<urllib3.connection.HTTPSConnection object at 0x000001AF53DCEBF0>: Failed to resolve 'api.clear.ml' ([Errno 11001] getaddrinfo failed)\")': /v2.23/tasks.get_all\n",
      "Retrying (Retry(total=2, connect=2, read=5, redirect=5, status=None)) after connection broken by 'NameResolutionError(\"<urllib3.connection.HTTPSConnection object at 0x000001AF53F54FD0>: Failed to resolve 'files.clear.ml' ([Errno 11001] getaddrinfo failed)\")': /\n",
      "      24/40         0G     0.1227     0.6477     0.9225         53        416:  60%|██████    | 163/271 [13:53<09:15,  5.15s/it]Retrying (Retry(total=1, connect=1, read=5, redirect=5, status=None)) after connection broken by 'NameResolutionError(\"<urllib3.connection.HTTPSConnection object at 0x000001AF540EF100>: Failed to resolve 'files.clear.ml' ([Errno 11001] getaddrinfo failed)\")': /\n",
      "      24/40         0G     0.1224     0.6477     0.9224         56        416:  61%|██████    | 164/271 [13:58<09:07,  5.12s/it]Retrying (Retry(total=0, connect=0, read=5, redirect=5, status=None)) after connection broken by 'NameResolutionError(\"<urllib3.connection.HTTPSConnection object at 0x000001AF53F56230>: Failed to resolve 'files.clear.ml' ([Errno 11001] getaddrinfo failed)\")': /\n",
      "      24/40         0G     0.1222     0.6485     0.9226         44        416:  61%|██████    | 165/271 [14:03<09:01,  5.11s/it]Retrying (Retry(total=2, connect=2, read=5, redirect=5, status=None)) after connection broken by 'NameResolutionError(\"<urllib3.connection.HTTPSConnection object at 0x000001AF0534C250>: Failed to resolve 'files.clear.ml' ([Errno 11001] getaddrinfo failed)\")': /\n",
      "      24/40         0G     0.1224     0.6486      0.923         50        416:  61%|██████▏   | 166/271 [14:08<08:54,  5.09s/it]Retrying (Retry(total=1, connect=1, read=5, redirect=5, status=None)) after connection broken by 'NameResolutionError(\"<urllib3.connection.HTTPSConnection object at 0x000001AF08FE0040>: Failed to resolve 'files.clear.ml' ([Errno 11001] getaddrinfo failed)\")': /\n",
      "      24/40         0G     0.1225     0.6496     0.9232         49        416:  62%|██████▏   | 167/271 [14:13<08:47,  5.07s/it]Retrying (Retry(total=0, connect=0, read=5, redirect=5, status=None)) after connection broken by 'NameResolutionError(\"<urllib3.connection.HTTPSConnection object at 0x000001AF08FE2800>: Failed to resolve 'files.clear.ml' ([Errno 11001] getaddrinfo failed)\")': /\n"
     ]
    },
    {
     "name": "stdout",
     "output_type": "stream",
     "text": [
      "2024-06-05 06:50:34,049 - clearml.storage - ERROR - Exception encountered while uploading HTTPSConnectionPool(host='files.clear.ml', port=443): Max retries exceeded with url: / (Caused by NameResolutionError(\"<urllib3.connection.HTTPSConnection object at 0x000001AF08FE2E30>: Failed to resolve 'files.clear.ml' ([Errno 11001] getaddrinfo failed)\"))\n"
     ]
    },
    {
     "name": "stderr",
     "output_type": "stream",
     "text": [
      "      24/40         0G     0.1227     0.6511     0.9233         49        416:  62%|██████▏   | 168/271 [14:18<08:46,  5.11s/it]Retrying (Retry(total=215, connect=215, read=240, redirect=240, status=240)) after connection broken by 'NameResolutionError(\"<urllib3.connection.HTTPSConnection object at 0x000001AF53F57010>: Failed to resolve 'api.clear.ml' ([Errno 11001] getaddrinfo failed)\")': /v2.23/events.add_batch\n",
      "      24/40         0G     0.1219     0.6504      0.922         53        416:  64%|██████▍   | 174/271 [14:49<08:13,  5.09s/it]Retrying (Retry(total=2, connect=2, read=5, redirect=5, status=None)) after connection broken by 'NameResolutionError(\"<urllib3.connection.HTTPSConnection object at 0x000001AF08FE0040>: Failed to resolve 'files.clear.ml' ([Errno 11001] getaddrinfo failed)\")': /\n",
      "Retrying (Retry(total=1, connect=1, read=5, redirect=5, status=None)) after connection broken by 'NameResolutionError(\"<urllib3.connection.HTTPSConnection object at 0x000001AF08FE2E90>: Failed to resolve 'files.clear.ml' ([Errno 11001] getaddrinfo failed)\")': /\n",
      "      24/40         0G     0.1217     0.6497      0.922         55        416:  65%|██████▍   | 176/271 [14:59<08:07,  5.14s/it]Retrying (Retry(total=0, connect=0, read=5, redirect=5, status=None)) after connection broken by 'NameResolutionError(\"<urllib3.connection.HTTPSConnection object at 0x000001AF54023100>: Failed to resolve 'files.clear.ml' ([Errno 11001] getaddrinfo failed)\")': /\n",
      "      24/40         0G     0.1222     0.6514      0.922         62        416:  65%|██████▌   | 177/271 [15:05<08:07,  5.18s/it]Retrying (Retry(total=2, connect=2, read=5, redirect=5, status=None)) after connection broken by 'NameResolutionError(\"<urllib3.connection.HTTPSConnection object at 0x000001AF03E190C0>: Failed to resolve 'files.clear.ml' ([Errno 11001] getaddrinfo failed)\")': /\n",
      "Retrying (Retry(total=1, connect=1, read=5, redirect=5, status=None)) after connection broken by 'NameResolutionError(\"<urllib3.connection.HTTPSConnection object at 0x000001AF03E1A8F0>: Failed to resolve 'files.clear.ml' ([Errno 11001] getaddrinfo failed)\")': /\n",
      "      24/40         0G     0.1221     0.6519      0.922         47        416:  66%|██████▌   | 179/271 [15:14<07:47,  5.08s/it]Retrying (Retry(total=0, connect=0, read=5, redirect=5, status=None)) after connection broken by 'NameResolutionError(\"<urllib3.connection.HTTPSConnection object at 0x000001AF03E1B5E0>: Failed to resolve 'files.clear.ml' ([Errno 11001] getaddrinfo failed)\")': /\n",
      "      24/40         0G     0.1218     0.6517     0.9216         49        416:  66%|██████▋   | 180/271 [15:20<07:46,  5.12s/it]Retrying (Retry(total=2, connect=2, read=5, redirect=5, status=None)) after connection broken by 'NameResolutionError(\"<urllib3.connection.HTTPSConnection object at 0x000001AF03E1A8C0>: Failed to resolve 'files.clear.ml' ([Errno 11001] getaddrinfo failed)\")': /\n",
      "Retrying (Retry(total=1, connect=1, read=5, redirect=5, status=None)) after connection broken by 'NameResolutionError(\"<urllib3.connection.HTTPSConnection object at 0x000001AF53F57A90>: Failed to resolve 'files.clear.ml' ([Errno 11001] getaddrinfo failed)\")': /\n",
      "      24/40         0G     0.1226     0.6527     0.9223         46        416:  67%|██████▋   | 182/271 [15:30<07:41,  5.19s/it]Retrying (Retry(total=0, connect=0, read=5, redirect=5, status=None)) after connection broken by 'NameResolutionError(\"<urllib3.connection.HTTPSConnection object at 0x000001AF53F571C0>: Failed to resolve 'files.clear.ml' ([Errno 11001] getaddrinfo failed)\")': /\n"
     ]
    },
    {
     "name": "stdout",
     "output_type": "stream",
     "text": [
      "2024-06-05 06:51:49,231 - clearml.storage - ERROR - Exception encountered while uploading HTTPSConnectionPool(host='files.clear.ml', port=443): Max retries exceeded with url: / (Caused by NameResolutionError(\"<urllib3.connection.HTTPSConnection object at 0x000001AF53F57CA0>: Failed to resolve 'files.clear.ml' ([Errno 11001] getaddrinfo failed)\"))\n"
     ]
    },
    {
     "name": "stderr",
     "output_type": "stream",
     "text": [
      "      24/40         0G     0.1228     0.6525     0.9225         45        416:  68%|██████▊   | 185/271 [15:45<07:17,  5.09s/it]Retrying (Retry(total=209, connect=209, read=240, redirect=240, status=240)) after connection broken by 'NameResolutionError(\"<urllib3.connection.HTTPSConnection object at 0x000001AF53F57FA0>: Failed to resolve 'api.clear.ml' ([Errno 11001] getaddrinfo failed)\")': /v2.23/events.add_batch\n",
      "Retrying (Retry(total=209, connect=209, read=240, redirect=240, status=240)) after connection broken by 'NameResolutionError(\"<urllib3.connection.HTTPSConnection object at 0x000001AF53F55660>: Failed to resolve 'api.clear.ml' ([Errno 11001] getaddrinfo failed)\")': /v2.23/tasks.get_all\n",
      "Retrying (Retry(total=209, connect=210, read=239, redirect=240, status=240)) after connection broken by 'NameResolutionError(\"<urllib3.connection.HTTPSConnection object at 0x000001AF53F57C40>: Failed to resolve 'api.clear.ml' ([Errno 11001] getaddrinfo failed)\")': /v2.23/tasks.get_all\n",
      "      24/40         0G      0.123     0.6502     0.9221         47        416:  69%|██████▉   | 188/271 [16:02<07:22,  5.33s/it]Retrying (Retry(total=2, connect=2, read=5, redirect=5, status=None)) after connection broken by 'NameResolutionError(\"<urllib3.connection.HTTPSConnection object at 0x000001AF052DFB20>: Failed to resolve 'files.clear.ml' ([Errno 11001] getaddrinfo failed)\")': /\n",
      "      24/40         0G     0.1229     0.6506     0.9221         43        416:  70%|██████▉   | 189/271 [16:07<07:17,  5.33s/it]Retrying (Retry(total=1, connect=1, read=5, redirect=5, status=None)) after connection broken by 'NameResolutionError(\"<urllib3.connection.HTTPSConnection object at 0x000001AF052DE200>: Failed to resolve 'files.clear.ml' ([Errno 11001] getaddrinfo failed)\")': /\n",
      "      24/40         0G     0.1229     0.6509      0.922         59        416:  70%|███████   | 190/271 [16:13<07:25,  5.50s/it]Retrying (Retry(total=0, connect=0, read=5, redirect=5, status=None)) after connection broken by 'NameResolutionError(\"<urllib3.connection.HTTPSConnection object at 0x000001AF052DEA10>: Failed to resolve 'files.clear.ml' ([Errno 11001] getaddrinfo failed)\")': /\n",
      "      24/40         0G     0.1228     0.6511     0.9222         43        416:  70%|███████   | 191/271 [16:18<07:16,  5.46s/it]Retrying (Retry(total=214, connect=214, read=240, redirect=240, status=240)) after connection broken by 'NameResolutionError(\"<urllib3.connection.HTTPSConnection object at 0x000001AF08FE3AF0>: Failed to resolve 'api.clear.ml' ([Errno 11001] getaddrinfo failed)\")': /v2.23/events.add_batch\n",
      "Retrying (Retry(total=2, connect=2, read=5, redirect=5, status=None)) after connection broken by 'NameResolutionError(\"<urllib3.connection.HTTPSConnection object at 0x000001AF53F553C0>: Failed to resolve 'files.clear.ml' ([Errno 11001] getaddrinfo failed)\")': /\n",
      "      24/40         0G     0.1227     0.6504     0.9223         48        416:  71%|███████   | 192/271 [16:24<07:16,  5.53s/it]Retrying (Retry(total=1, connect=1, read=5, redirect=5, status=None)) after connection broken by 'NameResolutionError(\"<urllib3.connection.HTTPSConnection object at 0x000001AF53F56950>: Failed to resolve 'files.clear.ml' ([Errno 11001] getaddrinfo failed)\")': /\n",
      "      24/40         0G     0.1225     0.6497     0.9218         52        416:  71%|███████   | 193/271 [16:29<07:11,  5.53s/it]Retrying (Retry(total=0, connect=0, read=5, redirect=5, status=None)) after connection broken by 'NameResolutionError(\"<urllib3.connection.HTTPSConnection object at 0x000001AF53F57940>: Failed to resolve 'files.clear.ml' ([Errno 11001] getaddrinfo failed)\")': /\n",
      "      24/40         0G     0.1224     0.6494     0.9218         58        416:  72%|███████▏  | 194/271 [16:35<07:02,  5.48s/it]Retrying (Retry(total=2, connect=2, read=5, redirect=5, status=None)) after connection broken by 'NameResolutionError(\"<urllib3.connection.HTTPSConnection object at 0x000001AF03E1A8C0>: Failed to resolve 'files.clear.ml' ([Errno 11001] getaddrinfo failed)\")': /\n",
      "Retrying (Retry(total=1, connect=1, read=5, redirect=5, status=None)) after connection broken by 'NameResolutionError(\"<urllib3.connection.HTTPSConnection object at 0x000001AF03E19A20>: Failed to resolve 'files.clear.ml' ([Errno 11001] getaddrinfo failed)\")': /\n",
      "      24/40         0G     0.1224     0.6498      0.922         52        416:  72%|███████▏  | 196/271 [16:45<06:38,  5.32s/it]Retrying (Retry(total=0, connect=0, read=5, redirect=5, status=None)) after connection broken by 'NameResolutionError(\"<urllib3.connection.HTTPSConnection object at 0x000001AF03E1A4A0>: Failed to resolve 'files.clear.ml' ([Errno 11001] getaddrinfo failed)\")': /\n"
     ]
    },
    {
     "name": "stdout",
     "output_type": "stream",
     "text": [
      "2024-06-05 06:53:04,457 - clearml.storage - ERROR - Exception encountered while uploading HTTPSConnectionPool(host='files.clear.ml', port=443): Max retries exceeded with url: / (Caused by NameResolutionError(\"<urllib3.connection.HTTPSConnection object at 0x000001AF03E19900>: Failed to resolve 'files.clear.ml' ([Errno 11001] getaddrinfo failed)\"))\n"
     ]
    },
    {
     "name": "stderr",
     "output_type": "stream",
     "text": [
      "      24/40         0G     0.1213     0.6526      0.921         47        416:  76%|███████▋  | 207/271 [17:45<05:38,  5.29s/it]Retrying (Retry(total=208, connect=208, read=240, redirect=240, status=240)) after connection broken by 'NameResolutionError(\"<urllib3.connection.HTTPSConnection object at 0x000001AF53F556C0>: Failed to resolve 'api.clear.ml' ([Errno 11001] getaddrinfo failed)\")': /v2.23/events.add_batch\n",
      "Retrying (Retry(total=208, connect=208, read=240, redirect=240, status=240)) after connection broken by 'NameResolutionError(\"<urllib3.connection.HTTPSConnection object at 0x000001AF53F54D30>: Failed to resolve 'api.clear.ml' ([Errno 11001] getaddrinfo failed)\")': /v2.23/tasks.get_all\n",
      "Retrying (Retry(total=208, connect=209, read=239, redirect=240, status=240)) after connection broken by 'NameResolutionError(\"<urllib3.connection.HTTPSConnection object at 0x000001AF53F56DA0>: Failed to resolve 'api.clear.ml' ([Errno 11001] getaddrinfo failed)\")': /v2.23/tasks.get_all\n",
      "      24/40         0G      0.121     0.6548     0.9213         39        416:  79%|███████▊  | 213/271 [18:16<05:02,  5.21s/it]Retrying (Retry(total=213, connect=213, read=240, redirect=240, status=240)) after connection broken by 'NameResolutionError(\"<urllib3.connection.HTTPSConnection object at 0x000001AF53F57C70>: Failed to resolve 'api.clear.ml' ([Errno 11001] getaddrinfo failed)\")': /v2.23/events.add_batch\n",
      "      24/40         0G     0.1173     0.6516     0.9189         45        416: 100%|██████████| 271/271 [23:19<00:00,  5.16s/it]\n",
      "                 Class     Images  Instances      Box(P          R      mAP50  mAP50-95): 100%|██████████| 6/6 [00:24<00:00,  4.12s/it]"
     ]
    },
    {
     "name": "stdout",
     "output_type": "stream",
     "text": [
      "                   all        182        186      0.719      0.758       0.81      0.747\n"
     ]
    },
    {
     "name": "stderr",
     "output_type": "stream",
     "text": [
      "\n"
     ]
    },
    {
     "name": "stdout",
     "output_type": "stream",
     "text": [
      "\n",
      "      Epoch    GPU_mem   box_loss   cls_loss   dfl_loss  Instances       Size\n"
     ]
    },
    {
     "name": "stderr",
     "output_type": "stream",
     "text": [
      "      25/40         0G     0.1083     0.6248     0.9234         43        416:  38%|███▊      | 104/271 [09:22<15:03,  5.41s/it]\n"
     ]
    },
    {
     "ename": "KeyboardInterrupt",
     "evalue": "",
     "output_type": "error",
     "traceback": [
      "\u001b[1;31m---------------------------------------------------------------------------\u001b[0m",
      "\u001b[1;31mKeyboardInterrupt\u001b[0m                         Traceback (most recent call last)",
      "Cell \u001b[1;32mIn [7], line 7\u001b[0m\n\u001b[0;32m      4\u001b[0m clearml\u001b[38;5;241m.\u001b[39mbrowser_login()\n\u001b[0;32m      6\u001b[0m model \u001b[38;5;241m=\u001b[39m YOLO(\u001b[38;5;124m\"\u001b[39m\u001b[38;5;124myolov8.yaml\u001b[39m\u001b[38;5;124m\"\u001b[39m)\u001b[38;5;241m.\u001b[39mload(\u001b[38;5;124m\"\u001b[39m\u001b[38;5;124myolov8n.pt\u001b[39m\u001b[38;5;124m\"\u001b[39m)\n\u001b[1;32m----> 7\u001b[0m model \u001b[38;5;241m=\u001b[39m \u001b[43mmodel\u001b[49m\u001b[38;5;241;43m.\u001b[39;49m\u001b[43mtrain\u001b[49m\u001b[43m(\u001b[49m\u001b[43mdata\u001b[49m\u001b[38;5;241;43m=\u001b[39;49m\u001b[38;5;124;43mr\u001b[39;49m\u001b[38;5;124;43m\"\u001b[39;49m\u001b[38;5;124;43mC:\u001b[39;49m\u001b[38;5;124;43m\\\u001b[39;49m\u001b[38;5;124;43mUsers\u001b[39;49m\u001b[38;5;124;43m\\\u001b[39;49m\u001b[38;5;124;43mzanyi\u001b[39;49m\u001b[38;5;124;43m\\\u001b[39;49m\u001b[38;5;124;43mOneDrive\u001b[39;49m\u001b[38;5;124;43m\\\u001b[39;49m\u001b[38;5;124;43mGit hub\u001b[39;49m\u001b[38;5;124;43m\\\u001b[39;49m\u001b[38;5;124;43mAi\u001b[39;49m\u001b[38;5;124;43m\\\u001b[39;49m\u001b[38;5;124;43mBAIR3\u001b[39;49m\u001b[38;5;124;43m\\\u001b[39;49m\u001b[38;5;124;43mLung-Cancer-1\u001b[39;49m\u001b[38;5;124;43m\\\u001b[39;49m\u001b[38;5;124;43mdata.yaml\u001b[39;49m\u001b[38;5;124;43m\"\u001b[39;49m\u001b[43m,\u001b[49m\u001b[43m \u001b[49m\u001b[43mepochs\u001b[49m\u001b[38;5;241;43m=\u001b[39;49m\u001b[38;5;241;43m40\u001b[39;49m\u001b[43m,\u001b[49m\u001b[43m \u001b[49m\u001b[43mimgsz\u001b[49m\u001b[38;5;241;43m=\u001b[39;49m\u001b[38;5;241;43m416\u001b[39;49m\u001b[43m)\u001b[49m\n",
      "File \u001b[1;32m~\\AppData\\Roaming\\Python\\Python310\\site-packages\\ultralytics\\engine\\model.py:674\u001b[0m, in \u001b[0;36mModel.train\u001b[1;34m(self, trainer, **kwargs)\u001b[0m\n\u001b[0;32m    671\u001b[0m             \u001b[38;5;28;01mpass\u001b[39;00m\n\u001b[0;32m    673\u001b[0m \u001b[38;5;28mself\u001b[39m\u001b[38;5;241m.\u001b[39mtrainer\u001b[38;5;241m.\u001b[39mhub_session \u001b[38;5;241m=\u001b[39m \u001b[38;5;28mself\u001b[39m\u001b[38;5;241m.\u001b[39msession  \u001b[38;5;66;03m# attach optional HUB session\u001b[39;00m\n\u001b[1;32m--> 674\u001b[0m \u001b[38;5;28;43mself\u001b[39;49m\u001b[38;5;241;43m.\u001b[39;49m\u001b[43mtrainer\u001b[49m\u001b[38;5;241;43m.\u001b[39;49m\u001b[43mtrain\u001b[49m\u001b[43m(\u001b[49m\u001b[43m)\u001b[49m\n\u001b[0;32m    675\u001b[0m \u001b[38;5;66;03m# Update model and cfg after training\u001b[39;00m\n\u001b[0;32m    676\u001b[0m \u001b[38;5;28;01mif\u001b[39;00m RANK \u001b[38;5;129;01min\u001b[39;00m {\u001b[38;5;241m-\u001b[39m\u001b[38;5;241m1\u001b[39m, \u001b[38;5;241m0\u001b[39m}:\n",
      "File \u001b[1;32m~\\AppData\\Roaming\\Python\\Python310\\site-packages\\ultralytics\\engine\\trainer.py:199\u001b[0m, in \u001b[0;36mBaseTrainer.train\u001b[1;34m(self)\u001b[0m\n\u001b[0;32m    196\u001b[0m         ddp_cleanup(\u001b[38;5;28mself\u001b[39m, \u001b[38;5;28mstr\u001b[39m(file))\n\u001b[0;32m    198\u001b[0m \u001b[38;5;28;01melse\u001b[39;00m:\n\u001b[1;32m--> 199\u001b[0m     \u001b[38;5;28;43mself\u001b[39;49m\u001b[38;5;241;43m.\u001b[39;49m\u001b[43m_do_train\u001b[49m\u001b[43m(\u001b[49m\u001b[43mworld_size\u001b[49m\u001b[43m)\u001b[49m\n",
      "File \u001b[1;32m~\\AppData\\Roaming\\Python\\Python310\\site-packages\\ultralytics\\engine\\trainer.py:379\u001b[0m, in \u001b[0;36mBaseTrainer._do_train\u001b[1;34m(self, world_size)\u001b[0m\n\u001b[0;32m    374\u001b[0m     \u001b[38;5;28mself\u001b[39m\u001b[38;5;241m.\u001b[39mtloss \u001b[38;5;241m=\u001b[39m (\n\u001b[0;32m    375\u001b[0m         (\u001b[38;5;28mself\u001b[39m\u001b[38;5;241m.\u001b[39mtloss \u001b[38;5;241m*\u001b[39m i \u001b[38;5;241m+\u001b[39m \u001b[38;5;28mself\u001b[39m\u001b[38;5;241m.\u001b[39mloss_items) \u001b[38;5;241m/\u001b[39m (i \u001b[38;5;241m+\u001b[39m \u001b[38;5;241m1\u001b[39m) \u001b[38;5;28;01mif\u001b[39;00m \u001b[38;5;28mself\u001b[39m\u001b[38;5;241m.\u001b[39mtloss \u001b[38;5;129;01mis\u001b[39;00m \u001b[38;5;129;01mnot\u001b[39;00m \u001b[38;5;28;01mNone\u001b[39;00m \u001b[38;5;28;01melse\u001b[39;00m \u001b[38;5;28mself\u001b[39m\u001b[38;5;241m.\u001b[39mloss_items\n\u001b[0;32m    376\u001b[0m     )\n\u001b[0;32m    378\u001b[0m \u001b[38;5;66;03m# Backward\u001b[39;00m\n\u001b[1;32m--> 379\u001b[0m \u001b[38;5;28;43mself\u001b[39;49m\u001b[38;5;241;43m.\u001b[39;49m\u001b[43mscaler\u001b[49m\u001b[38;5;241;43m.\u001b[39;49m\u001b[43mscale\u001b[49m\u001b[43m(\u001b[49m\u001b[38;5;28;43mself\u001b[39;49m\u001b[38;5;241;43m.\u001b[39;49m\u001b[43mloss\u001b[49m\u001b[43m)\u001b[49m\u001b[38;5;241;43m.\u001b[39;49m\u001b[43mbackward\u001b[49m\u001b[43m(\u001b[49m\u001b[43m)\u001b[49m\n\u001b[0;32m    381\u001b[0m \u001b[38;5;66;03m# Optimize - https://pytorch.org/docs/master/notes/amp_examples.html\u001b[39;00m\n\u001b[0;32m    382\u001b[0m \u001b[38;5;28;01mif\u001b[39;00m ni \u001b[38;5;241m-\u001b[39m last_opt_step \u001b[38;5;241m>\u001b[39m\u001b[38;5;241m=\u001b[39m \u001b[38;5;28mself\u001b[39m\u001b[38;5;241m.\u001b[39maccumulate:\n",
      "File \u001b[1;32m~\\AppData\\Roaming\\Python\\Python310\\site-packages\\torch\\_tensor.py:487\u001b[0m, in \u001b[0;36mTensor.backward\u001b[1;34m(self, gradient, retain_graph, create_graph, inputs)\u001b[0m\n\u001b[0;32m    477\u001b[0m \u001b[38;5;28;01mif\u001b[39;00m has_torch_function_unary(\u001b[38;5;28mself\u001b[39m):\n\u001b[0;32m    478\u001b[0m     \u001b[38;5;28;01mreturn\u001b[39;00m handle_torch_function(\n\u001b[0;32m    479\u001b[0m         Tensor\u001b[38;5;241m.\u001b[39mbackward,\n\u001b[0;32m    480\u001b[0m         (\u001b[38;5;28mself\u001b[39m,),\n\u001b[1;32m   (...)\u001b[0m\n\u001b[0;32m    485\u001b[0m         inputs\u001b[38;5;241m=\u001b[39minputs,\n\u001b[0;32m    486\u001b[0m     )\n\u001b[1;32m--> 487\u001b[0m \u001b[43mtorch\u001b[49m\u001b[38;5;241;43m.\u001b[39;49m\u001b[43mautograd\u001b[49m\u001b[38;5;241;43m.\u001b[39;49m\u001b[43mbackward\u001b[49m\u001b[43m(\u001b[49m\n\u001b[0;32m    488\u001b[0m \u001b[43m    \u001b[49m\u001b[38;5;28;43mself\u001b[39;49m\u001b[43m,\u001b[49m\u001b[43m \u001b[49m\u001b[43mgradient\u001b[49m\u001b[43m,\u001b[49m\u001b[43m \u001b[49m\u001b[43mretain_graph\u001b[49m\u001b[43m,\u001b[49m\u001b[43m \u001b[49m\u001b[43mcreate_graph\u001b[49m\u001b[43m,\u001b[49m\u001b[43m \u001b[49m\u001b[43minputs\u001b[49m\u001b[38;5;241;43m=\u001b[39;49m\u001b[43minputs\u001b[49m\n\u001b[0;32m    489\u001b[0m \u001b[43m\u001b[49m\u001b[43m)\u001b[49m\n",
      "File \u001b[1;32m~\\AppData\\Roaming\\Python\\Python310\\site-packages\\torch\\autograd\\__init__.py:200\u001b[0m, in \u001b[0;36mbackward\u001b[1;34m(tensors, grad_tensors, retain_graph, create_graph, grad_variables, inputs)\u001b[0m\n\u001b[0;32m    195\u001b[0m     retain_graph \u001b[38;5;241m=\u001b[39m create_graph\n\u001b[0;32m    197\u001b[0m \u001b[38;5;66;03m# The reason we repeat same the comment below is that\u001b[39;00m\n\u001b[0;32m    198\u001b[0m \u001b[38;5;66;03m# some Python versions print out the first line of a multi-line function\u001b[39;00m\n\u001b[0;32m    199\u001b[0m \u001b[38;5;66;03m# calls in the traceback and some print out the last line\u001b[39;00m\n\u001b[1;32m--> 200\u001b[0m \u001b[43mVariable\u001b[49m\u001b[38;5;241;43m.\u001b[39;49m\u001b[43m_execution_engine\u001b[49m\u001b[38;5;241;43m.\u001b[39;49m\u001b[43mrun_backward\u001b[49m\u001b[43m(\u001b[49m\u001b[43m  \u001b[49m\u001b[38;5;66;43;03m# Calls into the C++ engine to run the backward pass\u001b[39;49;00m\n\u001b[0;32m    201\u001b[0m \u001b[43m    \u001b[49m\u001b[43mtensors\u001b[49m\u001b[43m,\u001b[49m\u001b[43m \u001b[49m\u001b[43mgrad_tensors_\u001b[49m\u001b[43m,\u001b[49m\u001b[43m \u001b[49m\u001b[43mretain_graph\u001b[49m\u001b[43m,\u001b[49m\u001b[43m \u001b[49m\u001b[43mcreate_graph\u001b[49m\u001b[43m,\u001b[49m\u001b[43m \u001b[49m\u001b[43minputs\u001b[49m\u001b[43m,\u001b[49m\n\u001b[0;32m    202\u001b[0m \u001b[43m    \u001b[49m\u001b[43mallow_unreachable\u001b[49m\u001b[38;5;241;43m=\u001b[39;49m\u001b[38;5;28;43;01mTrue\u001b[39;49;00m\u001b[43m,\u001b[49m\u001b[43m \u001b[49m\u001b[43maccumulate_grad\u001b[49m\u001b[38;5;241;43m=\u001b[39;49m\u001b[38;5;28;43;01mTrue\u001b[39;49;00m\u001b[43m)\u001b[49m\n",
      "\u001b[1;31mKeyboardInterrupt\u001b[0m: "
     ]
    },
    {
     "name": "stdout",
     "output_type": "stream",
     "text": [
      "2024-06-05 10:27:04,176 - clearml.Task - ERROR - Action failed <400/110: tasks.add_or_update_artifacts/v2.10 (Invalid task status: expected=created, status=stopped)> (task=f26abc5ec1b8495284edca385627dd2d, artifacts=[{'key': 'notebook preview', 'type': 'custom', 'uri': 'https://files.clear.ml/YOLOv8/train3.f26abc5ec1b8495284edca385627dd2d/artifacts/notebook%20preview/notebook_f26abc5ec1b8495284edca385627dd2d.html', 'content_size': 867795, 'hash': 'e373aca0d4bb0e1289cfcbf0704e26d78b4c1ff7a104d268f7ca17fbd3756c86', 'timestamp': 1717542563, 'type_data': {'preview': 'Click `FILE PATH` link', 'content_type': 'text/html'}, 'display_data': [('UPDATE', '2024-06-04 23:09:17')]}, {'key': 'notebook', 'type': 'custom', 'uri': 'https://files.clear.ml/YOLOv8/train3.f26abc5ec1b8495284edca385627dd2d/artifacts/notebook/run.ipynb', 'content_size': 248130, 'hash': '697a89d989e99adf533bfe460cf646e343674a374d6fa727cd9eedcd4ea663af', 'timestamp': 1717554422, 'type_data': {'preview': 'See `notebook preview` artifact'}, 'display_data': [('UPDATE', '2024-06-05 02:26:59')]}], force=True)\n",
      "2024-06-05 10:27:11,448 - clearml.Task - ERROR - Action failed <400/110: tasks.add_or_update_artifacts/v2.10 (Invalid task status: expected=created, status=stopped)> (task=f26abc5ec1b8495284edca385627dd2d, artifacts=[{'key': 'notebook', 'type': 'custom', 'uri': 'https://files.clear.ml/YOLOv8/train3.f26abc5ec1b8495284edca385627dd2d/artifacts/notebook/run.ipynb', 'content_size': 248130, 'hash': '697a89d989e99adf533bfe460cf646e343674a374d6fa727cd9eedcd4ea663af', 'timestamp': 1717554422, 'type_data': {'preview': 'See `notebook preview` artifact'}, 'display_data': [('UPDATE', '2024-06-05 02:26:59')]}, {'key': 'notebook preview', 'type': 'custom', 'uri': 'https://files.clear.ml/YOLOv8/train3.f26abc5ec1b8495284edca385627dd2d/artifacts/notebook%20preview/notebook_f26abc5ec1b8495284edca385627dd2d.html', 'content_size': 881609, 'hash': 'db57fecb8ce2812e8c00cd892f1f2a9e2a8ce7af28382930677fa499014a3471', 'timestamp': 1717554430, 'type_data': {'preview': 'Click `FILE PATH` link', 'content_type': 'text/html'}, 'display_data': [('UPDATE', '2024-06-05 02:27:04')]}], force=True)\n"
     ]
    },
    {
     "name": "stderr",
     "output_type": "stream",
     "text": [
      "Retrying (Retry(total=237, connect=238, read=239, redirect=240, status=240)) after connection broken by 'RemoteDisconnected('Remote end closed connection without response')': /v2.23/tasks.get_all\n"
     ]
    },
    {
     "name": "stdout",
     "output_type": "stream",
     "text": [
      "2024-06-05 10:27:44,699 - clearml.Task - ERROR - Action failed <400/110: tasks.add_or_update_artifacts/v2.10 (Invalid task status: expected=created, status=stopped)> (task=f26abc5ec1b8495284edca385627dd2d, artifacts=[{'key': 'notebook preview', 'type': 'custom', 'uri': 'https://files.clear.ml/YOLOv8/train3.f26abc5ec1b8495284edca385627dd2d/artifacts/notebook%20preview/notebook_f26abc5ec1b8495284edca385627dd2d.html', 'content_size': 881609, 'hash': 'db57fecb8ce2812e8c00cd892f1f2a9e2a8ce7af28382930677fa499014a3471', 'timestamp': 1717554430, 'type_data': {'preview': 'Click `FILE PATH` link', 'content_type': 'text/html'}, 'display_data': [('UPDATE', '2024-06-05 02:27:04')]}, {'key': 'notebook', 'type': 'custom', 'uri': 'https://files.clear.ml/YOLOv8/train3.f26abc5ec1b8495284edca385627dd2d/artifacts/notebook/run.ipynb', 'content_size': 250691, 'hash': 'ff8e2a5feadcb35e96da8a0baee104e13bb71a381e6ce02292c942684a8fe218', 'timestamp': 1717554463, 'type_data': {'preview': 'See `notebook preview` artifact'}, 'display_data': [('UPDATE', '2024-06-05 02:27:41')]}], force=True)\n",
      "2024-06-05 10:27:51,845 - clearml.Task - ERROR - Action failed <400/110: tasks.add_or_update_artifacts/v2.10 (Invalid task status: expected=created, status=stopped)> (task=f26abc5ec1b8495284edca385627dd2d, artifacts=[{'key': 'notebook', 'type': 'custom', 'uri': 'https://files.clear.ml/YOLOv8/train3.f26abc5ec1b8495284edca385627dd2d/artifacts/notebook/run.ipynb', 'content_size': 250691, 'hash': 'ff8e2a5feadcb35e96da8a0baee104e13bb71a381e6ce02292c942684a8fe218', 'timestamp': 1717554463, 'type_data': {'preview': 'See `notebook preview` artifact'}, 'display_data': [('UPDATE', '2024-06-05 02:27:41')]}, {'key': 'notebook preview', 'type': 'custom', 'uri': 'https://files.clear.ml/YOLOv8/train3.f26abc5ec1b8495284edca385627dd2d/artifacts/notebook%20preview/notebook_f26abc5ec1b8495284edca385627dd2d.html', 'content_size': 884990, 'hash': 'd056f562c548dd8364c837907ce90f38350d1f33e98423a4d4dfd3c91d06c65e', 'timestamp': 1717554470, 'type_data': {'preview': 'Click `FILE PATH` link', 'content_type': 'text/html'}, 'display_data': [('UPDATE', '2024-06-05 02:27:44')]}], force=True)\n"
     ]
    },
    {
     "name": "stderr",
     "output_type": "stream",
     "text": [
      "Retrying (Retry(total=237, connect=238, read=239, redirect=240, status=240)) after connection broken by 'RemoteDisconnected('Remote end closed connection without response')': /v2.23/tasks.get_all\n"
     ]
    },
    {
     "name": "stdout",
     "output_type": "stream",
     "text": [
      "2024-06-05 10:28:01,392 - clearml.Task - WARNING - ### TASK STOPPED - USER ABORTED - STATUS CHANGED ###\n"
     ]
    },
    {
     "ename": "",
     "evalue": "",
     "output_type": "error",
     "traceback": [
      "\u001b[1;31mThe Kernel crashed while executing code in the current cell or a previous cell. \n",
      "\u001b[1;31mPlease review the code in the cell(s) to identify a possible cause of the failure. \n",
      "\u001b[1;31mClick <a href='https://aka.ms/vscodeJupyterKernelCrash'>here</a> for more info. \n",
      "\u001b[1;31mView Jupyter <a href='command:jupyter.viewOutput'>log</a> for further details."
     ]
    }
   ],
   "source": [
    "import clearml\n",
    "from ultralytics import YOLO\n",
    "import tensorboard\n",
    "clearml.browser_login()\n",
    "\n",
    "model = YOLO(\"yolov8.yaml\").load(\"yolov8n.pt\")\n",
    "model = model.train(data=r\"C:\\Users\\zanyi\\OneDrive\\Git hub\\Ai\\BAIR3\\Leukemia-Detection-1\\data.yaml\", epochs=40, imgsz=416)"
   ]
  },
  {
   "cell_type": "code",
   "execution_count": 3,
   "metadata": {},
   "outputs": [
    {
     "name": "stdout",
     "output_type": "stream",
     "text": [
      "Ultralytics YOLOv8.2.28  Python-3.10.8 torch-2.0.1+cpu CPU (AMD Ryzen 9 4900HS with Radeon Graphics)\n",
      "\u001b[34m\u001b[1mengine\\trainer: \u001b[0mtask=detect, mode=train, model=C:\\Users\\zanyi\\OneDrive\\Git hub\\Ai\\BAIR3\\runs\\detect\\train4\\weights\\last.pt, data=C:\\Users\\zanyi\\OneDrive\\Git hub\\Ai\\BAIR3\\Lung-Cancer-1\\data.yaml, epochs=40, time=None, patience=100, batch=16, imgsz=416, save=True, save_period=-1, cache=False, device=None, workers=0, project=None, name=train4, exist_ok=False, pretrained=True, optimizer=auto, verbose=True, seed=0, deterministic=True, single_cls=False, rect=False, cos_lr=False, close_mosaic=10, resume=C:\\Users\\zanyi\\OneDrive\\Git hub\\Ai\\BAIR3\\runs\\detect\\train4\\weights\\last.pt, amp=True, fraction=1.0, profile=False, freeze=None, multi_scale=False, overlap_mask=True, mask_ratio=4, dropout=0.0, val=True, split=val, save_json=False, save_hybrid=False, conf=None, iou=0.7, max_det=300, half=False, dnn=False, plots=True, source=None, vid_stride=1, stream_buffer=False, visualize=False, augment=False, agnostic_nms=False, classes=None, retina_masks=False, embed=None, show=False, save_frames=False, save_txt=False, save_conf=False, save_crop=False, show_labels=True, show_conf=True, show_boxes=True, line_width=None, format=torchscript, keras=False, optimize=False, int8=False, dynamic=False, simplify=False, opset=None, workspace=4, nms=False, lr0=0.01, lrf=0.01, momentum=0.937, weight_decay=0.0005, warmup_epochs=3.0, warmup_momentum=0.8, warmup_bias_lr=0.0, box=7.5, cls=0.5, dfl=1.5, pose=12.0, kobj=1.0, label_smoothing=0.0, nbs=64, hsv_h=0.015, hsv_s=0.7, hsv_v=0.4, degrees=0.0, translate=0.1, scale=0.5, shear=0.0, perspective=0.0, flipud=0.0, fliplr=0.5, bgr=0.0, mosaic=0.0, mixup=0.0, copy_paste=0.0, auto_augment=randaugment, erasing=0.4, crop_fraction=1.0, cfg=None, tracker=botsort.yaml, save_dir=runs\\detect\\train4\n",
      "\u001b[34m\u001b[1mTensorBoard: \u001b[0mStart with 'tensorboard --logdir runs\\detect\\train4', view at http://localhost:6006/\n",
      "WARNING  no model scale passed. Assuming scale='n'.\n",
      "\n",
      "                   from  n    params  module                                       arguments                     \n",
      "  0                  -1  1       464  ultralytics.nn.modules.conv.Conv             [3, 16, 3, 2]                 \n",
      "  1                  -1  1      4672  ultralytics.nn.modules.conv.Conv             [16, 32, 3, 2]                \n",
      "  2                  -1  1      7360  ultralytics.nn.modules.block.C2f             [32, 32, 1, True]             \n",
      "  3                  -1  1     18560  ultralytics.nn.modules.conv.Conv             [32, 64, 3, 2]                \n",
      "  4                  -1  2     49664  ultralytics.nn.modules.block.C2f             [64, 64, 2, True]             \n",
      "  5                  -1  1     73984  ultralytics.nn.modules.conv.Conv             [64, 128, 3, 2]               \n",
      "  6                  -1  2    197632  ultralytics.nn.modules.block.C2f             [128, 128, 2, True]           \n",
      "  7                  -1  1    295424  ultralytics.nn.modules.conv.Conv             [128, 256, 3, 2]              \n",
      "  8                  -1  1    460288  ultralytics.nn.modules.block.C2f             [256, 256, 1, True]           \n",
      "  9                  -1  1    164608  ultralytics.nn.modules.block.SPPF            [256, 256, 5]                 \n",
      " 10                  -1  1         0  torch.nn.modules.upsampling.Upsample         [None, 2, 'nearest']          \n",
      " 11             [-1, 6]  1         0  ultralytics.nn.modules.conv.Concat           [1]                           \n",
      " 12                  -1  1    148224  ultralytics.nn.modules.block.C2f             [384, 128, 1]                 \n",
      " 13                  -1  1         0  torch.nn.modules.upsampling.Upsample         [None, 2, 'nearest']          \n",
      " 14             [-1, 4]  1         0  ultralytics.nn.modules.conv.Concat           [1]                           \n",
      " 15                  -1  1     37248  ultralytics.nn.modules.block.C2f             [192, 64, 1]                  \n",
      " 16                  -1  1     36992  ultralytics.nn.modules.conv.Conv             [64, 64, 3, 2]                \n",
      " 17            [-1, 12]  1         0  ultralytics.nn.modules.conv.Concat           [1]                           \n",
      " 18                  -1  1    123648  ultralytics.nn.modules.block.C2f             [192, 128, 1]                 \n",
      " 19                  -1  1    147712  ultralytics.nn.modules.conv.Conv             [128, 128, 3, 2]              \n",
      " 20             [-1, 9]  1         0  ultralytics.nn.modules.conv.Concat           [1]                           \n",
      " 21                  -1  1    493056  ultralytics.nn.modules.block.C2f             [384, 256, 1]                 \n",
      " 22        [15, 18, 21]  1    752092  ultralytics.nn.modules.head.Detect           [4, [64, 128, 256]]           \n",
      "YOLOv8 summary: 225 layers, 3011628 parameters, 3011612 gradients, 8.2 GFLOPs\n",
      "\n",
      "Transferred 355/355 items from pretrained weights\n",
      "Freezing layer 'model.22.dfl.conv.weight'\n"
     ]
    },
    {
     "name": "stderr",
     "output_type": "stream",
     "text": [
      "\u001b[34m\u001b[1mtrain: \u001b[0mScanning C:\\Users\\zanyi\\OneDrive\\Git hub\\Ai\\BAIR3\\Lung-Cancer-1\\train\\labels.cache... 4335 images, 15 backgrounds, 0 corrupt: 100%|██████████| 4335/4335 [00:00<?, ?it/s]"
     ]
    },
    {
     "name": "stdout",
     "output_type": "stream",
     "text": [
      "WARNING  Box and segment counts should be equal, but got len(segments) = 3, len(boxes) = 4470. To resolve this only boxes will be used and all segments will be removed. To avoid this please supply either a detect or segment dataset, not a detect-segment mixed dataset.\n"
     ]
    },
    {
     "name": "stderr",
     "output_type": "stream",
     "text": [
      "\n",
      "\u001b[34m\u001b[1mval: \u001b[0mScanning C:\\Users\\zanyi\\OneDrive\\Git hub\\Ai\\BAIR3\\Lung-Cancer-1\\valid\\labels.cache... 182 images, 0 backgrounds, 0 corrupt: 100%|██████████| 182/182 [00:00<?, ?it/s]"
     ]
    },
    {
     "name": "stdout",
     "output_type": "stream",
     "text": [
      "Plotting labels to runs\\detect\\train4\\labels.jpg... \n"
     ]
    },
    {
     "name": "stderr",
     "output_type": "stream",
     "text": [
      "\n"
     ]
    },
    {
     "name": "stdout",
     "output_type": "stream",
     "text": [
      "\u001b[34m\u001b[1moptimizer:\u001b[0m 'optimizer=auto' found, ignoring 'lr0=0.01' and 'momentum=0.937' and determining best 'optimizer', 'lr0' and 'momentum' automatically... \n",
      "\u001b[34m\u001b[1moptimizer:\u001b[0m AdamW(lr=0.00125, momentum=0.9) with parameter groups 57 weight(decay=0.0), 64 weight(decay=0.0005), 63 bias(decay=0.0)\n",
      "Resuming training C:\\Users\\zanyi\\OneDrive\\Git hub\\Ai\\BAIR3\\runs\\detect\\train4\\weights\\last.pt from epoch 35 to 40 total epochs\n",
      "Closing dataloader mosaic\n",
      "\u001b[34m\u001b[1mTensorBoard: \u001b[0mmodel graph visualization added \n",
      "Image sizes 416 train, 416 val\n",
      "Using 0 dataloader workers\n",
      "Logging results to \u001b[1mruns\\detect\\train4\u001b[0m\n",
      "Starting training for 40 epochs...\n",
      "\n",
      "      Epoch    GPU_mem   box_loss   cls_loss   dfl_loss  Instances       Size\n"
     ]
    },
    {
     "name": "stderr",
     "output_type": "stream",
     "text": [
      "      35/40         0G    0.09748     0.4007     0.9435         16        416: 100%|██████████| 271/271 [26:30<00:00,  5.87s/it]\n",
      "                 Class     Images  Instances      Box(P          R      mAP50  mAP50-95): 100%|██████████| 6/6 [00:28<00:00,  4.69s/it]"
     ]
    },
    {
     "name": "stdout",
     "output_type": "stream",
     "text": [
      "                   all        182        186      0.869      0.835       0.92      0.866\n"
     ]
    },
    {
     "name": "stderr",
     "output_type": "stream",
     "text": [
      "\n"
     ]
    },
    {
     "name": "stdout",
     "output_type": "stream",
     "text": [
      "\n",
      "      Epoch    GPU_mem   box_loss   cls_loss   dfl_loss  Instances       Size\n"
     ]
    },
    {
     "name": "stderr",
     "output_type": "stream",
     "text": [
      "      36/40         0G    0.09707     0.3998     0.9358         17        416:  53%|█████▎    | 143/271 [13:17<10:54,  5.11s/it]Retrying (Retry(total=237, connect=239, read=238, redirect=240, status=240)) after connection broken by 'NameResolutionError(\"<urllib3.connection.HTTPSConnection object at 0x0000023B035419C0>: Failed to resolve 'api.clear.ml' ([Errno 11001] getaddrinfo failed)\")': /v2.23/events.add_batch\n",
      "      36/40         0G    0.09412     0.4009      0.937         16        416:  62%|██████▏   | 167/271 [15:22<09:14,  5.33s/it]\u001b[1;38;5;196mCOMET ERROR:\u001b[0m Heartbeat processing error\n",
      "      36/40         0G    0.09602     0.3969     0.9383         15        416: 100%|██████████| 271/271 [24:23<00:00,  5.40s/it]\n",
      "                 Class     Images  Instances      Box(P          R      mAP50  mAP50-95): 100%|██████████| 6/6 [00:25<00:00,  4.30s/it]"
     ]
    },
    {
     "name": "stdout",
     "output_type": "stream",
     "text": [
      "                   all        182        186      0.839      0.899      0.909      0.851\n"
     ]
    },
    {
     "name": "stderr",
     "output_type": "stream",
     "text": [
      "\n"
     ]
    },
    {
     "name": "stdout",
     "output_type": "stream",
     "text": [
      "\n",
      "      Epoch    GPU_mem   box_loss   cls_loss   dfl_loss  Instances       Size\n"
     ]
    },
    {
     "name": "stderr",
     "output_type": "stream",
     "text": [
      "      37/40         0G    0.09231     0.3649     0.9409         15        416: 100%|██████████| 271/271 [23:13<00:00,  5.14s/it]\n",
      "                 Class     Images  Instances      Box(P          R      mAP50  mAP50-95): 100%|██████████| 6/6 [00:25<00:00,  4.22s/it]"
     ]
    },
    {
     "name": "stdout",
     "output_type": "stream",
     "text": [
      "                   all        182        186      0.828      0.846      0.906      0.854\n"
     ]
    },
    {
     "name": "stderr",
     "output_type": "stream",
     "text": [
      "\n"
     ]
    },
    {
     "name": "stdout",
     "output_type": "stream",
     "text": [
      "\n",
      "      Epoch    GPU_mem   box_loss   cls_loss   dfl_loss  Instances       Size\n"
     ]
    },
    {
     "name": "stderr",
     "output_type": "stream",
     "text": [
      "      38/40         0G    0.09178     0.3459     0.9429         15        416: 100%|██████████| 271/271 [23:19<00:00,  5.16s/it]\n",
      "                 Class     Images  Instances      Box(P          R      mAP50  mAP50-95): 100%|██████████| 6/6 [00:25<00:00,  4.33s/it]"
     ]
    },
    {
     "name": "stdout",
     "output_type": "stream",
     "text": [
      "                   all        182        186      0.843      0.874      0.915      0.864\n"
     ]
    },
    {
     "name": "stderr",
     "output_type": "stream",
     "text": [
      "\n"
     ]
    },
    {
     "name": "stdout",
     "output_type": "stream",
     "text": [
      "\n",
      "      Epoch    GPU_mem   box_loss   cls_loss   dfl_loss  Instances       Size\n"
     ]
    },
    {
     "name": "stderr",
     "output_type": "stream",
     "text": [
      "      39/40         0G    0.08121     0.3118     0.9395         17        416:  15%|█▍        | 40/271 [03:27<19:59,  5.19s/it]Retrying (Retry(total=2, connect=3, read=5, redirect=5, status=None)) after connection broken by 'NameResolutionError(\"<urllib3.connection.HTTPSConnection object at 0x0000023B04248FD0>: Failed to resolve 'files.clear.ml' ([Errno 11001] getaddrinfo failed)\")': /\n",
      "Retrying (Retry(total=237, connect=239, read=238, redirect=240, status=240)) after connection broken by 'NewConnectionError('<urllib3.connection.HTTPSConnection object at 0x0000023B955F3A60>: Failed to establish a new connection: [WinError 10051] A socket operation was attempted to an unreachable network')': /v2.23/tasks.get_all\n",
      "      39/40         0G    0.08034     0.3159     0.9397         16        416:  15%|█▌        | 41/271 [03:32<20:19,  5.30s/it]Retrying (Retry(total=237, connect=238, read=239, redirect=240, status=240)) after connection broken by 'NameResolutionError(\"<urllib3.connection.HTTPSConnection object at 0x0000023B955F0220>: Failed to resolve 'api.clear.ml' ([Errno 11001] getaddrinfo failed)\")': /v2.23/events.add_batch\n",
      "Retrying (Retry(total=237, connect=238, read=239, redirect=240, status=240)) after connection broken by 'NameResolutionError(\"<urllib3.connection.HTTPSConnection object at 0x0000023B04249510>: Failed to resolve 'api.clear.ml' ([Errno 11001] getaddrinfo failed)\")': /v2.23/tasks.get_all\n",
      "Retrying (Retry(total=237, connect=238, read=239, redirect=240, status=240)) after connection broken by 'NameResolutionError(\"<urllib3.connection.HTTPSConnection object at 0x0000023B0424B7F0>: Failed to resolve 'api.clear.ml' ([Errno 11001] getaddrinfo failed)\")': /v2.23/events.add_batch\n",
      "Retrying (Retry(total=1, connect=2, read=5, redirect=5, status=None)) after connection broken by 'NameResolutionError(\"<urllib3.connection.HTTPSConnection object at 0x0000023B042487C0>: Failed to resolve 'files.clear.ml' ([Errno 11001] getaddrinfo failed)\")': /\n",
      "      39/40         0G    0.08014     0.3121     0.9402         16        416:  15%|█▌        | 42/271 [03:37<20:03,  5.25s/it]Retrying (Retry(total=236, connect=238, read=238, redirect=240, status=240)) after connection broken by 'NameResolutionError(\"<urllib3.connection.HTTPSConnection object at 0x0000023B042489A0>: Failed to resolve 'api.clear.ml' ([Errno 11001] getaddrinfo failed)\")': /v2.23/tasks.get_all\n",
      "Retrying (Retry(total=236, connect=237, read=239, redirect=240, status=240)) after connection broken by 'NameResolutionError(\"<urllib3.connection.HTTPSConnection object at 0x0000023B0424B490>: Failed to resolve 'api.clear.ml' ([Errno 11001] getaddrinfo failed)\")': /v2.23/tasks.get_all\n",
      "Retrying (Retry(total=236, connect=237, read=239, redirect=240, status=240)) after connection broken by 'NameResolutionError(\"<urllib3.connection.HTTPSConnection object at 0x0000023B955F3580>: Failed to resolve 'api.clear.ml' ([Errno 11001] getaddrinfo failed)\")': /v2.23/events.add_batch\n",
      "Retrying (Retry(total=236, connect=237, read=239, redirect=240, status=240)) after connection broken by 'NameResolutionError(\"<urllib3.connection.HTTPSConnection object at 0x0000023B0424BDF0>: Failed to resolve 'api.clear.ml' ([Errno 11001] getaddrinfo failed)\")': /v2.23/events.add_batch\n",
      "      39/40         0G    0.08016     0.3116      0.939         16        416:  16%|█▌        | 43/271 [03:42<19:45,  5.20s/it]Retrying (Retry(total=0, connect=1, read=5, redirect=5, status=None)) after connection broken by 'NameResolutionError(\"<urllib3.connection.HTTPSConnection object at 0x0000023B0424A440>: Failed to resolve 'files.clear.ml' ([Errno 11001] getaddrinfo failed)\")': /\n",
      "Retrying (Retry(total=2, connect=2, read=5, redirect=5, status=None)) after connection broken by 'NameResolutionError(\"<urllib3.connection.HTTPSConnection object at 0x0000023B04248AC0>: Failed to resolve 'files.clear.ml' ([Errno 11001] getaddrinfo failed)\")': /\n",
      "      39/40         0G     0.0795     0.3148     0.9389         17        416:  16%|█▌        | 44/271 [03:47<19:34,  5.18s/it]Retrying (Retry(total=1, connect=1, read=5, redirect=5, status=None)) after connection broken by 'NameResolutionError(\"<urllib3.connection.HTTPSConnection object at 0x0000023B0424A4A0>: Failed to resolve 'files.clear.ml' ([Errno 11001] getaddrinfo failed)\")': /\n",
      "      39/40         0G    0.08071     0.3165     0.9404         16        416:  17%|█▋        | 45/271 [03:53<19:27,  5.17s/it]Retrying (Retry(total=235, connect=237, read=238, redirect=240, status=240)) after connection broken by 'NameResolutionError(\"<urllib3.connection.HTTPSConnection object at 0x0000023B042495D0>: Failed to resolve 'api.clear.ml' ([Errno 11001] getaddrinfo failed)\")': /v2.23/tasks.get_all\n",
      "Retrying (Retry(total=235, connect=236, read=239, redirect=240, status=240)) after connection broken by 'NameResolutionError(\"<urllib3.connection.HTTPSConnection object at 0x0000023B0424B640>: Failed to resolve 'api.clear.ml' ([Errno 11001] getaddrinfo failed)\")': /v2.23/tasks.get_all\n",
      "Retrying (Retry(total=235, connect=236, read=239, redirect=240, status=240)) after connection broken by 'NameResolutionError(\"<urllib3.connection.HTTPSConnection object at 0x0000023B04248CA0>: Failed to resolve 'api.clear.ml' ([Errno 11001] getaddrinfo failed)\")': /v2.23/events.add_batch\n",
      "Retrying (Retry(total=235, connect=236, read=239, redirect=240, status=240)) after connection broken by 'NameResolutionError(\"<urllib3.connection.HTTPSConnection object at 0x0000023B0424A1D0>: Failed to resolve 'api.clear.ml' ([Errno 11001] getaddrinfo failed)\")': /v2.23/events.add_batch\n",
      "Retrying (Retry(total=0, connect=0, read=5, redirect=5, status=None)) after connection broken by 'NameResolutionError(\"<urllib3.connection.HTTPSConnection object at 0x0000023B956D5BA0>: Failed to resolve 'files.clear.ml' ([Errno 11001] getaddrinfo failed)\")': /\n",
      "      39/40         0G    0.08042     0.3216     0.9405         16        416:  17%|█▋        | 46/271 [03:58<19:23,  5.17s/it]Retrying (Retry(total=2, connect=2, read=5, redirect=5, status=None)) after connection broken by 'NameResolutionError(\"<urllib3.connection.HTTPSConnection object at 0x0000023B956D7340>: Failed to resolve 'files.clear.ml' ([Errno 11001] getaddrinfo failed)\")': /\n",
      "      39/40         0G    0.08132     0.3237     0.9403         17        416:  17%|█▋        | 47/271 [04:03<19:17,  5.17s/it]Retrying (Retry(total=1, connect=1, read=5, redirect=5, status=None)) after connection broken by 'NameResolutionError(\"<urllib3.connection.HTTPSConnection object at 0x0000023B956D5570>: Failed to resolve 'files.clear.ml' ([Errno 11001] getaddrinfo failed)\")': /\n",
      "      39/40         0G    0.08224     0.3257     0.9403         17        416:  18%|█▊        | 48/271 [04:08<19:09,  5.16s/it]Retrying (Retry(total=0, connect=0, read=5, redirect=5, status=None)) after connection broken by 'NameResolutionError(\"<urllib3.connection.HTTPSConnection object at 0x0000023B956D7BB0>: Failed to resolve 'files.clear.ml' ([Errno 11001] getaddrinfo failed)\")': /\n"
     ]
    },
    {
     "name": "stdout",
     "output_type": "stream",
     "text": [
      "2024-06-05 17:25:20,948 - clearml.storage - ERROR - Exception encountered while uploading HTTPSConnectionPool(host='files.clear.ml', port=443): Max retries exceeded with url: / (Caused by NameResolutionError(\"<urllib3.connection.HTTPSConnection object at 0x0000023B956D51E0>: Failed to resolve 'files.clear.ml' ([Errno 11001] getaddrinfo failed)\"))\n"
     ]
    },
    {
     "name": "stderr",
     "output_type": "stream",
     "text": [
      "      39/40         0G    0.08467     0.3331     0.9414         19        416:  19%|█▉        | 51/271 [04:23<18:45,  5.11s/it]Retrying (Retry(total=234, connect=236, read=238, redirect=240, status=240)) after connection broken by 'NameResolutionError(\"<urllib3.connection.HTTPSConnection object at 0x0000023B956D76A0>: Failed to resolve 'api.clear.ml' ([Errno 11001] getaddrinfo failed)\")': /v2.23/tasks.get_all\n",
      "      39/40         0G    0.08523     0.3324     0.9416         16        416:  19%|█▉        | 52/271 [04:28<18:42,  5.13s/it]Retrying (Retry(total=234, connect=235, read=239, redirect=240, status=240)) after connection broken by 'NameResolutionError(\"<urllib3.connection.HTTPSConnection object at 0x0000023B956D4C40>: Failed to resolve 'api.clear.ml' ([Errno 11001] getaddrinfo failed)\")': /v2.23/events.add_batch\n",
      "Retrying (Retry(total=234, connect=235, read=239, redirect=240, status=240)) after connection broken by 'NameResolutionError(\"<urllib3.connection.HTTPSConnection object at 0x0000023B956D5CF0>: Failed to resolve 'api.clear.ml' ([Errno 11001] getaddrinfo failed)\")': /v2.23/tasks.get_all\n",
      "Retrying (Retry(total=234, connect=235, read=239, redirect=240, status=240)) after connection broken by 'NameResolutionError(\"<urllib3.connection.HTTPSConnection object at 0x0000023B956D6200>: Failed to resolve 'api.clear.ml' ([Errno 11001] getaddrinfo failed)\")': /v2.23/events.add_batch\n",
      "      39/40         0G    0.09031     0.3335     0.9456         17        416:  20%|██        | 55/271 [04:44<18:27,  5.13s/it]Retrying (Retry(total=2, connect=2, read=5, redirect=5, status=None)) after connection broken by 'NameResolutionError(\"<urllib3.connection.HTTPSConnection object at 0x0000023B042481C0>: Failed to resolve 'files.clear.ml' ([Errno 11001] getaddrinfo failed)\")': /\n",
      "      39/40         0G    0.09001     0.3347     0.9442         16        416:  21%|██        | 56/271 [04:49<18:17,  5.10s/it]Retrying (Retry(total=1, connect=1, read=5, redirect=5, status=None)) after connection broken by 'NameResolutionError(\"<urllib3.connection.HTTPSConnection object at 0x0000023B0424B850>: Failed to resolve 'files.clear.ml' ([Errno 11001] getaddrinfo failed)\")': /\n",
      "      39/40         0G    0.09131     0.3374     0.9457         18        416:  21%|██        | 57/271 [04:54<18:19,  5.14s/it]Retrying (Retry(total=0, connect=0, read=5, redirect=5, status=None)) after connection broken by 'NameResolutionError(\"<urllib3.connection.HTTPSConnection object at 0x0000023B0424B4F0>: Failed to resolve 'files.clear.ml' ([Errno 11001] getaddrinfo failed)\")': /\n",
      "      39/40         0G    0.09123     0.3341      0.945         17        416:  24%|██▎       | 64/271 [05:31<17:58,  5.21s/it]Retrying (Retry(total=233, connect=235, read=238, redirect=240, status=240)) after connection broken by 'NameResolutionError(\"<urllib3.connection.HTTPSConnection object at 0x0000023B956D5F90>: Failed to resolve 'api.clear.ml' ([Errno 11001] getaddrinfo failed)\")': /v2.23/tasks.get_all\n",
      "Retrying (Retry(total=233, connect=234, read=239, redirect=240, status=240)) after connection broken by 'NameResolutionError(\"<urllib3.connection.HTTPSConnection object at 0x0000023B956D7B20>: Failed to resolve 'api.clear.ml' ([Errno 11001] getaddrinfo failed)\")': /v2.23/events.add_batch\n",
      "Retrying (Retry(total=233, connect=234, read=239, redirect=240, status=240)) after connection broken by 'NameResolutionError(\"<urllib3.connection.HTTPSConnection object at 0x0000023B956D6890>: Failed to resolve 'api.clear.ml' ([Errno 11001] getaddrinfo failed)\")': /v2.23/tasks.get_all\n",
      "Retrying (Retry(total=233, connect=234, read=239, redirect=240, status=240)) after connection broken by 'NameResolutionError(\"<urllib3.connection.HTTPSConnection object at 0x0000023B956D6980>: Failed to resolve 'api.clear.ml' ([Errno 11001] getaddrinfo failed)\")': /v2.23/events.add_batch\n",
      "      39/40         0G    0.08855     0.3373     0.9413         16        416:  38%|███▊      | 104/271 [08:57<14:25,  5.18s/it]Retrying (Retry(total=237, connect=237, read=240, redirect=240, status=240)) after connection broken by 'NameResolutionError(\"<urllib3.connection.HTTPSConnection object at 0x0000023B03EA9E40>: Failed to resolve 'api.clear.ml' ([Errno 11001] getaddrinfo failed)\")': /v2.23/tasks.get_all\n",
      "      39/40         0G    0.08798     0.3274     0.9399         15        416: 100%|██████████| 271/271 [23:45<00:00,  5.26s/it]\n",
      "                 Class     Images  Instances      Box(P          R      mAP50  mAP50-95): 100%|██████████| 6/6 [00:26<00:00,  4.43s/it]"
     ]
    },
    {
     "name": "stdout",
     "output_type": "stream",
     "text": [
      "                   all        182        186      0.903      0.859      0.923       0.87\n"
     ]
    },
    {
     "name": "stderr",
     "output_type": "stream",
     "text": [
      "\n"
     ]
    },
    {
     "name": "stdout",
     "output_type": "stream",
     "text": [
      "\n",
      "      Epoch    GPU_mem   box_loss   cls_loss   dfl_loss  Instances       Size\n"
     ]
    },
    {
     "name": "stderr",
     "output_type": "stream",
     "text": [
      "      40/40         0G    0.08701     0.3274     0.9357         16        416: 100%|██████████| 271/271 [24:00<00:00,  5.31s/it]\n",
      "                 Class     Images  Instances      Box(P          R      mAP50  mAP50-95): 100%|██████████| 6/6 [00:26<00:00,  4.42s/it]"
     ]
    },
    {
     "name": "stdout",
     "output_type": "stream",
     "text": [
      "                   all        182        186       0.89      0.836      0.912      0.866\n"
     ]
    },
    {
     "name": "stderr",
     "output_type": "stream",
     "text": [
      "\n"
     ]
    },
    {
     "name": "stdout",
     "output_type": "stream",
     "text": [
      "\n",
      "6 epochs completed in 2.466 hours.\n",
      "Optimizer stripped from runs\\detect\\train4\\weights\\last.pt, 6.2MB\n",
      "Optimizer stripped from runs\\detect\\train4\\weights\\best.pt, 6.2MB\n",
      "\n",
      "Validating runs\\detect\\train4\\weights\\best.pt...\n",
      "Ultralytics YOLOv8.2.28  Python-3.10.8 torch-2.0.1+cpu CPU (AMD Ryzen 9 4900HS with Radeon Graphics)\n",
      "YOLOv8 summary (fused): 168 layers, 3006428 parameters, 0 gradients, 8.1 GFLOPs\n"
     ]
    },
    {
     "name": "stderr",
     "output_type": "stream",
     "text": [
      "                 Class     Images  Instances      Box(P          R      mAP50  mAP50-95): 100%|██████████| 6/6 [00:23<00:00,  3.87s/it]\n"
     ]
    },
    {
     "name": "stdout",
     "output_type": "stream",
     "text": [
      "                   all        182        186      0.902      0.859      0.923       0.87\n",
      "                Normal         14         17      0.845      0.641      0.801       0.65\n",
      "               Stage I         72         73      0.827      0.918      0.934      0.891\n",
      "              Stage II         73         73      0.935       0.89      0.961      0.956\n",
      "             Stage III         23         23          1      0.987      0.995      0.985\n",
      "Speed: 1.1ms preprocess, 120.9ms inference, 0.0ms loss, 0.4ms postprocess per image\n",
      "Results saved to \u001b[1mruns\\detect\\train4\u001b[0m\n",
      "2024-06-05 18:10:33,384 - clearml.storage - INFO - Starting upload: runs\\detect\\train4\\weights\\best.pt => https://files.clear.ml/YOLOv8/train4.f842c80da5764f01ab4d57f83f28468a/models/best.pt\n"
     ]
    },
    {
     "name": "stderr",
     "output_type": "stream",
     "text": [
      "\u001b[1;38;5;39mCOMET INFO:\u001b[0m ---------------------------------------------------------------------------------------\n",
      "\u001b[1;38;5;39mCOMET INFO:\u001b[0m Comet.ml Experiment Summary\n",
      "\u001b[1;38;5;39mCOMET INFO:\u001b[0m ---------------------------------------------------------------------------------------\n",
      "\u001b[1;38;5;39mCOMET INFO:\u001b[0m   Data:\n",
      "\u001b[1;38;5;39mCOMET INFO:\u001b[0m     display_summary_level : 1\n",
      "\u001b[1;38;5;39mCOMET INFO:\u001b[0m     url                   : https://www.comet.com/hazywho/general/0d7e7085572743f2a61931bdecc335b7\n",
      "\u001b[1;38;5;39mCOMET INFO:\u001b[0m   Metrics [count] (min, max):\n",
      "\u001b[1;38;5;39mCOMET INFO:\u001b[0m     lr/pg0 [13]               : (4.343750000000003e-05, 0.00019812500000000003)\n",
      "\u001b[1;38;5;39mCOMET INFO:\u001b[0m     lr/pg1 [13]               : (4.343750000000003e-05, 0.00019812500000000003)\n",
      "\u001b[1;38;5;39mCOMET INFO:\u001b[0m     lr/pg2 [13]               : (4.343750000000003e-05, 0.00019812500000000003)\n",
      "\u001b[1;38;5;39mCOMET INFO:\u001b[0m     metrics/mAP50(B) [14]     : (0.90616, 0.92283)\n",
      "\u001b[1;38;5;39mCOMET INFO:\u001b[0m     metrics/mAP50-95(B) [14]  : (0.85076, 0.8705)\n",
      "\u001b[1;38;5;39mCOMET INFO:\u001b[0m     metrics/precision(B) [14] : (0.82815, 0.90255)\n",
      "\u001b[1;38;5;39mCOMET INFO:\u001b[0m     metrics/recall(B) [14]    : (0.83476, 0.89886)\n",
      "\u001b[1;38;5;39mCOMET INFO:\u001b[0m     train/box_loss [12]       : (0.08701, 0.09748)\n",
      "\u001b[1;38;5;39mCOMET INFO:\u001b[0m     train/cls_loss [12]       : (0.32735, 0.40066)\n",
      "\u001b[1;38;5;39mCOMET INFO:\u001b[0m     train/dfl_loss [12]       : (0.93572, 0.94354)\n",
      "\u001b[1;38;5;39mCOMET INFO:\u001b[0m     val/box_loss [12]         : (0.26692, 0.33008)\n",
      "\u001b[1;38;5;39mCOMET INFO:\u001b[0m     val/cls_loss [12]         : (0.52737, 0.64392)\n",
      "\u001b[1;38;5;39mCOMET INFO:\u001b[0m     val/dfl_loss [12]         : (0.25946, 0.31223)\n",
      "\u001b[1;38;5;39mCOMET INFO:\u001b[0m   Others:\n",
      "\u001b[1;38;5;39mCOMET INFO:\u001b[0m     eval_batch_logging_interval  : 1\n",
      "\u001b[1;38;5;39mCOMET INFO:\u001b[0m     log_confusion_matrix_on_eval : False\n",
      "\u001b[1;38;5;39mCOMET INFO:\u001b[0m     log_image_predictions        : True\n",
      "\u001b[1;38;5;39mCOMET INFO:\u001b[0m     max_image_predictions        : 100\n",
      "\u001b[1;38;5;39mCOMET INFO:\u001b[0m   Parameters:\n",
      "\u001b[1;38;5;39mCOMET INFO:\u001b[0m     agnostic_nms    : False\n",
      "\u001b[1;38;5;39mCOMET INFO:\u001b[0m     amp             : True\n",
      "\u001b[1;38;5;39mCOMET INFO:\u001b[0m     augment         : False\n",
      "\u001b[1;38;5;39mCOMET INFO:\u001b[0m     auto_augment    : randaugment\n",
      "\u001b[1;38;5;39mCOMET INFO:\u001b[0m     batch           : 16\n",
      "\u001b[1;38;5;39mCOMET INFO:\u001b[0m     bgr             : 0.0\n",
      "\u001b[1;38;5;39mCOMET INFO:\u001b[0m     box             : 7.5\n",
      "\u001b[1;38;5;39mCOMET INFO:\u001b[0m     cache           : False\n",
      "\u001b[1;38;5;39mCOMET INFO:\u001b[0m     cfg             : 1\n",
      "\u001b[1;38;5;39mCOMET INFO:\u001b[0m     classes         : 1\n",
      "\u001b[1;38;5;39mCOMET INFO:\u001b[0m     close_mosaic    : 10\n",
      "\u001b[1;38;5;39mCOMET INFO:\u001b[0m     cls             : 0.5\n",
      "\u001b[1;38;5;39mCOMET INFO:\u001b[0m     conf            : 1\n",
      "\u001b[1;38;5;39mCOMET INFO:\u001b[0m     copy_paste      : 0.0\n",
      "\u001b[1;38;5;39mCOMET INFO:\u001b[0m     cos_lr          : False\n",
      "\u001b[1;38;5;39mCOMET INFO:\u001b[0m     crop_fraction   : 1.0\n",
      "\u001b[1;38;5;39mCOMET INFO:\u001b[0m     data            : C:\\Users\\zanyi\\OneDrive\\Git hub\\Ai\\BAIR3\\Lung-Cancer-1\\data.yaml\n",
      "\u001b[1;38;5;39mCOMET INFO:\u001b[0m     degrees         : 0.0\n",
      "\u001b[1;38;5;39mCOMET INFO:\u001b[0m     deterministic   : True\n",
      "\u001b[1;38;5;39mCOMET INFO:\u001b[0m     device          : 1\n",
      "\u001b[1;38;5;39mCOMET INFO:\u001b[0m     dfl             : 1.5\n",
      "\u001b[1;38;5;39mCOMET INFO:\u001b[0m     dnn             : False\n",
      "\u001b[1;38;5;39mCOMET INFO:\u001b[0m     dropout         : 0.0\n",
      "\u001b[1;38;5;39mCOMET INFO:\u001b[0m     dynamic         : False\n",
      "\u001b[1;38;5;39mCOMET INFO:\u001b[0m     embed           : 1\n",
      "\u001b[1;38;5;39mCOMET INFO:\u001b[0m     epochs          : 40\n",
      "\u001b[1;38;5;39mCOMET INFO:\u001b[0m     erasing         : 0.4\n",
      "\u001b[1;38;5;39mCOMET INFO:\u001b[0m     exist_ok        : False\n",
      "\u001b[1;38;5;39mCOMET INFO:\u001b[0m     fliplr          : 0.5\n",
      "\u001b[1;38;5;39mCOMET INFO:\u001b[0m     flipud          : 0.0\n",
      "\u001b[1;38;5;39mCOMET INFO:\u001b[0m     format          : torchscript\n",
      "\u001b[1;38;5;39mCOMET INFO:\u001b[0m     fraction        : 1.0\n",
      "\u001b[1;38;5;39mCOMET INFO:\u001b[0m     freeze          : 1\n",
      "\u001b[1;38;5;39mCOMET INFO:\u001b[0m     half            : False\n",
      "\u001b[1;38;5;39mCOMET INFO:\u001b[0m     hsv_h           : 0.015\n",
      "\u001b[1;38;5;39mCOMET INFO:\u001b[0m     hsv_s           : 0.7\n",
      "\u001b[1;38;5;39mCOMET INFO:\u001b[0m     hsv_v           : 0.4\n",
      "\u001b[1;38;5;39mCOMET INFO:\u001b[0m     imgsz           : 416\n",
      "\u001b[1;38;5;39mCOMET INFO:\u001b[0m     int8            : False\n",
      "\u001b[1;38;5;39mCOMET INFO:\u001b[0m     iou             : 0.7\n",
      "\u001b[1;38;5;39mCOMET INFO:\u001b[0m     keras           : False\n",
      "\u001b[1;38;5;39mCOMET INFO:\u001b[0m     kobj            : 1.0\n",
      "\u001b[1;38;5;39mCOMET INFO:\u001b[0m     label_smoothing : 0.0\n",
      "\u001b[1;38;5;39mCOMET INFO:\u001b[0m     line_width      : 1\n",
      "\u001b[1;38;5;39mCOMET INFO:\u001b[0m     lr0             : 0.01\n",
      "\u001b[1;38;5;39mCOMET INFO:\u001b[0m     lrf             : 0.01\n",
      "\u001b[1;38;5;39mCOMET INFO:\u001b[0m     mask_ratio      : 4\n",
      "\u001b[1;38;5;39mCOMET INFO:\u001b[0m     max_det         : 300\n",
      "\u001b[1;38;5;39mCOMET INFO:\u001b[0m     mixup           : 0.0\n",
      "\u001b[1;38;5;39mCOMET INFO:\u001b[0m     mode            : train\n",
      "\u001b[1;38;5;39mCOMET INFO:\u001b[0m     model           : C:\\Users\\zanyi\\OneDrive\\Git hub\\Ai\\BAIR3\\runs\\detect\\train4\\weights\\last.pt\n",
      "\u001b[1;38;5;39mCOMET INFO:\u001b[0m     momentum        : 0.937\n",
      "\u001b[1;38;5;39mCOMET INFO:\u001b[0m     mosaic          : 0.0\n",
      "\u001b[1;38;5;39mCOMET INFO:\u001b[0m     multi_scale     : False\n",
      "\u001b[1;38;5;39mCOMET INFO:\u001b[0m     name            : train4\n",
      "\u001b[1;38;5;39mCOMET INFO:\u001b[0m     nbs             : 64\n",
      "\u001b[1;38;5;39mCOMET INFO:\u001b[0m     nms             : False\n",
      "\u001b[1;38;5;39mCOMET INFO:\u001b[0m     opset           : 1\n",
      "\u001b[1;38;5;39mCOMET INFO:\u001b[0m     optimize        : False\n",
      "\u001b[1;38;5;39mCOMET INFO:\u001b[0m     optimizer       : auto\n",
      "\u001b[1;38;5;39mCOMET INFO:\u001b[0m     overlap_mask    : True\n",
      "\u001b[1;38;5;39mCOMET INFO:\u001b[0m     patience        : 100\n",
      "\u001b[1;38;5;39mCOMET INFO:\u001b[0m     perspective     : 0.0\n",
      "\u001b[1;38;5;39mCOMET INFO:\u001b[0m     plots           : True\n",
      "\u001b[1;38;5;39mCOMET INFO:\u001b[0m     pose            : 12.0\n",
      "\u001b[1;38;5;39mCOMET INFO:\u001b[0m     pretrained      : True\n",
      "\u001b[1;38;5;39mCOMET INFO:\u001b[0m     profile         : False\n",
      "\u001b[1;38;5;39mCOMET INFO:\u001b[0m     project         : 1\n",
      "\u001b[1;38;5;39mCOMET INFO:\u001b[0m     rect            : False\n",
      "\u001b[1;38;5;39mCOMET INFO:\u001b[0m     resume          : C:\\Users\\zanyi\\OneDrive\\Git hub\\Ai\\BAIR3\\runs\\detect\\train4\\weights\\last.pt\n",
      "\u001b[1;38;5;39mCOMET INFO:\u001b[0m     retina_masks    : False\n",
      "\u001b[1;38;5;39mCOMET INFO:\u001b[0m     save            : True\n",
      "\u001b[1;38;5;39mCOMET INFO:\u001b[0m     save_conf       : False\n",
      "\u001b[1;38;5;39mCOMET INFO:\u001b[0m     save_crop       : False\n",
      "\u001b[1;38;5;39mCOMET INFO:\u001b[0m     save_dir        : runs\\detect\\train4\n",
      "\u001b[1;38;5;39mCOMET INFO:\u001b[0m     save_frames     : False\n",
      "\u001b[1;38;5;39mCOMET INFO:\u001b[0m     save_hybrid     : False\n",
      "\u001b[1;38;5;39mCOMET INFO:\u001b[0m     save_json       : False\n",
      "\u001b[1;38;5;39mCOMET INFO:\u001b[0m     save_period     : -1\n",
      "\u001b[1;38;5;39mCOMET INFO:\u001b[0m     save_txt        : False\n",
      "\u001b[1;38;5;39mCOMET INFO:\u001b[0m     scale           : 0.5\n",
      "\u001b[1;38;5;39mCOMET INFO:\u001b[0m     seed            : 0\n",
      "\u001b[1;38;5;39mCOMET INFO:\u001b[0m     shear           : 0.0\n",
      "\u001b[1;38;5;39mCOMET INFO:\u001b[0m     show            : False\n",
      "\u001b[1;38;5;39mCOMET INFO:\u001b[0m     show_boxes      : True\n",
      "\u001b[1;38;5;39mCOMET INFO:\u001b[0m     show_conf       : True\n",
      "\u001b[1;38;5;39mCOMET INFO:\u001b[0m     show_labels     : True\n",
      "\u001b[1;38;5;39mCOMET INFO:\u001b[0m     simplify        : False\n",
      "\u001b[1;38;5;39mCOMET INFO:\u001b[0m     single_cls      : False\n",
      "\u001b[1;38;5;39mCOMET INFO:\u001b[0m     source          : 1\n",
      "\u001b[1;38;5;39mCOMET INFO:\u001b[0m     split           : val\n",
      "\u001b[1;38;5;39mCOMET INFO:\u001b[0m     stream_buffer   : False\n",
      "\u001b[1;38;5;39mCOMET INFO:\u001b[0m     task            : detect\n",
      "\u001b[1;38;5;39mCOMET INFO:\u001b[0m     time            : 1\n",
      "\u001b[1;38;5;39mCOMET INFO:\u001b[0m     tracker         : botsort.yaml\n",
      "\u001b[1;38;5;39mCOMET INFO:\u001b[0m     translate       : 0.1\n",
      "\u001b[1;38;5;39mCOMET INFO:\u001b[0m     val             : True\n",
      "\u001b[1;38;5;39mCOMET INFO:\u001b[0m     verbose         : True\n",
      "\u001b[1;38;5;39mCOMET INFO:\u001b[0m     vid_stride      : 1\n",
      "\u001b[1;38;5;39mCOMET INFO:\u001b[0m     visualize       : False\n",
      "\u001b[1;38;5;39mCOMET INFO:\u001b[0m     warmup_bias_lr  : 0.0\n",
      "\u001b[1;38;5;39mCOMET INFO:\u001b[0m     warmup_epochs   : 3.0\n",
      "\u001b[1;38;5;39mCOMET INFO:\u001b[0m     warmup_momentum : 0.8\n",
      "\u001b[1;38;5;39mCOMET INFO:\u001b[0m     weight_decay    : 0.0005\n",
      "\u001b[1;38;5;39mCOMET INFO:\u001b[0m     workers         : 0\n",
      "\u001b[1;38;5;39mCOMET INFO:\u001b[0m     workspace       : 4\n",
      "\u001b[1;38;5;39mCOMET INFO:\u001b[0m   Uploads:\n",
      "\u001b[1;38;5;39mCOMET INFO:\u001b[0m     confusion-matrix         : 1\n",
      "\u001b[1;38;5;39mCOMET INFO:\u001b[0m     environment details      : 1\n",
      "\u001b[1;38;5;39mCOMET INFO:\u001b[0m     filename                 : 1\n",
      "\u001b[1;38;5;39mCOMET INFO:\u001b[0m     git metadata             : 1\n",
      "\u001b[1;38;5;39mCOMET INFO:\u001b[0m     git-patch (uncompressed) : 1 (18.01 KB)\n",
      "\u001b[1;38;5;39mCOMET INFO:\u001b[0m     images                   : 7\n",
      "\u001b[1;38;5;39mCOMET INFO:\u001b[0m     installed packages       : 1\n",
      "\u001b[1;38;5;39mCOMET INFO:\u001b[0m     model-element            : 1 (5.93 MB)\n",
      "\u001b[1;38;5;39mCOMET INFO:\u001b[0m     notebook                 : 1\n",
      "\u001b[1;38;5;39mCOMET INFO:\u001b[0m     source_code              : 1\n",
      "\u001b[1;38;5;39mCOMET INFO:\u001b[0m \n",
      "\u001b[1;38;5;214mCOMET WARNING:\u001b[0m To get all data logged automatically, import comet_ml before the following modules: torch.\n",
      "\u001b[1;38;5;39mCOMET INFO:\u001b[0m Using 'c:\\\\Users\\\\zanyi\\\\OneDrive\\\\Git hub\\\\Ai\\\\BAIR3\\\\.cometml-runs' path as offline directory. Pass 'offline_directory' parameter into constructor or set the 'COMET_OFFLINE_DIRECTORY' environment variable to manually choose where to store offline experiment archives.\n",
      "\u001b[1;38;5;214mCOMET WARNING:\u001b[0m Could not send live data to Comet during experiment runtime. An offline experiment will be available for upload:\n",
      "    comet upload --force-reupload c:\\Users\\zanyi\\OneDrive\\Git hub\\Ai\\BAIR3\\.cometml-runs\\0d7e7085572743f2a61931bdecc335b7-YjyEWS.zip\n"
     ]
    },
    {
     "data": {
      "text/plain": [
       "ultralytics.utils.metrics.DetMetrics object with attributes:\n",
       "\n",
       "ap_class_index: array([0, 1, 2, 3])\n",
       "box: ultralytics.utils.metrics.Metric object\n",
       "confusion_matrix: <ultralytics.utils.metrics.ConfusionMatrix object at 0x0000023B469ADF60>\n",
       "curves: ['Precision-Recall(B)', 'F1-Confidence(B)', 'Precision-Confidence(B)', 'Recall-Confidence(B)']\n",
       "curves_results: [[array([          0,    0.001001,    0.002002,    0.003003,    0.004004,    0.005005,    0.006006,    0.007007,    0.008008,    0.009009,     0.01001,    0.011011,    0.012012,    0.013013,    0.014014,    0.015015,    0.016016,    0.017017,    0.018018,    0.019019,     0.02002,    0.021021,    0.022022,    0.023023,\n",
       "          0.024024,    0.025025,    0.026026,    0.027027,    0.028028,    0.029029,     0.03003,    0.031031,    0.032032,    0.033033,    0.034034,    0.035035,    0.036036,    0.037037,    0.038038,    0.039039,     0.04004,    0.041041,    0.042042,    0.043043,    0.044044,    0.045045,    0.046046,    0.047047,\n",
       "          0.048048,    0.049049,     0.05005,    0.051051,    0.052052,    0.053053,    0.054054,    0.055055,    0.056056,    0.057057,    0.058058,    0.059059,     0.06006,    0.061061,    0.062062,    0.063063,    0.064064,    0.065065,    0.066066,    0.067067,    0.068068,    0.069069,     0.07007,    0.071071,\n",
       "          0.072072,    0.073073,    0.074074,    0.075075,    0.076076,    0.077077,    0.078078,    0.079079,     0.08008,    0.081081,    0.082082,    0.083083,    0.084084,    0.085085,    0.086086,    0.087087,    0.088088,    0.089089,     0.09009,    0.091091,    0.092092,    0.093093,    0.094094,    0.095095,\n",
       "          0.096096,    0.097097,    0.098098,    0.099099,      0.1001,      0.1011,      0.1021,      0.1031,      0.1041,     0.10511,     0.10611,     0.10711,     0.10811,     0.10911,     0.11011,     0.11111,     0.11211,     0.11311,     0.11411,     0.11512,     0.11612,     0.11712,     0.11812,     0.11912,\n",
       "           0.12012,     0.12112,     0.12212,     0.12312,     0.12412,     0.12513,     0.12613,     0.12713,     0.12813,     0.12913,     0.13013,     0.13113,     0.13213,     0.13313,     0.13413,     0.13514,     0.13614,     0.13714,     0.13814,     0.13914,     0.14014,     0.14114,     0.14214,     0.14314,\n",
       "           0.14414,     0.14515,     0.14615,     0.14715,     0.14815,     0.14915,     0.15015,     0.15115,     0.15215,     0.15315,     0.15415,     0.15516,     0.15616,     0.15716,     0.15816,     0.15916,     0.16016,     0.16116,     0.16216,     0.16316,     0.16416,     0.16517,     0.16617,     0.16717,\n",
       "           0.16817,     0.16917,     0.17017,     0.17117,     0.17217,     0.17317,     0.17417,     0.17518,     0.17618,     0.17718,     0.17818,     0.17918,     0.18018,     0.18118,     0.18218,     0.18318,     0.18418,     0.18519,     0.18619,     0.18719,     0.18819,     0.18919,     0.19019,     0.19119,\n",
       "           0.19219,     0.19319,     0.19419,      0.1952,      0.1962,      0.1972,      0.1982,      0.1992,      0.2002,      0.2012,      0.2022,      0.2032,      0.2042,     0.20521,     0.20621,     0.20721,     0.20821,     0.20921,     0.21021,     0.21121,     0.21221,     0.21321,     0.21421,     0.21522,\n",
       "           0.21622,     0.21722,     0.21822,     0.21922,     0.22022,     0.22122,     0.22222,     0.22322,     0.22422,     0.22523,     0.22623,     0.22723,     0.22823,     0.22923,     0.23023,     0.23123,     0.23223,     0.23323,     0.23423,     0.23524,     0.23624,     0.23724,     0.23824,     0.23924,\n",
       "           0.24024,     0.24124,     0.24224,     0.24324,     0.24424,     0.24525,     0.24625,     0.24725,     0.24825,     0.24925,     0.25025,     0.25125,     0.25225,     0.25325,     0.25425,     0.25526,     0.25626,     0.25726,     0.25826,     0.25926,     0.26026,     0.26126,     0.26226,     0.26326,\n",
       "           0.26426,     0.26527,     0.26627,     0.26727,     0.26827,     0.26927,     0.27027,     0.27127,     0.27227,     0.27327,     0.27427,     0.27528,     0.27628,     0.27728,     0.27828,     0.27928,     0.28028,     0.28128,     0.28228,     0.28328,     0.28428,     0.28529,     0.28629,     0.28729,\n",
       "           0.28829,     0.28929,     0.29029,     0.29129,     0.29229,     0.29329,     0.29429,      0.2953,      0.2963,      0.2973,      0.2983,      0.2993,      0.3003,      0.3013,      0.3023,      0.3033,      0.3043,     0.30531,     0.30631,     0.30731,     0.30831,     0.30931,     0.31031,     0.31131,\n",
       "           0.31231,     0.31331,     0.31431,     0.31532,     0.31632,     0.31732,     0.31832,     0.31932,     0.32032,     0.32132,     0.32232,     0.32332,     0.32432,     0.32533,     0.32633,     0.32733,     0.32833,     0.32933,     0.33033,     0.33133,     0.33233,     0.33333,     0.33433,     0.33534,\n",
       "           0.33634,     0.33734,     0.33834,     0.33934,     0.34034,     0.34134,     0.34234,     0.34334,     0.34434,     0.34535,     0.34635,     0.34735,     0.34835,     0.34935,     0.35035,     0.35135,     0.35235,     0.35335,     0.35435,     0.35536,     0.35636,     0.35736,     0.35836,     0.35936,\n",
       "           0.36036,     0.36136,     0.36236,     0.36336,     0.36436,     0.36537,     0.36637,     0.36737,     0.36837,     0.36937,     0.37037,     0.37137,     0.37237,     0.37337,     0.37437,     0.37538,     0.37638,     0.37738,     0.37838,     0.37938,     0.38038,     0.38138,     0.38238,     0.38338,\n",
       "           0.38438,     0.38539,     0.38639,     0.38739,     0.38839,     0.38939,     0.39039,     0.39139,     0.39239,     0.39339,     0.39439,      0.3954,      0.3964,      0.3974,      0.3984,      0.3994,      0.4004,      0.4014,      0.4024,      0.4034,      0.4044,     0.40541,     0.40641,     0.40741,\n",
       "           0.40841,     0.40941,     0.41041,     0.41141,     0.41241,     0.41341,     0.41441,     0.41542,     0.41642,     0.41742,     0.41842,     0.41942,     0.42042,     0.42142,     0.42242,     0.42342,     0.42442,     0.42543,     0.42643,     0.42743,     0.42843,     0.42943,     0.43043,     0.43143,\n",
       "           0.43243,     0.43343,     0.43443,     0.43544,     0.43644,     0.43744,     0.43844,     0.43944,     0.44044,     0.44144,     0.44244,     0.44344,     0.44444,     0.44545,     0.44645,     0.44745,     0.44845,     0.44945,     0.45045,     0.45145,     0.45245,     0.45345,     0.45445,     0.45546,\n",
       "           0.45646,     0.45746,     0.45846,     0.45946,     0.46046,     0.46146,     0.46246,     0.46346,     0.46446,     0.46547,     0.46647,     0.46747,     0.46847,     0.46947,     0.47047,     0.47147,     0.47247,     0.47347,     0.47447,     0.47548,     0.47648,     0.47748,     0.47848,     0.47948,\n",
       "           0.48048,     0.48148,     0.48248,     0.48348,     0.48448,     0.48549,     0.48649,     0.48749,     0.48849,     0.48949,     0.49049,     0.49149,     0.49249,     0.49349,     0.49449,      0.4955,      0.4965,      0.4975,      0.4985,      0.4995,      0.5005,      0.5015,      0.5025,      0.5035,\n",
       "            0.5045,     0.50551,     0.50651,     0.50751,     0.50851,     0.50951,     0.51051,     0.51151,     0.51251,     0.51351,     0.51451,     0.51552,     0.51652,     0.51752,     0.51852,     0.51952,     0.52052,     0.52152,     0.52252,     0.52352,     0.52452,     0.52553,     0.52653,     0.52753,\n",
       "           0.52853,     0.52953,     0.53053,     0.53153,     0.53253,     0.53353,     0.53453,     0.53554,     0.53654,     0.53754,     0.53854,     0.53954,     0.54054,     0.54154,     0.54254,     0.54354,     0.54454,     0.54555,     0.54655,     0.54755,     0.54855,     0.54955,     0.55055,     0.55155,\n",
       "           0.55255,     0.55355,     0.55455,     0.55556,     0.55656,     0.55756,     0.55856,     0.55956,     0.56056,     0.56156,     0.56256,     0.56356,     0.56456,     0.56557,     0.56657,     0.56757,     0.56857,     0.56957,     0.57057,     0.57157,     0.57257,     0.57357,     0.57457,     0.57558,\n",
       "           0.57658,     0.57758,     0.57858,     0.57958,     0.58058,     0.58158,     0.58258,     0.58358,     0.58458,     0.58559,     0.58659,     0.58759,     0.58859,     0.58959,     0.59059,     0.59159,     0.59259,     0.59359,     0.59459,      0.5956,      0.5966,      0.5976,      0.5986,      0.5996,\n",
       "            0.6006,      0.6016,      0.6026,      0.6036,      0.6046,     0.60561,     0.60661,     0.60761,     0.60861,     0.60961,     0.61061,     0.61161,     0.61261,     0.61361,     0.61461,     0.61562,     0.61662,     0.61762,     0.61862,     0.61962,     0.62062,     0.62162,     0.62262,     0.62362,\n",
       "           0.62462,     0.62563,     0.62663,     0.62763,     0.62863,     0.62963,     0.63063,     0.63163,     0.63263,     0.63363,     0.63463,     0.63564,     0.63664,     0.63764,     0.63864,     0.63964,     0.64064,     0.64164,     0.64264,     0.64364,     0.64464,     0.64565,     0.64665,     0.64765,\n",
       "           0.64865,     0.64965,     0.65065,     0.65165,     0.65265,     0.65365,     0.65465,     0.65566,     0.65666,     0.65766,     0.65866,     0.65966,     0.66066,     0.66166,     0.66266,     0.66366,     0.66466,     0.66567,     0.66667,     0.66767,     0.66867,     0.66967,     0.67067,     0.67167,\n",
       "           0.67267,     0.67367,     0.67467,     0.67568,     0.67668,     0.67768,     0.67868,     0.67968,     0.68068,     0.68168,     0.68268,     0.68368,     0.68468,     0.68569,     0.68669,     0.68769,     0.68869,     0.68969,     0.69069,     0.69169,     0.69269,     0.69369,     0.69469,      0.6957,\n",
       "            0.6967,      0.6977,      0.6987,      0.6997,      0.7007,      0.7017,      0.7027,      0.7037,      0.7047,     0.70571,     0.70671,     0.70771,     0.70871,     0.70971,     0.71071,     0.71171,     0.71271,     0.71371,     0.71471,     0.71572,     0.71672,     0.71772,     0.71872,     0.71972,\n",
       "           0.72072,     0.72172,     0.72272,     0.72372,     0.72472,     0.72573,     0.72673,     0.72773,     0.72873,     0.72973,     0.73073,     0.73173,     0.73273,     0.73373,     0.73473,     0.73574,     0.73674,     0.73774,     0.73874,     0.73974,     0.74074,     0.74174,     0.74274,     0.74374,\n",
       "           0.74474,     0.74575,     0.74675,     0.74775,     0.74875,     0.74975,     0.75075,     0.75175,     0.75275,     0.75375,     0.75475,     0.75576,     0.75676,     0.75776,     0.75876,     0.75976,     0.76076,     0.76176,     0.76276,     0.76376,     0.76476,     0.76577,     0.76677,     0.76777,\n",
       "           0.76877,     0.76977,     0.77077,     0.77177,     0.77277,     0.77377,     0.77477,     0.77578,     0.77678,     0.77778,     0.77878,     0.77978,     0.78078,     0.78178,     0.78278,     0.78378,     0.78478,     0.78579,     0.78679,     0.78779,     0.78879,     0.78979,     0.79079,     0.79179,\n",
       "           0.79279,     0.79379,     0.79479,      0.7958,      0.7968,      0.7978,      0.7988,      0.7998,      0.8008,      0.8018,      0.8028,      0.8038,      0.8048,     0.80581,     0.80681,     0.80781,     0.80881,     0.80981,     0.81081,     0.81181,     0.81281,     0.81381,     0.81481,     0.81582,\n",
       "           0.81682,     0.81782,     0.81882,     0.81982,     0.82082,     0.82182,     0.82282,     0.82382,     0.82482,     0.82583,     0.82683,     0.82783,     0.82883,     0.82983,     0.83083,     0.83183,     0.83283,     0.83383,     0.83483,     0.83584,     0.83684,     0.83784,     0.83884,     0.83984,\n",
       "           0.84084,     0.84184,     0.84284,     0.84384,     0.84484,     0.84585,     0.84685,     0.84785,     0.84885,     0.84985,     0.85085,     0.85185,     0.85285,     0.85385,     0.85485,     0.85586,     0.85686,     0.85786,     0.85886,     0.85986,     0.86086,     0.86186,     0.86286,     0.86386,\n",
       "           0.86486,     0.86587,     0.86687,     0.86787,     0.86887,     0.86987,     0.87087,     0.87187,     0.87287,     0.87387,     0.87487,     0.87588,     0.87688,     0.87788,     0.87888,     0.87988,     0.88088,     0.88188,     0.88288,     0.88388,     0.88488,     0.88589,     0.88689,     0.88789,\n",
       "           0.88889,     0.88989,     0.89089,     0.89189,     0.89289,     0.89389,     0.89489,      0.8959,      0.8969,      0.8979,      0.8989,      0.8999,      0.9009,      0.9019,      0.9029,      0.9039,      0.9049,     0.90591,     0.90691,     0.90791,     0.90891,     0.90991,     0.91091,     0.91191,\n",
       "           0.91291,     0.91391,     0.91491,     0.91592,     0.91692,     0.91792,     0.91892,     0.91992,     0.92092,     0.92192,     0.92292,     0.92392,     0.92492,     0.92593,     0.92693,     0.92793,     0.92893,     0.92993,     0.93093,     0.93193,     0.93293,     0.93393,     0.93493,     0.93594,\n",
       "           0.93694,     0.93794,     0.93894,     0.93994,     0.94094,     0.94194,     0.94294,     0.94394,     0.94494,     0.94595,     0.94695,     0.94795,     0.94895,     0.94995,     0.95095,     0.95195,     0.95295,     0.95395,     0.95495,     0.95596,     0.95696,     0.95796,     0.95896,     0.95996,\n",
       "           0.96096,     0.96196,     0.96296,     0.96396,     0.96496,     0.96597,     0.96697,     0.96797,     0.96897,     0.96997,     0.97097,     0.97197,     0.97297,     0.97397,     0.97497,     0.97598,     0.97698,     0.97798,     0.97898,     0.97998,     0.98098,     0.98198,     0.98298,     0.98398,\n",
       "           0.98498,     0.98599,     0.98699,     0.98799,     0.98899,     0.98999,     0.99099,     0.99199,     0.99299,     0.99399,     0.99499,       0.996,       0.997,       0.998,       0.999,           1]), array([[          1,           1,           1, ...,     0.19101,     0.19101,           0],\n",
       "       [          1,           1,           1, ...,     0.29796,     0.29796,           0],\n",
       "       [          1,           1,           1, ...,     0.69524,     0.69524,           0],\n",
       "       [          1,           1,           1, ...,           1,           1,           0]]), 'Recall', 'Precision'], [array([          0,    0.001001,    0.002002,    0.003003,    0.004004,    0.005005,    0.006006,    0.007007,    0.008008,    0.009009,     0.01001,    0.011011,    0.012012,    0.013013,    0.014014,    0.015015,    0.016016,    0.017017,    0.018018,    0.019019,     0.02002,    0.021021,    0.022022,    0.023023,\n",
       "          0.024024,    0.025025,    0.026026,    0.027027,    0.028028,    0.029029,     0.03003,    0.031031,    0.032032,    0.033033,    0.034034,    0.035035,    0.036036,    0.037037,    0.038038,    0.039039,     0.04004,    0.041041,    0.042042,    0.043043,    0.044044,    0.045045,    0.046046,    0.047047,\n",
       "          0.048048,    0.049049,     0.05005,    0.051051,    0.052052,    0.053053,    0.054054,    0.055055,    0.056056,    0.057057,    0.058058,    0.059059,     0.06006,    0.061061,    0.062062,    0.063063,    0.064064,    0.065065,    0.066066,    0.067067,    0.068068,    0.069069,     0.07007,    0.071071,\n",
       "          0.072072,    0.073073,    0.074074,    0.075075,    0.076076,    0.077077,    0.078078,    0.079079,     0.08008,    0.081081,    0.082082,    0.083083,    0.084084,    0.085085,    0.086086,    0.087087,    0.088088,    0.089089,     0.09009,    0.091091,    0.092092,    0.093093,    0.094094,    0.095095,\n",
       "          0.096096,    0.097097,    0.098098,    0.099099,      0.1001,      0.1011,      0.1021,      0.1031,      0.1041,     0.10511,     0.10611,     0.10711,     0.10811,     0.10911,     0.11011,     0.11111,     0.11211,     0.11311,     0.11411,     0.11512,     0.11612,     0.11712,     0.11812,     0.11912,\n",
       "           0.12012,     0.12112,     0.12212,     0.12312,     0.12412,     0.12513,     0.12613,     0.12713,     0.12813,     0.12913,     0.13013,     0.13113,     0.13213,     0.13313,     0.13413,     0.13514,     0.13614,     0.13714,     0.13814,     0.13914,     0.14014,     0.14114,     0.14214,     0.14314,\n",
       "           0.14414,     0.14515,     0.14615,     0.14715,     0.14815,     0.14915,     0.15015,     0.15115,     0.15215,     0.15315,     0.15415,     0.15516,     0.15616,     0.15716,     0.15816,     0.15916,     0.16016,     0.16116,     0.16216,     0.16316,     0.16416,     0.16517,     0.16617,     0.16717,\n",
       "           0.16817,     0.16917,     0.17017,     0.17117,     0.17217,     0.17317,     0.17417,     0.17518,     0.17618,     0.17718,     0.17818,     0.17918,     0.18018,     0.18118,     0.18218,     0.18318,     0.18418,     0.18519,     0.18619,     0.18719,     0.18819,     0.18919,     0.19019,     0.19119,\n",
       "           0.19219,     0.19319,     0.19419,      0.1952,      0.1962,      0.1972,      0.1982,      0.1992,      0.2002,      0.2012,      0.2022,      0.2032,      0.2042,     0.20521,     0.20621,     0.20721,     0.20821,     0.20921,     0.21021,     0.21121,     0.21221,     0.21321,     0.21421,     0.21522,\n",
       "           0.21622,     0.21722,     0.21822,     0.21922,     0.22022,     0.22122,     0.22222,     0.22322,     0.22422,     0.22523,     0.22623,     0.22723,     0.22823,     0.22923,     0.23023,     0.23123,     0.23223,     0.23323,     0.23423,     0.23524,     0.23624,     0.23724,     0.23824,     0.23924,\n",
       "           0.24024,     0.24124,     0.24224,     0.24324,     0.24424,     0.24525,     0.24625,     0.24725,     0.24825,     0.24925,     0.25025,     0.25125,     0.25225,     0.25325,     0.25425,     0.25526,     0.25626,     0.25726,     0.25826,     0.25926,     0.26026,     0.26126,     0.26226,     0.26326,\n",
       "           0.26426,     0.26527,     0.26627,     0.26727,     0.26827,     0.26927,     0.27027,     0.27127,     0.27227,     0.27327,     0.27427,     0.27528,     0.27628,     0.27728,     0.27828,     0.27928,     0.28028,     0.28128,     0.28228,     0.28328,     0.28428,     0.28529,     0.28629,     0.28729,\n",
       "           0.28829,     0.28929,     0.29029,     0.29129,     0.29229,     0.29329,     0.29429,      0.2953,      0.2963,      0.2973,      0.2983,      0.2993,      0.3003,      0.3013,      0.3023,      0.3033,      0.3043,     0.30531,     0.30631,     0.30731,     0.30831,     0.30931,     0.31031,     0.31131,\n",
       "           0.31231,     0.31331,     0.31431,     0.31532,     0.31632,     0.31732,     0.31832,     0.31932,     0.32032,     0.32132,     0.32232,     0.32332,     0.32432,     0.32533,     0.32633,     0.32733,     0.32833,     0.32933,     0.33033,     0.33133,     0.33233,     0.33333,     0.33433,     0.33534,\n",
       "           0.33634,     0.33734,     0.33834,     0.33934,     0.34034,     0.34134,     0.34234,     0.34334,     0.34434,     0.34535,     0.34635,     0.34735,     0.34835,     0.34935,     0.35035,     0.35135,     0.35235,     0.35335,     0.35435,     0.35536,     0.35636,     0.35736,     0.35836,     0.35936,\n",
       "           0.36036,     0.36136,     0.36236,     0.36336,     0.36436,     0.36537,     0.36637,     0.36737,     0.36837,     0.36937,     0.37037,     0.37137,     0.37237,     0.37337,     0.37437,     0.37538,     0.37638,     0.37738,     0.37838,     0.37938,     0.38038,     0.38138,     0.38238,     0.38338,\n",
       "           0.38438,     0.38539,     0.38639,     0.38739,     0.38839,     0.38939,     0.39039,     0.39139,     0.39239,     0.39339,     0.39439,      0.3954,      0.3964,      0.3974,      0.3984,      0.3994,      0.4004,      0.4014,      0.4024,      0.4034,      0.4044,     0.40541,     0.40641,     0.40741,\n",
       "           0.40841,     0.40941,     0.41041,     0.41141,     0.41241,     0.41341,     0.41441,     0.41542,     0.41642,     0.41742,     0.41842,     0.41942,     0.42042,     0.42142,     0.42242,     0.42342,     0.42442,     0.42543,     0.42643,     0.42743,     0.42843,     0.42943,     0.43043,     0.43143,\n",
       "           0.43243,     0.43343,     0.43443,     0.43544,     0.43644,     0.43744,     0.43844,     0.43944,     0.44044,     0.44144,     0.44244,     0.44344,     0.44444,     0.44545,     0.44645,     0.44745,     0.44845,     0.44945,     0.45045,     0.45145,     0.45245,     0.45345,     0.45445,     0.45546,\n",
       "           0.45646,     0.45746,     0.45846,     0.45946,     0.46046,     0.46146,     0.46246,     0.46346,     0.46446,     0.46547,     0.46647,     0.46747,     0.46847,     0.46947,     0.47047,     0.47147,     0.47247,     0.47347,     0.47447,     0.47548,     0.47648,     0.47748,     0.47848,     0.47948,\n",
       "           0.48048,     0.48148,     0.48248,     0.48348,     0.48448,     0.48549,     0.48649,     0.48749,     0.48849,     0.48949,     0.49049,     0.49149,     0.49249,     0.49349,     0.49449,      0.4955,      0.4965,      0.4975,      0.4985,      0.4995,      0.5005,      0.5015,      0.5025,      0.5035,\n",
       "            0.5045,     0.50551,     0.50651,     0.50751,     0.50851,     0.50951,     0.51051,     0.51151,     0.51251,     0.51351,     0.51451,     0.51552,     0.51652,     0.51752,     0.51852,     0.51952,     0.52052,     0.52152,     0.52252,     0.52352,     0.52452,     0.52553,     0.52653,     0.52753,\n",
       "           0.52853,     0.52953,     0.53053,     0.53153,     0.53253,     0.53353,     0.53453,     0.53554,     0.53654,     0.53754,     0.53854,     0.53954,     0.54054,     0.54154,     0.54254,     0.54354,     0.54454,     0.54555,     0.54655,     0.54755,     0.54855,     0.54955,     0.55055,     0.55155,\n",
       "           0.55255,     0.55355,     0.55455,     0.55556,     0.55656,     0.55756,     0.55856,     0.55956,     0.56056,     0.56156,     0.56256,     0.56356,     0.56456,     0.56557,     0.56657,     0.56757,     0.56857,     0.56957,     0.57057,     0.57157,     0.57257,     0.57357,     0.57457,     0.57558,\n",
       "           0.57658,     0.57758,     0.57858,     0.57958,     0.58058,     0.58158,     0.58258,     0.58358,     0.58458,     0.58559,     0.58659,     0.58759,     0.58859,     0.58959,     0.59059,     0.59159,     0.59259,     0.59359,     0.59459,      0.5956,      0.5966,      0.5976,      0.5986,      0.5996,\n",
       "            0.6006,      0.6016,      0.6026,      0.6036,      0.6046,     0.60561,     0.60661,     0.60761,     0.60861,     0.60961,     0.61061,     0.61161,     0.61261,     0.61361,     0.61461,     0.61562,     0.61662,     0.61762,     0.61862,     0.61962,     0.62062,     0.62162,     0.62262,     0.62362,\n",
       "           0.62462,     0.62563,     0.62663,     0.62763,     0.62863,     0.62963,     0.63063,     0.63163,     0.63263,     0.63363,     0.63463,     0.63564,     0.63664,     0.63764,     0.63864,     0.63964,     0.64064,     0.64164,     0.64264,     0.64364,     0.64464,     0.64565,     0.64665,     0.64765,\n",
       "           0.64865,     0.64965,     0.65065,     0.65165,     0.65265,     0.65365,     0.65465,     0.65566,     0.65666,     0.65766,     0.65866,     0.65966,     0.66066,     0.66166,     0.66266,     0.66366,     0.66466,     0.66567,     0.66667,     0.66767,     0.66867,     0.66967,     0.67067,     0.67167,\n",
       "           0.67267,     0.67367,     0.67467,     0.67568,     0.67668,     0.67768,     0.67868,     0.67968,     0.68068,     0.68168,     0.68268,     0.68368,     0.68468,     0.68569,     0.68669,     0.68769,     0.68869,     0.68969,     0.69069,     0.69169,     0.69269,     0.69369,     0.69469,      0.6957,\n",
       "            0.6967,      0.6977,      0.6987,      0.6997,      0.7007,      0.7017,      0.7027,      0.7037,      0.7047,     0.70571,     0.70671,     0.70771,     0.70871,     0.70971,     0.71071,     0.71171,     0.71271,     0.71371,     0.71471,     0.71572,     0.71672,     0.71772,     0.71872,     0.71972,\n",
       "           0.72072,     0.72172,     0.72272,     0.72372,     0.72472,     0.72573,     0.72673,     0.72773,     0.72873,     0.72973,     0.73073,     0.73173,     0.73273,     0.73373,     0.73473,     0.73574,     0.73674,     0.73774,     0.73874,     0.73974,     0.74074,     0.74174,     0.74274,     0.74374,\n",
       "           0.74474,     0.74575,     0.74675,     0.74775,     0.74875,     0.74975,     0.75075,     0.75175,     0.75275,     0.75375,     0.75475,     0.75576,     0.75676,     0.75776,     0.75876,     0.75976,     0.76076,     0.76176,     0.76276,     0.76376,     0.76476,     0.76577,     0.76677,     0.76777,\n",
       "           0.76877,     0.76977,     0.77077,     0.77177,     0.77277,     0.77377,     0.77477,     0.77578,     0.77678,     0.77778,     0.77878,     0.77978,     0.78078,     0.78178,     0.78278,     0.78378,     0.78478,     0.78579,     0.78679,     0.78779,     0.78879,     0.78979,     0.79079,     0.79179,\n",
       "           0.79279,     0.79379,     0.79479,      0.7958,      0.7968,      0.7978,      0.7988,      0.7998,      0.8008,      0.8018,      0.8028,      0.8038,      0.8048,     0.80581,     0.80681,     0.80781,     0.80881,     0.80981,     0.81081,     0.81181,     0.81281,     0.81381,     0.81481,     0.81582,\n",
       "           0.81682,     0.81782,     0.81882,     0.81982,     0.82082,     0.82182,     0.82282,     0.82382,     0.82482,     0.82583,     0.82683,     0.82783,     0.82883,     0.82983,     0.83083,     0.83183,     0.83283,     0.83383,     0.83483,     0.83584,     0.83684,     0.83784,     0.83884,     0.83984,\n",
       "           0.84084,     0.84184,     0.84284,     0.84384,     0.84484,     0.84585,     0.84685,     0.84785,     0.84885,     0.84985,     0.85085,     0.85185,     0.85285,     0.85385,     0.85485,     0.85586,     0.85686,     0.85786,     0.85886,     0.85986,     0.86086,     0.86186,     0.86286,     0.86386,\n",
       "           0.86486,     0.86587,     0.86687,     0.86787,     0.86887,     0.86987,     0.87087,     0.87187,     0.87287,     0.87387,     0.87487,     0.87588,     0.87688,     0.87788,     0.87888,     0.87988,     0.88088,     0.88188,     0.88288,     0.88388,     0.88488,     0.88589,     0.88689,     0.88789,\n",
       "           0.88889,     0.88989,     0.89089,     0.89189,     0.89289,     0.89389,     0.89489,      0.8959,      0.8969,      0.8979,      0.8989,      0.8999,      0.9009,      0.9019,      0.9029,      0.9039,      0.9049,     0.90591,     0.90691,     0.90791,     0.90891,     0.90991,     0.91091,     0.91191,\n",
       "           0.91291,     0.91391,     0.91491,     0.91592,     0.91692,     0.91792,     0.91892,     0.91992,     0.92092,     0.92192,     0.92292,     0.92392,     0.92492,     0.92593,     0.92693,     0.92793,     0.92893,     0.92993,     0.93093,     0.93193,     0.93293,     0.93393,     0.93493,     0.93594,\n",
       "           0.93694,     0.93794,     0.93894,     0.93994,     0.94094,     0.94194,     0.94294,     0.94394,     0.94494,     0.94595,     0.94695,     0.94795,     0.94895,     0.94995,     0.95095,     0.95195,     0.95295,     0.95395,     0.95495,     0.95596,     0.95696,     0.95796,     0.95896,     0.95996,\n",
       "           0.96096,     0.96196,     0.96296,     0.96396,     0.96496,     0.96597,     0.96697,     0.96797,     0.96897,     0.96997,     0.97097,     0.97197,     0.97297,     0.97397,     0.97497,     0.97598,     0.97698,     0.97798,     0.97898,     0.97998,     0.98098,     0.98198,     0.98298,     0.98398,\n",
       "           0.98498,     0.98599,     0.98699,     0.98799,     0.98899,     0.98999,     0.99099,     0.99199,     0.99299,     0.99399,     0.99499,       0.996,       0.997,       0.998,       0.999,           1]), array([[    0.11604,     0.11604,     0.16209, ...,           0,           0,           0],\n",
       "       [    0.36869,     0.36878,     0.47203, ...,           0,           0,           0],\n",
       "       [    0.52708,     0.52822,     0.65178, ...,           0,           0,           0],\n",
       "       [    0.38983,     0.38983,     0.49804, ...,           0,           0,           0]]), 'Confidence', 'F1'], [array([          0,    0.001001,    0.002002,    0.003003,    0.004004,    0.005005,    0.006006,    0.007007,    0.008008,    0.009009,     0.01001,    0.011011,    0.012012,    0.013013,    0.014014,    0.015015,    0.016016,    0.017017,    0.018018,    0.019019,     0.02002,    0.021021,    0.022022,    0.023023,\n",
       "          0.024024,    0.025025,    0.026026,    0.027027,    0.028028,    0.029029,     0.03003,    0.031031,    0.032032,    0.033033,    0.034034,    0.035035,    0.036036,    0.037037,    0.038038,    0.039039,     0.04004,    0.041041,    0.042042,    0.043043,    0.044044,    0.045045,    0.046046,    0.047047,\n",
       "          0.048048,    0.049049,     0.05005,    0.051051,    0.052052,    0.053053,    0.054054,    0.055055,    0.056056,    0.057057,    0.058058,    0.059059,     0.06006,    0.061061,    0.062062,    0.063063,    0.064064,    0.065065,    0.066066,    0.067067,    0.068068,    0.069069,     0.07007,    0.071071,\n",
       "          0.072072,    0.073073,    0.074074,    0.075075,    0.076076,    0.077077,    0.078078,    0.079079,     0.08008,    0.081081,    0.082082,    0.083083,    0.084084,    0.085085,    0.086086,    0.087087,    0.088088,    0.089089,     0.09009,    0.091091,    0.092092,    0.093093,    0.094094,    0.095095,\n",
       "          0.096096,    0.097097,    0.098098,    0.099099,      0.1001,      0.1011,      0.1021,      0.1031,      0.1041,     0.10511,     0.10611,     0.10711,     0.10811,     0.10911,     0.11011,     0.11111,     0.11211,     0.11311,     0.11411,     0.11512,     0.11612,     0.11712,     0.11812,     0.11912,\n",
       "           0.12012,     0.12112,     0.12212,     0.12312,     0.12412,     0.12513,     0.12613,     0.12713,     0.12813,     0.12913,     0.13013,     0.13113,     0.13213,     0.13313,     0.13413,     0.13514,     0.13614,     0.13714,     0.13814,     0.13914,     0.14014,     0.14114,     0.14214,     0.14314,\n",
       "           0.14414,     0.14515,     0.14615,     0.14715,     0.14815,     0.14915,     0.15015,     0.15115,     0.15215,     0.15315,     0.15415,     0.15516,     0.15616,     0.15716,     0.15816,     0.15916,     0.16016,     0.16116,     0.16216,     0.16316,     0.16416,     0.16517,     0.16617,     0.16717,\n",
       "           0.16817,     0.16917,     0.17017,     0.17117,     0.17217,     0.17317,     0.17417,     0.17518,     0.17618,     0.17718,     0.17818,     0.17918,     0.18018,     0.18118,     0.18218,     0.18318,     0.18418,     0.18519,     0.18619,     0.18719,     0.18819,     0.18919,     0.19019,     0.19119,\n",
       "           0.19219,     0.19319,     0.19419,      0.1952,      0.1962,      0.1972,      0.1982,      0.1992,      0.2002,      0.2012,      0.2022,      0.2032,      0.2042,     0.20521,     0.20621,     0.20721,     0.20821,     0.20921,     0.21021,     0.21121,     0.21221,     0.21321,     0.21421,     0.21522,\n",
       "           0.21622,     0.21722,     0.21822,     0.21922,     0.22022,     0.22122,     0.22222,     0.22322,     0.22422,     0.22523,     0.22623,     0.22723,     0.22823,     0.22923,     0.23023,     0.23123,     0.23223,     0.23323,     0.23423,     0.23524,     0.23624,     0.23724,     0.23824,     0.23924,\n",
       "           0.24024,     0.24124,     0.24224,     0.24324,     0.24424,     0.24525,     0.24625,     0.24725,     0.24825,     0.24925,     0.25025,     0.25125,     0.25225,     0.25325,     0.25425,     0.25526,     0.25626,     0.25726,     0.25826,     0.25926,     0.26026,     0.26126,     0.26226,     0.26326,\n",
       "           0.26426,     0.26527,     0.26627,     0.26727,     0.26827,     0.26927,     0.27027,     0.27127,     0.27227,     0.27327,     0.27427,     0.27528,     0.27628,     0.27728,     0.27828,     0.27928,     0.28028,     0.28128,     0.28228,     0.28328,     0.28428,     0.28529,     0.28629,     0.28729,\n",
       "           0.28829,     0.28929,     0.29029,     0.29129,     0.29229,     0.29329,     0.29429,      0.2953,      0.2963,      0.2973,      0.2983,      0.2993,      0.3003,      0.3013,      0.3023,      0.3033,      0.3043,     0.30531,     0.30631,     0.30731,     0.30831,     0.30931,     0.31031,     0.31131,\n",
       "           0.31231,     0.31331,     0.31431,     0.31532,     0.31632,     0.31732,     0.31832,     0.31932,     0.32032,     0.32132,     0.32232,     0.32332,     0.32432,     0.32533,     0.32633,     0.32733,     0.32833,     0.32933,     0.33033,     0.33133,     0.33233,     0.33333,     0.33433,     0.33534,\n",
       "           0.33634,     0.33734,     0.33834,     0.33934,     0.34034,     0.34134,     0.34234,     0.34334,     0.34434,     0.34535,     0.34635,     0.34735,     0.34835,     0.34935,     0.35035,     0.35135,     0.35235,     0.35335,     0.35435,     0.35536,     0.35636,     0.35736,     0.35836,     0.35936,\n",
       "           0.36036,     0.36136,     0.36236,     0.36336,     0.36436,     0.36537,     0.36637,     0.36737,     0.36837,     0.36937,     0.37037,     0.37137,     0.37237,     0.37337,     0.37437,     0.37538,     0.37638,     0.37738,     0.37838,     0.37938,     0.38038,     0.38138,     0.38238,     0.38338,\n",
       "           0.38438,     0.38539,     0.38639,     0.38739,     0.38839,     0.38939,     0.39039,     0.39139,     0.39239,     0.39339,     0.39439,      0.3954,      0.3964,      0.3974,      0.3984,      0.3994,      0.4004,      0.4014,      0.4024,      0.4034,      0.4044,     0.40541,     0.40641,     0.40741,\n",
       "           0.40841,     0.40941,     0.41041,     0.41141,     0.41241,     0.41341,     0.41441,     0.41542,     0.41642,     0.41742,     0.41842,     0.41942,     0.42042,     0.42142,     0.42242,     0.42342,     0.42442,     0.42543,     0.42643,     0.42743,     0.42843,     0.42943,     0.43043,     0.43143,\n",
       "           0.43243,     0.43343,     0.43443,     0.43544,     0.43644,     0.43744,     0.43844,     0.43944,     0.44044,     0.44144,     0.44244,     0.44344,     0.44444,     0.44545,     0.44645,     0.44745,     0.44845,     0.44945,     0.45045,     0.45145,     0.45245,     0.45345,     0.45445,     0.45546,\n",
       "           0.45646,     0.45746,     0.45846,     0.45946,     0.46046,     0.46146,     0.46246,     0.46346,     0.46446,     0.46547,     0.46647,     0.46747,     0.46847,     0.46947,     0.47047,     0.47147,     0.47247,     0.47347,     0.47447,     0.47548,     0.47648,     0.47748,     0.47848,     0.47948,\n",
       "           0.48048,     0.48148,     0.48248,     0.48348,     0.48448,     0.48549,     0.48649,     0.48749,     0.48849,     0.48949,     0.49049,     0.49149,     0.49249,     0.49349,     0.49449,      0.4955,      0.4965,      0.4975,      0.4985,      0.4995,      0.5005,      0.5015,      0.5025,      0.5035,\n",
       "            0.5045,     0.50551,     0.50651,     0.50751,     0.50851,     0.50951,     0.51051,     0.51151,     0.51251,     0.51351,     0.51451,     0.51552,     0.51652,     0.51752,     0.51852,     0.51952,     0.52052,     0.52152,     0.52252,     0.52352,     0.52452,     0.52553,     0.52653,     0.52753,\n",
       "           0.52853,     0.52953,     0.53053,     0.53153,     0.53253,     0.53353,     0.53453,     0.53554,     0.53654,     0.53754,     0.53854,     0.53954,     0.54054,     0.54154,     0.54254,     0.54354,     0.54454,     0.54555,     0.54655,     0.54755,     0.54855,     0.54955,     0.55055,     0.55155,\n",
       "           0.55255,     0.55355,     0.55455,     0.55556,     0.55656,     0.55756,     0.55856,     0.55956,     0.56056,     0.56156,     0.56256,     0.56356,     0.56456,     0.56557,     0.56657,     0.56757,     0.56857,     0.56957,     0.57057,     0.57157,     0.57257,     0.57357,     0.57457,     0.57558,\n",
       "           0.57658,     0.57758,     0.57858,     0.57958,     0.58058,     0.58158,     0.58258,     0.58358,     0.58458,     0.58559,     0.58659,     0.58759,     0.58859,     0.58959,     0.59059,     0.59159,     0.59259,     0.59359,     0.59459,      0.5956,      0.5966,      0.5976,      0.5986,      0.5996,\n",
       "            0.6006,      0.6016,      0.6026,      0.6036,      0.6046,     0.60561,     0.60661,     0.60761,     0.60861,     0.60961,     0.61061,     0.61161,     0.61261,     0.61361,     0.61461,     0.61562,     0.61662,     0.61762,     0.61862,     0.61962,     0.62062,     0.62162,     0.62262,     0.62362,\n",
       "           0.62462,     0.62563,     0.62663,     0.62763,     0.62863,     0.62963,     0.63063,     0.63163,     0.63263,     0.63363,     0.63463,     0.63564,     0.63664,     0.63764,     0.63864,     0.63964,     0.64064,     0.64164,     0.64264,     0.64364,     0.64464,     0.64565,     0.64665,     0.64765,\n",
       "           0.64865,     0.64965,     0.65065,     0.65165,     0.65265,     0.65365,     0.65465,     0.65566,     0.65666,     0.65766,     0.65866,     0.65966,     0.66066,     0.66166,     0.66266,     0.66366,     0.66466,     0.66567,     0.66667,     0.66767,     0.66867,     0.66967,     0.67067,     0.67167,\n",
       "           0.67267,     0.67367,     0.67467,     0.67568,     0.67668,     0.67768,     0.67868,     0.67968,     0.68068,     0.68168,     0.68268,     0.68368,     0.68468,     0.68569,     0.68669,     0.68769,     0.68869,     0.68969,     0.69069,     0.69169,     0.69269,     0.69369,     0.69469,      0.6957,\n",
       "            0.6967,      0.6977,      0.6987,      0.6997,      0.7007,      0.7017,      0.7027,      0.7037,      0.7047,     0.70571,     0.70671,     0.70771,     0.70871,     0.70971,     0.71071,     0.71171,     0.71271,     0.71371,     0.71471,     0.71572,     0.71672,     0.71772,     0.71872,     0.71972,\n",
       "           0.72072,     0.72172,     0.72272,     0.72372,     0.72472,     0.72573,     0.72673,     0.72773,     0.72873,     0.72973,     0.73073,     0.73173,     0.73273,     0.73373,     0.73473,     0.73574,     0.73674,     0.73774,     0.73874,     0.73974,     0.74074,     0.74174,     0.74274,     0.74374,\n",
       "           0.74474,     0.74575,     0.74675,     0.74775,     0.74875,     0.74975,     0.75075,     0.75175,     0.75275,     0.75375,     0.75475,     0.75576,     0.75676,     0.75776,     0.75876,     0.75976,     0.76076,     0.76176,     0.76276,     0.76376,     0.76476,     0.76577,     0.76677,     0.76777,\n",
       "           0.76877,     0.76977,     0.77077,     0.77177,     0.77277,     0.77377,     0.77477,     0.77578,     0.77678,     0.77778,     0.77878,     0.77978,     0.78078,     0.78178,     0.78278,     0.78378,     0.78478,     0.78579,     0.78679,     0.78779,     0.78879,     0.78979,     0.79079,     0.79179,\n",
       "           0.79279,     0.79379,     0.79479,      0.7958,      0.7968,      0.7978,      0.7988,      0.7998,      0.8008,      0.8018,      0.8028,      0.8038,      0.8048,     0.80581,     0.80681,     0.80781,     0.80881,     0.80981,     0.81081,     0.81181,     0.81281,     0.81381,     0.81481,     0.81582,\n",
       "           0.81682,     0.81782,     0.81882,     0.81982,     0.82082,     0.82182,     0.82282,     0.82382,     0.82482,     0.82583,     0.82683,     0.82783,     0.82883,     0.82983,     0.83083,     0.83183,     0.83283,     0.83383,     0.83483,     0.83584,     0.83684,     0.83784,     0.83884,     0.83984,\n",
       "           0.84084,     0.84184,     0.84284,     0.84384,     0.84484,     0.84585,     0.84685,     0.84785,     0.84885,     0.84985,     0.85085,     0.85185,     0.85285,     0.85385,     0.85485,     0.85586,     0.85686,     0.85786,     0.85886,     0.85986,     0.86086,     0.86186,     0.86286,     0.86386,\n",
       "           0.86486,     0.86587,     0.86687,     0.86787,     0.86887,     0.86987,     0.87087,     0.87187,     0.87287,     0.87387,     0.87487,     0.87588,     0.87688,     0.87788,     0.87888,     0.87988,     0.88088,     0.88188,     0.88288,     0.88388,     0.88488,     0.88589,     0.88689,     0.88789,\n",
       "           0.88889,     0.88989,     0.89089,     0.89189,     0.89289,     0.89389,     0.89489,      0.8959,      0.8969,      0.8979,      0.8989,      0.8999,      0.9009,      0.9019,      0.9029,      0.9039,      0.9049,     0.90591,     0.90691,     0.90791,     0.90891,     0.90991,     0.91091,     0.91191,\n",
       "           0.91291,     0.91391,     0.91491,     0.91592,     0.91692,     0.91792,     0.91892,     0.91992,     0.92092,     0.92192,     0.92292,     0.92392,     0.92492,     0.92593,     0.92693,     0.92793,     0.92893,     0.92993,     0.93093,     0.93193,     0.93293,     0.93393,     0.93493,     0.93594,\n",
       "           0.93694,     0.93794,     0.93894,     0.93994,     0.94094,     0.94194,     0.94294,     0.94394,     0.94494,     0.94595,     0.94695,     0.94795,     0.94895,     0.94995,     0.95095,     0.95195,     0.95295,     0.95395,     0.95495,     0.95596,     0.95696,     0.95796,     0.95896,     0.95996,\n",
       "           0.96096,     0.96196,     0.96296,     0.96396,     0.96496,     0.96597,     0.96697,     0.96797,     0.96897,     0.96997,     0.97097,     0.97197,     0.97297,     0.97397,     0.97497,     0.97598,     0.97698,     0.97798,     0.97898,     0.97998,     0.98098,     0.98198,     0.98298,     0.98398,\n",
       "           0.98498,     0.98599,     0.98699,     0.98799,     0.98899,     0.98999,     0.99099,     0.99199,     0.99299,     0.99399,     0.99499,       0.996,       0.997,       0.998,       0.999,           1]), array([[   0.061594,    0.061594,    0.088195, ...,           1,           1,           1],\n",
       "       [    0.22601,     0.22608,     0.31026, ...,           1,           1,           1],\n",
       "       [    0.35784,      0.3589,     0.48344, ...,           1,           1,           1],\n",
       "       [    0.24211,     0.24211,     0.33159, ...,           1,           1,           1]]), 'Confidence', 'Precision'], [array([          0,    0.001001,    0.002002,    0.003003,    0.004004,    0.005005,    0.006006,    0.007007,    0.008008,    0.009009,     0.01001,    0.011011,    0.012012,    0.013013,    0.014014,    0.015015,    0.016016,    0.017017,    0.018018,    0.019019,     0.02002,    0.021021,    0.022022,    0.023023,\n",
       "          0.024024,    0.025025,    0.026026,    0.027027,    0.028028,    0.029029,     0.03003,    0.031031,    0.032032,    0.033033,    0.034034,    0.035035,    0.036036,    0.037037,    0.038038,    0.039039,     0.04004,    0.041041,    0.042042,    0.043043,    0.044044,    0.045045,    0.046046,    0.047047,\n",
       "          0.048048,    0.049049,     0.05005,    0.051051,    0.052052,    0.053053,    0.054054,    0.055055,    0.056056,    0.057057,    0.058058,    0.059059,     0.06006,    0.061061,    0.062062,    0.063063,    0.064064,    0.065065,    0.066066,    0.067067,    0.068068,    0.069069,     0.07007,    0.071071,\n",
       "          0.072072,    0.073073,    0.074074,    0.075075,    0.076076,    0.077077,    0.078078,    0.079079,     0.08008,    0.081081,    0.082082,    0.083083,    0.084084,    0.085085,    0.086086,    0.087087,    0.088088,    0.089089,     0.09009,    0.091091,    0.092092,    0.093093,    0.094094,    0.095095,\n",
       "          0.096096,    0.097097,    0.098098,    0.099099,      0.1001,      0.1011,      0.1021,      0.1031,      0.1041,     0.10511,     0.10611,     0.10711,     0.10811,     0.10911,     0.11011,     0.11111,     0.11211,     0.11311,     0.11411,     0.11512,     0.11612,     0.11712,     0.11812,     0.11912,\n",
       "           0.12012,     0.12112,     0.12212,     0.12312,     0.12412,     0.12513,     0.12613,     0.12713,     0.12813,     0.12913,     0.13013,     0.13113,     0.13213,     0.13313,     0.13413,     0.13514,     0.13614,     0.13714,     0.13814,     0.13914,     0.14014,     0.14114,     0.14214,     0.14314,\n",
       "           0.14414,     0.14515,     0.14615,     0.14715,     0.14815,     0.14915,     0.15015,     0.15115,     0.15215,     0.15315,     0.15415,     0.15516,     0.15616,     0.15716,     0.15816,     0.15916,     0.16016,     0.16116,     0.16216,     0.16316,     0.16416,     0.16517,     0.16617,     0.16717,\n",
       "           0.16817,     0.16917,     0.17017,     0.17117,     0.17217,     0.17317,     0.17417,     0.17518,     0.17618,     0.17718,     0.17818,     0.17918,     0.18018,     0.18118,     0.18218,     0.18318,     0.18418,     0.18519,     0.18619,     0.18719,     0.18819,     0.18919,     0.19019,     0.19119,\n",
       "           0.19219,     0.19319,     0.19419,      0.1952,      0.1962,      0.1972,      0.1982,      0.1992,      0.2002,      0.2012,      0.2022,      0.2032,      0.2042,     0.20521,     0.20621,     0.20721,     0.20821,     0.20921,     0.21021,     0.21121,     0.21221,     0.21321,     0.21421,     0.21522,\n",
       "           0.21622,     0.21722,     0.21822,     0.21922,     0.22022,     0.22122,     0.22222,     0.22322,     0.22422,     0.22523,     0.22623,     0.22723,     0.22823,     0.22923,     0.23023,     0.23123,     0.23223,     0.23323,     0.23423,     0.23524,     0.23624,     0.23724,     0.23824,     0.23924,\n",
       "           0.24024,     0.24124,     0.24224,     0.24324,     0.24424,     0.24525,     0.24625,     0.24725,     0.24825,     0.24925,     0.25025,     0.25125,     0.25225,     0.25325,     0.25425,     0.25526,     0.25626,     0.25726,     0.25826,     0.25926,     0.26026,     0.26126,     0.26226,     0.26326,\n",
       "           0.26426,     0.26527,     0.26627,     0.26727,     0.26827,     0.26927,     0.27027,     0.27127,     0.27227,     0.27327,     0.27427,     0.27528,     0.27628,     0.27728,     0.27828,     0.27928,     0.28028,     0.28128,     0.28228,     0.28328,     0.28428,     0.28529,     0.28629,     0.28729,\n",
       "           0.28829,     0.28929,     0.29029,     0.29129,     0.29229,     0.29329,     0.29429,      0.2953,      0.2963,      0.2973,      0.2983,      0.2993,      0.3003,      0.3013,      0.3023,      0.3033,      0.3043,     0.30531,     0.30631,     0.30731,     0.30831,     0.30931,     0.31031,     0.31131,\n",
       "           0.31231,     0.31331,     0.31431,     0.31532,     0.31632,     0.31732,     0.31832,     0.31932,     0.32032,     0.32132,     0.32232,     0.32332,     0.32432,     0.32533,     0.32633,     0.32733,     0.32833,     0.32933,     0.33033,     0.33133,     0.33233,     0.33333,     0.33433,     0.33534,\n",
       "           0.33634,     0.33734,     0.33834,     0.33934,     0.34034,     0.34134,     0.34234,     0.34334,     0.34434,     0.34535,     0.34635,     0.34735,     0.34835,     0.34935,     0.35035,     0.35135,     0.35235,     0.35335,     0.35435,     0.35536,     0.35636,     0.35736,     0.35836,     0.35936,\n",
       "           0.36036,     0.36136,     0.36236,     0.36336,     0.36436,     0.36537,     0.36637,     0.36737,     0.36837,     0.36937,     0.37037,     0.37137,     0.37237,     0.37337,     0.37437,     0.37538,     0.37638,     0.37738,     0.37838,     0.37938,     0.38038,     0.38138,     0.38238,     0.38338,\n",
       "           0.38438,     0.38539,     0.38639,     0.38739,     0.38839,     0.38939,     0.39039,     0.39139,     0.39239,     0.39339,     0.39439,      0.3954,      0.3964,      0.3974,      0.3984,      0.3994,      0.4004,      0.4014,      0.4024,      0.4034,      0.4044,     0.40541,     0.40641,     0.40741,\n",
       "           0.40841,     0.40941,     0.41041,     0.41141,     0.41241,     0.41341,     0.41441,     0.41542,     0.41642,     0.41742,     0.41842,     0.41942,     0.42042,     0.42142,     0.42242,     0.42342,     0.42442,     0.42543,     0.42643,     0.42743,     0.42843,     0.42943,     0.43043,     0.43143,\n",
       "           0.43243,     0.43343,     0.43443,     0.43544,     0.43644,     0.43744,     0.43844,     0.43944,     0.44044,     0.44144,     0.44244,     0.44344,     0.44444,     0.44545,     0.44645,     0.44745,     0.44845,     0.44945,     0.45045,     0.45145,     0.45245,     0.45345,     0.45445,     0.45546,\n",
       "           0.45646,     0.45746,     0.45846,     0.45946,     0.46046,     0.46146,     0.46246,     0.46346,     0.46446,     0.46547,     0.46647,     0.46747,     0.46847,     0.46947,     0.47047,     0.47147,     0.47247,     0.47347,     0.47447,     0.47548,     0.47648,     0.47748,     0.47848,     0.47948,\n",
       "           0.48048,     0.48148,     0.48248,     0.48348,     0.48448,     0.48549,     0.48649,     0.48749,     0.48849,     0.48949,     0.49049,     0.49149,     0.49249,     0.49349,     0.49449,      0.4955,      0.4965,      0.4975,      0.4985,      0.4995,      0.5005,      0.5015,      0.5025,      0.5035,\n",
       "            0.5045,     0.50551,     0.50651,     0.50751,     0.50851,     0.50951,     0.51051,     0.51151,     0.51251,     0.51351,     0.51451,     0.51552,     0.51652,     0.51752,     0.51852,     0.51952,     0.52052,     0.52152,     0.52252,     0.52352,     0.52452,     0.52553,     0.52653,     0.52753,\n",
       "           0.52853,     0.52953,     0.53053,     0.53153,     0.53253,     0.53353,     0.53453,     0.53554,     0.53654,     0.53754,     0.53854,     0.53954,     0.54054,     0.54154,     0.54254,     0.54354,     0.54454,     0.54555,     0.54655,     0.54755,     0.54855,     0.54955,     0.55055,     0.55155,\n",
       "           0.55255,     0.55355,     0.55455,     0.55556,     0.55656,     0.55756,     0.55856,     0.55956,     0.56056,     0.56156,     0.56256,     0.56356,     0.56456,     0.56557,     0.56657,     0.56757,     0.56857,     0.56957,     0.57057,     0.57157,     0.57257,     0.57357,     0.57457,     0.57558,\n",
       "           0.57658,     0.57758,     0.57858,     0.57958,     0.58058,     0.58158,     0.58258,     0.58358,     0.58458,     0.58559,     0.58659,     0.58759,     0.58859,     0.58959,     0.59059,     0.59159,     0.59259,     0.59359,     0.59459,      0.5956,      0.5966,      0.5976,      0.5986,      0.5996,\n",
       "            0.6006,      0.6016,      0.6026,      0.6036,      0.6046,     0.60561,     0.60661,     0.60761,     0.60861,     0.60961,     0.61061,     0.61161,     0.61261,     0.61361,     0.61461,     0.61562,     0.61662,     0.61762,     0.61862,     0.61962,     0.62062,     0.62162,     0.62262,     0.62362,\n",
       "           0.62462,     0.62563,     0.62663,     0.62763,     0.62863,     0.62963,     0.63063,     0.63163,     0.63263,     0.63363,     0.63463,     0.63564,     0.63664,     0.63764,     0.63864,     0.63964,     0.64064,     0.64164,     0.64264,     0.64364,     0.64464,     0.64565,     0.64665,     0.64765,\n",
       "           0.64865,     0.64965,     0.65065,     0.65165,     0.65265,     0.65365,     0.65465,     0.65566,     0.65666,     0.65766,     0.65866,     0.65966,     0.66066,     0.66166,     0.66266,     0.66366,     0.66466,     0.66567,     0.66667,     0.66767,     0.66867,     0.66967,     0.67067,     0.67167,\n",
       "           0.67267,     0.67367,     0.67467,     0.67568,     0.67668,     0.67768,     0.67868,     0.67968,     0.68068,     0.68168,     0.68268,     0.68368,     0.68468,     0.68569,     0.68669,     0.68769,     0.68869,     0.68969,     0.69069,     0.69169,     0.69269,     0.69369,     0.69469,      0.6957,\n",
       "            0.6967,      0.6977,      0.6987,      0.6997,      0.7007,      0.7017,      0.7027,      0.7037,      0.7047,     0.70571,     0.70671,     0.70771,     0.70871,     0.70971,     0.71071,     0.71171,     0.71271,     0.71371,     0.71471,     0.71572,     0.71672,     0.71772,     0.71872,     0.71972,\n",
       "           0.72072,     0.72172,     0.72272,     0.72372,     0.72472,     0.72573,     0.72673,     0.72773,     0.72873,     0.72973,     0.73073,     0.73173,     0.73273,     0.73373,     0.73473,     0.73574,     0.73674,     0.73774,     0.73874,     0.73974,     0.74074,     0.74174,     0.74274,     0.74374,\n",
       "           0.74474,     0.74575,     0.74675,     0.74775,     0.74875,     0.74975,     0.75075,     0.75175,     0.75275,     0.75375,     0.75475,     0.75576,     0.75676,     0.75776,     0.75876,     0.75976,     0.76076,     0.76176,     0.76276,     0.76376,     0.76476,     0.76577,     0.76677,     0.76777,\n",
       "           0.76877,     0.76977,     0.77077,     0.77177,     0.77277,     0.77377,     0.77477,     0.77578,     0.77678,     0.77778,     0.77878,     0.77978,     0.78078,     0.78178,     0.78278,     0.78378,     0.78478,     0.78579,     0.78679,     0.78779,     0.78879,     0.78979,     0.79079,     0.79179,\n",
       "           0.79279,     0.79379,     0.79479,      0.7958,      0.7968,      0.7978,      0.7988,      0.7998,      0.8008,      0.8018,      0.8028,      0.8038,      0.8048,     0.80581,     0.80681,     0.80781,     0.80881,     0.80981,     0.81081,     0.81181,     0.81281,     0.81381,     0.81481,     0.81582,\n",
       "           0.81682,     0.81782,     0.81882,     0.81982,     0.82082,     0.82182,     0.82282,     0.82382,     0.82482,     0.82583,     0.82683,     0.82783,     0.82883,     0.82983,     0.83083,     0.83183,     0.83283,     0.83383,     0.83483,     0.83584,     0.83684,     0.83784,     0.83884,     0.83984,\n",
       "           0.84084,     0.84184,     0.84284,     0.84384,     0.84484,     0.84585,     0.84685,     0.84785,     0.84885,     0.84985,     0.85085,     0.85185,     0.85285,     0.85385,     0.85485,     0.85586,     0.85686,     0.85786,     0.85886,     0.85986,     0.86086,     0.86186,     0.86286,     0.86386,\n",
       "           0.86486,     0.86587,     0.86687,     0.86787,     0.86887,     0.86987,     0.87087,     0.87187,     0.87287,     0.87387,     0.87487,     0.87588,     0.87688,     0.87788,     0.87888,     0.87988,     0.88088,     0.88188,     0.88288,     0.88388,     0.88488,     0.88589,     0.88689,     0.88789,\n",
       "           0.88889,     0.88989,     0.89089,     0.89189,     0.89289,     0.89389,     0.89489,      0.8959,      0.8969,      0.8979,      0.8989,      0.8999,      0.9009,      0.9019,      0.9029,      0.9039,      0.9049,     0.90591,     0.90691,     0.90791,     0.90891,     0.90991,     0.91091,     0.91191,\n",
       "           0.91291,     0.91391,     0.91491,     0.91592,     0.91692,     0.91792,     0.91892,     0.91992,     0.92092,     0.92192,     0.92292,     0.92392,     0.92492,     0.92593,     0.92693,     0.92793,     0.92893,     0.92993,     0.93093,     0.93193,     0.93293,     0.93393,     0.93493,     0.93594,\n",
       "           0.93694,     0.93794,     0.93894,     0.93994,     0.94094,     0.94194,     0.94294,     0.94394,     0.94494,     0.94595,     0.94695,     0.94795,     0.94895,     0.94995,     0.95095,     0.95195,     0.95295,     0.95395,     0.95495,     0.95596,     0.95696,     0.95796,     0.95896,     0.95996,\n",
       "           0.96096,     0.96196,     0.96296,     0.96396,     0.96496,     0.96597,     0.96697,     0.96797,     0.96897,     0.96997,     0.97097,     0.97197,     0.97297,     0.97397,     0.97497,     0.97598,     0.97698,     0.97798,     0.97898,     0.97998,     0.98098,     0.98198,     0.98298,     0.98398,\n",
       "           0.98498,     0.98599,     0.98699,     0.98799,     0.98899,     0.98999,     0.99099,     0.99199,     0.99299,     0.99399,     0.99499,       0.996,       0.997,       0.998,       0.999,           1]), array([[          1,           1,           1, ...,           0,           0,           0],\n",
       "       [          1,           1,      0.9863, ...,           0,           0,           0],\n",
       "       [          1,           1,           1, ...,           0,           0,           0],\n",
       "       [          1,           1,           1, ...,           0,           0,           0]]), 'Confidence', 'Recall']]\n",
       "fitness: 0.8757058871129021\n",
       "keys: ['metrics/precision(B)', 'metrics/recall(B)', 'metrics/mAP50(B)', 'metrics/mAP50-95(B)']\n",
       "maps: array([     0.6498,     0.89135,     0.95615,      0.9846])\n",
       "names: {0: 'Normal', 1: 'Stage I', 2: 'Stage II', 3: 'Stage III'}\n",
       "plot: True\n",
       "results_dict: {'metrics/precision(B)': 0.9017872316268147, 'metrics/recall(B)': 0.8590838373261309, 'metrics/mAP50(B)': 0.9227807275195767, 'metrics/mAP50-95(B)': 0.8704753492899382, 'fitness': 0.8757058871129021}\n",
       "save_dir: WindowsPath('runs/detect/train4')\n",
       "speed: {'preprocess': 1.1095371875134143, 'inference': 120.94678852584336, 'loss': 0.0, 'postprocess': 0.3703347929231413}\n",
       "task: 'detect'"
      ]
     },
     "execution_count": 3,
     "metadata": {},
     "output_type": "execute_result"
    },
    {
     "name": "stdout",
     "output_type": "stream",
     "text": [
      "2024-06-05 18:11:09,065 - clearml.Task - INFO - Completed model upload to https://files.clear.ml/YOLOv8/train4.f842c80da5764f01ab4d57f83f28468a/models/best.pt\n"
     ]
    }
   ],
   "source": [
    "from ultralytics import YOLO\n",
    "\n",
    "model = YOLO(r\"C:\\Users\\zanyi\\OneDrive\\Git hub\\Ai\\BAIR3\\runs\\detect\\train4\\weights\\last.pt\")\n",
    "model.train(resume=True, epochs=60)"
   ]
  },
  {
   "cell_type": "code",
   "execution_count": 9,
   "metadata": {},
   "outputs": [
    {
     "name": "stdout",
     "output_type": "stream",
     "text": [
      "\n",
      "image 1/1 C:\\Users\\zanyi\\OneDrive\\Git hub\\Ai\\BAIR3\\HumanLung40x.jpg: 256x416 1 Stage I, 84.0ms\n",
      "Speed: 1.0ms preprocess, 84.0ms inference, 0.0ms postprocess per image at shape (1, 3, 256, 416)\n",
      "Results saved to \u001b[1mruns\\detect\\predict5\u001b[0m\n"
     ]
    }
   ],
   "source": [
    "from ultralytics import YOLO\n",
    "\n",
    "model = YOLO(r\"C:\\Users\\zanyi\\OneDrive\\Git hub\\Ai\\BAIR3\\runs\\detect\\train4\\weights\\best.pt\")\n",
    "results = model.predict(r\"C:\\Users\\zanyi\\OneDrive\\Git hub\\Ai\\BAIR3\\HumanLung40x.jpg\",save=True)"
   ]
  }
 ],
 "metadata": {
  "kernelspec": {
   "display_name": "Python 3",
   "language": "python",
   "name": "python3"
  },
  "language_info": {
   "codemirror_mode": {
    "name": "ipython",
    "version": 3
   },
   "file_extension": ".py",
   "mimetype": "text/x-python",
   "name": "python",
   "nbconvert_exporter": "python",
   "pygments_lexer": "ipython3",
   "version": "3.10.8"
  }
 },
 "nbformat": 4,
 "nbformat_minor": 2
}
