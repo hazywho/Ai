{
 "cells": [
  {
   "cell_type": "code",
   "execution_count": 12,
   "metadata": {},
   "outputs": [
    {
     "name": "stdout",
     "output_type": "stream",
     "text": [
      "\n",
      "image 1/1 C:\\Users\\zanyi\\Downloads\\1438px-Morphological_types_of_acute_lymphoblastic_leukemia.jpg: 544x640 33 Benigns, 34 Earlys, 1 Pre, 45.1ms\n",
      "Speed: 12.0ms preprocess, 45.1ms inference, 5.5ms postprocess per image at shape (1, 3, 544, 640)\n"
     ]
    }
   ],
   "source": [
    "from ultralytics import YOLO\n",
    "model = YOLO(r\"C:\\Users\\zanyi\\OneDrive\\Git hub\\Ai\\best.pt\") # AI model's path\n",
    "results = model.predict(r\"C:\\Users\\zanyi\\Downloads\\1438px-Morphological_types_of_acute_lymphoblastic_leukemia.jpg\") #input input image data file name\n",
    "for result in results:\n",
    "    result.save(filename= \"new.jpg\")\n",
    "#press play"
   ]
  },
  {
   "cell_type": "code",
   "execution_count": null,
   "metadata": {},
   "outputs": [],
   "source": []
  }
 ],
 "metadata": {
  "kernelspec": {
   "display_name": "Python 3",
   "language": "python",
   "name": "python3"
  },
  "language_info": {
   "codemirror_mode": {
    "name": "ipython",
    "version": 3
   },
   "file_extension": ".py",
   "mimetype": "text/x-python",
   "name": "python",
   "nbconvert_exporter": "python",
   "pygments_lexer": "ipython3",
   "version": "3.10.8"
  }
 },
 "nbformat": 4,
 "nbformat_minor": 2
}
