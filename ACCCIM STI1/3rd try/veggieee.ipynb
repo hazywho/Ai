{
 "cells": [
  {
   "cell_type": "code",
   "execution_count": 1,
   "metadata": {},
   "outputs": [
    {
     "name": "stdout",
     "output_type": "stream",
     "text": [
      "Defaulting to user installation because normal site-packages is not writeable\n",
      "Requirement already satisfied: roboflow in c:\\program files\\python310\\lib\\site-packages (1.1.30)\n",
      "Requirement already satisfied: certifi==2023.7.22 in c:\\program files\\python310\\lib\\site-packages (from roboflow) (2023.7.22)\n",
      "Requirement already satisfied: chardet==4.0.0 in c:\\program files\\python310\\lib\\site-packages (from roboflow) (4.0.0)\n",
      "Requirement already satisfied: cycler==0.10.0 in c:\\program files\\python310\\lib\\site-packages (from roboflow) (0.10.0)\n",
      "Requirement already satisfied: idna==2.10 in c:\\program files\\python310\\lib\\site-packages (from roboflow) (2.10)\n",
      "Requirement already satisfied: kiwisolver>=1.3.1 in c:\\users\\zanyi\\appdata\\roaming\\python\\python310\\site-packages (from roboflow) (1.4.4)\n",
      "Requirement already satisfied: matplotlib in c:\\users\\zanyi\\appdata\\roaming\\python\\python310\\site-packages (from roboflow) (3.7.1)\n",
      "Requirement already satisfied: numpy>=1.18.5 in c:\\users\\zanyi\\appdata\\roaming\\python\\python310\\site-packages (from roboflow) (1.23.4)\n",
      "Requirement already satisfied: opencv-python-headless==4.8.0.74 in c:\\program files\\python310\\lib\\site-packages (from roboflow) (4.8.0.74)\n",
      "Requirement already satisfied: Pillow>=7.1.2 in c:\\users\\zanyi\\appdata\\roaming\\python\\python310\\site-packages (from roboflow) (10.4.0)\n",
      "Requirement already satisfied: python-dateutil in c:\\users\\zanyi\\appdata\\roaming\\python\\python310\\site-packages (from roboflow) (2.8.2)\n",
      "Requirement already satisfied: python-dotenv in c:\\users\\zanyi\\appdata\\roaming\\python\\python310\\site-packages (from roboflow) (1.0.1)\n",
      "Requirement already satisfied: requests in c:\\users\\zanyi\\appdata\\roaming\\python\\python310\\site-packages (from roboflow) (2.31.0)\n",
      "Requirement already satisfied: six in c:\\users\\zanyi\\appdata\\roaming\\python\\python310\\site-packages (from roboflow) (1.16.0)\n",
      "Requirement already satisfied: urllib3>=1.26.6 in c:\\users\\zanyi\\appdata\\roaming\\python\\python310\\site-packages (from roboflow) (2.0.3)\n",
      "Requirement already satisfied: tqdm>=4.41.0 in c:\\users\\zanyi\\appdata\\roaming\\python\\python310\\site-packages (from roboflow) (4.65.0)\n",
      "Requirement already satisfied: PyYAML>=5.3.1 in c:\\users\\zanyi\\appdata\\roaming\\python\\python310\\site-packages (from roboflow) (6.0)\n",
      "Requirement already satisfied: requests-toolbelt in c:\\users\\zanyi\\appdata\\roaming\\python\\python310\\site-packages (from roboflow) (1.0.0)\n",
      "Requirement already satisfied: python-magic in c:\\users\\zanyi\\appdata\\roaming\\python\\python310\\site-packages (from roboflow) (0.4.27)\n",
      "Requirement already satisfied: colorama in c:\\users\\zanyi\\appdata\\roaming\\python\\python310\\site-packages (from tqdm>=4.41.0->roboflow) (0.4.5)\n",
      "Requirement already satisfied: contourpy>=1.0.1 in c:\\users\\zanyi\\appdata\\roaming\\python\\python310\\site-packages (from matplotlib->roboflow) (1.0.7)\n",
      "Requirement already satisfied: fonttools>=4.22.0 in c:\\users\\zanyi\\appdata\\roaming\\python\\python310\\site-packages (from matplotlib->roboflow) (4.39.4)\n",
      "Requirement already satisfied: packaging>=20.0 in c:\\users\\zanyi\\appdata\\roaming\\python\\python310\\site-packages (from matplotlib->roboflow) (21.3)\n",
      "Requirement already satisfied: pyparsing>=2.3.1 in c:\\users\\zanyi\\appdata\\roaming\\python\\python310\\site-packages (from matplotlib->roboflow) (3.0.9)\n",
      "Requirement already satisfied: charset-normalizer<4,>=2 in c:\\users\\zanyi\\appdata\\roaming\\python\\python310\\site-packages (from requests->roboflow) (2.1.1)\n",
      "loading Roboflow workspace...\n",
      "loading Roboflow project...\n",
      "Dependency ultralytics==8.0.196 is required but found version=8.2.28, to fix: `pip install ultralytics==8.0.196`\n"
     ]
    },
    {
     "name": "stderr",
     "output_type": "stream",
     "text": [
      "Downloading Dataset Version Zip in FruitDetector-2 to yolov8:: 100%|██████████| 19525/19525 [00:24<00:00, 811.41it/s] "
     ]
    },
    {
     "name": "stdout",
     "output_type": "stream",
     "text": [
      "\n"
     ]
    },
    {
     "name": "stderr",
     "output_type": "stream",
     "text": [
      "\n",
      "Extracting Dataset Version Zip to FruitDetector-2 in yolov8:: 100%|██████████| 848/848 [00:01<00:00, 681.92it/s]\n"
     ]
    }
   ],
   "source": [
    "!pip install roboflow\n",
    "\n",
    "from roboflow import Roboflow\n",
    "rf = Roboflow(api_key=\"TxIGi1xnNFU9liy45wew\")\n",
    "project = rf.workspace(\"hezy-kouog\").project(\"fruitdetector-uhbrs\")\n",
    "version = project.version(2)\n",
    "dataset = version.download(\"yolov8\")\n"
   ]
  },
  {
   "cell_type": "code",
   "execution_count": 2,
   "metadata": {},
   "outputs": [
    {
     "name": "stdout",
     "output_type": "stream",
     "text": [
      "New https://pypi.org/project/ultralytics/8.2.59 available  Update with 'pip install -U ultralytics'\n",
      "Ultralytics YOLOv8.2.28  Python-3.10.8 torch-2.3.1+cu121 CUDA:0 (NVIDIA GeForce RTX 2060 with Max-Q Design, 6144MiB)\n",
      "\u001b[34m\u001b[1mengine\\trainer: \u001b[0mtask=detect, mode=train, model=C:\\Users\\zanyi\\OneDrive\\Git hub\\Ai\\ACCCIM STI1\\3rd try\\runs\\detect\\train\\weights\\best.pt, data=C:\\Users\\zanyi\\OneDrive\\Git hub\\Ai\\ACCCIM STI1\\2ndTry\\Vegetables-1\\data.yaml, epochs=60, time=None, patience=100, batch=16, imgsz=640, save=True, save_period=-1, cache=False, device=None, workers=8, project=None, name=train2, exist_ok=False, pretrained=True, optimizer=auto, verbose=True, seed=0, deterministic=True, single_cls=False, rect=False, cos_lr=False, close_mosaic=10, resume=False, amp=True, fraction=1.0, profile=False, freeze=None, multi_scale=False, overlap_mask=True, mask_ratio=4, dropout=0.0, val=True, split=val, save_json=False, save_hybrid=False, conf=None, iou=0.7, max_det=300, half=False, dnn=False, plots=True, source=C:\\Users\\zanyi\\OneDrive\\Git hub\\Ai\\ACCCIM STI1\\3rd try\\FruitDetector-2\\data.yaml, vid_stride=1, stream_buffer=False, visualize=False, augment=False, agnostic_nms=False, classes=None, retina_masks=False, embed=None, show=False, save_frames=False, save_txt=False, save_conf=False, save_crop=False, show_labels=True, show_conf=True, show_boxes=True, line_width=None, format=torchscript, keras=False, optimize=False, int8=False, dynamic=False, simplify=False, opset=None, workspace=4, nms=False, lr0=0.01, lrf=0.01, momentum=0.937, weight_decay=0.0005, warmup_epochs=3.0, warmup_momentum=0.8, warmup_bias_lr=0.1, box=7.5, cls=0.5, dfl=1.5, pose=12.0, kobj=1.0, label_smoothing=0.0, nbs=64, hsv_h=0.015, hsv_s=0.7, hsv_v=0.4, degrees=0.0, translate=0.1, scale=0.5, shear=0.0, perspective=0.0, flipud=0.0, fliplr=0.5, bgr=0.0, mosaic=1.0, mixup=0.0, copy_paste=0.0, auto_augment=randaugment, erasing=0.4, crop_fraction=1.0, cfg=None, tracker=botsort.yaml, save_dir=runs\\detect\\train2\n",
      "WARNING  no model scale passed. Assuming scale='n'.\n",
      "\n",
      "                   from  n    params  module                                       arguments                     \n",
      "  0                  -1  1       464  ultralytics.nn.modules.conv.Conv             [3, 16, 3, 2]                 \n",
      "  1                  -1  1      4672  ultralytics.nn.modules.conv.Conv             [16, 32, 3, 2]                \n",
      "  2                  -1  1      7360  ultralytics.nn.modules.block.C2f             [32, 32, 1, True]             \n",
      "  3                  -1  1     18560  ultralytics.nn.modules.conv.Conv             [32, 64, 3, 2]                \n",
      "  4                  -1  2     49664  ultralytics.nn.modules.block.C2f             [64, 64, 2, True]             \n",
      "  5                  -1  1     73984  ultralytics.nn.modules.conv.Conv             [64, 128, 3, 2]               \n",
      "  6                  -1  2    197632  ultralytics.nn.modules.block.C2f             [128, 128, 2, True]           \n",
      "  7                  -1  1    295424  ultralytics.nn.modules.conv.Conv             [128, 256, 3, 2]              \n",
      "  8                  -1  1    460288  ultralytics.nn.modules.block.C2f             [256, 256, 1, True]           \n",
      "  9                  -1  1    164608  ultralytics.nn.modules.block.SPPF            [256, 256, 5]                 \n",
      " 10                  -1  1         0  torch.nn.modules.upsampling.Upsample         [None, 2, 'nearest']          \n",
      " 11             [-1, 6]  1         0  ultralytics.nn.modules.conv.Concat           [1]                           \n",
      " 12                  -1  1    148224  ultralytics.nn.modules.block.C2f             [384, 128, 1]                 \n",
      " 13                  -1  1         0  torch.nn.modules.upsampling.Upsample         [None, 2, 'nearest']          \n",
      " 14             [-1, 4]  1         0  ultralytics.nn.modules.conv.Concat           [1]                           \n",
      " 15                  -1  1     37248  ultralytics.nn.modules.block.C2f             [192, 64, 1]                  \n",
      " 16                  -1  1     36992  ultralytics.nn.modules.conv.Conv             [64, 64, 3, 2]                \n",
      " 17            [-1, 12]  1         0  ultralytics.nn.modules.conv.Concat           [1]                           \n",
      " 18                  -1  1    123648  ultralytics.nn.modules.block.C2f             [192, 128, 1]                 \n",
      " 19                  -1  1    147712  ultralytics.nn.modules.conv.Conv             [128, 128, 3, 2]              \n",
      " 20             [-1, 9]  1         0  ultralytics.nn.modules.conv.Concat           [1]                           \n",
      " 21                  -1  1    493056  ultralytics.nn.modules.block.C2f             [384, 256, 1]                 \n",
      " 22        [15, 18, 21]  1    756382  ultralytics.nn.modules.head.Detect           [26, [64, 128, 256]]          \n",
      "YOLOv8 summary: 225 layers, 3015918 parameters, 3015902 gradients, 8.2 GFLOPs\n",
      "\n",
      "Transferred 355/355 items from pretrained weights\n",
      "ClearML Task: created new task id=20bca17044934a9d8a3b57f83faba80c\n",
      "2024-07-18 13:51:25,779 - clearml.Task - INFO - Storing jupyter notebook directly as code\n",
      "WARNING:tensorflow:Please fix your imports. Module tensorflow.python.training.tracking.util has been moved to tensorflow.python.checkpoint.checkpoint. The old module will be deleted in version 2.11.\n",
      "ClearML results page: https://app.clear.ml/projects/34e8998891b1424a97df5324d4dcbc9b/experiments/20bca17044934a9d8a3b57f83faba80c/output/log\n",
      "ClearML Initialized a new task. If you want to run remotely, please add clearml-init and connect your arguments before initializing YOLO.\n"
     ]
    },
    {
     "name": "stderr",
     "output_type": "stream",
     "text": [
      "\u001b[1;38;5;214mCOMET WARNING:\u001b[0m To get all data logged automatically, import comet_ml before the following modules: torch.\n",
      "\u001b[1;38;5;214mCOMET WARNING:\u001b[0m As you are running in a Jupyter environment, you will need to call `experiment.end()` when finished to ensure all metrics and code are logged before exiting.\n",
      "\u001b[1;38;5;39mCOMET INFO:\u001b[0m Experiment is live on comet.com https://www.comet.com/hazywho/general/52b837447ae34ab9bdfb5aff4ac3ce12\n",
      "\n"
     ]
    },
    {
     "name": "stdout",
     "output_type": "stream",
     "text": [
      "\u001b[34m\u001b[1mTensorBoard: \u001b[0mStart with 'tensorboard --logdir runs\\detect\\train2', view at http://localhost:6006/\n",
      "Freezing layer 'model.22.dfl.conv.weight'\n",
      "\u001b[34m\u001b[1mAMP: \u001b[0mrunning Automatic Mixed Precision (AMP) checks with YOLOv8n...\n",
      "\u001b[34m\u001b[1mAMP: \u001b[0mchecks passed \n"
     ]
    },
    {
     "name": "stderr",
     "output_type": "stream",
     "text": [
      "\u001b[34m\u001b[1mtrain: \u001b[0mScanning C:\\Users\\zanyi\\OneDrive\\Git hub\\Ai\\ACCCIM STI1\\2ndTry\\Vegetables-1\\train\\labels.cache... 19116 images, 0 backgrounds, 0 corrupt: 100%|██████████| 19116/19116 [00:00<?, ?it/s]"
     ]
    },
    {
     "name": "stdout",
     "output_type": "stream",
     "text": [
      "\u001b[34m\u001b[1mtrain: \u001b[0mWARNING  C:\\Users\\zanyi\\OneDrive\\Git hub\\Ai\\ACCCIM STI1\\2ndTry\\Vegetables-1\\train\\images\\-----------------17_jpg.rf.c241b18ffb9d19023d2d534b02541219.jpg: 1 duplicate labels removed\n",
      "\u001b[34m\u001b[1mtrain: \u001b[0mWARNING  C:\\Users\\zanyi\\OneDrive\\Git hub\\Ai\\ACCCIM STI1\\2ndTry\\Vegetables-1\\train\\images\\-----------------2_jpg.rf.d9e88b1fe619552dba74ede45e8b9d24.jpg: 1 duplicate labels removed\n",
      "\u001b[34m\u001b[1mtrain: \u001b[0mWARNING  C:\\Users\\zanyi\\OneDrive\\Git hub\\Ai\\ACCCIM STI1\\2ndTry\\Vegetables-1\\train\\images\\-----------------30_jpg.rf.112ecfe1a08f3e2efaf9888b057fbcd6.jpg: 1 duplicate labels removed\n",
      "\u001b[34m\u001b[1mtrain: \u001b[0mWARNING  C:\\Users\\zanyi\\OneDrive\\Git hub\\Ai\\ACCCIM STI1\\2ndTry\\Vegetables-1\\train\\images\\-----------------36_jpg.rf.1aa83f2f6efa0c0d8e708cb5340ea1b6.jpg: 1 duplicate labels removed\n",
      "\u001b[34m\u001b[1mtrain: \u001b[0mWARNING  C:\\Users\\zanyi\\OneDrive\\Git hub\\Ai\\ACCCIM STI1\\2ndTry\\Vegetables-1\\train\\images\\-----------------38_jpg.rf.a92c598d8e392d026f694b8f855db812.jpg: 1 duplicate labels removed\n",
      "\u001b[34m\u001b[1mtrain: \u001b[0mWARNING  C:\\Users\\zanyi\\OneDrive\\Git hub\\Ai\\ACCCIM STI1\\2ndTry\\Vegetables-1\\train\\images\\-----------------40_jpg.rf.60cfdd0b77a55b1fc1bdb9c280e12fca.jpg: 1 duplicate labels removed\n",
      "\u001b[34m\u001b[1mtrain: \u001b[0mWARNING  C:\\Users\\zanyi\\OneDrive\\Git hub\\Ai\\ACCCIM STI1\\2ndTry\\Vegetables-1\\train\\images\\-----------------54_jpg.rf.a5e860d6f9c33439aa36a3c11475881a.jpg: 1 duplicate labels removed\n",
      "\u001b[34m\u001b[1mtrain: \u001b[0mWARNING  C:\\Users\\zanyi\\OneDrive\\Git hub\\Ai\\ACCCIM STI1\\2ndTry\\Vegetables-1\\train\\images\\-----------------63_jpg.rf.7a546a80e42e83b67278f9370f154bea.jpg: 1 duplicate labels removed\n",
      "\u001b[34m\u001b[1mtrain: \u001b[0mWARNING  C:\\Users\\zanyi\\OneDrive\\Git hub\\Ai\\ACCCIM STI1\\2ndTry\\Vegetables-1\\train\\images\\-------------69_jpg.rf.356ffc6a6ddea4d505dca203481a0d70.jpg: 1 duplicate labels removed\n",
      "\u001b[34m\u001b[1mtrain: \u001b[0mWARNING  C:\\Users\\zanyi\\OneDrive\\Git hub\\Ai\\ACCCIM STI1\\2ndTry\\Vegetables-1\\train\\images\\---------25_jpg.rf.43ee5237f678d6f281e489a21b08a790.jpg: 1 duplicate labels removed\n",
      "\u001b[34m\u001b[1mtrain: \u001b[0mWARNING  C:\\Users\\zanyi\\OneDrive\\Git hub\\Ai\\ACCCIM STI1\\2ndTry\\Vegetables-1\\train\\images\\--------10_jpg.rf.e8e07b20881ff3a0e6dd04c97c8affcd.jpg: 1 duplicate labels removed\n",
      "\u001b[34m\u001b[1mtrain: \u001b[0mWARNING  C:\\Users\\zanyi\\OneDrive\\Git hub\\Ai\\ACCCIM STI1\\2ndTry\\Vegetables-1\\train\\images\\--------19_jpg.rf.7feb6de5ede7b80389df40a3169d033f.jpg: 1 duplicate labels removed\n",
      "\u001b[34m\u001b[1mtrain: \u001b[0mWARNING  C:\\Users\\zanyi\\OneDrive\\Git hub\\Ai\\ACCCIM STI1\\2ndTry\\Vegetables-1\\train\\images\\--------22_jpg.rf.ae96296c9da27a1d8a83acf51e8d603b.jpg: 1 duplicate labels removed\n",
      "\u001b[34m\u001b[1mtrain: \u001b[0mWARNING  C:\\Users\\zanyi\\OneDrive\\Git hub\\Ai\\ACCCIM STI1\\2ndTry\\Vegetables-1\\train\\images\\--------25_jpg.rf.0ebcce38ba330c47500b2d9f0abf772c.jpg: 1 duplicate labels removed\n",
      "\u001b[34m\u001b[1mtrain: \u001b[0mWARNING  C:\\Users\\zanyi\\OneDrive\\Git hub\\Ai\\ACCCIM STI1\\2ndTry\\Vegetables-1\\train\\images\\--------50_jpg.rf.eff42d59a07fd28bfe947eaa8cbf4f99.jpg: 1 duplicate labels removed\n",
      "\u001b[34m\u001b[1mtrain: \u001b[0mWARNING  C:\\Users\\zanyi\\OneDrive\\Git hub\\Ai\\ACCCIM STI1\\2ndTry\\Vegetables-1\\train\\images\\--------5_jpg.rf.9c86f62c08abd9080954dbbfd2c36fcc.jpg: 1 duplicate labels removed\n",
      "\u001b[34m\u001b[1mtrain: \u001b[0mWARNING  C:\\Users\\zanyi\\OneDrive\\Git hub\\Ai\\ACCCIM STI1\\2ndTry\\Vegetables-1\\train\\images\\-------29_jpg.rf.d2d23a51b2c9c2f6c2b61d419f914abf.jpg: 1 duplicate labels removed\n",
      "\u001b[34m\u001b[1mtrain: \u001b[0mWARNING  C:\\Users\\zanyi\\OneDrive\\Git hub\\Ai\\ACCCIM STI1\\2ndTry\\Vegetables-1\\train\\images\\-------38_jpg.rf.07c5508f2c6f16129dbe4edf62094bdc.jpg: 1 duplicate labels removed\n",
      "\u001b[34m\u001b[1mtrain: \u001b[0mWARNING  C:\\Users\\zanyi\\OneDrive\\Git hub\\Ai\\ACCCIM STI1\\2ndTry\\Vegetables-1\\train\\images\\-------45_jpg.rf.ea3b2c9538cdb59d78f1903f3974b653.jpg: 1 duplicate labels removed\n"
     ]
    },
    {
     "name": "stderr",
     "output_type": "stream",
     "text": [
      "\n",
      "\u001b[34m\u001b[1mval: \u001b[0mScanning C:\\Users\\zanyi\\OneDrive\\Git hub\\Ai\\ACCCIM STI1\\2ndTry\\Vegetables-1\\valid\\labels.cache... 795 images, 0 backgrounds, 0 corrupt: 100%|██████████| 795/795 [00:00<?, ?it/s]\n"
     ]
    },
    {
     "name": "stdout",
     "output_type": "stream",
     "text": [
      "ClearML Monitor: Could not detect iteration reporting, falling back to iterations as seconds-from-start\n",
      "Plotting labels to runs\\detect\\train2\\labels.jpg... \n",
      "\u001b[34m\u001b[1moptimizer:\u001b[0m 'optimizer=auto' found, ignoring 'lr0=0.01' and 'momentum=0.937' and determining best 'optimizer', 'lr0' and 'momentum' automatically... \n",
      "\u001b[34m\u001b[1moptimizer:\u001b[0m SGD(lr=0.01, momentum=0.9) with parameter groups 57 weight(decay=0.0), 64 weight(decay=0.0005), 63 bias(decay=0.0)\n",
      "\u001b[34m\u001b[1mTensorBoard: \u001b[0mmodel graph visualization added \n",
      "Image sizes 640 train, 640 val\n",
      "Using 8 dataloader workers\n",
      "Logging results to \u001b[1mruns\\detect\\train2\u001b[0m\n",
      "Starting training for 60 epochs...\n",
      "\n",
      "      Epoch    GPU_mem   box_loss   cls_loss   dfl_loss  Instances       Size\n"
     ]
    },
    {
     "name": "stderr",
     "output_type": "stream",
     "text": [
      "       1/60      2.52G     0.8488     0.7762      1.156        145        640: 100%|██████████| 1195/1195 [24:27<00:00,  1.23s/it]\n",
      "                 Class     Images  Instances      Box(P          R      mAP50  mAP50-95): 100%|██████████| 25/25 [00:26<00:00,  1.06s/it]\n"
     ]
    },
    {
     "name": "stdout",
     "output_type": "stream",
     "text": [
      "                   all        795       2579      0.928      0.893      0.953      0.665\n",
      "\n",
      "      Epoch    GPU_mem   box_loss   cls_loss   dfl_loss  Instances       Size\n"
     ]
    },
    {
     "name": "stderr",
     "output_type": "stream",
     "text": [
      "       2/60      2.86G     0.8724     0.8153      1.167        133        640: 100%|██████████| 1195/1195 [19:31<00:00,  1.02it/s]\n",
      "                 Class     Images  Instances      Box(P          R      mAP50  mAP50-95): 100%|██████████| 25/25 [00:39<00:00,  1.59s/it]\n"
     ]
    },
    {
     "name": "stdout",
     "output_type": "stream",
     "text": [
      "                   all        795       2579       0.91      0.877       0.94      0.622\n",
      "\n",
      "      Epoch    GPU_mem   box_loss   cls_loss   dfl_loss  Instances       Size\n"
     ]
    },
    {
     "name": "stderr",
     "output_type": "stream",
     "text": [
      "       3/60      2.78G     0.9216     0.9046      1.196        149        640: 100%|██████████| 1195/1195 [21:08<00:00,  1.06s/it]\n",
      "                 Class     Images  Instances      Box(P          R      mAP50  mAP50-95): 100%|██████████| 25/25 [00:37<00:00,  1.48s/it]\n"
     ]
    },
    {
     "name": "stdout",
     "output_type": "stream",
     "text": [
      "                   all        795       2579      0.882      0.837      0.915      0.604\n",
      "\n",
      "      Epoch    GPU_mem   box_loss   cls_loss   dfl_loss  Instances       Size\n"
     ]
    },
    {
     "name": "stderr",
     "output_type": "stream",
     "text": [
      "       4/60      2.79G     0.9656      1.005      1.224        140        640: 100%|██████████| 1195/1195 [21:39<00:00,  1.09s/it]\n",
      "                 Class     Images  Instances      Box(P          R      mAP50  mAP50-95): 100%|██████████| 25/25 [00:41<00:00,  1.65s/it]\n"
     ]
    },
    {
     "name": "stdout",
     "output_type": "stream",
     "text": [
      "                   all        795       2579      0.877      0.812      0.897      0.574\n",
      "\n",
      "      Epoch    GPU_mem   box_loss   cls_loss   dfl_loss  Instances       Size\n"
     ]
    },
    {
     "name": "stderr",
     "output_type": "stream",
     "text": [
      "       5/60      2.55G     0.9683      1.016      1.227        171        640:  94%|█████████▎| 1118/1195 [19:49<02:56,  2.29s/it]Retrying (Retry(total=237, connect=237, read=240, redirect=240, status=240)) after connection broken by 'NameResolutionError(\"<urllib3.connection.HTTPSConnection object at 0x000002929AB21E40>: Failed to resolve 'api.clear.ml' ([Errno 11001] getaddrinfo failed)\")': /v2.23/events.add_batch\n",
      "       5/60      2.55G     0.9682      1.016      1.227        231        640:  94%|█████████▎| 1120/1195 [19:52<02:16,  1.83s/it]Retrying (Retry(total=237, connect=238, read=239, redirect=240, status=240)) after connection broken by 'NameResolutionError(\"<urllib3.connection.HTTPSConnection object at 0x000002929AB22590>: Failed to resolve 'api.clear.ml' ([Errno 11001] getaddrinfo failed)\")': /v2.23/tasks.ping\n",
      "       5/60      2.55G     0.9683      1.016      1.227        204        640:  95%|█████████▍| 1133/1195 [20:07<00:56,  1.09it/s]Retrying (Retry(total=2, connect=3, read=5, redirect=5, status=None)) after connection broken by 'NameResolutionError(\"<urllib3.connection.HTTPSConnection object at 0x000002929A0F1300>: Failed to resolve 'files.clear.ml' ([Errno 11001] getaddrinfo failed)\")': /\n",
      "       5/60      2.55G     0.9683      1.016      1.227        248        640:  95%|█████████▌| 1137/1195 [20:11<00:58,  1.01s/it]Retrying (Retry(total=1, connect=2, read=5, redirect=5, status=None)) after connection broken by 'NameResolutionError(\"<urllib3.connection.HTTPSConnection object at 0x000002929AB22AD0>: Failed to resolve 'files.clear.ml' ([Errno 11001] getaddrinfo failed)\")': /\n",
      "       5/60      2.55G     0.9683      1.016      1.227        219        640:  96%|█████████▌| 1149/1195 [20:24<00:43,  1.05it/s]Retrying (Retry(total=237, connect=237, read=240, redirect=240, status=240)) after connection broken by 'NameResolutionError(\"<urllib3.connection.HTTPSConnection object at 0x00000292995335E0>: Failed to resolve 'api.clear.ml' ([Errno 11001] getaddrinfo failed)\")': /v2.23/events.add_batch\n",
      "Retrying (Retry(total=237, connect=237, read=240, redirect=240, status=240)) after connection broken by 'NameResolutionError(\"<urllib3.connection.HTTPSConnection object at 0x0000029299532830>: Failed to resolve 'api.clear.ml' ([Errno 11001] getaddrinfo failed)\")': /v2.23/events.add_batch\n",
      "       5/60      2.55G     0.9683      1.016      1.227        207        640:  96%|█████████▋| 1152/1195 [20:27<00:39,  1.09it/s]Retrying (Retry(total=236, connect=237, read=239, redirect=240, status=240)) after connection broken by 'NewConnectionError('<urllib3.connection.HTTPSConnection object at 0x0000029299533190>: Failed to establish a new connection: [WinError 10065] A socket operation was attempted to an unreachable host')': /v2.23/tasks.ping\n",
      "       5/60      2.55G     0.9683      1.016      1.227        276        640:  97%|█████████▋| 1155/1195 [20:30<00:36,  1.09it/s]Retrying (Retry(total=0, connect=1, read=5, redirect=5, status=None)) after connection broken by 'NameResolutionError(\"<urllib3.connection.HTTPSConnection object at 0x00000292995315D0>: Failed to resolve 'files.clear.ml' ([Errno 11001] getaddrinfo failed)\")': /\n",
      "       5/60      2.55G     0.9682      1.016      1.227        195        640:  97%|█████████▋| 1158/1195 [20:33<00:37,  1.03s/it]Retrying (Retry(total=236, connect=236, read=240, redirect=240, status=240)) after connection broken by 'NameResolutionError(\"<urllib3.connection.HTTPSConnection object at 0x0000029299532E30>: Failed to resolve 'api.clear.ml' ([Errno 11001] getaddrinfo failed)\")': /v2.23/events.add_batch\n",
      "\u001b[1;38;5;196mCOMET ERROR:\u001b[0m Heartbeat processing error\n",
      "Retrying (Retry(total=236, connect=236, read=240, redirect=240, status=240)) after connection broken by 'NameResolutionError(\"<urllib3.connection.HTTPSConnection object at 0x0000029299533CD0>: Failed to resolve 'api.clear.ml' ([Errno 11001] getaddrinfo failed)\")': /v2.23/events.add_batch\n",
      "Retrying (Retry(total=2, connect=2, read=5, redirect=5, status=None)) after connection broken by 'NameResolutionError(\"<urllib3.connection.HTTPSConnection object at 0x0000029299532B00>: Failed to resolve 'files.clear.ml' ([Errno 11001] getaddrinfo failed)\")': /\n",
      "       5/60      2.55G     0.9682      1.016      1.227        267        640:  97%|█████████▋| 1160/1195 [20:37<00:51,  1.49s/it]Retrying (Retry(total=1, connect=1, read=5, redirect=5, status=None)) after connection broken by 'NameResolutionError(\"<urllib3.connection.HTTPSConnection object at 0x0000029299531930>: Failed to resolve 'files.clear.ml' ([Errno 11001] getaddrinfo failed)\")': /\n",
      "       5/60      2.55G     0.9682      1.016      1.227        212        640:  97%|█████████▋| 1163/1195 [20:43<01:00,  1.88s/it]Retrying (Retry(total=235, connect=236, read=239, redirect=240, status=240)) after connection broken by 'NameResolutionError(\"<urllib3.connection.HTTPSConnection object at 0x0000029299533940>: Failed to resolve 'api.clear.ml' ([Errno 11001] getaddrinfo failed)\")': /v2.23/tasks.ping\n",
      "       5/60      2.55G     0.9681      1.016      1.227        210        640:  97%|█████████▋| 1164/1195 [20:45<01:00,  1.96s/it]Retrying (Retry(total=0, connect=0, read=5, redirect=5, status=None)) after connection broken by 'NameResolutionError(\"<urllib3.connection.HTTPSConnection object at 0x0000029299532D40>: Failed to resolve 'files.clear.ml' ([Errno 11001] getaddrinfo failed)\")': /\n",
      "       5/60      2.55G     0.9681      1.016      1.227        255        640:  97%|█████████▋| 1165/1195 [20:47<00:59,  1.97s/it]Retrying (Retry(total=2, connect=2, read=5, redirect=5, status=None)) after connection broken by 'NameResolutionError(\"<urllib3.connection.HTTPSConnection object at 0x000002929A036B60>: Failed to resolve 'files.clear.ml' ([Errno 11001] getaddrinfo failed)\")': /\n",
      "Retrying (Retry(total=235, connect=235, read=240, redirect=240, status=240)) after connection broken by 'NameResolutionError(\"<urllib3.connection.HTTPSConnection object at 0x0000029299530850>: Failed to resolve 'api.clear.ml' ([Errno 11001] getaddrinfo failed)\")': /v2.23/events.add_batch\n",
      "Retrying (Retry(total=235, connect=235, read=240, redirect=240, status=240)) after connection broken by 'NameResolutionError(\"<urllib3.connection.HTTPSConnection object at 0x0000029299533850>: Failed to resolve 'api.clear.ml' ([Errno 11001] getaddrinfo failed)\")': /v2.23/events.add_batch\n",
      "       5/60      2.55G      0.968      1.016      1.227        239        640:  98%|█████████▊| 1166/1195 [20:52<01:18,  2.71s/it]Retrying (Retry(total=1, connect=1, read=5, redirect=5, status=None)) after connection broken by 'NameResolutionError(\"<urllib3.connection.HTTPSConnection object at 0x000002929A0347F0>: Failed to resolve 'files.clear.ml' ([Errno 11001] getaddrinfo failed)\")': /\n",
      "       5/60      2.55G      0.968      1.016      1.227        228        640:  98%|█████████▊| 1169/1195 [21:00<01:07,  2.61s/it]Retrying (Retry(total=0, connect=0, read=5, redirect=5, status=None)) after connection broken by 'NameResolutionError(\"<urllib3.connection.HTTPSConnection object at 0x000002929A034A30>: Failed to resolve 'files.clear.ml' ([Errno 11001] getaddrinfo failed)\")': /\n"
     ]
    },
    {
     "name": "stdout",
     "output_type": "stream",
     "text": [
      "2024-07-18 15:47:40,554 - clearml.storage - ERROR - Exception encountered while uploading HTTPSConnectionPool(host='files.clear.ml', port=443): Max retries exceeded with url: / (Caused by NameResolutionError(\"<urllib3.connection.HTTPSConnection object at 0x000002929A0361D0>: Failed to resolve 'files.clear.ml' ([Errno 11001] getaddrinfo failed)\"))\n"
     ]
    },
    {
     "name": "stderr",
     "output_type": "stream",
     "text": [
      "       5/60      2.55G     0.9677      1.016      1.227        219        640:  99%|█████████▊| 1178/1195 [21:15<00:28,  1.67s/it]Retrying (Retry(total=234, connect=235, read=239, redirect=240, status=240)) after connection broken by 'NameResolutionError(\"<urllib3.connection.HTTPSConnection object at 0x0000029299530FD0>: Failed to resolve 'api.clear.ml' ([Errno 11001] getaddrinfo failed)\")': /v2.23/tasks.ping\n",
      "       5/60      2.55G     0.9679      1.016      1.227        253        640:  99%|█████████▉| 1181/1195 [21:20<00:22,  1.59s/it]Retrying (Retry(total=234, connect=234, read=240, redirect=240, status=240)) after connection broken by 'NameResolutionError(\"<urllib3.connection.HTTPSConnection object at 0x000002929A036260>: Failed to resolve 'api.clear.ml' ([Errno 11001] getaddrinfo failed)\")': /v2.23/events.add_batch\n",
      "Retrying (Retry(total=234, connect=234, read=240, redirect=240, status=240)) after connection broken by 'NameResolutionError(\"<urllib3.connection.HTTPSConnection object at 0x000002929A036DA0>: Failed to resolve 'api.clear.ml' ([Errno 11001] getaddrinfo failed)\")': /v2.23/events.add_batch\n",
      "       5/60      2.55G     0.9678      1.016      1.227        195        640:  99%|█████████▉| 1187/1195 [21:33<00:16,  2.01s/it]Retrying (Retry(total=2, connect=2, read=5, redirect=5, status=None)) after connection broken by 'NameResolutionError(\"<urllib3.connection.HTTPSConnection object at 0x000002929A036E00>: Failed to resolve 'files.clear.ml' ([Errno 11001] getaddrinfo failed)\")': /\n",
      "       5/60      2.55G     0.9679      1.016      1.227        195        640:  99%|█████████▉| 1189/1195 [21:37<00:11,  1.95s/it]Retrying (Retry(total=1, connect=1, read=5, redirect=5, status=None)) after connection broken by 'NameResolutionError(\"<urllib3.connection.HTTPSConnection object at 0x0000029299532770>: Failed to resolve 'files.clear.ml' ([Errno 11001] getaddrinfo failed)\")': /\n",
      "       5/60      2.55G     0.9678      1.016      1.227        158        640: 100%|█████████▉| 1193/1195 [21:46<00:03,  1.97s/it]Retrying (Retry(total=0, connect=0, read=5, redirect=5, status=None)) after connection broken by 'NameResolutionError(\"<urllib3.connection.HTTPSConnection object at 0x000002929A7EEB60>: Failed to resolve 'files.clear.ml' ([Errno 11001] getaddrinfo failed)\")': /\n",
      "       5/60      2.55G     0.9677      1.016      1.227        145        640: 100%|██████████| 1195/1195 [21:50<00:00,  2.02s/it]Retrying (Retry(total=2, connect=2, read=5, redirect=5, status=None)) after connection broken by 'NameResolutionError(\"<urllib3.connection.HTTPSConnection object at 0x000002929A7EE6B0>: Failed to resolve 'files.clear.ml' ([Errno 11001] getaddrinfo failed)\")': /\n",
      "       5/60      2.55G     0.9677      1.016      1.227        145        640: 100%|██████████| 1195/1195 [21:50<00:00,  1.10s/it]\n",
      "                 Class     Images  Instances      Box(P          R      mAP50  mAP50-95):   0%|          | 0/25 [00:00<?, ?it/s]Retrying (Retry(total=1, connect=1, read=5, redirect=5, status=None)) after connection broken by 'NameResolutionError(\"<urllib3.connection.HTTPSConnection object at 0x000002929A7EE230>: Failed to resolve 'files.clear.ml' ([Errno 11001] getaddrinfo failed)\")': /\n",
      "                 Class     Images  Instances      Box(P          R      mAP50  mAP50-95):   8%|▊         | 2/25 [00:10<01:53,  4.95s/it]Retrying (Retry(total=0, connect=0, read=5, redirect=5, status=None)) after connection broken by 'NameResolutionError(\"<urllib3.connection.HTTPSConnection object at 0x000002929A7EF520>: Failed to resolve 'files.clear.ml' ([Errno 11001] getaddrinfo failed)\")': /\n",
      "                 Class     Images  Instances      Box(P          R      mAP50  mAP50-95):  12%|█▏        | 3/25 [00:14<01:44,  4.74s/it]Retrying (Retry(total=2, connect=2, read=5, redirect=5, status=None)) after connection broken by 'NameResolutionError(\"<urllib3.connection.HTTPSConnection object at 0x000002929A9ADDB0>: Failed to resolve 'files.clear.ml' ([Errno 11001] getaddrinfo failed)\")': /\n",
      "                 Class     Images  Instances      Box(P          R      mAP50  mAP50-95):  20%|██        | 5/25 [00:19<01:03,  3.19s/it]Retrying (Retry(total=1, connect=1, read=5, redirect=5, status=None)) after connection broken by 'NameResolutionError(\"<urllib3.connection.HTTPSConnection object at 0x000002929A9AD6C0>: Failed to resolve 'files.clear.ml' ([Errno 11001] getaddrinfo failed)\")': /\n",
      "                 Class     Images  Instances      Box(P          R      mAP50  mAP50-95):  32%|███▏      | 8/25 [00:26<00:43,  2.55s/it]Retrying (Retry(total=0, connect=0, read=5, redirect=5, status=None)) after connection broken by 'NameResolutionError(\"<urllib3.connection.HTTPSConnection object at 0x000002929A9AC100>: Failed to resolve 'files.clear.ml' ([Errno 11001] getaddrinfo failed)\")': /\n"
     ]
    },
    {
     "name": "stdout",
     "output_type": "stream",
     "text": [
      "2024-07-18 15:48:57,202 - clearml.storage - ERROR - Exception encountered while uploading HTTPSConnectionPool(host='files.clear.ml', port=443): Max retries exceeded with url: / (Caused by NameResolutionError(\"<urllib3.connection.HTTPSConnection object at 0x000002929A9ADFF0>: Failed to resolve 'files.clear.ml' ([Errno 11001] getaddrinfo failed)\"))\n"
     ]
    },
    {
     "name": "stderr",
     "output_type": "stream",
     "text": [
      "                 Class     Images  Instances      Box(P          R      mAP50  mAP50-95):  36%|███▌      | 9/25 [00:28<00:41,  2.57s/it]Retrying (Retry(total=233, connect=234, read=239, redirect=240, status=240)) after connection broken by 'NameResolutionError(\"<urllib3.connection.HTTPSConnection object at 0x000002929A034E80>: Failed to resolve 'api.clear.ml' ([Errno 11001] getaddrinfo failed)\")': /v2.23/tasks.ping\n",
      "                 Class     Images  Instances      Box(P          R      mAP50  mAP50-95):  44%|████▍     | 11/25 [00:33<00:33,  2.39s/it]Retrying (Retry(total=233, connect=233, read=240, redirect=240, status=240)) after connection broken by 'NameResolutionError(\"<urllib3.connection.HTTPSConnection object at 0x000002929A0367D0>: Failed to resolve 'api.clear.ml' ([Errno 11001] getaddrinfo failed)\")': /v2.23/events.add_batch\n",
      "                 Class     Images  Instances      Box(P          R      mAP50  mAP50-95):  48%|████▊     | 12/25 [00:36<00:33,  2.55s/it]Retrying (Retry(total=233, connect=233, read=240, redirect=240, status=240)) after connection broken by 'NameResolutionError(\"<urllib3.connection.HTTPSConnection object at 0x000002929A037160>: Failed to resolve 'api.clear.ml' ([Errno 11001] getaddrinfo failed)\")': /v2.23/events.add_batch\n",
      "                 Class     Images  Instances      Box(P          R      mAP50  mAP50-95):  84%|████████▍ | 21/25 [00:59<00:10,  2.72s/it]Retrying (Retry(total=2, connect=2, read=5, redirect=5, status=None)) after connection broken by 'NameResolutionError(\"<urllib3.connection.HTTPSConnection object at 0x000002920A860370>: Failed to resolve 'files.clear.ml' ([Errno 11001] getaddrinfo failed)\")': /\n",
      "                 Class     Images  Instances      Box(P          R      mAP50  mAP50-95):  88%|████████▊ | 22/25 [01:02<00:08,  2.86s/it]Retrying (Retry(total=1, connect=1, read=5, redirect=5, status=None)) after connection broken by 'NameResolutionError(\"<urllib3.connection.HTTPSConnection object at 0x000002920A863490>: Failed to resolve 'files.clear.ml' ([Errno 11001] getaddrinfo failed)\")': /\n",
      "                 Class     Images  Instances      Box(P          R      mAP50  mAP50-95): 100%|██████████| 25/25 [01:11<00:00,  2.85s/it]\n"
     ]
    },
    {
     "name": "stdout",
     "output_type": "stream",
     "text": [
      "                   all        795       2579      0.867      0.834      0.906      0.582\n"
     ]
    },
    {
     "name": "stderr",
     "output_type": "stream",
     "text": [
      "Retrying (Retry(total=0, connect=0, read=5, redirect=5, status=None)) after connection broken by 'NameResolutionError(\"<urllib3.connection.HTTPSConnection object at 0x000002929A7EDE10>: Failed to resolve 'files.clear.ml' ([Errno 11001] getaddrinfo failed)\")': /\n"
     ]
    },
    {
     "name": "stdout",
     "output_type": "stream",
     "text": [
      "\n",
      "      Epoch    GPU_mem   box_loss   cls_loss   dfl_loss  Instances       Size\n"
     ]
    },
    {
     "name": "stderr",
     "output_type": "stream",
     "text": [
      "  0%|          | 0/1195 [00:00<?, ?it/s]Retrying (Retry(total=2, connect=2, read=5, redirect=5, status=None)) after connection broken by 'NameResolutionError(\"<urllib3.connection.HTTPSConnection object at 0x0000029299ED1300>: Failed to resolve 'files.clear.ml' ([Errno 11001] getaddrinfo failed)\")': /\n",
      "       6/60      2.36G     0.8692       1.05      1.188        237        640:   0%|          | 2/1195 [00:02<27:26,  1.38s/it]Retrying (Retry(total=1, connect=1, read=5, redirect=5, status=None)) after connection broken by 'NameResolutionError(\"<urllib3.connection.HTTPSConnection object at 0x000002929A034B20>: Failed to resolve 'files.clear.ml' ([Errno 11001] getaddrinfo failed)\")': /\n",
      "       6/60      2.36G     0.9644      1.064      1.237        226        640:   1%|          | 7/1195 [00:10<32:27,  1.64s/it]Retrying (Retry(total=0, connect=0, read=5, redirect=5, status=None)) after connection broken by 'NameResolutionError(\"<urllib3.connection.HTTPSConnection object at 0x000002929A034D60>: Failed to resolve 'files.clear.ml' ([Errno 11001] getaddrinfo failed)\")': /\n",
      "       6/60      2.36G     0.9654      1.038      1.232        229        640:   1%|          | 9/1195 [00:14<31:47,  1.61s/it]Retrying (Retry(total=2, connect=2, read=5, redirect=5, status=None)) after connection broken by 'NameResolutionError(\"<urllib3.connection.HTTPSConnection object at 0x000002929A037400>: Failed to resolve 'files.clear.ml' ([Errno 11001] getaddrinfo failed)\")': /\n",
      "       6/60      2.36G     0.9677      1.027       1.23        231        640:   1%|          | 11/1195 [00:18<37:39,  1.91s/it]Retrying (Retry(total=1, connect=1, read=5, redirect=5, status=None)) after connection broken by 'NameResolutionError(\"<urllib3.connection.HTTPSConnection object at 0x000002929A0352D0>: Failed to resolve 'files.clear.ml' ([Errno 11001] getaddrinfo failed)\")': /\n",
      "       6/60      2.36G     0.9769      1.035      1.228        214        640:   1%|▏         | 15/1195 [00:26<40:05,  2.04s/it]Retrying (Retry(total=0, connect=0, read=5, redirect=5, status=None)) after connection broken by 'NameResolutionError(\"<urllib3.connection.HTTPSConnection object at 0x000002929A037DF0>: Failed to resolve 'files.clear.ml' ([Errno 11001] getaddrinfo failed)\")': /\n"
     ]
    },
    {
     "name": "stdout",
     "output_type": "stream",
     "text": [
      "2024-07-18 15:50:13,312 - clearml.storage - ERROR - Exception encountered while uploading HTTPSConnectionPool(host='files.clear.ml', port=443): Max retries exceeded with url: / (Caused by NameResolutionError(\"<urllib3.connection.HTTPSConnection object at 0x0000029299531930>: Failed to resolve 'files.clear.ml' ([Errno 11001] getaddrinfo failed)\"))\n"
     ]
    },
    {
     "name": "stderr",
     "output_type": "stream",
     "text": [
      "       6/60      2.47G     0.9791      1.036      1.228        328        640:   3%|▎         | 32/1195 [01:00<39:15,  2.03s/it]Retrying (Retry(total=2, connect=2, read=5, redirect=5, status=None)) after connection broken by 'NameResolutionError(\"<urllib3.connection.HTTPSConnection object at 0x00000292995306D0>: Failed to resolve 'files.clear.ml' ([Errno 11001] getaddrinfo failed)\")': /\n",
      "       6/60      2.47G     0.9796      1.035      1.228        224        640:   3%|▎         | 34/1195 [01:03<35:17,  1.82s/it]Retrying (Retry(total=1, connect=1, read=5, redirect=5, status=None)) after connection broken by 'NameResolutionError(\"<urllib3.connection.HTTPSConnection object at 0x000002929AB23520>: Failed to resolve 'files.clear.ml' ([Errno 11001] getaddrinfo failed)\")': /\n",
      "       6/60      2.47G     0.9788      1.027      1.228        223        640:   3%|▎         | 38/1195 [01:11<37:01,  1.92s/it]Retrying (Retry(total=0, connect=0, read=5, redirect=5, status=None)) after connection broken by 'NameResolutionError(\"<urllib3.connection.HTTPSConnection object at 0x000002929A2D9090>: Failed to resolve 'files.clear.ml' ([Errno 11001] getaddrinfo failed)\")': /\n",
      "Retrying (Retry(total=232, connect=233, read=239, redirect=240, status=240)) after connection broken by 'NameResolutionError(\"<urllib3.connection.HTTPSConnection object at 0x000002929A9ADFC0>: Failed to resolve 'api.clear.ml' ([Errno 11001] getaddrinfo failed)\")': /v2.23/tasks.ping\n",
      "       6/60      2.47G     0.9799      1.032      1.229        205        640:   3%|▎         | 39/1195 [01:16<40:56,  2.13s/it]Retrying (Retry(total=2, connect=2, read=5, redirect=5, status=None)) after connection broken by 'NameResolutionError(\"<urllib3.connection.HTTPSConnection object at 0x000002929A2D9870>: Failed to resolve 'files.clear.ml' ([Errno 11001] getaddrinfo failed)\")': /\n",
      "       6/60      2.47G     0.9798      1.035       1.23        194        640:   3%|▎         | 41/1195 [01:18<38:04,  1.98s/it]Retrying (Retry(total=232, connect=232, read=240, redirect=240, status=240)) after connection broken by 'NameResolutionError(\"<urllib3.connection.HTTPSConnection object at 0x000002929A9AF100>: Failed to resolve 'api.clear.ml' ([Errno 11001] getaddrinfo failed)\")': /v2.23/events.add_batch\n",
      "       6/60      2.47G     0.9782      1.034      1.229        205        640:   4%|▎         | 42/1195 [01:19<37:12,  1.94s/it]Retrying (Retry(total=1, connect=1, read=5, redirect=5, status=None)) after connection broken by 'NameResolutionError(\"<urllib3.connection.HTTPSConnection object at 0x000002929A2D8850>: Failed to resolve 'files.clear.ml' ([Errno 11001] getaddrinfo failed)\")': /\n",
      "Retrying (Retry(total=232, connect=232, read=240, redirect=240, status=240)) after connection broken by 'NameResolutionError(\"<urllib3.connection.HTTPSConnection object at 0x000002929A9AE4A0>: Failed to resolve 'api.clear.ml' ([Errno 11001] getaddrinfo failed)\")': /v2.23/events.add_batch\n",
      "       6/60      2.47G     0.9757      1.027      1.228        211        640:   4%|▍         | 45/1195 [01:28<48:30,  2.53s/it]Retrying (Retry(total=0, connect=0, read=5, redirect=5, status=None)) after connection broken by 'NameResolutionError(\"<urllib3.connection.HTTPSConnection object at 0x00000292329AA140>: Failed to resolve 'files.clear.ml' ([Errno 11001] getaddrinfo failed)\")': /\n",
      "       6/60      2.47G     0.9725      1.018      1.232        209        640:  10%|█         | 124/1195 [03:12<23:56,  1.34s/it] Retrying (Retry(total=231, connect=232, read=239, redirect=240, status=240)) after connection broken by 'NameResolutionError(\"<urllib3.connection.HTTPSConnection object at 0x000002929A2D9030>: Failed to resolve 'api.clear.ml' ([Errno 11001] getaddrinfo failed)\")': /v2.23/tasks.ping\n",
      "       6/60      2.47G     0.9746       1.02      1.233        254        640:  11%|█         | 129/1195 [03:19<23:07,  1.30s/it]Retrying (Retry(total=231, connect=231, read=240, redirect=240, status=240)) after connection broken by 'NameResolutionError(\"<urllib3.connection.HTTPSConnection object at 0x0000029298F33BB0>: Failed to resolve 'api.clear.ml' ([Errno 11001] getaddrinfo failed)\")': /v2.23/events.add_batch\n",
      "Retrying (Retry(total=231, connect=231, read=240, redirect=240, status=240)) after connection broken by 'NameResolutionError(\"<urllib3.connection.HTTPSConnection object at 0x00000292997938B0>: Failed to resolve 'api.clear.ml' ([Errno 11001] getaddrinfo failed)\")': /v2.23/events.add_batch\n",
      "       6/60      2.71G      0.967      1.007      1.228        208        640:  86%|████████▌ | 1028/1195 [18:57<03:52,  1.39s/it]Retrying (Retry(total=237, connect=237, read=240, redirect=240, status=240)) after connection broken by 'NameResolutionError(\"<urllib3.connection.HTTPSConnection object at 0x0000029299C9B220>: Failed to resolve 'api.clear.ml' ([Errno 11001] getaddrinfo failed)\")': /v2.23/events.add_batch\n",
      "       6/60      2.83G      0.967      1.006      1.227        155        640: 100%|██████████| 1195/1195 [21:51<00:00,  1.10s/it]\n",
      "                 Class     Images  Instances      Box(P          R      mAP50  mAP50-95): 100%|██████████| 25/25 [00:36<00:00,  1.45s/it]\n"
     ]
    },
    {
     "name": "stdout",
     "output_type": "stream",
     "text": [
      "                   all        795       2579      0.879      0.815        0.9      0.571\n",
      "\n",
      "      Epoch    GPU_mem   box_loss   cls_loss   dfl_loss  Instances       Size\n"
     ]
    },
    {
     "name": "stderr",
     "output_type": "stream",
     "text": [
      "       7/60      2.79G     0.9647      1.003      1.227        164        640: 100%|██████████| 1195/1195 [38:55<00:00,  1.95s/it]   \n",
      "                 Class     Images  Instances      Box(P          R      mAP50  mAP50-95): 100%|██████████| 25/25 [00:30<00:00,  1.23s/it]\n"
     ]
    },
    {
     "name": "stdout",
     "output_type": "stream",
     "text": [
      "                   all        795       2579      0.885      0.842      0.913      0.582\n",
      "\n",
      "      Epoch    GPU_mem   box_loss   cls_loss   dfl_loss  Instances       Size\n"
     ]
    },
    {
     "name": "stderr",
     "output_type": "stream",
     "text": [
      "       8/60       2.7G      0.959     0.9931      1.224        189        640: 100%|██████████| 1195/1195 [28:24<00:00,  1.43s/it] \n",
      "                 Class     Images  Instances      Box(P          R      mAP50  mAP50-95): 100%|██████████| 25/25 [00:54<00:00,  2.17s/it]\n"
     ]
    },
    {
     "name": "stdout",
     "output_type": "stream",
     "text": [
      "                   all        795       2579      0.889      0.814        0.9      0.563\n",
      "\n",
      "      Epoch    GPU_mem   box_loss   cls_loss   dfl_loss  Instances       Size\n"
     ]
    },
    {
     "name": "stderr",
     "output_type": "stream",
     "text": [
      "       9/60      2.92G     0.9591     0.9876      1.221        178        640: 100%|██████████| 1195/1195 [28:37<00:00,  1.44s/it]\n",
      "                 Class     Images  Instances      Box(P          R      mAP50  mAP50-95): 100%|██████████| 25/25 [00:55<00:00,  2.23s/it]\n"
     ]
    },
    {
     "name": "stdout",
     "output_type": "stream",
     "text": [
      "                   all        795       2579      0.862      0.844      0.905       0.58\n",
      "\n",
      "      Epoch    GPU_mem   box_loss   cls_loss   dfl_loss  Instances       Size\n"
     ]
    },
    {
     "name": "stderr",
     "output_type": "stream",
     "text": [
      "      10/60      2.64G     0.9558     0.9787      1.219        188        640: 100%|██████████| 1195/1195 [28:07<00:00,  1.41s/it]\n",
      "                 Class     Images  Instances      Box(P          R      mAP50  mAP50-95): 100%|██████████| 25/25 [01:14<00:00,  2.97s/it]\n"
     ]
    },
    {
     "name": "stdout",
     "output_type": "stream",
     "text": [
      "                   all        795       2579      0.885      0.849      0.917      0.581\n",
      "\n",
      "      Epoch    GPU_mem   box_loss   cls_loss   dfl_loss  Instances       Size\n"
     ]
    },
    {
     "name": "stderr",
     "output_type": "stream",
     "text": [
      "      11/60      2.74G     0.9501     0.9707      1.217        183        640: 100%|██████████| 1195/1195 [32:59<00:00,  1.66s/it]\n",
      "                 Class     Images  Instances      Box(P          R      mAP50  mAP50-95): 100%|██████████| 25/25 [01:07<00:00,  2.68s/it]\n"
     ]
    },
    {
     "name": "stdout",
     "output_type": "stream",
     "text": [
      "                   all        795       2579      0.882      0.869      0.928      0.615\n",
      "\n",
      "      Epoch    GPU_mem   box_loss   cls_loss   dfl_loss  Instances       Size\n"
     ]
    },
    {
     "name": "stderr",
     "output_type": "stream",
     "text": [
      "      12/60       2.7G     0.9472      0.968      1.214        233        640:  28%|██▊       | 329/1195 [10:30<27:40,  1.92s/it]  \n"
     ]
    }
   ],
   "source": [
    "from ultralytics import YOLO\n",
    "model = YOLO(r\"C:\\Users\\zanyi\\OneDrive\\Git hub\\Ai\\ACCCIM STI1\\3rd try\\runs\\detect\\train\\weights\\best.pt\")\n",
    "model.train(source=r\"C:\\Users\\zanyi\\OneDrive\\Git hub\\Ai\\ACCCIM STI1\\3rd try\\FruitDetector-2\\data.yaml\",epochs=60,imgsz=640)"
   ]
  },
  {
   "cell_type": "code",
   "execution_count": 4,
   "metadata": {},
   "outputs": [
    {
     "name": "stdout",
     "output_type": "stream",
     "text": [
      "New https://pypi.org/project/ultralytics/8.2.60 available  Update with 'pip install -U ultralytics'\n",
      "\u001b[34m\u001b[1mengine\\trainer: \u001b[0mtask=detect, mode=train, model=C:\\Users\\zanyi\\OneDrive\\Git hub\\Ai\\ACCCIM STI1\\3rd try\\runs\\detect\\train2\\weights\\last.pt, data=C:\\Users\\zanyi\\OneDrive\\Git hub\\Ai\\ACCCIM STI1\\2ndTry\\Vegetables-1\\data.yaml, epochs=60, time=None, patience=100, batch=16, imgsz=640, save=True, save_period=-1, cache=False, device=cuda:0, workers=8, project=None, name=train2, exist_ok=False, pretrained=True, optimizer=auto, verbose=True, seed=0, deterministic=True, single_cls=False, rect=False, cos_lr=False, close_mosaic=10, resume=C:\\Users\\zanyi\\OneDrive\\Git hub\\Ai\\ACCCIM STI1\\3rd try\\runs\\detect\\train2\\weights\\last.pt, amp=True, fraction=1.0, profile=False, freeze=None, multi_scale=False, overlap_mask=True, mask_ratio=4, dropout=0.0, val=True, split=val, save_json=False, save_hybrid=False, conf=None, iou=0.7, max_det=300, half=False, dnn=False, plots=True, source=C:\\Users\\zanyi\\OneDrive\\Git hub\\Ai\\ACCCIM STI1\\3rd try\\FruitDetector-2\\data.yaml, vid_stride=1, stream_buffer=False, visualize=False, augment=False, agnostic_nms=False, classes=None, retina_masks=False, embed=None, show=False, save_frames=False, save_txt=False, save_conf=False, save_crop=False, show_labels=True, show_conf=True, show_boxes=True, line_width=None, format=torchscript, keras=False, optimize=False, int8=False, dynamic=False, simplify=False, opset=None, workspace=4, nms=False, lr0=0.01, lrf=0.01, momentum=0.937, weight_decay=0.0005, warmup_epochs=3.0, warmup_momentum=0.8, warmup_bias_lr=0.0, box=7.5, cls=0.5, dfl=1.5, pose=12.0, kobj=1.0, label_smoothing=0.0, nbs=64, hsv_h=0.015, hsv_s=0.7, hsv_v=0.4, degrees=0.0, translate=0.1, scale=0.5, shear=0.0, perspective=0.0, flipud=0.0, fliplr=0.5, bgr=0.0, mosaic=1.0, mixup=0.0, copy_paste=0.0, auto_augment=randaugment, erasing=0.4, crop_fraction=1.0, cfg=None, tracker=botsort.yaml, save_dir=runs\\detect\\train2\n",
      "\u001b[34m\u001b[1mTensorBoard: \u001b[0mStart with 'tensorboard --logdir runs\\detect\\train2', view at http://localhost:6006/\n",
      "WARNING  no model scale passed. Assuming scale='n'.\n",
      "\n",
      "                   from  n    params  module                                       arguments                     \n",
      "  0                  -1  1       464  ultralytics.nn.modules.conv.Conv             [3, 16, 3, 2]                 \n",
      "  1                  -1  1      4672  ultralytics.nn.modules.conv.Conv             [16, 32, 3, 2]                \n",
      "  2                  -1  1      7360  ultralytics.nn.modules.block.C2f             [32, 32, 1, True]             \n",
      "  3                  -1  1     18560  ultralytics.nn.modules.conv.Conv             [32, 64, 3, 2]                \n",
      "  4                  -1  2     49664  ultralytics.nn.modules.block.C2f             [64, 64, 2, True]             \n",
      "  5                  -1  1     73984  ultralytics.nn.modules.conv.Conv             [64, 128, 3, 2]               \n",
      "  6                  -1  2    197632  ultralytics.nn.modules.block.C2f             [128, 128, 2, True]           \n",
      "  7                  -1  1    295424  ultralytics.nn.modules.conv.Conv             [128, 256, 3, 2]              \n",
      "  8                  -1  1    460288  ultralytics.nn.modules.block.C2f             [256, 256, 1, True]           \n",
      "  9                  -1  1    164608  ultralytics.nn.modules.block.SPPF            [256, 256, 5]                 \n",
      " 10                  -1  1         0  torch.nn.modules.upsampling.Upsample         [None, 2, 'nearest']          \n",
      " 11             [-1, 6]  1         0  ultralytics.nn.modules.conv.Concat           [1]                           \n",
      " 12                  -1  1    148224  ultralytics.nn.modules.block.C2f             [384, 128, 1]                 \n",
      " 13                  -1  1         0  torch.nn.modules.upsampling.Upsample         [None, 2, 'nearest']          \n",
      " 14             [-1, 4]  1         0  ultralytics.nn.modules.conv.Concat           [1]                           \n",
      " 15                  -1  1     37248  ultralytics.nn.modules.block.C2f             [192, 64, 1]                  \n",
      " 16                  -1  1     36992  ultralytics.nn.modules.conv.Conv             [64, 64, 3, 2]                \n",
      " 17            [-1, 12]  1         0  ultralytics.nn.modules.conv.Concat           [1]                           \n",
      " 18                  -1  1    123648  ultralytics.nn.modules.block.C2f             [192, 128, 1]                 \n",
      " 19                  -1  1    147712  ultralytics.nn.modules.conv.Conv             [128, 128, 3, 2]              \n",
      " 20             [-1, 9]  1         0  ultralytics.nn.modules.conv.Concat           [1]                           \n",
      " 21                  -1  1    493056  ultralytics.nn.modules.block.C2f             [384, 256, 1]                 \n",
      " 22        [15, 18, 21]  1    756382  ultralytics.nn.modules.head.Detect           [26, [64, 128, 256]]          \n",
      "YOLOv8 summary: 225 layers, 3015918 parameters, 3015902 gradients, 8.2 GFLOPs\n",
      "\n",
      "Transferred 355/355 items from pretrained weights\n",
      "Freezing layer 'model.22.dfl.conv.weight'\n",
      "\u001b[34m\u001b[1mAMP: \u001b[0mrunning Automatic Mixed Precision (AMP) checks with YOLOv8n...\n",
      "\u001b[34m\u001b[1mAMP: \u001b[0mchecks passed \n"
     ]
    },
    {
     "name": "stderr",
     "output_type": "stream",
     "text": [
      "\u001b[34m\u001b[1mtrain: \u001b[0mScanning C:\\Users\\zanyi\\OneDrive\\Git hub\\Ai\\ACCCIM STI1\\2ndTry\\Vegetables-1\\train\\labels.cache... 19116 images, 0 backgrounds, 0 corrupt: 100%|██████████| 19116/19116 [00:00<?, ?it/s]"
     ]
    },
    {
     "name": "stdout",
     "output_type": "stream",
     "text": [
      "\u001b[34m\u001b[1mtrain: \u001b[0mWARNING  C:\\Users\\zanyi\\OneDrive\\Git hub\\Ai\\ACCCIM STI1\\2ndTry\\Vegetables-1\\train\\images\\-----------------17_jpg.rf.c241b18ffb9d19023d2d534b02541219.jpg: 1 duplicate labels removed\n",
      "\u001b[34m\u001b[1mtrain: \u001b[0mWARNING  C:\\Users\\zanyi\\OneDrive\\Git hub\\Ai\\ACCCIM STI1\\2ndTry\\Vegetables-1\\train\\images\\-----------------2_jpg.rf.d9e88b1fe619552dba74ede45e8b9d24.jpg: 1 duplicate labels removed\n",
      "\u001b[34m\u001b[1mtrain: \u001b[0mWARNING  C:\\Users\\zanyi\\OneDrive\\Git hub\\Ai\\ACCCIM STI1\\2ndTry\\Vegetables-1\\train\\images\\-----------------30_jpg.rf.112ecfe1a08f3e2efaf9888b057fbcd6.jpg: 1 duplicate labels removed\n",
      "\u001b[34m\u001b[1mtrain: \u001b[0mWARNING  C:\\Users\\zanyi\\OneDrive\\Git hub\\Ai\\ACCCIM STI1\\2ndTry\\Vegetables-1\\train\\images\\-----------------36_jpg.rf.1aa83f2f6efa0c0d8e708cb5340ea1b6.jpg: 1 duplicate labels removed\n",
      "\u001b[34m\u001b[1mtrain: \u001b[0mWARNING  C:\\Users\\zanyi\\OneDrive\\Git hub\\Ai\\ACCCIM STI1\\2ndTry\\Vegetables-1\\train\\images\\-----------------38_jpg.rf.a92c598d8e392d026f694b8f855db812.jpg: 1 duplicate labels removed\n",
      "\u001b[34m\u001b[1mtrain: \u001b[0mWARNING  C:\\Users\\zanyi\\OneDrive\\Git hub\\Ai\\ACCCIM STI1\\2ndTry\\Vegetables-1\\train\\images\\-----------------40_jpg.rf.60cfdd0b77a55b1fc1bdb9c280e12fca.jpg: 1 duplicate labels removed\n",
      "\u001b[34m\u001b[1mtrain: \u001b[0mWARNING  C:\\Users\\zanyi\\OneDrive\\Git hub\\Ai\\ACCCIM STI1\\2ndTry\\Vegetables-1\\train\\images\\-----------------54_jpg.rf.a5e860d6f9c33439aa36a3c11475881a.jpg: 1 duplicate labels removed\n",
      "\u001b[34m\u001b[1mtrain: \u001b[0mWARNING  C:\\Users\\zanyi\\OneDrive\\Git hub\\Ai\\ACCCIM STI1\\2ndTry\\Vegetables-1\\train\\images\\-----------------63_jpg.rf.7a546a80e42e83b67278f9370f154bea.jpg: 1 duplicate labels removed\n",
      "\u001b[34m\u001b[1mtrain: \u001b[0mWARNING  C:\\Users\\zanyi\\OneDrive\\Git hub\\Ai\\ACCCIM STI1\\2ndTry\\Vegetables-1\\train\\images\\-------------69_jpg.rf.356ffc6a6ddea4d505dca203481a0d70.jpg: 1 duplicate labels removed\n",
      "\u001b[34m\u001b[1mtrain: \u001b[0mWARNING  C:\\Users\\zanyi\\OneDrive\\Git hub\\Ai\\ACCCIM STI1\\2ndTry\\Vegetables-1\\train\\images\\---------25_jpg.rf.43ee5237f678d6f281e489a21b08a790.jpg: 1 duplicate labels removed\n",
      "\u001b[34m\u001b[1mtrain: \u001b[0mWARNING  C:\\Users\\zanyi\\OneDrive\\Git hub\\Ai\\ACCCIM STI1\\2ndTry\\Vegetables-1\\train\\images\\--------10_jpg.rf.e8e07b20881ff3a0e6dd04c97c8affcd.jpg: 1 duplicate labels removed\n",
      "\u001b[34m\u001b[1mtrain: \u001b[0mWARNING  C:\\Users\\zanyi\\OneDrive\\Git hub\\Ai\\ACCCIM STI1\\2ndTry\\Vegetables-1\\train\\images\\--------19_jpg.rf.7feb6de5ede7b80389df40a3169d033f.jpg: 1 duplicate labels removed\n",
      "\u001b[34m\u001b[1mtrain: \u001b[0mWARNING  C:\\Users\\zanyi\\OneDrive\\Git hub\\Ai\\ACCCIM STI1\\2ndTry\\Vegetables-1\\train\\images\\--------22_jpg.rf.ae96296c9da27a1d8a83acf51e8d603b.jpg: 1 duplicate labels removed\n",
      "\u001b[34m\u001b[1mtrain: \u001b[0mWARNING  C:\\Users\\zanyi\\OneDrive\\Git hub\\Ai\\ACCCIM STI1\\2ndTry\\Vegetables-1\\train\\images\\--------25_jpg.rf.0ebcce38ba330c47500b2d9f0abf772c.jpg: 1 duplicate labels removed\n",
      "\u001b[34m\u001b[1mtrain: \u001b[0mWARNING  C:\\Users\\zanyi\\OneDrive\\Git hub\\Ai\\ACCCIM STI1\\2ndTry\\Vegetables-1\\train\\images\\--------50_jpg.rf.eff42d59a07fd28bfe947eaa8cbf4f99.jpg: 1 duplicate labels removed\n",
      "\u001b[34m\u001b[1mtrain: \u001b[0mWARNING  C:\\Users\\zanyi\\OneDrive\\Git hub\\Ai\\ACCCIM STI1\\2ndTry\\Vegetables-1\\train\\images\\--------5_jpg.rf.9c86f62c08abd9080954dbbfd2c36fcc.jpg: 1 duplicate labels removed\n",
      "\u001b[34m\u001b[1mtrain: \u001b[0mWARNING  C:\\Users\\zanyi\\OneDrive\\Git hub\\Ai\\ACCCIM STI1\\2ndTry\\Vegetables-1\\train\\images\\-------29_jpg.rf.d2d23a51b2c9c2f6c2b61d419f914abf.jpg: 1 duplicate labels removed\n",
      "\u001b[34m\u001b[1mtrain: \u001b[0mWARNING  C:\\Users\\zanyi\\OneDrive\\Git hub\\Ai\\ACCCIM STI1\\2ndTry\\Vegetables-1\\train\\images\\-------38_jpg.rf.07c5508f2c6f16129dbe4edf62094bdc.jpg: 1 duplicate labels removed\n",
      "\u001b[34m\u001b[1mtrain: \u001b[0mWARNING  C:\\Users\\zanyi\\OneDrive\\Git hub\\Ai\\ACCCIM STI1\\2ndTry\\Vegetables-1\\train\\images\\-------45_jpg.rf.ea3b2c9538cdb59d78f1903f3974b653.jpg: 1 duplicate labels removed\n"
     ]
    },
    {
     "name": "stderr",
     "output_type": "stream",
     "text": [
      "\n",
      "\u001b[34m\u001b[1mval: \u001b[0mScanning C:\\Users\\zanyi\\OneDrive\\Git hub\\Ai\\ACCCIM STI1\\2ndTry\\Vegetables-1\\valid\\labels.cache... 795 images, 0 backgrounds, 0 corrupt: 100%|██████████| 795/795 [00:00<?, ?it/s]\n"
     ]
    },
    {
     "name": "stdout",
     "output_type": "stream",
     "text": [
      "ClearML Monitor: Could not detect iteration reporting, falling back to iterations as seconds-from-start\n",
      "Plotting labels to runs\\detect\\train2\\labels.jpg... \n",
      "\u001b[34m\u001b[1moptimizer:\u001b[0m 'optimizer=auto' found, ignoring 'lr0=0.01' and 'momentum=0.937' and determining best 'optimizer', 'lr0' and 'momentum' automatically... \n",
      "\u001b[34m\u001b[1moptimizer:\u001b[0m SGD(lr=0.01, momentum=0.9) with parameter groups 57 weight(decay=0.0), 64 weight(decay=0.0005), 63 bias(decay=0.0)\n",
      "Resuming training C:\\Users\\zanyi\\OneDrive\\Git hub\\Ai\\ACCCIM STI1\\3rd try\\runs\\detect\\train2\\weights\\last.pt from epoch 31 to 60 total epochs\n",
      "\u001b[34m\u001b[1mTensorBoard: \u001b[0mmodel graph visualization added \n",
      "Image sizes 640 train, 640 val\n",
      "Using 8 dataloader workers\n",
      "Logging results to \u001b[1mruns\\detect\\train2\u001b[0m\n",
      "Starting training for 60 epochs...\n",
      "\n",
      "      Epoch    GPU_mem   box_loss   cls_loss   dfl_loss  Instances       Size\n"
     ]
    },
    {
     "name": "stderr",
     "output_type": "stream",
     "text": [
      "      31/60      2.56G     0.8803     0.8248      1.165        247        640:  84%|████████▍ | 1007/1195 [16:46<04:19,  1.38s/it]Retrying (Retry(total=237, connect=237, read=240, redirect=240, status=240)) after connection broken by 'NameResolutionError(\"<urllib3.connection.HTTPSConnection object at 0x0000020404DBAD40>: Failed to resolve 'api.clear.ml' ([Errno 11001] getaddrinfo failed)\")': /v2.23/events.add_batch\n",
      "Retrying (Retry(total=237, connect=238, read=239, redirect=240, status=240)) after connection broken by 'NameResolutionError(\"<urllib3.connection.HTTPSConnection object at 0x0000020404DBBC70>: Failed to resolve 'api.clear.ml' ([Errno 11001] getaddrinfo failed)\")': /v2.23/tasks.add_or_update_artifacts\n",
      "Retrying (Retry(total=237, connect=238, read=239, redirect=240, status=240)) after connection broken by 'NameResolutionError(\"<urllib3.connection.HTTPSConnection object at 0x0000020404DB9480>: Failed to resolve 'api.clear.ml' ([Errno 11001] getaddrinfo failed)\")': /v2.23/tasks.get_all\n",
      "      31/60      2.56G     0.8803     0.8245      1.165        235        640:  85%|████████▍ | 1012/1195 [16:52<04:04,  1.34s/it]Retrying (Retry(total=237, connect=237, read=240, redirect=240, status=240)) after connection broken by 'NameResolutionError(\"<urllib3.connection.HTTPSConnection object at 0x00000203917D0FD0>: Failed to resolve 'api.clear.ml' ([Errno 11001] getaddrinfo failed)\")': /v2.23/events.add_batch\n",
      "      31/60      2.56G     0.8803     0.8245      1.165        215        640:  85%|████████▍ | 1013/1195 [16:54<04:09,  1.37s/it]Retrying (Retry(total=236, connect=236, read=240, redirect=240, status=240)) after connection broken by 'NameResolutionError(\"<urllib3.connection.HTTPSConnection object at 0x0000020404DB8D90>: Failed to resolve 'api.clear.ml' ([Errno 11001] getaddrinfo failed)\")': /v2.23/events.add_batch\n",
      "      31/60      2.56G     0.8802     0.8245      1.165        178        640:  85%|████████▍ | 1014/1195 [16:55<03:33,  1.18s/it]Retrying (Retry(total=236, connect=237, read=239, redirect=240, status=240)) after connection broken by 'NameResolutionError(\"<urllib3.connection.HTTPSConnection object at 0x0000020404DB9690>: Failed to resolve 'api.clear.ml' ([Errno 11001] getaddrinfo failed)\")': /v2.23/tasks.add_or_update_artifacts\n",
      "Retrying (Retry(total=236, connect=237, read=239, redirect=240, status=240)) after connection broken by 'NameResolutionError(\"<urllib3.connection.HTTPSConnection object at 0x0000020404DB8130>: Failed to resolve 'api.clear.ml' ([Errno 11001] getaddrinfo failed)\")': /v2.23/tasks.get_all\n",
      "\u001b[1;38;5;196mCOMET ERROR:\u001b[0m Heartbeat processing error\n",
      "      31/60      2.56G     0.8802     0.8243      1.165        249        640:  85%|████████▌ | 1020/1195 [17:01<02:51,  1.02it/s]Retrying (Retry(total=236, connect=236, read=240, redirect=240, status=240)) after connection broken by 'NameResolutionError(\"<urllib3.connection.HTTPSConnection object at 0x0000020403F73B20>: Failed to resolve 'api.clear.ml' ([Errno 11001] getaddrinfo failed)\")': /v2.23/events.add_batch\n",
      "      31/60      2.56G     0.8802     0.8245      1.165        257        640:  86%|████████▌ | 1028/1195 [17:09<03:23,  1.22s/it]Retrying (Retry(total=235, connect=235, read=240, redirect=240, status=240)) after connection broken by 'NameResolutionError(\"<urllib3.connection.HTTPSConnection object at 0x0000020403F733A0>: Failed to resolve 'api.clear.ml' ([Errno 11001] getaddrinfo failed)\")': /v2.23/events.add_batch\n",
      "Retrying (Retry(total=235, connect=236, read=239, redirect=240, status=240)) after connection broken by 'NameResolutionError(\"<urllib3.connection.HTTPSConnection object at 0x00000204044547F0>: Failed to resolve 'api.clear.ml' ([Errno 11001] getaddrinfo failed)\")': /v2.23/tasks.add_or_update_artifacts\n",
      "Retrying (Retry(total=235, connect=236, read=239, redirect=240, status=240)) after connection broken by 'NameResolutionError(\"<urllib3.connection.HTTPSConnection object at 0x00000204044561A0>: Failed to resolve 'api.clear.ml' ([Errno 11001] getaddrinfo failed)\")': /v2.23/tasks.get_all\n",
      "      31/60      2.56G     0.8802     0.8242      1.165        193        640:  87%|████████▋ | 1034/1195 [17:17<03:42,  1.38s/it]Retrying (Retry(total=235, connect=235, read=240, redirect=240, status=240)) after connection broken by 'NameResolutionError(\"<urllib3.connection.HTTPSConnection object at 0x0000020403F25F90>: Failed to resolve 'api.clear.ml' ([Errno 11001] getaddrinfo failed)\")': /v2.23/events.add_batch\n",
      "      31/60      2.56G     0.8805     0.8243      1.165        231        640:  89%|████████▊ | 1059/1195 [17:41<02:43,  1.20s/it]Retrying (Retry(total=234, connect=234, read=240, redirect=240, status=240)) after connection broken by 'NameResolutionError(\"<urllib3.connection.HTTPSConnection object at 0x0000020403F243D0>: Failed to resolve 'api.clear.ml' ([Errno 11001] getaddrinfo failed)\")': /v2.23/events.add_batch\n",
      "      31/60      2.56G     0.8805     0.8243      1.165        221        640:  89%|████████▊ | 1060/1195 [17:43<02:54,  1.29s/it]Retrying (Retry(total=234, connect=235, read=239, redirect=240, status=240)) after connection broken by 'NameResolutionError(\"<urllib3.connection.HTTPSConnection object at 0x0000020403F27520>: Failed to resolve 'api.clear.ml' ([Errno 11001] getaddrinfo failed)\")': /v2.23/tasks.add_or_update_artifacts\n",
      "Retrying (Retry(total=234, connect=235, read=239, redirect=240, status=240)) after connection broken by 'NameResolutionError(\"<urllib3.connection.HTTPSConnection object at 0x0000020403F27A30>: Failed to resolve 'api.clear.ml' ([Errno 11001] getaddrinfo failed)\")': /v2.23/tasks.get_all\n",
      "      31/60      2.56G     0.8803     0.8241      1.165        272        640:  89%|████████▉ | 1064/1195 [17:48<02:54,  1.33s/it]Retrying (Retry(total=234, connect=234, read=240, redirect=240, status=240)) after connection broken by 'NameResolutionError(\"<urllib3.connection.HTTPSConnection object at 0x0000020403F24280>: Failed to resolve 'api.clear.ml' ([Errno 11001] getaddrinfo failed)\")': /v2.23/events.add_batch\n",
      "      31/60      2.56G     0.8808      0.825      1.166        212        640:  94%|█████████▍| 1122/1195 [18:46<01:01,  1.19it/s]Retrying (Retry(total=233, connect=233, read=240, redirect=240, status=240)) after connection broken by 'NameResolutionError(\"<urllib3.connection.HTTPSConnection object at 0x0000020403F24B50>: Failed to resolve 'api.clear.ml' ([Errno 11001] getaddrinfo failed)\")': /v2.23/events.add_batch\n",
      "Retrying (Retry(total=233, connect=234, read=239, redirect=240, status=240)) after connection broken by 'NameResolutionError(\"<urllib3.connection.HTTPSConnection object at 0x0000020403F26800>: Failed to resolve 'api.clear.ml' ([Errno 11001] getaddrinfo failed)\")': /v2.23/tasks.add_or_update_artifacts\n",
      "Retrying (Retry(total=233, connect=234, read=239, redirect=240, status=240)) after connection broken by 'NameResolutionError(\"<urllib3.connection.HTTPSConnection object at 0x0000020403F27910>: Failed to resolve 'api.clear.ml' ([Errno 11001] getaddrinfo failed)\")': /v2.23/tasks.get_all\n",
      "      31/60      2.56G     0.8807      0.825      1.166        188        640:  95%|█████████▍| 1130/1195 [18:53<00:50,  1.29it/s]Retrying (Retry(total=233, connect=233, read=240, redirect=240, status=240)) after connection broken by 'NameResolutionError(\"<urllib3.connection.HTTPSConnection object at 0x0000020403F26860>: Failed to resolve 'api.clear.ml' ([Errno 11001] getaddrinfo failed)\")': /v2.23/events.add_batch\n",
      "      31/60      2.56G     0.8814     0.8249      1.166        145        640: 100%|██████████| 1195/1195 [19:50<00:00,  1.00it/s]\n",
      "                 Class     Images  Instances      Box(P          R      mAP50  mAP50-95):  32%|███▏      | 8/25 [00:20<01:10,  4.15s/it]"
     ]
    },
    {
     "name": "stdout",
     "output_type": "stream",
     "text": [
      "ClearML Monitor: Reporting detected, reverting back to iteration based reporting\n"
     ]
    },
    {
     "name": "stderr",
     "output_type": "stream",
     "text": [
      "                 Class     Images  Instances      Box(P          R      mAP50  mAP50-95):  80%|████████  | 20/25 [00:54<00:08,  1.63s/it]Retrying (Retry(total=232, connect=232, read=240, redirect=240, status=240)) after connection broken by 'NameResolutionError(\"<urllib3.connection.HTTPSConnection object at 0x000002039625D6C0>: Failed to resolve 'api.clear.ml' ([Errno 11001] getaddrinfo failed)\")': /v2.23/events.add_batch\n",
      "                 Class     Images  Instances      Box(P          R      mAP50  mAP50-95):  84%|████████▍ | 21/25 [00:56<00:06,  1.72s/it]Retrying (Retry(total=232, connect=233, read=239, redirect=240, status=240)) after connection broken by 'NameResolutionError(\"<urllib3.connection.HTTPSConnection object at 0x000002039625E7A0>: Failed to resolve 'api.clear.ml' ([Errno 11001] getaddrinfo failed)\")': /v2.23/tasks.add_or_update_artifacts\n",
      "Retrying (Retry(total=232, connect=233, read=239, redirect=240, status=240)) after connection broken by 'NameResolutionError(\"<urllib3.connection.HTTPSConnection object at 0x000002039625CC40>: Failed to resolve 'api.clear.ml' ([Errno 11001] getaddrinfo failed)\")': /v2.23/tasks.get_all\n",
      "                 Class     Images  Instances      Box(P          R      mAP50  mAP50-95):  96%|█████████▌| 24/25 [01:02<00:01,  1.72s/it]Retrying (Retry(total=232, connect=232, read=240, redirect=240, status=240)) after connection broken by 'NameResolutionError(\"<urllib3.connection.HTTPSConnection object at 0x000002039625D7B0>: Failed to resolve 'api.clear.ml' ([Errno 11001] getaddrinfo failed)\")': /v2.23/events.add_batch\n",
      "                 Class     Images  Instances      Box(P          R      mAP50  mAP50-95): 100%|██████████| 25/25 [01:04<00:00,  2.57s/it]"
     ]
    },
    {
     "name": "stdout",
     "output_type": "stream",
     "text": [
      "                   all        795       2579       0.92      0.908      0.956      0.666\n"
     ]
    },
    {
     "name": "stderr",
     "output_type": "stream",
     "text": [
      "\n"
     ]
    },
    {
     "name": "stdout",
     "output_type": "stream",
     "text": [
      "\n",
      "      Epoch    GPU_mem   box_loss   cls_loss   dfl_loss  Instances       Size\n"
     ]
    },
    {
     "name": "stderr",
     "output_type": "stream",
     "text": [
      "      32/60      2.88G     0.8756     0.8189      1.166        133        640: 100%|██████████| 1195/1195 [18:28<00:00,  1.08it/s]\n",
      "                 Class     Images  Instances      Box(P          R      mAP50  mAP50-95): 100%|██████████| 25/25 [00:34<00:00,  1.38s/it]"
     ]
    },
    {
     "name": "stdout",
     "output_type": "stream",
     "text": [
      "                   all        795       2579      0.948      0.892      0.959      0.668\n"
     ]
    },
    {
     "name": "stderr",
     "output_type": "stream",
     "text": [
      "\n"
     ]
    },
    {
     "name": "stdout",
     "output_type": "stream",
     "text": [
      "\n",
      "      Epoch    GPU_mem   box_loss   cls_loss   dfl_loss  Instances       Size\n"
     ]
    },
    {
     "name": "stderr",
     "output_type": "stream",
     "text": [
      "      33/60       2.8G     0.8735     0.8155      1.165        149        640: 100%|██████████| 1195/1195 [18:29<00:00,  1.08it/s]\n",
      "                 Class     Images  Instances      Box(P          R      mAP50  mAP50-95): 100%|██████████| 25/25 [00:20<00:00,  1.21it/s]"
     ]
    },
    {
     "name": "stdout",
     "output_type": "stream",
     "text": [
      "                   all        795       2579      0.938      0.903      0.959      0.668\n"
     ]
    },
    {
     "name": "stderr",
     "output_type": "stream",
     "text": [
      "\n"
     ]
    },
    {
     "name": "stdout",
     "output_type": "stream",
     "text": [
      "\n",
      "      Epoch    GPU_mem   box_loss   cls_loss   dfl_loss  Instances       Size\n"
     ]
    },
    {
     "name": "stderr",
     "output_type": "stream",
     "text": [
      "      34/60      2.81G     0.8713      0.808      1.161        140        640: 100%|██████████| 1195/1195 [20:07<00:00,  1.01s/it]\n",
      "                 Class     Images  Instances      Box(P          R      mAP50  mAP50-95): 100%|██████████| 25/25 [00:43<00:00,  1.74s/it]\n"
     ]
    },
    {
     "name": "stdout",
     "output_type": "stream",
     "text": [
      "                   all        795       2579      0.937      0.906      0.959       0.67\n",
      "\n",
      "      Epoch    GPU_mem   box_loss   cls_loss   dfl_loss  Instances       Size\n"
     ]
    },
    {
     "name": "stderr",
     "output_type": "stream",
     "text": [
      "      35/60      2.57G      0.868     0.8044      1.159        145        640: 100%|██████████| 1195/1195 [22:37<00:00,  1.14s/it]\n",
      "                 Class     Images  Instances      Box(P          R      mAP50  mAP50-95): 100%|██████████| 25/25 [00:41<00:00,  1.65s/it]\n"
     ]
    },
    {
     "name": "stdout",
     "output_type": "stream",
     "text": [
      "                   all        795       2579      0.944      0.909      0.961       0.67\n",
      "\n",
      "      Epoch    GPU_mem   box_loss   cls_loss   dfl_loss  Instances       Size\n"
     ]
    },
    {
     "name": "stderr",
     "output_type": "stream",
     "text": [
      "      36/60      2.85G     0.8638     0.7943      1.156        155        640: 100%|██████████| 1195/1195 [21:18<00:00,  1.07s/it]\n",
      "                 Class     Images  Instances      Box(P          R      mAP50  mAP50-95): 100%|██████████| 25/25 [00:40<00:00,  1.61s/it]\n"
     ]
    },
    {
     "name": "stdout",
     "output_type": "stream",
     "text": [
      "                   all        795       2579      0.945       0.91      0.962      0.672\n",
      "\n",
      "      Epoch    GPU_mem   box_loss   cls_loss   dfl_loss  Instances       Size\n"
     ]
    },
    {
     "name": "stderr",
     "output_type": "stream",
     "text": [
      "      37/60       2.8G     0.8627     0.7901      1.155        183        640:  29%|██▊       | 343/1195 [07:03<35:03,  2.47s/it]"
     ]
    }
   ],
   "source": [
    "from ultralytics import YOLO\n",
    "model = YOLO(r\"C:\\Users\\zanyi\\OneDrive\\Git hub\\Ai\\ACCCIM STI1\\3rd try\\runs\\detect\\train2\\weights\\last.pt\")\n",
    "model.to(\"cuda\")\n",
    "model.train(resume=True)"
   ]
  }
 ],
 "metadata": {
  "kernelspec": {
   "display_name": "Python 3",
   "language": "python",
   "name": "python3"
  },
  "language_info": {
   "codemirror_mode": {
    "name": "ipython",
    "version": 3
   },
   "file_extension": ".py",
   "mimetype": "text/x-python",
   "name": "python",
   "nbconvert_exporter": "python",
   "pygments_lexer": "ipython3",
   "version": "3.10.8"
  }
 },
 "nbformat": 4,
 "nbformat_minor": 2
}
