{
 "cells": [
  {
   "cell_type": "code",
   "execution_count": null,
   "metadata": {},
   "outputs": [],
   "source": [
    "!pip install roboflow\n",
    "\n",
    "from roboflow import Roboflow\n",
    "rf = Roboflow(api_key=\"TxIGi1xnNFU9liy45wew\")\n",
    "project = rf.workspace(\"vegetables\").project(\"vegetables-el4g6\")\n",
    "version = project.version(1)\n",
    "dataset = version.download(\"yolov8\")\n"
   ]
  },
  {
   "cell_type": "code",
   "execution_count": null,
   "metadata": {},
   "outputs": [],
   "source": [
    "from PIL import Image\n",
    "Image.open(r\"\").size"
   ]
  },
  {
   "cell_type": "code",
   "execution_count": null,
   "metadata": {},
   "outputs": [],
   "source": [
    "from ultralytics import YOLO\n",
    "model = YOLO(\"yolov8.yaml\").load(\"yolov8n.pt\")\n",
    "model.train(data=r\"C:\\Users\\zanyi\\OneDrive\\Git hub\\Ai\\ACCCIM STI1\\2ndTry\\Vegetables-1\\data.yaml\",epochs=70,imgsz=608)"
   ]
  },
  {
   "cell_type": "code",
   "execution_count": 1,
   "metadata": {},
   "outputs": [
    {
     "name": "stdout",
     "output_type": "stream",
     "text": [
      "New https://pypi.org/project/ultralytics/8.2.52 available  Update with 'pip install -U ultralytics'\n",
      "Ultralytics YOLOv8.2.28  Python-3.10.8 torch-2.3.0+cpu CPU (AMD Ryzen 9 4900HS with Radeon Graphics)\n",
      "\u001b[34m\u001b[1mengine\\trainer: \u001b[0mtask=detect, mode=train, model=C:\\Users\\zanyi\\OneDrive\\Git hub\\Ai\\ACCCIM STI1\\2ndTry\\runs\\detect\\train\\weights\\last.pt, data=C:\\Users\\zanyi\\OneDrive\\Git hub\\Ai\\ACCCIM STI1\\2ndTry\\Vegetables-1\\data.yaml, epochs=70, time=None, patience=100, batch=16, imgsz=608, save=True, save_period=-1, cache=False, device=None, workers=0, project=None, name=train, exist_ok=False, pretrained=True, optimizer=auto, verbose=True, seed=0, deterministic=True, single_cls=False, rect=False, cos_lr=False, close_mosaic=10, resume=C:\\Users\\zanyi\\OneDrive\\Git hub\\Ai\\ACCCIM STI1\\2ndTry\\runs\\detect\\train\\weights\\last.pt, amp=True, fraction=1.0, profile=False, freeze=None, multi_scale=False, overlap_mask=True, mask_ratio=4, dropout=0.0, val=True, split=val, save_json=False, save_hybrid=False, conf=None, iou=0.7, max_det=300, half=False, dnn=False, plots=True, source=None, vid_stride=1, stream_buffer=False, visualize=False, augment=False, agnostic_nms=False, classes=None, retina_masks=False, embed=None, show=False, save_frames=False, save_txt=False, save_conf=False, save_crop=False, show_labels=True, show_conf=True, show_boxes=True, line_width=None, format=torchscript, keras=False, optimize=False, int8=False, dynamic=False, simplify=False, opset=None, workspace=4, nms=False, lr0=0.01, lrf=0.01, momentum=0.937, weight_decay=0.0005, warmup_epochs=3.0, warmup_momentum=0.8, warmup_bias_lr=0.0, box=7.5, cls=0.5, dfl=1.5, pose=12.0, kobj=1.0, label_smoothing=0.0, nbs=64, hsv_h=0.015, hsv_s=0.7, hsv_v=0.4, degrees=0.0, translate=0.1, scale=0.5, shear=0.0, perspective=0.0, flipud=0.0, fliplr=0.5, bgr=0.0, mosaic=1.0, mixup=0.0, copy_paste=0.0, auto_augment=randaugment, erasing=0.4, crop_fraction=1.0, cfg=None, tracker=botsort.yaml, save_dir=runs\\detect\\train\n",
      "ClearML Task: created new task id=cf2726fd0b874a6491cb5eb5b7d65af0\n",
      "2024-07-10 23:25:10,570 - clearml.Task - INFO - Storing jupyter notebook directly as code\n",
      "WARNING:tensorflow:Please fix your imports. Module tensorflow.python.training.tracking.util has been moved to tensorflow.python.checkpoint.checkpoint. The old module will be deleted in version 2.11.\n",
      "ClearML results page: https://app.clear.ml/projects/34e8998891b1424a97df5324d4dcbc9b/experiments/cf2726fd0b874a6491cb5eb5b7d65af0/output/log\n",
      "ClearML Initialized a new task. If you want to run remotely, please add clearml-init and connect your arguments before initializing YOLO.\n"
     ]
    },
    {
     "name": "stderr",
     "output_type": "stream",
     "text": [
      "\u001b[1;38;5;214mCOMET WARNING:\u001b[0m To get all data logged automatically, import comet_ml before the following modules: torch.\n",
      "\u001b[1;38;5;214mCOMET WARNING:\u001b[0m As you are running in a Jupyter environment, you will need to call `experiment.end()` when finished to ensure all metrics and code are logged before exiting.\n",
      "\u001b[1;38;5;39mCOMET INFO:\u001b[0m Experiment is live on comet.com https://www.comet.com/hazywho/general/9811b27b3a72479287967caf2ccf2aed\n",
      "\n"
     ]
    },
    {
     "name": "stdout",
     "output_type": "stream",
     "text": [
      "\u001b[34m\u001b[1mTensorBoard: \u001b[0mStart with 'tensorboard --logdir runs\\detect\\train', view at http://localhost:6006/\n",
      "WARNING  no model scale passed. Assuming scale='n'.\n",
      "\n",
      "                   from  n    params  module                                       arguments                     \n",
      "  0                  -1  1       464  ultralytics.nn.modules.conv.Conv             [3, 16, 3, 2]                 \n",
      "  1                  -1  1      4672  ultralytics.nn.modules.conv.Conv             [16, 32, 3, 2]                \n",
      "  2                  -1  1      7360  ultralytics.nn.modules.block.C2f             [32, 32, 1, True]             \n",
      "  3                  -1  1     18560  ultralytics.nn.modules.conv.Conv             [32, 64, 3, 2]                \n",
      "  4                  -1  2     49664  ultralytics.nn.modules.block.C2f             [64, 64, 2, True]             \n",
      "  5                  -1  1     73984  ultralytics.nn.modules.conv.Conv             [64, 128, 3, 2]               \n",
      "  6                  -1  2    197632  ultralytics.nn.modules.block.C2f             [128, 128, 2, True]           \n",
      "  7                  -1  1    295424  ultralytics.nn.modules.conv.Conv             [128, 256, 3, 2]              \n",
      "  8                  -1  1    460288  ultralytics.nn.modules.block.C2f             [256, 256, 1, True]           \n",
      "  9                  -1  1    164608  ultralytics.nn.modules.block.SPPF            [256, 256, 5]                 \n",
      " 10                  -1  1         0  torch.nn.modules.upsampling.Upsample         [None, 2, 'nearest']          \n",
      " 11             [-1, 6]  1         0  ultralytics.nn.modules.conv.Concat           [1]                           \n",
      " 12                  -1  1    148224  ultralytics.nn.modules.block.C2f             [384, 128, 1]                 \n",
      " 13                  -1  1         0  torch.nn.modules.upsampling.Upsample         [None, 2, 'nearest']          \n",
      " 14             [-1, 4]  1         0  ultralytics.nn.modules.conv.Concat           [1]                           \n",
      " 15                  -1  1     37248  ultralytics.nn.modules.block.C2f             [192, 64, 1]                  \n",
      " 16                  -1  1     36992  ultralytics.nn.modules.conv.Conv             [64, 64, 3, 2]                \n",
      " 17            [-1, 12]  1         0  ultralytics.nn.modules.conv.Concat           [1]                           \n",
      " 18                  -1  1    123648  ultralytics.nn.modules.block.C2f             [192, 128, 1]                 \n",
      " 19                  -1  1    147712  ultralytics.nn.modules.conv.Conv             [128, 128, 3, 2]              \n",
      " 20             [-1, 9]  1         0  ultralytics.nn.modules.conv.Concat           [1]                           \n",
      " 21                  -1  1    493056  ultralytics.nn.modules.block.C2f             [384, 256, 1]                 \n",
      " 22        [15, 18, 21]  1    756382  ultralytics.nn.modules.head.Detect           [26, [64, 128, 256]]          \n",
      "YOLOv8 summary: 225 layers, 3015918 parameters, 3015902 gradients, 8.2 GFLOPs\n",
      "\n",
      "Transferred 355/355 items from pretrained weights\n",
      "Freezing layer 'model.22.dfl.conv.weight'\n"
     ]
    },
    {
     "name": "stderr",
     "output_type": "stream",
     "text": [
      "\u001b[34m\u001b[1mtrain: \u001b[0mScanning C:\\Users\\zanyi\\OneDrive\\Git hub\\Ai\\ACCCIM STI1\\2ndTry\\Vegetables-1\\train\\labels.cache... 19116 images, 0 backgrounds, 0 corrupt: 100%|██████████| 19116/19116 [00:00<?, ?it/s]"
     ]
    },
    {
     "name": "stdout",
     "output_type": "stream",
     "text": [
      "\u001b[34m\u001b[1mtrain: \u001b[0mWARNING  C:\\Users\\zanyi\\OneDrive\\Git hub\\Ai\\ACCCIM STI1\\2ndTry\\Vegetables-1\\train\\images\\-----------------17_jpg.rf.c241b18ffb9d19023d2d534b02541219.jpg: 1 duplicate labels removed\n",
      "\u001b[34m\u001b[1mtrain: \u001b[0mWARNING  C:\\Users\\zanyi\\OneDrive\\Git hub\\Ai\\ACCCIM STI1\\2ndTry\\Vegetables-1\\train\\images\\-----------------2_jpg.rf.d9e88b1fe619552dba74ede45e8b9d24.jpg: 1 duplicate labels removed\n",
      "\u001b[34m\u001b[1mtrain: \u001b[0mWARNING  C:\\Users\\zanyi\\OneDrive\\Git hub\\Ai\\ACCCIM STI1\\2ndTry\\Vegetables-1\\train\\images\\-----------------30_jpg.rf.112ecfe1a08f3e2efaf9888b057fbcd6.jpg: 1 duplicate labels removed\n",
      "\u001b[34m\u001b[1mtrain: \u001b[0mWARNING  C:\\Users\\zanyi\\OneDrive\\Git hub\\Ai\\ACCCIM STI1\\2ndTry\\Vegetables-1\\train\\images\\-----------------36_jpg.rf.1aa83f2f6efa0c0d8e708cb5340ea1b6.jpg: 1 duplicate labels removed\n",
      "\u001b[34m\u001b[1mtrain: \u001b[0mWARNING  C:\\Users\\zanyi\\OneDrive\\Git hub\\Ai\\ACCCIM STI1\\2ndTry\\Vegetables-1\\train\\images\\-----------------38_jpg.rf.a92c598d8e392d026f694b8f855db812.jpg: 1 duplicate labels removed\n",
      "\u001b[34m\u001b[1mtrain: \u001b[0mWARNING  C:\\Users\\zanyi\\OneDrive\\Git hub\\Ai\\ACCCIM STI1\\2ndTry\\Vegetables-1\\train\\images\\-----------------40_jpg.rf.60cfdd0b77a55b1fc1bdb9c280e12fca.jpg: 1 duplicate labels removed\n",
      "\u001b[34m\u001b[1mtrain: \u001b[0mWARNING  C:\\Users\\zanyi\\OneDrive\\Git hub\\Ai\\ACCCIM STI1\\2ndTry\\Vegetables-1\\train\\images\\-----------------54_jpg.rf.a5e860d6f9c33439aa36a3c11475881a.jpg: 1 duplicate labels removed\n",
      "\u001b[34m\u001b[1mtrain: \u001b[0mWARNING  C:\\Users\\zanyi\\OneDrive\\Git hub\\Ai\\ACCCIM STI1\\2ndTry\\Vegetables-1\\train\\images\\-----------------63_jpg.rf.7a546a80e42e83b67278f9370f154bea.jpg: 1 duplicate labels removed\n",
      "\u001b[34m\u001b[1mtrain: \u001b[0mWARNING  C:\\Users\\zanyi\\OneDrive\\Git hub\\Ai\\ACCCIM STI1\\2ndTry\\Vegetables-1\\train\\images\\-------------69_jpg.rf.356ffc6a6ddea4d505dca203481a0d70.jpg: 1 duplicate labels removed\n",
      "\u001b[34m\u001b[1mtrain: \u001b[0mWARNING  C:\\Users\\zanyi\\OneDrive\\Git hub\\Ai\\ACCCIM STI1\\2ndTry\\Vegetables-1\\train\\images\\---------25_jpg.rf.43ee5237f678d6f281e489a21b08a790.jpg: 1 duplicate labels removed\n",
      "\u001b[34m\u001b[1mtrain: \u001b[0mWARNING  C:\\Users\\zanyi\\OneDrive\\Git hub\\Ai\\ACCCIM STI1\\2ndTry\\Vegetables-1\\train\\images\\--------10_jpg.rf.e8e07b20881ff3a0e6dd04c97c8affcd.jpg: 1 duplicate labels removed\n",
      "\u001b[34m\u001b[1mtrain: \u001b[0mWARNING  C:\\Users\\zanyi\\OneDrive\\Git hub\\Ai\\ACCCIM STI1\\2ndTry\\Vegetables-1\\train\\images\\--------19_jpg.rf.7feb6de5ede7b80389df40a3169d033f.jpg: 1 duplicate labels removed\n",
      "\u001b[34m\u001b[1mtrain: \u001b[0mWARNING  C:\\Users\\zanyi\\OneDrive\\Git hub\\Ai\\ACCCIM STI1\\2ndTry\\Vegetables-1\\train\\images\\--------22_jpg.rf.ae96296c9da27a1d8a83acf51e8d603b.jpg: 1 duplicate labels removed\n",
      "\u001b[34m\u001b[1mtrain: \u001b[0mWARNING  C:\\Users\\zanyi\\OneDrive\\Git hub\\Ai\\ACCCIM STI1\\2ndTry\\Vegetables-1\\train\\images\\--------25_jpg.rf.0ebcce38ba330c47500b2d9f0abf772c.jpg: 1 duplicate labels removed\n",
      "\u001b[34m\u001b[1mtrain: \u001b[0mWARNING  C:\\Users\\zanyi\\OneDrive\\Git hub\\Ai\\ACCCIM STI1\\2ndTry\\Vegetables-1\\train\\images\\--------50_jpg.rf.eff42d59a07fd28bfe947eaa8cbf4f99.jpg: 1 duplicate labels removed\n",
      "\u001b[34m\u001b[1mtrain: \u001b[0mWARNING  C:\\Users\\zanyi\\OneDrive\\Git hub\\Ai\\ACCCIM STI1\\2ndTry\\Vegetables-1\\train\\images\\--------5_jpg.rf.9c86f62c08abd9080954dbbfd2c36fcc.jpg: 1 duplicate labels removed\n",
      "\u001b[34m\u001b[1mtrain: \u001b[0mWARNING  C:\\Users\\zanyi\\OneDrive\\Git hub\\Ai\\ACCCIM STI1\\2ndTry\\Vegetables-1\\train\\images\\-------29_jpg.rf.d2d23a51b2c9c2f6c2b61d419f914abf.jpg: 1 duplicate labels removed\n",
      "\u001b[34m\u001b[1mtrain: \u001b[0mWARNING  C:\\Users\\zanyi\\OneDrive\\Git hub\\Ai\\ACCCIM STI1\\2ndTry\\Vegetables-1\\train\\images\\-------38_jpg.rf.07c5508f2c6f16129dbe4edf62094bdc.jpg: 1 duplicate labels removed\n",
      "\u001b[34m\u001b[1mtrain: \u001b[0mWARNING  C:\\Users\\zanyi\\OneDrive\\Git hub\\Ai\\ACCCIM STI1\\2ndTry\\Vegetables-1\\train\\images\\-------45_jpg.rf.ea3b2c9538cdb59d78f1903f3974b653.jpg: 1 duplicate labels removed\n"
     ]
    },
    {
     "name": "stderr",
     "output_type": "stream",
     "text": [
      "\n",
      "\u001b[34m\u001b[1mval: \u001b[0mScanning C:\\Users\\zanyi\\OneDrive\\Git hub\\Ai\\ACCCIM STI1\\2ndTry\\Vegetables-1\\valid\\labels.cache... 795 images, 0 backgrounds, 0 corrupt: 100%|██████████| 795/795 [00:00<?, ?it/s]\n"
     ]
    },
    {
     "name": "stdout",
     "output_type": "stream",
     "text": [
      "Plotting labels to runs\\detect\\train\\labels.jpg... \n",
      "\u001b[34m\u001b[1moptimizer:\u001b[0m 'optimizer=auto' found, ignoring 'lr0=0.01' and 'momentum=0.937' and determining best 'optimizer', 'lr0' and 'momentum' automatically... \n",
      "\u001b[34m\u001b[1moptimizer:\u001b[0m SGD(lr=0.01, momentum=0.9) with parameter groups 57 weight(decay=0.0), 64 weight(decay=0.0005), 63 bias(decay=0.0)\n",
      "Resuming training C:\\Users\\zanyi\\OneDrive\\Git hub\\Ai\\ACCCIM STI1\\2ndTry\\runs\\detect\\train\\weights\\last.pt from epoch 12 to 70 total epochs\n",
      "\u001b[34m\u001b[1mTensorBoard: \u001b[0mmodel graph visualization added \n",
      "Image sizes 608 train, 608 val\n",
      "Using 0 dataloader workers\n",
      "Logging results to \u001b[1mruns\\detect\\train\u001b[0m\n",
      "Starting training for 70 epochs...\n",
      "\n",
      "      Epoch    GPU_mem   box_loss   cls_loss   dfl_loss  Instances       Size\n"
     ]
    },
    {
     "name": "stderr",
     "output_type": "stream",
     "text": [
      "      12/70         0G      1.041      1.339      1.288        294        608:   9%|▊         | 103/1195 [27:01<4:34:58, 15.11s/it]Retrying (Retry(total=237, connect=238, read=239, redirect=240, status=240)) after connection broken by 'NameResolutionError(\"<urllib3.connection.HTTPSConnection object at 0x000001F2DB1BA650>: Failed to resolve 'api.clear.ml' ([Errno 11001] getaddrinfo failed)\")': /v2.23/events.add_batch\n",
      "      12/70         0G      1.042      1.339      1.288        228        608:   9%|▉         | 105/1195 [27:34<4:48:14, 15.87s/it]Retrying (Retry(total=237, connect=239, read=238, redirect=240, status=240)) after connection broken by 'ReadTimeoutError(\"HTTPSConnectionPool(host='api.clear.ml', port=443): Read timed out. (read timeout=10.0)\")': /v2.23/tasks.get_all\n",
      "      12/70         0G      1.042      1.339      1.288        192        608:   9%|▉         | 106/1195 [27:50<4:45:03, 15.71s/it]Retrying (Retry(total=236, connect=238, read=238, redirect=240, status=240)) after connection broken by 'NameResolutionError(\"<urllib3.connection.HTTPSConnection object at 0x000001F2F22AE470>: Failed to resolve 'api.clear.ml' ([Errno 11001] getaddrinfo failed)\")': /v2.23/tasks.get_all\n",
      "      12/70         0G      1.045       1.34      1.289        235        608:   9%|▉         | 108/1195 [28:22<4:45:40, 15.77s/it]Retrying (Retry(total=237, connect=238, read=239, redirect=240, status=240)) after connection broken by 'NameResolutionError(\"<urllib3.connection.HTTPSConnection object at 0x000001F2F22AC070>: Failed to resolve 'api.clear.ml' ([Errno 11001] getaddrinfo failed)\")': /v2.23/tasks.get_all\n",
      "Retrying (Retry(total=237, connect=237, read=240, redirect=240, status=240)) after connection broken by 'NameResolutionError(\"<urllib3.connection.HTTPSConnection object at 0x000001F2F174CE80>: Failed to resolve 'api.clear.ml' ([Errno 11001] getaddrinfo failed)\")': /v2.23/events.add_batch\n",
      "Retrying (Retry(total=237, connect=237, read=240, redirect=240, status=240)) after connection broken by 'NameResolutionError(\"<urllib3.connection.HTTPSConnection object at 0x000001F2ECFC89A0>: Failed to resolve 'api.clear.ml' ([Errno 11001] getaddrinfo failed)\")': /v2.23/tasks.get_all\n",
      "Retrying (Retry(total=236, connect=237, read=239, redirect=240, status=240)) after connection broken by 'NameResolutionError(\"<urllib3.connection.HTTPSConnection object at 0x000001F2F174CF70>: Failed to resolve 'api.clear.ml' ([Errno 11001] getaddrinfo failed)\")': /v2.23/tasks.get_all\n",
      "      12/70         0G      1.044      1.341      1.289        208        608:   9%|▉         | 109/1195 [28:37<4:43:41, 15.67s/it]Retrying (Retry(total=236, connect=236, read=240, redirect=240, status=240)) after connection broken by 'NameResolutionError(\"<urllib3.connection.HTTPSConnection object at 0x000001F2ECFCAC20>: Failed to resolve 'api.clear.ml' ([Errno 11001] getaddrinfo failed)\")': /v2.23/events.add_batch\n",
      "\u001b[1;38;5;196mCOMET ERROR:\u001b[0m Heartbeat processing error\n",
      "Retrying (Retry(total=236, connect=236, read=240, redirect=240, status=240)) after connection broken by 'NameResolutionError(\"<urllib3.connection.HTTPSConnection object at 0x000001F2ECFCAAD0>: Failed to resolve 'api.clear.ml' ([Errno 11001] getaddrinfo failed)\")': /v2.23/tasks.get_all\n",
      "Retrying (Retry(total=235, connect=236, read=239, redirect=240, status=240)) after connection broken by 'NameResolutionError(\"<urllib3.connection.HTTPSConnection object at 0x000001F2ECFCBF40>: Failed to resolve 'api.clear.ml' ([Errno 11001] getaddrinfo failed)\")': /v2.23/tasks.get_all\n",
      "      12/70         0G      1.045      1.342      1.289        235        608:   9%|▉         | 110/1195 [28:52<4:40:31, 15.51s/it]Retrying (Retry(total=235, connect=235, read=240, redirect=240, status=240)) after connection broken by 'NameResolutionError(\"<urllib3.connection.HTTPSConnection object at 0x000001F2ECFC96F0>: Failed to resolve 'api.clear.ml' ([Errno 11001] getaddrinfo failed)\")': /v2.23/events.add_batch\n",
      "Retrying (Retry(total=235, connect=235, read=240, redirect=240, status=240)) after connection broken by 'NameResolutionError(\"<urllib3.connection.HTTPSConnection object at 0x000001F2ECFCAF50>: Failed to resolve 'api.clear.ml' ([Errno 11001] getaddrinfo failed)\")': /v2.23/tasks.get_all\n",
      "Retrying (Retry(total=2, connect=2, read=5, redirect=5, status=None)) after connection broken by 'NameResolutionError(\"<urllib3.connection.HTTPSConnection object at 0x000001F2ECFC9180>: Failed to resolve 'files.clear.ml' ([Errno 11001] getaddrinfo failed)\")': /\n",
      "      12/70         0G      1.046      1.342       1.29        214        608:   9%|▉         | 111/1195 [29:08<4:40:39, 15.54s/it]Retrying (Retry(total=1, connect=1, read=5, redirect=5, status=None)) after connection broken by 'NameResolutionError(\"<urllib3.connection.HTTPSConnection object at 0x000001F2E9CBCD00>: Failed to resolve 'files.clear.ml' ([Errno 11001] getaddrinfo failed)\")': /\n",
      "Retrying (Retry(total=0, connect=0, read=5, redirect=5, status=None)) after connection broken by 'NameResolutionError(\"<urllib3.connection.HTTPSConnection object at 0x000001F2E9CBEF80>: Failed to resolve 'files.clear.ml' ([Errno 11001] getaddrinfo failed)\")': /\n",
      "Retrying (Retry(total=2, connect=2, read=5, redirect=5, status=None)) after connection broken by 'NameResolutionError(\"<urllib3.connection.HTTPSConnection object at 0x000001F2F21F9D20>: Failed to resolve 'files.clear.ml' ([Errno 11001] getaddrinfo failed)\")': /\n",
      "Retrying (Retry(total=234, connect=235, read=239, redirect=240, status=240)) after connection broken by 'NameResolutionError(\"<urllib3.connection.HTTPSConnection object at 0x000001F2ECFCAB30>: Failed to resolve 'api.clear.ml' ([Errno 11001] getaddrinfo failed)\")': /v2.23/tasks.get_all\n",
      "      12/70         0G      1.047      1.342       1.29        295        608:   9%|▉         | 112/1195 [29:23<4:40:55, 15.56s/it]Retrying (Retry(total=234, connect=234, read=240, redirect=240, status=240)) after connection broken by 'NameResolutionError(\"<urllib3.connection.HTTPSConnection object at 0x000001F2ECFC8490>: Failed to resolve 'api.clear.ml' ([Errno 11001] getaddrinfo failed)\")': /v2.23/events.add_batch\n",
      "Retrying (Retry(total=1, connect=1, read=5, redirect=5, status=None)) after connection broken by 'NameResolutionError(\"<urllib3.connection.HTTPSConnection object at 0x000001F2F21F93F0>: Failed to resolve 'files.clear.ml' ([Errno 11001] getaddrinfo failed)\")': /\n",
      "Retrying (Retry(total=234, connect=234, read=240, redirect=240, status=240)) after connection broken by 'NameResolutionError(\"<urllib3.connection.HTTPSConnection object at 0x000001F2ECFCB8B0>: Failed to resolve 'api.clear.ml' ([Errno 11001] getaddrinfo failed)\")': /v2.23/tasks.get_all\n",
      "Retrying (Retry(total=0, connect=0, read=5, redirect=5, status=None)) after connection broken by 'NameResolutionError(\"<urllib3.connection.HTTPSConnection object at 0x000001F2D8009120>: Failed to resolve 'files.clear.ml' ([Errno 11001] getaddrinfo failed)\")': /\n"
     ]
    },
    {
     "name": "stdout",
     "output_type": "stream",
     "text": [
      "2024-07-11 00:01:33,455 - clearml.storage - ERROR - Exception encountered while uploading HTTPSConnectionPool(host='files.clear.ml', port=443): Max retries exceeded with url: / (Caused by NameResolutionError(\"<urllib3.connection.HTTPSConnection object at 0x000001F2D8008430>: Failed to resolve 'files.clear.ml' ([Errno 11001] getaddrinfo failed)\"))\n"
     ]
    },
    {
     "name": "stderr",
     "output_type": "stream",
     "text": [
      "      12/70         0G      1.048      1.342      1.291        223        608:  10%|▉         | 114/1195 [29:54<4:36:05, 15.32s/it]Retrying (Retry(total=2, connect=2, read=5, redirect=5, status=None)) after connection broken by 'NameResolutionError(\"<urllib3.connection.HTTPSConnection object at 0x000001F2F22AE020>: Failed to resolve 'files.clear.ml' ([Errno 11001] getaddrinfo failed)\")': /\n",
      "      12/70         0G      1.048       1.34       1.29        265        608:  10%|▉         | 115/1195 [30:09<4:33:15, 15.18s/it]Retrying (Retry(total=1, connect=1, read=5, redirect=5, status=None)) after connection broken by 'NameResolutionError(\"<urllib3.connection.HTTPSConnection object at 0x000001F2F22AC0D0>: Failed to resolve 'files.clear.ml' ([Errno 11001] getaddrinfo failed)\")': /\n",
      "Retrying (Retry(total=0, connect=0, read=5, redirect=5, status=None)) after connection broken by 'NameResolutionError(\"<urllib3.connection.HTTPSConnection object at 0x000001F2F22AE7A0>: Failed to resolve 'files.clear.ml' ([Errno 11001] getaddrinfo failed)\")': /\n",
      "Retrying (Retry(total=2, connect=2, read=5, redirect=5, status=None)) after connection broken by 'NameResolutionError(\"<urllib3.connection.HTTPSConnection object at 0x000001F2F22AC400>: Failed to resolve 'files.clear.ml' ([Errno 11001] getaddrinfo failed)\")': /\n",
      "      12/70         0G      1.049      1.341       1.29        222        608:  10%|▉         | 116/1195 [30:23<4:31:12, 15.08s/it]Retrying (Retry(total=1, connect=1, read=5, redirect=5, status=None)) after connection broken by 'NameResolutionError(\"<urllib3.connection.HTTPSConnection object at 0x000001F2F22AC490>: Failed to resolve 'files.clear.ml' ([Errno 11001] getaddrinfo failed)\")': /\n",
      "Retrying (Retry(total=233, connect=234, read=239, redirect=240, status=240)) after connection broken by 'NameResolutionError(\"<urllib3.connection.HTTPSConnection object at 0x000001F2F21FA6B0>: Failed to resolve 'api.clear.ml' ([Errno 11001] getaddrinfo failed)\")': /v2.23/tasks.get_all\n",
      "Retrying (Retry(total=233, connect=233, read=240, redirect=240, status=240)) after connection broken by 'NameResolutionError(\"<urllib3.connection.HTTPSConnection object at 0x000001F2D8008E50>: Failed to resolve 'api.clear.ml' ([Errno 11001] getaddrinfo failed)\")': /v2.23/events.add_batch\n",
      "Retrying (Retry(total=0, connect=0, read=5, redirect=5, status=None)) after connection broken by 'NameResolutionError(\"<urllib3.connection.HTTPSConnection object at 0x000001F2E9CBCCA0>: Failed to resolve 'files.clear.ml' ([Errno 11001] getaddrinfo failed)\")': /\n",
      "Retrying (Retry(total=233, connect=233, read=240, redirect=240, status=240)) after connection broken by 'NameResolutionError(\"<urllib3.connection.HTTPSConnection object at 0x000001F2D99BD9F0>: Failed to resolve 'api.clear.ml' ([Errno 11001] getaddrinfo failed)\")': /v2.23/tasks.get_all\n",
      "Retrying (Retry(total=2, connect=2, read=5, redirect=5, status=None)) after connection broken by 'NameResolutionError(\"<urllib3.connection.HTTPSConnection object at 0x000001F2E9CBC880>: Failed to resolve 'files.clear.ml' ([Errno 11001] getaddrinfo failed)\")': /\n",
      "      12/70         0G      1.049      1.341      1.291        221        608:  10%|▉         | 117/1195 [30:38<4:29:06, 14.98s/it]Retrying (Retry(total=1, connect=1, read=5, redirect=5, status=None)) after connection broken by 'NameResolutionError(\"<urllib3.connection.HTTPSConnection object at 0x000001F2E9CBD690>: Failed to resolve 'files.clear.ml' ([Errno 11001] getaddrinfo failed)\")': /\n",
      "Retrying (Retry(total=0, connect=0, read=5, redirect=5, status=None)) after connection broken by 'NameResolutionError(\"<urllib3.connection.HTTPSConnection object at 0x000001F2E9CBCBE0>: Failed to resolve 'files.clear.ml' ([Errno 11001] getaddrinfo failed)\")': /\n"
     ]
    },
    {
     "name": "stdout",
     "output_type": "stream",
     "text": [
      "2024-07-11 00:02:48,690 - clearml.storage - ERROR - Exception encountered while uploading HTTPSConnectionPool(host='files.clear.ml', port=443): Max retries exceeded with url: / (Caused by NameResolutionError(\"<urllib3.connection.HTTPSConnection object at 0x000001F2E9CBC940>: Failed to resolve 'files.clear.ml' ([Errno 11001] getaddrinfo failed)\"))\n"
     ]
    },
    {
     "name": "stderr",
     "output_type": "stream",
     "text": [
      "      12/70         0G       1.05      1.342      1.291        226        608:  10%|▉         | 119/1195 [31:08<4:29:58, 15.05s/it]Retrying (Retry(total=2, connect=2, read=5, redirect=5, status=None)) after connection broken by 'NameResolutionError(\"<urllib3.connection.HTTPSConnection object at 0x000001F2E991E3B0>: Failed to resolve 'files.clear.ml' ([Errno 11001] getaddrinfo failed)\")': /\n",
      "      12/70         0G       1.05      1.343      1.292        247        608:  10%|█         | 120/1195 [31:23<4:26:50, 14.89s/it]Retrying (Retry(total=1, connect=1, read=5, redirect=5, status=None)) after connection broken by 'NameResolutionError(\"<urllib3.connection.HTTPSConnection object at 0x000001F2E991FEB0>: Failed to resolve 'files.clear.ml' ([Errno 11001] getaddrinfo failed)\")': /\n",
      "Retrying (Retry(total=0, connect=0, read=5, redirect=5, status=None)) after connection broken by 'NameResolutionError(\"<urllib3.connection.HTTPSConnection object at 0x000001F2E991C6D0>: Failed to resolve 'files.clear.ml' ([Errno 11001] getaddrinfo failed)\")': /\n",
      "      12/70         0G       1.05      1.344      1.291        234        608:  10%|█         | 124/1195 [32:27<4:33:53, 15.34s/it]Retrying (Retry(total=232, connect=233, read=239, redirect=240, status=240)) after connection broken by 'NameResolutionError(\"<urllib3.connection.HTTPSConnection object at 0x000001F2E9CBCA30>: Failed to resolve 'api.clear.ml' ([Errno 11001] getaddrinfo failed)\")': /v2.23/tasks.get_all\n",
      "Retrying (Retry(total=232, connect=232, read=240, redirect=240, status=240)) after connection broken by 'NameResolutionError(\"<urllib3.connection.HTTPSConnection object at 0x000001F2E9CBD1B0>: Failed to resolve 'api.clear.ml' ([Errno 11001] getaddrinfo failed)\")': /v2.23/events.add_batch\n",
      "Retrying (Retry(total=232, connect=232, read=240, redirect=240, status=240)) after connection broken by 'NameResolutionError(\"<urllib3.connection.HTTPSConnection object at 0x000001F2E9CBD990>: Failed to resolve 'api.clear.ml' ([Errno 11001] getaddrinfo failed)\")': /v2.23/tasks.get_all\n",
      "      12/70         0G      1.055      1.334      1.294        213        608:  65%|██████▌   | 779/1195 [2:56:54<1:31:23, 13.18s/it]"
     ]
    },
    {
     "ename": "",
     "evalue": "",
     "output_type": "error",
     "traceback": [
      "\u001b[1;31mThe Kernel crashed while executing code in the current cell or a previous cell. \n",
      "\u001b[1;31mPlease review the code in the cell(s) to identify a possible cause of the failure. \n",
      "\u001b[1;31mClick <a href='https://aka.ms/vscodeJupyterKernelCrash'>here</a> for more info. \n",
      "\u001b[1;31mView Jupyter <a href='command:jupyter.viewOutput'>log</a> for further details."
     ]
    }
   ],
   "source": [
    "from ultralytics import YOLO\n",
    "model = YOLO(r\"C:\\Users\\zanyi\\OneDrive\\Git hub\\Ai\\ACCCIM STI1\\2ndTry\\runs\\detect\\train\\weights\\last.pt\")\n",
    "model.train(resume=True)"
   ]
  }
 ],
 "metadata": {
  "kernelspec": {
   "display_name": "Python 3",
   "language": "python",
   "name": "python3"
  },
  "language_info": {
   "codemirror_mode": {
    "name": "ipython",
    "version": 3
   },
   "file_extension": ".py",
   "mimetype": "text/x-python",
   "name": "python",
   "nbconvert_exporter": "python",
   "pygments_lexer": "ipython3",
   "version": "3.10.8"
  }
 },
 "nbformat": 4,
 "nbformat_minor": 2
}
