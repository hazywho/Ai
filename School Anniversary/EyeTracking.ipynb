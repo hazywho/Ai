{
 "cells": [
  {
   "cell_type": "code",
   "execution_count": null,
   "metadata": {},
   "outputs": [
    {
     "name": "stdout",
     "output_type": "stream",
     "text": [
      "Defaulting to user installation because normal site-packages is not writeable\n",
      "Requirement already satisfied: roboflow in c:\\program files\\python310\\lib\\site-packages (1.1.30)\n",
      "Requirement already satisfied: certifi==2023.7.22 in c:\\program files\\python310\\lib\\site-packages (from roboflow) (2023.7.22)\n",
      "Requirement already satisfied: chardet==4.0.0 in c:\\program files\\python310\\lib\\site-packages (from roboflow) (4.0.0)\n",
      "Requirement already satisfied: cycler==0.10.0 in c:\\program files\\python310\\lib\\site-packages (from roboflow) (0.10.0)\n",
      "Requirement already satisfied: idna==2.10 in c:\\program files\\python310\\lib\\site-packages (from roboflow) (2.10)\n",
      "Requirement already satisfied: kiwisolver>=1.3.1 in c:\\users\\zanyi\\appdata\\roaming\\python\\python310\\site-packages (from roboflow) (1.4.4)\n",
      "Requirement already satisfied: matplotlib in c:\\users\\zanyi\\appdata\\roaming\\python\\python310\\site-packages (from roboflow) (3.7.1)\n",
      "Requirement already satisfied: numpy>=1.18.5 in c:\\users\\zanyi\\appdata\\roaming\\python\\python310\\site-packages (from roboflow) (1.23.4)\n",
      "Requirement already satisfied: opencv-python-headless==4.8.0.74 in c:\\program files\\python310\\lib\\site-packages (from roboflow) (4.8.0.74)\n",
      "Requirement already satisfied: Pillow>=7.1.2 in c:\\users\\zanyi\\appdata\\roaming\\python\\python310\\site-packages (from roboflow) (9.4.0)\n",
      "Requirement already satisfied: python-dateutil in c:\\users\\zanyi\\appdata\\roaming\\python\\python310\\site-packages (from roboflow) (2.8.2)\n",
      "Requirement already satisfied: python-dotenv in c:\\users\\zanyi\\appdata\\roaming\\python\\python310\\site-packages (from roboflow) (1.0.1)\n",
      "Requirement already satisfied: requests in c:\\users\\zanyi\\appdata\\roaming\\python\\python310\\site-packages (from roboflow) (2.31.0)\n",
      "Requirement already satisfied: six in c:\\users\\zanyi\\appdata\\roaming\\python\\python310\\site-packages (from roboflow) (1.16.0)\n",
      "Requirement already satisfied: urllib3>=1.26.6 in c:\\users\\zanyi\\appdata\\roaming\\python\\python310\\site-packages (from roboflow) (2.0.3)\n",
      "Requirement already satisfied: tqdm>=4.41.0 in c:\\users\\zanyi\\appdata\\roaming\\python\\python310\\site-packages (from roboflow) (4.65.0)\n",
      "Requirement already satisfied: PyYAML>=5.3.1 in c:\\users\\zanyi\\appdata\\roaming\\python\\python310\\site-packages (from roboflow) (6.0)\n",
      "Requirement already satisfied: requests-toolbelt in c:\\users\\zanyi\\appdata\\roaming\\python\\python310\\site-packages (from roboflow) (1.0.0)\n",
      "Requirement already satisfied: python-magic in c:\\users\\zanyi\\appdata\\roaming\\python\\python310\\site-packages (from roboflow) (0.4.27)\n",
      "Requirement already satisfied: colorama in c:\\users\\zanyi\\appdata\\roaming\\python\\python310\\site-packages (from tqdm>=4.41.0->roboflow) (0.4.5)\n",
      "Requirement already satisfied: contourpy>=1.0.1 in c:\\users\\zanyi\\appdata\\roaming\\python\\python310\\site-packages (from matplotlib->roboflow) (1.0.7)\n",
      "Requirement already satisfied: fonttools>=4.22.0 in c:\\users\\zanyi\\appdata\\roaming\\python\\python310\\site-packages (from matplotlib->roboflow) (4.39.4)\n",
      "Requirement already satisfied: packaging>=20.0 in c:\\users\\zanyi\\appdata\\roaming\\python\\python310\\site-packages (from matplotlib->roboflow) (21.3)\n",
      "Requirement already satisfied: pyparsing>=2.3.1 in c:\\users\\zanyi\\appdata\\roaming\\python\\python310\\site-packages (from matplotlib->roboflow) (3.0.9)\n",
      "Requirement already satisfied: charset-normalizer<4,>=2 in c:\\users\\zanyi\\appdata\\roaming\\python\\python310\\site-packages (from requests->roboflow) (2.1.1)\n",
      "loading Roboflow workspace...\n",
      "loading Roboflow project...\n",
      "Dependency ultralytics==8.0.196 is required but found version=8.2.28, to fix: `pip install ultralytics==8.0.196`\n"
     ]
    },
    {
     "name": "stderr",
     "output_type": "stream",
     "text": [
      "Downloading Dataset Version Zip in eye-tracking-5 to yolov8:: 100%|██████████| 14130/14130 [00:14<00:00, 960.68it/s] "
     ]
    },
    {
     "name": "stdout",
     "output_type": "stream",
     "text": [
      "\n"
     ]
    },
    {
     "name": "stderr",
     "output_type": "stream",
     "text": [
      "\n",
      "Extracting Dataset Version Zip to eye-tracking-5 in yolov8:: 100%|██████████| 776/776 [00:00<00:00, 1299.73it/s]\n"
     ]
    }
   ],
   "source": [
    "!pip install roboflow\n",
    "\n",
    "from roboflow import Roboflow\n",
    "rf = Roboflow(api_key=\"TxIGi1xnNFU9liy45wew\")\n",
    "project = rf.workspace(\"handsfree-hid\").project(\"eye-tracking-2l0uc\")\n",
    "version = project.version(5)\n",
    "dataset = version.download(\"yolov8\")\n",
    "\n"
   ]
  },
  {
   "cell_type": "code",
   "execution_count": 2,
   "metadata": {},
   "outputs": [
    {
     "data": {
      "text/plain": [
       "(640, 640)"
      ]
     },
     "execution_count": 2,
     "metadata": {},
     "output_type": "execute_result"
    }
   ],
   "source": [
    "from PIL import Image\n",
    "Image.open(r\"C:\\Users\\zanyi\\OneDrive\\Git hub\\Ai\\School Anniversary\\eye-tracking-5\\train\\images\\WIN_20221130_13_36_24_Pro_jpg.rf.0943b0639a32e323871b3ace9499f9eb.jpg\").size"
   ]
  },
  {
   "cell_type": "code",
   "execution_count": 4,
   "metadata": {},
   "outputs": [
    {
     "name": "stdout",
     "output_type": "stream",
     "text": [
      "WARNING  no model scale passed. Assuming scale='n'.\n"
     ]
    },
    {
     "name": "stdout",
     "output_type": "stream",
     "text": [
      "Transferred 355/355 items from pretrained weights\n",
      "New https://pypi.org/project/ultralytics/8.2.50 available  Update with 'pip install -U ultralytics'\n",
      "Ultralytics YOLOv8.2.28  Python-3.10.8 torch-2.3.0+cpu CPU (AMD Ryzen 9 4900HS with Radeon Graphics)\n",
      "\u001b[34m\u001b[1mengine\\trainer: \u001b[0mtask=detect, mode=train, model=yolov8.yaml, data=C:\\Users\\zanyi\\OneDrive\\Git hub\\Ai\\School Anniversary\\eye-tracking-5\\data.yaml, epochs=70, time=None, patience=100, batch=16, imgsz=640, save=True, save_period=-1, cache=False, device=None, workers=8, project=None, name=train4, exist_ok=False, pretrained=True, optimizer=auto, verbose=True, seed=0, deterministic=True, single_cls=False, rect=False, cos_lr=False, close_mosaic=10, resume=False, amp=True, fraction=1.0, profile=False, freeze=None, multi_scale=False, overlap_mask=True, mask_ratio=4, dropout=0.0, val=True, split=val, save_json=False, save_hybrid=False, conf=None, iou=0.7, max_det=300, half=False, dnn=False, plots=True, source=None, vid_stride=1, stream_buffer=False, visualize=False, augment=False, agnostic_nms=False, classes=None, retina_masks=False, embed=None, show=False, save_frames=False, save_txt=False, save_conf=False, save_crop=False, show_labels=True, show_conf=True, show_boxes=True, line_width=None, format=torchscript, keras=False, optimize=False, int8=False, dynamic=False, simplify=False, opset=None, workspace=4, nms=False, lr0=0.01, lrf=0.01, momentum=0.937, weight_decay=0.0005, warmup_epochs=3.0, warmup_momentum=0.8, warmup_bias_lr=0.1, box=7.5, cls=0.5, dfl=1.5, pose=12.0, kobj=1.0, label_smoothing=0.0, nbs=64, hsv_h=0.015, hsv_s=0.7, hsv_v=0.4, degrees=0.0, translate=0.1, scale=0.5, shear=0.0, perspective=0.0, flipud=0.0, fliplr=0.5, bgr=0.0, mosaic=1.0, mixup=0.0, copy_paste=0.0, auto_augment=randaugment, erasing=0.4, crop_fraction=1.0, cfg=None, tracker=botsort.yaml, save_dir=runs\\detect\\train4\n",
      "Overriding model.yaml nc=80 with nc=2\n",
      "WARNING  no model scale passed. Assuming scale='n'.\n",
      "\n",
      "                   from  n    params  module                                       arguments                     \n",
      "  0                  -1  1       464  ultralytics.nn.modules.conv.Conv             [3, 16, 3, 2]                 \n",
      "  1                  -1  1      4672  ultralytics.nn.modules.conv.Conv             [16, 32, 3, 2]                \n",
      "  2                  -1  1      7360  ultralytics.nn.modules.block.C2f             [32, 32, 1, True]             \n",
      "  3                  -1  1     18560  ultralytics.nn.modules.conv.Conv             [32, 64, 3, 2]                \n",
      "  4                  -1  2     49664  ultralytics.nn.modules.block.C2f             [64, 64, 2, True]             \n",
      "  5                  -1  1     73984  ultralytics.nn.modules.conv.Conv             [64, 128, 3, 2]               \n",
      "  6                  -1  2    197632  ultralytics.nn.modules.block.C2f             [128, 128, 2, True]           \n",
      "  7                  -1  1    295424  ultralytics.nn.modules.conv.Conv             [128, 256, 3, 2]              \n",
      "  8                  -1  1    460288  ultralytics.nn.modules.block.C2f             [256, 256, 1, True]           \n",
      "  9                  -1  1    164608  ultralytics.nn.modules.block.SPPF            [256, 256, 5]                 \n",
      " 10                  -1  1         0  torch.nn.modules.upsampling.Upsample         [None, 2, 'nearest']          \n",
      " 11             [-1, 6]  1         0  ultralytics.nn.modules.conv.Concat           [1]                           \n",
      " 12                  -1  1    148224  ultralytics.nn.modules.block.C2f             [384, 128, 1]                 \n",
      " 13                  -1  1         0  torch.nn.modules.upsampling.Upsample         [None, 2, 'nearest']          \n",
      " 14             [-1, 4]  1         0  ultralytics.nn.modules.conv.Concat           [1]                           \n",
      " 15                  -1  1     37248  ultralytics.nn.modules.block.C2f             [192, 64, 1]                  \n",
      " 16                  -1  1     36992  ultralytics.nn.modules.conv.Conv             [64, 64, 3, 2]                \n",
      " 17            [-1, 12]  1         0  ultralytics.nn.modules.conv.Concat           [1]                           \n",
      " 18                  -1  1    123648  ultralytics.nn.modules.block.C2f             [192, 128, 1]                 \n",
      " 19                  -1  1    147712  ultralytics.nn.modules.conv.Conv             [128, 128, 3, 2]              \n",
      " 20             [-1, 9]  1         0  ultralytics.nn.modules.conv.Concat           [1]                           \n",
      " 21                  -1  1    493056  ultralytics.nn.modules.block.C2f             [384, 256, 1]                 \n",
      " 22        [15, 18, 21]  1    751702  ultralytics.nn.modules.head.Detect           [2, [64, 128, 256]]           \n",
      "YOLOv8 summary: 225 layers, 3011238 parameters, 3011222 gradients, 8.2 GFLOPs\n",
      "\n",
      "Transferred 319/355 items from pretrained weights\n",
      "ClearML Task: created new task id=98fdb9d39ade4deea3d6c62b66a32b2d\n",
      "2024-07-08 11:03:19,642 - clearml.Task - INFO - Storing jupyter notebook directly as code\n",
      "WARNING:tensorflow:Please fix your imports. Module tensorflow.python.training.tracking.util has been moved to tensorflow.python.checkpoint.checkpoint. The old module will be deleted in version 2.11.\n",
      "ClearML results page: https://app.clear.ml/projects/34e8998891b1424a97df5324d4dcbc9b/experiments/98fdb9d39ade4deea3d6c62b66a32b2d/output/log\n",
      "ClearML Initialized a new task. If you want to run remotely, please add clearml-init and connect your arguments before initializing YOLO.\n"
     ]
    },
    {
     "name": "stderr",
     "output_type": "stream",
     "text": [
      "\u001b[1;38;5;214mCOMET WARNING:\u001b[0m To get all data logged automatically, import comet_ml before the following modules: torch.\n",
      "\u001b[1;38;5;214mCOMET WARNING:\u001b[0m As you are running in a Jupyter environment, you will need to call `experiment.end()` when finished to ensure all metrics and code are logged before exiting.\n",
      "\u001b[1;38;5;39mCOMET INFO:\u001b[0m Experiment is live on comet.com https://www.comet.com/hazywho/general/ac173d5855a34494916f283d8fc7249d\n",
      "\n"
     ]
    },
    {
     "name": "stdout",
     "output_type": "stream",
     "text": [
      "\u001b[34m\u001b[1mTensorBoard: \u001b[0mStart with 'tensorboard --logdir runs\\detect\\train4', view at http://localhost:6006/\n",
      "Freezing layer 'model.22.dfl.conv.weight'\n"
     ]
    },
    {
     "name": "stderr",
     "output_type": "stream",
     "text": [
      "\u001b[34m\u001b[1mtrain: \u001b[0mScanning C:\\Users\\zanyi\\OneDrive\\Git hub\\Ai\\School Anniversary\\eye-tracking-5\\train\\labels... 291 images, 0 backgrounds, 0 corrupt: 100%|██████████| 291/291 [00:00<00:00, 436.31it/s]\n"
     ]
    },
    {
     "name": "stdout",
     "output_type": "stream",
     "text": [
      "\u001b[34m\u001b[1mtrain: \u001b[0mNew cache created: C:\\Users\\zanyi\\OneDrive\\Git hub\\Ai\\School Anniversary\\eye-tracking-5\\train\\labels.cache\n"
     ]
    },
    {
     "name": "stderr",
     "output_type": "stream",
     "text": [
      "\u001b[34m\u001b[1mval: \u001b[0mScanning C:\\Users\\zanyi\\OneDrive\\Git hub\\Ai\\School Anniversary\\eye-tracking-5\\valid\\labels... 59 images, 0 backgrounds, 0 corrupt: 100%|██████████| 59/59 [00:00<00:00, 374.24it/s]\n"
     ]
    },
    {
     "name": "stdout",
     "output_type": "stream",
     "text": [
      "\u001b[34m\u001b[1mval: \u001b[0mNew cache created: C:\\Users\\zanyi\\OneDrive\\Git hub\\Ai\\School Anniversary\\eye-tracking-5\\valid\\labels.cache\n",
      "Plotting labels to runs\\detect\\train4\\labels.jpg... \n",
      "\u001b[34m\u001b[1moptimizer:\u001b[0m 'optimizer=auto' found, ignoring 'lr0=0.01' and 'momentum=0.937' and determining best 'optimizer', 'lr0' and 'momentum' automatically... \n",
      "\u001b[34m\u001b[1moptimizer:\u001b[0m AdamW(lr=0.001667, momentum=0.9) with parameter groups 57 weight(decay=0.0), 64 weight(decay=0.0005), 63 bias(decay=0.0)\n",
      "\u001b[34m\u001b[1mTensorBoard: \u001b[0mmodel graph visualization added \n",
      "Image sizes 640 train, 640 val\n",
      "Using 0 dataloader workers\n",
      "Logging results to \u001b[1mruns\\detect\\train4\u001b[0m\n",
      "Starting training for 70 epochs...\n",
      "\n",
      "      Epoch    GPU_mem   box_loss   cls_loss   dfl_loss  Instances       Size\n"
     ]
    },
    {
     "name": "stderr",
     "output_type": "stream",
     "text": [
      "       1/70         0G      1.989       3.37      1.601         23        640: 100%|██████████| 19/19 [04:54<00:00, 15.52s/it]\n",
      "                 Class     Images  Instances      Box(P          R      mAP50  mAP50-95): 100%|██████████| 2/2 [00:27<00:00, 13.80s/it]"
     ]
    },
    {
     "name": "stdout",
     "output_type": "stream",
     "text": [
      "                   all         59        178    0.00307      0.284      0.059     0.0242\n"
     ]
    },
    {
     "name": "stderr",
     "output_type": "stream",
     "text": [
      "\n"
     ]
    },
    {
     "name": "stdout",
     "output_type": "stream",
     "text": [
      "\n",
      "      Epoch    GPU_mem   box_loss   cls_loss   dfl_loss  Instances       Size\n"
     ]
    },
    {
     "name": "stderr",
     "output_type": "stream",
     "text": [
      "       2/70         0G      1.624       1.95      1.288         24        640: 100%|██████████| 19/19 [05:44<00:00, 18.12s/it]\n",
      "                 Class     Images  Instances      Box(P          R      mAP50  mAP50-95): 100%|██████████| 2/2 [00:30<00:00, 15.24s/it]"
     ]
    },
    {
     "name": "stdout",
     "output_type": "stream",
     "text": [
      "                   all         59        178    0.00401      0.382     0.0831     0.0421\n"
     ]
    },
    {
     "name": "stderr",
     "output_type": "stream",
     "text": [
      "\n"
     ]
    },
    {
     "name": "stdout",
     "output_type": "stream",
     "text": [
      "\n",
      "      Epoch    GPU_mem   box_loss   cls_loss   dfl_loss  Instances       Size\n"
     ]
    },
    {
     "name": "stderr",
     "output_type": "stream",
     "text": [
      "       3/70         0G      1.567      1.672      1.299         12        640: 100%|██████████| 19/19 [05:59<00:00, 18.94s/it]\n",
      "                 Class     Images  Instances      Box(P          R      mAP50  mAP50-95): 100%|██████████| 2/2 [00:31<00:00, 15.88s/it]"
     ]
    },
    {
     "name": "stdout",
     "output_type": "stream",
     "text": [
      "                   all         59        178      0.754     0.0747       0.28      0.147\n"
     ]
    },
    {
     "name": "stderr",
     "output_type": "stream",
     "text": [
      "\n"
     ]
    },
    {
     "name": "stdout",
     "output_type": "stream",
     "text": [
      "\n",
      "      Epoch    GPU_mem   box_loss   cls_loss   dfl_loss  Instances       Size\n"
     ]
    },
    {
     "name": "stderr",
     "output_type": "stream",
     "text": [
      "       4/70         0G      1.517      1.495      1.232         16        640: 100%|██████████| 19/19 [05:42<00:00, 18.02s/it]\n",
      "                 Class     Images  Instances      Box(P          R      mAP50  mAP50-95): 100%|██████████| 2/2 [00:27<00:00, 13.83s/it]"
     ]
    },
    {
     "name": "stdout",
     "output_type": "stream",
     "text": [
      "                   all         59        178      0.704      0.539      0.668      0.366\n"
     ]
    },
    {
     "name": "stderr",
     "output_type": "stream",
     "text": [
      "\n"
     ]
    },
    {
     "name": "stdout",
     "output_type": "stream",
     "text": [
      "\n",
      "      Epoch    GPU_mem   box_loss   cls_loss   dfl_loss  Instances       Size\n"
     ]
    },
    {
     "name": "stderr",
     "output_type": "stream",
     "text": [
      "       5/70         0G      1.558      1.488      1.297         21        640: 100%|██████████| 19/19 [05:15<00:00, 16.58s/it]\n",
      "                 Class     Images  Instances      Box(P          R      mAP50  mAP50-95): 100%|██████████| 2/2 [00:28<00:00, 14.21s/it]"
     ]
    },
    {
     "name": "stdout",
     "output_type": "stream",
     "text": [
      "                   all         59        178      0.417      0.695      0.422      0.237\n"
     ]
    },
    {
     "name": "stderr",
     "output_type": "stream",
     "text": [
      "\n"
     ]
    },
    {
     "name": "stdout",
     "output_type": "stream",
     "text": [
      "\n",
      "      Epoch    GPU_mem   box_loss   cls_loss   dfl_loss  Instances       Size\n"
     ]
    },
    {
     "name": "stderr",
     "output_type": "stream",
     "text": [
      "       6/70         0G      1.649      1.616      1.374         65        640:  16%|█▌        | 3/19 [00:55<04:53, 18.34s/it]Retrying (Retry(total=237, connect=238, read=239, redirect=240, status=240)) after connection broken by 'NameResolutionError(\"<urllib3.connection.HTTPSConnection object at 0x0000025FC2F2A380>: Failed to resolve 'api.clear.ml' ([Errno 11001] getaddrinfo failed)\")': /v2.23/tasks.get_all\n",
      "       6/70         0G      1.622      1.583      1.346         62        640:  21%|██        | 4/19 [01:13<04:30, 18.06s/it]Retrying (Retry(total=236, connect=238, read=238, redirect=240, status=240)) after connection broken by 'ReadTimeoutError(\"HTTPSConnectionPool(host='api.clear.ml', port=443): Read timed out. (read timeout=10.0)\")': /v2.23/tasks.get_all\n",
      "       6/70         0G      1.592      1.552       1.33         97        640:  26%|██▋       | 5/19 [01:31<04:12, 18.02s/it]Retrying (Retry(total=237, connect=239, read=238, redirect=240, status=240)) after connection broken by 'ReadTimeoutError(\"HTTPSConnectionPool(host='api.clear.ml', port=443): Read timed out. (read timeout=10.0)\")': /v2.23/tasks.get_all\n",
      "       6/70         0G      1.508      1.396      1.242         15        640: 100%|██████████| 19/19 [05:31<00:00, 17.42s/it]\n",
      "                 Class     Images  Instances      Box(P          R      mAP50  mAP50-95): 100%|██████████| 2/2 [00:28<00:00, 14.21s/it]"
     ]
    },
    {
     "name": "stdout",
     "output_type": "stream",
     "text": [
      "                   all         59        178      0.506      0.768      0.542      0.281\n"
     ]
    },
    {
     "name": "stderr",
     "output_type": "stream",
     "text": [
      "\n"
     ]
    },
    {
     "name": "stdout",
     "output_type": "stream",
     "text": [
      "\n",
      "      Epoch    GPU_mem   box_loss   cls_loss   dfl_loss  Instances       Size\n"
     ]
    },
    {
     "name": "stderr",
     "output_type": "stream",
     "text": [
      "       7/70         0G      1.538      1.339      1.278         20        640: 100%|██████████| 19/19 [05:31<00:00, 17.43s/it]\n",
      "                 Class     Images  Instances      Box(P          R      mAP50  mAP50-95): 100%|██████████| 2/2 [00:27<00:00, 13.78s/it]"
     ]
    },
    {
     "name": "stdout",
     "output_type": "stream",
     "text": [
      "                   all         59        178      0.715      0.772      0.782      0.393\n"
     ]
    },
    {
     "name": "stderr",
     "output_type": "stream",
     "text": [
      "\n"
     ]
    },
    {
     "name": "stdout",
     "output_type": "stream",
     "text": [
      "\n",
      "      Epoch    GPU_mem   box_loss   cls_loss   dfl_loss  Instances       Size\n"
     ]
    },
    {
     "name": "stderr",
     "output_type": "stream",
     "text": [
      "       8/70         0G      1.517       1.25      1.234         10        640: 100%|██████████| 19/19 [04:58<00:00, 15.72s/it]\n",
      "                 Class     Images  Instances      Box(P          R      mAP50  mAP50-95): 100%|██████████| 2/2 [00:25<00:00, 12.74s/it]"
     ]
    },
    {
     "name": "stdout",
     "output_type": "stream",
     "text": [
      "                   all         59        178      0.751      0.799       0.81      0.468\n"
     ]
    },
    {
     "name": "stderr",
     "output_type": "stream",
     "text": [
      "\n"
     ]
    },
    {
     "name": "stdout",
     "output_type": "stream",
     "text": [
      "\n",
      "      Epoch    GPU_mem   box_loss   cls_loss   dfl_loss  Instances       Size\n"
     ]
    },
    {
     "name": "stderr",
     "output_type": "stream",
     "text": [
      "       9/70         0G       1.44      1.149       1.22         21        640: 100%|██████████| 19/19 [04:59<00:00, 15.77s/it]\n",
      "                 Class     Images  Instances      Box(P          R      mAP50  mAP50-95): 100%|██████████| 2/2 [00:26<00:00, 13.08s/it]"
     ]
    },
    {
     "name": "stdout",
     "output_type": "stream",
     "text": [
      "                   all         59        178      0.862      0.871      0.866        0.5\n"
     ]
    },
    {
     "name": "stderr",
     "output_type": "stream",
     "text": [
      "\n"
     ]
    },
    {
     "name": "stdout",
     "output_type": "stream",
     "text": [
      "\n",
      "      Epoch    GPU_mem   box_loss   cls_loss   dfl_loss  Instances       Size\n"
     ]
    },
    {
     "name": "stderr",
     "output_type": "stream",
     "text": [
      "      10/70         0G      1.417       1.13      1.198         15        640: 100%|██████████| 19/19 [05:19<00:00, 16.80s/it]\n",
      "                 Class     Images  Instances      Box(P          R      mAP50  mAP50-95): 100%|██████████| 2/2 [00:25<00:00, 12.90s/it]"
     ]
    },
    {
     "name": "stdout",
     "output_type": "stream",
     "text": [
      "                   all         59        178      0.756      0.882      0.816      0.464\n"
     ]
    },
    {
     "name": "stderr",
     "output_type": "stream",
     "text": [
      "\n"
     ]
    },
    {
     "name": "stdout",
     "output_type": "stream",
     "text": [
      "\n",
      "      Epoch    GPU_mem   box_loss   cls_loss   dfl_loss  Instances       Size\n"
     ]
    },
    {
     "name": "stderr",
     "output_type": "stream",
     "text": [
      "      11/70         0G      1.449      1.125      1.205          9        640: 100%|██████████| 19/19 [04:47<00:00, 15.12s/it]\n",
      "                 Class     Images  Instances      Box(P          R      mAP50  mAP50-95): 100%|██████████| 2/2 [00:23<00:00, 11.68s/it]"
     ]
    },
    {
     "name": "stdout",
     "output_type": "stream",
     "text": [
      "                   all         59        178      0.855      0.895       0.91      0.535\n"
     ]
    },
    {
     "name": "stderr",
     "output_type": "stream",
     "text": [
      "\n"
     ]
    },
    {
     "name": "stdout",
     "output_type": "stream",
     "text": [
      "\n",
      "      Epoch    GPU_mem   box_loss   cls_loss   dfl_loss  Instances       Size\n"
     ]
    },
    {
     "name": "stderr",
     "output_type": "stream",
     "text": [
      "      12/70         0G      1.425      1.124      1.234         83        640:  84%|████████▍ | 16/19 [04:07<00:49, 16.39s/it]"
     ]
    }
   ],
   "source": [
    "from ultralytics import YOLO\n",
    "model = YOLO(\"yolov8.yaml\").load(\"yolov8n.pt\")\n",
    "model.train(data=r\"C:\\Users\\zanyi\\OneDrive\\Git hub\\Ai\\School Anniversary\\eye-tracking-5\\data.yaml\",epochs=70,imgsz=640)"
   ]
  },
  {
   "cell_type": "code",
   "execution_count": null,
   "metadata": {},
   "outputs": [],
   "source": [
    "from ultralytics import YOLO\n",
    "\n",
    "model = YOLO(r\"\")"
   ]
  },
  {
   "cell_type": "code",
   "execution_count": null,
   "metadata": {},
   "outputs": [
    {
     "name": "stdout",
     "output_type": "stream",
     "text": [
      "\n",
      "image 1/1 C:\\Users\\zanyi\\OneDrive\\Git hub\\Ai\\School Anniversary\\eye-tracking-1\\train\\images\\-15-_jpg.rf.ac08391e7538c97f62cae88f949aec62.jpg: 416x416 1 Up, 211.2ms\n",
      "Speed: 3.1ms preprocess, 211.2ms inference, 4.0ms postprocess per image at shape (1, 3, 416, 416)\n",
      "Results saved to \u001b[1mruns\\detect\\predict\u001b[0m\n"
     ]
    },
    {
     "data": {
      "text/plain": [
       "[ultralytics.engine.results.Results object with attributes:\n",
       " \n",
       " boxes: ultralytics.engine.results.Boxes object\n",
       " keypoints: None\n",
       " masks: None\n",
       " names: {0: 'Close', 1: 'Down', 2: 'Left', 3: 'Right', 4: 'Straight', 5: 'Up'}\n",
       " obb: None\n",
       " orig_img: array([[[ 57,  57,  57],\n",
       "         [ 77,  77,  77],\n",
       "         [ 42,  42,  42],\n",
       "         ...,\n",
       "         [ 91, 117, 171],\n",
       "         [ 90, 118, 172],\n",
       "         [ 91, 119, 173]],\n",
       " \n",
       "        [[ 41,  41,  41],\n",
       "         [ 59,  59,  59],\n",
       "         [ 43,  43,  43],\n",
       "         ...,\n",
       "         [ 94, 120, 174],\n",
       "         [ 92, 120, 174],\n",
       "         [ 92, 120, 174]],\n",
       " \n",
       "        [[ 12,  12,  12],\n",
       "         [ 19,  19,  19],\n",
       "         [ 17,  17,  17],\n",
       "         ...,\n",
       "         [ 97, 123, 177],\n",
       "         [ 94, 122, 176],\n",
       "         [ 93, 121, 175]],\n",
       " \n",
       "        ...,\n",
       " \n",
       "        [[255, 255, 255],\n",
       "         [255, 255, 255],\n",
       "         [255, 255, 255],\n",
       "         ...,\n",
       "         [226, 226, 208],\n",
       "         [230, 226, 208],\n",
       "         [229, 225, 207]],\n",
       " \n",
       "        [[255, 255, 255],\n",
       "         [255, 255, 255],\n",
       "         [255, 255, 255],\n",
       "         ...,\n",
       "         [225, 226, 206],\n",
       "         [229, 225, 207],\n",
       "         [228, 224, 206]],\n",
       " \n",
       "        [[255, 255, 255],\n",
       "         [255, 255, 255],\n",
       "         [255, 255, 255],\n",
       "         ...,\n",
       "         [225, 226, 206],\n",
       "         [228, 224, 206],\n",
       "         [228, 224, 206]]], dtype=uint8)\n",
       " orig_shape: (416, 416)\n",
       " path: 'C:\\\\Users\\\\zanyi\\\\OneDrive\\\\Git hub\\\\Ai\\\\School Anniversary\\\\eye-tracking-1\\\\train\\\\images\\\\-15-_jpg.rf.ac08391e7538c97f62cae88f949aec62.jpg'\n",
       " probs: None\n",
       " save_dir: 'runs\\\\detect\\\\predict'\n",
       " speed: {'preprocess': 3.1130313873291016, 'inference': 211.20452880859375, 'postprocess': 4.046440124511719}]"
      ]
     },
     "execution_count": 6,
     "metadata": {},
     "output_type": "execute_result"
    },
    {
     "ename": "",
     "evalue": "",
     "output_type": "error",
     "traceback": [
      "\u001b[1;31mThe Kernel crashed while executing code in the current cell or a previous cell. \n",
      "\u001b[1;31mPlease review the code in the cell(s) to identify a possible cause of the failure. \n",
      "\u001b[1;31mClick <a href='https://aka.ms/vscodeJupyterKernelCrash'>here</a> for more info. \n",
      "\u001b[1;31mView Jupyter <a href='command:jupyter.viewOutput'>log</a> for further details."
     ]
    }
   ],
   "source": [
    "from ultralytics import YOLO\n",
    "model = YOLO(r\"C:\\Users\\zanyi\\OneDrive\\Git hub\\Ai\\School Anniversary\\runs\\detect\\train\\weights\\best.pt\")\n",
    "model.predict(source=r\"C:\\Users\\zanyi\\OneDrive\\Git hub\\Ai\\School Anniversary\\eye-tracking-1\\train\\images\\-15-_jpg.rf.ac08391e7538c97f62cae88f949aec62.jpg\",save=True)"
   ]
  },
  {
   "cell_type": "code",
   "execution_count": null,
   "metadata": {},
   "outputs": [
    {
     "name": "stdout",
     "output_type": "stream",
     "text": [
      "\n",
      "0: 320x416 (no detections), 91.5ms\n",
      "Speed: 2.2ms preprocess, 91.5ms inference, 0.0ms postprocess per image at shape (1, 3, 320, 416)\n"
     ]
    }
   ],
   "source": [
    "from ultralytics import YOLO\n",
    "import cv2\n",
    "\n",
    "cap = cv2.VideoCapture(0)\n",
    "ret,frame = cap.read()\n",
    "model = YOLO(r\"C:\\Users\\zanyi\\OneDrive\\Git hub\\Ai\\School Anniversary\\runs\\detect\\train\\weights\\best.pt\")\n",
    "prediction = model.predict(source=frame)\n",
    "prediction[0].boxes\n",
    "cap.release()\n"
   ]
  },
  {
   "cell_type": "code",
   "execution_count": null,
   "metadata": {},
   "outputs": [
    {
     "name": "stdout",
     "output_type": "stream",
     "text": [
      "\n",
      "1/1: 0... Success  (inf frames of shape 640x480 at 30.00 FPS)\n",
      "\n",
      "\n",
      "WARNING  inference results will accumulate in RAM unless `stream=True` is passed, causing potential out-of-memory\n",
      "errors for large sources or long-running streams and videos. See https://docs.ultralytics.com/modes/predict/ for help.\n",
      "\n",
      "Example:\n",
      "    results = model(source=..., stream=True)  # generator of Results objects\n",
      "    for r in results:\n",
      "        boxes = r.boxes  # Boxes object for bbox outputs\n",
      "        masks = r.masks  # Masks object for segment masks outputs\n",
      "        probs = r.probs  # Class probabilities for classification outputs\n",
      "\n",
      "0: 320x416 (no detections), 89.6ms\n",
      "0: 320x416 (no detections), 106.0ms\n",
      "0: 320x416 (no detections), 92.5ms\n",
      "0: 320x416 (no detections), 90.5ms\n",
      "0: 320x416 (no detections), 87.9ms\n",
      "0: 320x416 (no detections), 89.2ms\n",
      "0: 320x416 (no detections), 88.0ms\n",
      "0: 320x416 (no detections), 91.8ms\n",
      "0: 320x416 (no detections), 82.5ms\n",
      "0: 320x416 (no detections), 84.3ms\n",
      "0: 320x416 (no detections), 95.5ms\n",
      "0: 320x416 (no detections), 88.0ms\n",
      "0: 320x416 1 Up, 86.2ms\n",
      "0: 320x416 1 Up, 83.1ms\n",
      "0: 320x416 1 Up, 84.4ms\n",
      "0: 320x416 1 Up, 85.0ms\n",
      "0: 320x416 1 Up, 91.1ms\n",
      "0: 320x416 (no detections), 92.7ms\n",
      "0: 320x416 (no detections), 115.6ms\n",
      "0: 320x416 (no detections), 96.3ms\n",
      "0: 320x416 (no detections), 93.6ms\n",
      "0: 320x416 1 Up, 100.9ms\n",
      "0: 320x416 (no detections), 92.9ms\n",
      "0: 320x416 (no detections), 108.3ms\n",
      "0: 320x416 (no detections), 95.4ms\n",
      "0: 320x416 (no detections), 83.5ms\n",
      "0: 320x416 (no detections), 115.8ms\n",
      "0: 320x416 (no detections), 106.1ms\n",
      "0: 320x416 (no detections), 84.4ms\n",
      "0: 320x416 (no detections), 91.8ms\n",
      "0: 320x416 1 Up, 87.2ms\n",
      "0: 320x416 (no detections), 85.0ms\n",
      "0: 320x416 (no detections), 84.2ms\n",
      "0: 320x416 (no detections), 101.9ms\n",
      "0: 320x416 (no detections), 89.1ms\n",
      "0: 320x416 (no detections), 86.7ms\n",
      "0: 320x416 (no detections), 92.3ms\n",
      "0: 320x416 (no detections), 111.1ms\n",
      "0: 320x416 (no detections), 91.4ms\n",
      "0: 320x416 (no detections), 87.2ms\n",
      "0: 320x416 (no detections), 84.0ms\n",
      "0: 320x416 (no detections), 87.2ms\n",
      "0: 320x416 (no detections), 88.5ms\n",
      "0: 320x416 (no detections), 97.3ms\n",
      "0: 320x416 (no detections), 83.9ms\n",
      "0: 320x416 (no detections), 93.3ms\n",
      "0: 320x416 (no detections), 84.3ms\n",
      "0: 320x416 (no detections), 81.8ms\n",
      "0: 320x416 (no detections), 88.3ms\n",
      "0: 320x416 (no detections), 84.1ms\n",
      "0: 320x416 (no detections), 95.9ms\n",
      "0: 320x416 (no detections), 99.3ms\n",
      "0: 320x416 (no detections), 93.3ms\n",
      "0: 320x416 (no detections), 92.8ms\n",
      "0: 320x416 (no detections), 81.5ms\n",
      "0: 320x416 (no detections), 84.5ms\n",
      "0: 320x416 (no detections), 86.9ms\n",
      "0: 320x416 (no detections), 83.7ms\n",
      "0: 320x416 (no detections), 113.7ms\n",
      "0: 320x416 (no detections), 82.7ms\n",
      "0: 320x416 (no detections), 96.8ms\n",
      "0: 320x416 (no detections), 95.9ms\n",
      "0: 320x416 (no detections), 85.2ms\n",
      "0: 320x416 (no detections), 86.5ms\n",
      "0: 320x416 (no detections), 92.1ms\n",
      "0: 320x416 (no detections), 85.4ms\n",
      "0: 320x416 (no detections), 96.8ms\n",
      "0: 320x416 (no detections), 88.5ms\n",
      "0: 320x416 (no detections), 88.2ms\n",
      "0: 320x416 (no detections), 83.0ms\n",
      "0: 320x416 (no detections), 86.1ms\n",
      "0: 320x416 (no detections), 94.1ms\n",
      "0: 320x416 (no detections), 89.7ms\n",
      "0: 320x416 (no detections), 86.8ms\n",
      "0: 320x416 (no detections), 88.0ms\n",
      "0: 320x416 (no detections), 86.9ms\n",
      "0: 320x416 (no detections), 92.2ms\n",
      "0: 320x416 (no detections), 86.3ms\n",
      "0: 320x416 (no detections), 86.4ms\n",
      "0: 320x416 (no detections), 86.0ms\n",
      "0: 320x416 (no detections), 82.7ms\n",
      "0: 320x416 (no detections), 82.0ms\n",
      "0: 320x416 (no detections), 90.1ms\n",
      "0: 320x416 (no detections), 91.6ms\n",
      "0: 320x416 (no detections), 96.4ms\n",
      "0: 320x416 (no detections), 82.3ms\n",
      "0: 320x416 (no detections), 84.2ms\n",
      "0: 320x416 (no detections), 103.0ms\n",
      "0: 320x416 (no detections), 85.2ms\n",
      "0: 320x416 (no detections), 82.0ms\n",
      "0: 320x416 (no detections), 90.8ms\n",
      "0: 320x416 (no detections), 84.8ms\n",
      "0: 320x416 (no detections), 87.9ms\n",
      "0: 320x416 (no detections), 84.3ms\n",
      "0: 320x416 (no detections), 86.7ms\n",
      "0: 320x416 (no detections), 86.6ms\n",
      "0: 320x416 (no detections), 82.9ms\n",
      "0: 320x416 (no detections), 81.6ms\n",
      "0: 320x416 (no detections), 87.0ms\n",
      "0: 320x416 (no detections), 81.2ms\n",
      "0: 320x416 1 Up, 84.1ms\n",
      "0: 320x416 (no detections), 85.4ms\n",
      "0: 320x416 (no detections), 87.6ms\n",
      "0: 320x416 (no detections), 82.7ms\n",
      "0: 320x416 (no detections), 90.9ms\n",
      "0: 320x416 (no detections), 82.4ms\n",
      "0: 320x416 (no detections), 95.4ms\n",
      "0: 320x416 (no detections), 97.2ms\n",
      "0: 320x416 (no detections), 80.5ms\n",
      "0: 320x416 (no detections), 84.1ms\n",
      "0: 320x416 (no detections), 83.7ms\n",
      "0: 320x416 (no detections), 88.3ms\n",
      "0: 320x416 (no detections), 94.2ms\n",
      "0: 320x416 (no detections), 79.6ms\n",
      "0: 320x416 (no detections), 95.8ms\n",
      "0: 320x416 (no detections), 80.4ms\n",
      "0: 320x416 (no detections), 84.6ms\n",
      "0: 320x416 (no detections), 101.4ms\n",
      "0: 320x416 (no detections), 82.6ms\n",
      "0: 320x416 (no detections), 81.9ms\n",
      "0: 320x416 (no detections), 92.0ms\n",
      "0: 320x416 (no detections), 81.8ms\n",
      "0: 320x416 (no detections), 85.9ms\n",
      "0: 320x416 (no detections), 95.1ms\n",
      "0: 320x416 (no detections), 89.8ms\n",
      "0: 320x416 (no detections), 84.6ms\n",
      "0: 320x416 (no detections), 85.1ms\n",
      "0: 320x416 (no detections), 89.8ms\n",
      "0: 320x416 (no detections), 92.4ms\n",
      "0: 320x416 (no detections), 84.9ms\n",
      "0: 320x416 (no detections), 91.8ms\n",
      "0: 320x416 (no detections), 87.7ms\n",
      "0: 320x416 (no detections), 92.5ms\n",
      "0: 320x416 (no detections), 92.1ms\n",
      "0: 320x416 (no detections), 84.7ms\n",
      "0: 320x416 (no detections), 100.2ms\n",
      "0: 320x416 (no detections), 84.0ms\n",
      "0: 320x416 (no detections), 109.3ms\n",
      "0: 320x416 (no detections), 89.6ms\n",
      "0: 320x416 (no detections), 122.2ms\n",
      "0: 320x416 (no detections), 92.3ms\n",
      "0: 320x416 (no detections), 94.5ms\n",
      "0: 320x416 (no detections), 88.0ms\n",
      "0: 320x416 (no detections), 81.6ms\n",
      "0: 320x416 (no detections), 87.5ms\n",
      "0: 320x416 (no detections), 88.6ms\n",
      "0: 320x416 (no detections), 85.5ms\n",
      "0: 320x416 (no detections), 90.5ms\n",
      "0: 320x416 (no detections), 103.4ms\n",
      "0: 320x416 (no detections), 85.4ms\n",
      "0: 320x416 (no detections), 85.6ms\n",
      "0: 320x416 (no detections), 88.3ms\n",
      "0: 320x416 (no detections), 89.4ms\n",
      "0: 320x416 (no detections), 88.4ms\n",
      "0: 320x416 (no detections), 86.3ms\n",
      "0: 320x416 (no detections), 91.7ms\n",
      "0: 320x416 (no detections), 87.2ms\n",
      "0: 320x416 (no detections), 84.1ms\n",
      "0: 320x416 (no detections), 84.0ms\n",
      "0: 320x416 (no detections), 85.9ms\n",
      "0: 320x416 (no detections), 84.4ms\n",
      "0: 320x416 (no detections), 85.2ms\n",
      "0: 320x416 (no detections), 90.7ms\n",
      "0: 320x416 (no detections), 91.5ms\n",
      "0: 320x416 (no detections), 86.6ms\n",
      "0: 320x416 (no detections), 83.0ms\n",
      "0: 320x416 (no detections), 84.8ms\n",
      "0: 320x416 (no detections), 102.0ms\n",
      "0: 320x416 (no detections), 91.6ms\n",
      "0: 320x416 (no detections), 85.9ms\n",
      "0: 320x416 (no detections), 82.3ms\n",
      "0: 320x416 (no detections), 79.2ms\n",
      "0: 320x416 (no detections), 86.0ms\n",
      "0: 320x416 (no detections), 82.0ms\n",
      "0: 320x416 (no detections), 89.9ms\n",
      "0: 320x416 (no detections), 96.3ms\n",
      "0: 320x416 (no detections), 83.6ms\n",
      "0: 320x416 (no detections), 82.4ms\n",
      "0: 320x416 (no detections), 89.0ms\n",
      "0: 320x416 (no detections), 86.5ms\n",
      "0: 320x416 (no detections), 95.4ms\n",
      "0: 320x416 (no detections), 95.0ms\n",
      "0: 320x416 (no detections), 98.4ms\n",
      "0: 320x416 (no detections), 94.8ms\n",
      "0: 320x416 (no detections), 86.8ms\n",
      "0: 320x416 (no detections), 111.2ms\n",
      "0: 320x416 (no detections), 90.5ms\n",
      "0: 320x416 (no detections), 92.7ms\n",
      "0: 320x416 (no detections), 86.7ms\n",
      "0: 320x416 (no detections), 84.9ms\n",
      "0: 320x416 (no detections), 85.6ms\n",
      "0: 320x416 (no detections), 85.6ms\n",
      "0: 320x416 (no detections), 96.2ms\n",
      "0: 320x416 (no detections), 90.3ms\n",
      "0: 320x416 (no detections), 79.6ms\n",
      "0: 320x416 (no detections), 82.3ms\n",
      "0: 320x416 (no detections), 84.0ms\n",
      "0: 320x416 (no detections), 85.3ms\n",
      "0: 320x416 (no detections), 86.4ms\n",
      "0: 320x416 (no detections), 83.0ms\n",
      "0: 320x416 (no detections), 88.0ms\n",
      "0: 320x416 (no detections), 84.9ms\n",
      "0: 320x416 (no detections), 84.2ms\n",
      "0: 320x416 (no detections), 82.4ms\n",
      "0: 320x416 (no detections), 83.2ms\n",
      "0: 320x416 (no detections), 84.8ms\n",
      "0: 320x416 (no detections), 87.2ms\n",
      "0: 320x416 (no detections), 83.3ms\n",
      "0: 320x416 (no detections), 85.3ms\n",
      "0: 320x416 (no detections), 83.9ms\n",
      "0: 320x416 (no detections), 85.9ms\n",
      "0: 320x416 (no detections), 104.9ms\n",
      "0: 320x416 (no detections), 87.7ms\n",
      "0: 320x416 (no detections), 89.2ms\n",
      "0: 320x416 (no detections), 91.0ms\n",
      "0: 320x416 (no detections), 80.1ms\n",
      "0: 320x416 (no detections), 83.2ms\n",
      "0: 320x416 (no detections), 85.6ms\n",
      "0: 320x416 (no detections), 91.7ms\n",
      "0: 320x416 (no detections), 86.9ms\n",
      "0: 320x416 (no detections), 82.8ms\n",
      "0: 320x416 (no detections), 81.6ms\n",
      "0: 320x416 (no detections), 90.0ms\n",
      "0: 320x416 (no detections), 81.2ms\n",
      "0: 320x416 (no detections), 85.6ms\n",
      "0: 320x416 (no detections), 90.2ms\n",
      "0: 320x416 (no detections), 94.1ms\n",
      "0: 320x416 (no detections), 81.2ms\n",
      "0: 320x416 (no detections), 83.8ms\n",
      "0: 320x416 (no detections), 91.6ms\n",
      "0: 320x416 (no detections), 85.2ms\n",
      "0: 320x416 (no detections), 85.4ms\n",
      "0: 320x416 (no detections), 82.2ms\n",
      "0: 320x416 (no detections), 86.0ms\n",
      "0: 320x416 (no detections), 91.7ms\n",
      "0: 320x416 (no detections), 81.1ms\n",
      "0: 320x416 (no detections), 88.8ms\n",
      "0: 320x416 (no detections), 85.7ms\n",
      "0: 320x416 (no detections), 87.6ms\n",
      "0: 320x416 (no detections), 90.1ms\n",
      "0: 320x416 (no detections), 84.9ms\n",
      "0: 320x416 (no detections), 83.9ms\n",
      "0: 320x416 1 Up, 84.0ms\n",
      "0: 320x416 (no detections), 93.9ms\n",
      "0: 320x416 (no detections), 82.5ms\n",
      "0: 320x416 (no detections), 87.1ms\n",
      "0: 320x416 (no detections), 87.8ms\n",
      "0: 320x416 (no detections), 88.0ms\n",
      "0: 320x416 (no detections), 92.8ms\n",
      "0: 320x416 (no detections), 84.5ms\n",
      "0: 320x416 (no detections), 86.0ms\n",
      "0: 320x416 (no detections), 85.4ms\n",
      "0: 320x416 (no detections), 88.9ms\n",
      "0: 320x416 (no detections), 79.6ms\n",
      "0: 320x416 (no detections), 88.6ms\n",
      "0: 320x416 (no detections), 84.7ms\n",
      "0: 320x416 (no detections), 84.3ms\n",
      "0: 320x416 (no detections), 82.8ms\n",
      "0: 320x416 (no detections), 92.4ms\n",
      "0: 320x416 (no detections), 90.1ms\n",
      "0: 320x416 1 Up, 88.1ms\n",
      "0: 320x416 (no detections), 84.5ms\n",
      "0: 320x416 (no detections), 84.1ms\n",
      "0: 320x416 (no detections), 83.1ms\n",
      "0: 320x416 (no detections), 93.0ms\n",
      "0: 320x416 (no detections), 82.3ms\n",
      "0: 320x416 (no detections), 87.1ms\n",
      "0: 320x416 (no detections), 84.5ms\n",
      "0: 320x416 (no detections), 83.8ms\n",
      "0: 320x416 (no detections), 84.1ms\n",
      "0: 320x416 (no detections), 85.5ms\n",
      "0: 320x416 (no detections), 82.5ms\n",
      "0: 320x416 (no detections), 82.6ms\n",
      "0: 320x416 (no detections), 81.5ms\n",
      "0: 320x416 (no detections), 94.1ms\n",
      "0: 320x416 (no detections), 81.7ms\n",
      "0: 320x416 (no detections), 85.9ms\n",
      "0: 320x416 (no detections), 82.6ms\n",
      "0: 320x416 (no detections), 92.7ms\n",
      "0: 320x416 (no detections), 80.9ms\n",
      "0: 320x416 (no detections), 84.7ms\n",
      "0: 320x416 (no detections), 89.3ms\n",
      "0: 320x416 (no detections), 97.0ms\n",
      "0: 320x416 1 Up, 85.6ms\n",
      "0: 320x416 1 Up, 84.4ms\n",
      "0: 320x416 1 Up, 99.9ms\n",
      "0: 320x416 1 Up, 85.4ms\n",
      "0: 320x416 1 Up, 88.8ms\n",
      "0: 320x416 (no detections), 87.8ms\n",
      "0: 320x416 (no detections), 86.1ms\n",
      "0: 320x416 (no detections), 98.0ms\n",
      "0: 320x416 (no detections), 102.0ms\n",
      "0: 320x416 (no detections), 84.5ms\n",
      "0: 320x416 (no detections), 83.3ms\n",
      "0: 320x416 (no detections), 87.1ms\n",
      "0: 320x416 (no detections), 87.3ms\n",
      "0: 320x416 (no detections), 88.3ms\n",
      "0: 320x416 (no detections), 81.4ms\n",
      "0: 320x416 1 Up, 85.9ms\n",
      "0: 320x416 1 Up, 87.1ms\n",
      "0: 320x416 1 Up, 87.3ms\n",
      "0: 320x416 (no detections), 83.0ms\n",
      "0: 320x416 (no detections), 85.4ms\n",
      "0: 320x416 (no detections), 87.6ms\n",
      "0: 320x416 (no detections), 98.6ms\n",
      "0: 320x416 (no detections), 82.9ms\n",
      "0: 320x416 (no detections), 83.7ms\n",
      "0: 320x416 (no detections), 87.4ms\n",
      "0: 320x416 1 Up, 82.9ms\n",
      "0: 320x416 (no detections), 89.1ms\n",
      "0: 320x416 (no detections), 81.1ms\n",
      "0: 320x416 (no detections), 88.8ms\n",
      "0: 320x416 (no detections), 87.5ms\n",
      "0: 320x416 (no detections), 81.2ms\n",
      "0: 320x416 (no detections), 89.5ms\n",
      "0: 320x416 (no detections), 82.9ms\n",
      "0: 320x416 (no detections), 86.6ms\n",
      "0: 320x416 (no detections), 83.1ms\n",
      "0: 320x416 (no detections), 83.0ms\n",
      "0: 320x416 (no detections), 84.1ms\n",
      "0: 320x416 (no detections), 85.3ms\n",
      "0: 320x416 (no detections), 87.7ms\n",
      "0: 320x416 (no detections), 82.9ms\n",
      "0: 320x416 (no detections), 87.2ms\n",
      "0: 320x416 (no detections), 92.5ms\n",
      "0: 320x416 (no detections), 84.2ms\n",
      "0: 320x416 (no detections), 87.4ms\n",
      "0: 320x416 (no detections), 85.5ms\n",
      "0: 320x416 (no detections), 85.8ms\n",
      "0: 320x416 (no detections), 87.3ms\n",
      "0: 320x416 (no detections), 83.8ms\n",
      "0: 320x416 (no detections), 86.6ms\n",
      "0: 320x416 (no detections), 97.5ms\n",
      "0: 320x416 (no detections), 81.6ms\n",
      "0: 320x416 (no detections), 90.2ms\n",
      "0: 320x416 (no detections), 87.9ms\n",
      "0: 320x416 (no detections), 84.6ms\n",
      "0: 320x416 (no detections), 89.8ms\n",
      "0: 320x416 (no detections), 87.6ms\n",
      "0: 320x416 (no detections), 94.1ms\n",
      "0: 320x416 (no detections), 85.4ms\n",
      "0: 320x416 (no detections), 90.4ms\n",
      "0: 320x416 (no detections), 102.7ms\n",
      "0: 320x416 (no detections), 91.4ms\n",
      "0: 320x416 (no detections), 90.9ms\n",
      "0: 320x416 (no detections), 79.8ms\n",
      "0: 320x416 (no detections), 86.7ms\n",
      "0: 320x416 (no detections), 81.4ms\n",
      "0: 320x416 (no detections), 88.0ms\n",
      "0: 320x416 (no detections), 90.8ms\n",
      "0: 320x416 (no detections), 83.5ms\n",
      "0: 320x416 (no detections), 90.3ms\n",
      "0: 320x416 (no detections), 83.6ms\n",
      "0: 320x416 (no detections), 86.4ms\n",
      "0: 320x416 (no detections), 86.1ms\n",
      "0: 320x416 (no detections), 80.6ms\n",
      "0: 320x416 (no detections), 84.6ms\n",
      "0: 320x416 (no detections), 88.5ms\n",
      "0: 320x416 (no detections), 85.8ms\n",
      "0: 320x416 (no detections), 96.2ms\n",
      "0: 320x416 (no detections), 88.0ms\n",
      "0: 320x416 (no detections), 82.6ms\n",
      "0: 320x416 (no detections), 85.6ms\n",
      "0: 320x416 (no detections), 82.4ms\n",
      "0: 320x416 (no detections), 87.5ms\n",
      "0: 320x416 (no detections), 91.9ms\n",
      "0: 320x416 1 Up, 83.6ms\n",
      "0: 320x416 (no detections), 89.5ms\n",
      "0: 320x416 (no detections), 118.3ms\n",
      "0: 320x416 (no detections), 85.9ms\n",
      "0: 320x416 (no detections), 89.1ms\n",
      "0: 320x416 (no detections), 91.4ms\n",
      "0: 320x416 (no detections), 87.4ms\n",
      "0: 320x416 (no detections), 90.2ms\n",
      "0: 320x416 (no detections), 99.5ms\n",
      "0: 320x416 (no detections), 80.7ms\n",
      "0: 320x416 (no detections), 84.3ms\n",
      "0: 320x416 (no detections), 85.7ms\n",
      "0: 320x416 (no detections), 85.1ms\n",
      "0: 320x416 (no detections), 86.0ms\n",
      "0: 320x416 (no detections), 85.0ms\n",
      "0: 320x416 (no detections), 88.8ms\n",
      "0: 320x416 (no detections), 83.8ms\n",
      "0: 320x416 (no detections), 80.7ms\n",
      "0: 320x416 (no detections), 96.2ms\n",
      "0: 320x416 (no detections), 88.5ms\n",
      "0: 320x416 (no detections), 84.9ms\n",
      "0: 320x416 (no detections), 89.3ms\n",
      "0: 320x416 (no detections), 86.5ms\n",
      "0: 320x416 (no detections), 84.9ms\n",
      "0: 320x416 (no detections), 85.2ms\n",
      "0: 320x416 (no detections), 94.4ms\n",
      "0: 320x416 (no detections), 88.8ms\n",
      "0: 320x416 (no detections), 85.3ms\n",
      "0: 320x416 (no detections), 88.1ms\n",
      "0: 320x416 (no detections), 86.0ms\n",
      "0: 320x416 (no detections), 83.1ms\n",
      "0: 320x416 (no detections), 85.3ms\n",
      "0: 320x416 (no detections), 90.2ms\n",
      "0: 320x416 (no detections), 85.6ms\n",
      "0: 320x416 (no detections), 83.4ms\n",
      "0: 320x416 (no detections), 85.9ms\n",
      "0: 320x416 1 Up, 88.1ms\n",
      "0: 320x416 (no detections), 86.9ms\n",
      "0: 320x416 1 Up, 87.1ms\n",
      "0: 320x416 1 Up, 85.7ms\n",
      "0: 320x416 1 Up, 87.5ms\n",
      "0: 320x416 (no detections), 95.9ms\n",
      "0: 320x416 (no detections), 93.8ms\n",
      "0: 320x416 1 Up, 95.4ms\n",
      "0: 320x416 1 Up, 89.6ms\n",
      "0: 320x416 1 Up, 96.0ms\n",
      "0: 320x416 (no detections), 96.8ms\n",
      "0: 320x416 (no detections), 93.0ms\n",
      "0: 320x416 (no detections), 89.1ms\n",
      "0: 320x416 (no detections), 87.0ms\n",
      "0: 320x416 (no detections), 85.8ms\n",
      "0: 320x416 (no detections), 82.3ms\n",
      "0: 320x416 (no detections), 86.2ms\n",
      "0: 320x416 (no detections), 85.4ms\n",
      "0: 320x416 (no detections), 95.0ms\n",
      "0: 320x416 (no detections), 88.2ms\n",
      "0: 320x416 (no detections), 98.3ms\n",
      "0: 320x416 (no detections), 96.9ms\n",
      "0: 320x416 1 Up, 83.9ms\n",
      "0: 320x416 (no detections), 84.5ms\n",
      "0: 320x416 1 Up, 85.9ms\n",
      "0: 320x416 (no detections), 84.1ms\n",
      "0: 320x416 (no detections), 84.1ms\n",
      "0: 320x416 1 Straight, 87.1ms\n",
      "0: 320x416 (no detections), 86.1ms\n",
      "0: 320x416 (no detections), 88.1ms\n",
      "0: 320x416 (no detections), 92.4ms\n",
      "0: 320x416 (no detections), 85.3ms\n",
      "0: 320x416 (no detections), 85.1ms\n",
      "0: 320x416 (no detections), 87.9ms\n",
      "0: 320x416 (no detections), 88.1ms\n",
      "0: 320x416 (no detections), 83.6ms\n",
      "0: 320x416 (no detections), 90.9ms\n",
      "0: 320x416 (no detections), 83.9ms\n",
      "0: 320x416 (no detections), 85.9ms\n",
      "0: 320x416 1 Up, 86.8ms\n",
      "0: 320x416 2 Ups, 102.1ms\n",
      "0: 320x416 (no detections), 102.0ms\n",
      "0: 320x416 1 Up, 82.4ms\n",
      "0: 320x416 1 Up, 83.5ms\n",
      "0: 320x416 (no detections), 97.6ms\n",
      "0: 320x416 (no detections), 118.0ms\n",
      "0: 320x416 (no detections), 87.9ms\n",
      "0: 320x416 (no detections), 88.8ms\n",
      "0: 320x416 (no detections), 97.5ms\n",
      "0: 320x416 (no detections), 80.5ms\n",
      "0: 320x416 (no detections), 89.1ms\n",
      "0: 320x416 (no detections), 90.3ms\n",
      "0: 320x416 (no detections), 89.9ms\n",
      "0: 320x416 (no detections), 89.7ms\n",
      "0: 320x416 (no detections), 86.0ms\n",
      "0: 320x416 (no detections), 85.5ms\n",
      "0: 320x416 (no detections), 85.6ms\n",
      "0: 320x416 (no detections), 84.2ms\n",
      "0: 320x416 (no detections), 87.3ms\n",
      "0: 320x416 (no detections), 84.5ms\n",
      "0: 320x416 (no detections), 89.1ms\n",
      "0: 320x416 (no detections), 86.1ms\n",
      "0: 320x416 (no detections), 96.5ms\n",
      "0: 320x416 (no detections), 88.1ms\n",
      "0: 320x416 (no detections), 88.8ms\n",
      "0: 320x416 (no detections), 80.8ms\n",
      "0: 320x416 (no detections), 88.2ms\n",
      "0: 320x416 (no detections), 87.7ms\n",
      "0: 320x416 (no detections), 85.0ms\n",
      "0: 320x416 (no detections), 87.5ms\n",
      "0: 320x416 (no detections), 87.2ms\n",
      "0: 320x416 (no detections), 84.6ms\n",
      "0: 320x416 (no detections), 88.1ms\n",
      "0: 320x416 (no detections), 82.6ms\n",
      "0: 320x416 (no detections), 90.2ms\n",
      "0: 320x416 (no detections), 88.9ms\n",
      "0: 320x416 (no detections), 88.7ms\n",
      "0: 320x416 (no detections), 85.9ms\n",
      "0: 320x416 (no detections), 84.4ms\n",
      "0: 320x416 (no detections), 85.2ms\n",
      "0: 320x416 (no detections), 85.6ms\n",
      "0: 320x416 (no detections), 93.2ms\n",
      "0: 320x416 (no detections), 85.3ms\n",
      "0: 320x416 (no detections), 82.8ms\n",
      "0: 320x416 (no detections), 85.9ms\n",
      "0: 320x416 (no detections), 84.6ms\n",
      "0: 320x416 (no detections), 85.0ms\n",
      "0: 320x416 (no detections), 90.2ms\n",
      "0: 320x416 (no detections), 102.4ms\n",
      "0: 320x416 (no detections), 84.4ms\n",
      "0: 320x416 (no detections), 89.7ms\n",
      "0: 320x416 (no detections), 88.0ms\n",
      "0: 320x416 (no detections), 86.0ms\n",
      "0: 320x416 (no detections), 85.6ms\n",
      "0: 320x416 (no detections), 81.0ms\n",
      "0: 320x416 (no detections), 88.6ms\n",
      "0: 320x416 (no detections), 98.0ms\n",
      "0: 320x416 (no detections), 86.8ms\n",
      "0: 320x416 (no detections), 92.4ms\n",
      "0: 320x416 (no detections), 90.5ms\n",
      "0: 320x416 (no detections), 89.0ms\n",
      "0: 320x416 (no detections), 94.0ms\n",
      "0: 320x416 (no detections), 84.9ms\n",
      "0: 320x416 (no detections), 82.4ms\n",
      "0: 320x416 (no detections), 92.1ms\n",
      "0: 320x416 (no detections), 102.0ms\n",
      "0: 320x416 (no detections), 96.0ms\n",
      "0: 320x416 (no detections), 93.3ms\n",
      "0: 320x416 (no detections), 87.0ms\n",
      "0: 320x416 (no detections), 92.1ms\n",
      "0: 320x416 (no detections), 91.0ms\n",
      "0: 320x416 1 Up, 92.4ms\n",
      "0: 320x416 (no detections), 92.6ms\n",
      "0: 320x416 (no detections), 82.7ms\n",
      "0: 320x416 (no detections), 90.0ms\n",
      "0: 320x416 (no detections), 92.9ms\n",
      "0: 320x416 (no detections), 89.0ms\n",
      "0: 320x416 (no detections), 83.5ms\n",
      "0: 320x416 (no detections), 84.3ms\n",
      "0: 320x416 (no detections), 87.6ms\n",
      "0: 320x416 (no detections), 98.7ms\n",
      "0: 320x416 (no detections), 82.8ms\n",
      "0: 320x416 (no detections), 88.3ms\n",
      "0: 320x416 (no detections), 105.1ms\n",
      "0: 320x416 (no detections), 103.6ms\n",
      "0: 320x416 (no detections), 82.1ms\n",
      "0: 320x416 (no detections), 85.4ms\n",
      "0: 320x416 (no detections), 84.1ms\n",
      "0: 320x416 (no detections), 91.0ms\n",
      "0: 320x416 (no detections), 82.9ms\n",
      "0: 320x416 (no detections), 85.5ms\n",
      "0: 320x416 (no detections), 89.7ms\n",
      "0: 320x416 (no detections), 94.0ms\n",
      "0: 320x416 (no detections), 86.3ms\n",
      "0: 320x416 (no detections), 87.8ms\n",
      "0: 320x416 (no detections), 81.8ms\n",
      "0: 320x416 (no detections), 89.6ms\n",
      "0: 320x416 (no detections), 84.6ms\n",
      "0: 320x416 (no detections), 81.1ms\n",
      "0: 320x416 (no detections), 81.5ms\n",
      "0: 320x416 (no detections), 83.8ms\n",
      "0: 320x416 (no detections), 87.7ms\n",
      "0: 320x416 (no detections), 87.6ms\n",
      "0: 320x416 (no detections), 88.0ms\n",
      "0: 320x416 (no detections), 104.7ms\n",
      "0: 320x416 (no detections), 97.9ms\n",
      "0: 320x416 (no detections), 89.3ms\n",
      "0: 320x416 (no detections), 90.1ms\n",
      "0: 320x416 (no detections), 91.4ms\n",
      "0: 320x416 1 Up, 94.1ms\n",
      "0: 320x416 (no detections), 90.7ms\n",
      "0: 320x416 (no detections), 84.0ms\n",
      "0: 320x416 (no detections), 87.9ms\n",
      "0: 320x416 (no detections), 93.5ms\n",
      "0: 320x416 (no detections), 95.1ms\n",
      "0: 320x416 (no detections), 81.3ms\n",
      "0: 320x416 (no detections), 89.4ms\n",
      "0: 320x416 (no detections), 97.1ms\n",
      "0: 320x416 (no detections), 89.9ms\n",
      "0: 320x416 (no detections), 89.1ms\n",
      "0: 320x416 (no detections), 84.6ms\n",
      "0: 320x416 (no detections), 86.5ms\n",
      "0: 320x416 (no detections), 88.1ms\n",
      "0: 320x416 (no detections), 85.0ms\n",
      "0: 320x416 1 Up, 84.3ms\n",
      "0: 320x416 (no detections), 88.3ms\n",
      "0: 320x416 (no detections), 85.5ms\n",
      "0: 320x416 1 Straight, 87.5ms\n",
      "0: 320x416 1 Straight, 86.6ms\n",
      "0: 320x416 1 Straight, 85.3ms\n",
      "0: 320x416 1 Up, 106.5ms\n",
      "0: 320x416 1 Up, 100.8ms\n",
      "0: 320x416 (no detections), 93.6ms\n",
      "0: 320x416 (no detections), 95.9ms\n",
      "0: 320x416 (no detections), 100.6ms\n",
      "0: 320x416 (no detections), 98.1ms\n",
      "0: 320x416 (no detections), 98.2ms\n",
      "0: 320x416 (no detections), 89.7ms\n",
      "0: 320x416 (no detections), 93.9ms\n",
      "0: 320x416 (no detections), 95.5ms\n",
      "0: 320x416 (no detections), 84.9ms\n",
      "0: 320x416 (no detections), 86.4ms\n",
      "0: 320x416 (no detections), 89.4ms\n",
      "0: 320x416 (no detections), 99.9ms\n",
      "0: 320x416 (no detections), 86.5ms\n",
      "0: 320x416 (no detections), 86.7ms\n",
      "0: 320x416 (no detections), 89.3ms\n",
      "0: 320x416 (no detections), 109.0ms\n",
      "0: 320x416 (no detections), 92.8ms\n",
      "0: 320x416 (no detections), 93.9ms\n",
      "0: 320x416 (no detections), 100.3ms\n"
     ]
    },
    {
     "ename": "KeyboardInterrupt",
     "evalue": "",
     "output_type": "error",
     "traceback": [
      "\u001b[1;31m---------------------------------------------------------------------------\u001b[0m",
      "\u001b[1;31mKeyboardInterrupt\u001b[0m                         Traceback (most recent call last)",
      "Cell \u001b[1;32mIn [5], line 7\u001b[0m\n\u001b[0;32m      5\u001b[0m ret,frame \u001b[38;5;241m=\u001b[39m cap\u001b[38;5;241m.\u001b[39mread()\n\u001b[0;32m      6\u001b[0m model \u001b[38;5;241m=\u001b[39m YOLO(\u001b[38;5;124mr\u001b[39m\u001b[38;5;124m\"\u001b[39m\u001b[38;5;124mC:\u001b[39m\u001b[38;5;124m\\\u001b[39m\u001b[38;5;124mUsers\u001b[39m\u001b[38;5;124m\\\u001b[39m\u001b[38;5;124mzanyi\u001b[39m\u001b[38;5;124m\\\u001b[39m\u001b[38;5;124mOneDrive\u001b[39m\u001b[38;5;124m\\\u001b[39m\u001b[38;5;124mGit hub\u001b[39m\u001b[38;5;124m\\\u001b[39m\u001b[38;5;124mAi\u001b[39m\u001b[38;5;124m\\\u001b[39m\u001b[38;5;124mSchool Anniversary\u001b[39m\u001b[38;5;124m\\\u001b[39m\u001b[38;5;124mruns\u001b[39m\u001b[38;5;124m\\\u001b[39m\u001b[38;5;124mdetect\u001b[39m\u001b[38;5;124m\\\u001b[39m\u001b[38;5;124mtrain\u001b[39m\u001b[38;5;124m\\\u001b[39m\u001b[38;5;124mweights\u001b[39m\u001b[38;5;124m\\\u001b[39m\u001b[38;5;124mbest.pt\u001b[39m\u001b[38;5;124m\"\u001b[39m)\n\u001b[1;32m----> 7\u001b[0m prediction \u001b[38;5;241m=\u001b[39m \u001b[43mmodel\u001b[49m\u001b[38;5;241;43m.\u001b[39;49m\u001b[43mpredict\u001b[49m\u001b[43m(\u001b[49m\u001b[43msource\u001b[49m\u001b[38;5;241;43m=\u001b[39;49m\u001b[38;5;241;43m0\u001b[39;49m\u001b[43m,\u001b[49m\u001b[43mshow\u001b[49m\u001b[38;5;241;43m=\u001b[39;49m\u001b[38;5;28;43;01mTrue\u001b[39;49;00m\u001b[43m)\u001b[49m\n",
      "File \u001b[1;32m~\\AppData\\Roaming\\Python\\Python310\\site-packages\\ultralytics\\engine\\model.py:453\u001b[0m, in \u001b[0;36mModel.predict\u001b[1;34m(self, source, stream, predictor, **kwargs)\u001b[0m\n\u001b[0;32m    451\u001b[0m \u001b[38;5;28;01mif\u001b[39;00m prompts \u001b[38;5;129;01mand\u001b[39;00m \u001b[38;5;28mhasattr\u001b[39m(\u001b[38;5;28mself\u001b[39m\u001b[38;5;241m.\u001b[39mpredictor, \u001b[38;5;124m\"\u001b[39m\u001b[38;5;124mset_prompts\u001b[39m\u001b[38;5;124m\"\u001b[39m):  \u001b[38;5;66;03m# for SAM-type models\u001b[39;00m\n\u001b[0;32m    452\u001b[0m     \u001b[38;5;28mself\u001b[39m\u001b[38;5;241m.\u001b[39mpredictor\u001b[38;5;241m.\u001b[39mset_prompts(prompts)\n\u001b[1;32m--> 453\u001b[0m \u001b[38;5;28;01mreturn\u001b[39;00m \u001b[38;5;28mself\u001b[39m\u001b[38;5;241m.\u001b[39mpredictor\u001b[38;5;241m.\u001b[39mpredict_cli(source\u001b[38;5;241m=\u001b[39msource) \u001b[38;5;28;01mif\u001b[39;00m is_cli \u001b[38;5;28;01melse\u001b[39;00m \u001b[38;5;28;43mself\u001b[39;49m\u001b[38;5;241;43m.\u001b[39;49m\u001b[43mpredictor\u001b[49m\u001b[43m(\u001b[49m\u001b[43msource\u001b[49m\u001b[38;5;241;43m=\u001b[39;49m\u001b[43msource\u001b[49m\u001b[43m,\u001b[49m\u001b[43m \u001b[49m\u001b[43mstream\u001b[49m\u001b[38;5;241;43m=\u001b[39;49m\u001b[43mstream\u001b[49m\u001b[43m)\u001b[49m\n",
      "File \u001b[1;32m~\\AppData\\Roaming\\Python\\Python310\\site-packages\\ultralytics\\engine\\predictor.py:168\u001b[0m, in \u001b[0;36mBasePredictor.__call__\u001b[1;34m(self, source, model, stream, *args, **kwargs)\u001b[0m\n\u001b[0;32m    166\u001b[0m     \u001b[38;5;28;01mreturn\u001b[39;00m \u001b[38;5;28mself\u001b[39m\u001b[38;5;241m.\u001b[39mstream_inference(source, model, \u001b[38;5;241m*\u001b[39margs, \u001b[38;5;241m*\u001b[39m\u001b[38;5;241m*\u001b[39mkwargs)\n\u001b[0;32m    167\u001b[0m \u001b[38;5;28;01melse\u001b[39;00m:\n\u001b[1;32m--> 168\u001b[0m     \u001b[38;5;28;01mreturn\u001b[39;00m \u001b[38;5;28;43mlist\u001b[39;49m\u001b[43m(\u001b[49m\u001b[38;5;28;43mself\u001b[39;49m\u001b[38;5;241;43m.\u001b[39;49m\u001b[43mstream_inference\u001b[49m\u001b[43m(\u001b[49m\u001b[43msource\u001b[49m\u001b[43m,\u001b[49m\u001b[43m \u001b[49m\u001b[43mmodel\u001b[49m\u001b[43m,\u001b[49m\u001b[43m \u001b[49m\u001b[38;5;241;43m*\u001b[39;49m\u001b[43margs\u001b[49m\u001b[43m,\u001b[49m\u001b[43m \u001b[49m\u001b[38;5;241;43m*\u001b[39;49m\u001b[38;5;241;43m*\u001b[39;49m\u001b[43mkwargs\u001b[49m\u001b[43m)\u001b[49m\u001b[43m)\u001b[49m\n",
      "File \u001b[1;32m~\\AppData\\Roaming\\Python\\Python310\\site-packages\\torch\\utils\\_contextlib.py:56\u001b[0m, in \u001b[0;36m_wrap_generator.<locals>.generator_context\u001b[1;34m(*args, **kwargs)\u001b[0m\n\u001b[0;32m     53\u001b[0m         \u001b[38;5;28;01melse\u001b[39;00m:\n\u001b[0;32m     54\u001b[0m             \u001b[38;5;66;03m# Pass the last request to the generator and get its response\u001b[39;00m\n\u001b[0;32m     55\u001b[0m             \u001b[38;5;28;01mwith\u001b[39;00m ctx_factory():\n\u001b[1;32m---> 56\u001b[0m                 response \u001b[38;5;241m=\u001b[39m \u001b[43mgen\u001b[49m\u001b[38;5;241;43m.\u001b[39;49m\u001b[43msend\u001b[49m\u001b[43m(\u001b[49m\u001b[43mrequest\u001b[49m\u001b[43m)\u001b[49m\n\u001b[0;32m     58\u001b[0m \u001b[38;5;66;03m# We let the exceptions raised above by the generator's `.throw` or\u001b[39;00m\n\u001b[0;32m     59\u001b[0m \u001b[38;5;66;03m# `.send` methods bubble up to our caller, except for StopIteration\u001b[39;00m\n\u001b[0;32m     60\u001b[0m \u001b[38;5;28;01mexcept\u001b[39;00m \u001b[38;5;167;01mStopIteration\u001b[39;00m \u001b[38;5;28;01mas\u001b[39;00m e:\n\u001b[0;32m     61\u001b[0m     \u001b[38;5;66;03m# The generator informed us that it is done: take whatever its\u001b[39;00m\n\u001b[0;32m     62\u001b[0m     \u001b[38;5;66;03m# returned value (if any) was and indicate that we're done too\u001b[39;00m\n\u001b[0;32m     63\u001b[0m     \u001b[38;5;66;03m# by returning it (see docs for python's return-statement).\u001b[39;00m\n",
      "File \u001b[1;32m~\\AppData\\Roaming\\Python\\Python310\\site-packages\\ultralytics\\engine\\predictor.py:248\u001b[0m, in \u001b[0;36mBasePredictor.stream_inference\u001b[1;34m(self, source, model, *args, **kwargs)\u001b[0m\n\u001b[0;32m    246\u001b[0m \u001b[38;5;66;03m# Inference\u001b[39;00m\n\u001b[0;32m    247\u001b[0m \u001b[38;5;28;01mwith\u001b[39;00m profilers[\u001b[38;5;241m1\u001b[39m]:\n\u001b[1;32m--> 248\u001b[0m     preds \u001b[38;5;241m=\u001b[39m \u001b[38;5;28mself\u001b[39m\u001b[38;5;241m.\u001b[39minference(im, \u001b[38;5;241m*\u001b[39margs, \u001b[38;5;241m*\u001b[39m\u001b[38;5;241m*\u001b[39mkwargs)\n\u001b[0;32m    249\u001b[0m     \u001b[38;5;28;01mif\u001b[39;00m \u001b[38;5;28mself\u001b[39m\u001b[38;5;241m.\u001b[39margs\u001b[38;5;241m.\u001b[39membed:\n\u001b[0;32m    250\u001b[0m         \u001b[38;5;28;01myield from\u001b[39;00m [preds] \u001b[38;5;28;01mif\u001b[39;00m \u001b[38;5;28misinstance\u001b[39m(preds, torch\u001b[38;5;241m.\u001b[39mTensor) \u001b[38;5;28;01melse\u001b[39;00m preds  \u001b[38;5;66;03m# yield embedding tensors\u001b[39;00m\n",
      "File \u001b[1;32m~\\AppData\\Roaming\\Python\\Python310\\site-packages\\ultralytics\\engine\\predictor.py:142\u001b[0m, in \u001b[0;36mBasePredictor.inference\u001b[1;34m(self, im, *args, **kwargs)\u001b[0m\n\u001b[0;32m    136\u001b[0m \u001b[38;5;124;03m\"\"\"Runs inference on a given image using the specified model and arguments.\"\"\"\u001b[39;00m\n\u001b[0;32m    137\u001b[0m visualize \u001b[38;5;241m=\u001b[39m (\n\u001b[0;32m    138\u001b[0m     increment_path(\u001b[38;5;28mself\u001b[39m\u001b[38;5;241m.\u001b[39msave_dir \u001b[38;5;241m/\u001b[39m Path(\u001b[38;5;28mself\u001b[39m\u001b[38;5;241m.\u001b[39mbatch[\u001b[38;5;241m0\u001b[39m][\u001b[38;5;241m0\u001b[39m])\u001b[38;5;241m.\u001b[39mstem, mkdir\u001b[38;5;241m=\u001b[39m\u001b[38;5;28;01mTrue\u001b[39;00m)\n\u001b[0;32m    139\u001b[0m     \u001b[38;5;28;01mif\u001b[39;00m \u001b[38;5;28mself\u001b[39m\u001b[38;5;241m.\u001b[39margs\u001b[38;5;241m.\u001b[39mvisualize \u001b[38;5;129;01mand\u001b[39;00m (\u001b[38;5;129;01mnot\u001b[39;00m \u001b[38;5;28mself\u001b[39m\u001b[38;5;241m.\u001b[39msource_type\u001b[38;5;241m.\u001b[39mtensor)\n\u001b[0;32m    140\u001b[0m     \u001b[38;5;28;01melse\u001b[39;00m \u001b[38;5;28;01mFalse\u001b[39;00m\n\u001b[0;32m    141\u001b[0m )\n\u001b[1;32m--> 142\u001b[0m \u001b[38;5;28;01mreturn\u001b[39;00m \u001b[38;5;28mself\u001b[39m\u001b[38;5;241m.\u001b[39mmodel(im, augment\u001b[38;5;241m=\u001b[39m\u001b[38;5;28mself\u001b[39m\u001b[38;5;241m.\u001b[39margs\u001b[38;5;241m.\u001b[39maugment, visualize\u001b[38;5;241m=\u001b[39mvisualize, embed\u001b[38;5;241m=\u001b[39m\u001b[38;5;28mself\u001b[39m\u001b[38;5;241m.\u001b[39margs\u001b[38;5;241m.\u001b[39membed, \u001b[38;5;241m*\u001b[39margs, \u001b[38;5;241m*\u001b[39m\u001b[38;5;241m*\u001b[39mkwargs)\n",
      "File \u001b[1;32m~\\AppData\\Roaming\\Python\\Python310\\site-packages\\torch\\nn\\modules\\module.py:1532\u001b[0m, in \u001b[0;36mModule._wrapped_call_impl\u001b[1;34m(self, *args, **kwargs)\u001b[0m\n\u001b[0;32m   1530\u001b[0m     \u001b[38;5;28;01mreturn\u001b[39;00m \u001b[38;5;28mself\u001b[39m\u001b[38;5;241m.\u001b[39m_compiled_call_impl(\u001b[38;5;241m*\u001b[39margs, \u001b[38;5;241m*\u001b[39m\u001b[38;5;241m*\u001b[39mkwargs)  \u001b[38;5;66;03m# type: ignore[misc]\u001b[39;00m\n\u001b[0;32m   1531\u001b[0m \u001b[38;5;28;01melse\u001b[39;00m:\n\u001b[1;32m-> 1532\u001b[0m     \u001b[38;5;28;01mreturn\u001b[39;00m \u001b[38;5;28mself\u001b[39m\u001b[38;5;241m.\u001b[39m_call_impl(\u001b[38;5;241m*\u001b[39margs, \u001b[38;5;241m*\u001b[39m\u001b[38;5;241m*\u001b[39mkwargs)\n",
      "File \u001b[1;32m~\\AppData\\Roaming\\Python\\Python310\\site-packages\\torch\\nn\\modules\\module.py:1541\u001b[0m, in \u001b[0;36mModule._call_impl\u001b[1;34m(self, *args, **kwargs)\u001b[0m\n\u001b[0;32m   1536\u001b[0m \u001b[38;5;66;03m# If we don't have any hooks, we want to skip the rest of the logic in\u001b[39;00m\n\u001b[0;32m   1537\u001b[0m \u001b[38;5;66;03m# this function, and just call forward.\u001b[39;00m\n\u001b[0;32m   1538\u001b[0m \u001b[38;5;28;01mif\u001b[39;00m \u001b[38;5;129;01mnot\u001b[39;00m (\u001b[38;5;28mself\u001b[39m\u001b[38;5;241m.\u001b[39m_backward_hooks \u001b[38;5;129;01mor\u001b[39;00m \u001b[38;5;28mself\u001b[39m\u001b[38;5;241m.\u001b[39m_backward_pre_hooks \u001b[38;5;129;01mor\u001b[39;00m \u001b[38;5;28mself\u001b[39m\u001b[38;5;241m.\u001b[39m_forward_hooks \u001b[38;5;129;01mor\u001b[39;00m \u001b[38;5;28mself\u001b[39m\u001b[38;5;241m.\u001b[39m_forward_pre_hooks\n\u001b[0;32m   1539\u001b[0m         \u001b[38;5;129;01mor\u001b[39;00m _global_backward_pre_hooks \u001b[38;5;129;01mor\u001b[39;00m _global_backward_hooks\n\u001b[0;32m   1540\u001b[0m         \u001b[38;5;129;01mor\u001b[39;00m _global_forward_hooks \u001b[38;5;129;01mor\u001b[39;00m _global_forward_pre_hooks):\n\u001b[1;32m-> 1541\u001b[0m     \u001b[38;5;28;01mreturn\u001b[39;00m forward_call(\u001b[38;5;241m*\u001b[39margs, \u001b[38;5;241m*\u001b[39m\u001b[38;5;241m*\u001b[39mkwargs)\n\u001b[0;32m   1543\u001b[0m \u001b[38;5;28;01mtry\u001b[39;00m:\n\u001b[0;32m   1544\u001b[0m     result \u001b[38;5;241m=\u001b[39m \u001b[38;5;28;01mNone\u001b[39;00m\n",
      "File \u001b[1;32m~\\AppData\\Roaming\\Python\\Python310\\site-packages\\ultralytics\\nn\\autobackend.py:453\u001b[0m, in \u001b[0;36mAutoBackend.forward\u001b[1;34m(self, im, augment, visualize, embed)\u001b[0m\n\u001b[0;32m    451\u001b[0m \u001b[38;5;66;03m# PyTorch\u001b[39;00m\n\u001b[0;32m    452\u001b[0m \u001b[38;5;28;01mif\u001b[39;00m \u001b[38;5;28mself\u001b[39m\u001b[38;5;241m.\u001b[39mpt \u001b[38;5;129;01mor\u001b[39;00m \u001b[38;5;28mself\u001b[39m\u001b[38;5;241m.\u001b[39mnn_module:\n\u001b[1;32m--> 453\u001b[0m     y \u001b[38;5;241m=\u001b[39m \u001b[38;5;28;43mself\u001b[39;49m\u001b[38;5;241;43m.\u001b[39;49m\u001b[43mmodel\u001b[49m\u001b[43m(\u001b[49m\u001b[43mim\u001b[49m\u001b[43m,\u001b[49m\u001b[43m \u001b[49m\u001b[43maugment\u001b[49m\u001b[38;5;241;43m=\u001b[39;49m\u001b[43maugment\u001b[49m\u001b[43m,\u001b[49m\u001b[43m \u001b[49m\u001b[43mvisualize\u001b[49m\u001b[38;5;241;43m=\u001b[39;49m\u001b[43mvisualize\u001b[49m\u001b[43m,\u001b[49m\u001b[43m \u001b[49m\u001b[43membed\u001b[49m\u001b[38;5;241;43m=\u001b[39;49m\u001b[43membed\u001b[49m\u001b[43m)\u001b[49m\n\u001b[0;32m    455\u001b[0m \u001b[38;5;66;03m# TorchScript\u001b[39;00m\n\u001b[0;32m    456\u001b[0m \u001b[38;5;28;01melif\u001b[39;00m \u001b[38;5;28mself\u001b[39m\u001b[38;5;241m.\u001b[39mjit:\n",
      "File \u001b[1;32m~\\AppData\\Roaming\\Python\\Python310\\site-packages\\torch\\nn\\modules\\module.py:1532\u001b[0m, in \u001b[0;36mModule._wrapped_call_impl\u001b[1;34m(self, *args, **kwargs)\u001b[0m\n\u001b[0;32m   1530\u001b[0m     \u001b[38;5;28;01mreturn\u001b[39;00m \u001b[38;5;28mself\u001b[39m\u001b[38;5;241m.\u001b[39m_compiled_call_impl(\u001b[38;5;241m*\u001b[39margs, \u001b[38;5;241m*\u001b[39m\u001b[38;5;241m*\u001b[39mkwargs)  \u001b[38;5;66;03m# type: ignore[misc]\u001b[39;00m\n\u001b[0;32m   1531\u001b[0m \u001b[38;5;28;01melse\u001b[39;00m:\n\u001b[1;32m-> 1532\u001b[0m     \u001b[38;5;28;01mreturn\u001b[39;00m \u001b[38;5;28mself\u001b[39m\u001b[38;5;241m.\u001b[39m_call_impl(\u001b[38;5;241m*\u001b[39margs, \u001b[38;5;241m*\u001b[39m\u001b[38;5;241m*\u001b[39mkwargs)\n",
      "File \u001b[1;32m~\\AppData\\Roaming\\Python\\Python310\\site-packages\\torch\\nn\\modules\\module.py:1541\u001b[0m, in \u001b[0;36mModule._call_impl\u001b[1;34m(self, *args, **kwargs)\u001b[0m\n\u001b[0;32m   1536\u001b[0m \u001b[38;5;66;03m# If we don't have any hooks, we want to skip the rest of the logic in\u001b[39;00m\n\u001b[0;32m   1537\u001b[0m \u001b[38;5;66;03m# this function, and just call forward.\u001b[39;00m\n\u001b[0;32m   1538\u001b[0m \u001b[38;5;28;01mif\u001b[39;00m \u001b[38;5;129;01mnot\u001b[39;00m (\u001b[38;5;28mself\u001b[39m\u001b[38;5;241m.\u001b[39m_backward_hooks \u001b[38;5;129;01mor\u001b[39;00m \u001b[38;5;28mself\u001b[39m\u001b[38;5;241m.\u001b[39m_backward_pre_hooks \u001b[38;5;129;01mor\u001b[39;00m \u001b[38;5;28mself\u001b[39m\u001b[38;5;241m.\u001b[39m_forward_hooks \u001b[38;5;129;01mor\u001b[39;00m \u001b[38;5;28mself\u001b[39m\u001b[38;5;241m.\u001b[39m_forward_pre_hooks\n\u001b[0;32m   1539\u001b[0m         \u001b[38;5;129;01mor\u001b[39;00m _global_backward_pre_hooks \u001b[38;5;129;01mor\u001b[39;00m _global_backward_hooks\n\u001b[0;32m   1540\u001b[0m         \u001b[38;5;129;01mor\u001b[39;00m _global_forward_hooks \u001b[38;5;129;01mor\u001b[39;00m _global_forward_pre_hooks):\n\u001b[1;32m-> 1541\u001b[0m     \u001b[38;5;28;01mreturn\u001b[39;00m forward_call(\u001b[38;5;241m*\u001b[39margs, \u001b[38;5;241m*\u001b[39m\u001b[38;5;241m*\u001b[39mkwargs)\n\u001b[0;32m   1543\u001b[0m \u001b[38;5;28;01mtry\u001b[39;00m:\n\u001b[0;32m   1544\u001b[0m     result \u001b[38;5;241m=\u001b[39m \u001b[38;5;28;01mNone\u001b[39;00m\n",
      "File \u001b[1;32m~\\AppData\\Roaming\\Python\\Python310\\site-packages\\ultralytics\\nn\\tasks.py:89\u001b[0m, in \u001b[0;36mBaseModel.forward\u001b[1;34m(self, x, *args, **kwargs)\u001b[0m\n\u001b[0;32m     87\u001b[0m \u001b[38;5;28;01mif\u001b[39;00m \u001b[38;5;28misinstance\u001b[39m(x, \u001b[38;5;28mdict\u001b[39m):  \u001b[38;5;66;03m# for cases of training and validating while training.\u001b[39;00m\n\u001b[0;32m     88\u001b[0m     \u001b[38;5;28;01mreturn\u001b[39;00m \u001b[38;5;28mself\u001b[39m\u001b[38;5;241m.\u001b[39mloss(x, \u001b[38;5;241m*\u001b[39margs, \u001b[38;5;241m*\u001b[39m\u001b[38;5;241m*\u001b[39mkwargs)\n\u001b[1;32m---> 89\u001b[0m \u001b[38;5;28;01mreturn\u001b[39;00m \u001b[38;5;28mself\u001b[39m\u001b[38;5;241m.\u001b[39mpredict(x, \u001b[38;5;241m*\u001b[39margs, \u001b[38;5;241m*\u001b[39m\u001b[38;5;241m*\u001b[39mkwargs)\n",
      "File \u001b[1;32m~\\AppData\\Roaming\\Python\\Python310\\site-packages\\ultralytics\\nn\\tasks.py:107\u001b[0m, in \u001b[0;36mBaseModel.predict\u001b[1;34m(self, x, profile, visualize, augment, embed)\u001b[0m\n\u001b[0;32m    105\u001b[0m \u001b[38;5;28;01mif\u001b[39;00m augment:\n\u001b[0;32m    106\u001b[0m     \u001b[38;5;28;01mreturn\u001b[39;00m \u001b[38;5;28mself\u001b[39m\u001b[38;5;241m.\u001b[39m_predict_augment(x)\n\u001b[1;32m--> 107\u001b[0m \u001b[38;5;28;01mreturn\u001b[39;00m \u001b[38;5;28;43mself\u001b[39;49m\u001b[38;5;241;43m.\u001b[39;49m\u001b[43m_predict_once\u001b[49m\u001b[43m(\u001b[49m\u001b[43mx\u001b[49m\u001b[43m,\u001b[49m\u001b[43m \u001b[49m\u001b[43mprofile\u001b[49m\u001b[43m,\u001b[49m\u001b[43m \u001b[49m\u001b[43mvisualize\u001b[49m\u001b[43m,\u001b[49m\u001b[43m \u001b[49m\u001b[43membed\u001b[49m\u001b[43m)\u001b[49m\n",
      "File \u001b[1;32m~\\AppData\\Roaming\\Python\\Python310\\site-packages\\ultralytics\\nn\\tasks.py:128\u001b[0m, in \u001b[0;36mBaseModel._predict_once\u001b[1;34m(self, x, profile, visualize, embed)\u001b[0m\n\u001b[0;32m    126\u001b[0m \u001b[38;5;28;01mif\u001b[39;00m profile:\n\u001b[0;32m    127\u001b[0m     \u001b[38;5;28mself\u001b[39m\u001b[38;5;241m.\u001b[39m_profile_one_layer(m, x, dt)\n\u001b[1;32m--> 128\u001b[0m x \u001b[38;5;241m=\u001b[39m \u001b[43mm\u001b[49m\u001b[43m(\u001b[49m\u001b[43mx\u001b[49m\u001b[43m)\u001b[49m  \u001b[38;5;66;03m# run\u001b[39;00m\n\u001b[0;32m    129\u001b[0m y\u001b[38;5;241m.\u001b[39mappend(x \u001b[38;5;28;01mif\u001b[39;00m m\u001b[38;5;241m.\u001b[39mi \u001b[38;5;129;01min\u001b[39;00m \u001b[38;5;28mself\u001b[39m\u001b[38;5;241m.\u001b[39msave \u001b[38;5;28;01melse\u001b[39;00m \u001b[38;5;28;01mNone\u001b[39;00m)  \u001b[38;5;66;03m# save output\u001b[39;00m\n\u001b[0;32m    130\u001b[0m \u001b[38;5;28;01mif\u001b[39;00m visualize:\n",
      "File \u001b[1;32m~\\AppData\\Roaming\\Python\\Python310\\site-packages\\torch\\nn\\modules\\module.py:1532\u001b[0m, in \u001b[0;36mModule._wrapped_call_impl\u001b[1;34m(self, *args, **kwargs)\u001b[0m\n\u001b[0;32m   1530\u001b[0m     \u001b[38;5;28;01mreturn\u001b[39;00m \u001b[38;5;28mself\u001b[39m\u001b[38;5;241m.\u001b[39m_compiled_call_impl(\u001b[38;5;241m*\u001b[39margs, \u001b[38;5;241m*\u001b[39m\u001b[38;5;241m*\u001b[39mkwargs)  \u001b[38;5;66;03m# type: ignore[misc]\u001b[39;00m\n\u001b[0;32m   1531\u001b[0m \u001b[38;5;28;01melse\u001b[39;00m:\n\u001b[1;32m-> 1532\u001b[0m     \u001b[38;5;28;01mreturn\u001b[39;00m \u001b[38;5;28mself\u001b[39m\u001b[38;5;241m.\u001b[39m_call_impl(\u001b[38;5;241m*\u001b[39margs, \u001b[38;5;241m*\u001b[39m\u001b[38;5;241m*\u001b[39mkwargs)\n",
      "File \u001b[1;32m~\\AppData\\Roaming\\Python\\Python310\\site-packages\\torch\\nn\\modules\\module.py:1541\u001b[0m, in \u001b[0;36mModule._call_impl\u001b[1;34m(self, *args, **kwargs)\u001b[0m\n\u001b[0;32m   1536\u001b[0m \u001b[38;5;66;03m# If we don't have any hooks, we want to skip the rest of the logic in\u001b[39;00m\n\u001b[0;32m   1537\u001b[0m \u001b[38;5;66;03m# this function, and just call forward.\u001b[39;00m\n\u001b[0;32m   1538\u001b[0m \u001b[38;5;28;01mif\u001b[39;00m \u001b[38;5;129;01mnot\u001b[39;00m (\u001b[38;5;28mself\u001b[39m\u001b[38;5;241m.\u001b[39m_backward_hooks \u001b[38;5;129;01mor\u001b[39;00m \u001b[38;5;28mself\u001b[39m\u001b[38;5;241m.\u001b[39m_backward_pre_hooks \u001b[38;5;129;01mor\u001b[39;00m \u001b[38;5;28mself\u001b[39m\u001b[38;5;241m.\u001b[39m_forward_hooks \u001b[38;5;129;01mor\u001b[39;00m \u001b[38;5;28mself\u001b[39m\u001b[38;5;241m.\u001b[39m_forward_pre_hooks\n\u001b[0;32m   1539\u001b[0m         \u001b[38;5;129;01mor\u001b[39;00m _global_backward_pre_hooks \u001b[38;5;129;01mor\u001b[39;00m _global_backward_hooks\n\u001b[0;32m   1540\u001b[0m         \u001b[38;5;129;01mor\u001b[39;00m _global_forward_hooks \u001b[38;5;129;01mor\u001b[39;00m _global_forward_pre_hooks):\n\u001b[1;32m-> 1541\u001b[0m     \u001b[38;5;28;01mreturn\u001b[39;00m forward_call(\u001b[38;5;241m*\u001b[39margs, \u001b[38;5;241m*\u001b[39m\u001b[38;5;241m*\u001b[39mkwargs)\n\u001b[0;32m   1543\u001b[0m \u001b[38;5;28;01mtry\u001b[39;00m:\n\u001b[0;32m   1544\u001b[0m     result \u001b[38;5;241m=\u001b[39m \u001b[38;5;28;01mNone\u001b[39;00m\n",
      "File \u001b[1;32m~\\AppData\\Roaming\\Python\\Python310\\site-packages\\ultralytics\\nn\\modules\\block.py:231\u001b[0m, in \u001b[0;36mC2f.forward\u001b[1;34m(self, x)\u001b[0m\n\u001b[0;32m    229\u001b[0m y \u001b[38;5;241m=\u001b[39m \u001b[38;5;28mlist\u001b[39m(\u001b[38;5;28mself\u001b[39m\u001b[38;5;241m.\u001b[39mcv1(x)\u001b[38;5;241m.\u001b[39mchunk(\u001b[38;5;241m2\u001b[39m, \u001b[38;5;241m1\u001b[39m))\n\u001b[0;32m    230\u001b[0m y\u001b[38;5;241m.\u001b[39mextend(m(y[\u001b[38;5;241m-\u001b[39m\u001b[38;5;241m1\u001b[39m]) \u001b[38;5;28;01mfor\u001b[39;00m m \u001b[38;5;129;01min\u001b[39;00m \u001b[38;5;28mself\u001b[39m\u001b[38;5;241m.\u001b[39mm)\n\u001b[1;32m--> 231\u001b[0m \u001b[38;5;28;01mreturn\u001b[39;00m \u001b[38;5;28;43mself\u001b[39;49m\u001b[38;5;241;43m.\u001b[39;49m\u001b[43mcv2\u001b[49m\u001b[43m(\u001b[49m\u001b[43mtorch\u001b[49m\u001b[38;5;241;43m.\u001b[39;49m\u001b[43mcat\u001b[49m\u001b[43m(\u001b[49m\u001b[43my\u001b[49m\u001b[43m,\u001b[49m\u001b[43m \u001b[49m\u001b[38;5;241;43m1\u001b[39;49m\u001b[43m)\u001b[49m\u001b[43m)\u001b[49m\n",
      "File \u001b[1;32m~\\AppData\\Roaming\\Python\\Python310\\site-packages\\torch\\nn\\modules\\module.py:1532\u001b[0m, in \u001b[0;36mModule._wrapped_call_impl\u001b[1;34m(self, *args, **kwargs)\u001b[0m\n\u001b[0;32m   1530\u001b[0m     \u001b[38;5;28;01mreturn\u001b[39;00m \u001b[38;5;28mself\u001b[39m\u001b[38;5;241m.\u001b[39m_compiled_call_impl(\u001b[38;5;241m*\u001b[39margs, \u001b[38;5;241m*\u001b[39m\u001b[38;5;241m*\u001b[39mkwargs)  \u001b[38;5;66;03m# type: ignore[misc]\u001b[39;00m\n\u001b[0;32m   1531\u001b[0m \u001b[38;5;28;01melse\u001b[39;00m:\n\u001b[1;32m-> 1532\u001b[0m     \u001b[38;5;28;01mreturn\u001b[39;00m \u001b[38;5;28mself\u001b[39m\u001b[38;5;241m.\u001b[39m_call_impl(\u001b[38;5;241m*\u001b[39margs, \u001b[38;5;241m*\u001b[39m\u001b[38;5;241m*\u001b[39mkwargs)\n",
      "File \u001b[1;32m~\\AppData\\Roaming\\Python\\Python310\\site-packages\\torch\\nn\\modules\\module.py:1541\u001b[0m, in \u001b[0;36mModule._call_impl\u001b[1;34m(self, *args, **kwargs)\u001b[0m\n\u001b[0;32m   1536\u001b[0m \u001b[38;5;66;03m# If we don't have any hooks, we want to skip the rest of the logic in\u001b[39;00m\n\u001b[0;32m   1537\u001b[0m \u001b[38;5;66;03m# this function, and just call forward.\u001b[39;00m\n\u001b[0;32m   1538\u001b[0m \u001b[38;5;28;01mif\u001b[39;00m \u001b[38;5;129;01mnot\u001b[39;00m (\u001b[38;5;28mself\u001b[39m\u001b[38;5;241m.\u001b[39m_backward_hooks \u001b[38;5;129;01mor\u001b[39;00m \u001b[38;5;28mself\u001b[39m\u001b[38;5;241m.\u001b[39m_backward_pre_hooks \u001b[38;5;129;01mor\u001b[39;00m \u001b[38;5;28mself\u001b[39m\u001b[38;5;241m.\u001b[39m_forward_hooks \u001b[38;5;129;01mor\u001b[39;00m \u001b[38;5;28mself\u001b[39m\u001b[38;5;241m.\u001b[39m_forward_pre_hooks\n\u001b[0;32m   1539\u001b[0m         \u001b[38;5;129;01mor\u001b[39;00m _global_backward_pre_hooks \u001b[38;5;129;01mor\u001b[39;00m _global_backward_hooks\n\u001b[0;32m   1540\u001b[0m         \u001b[38;5;129;01mor\u001b[39;00m _global_forward_hooks \u001b[38;5;129;01mor\u001b[39;00m _global_forward_pre_hooks):\n\u001b[1;32m-> 1541\u001b[0m     \u001b[38;5;28;01mreturn\u001b[39;00m forward_call(\u001b[38;5;241m*\u001b[39margs, \u001b[38;5;241m*\u001b[39m\u001b[38;5;241m*\u001b[39mkwargs)\n\u001b[0;32m   1543\u001b[0m \u001b[38;5;28;01mtry\u001b[39;00m:\n\u001b[0;32m   1544\u001b[0m     result \u001b[38;5;241m=\u001b[39m \u001b[38;5;28;01mNone\u001b[39;00m\n",
      "File \u001b[1;32m~\\AppData\\Roaming\\Python\\Python310\\site-packages\\ultralytics\\nn\\modules\\conv.py:54\u001b[0m, in \u001b[0;36mConv.forward_fuse\u001b[1;34m(self, x)\u001b[0m\n\u001b[0;32m     52\u001b[0m \u001b[38;5;28;01mdef\u001b[39;00m \u001b[38;5;21mforward_fuse\u001b[39m(\u001b[38;5;28mself\u001b[39m, x):\n\u001b[0;32m     53\u001b[0m     \u001b[38;5;124;03m\"\"\"Perform transposed convolution of 2D data.\"\"\"\u001b[39;00m\n\u001b[1;32m---> 54\u001b[0m     \u001b[38;5;28;01mreturn\u001b[39;00m \u001b[38;5;28;43mself\u001b[39;49m\u001b[38;5;241;43m.\u001b[39;49m\u001b[43mact\u001b[49m\u001b[43m(\u001b[49m\u001b[38;5;28;43mself\u001b[39;49m\u001b[38;5;241;43m.\u001b[39;49m\u001b[43mconv\u001b[49m\u001b[43m(\u001b[49m\u001b[43mx\u001b[49m\u001b[43m)\u001b[49m\u001b[43m)\u001b[49m\n",
      "File \u001b[1;32m~\\AppData\\Roaming\\Python\\Python310\\site-packages\\torch\\nn\\modules\\module.py:1532\u001b[0m, in \u001b[0;36mModule._wrapped_call_impl\u001b[1;34m(self, *args, **kwargs)\u001b[0m\n\u001b[0;32m   1530\u001b[0m     \u001b[38;5;28;01mreturn\u001b[39;00m \u001b[38;5;28mself\u001b[39m\u001b[38;5;241m.\u001b[39m_compiled_call_impl(\u001b[38;5;241m*\u001b[39margs, \u001b[38;5;241m*\u001b[39m\u001b[38;5;241m*\u001b[39mkwargs)  \u001b[38;5;66;03m# type: ignore[misc]\u001b[39;00m\n\u001b[0;32m   1531\u001b[0m \u001b[38;5;28;01melse\u001b[39;00m:\n\u001b[1;32m-> 1532\u001b[0m     \u001b[38;5;28;01mreturn\u001b[39;00m \u001b[38;5;28mself\u001b[39m\u001b[38;5;241m.\u001b[39m_call_impl(\u001b[38;5;241m*\u001b[39margs, \u001b[38;5;241m*\u001b[39m\u001b[38;5;241m*\u001b[39mkwargs)\n",
      "File \u001b[1;32m~\\AppData\\Roaming\\Python\\Python310\\site-packages\\torch\\nn\\modules\\module.py:1541\u001b[0m, in \u001b[0;36mModule._call_impl\u001b[1;34m(self, *args, **kwargs)\u001b[0m\n\u001b[0;32m   1536\u001b[0m \u001b[38;5;66;03m# If we don't have any hooks, we want to skip the rest of the logic in\u001b[39;00m\n\u001b[0;32m   1537\u001b[0m \u001b[38;5;66;03m# this function, and just call forward.\u001b[39;00m\n\u001b[0;32m   1538\u001b[0m \u001b[38;5;28;01mif\u001b[39;00m \u001b[38;5;129;01mnot\u001b[39;00m (\u001b[38;5;28mself\u001b[39m\u001b[38;5;241m.\u001b[39m_backward_hooks \u001b[38;5;129;01mor\u001b[39;00m \u001b[38;5;28mself\u001b[39m\u001b[38;5;241m.\u001b[39m_backward_pre_hooks \u001b[38;5;129;01mor\u001b[39;00m \u001b[38;5;28mself\u001b[39m\u001b[38;5;241m.\u001b[39m_forward_hooks \u001b[38;5;129;01mor\u001b[39;00m \u001b[38;5;28mself\u001b[39m\u001b[38;5;241m.\u001b[39m_forward_pre_hooks\n\u001b[0;32m   1539\u001b[0m         \u001b[38;5;129;01mor\u001b[39;00m _global_backward_pre_hooks \u001b[38;5;129;01mor\u001b[39;00m _global_backward_hooks\n\u001b[0;32m   1540\u001b[0m         \u001b[38;5;129;01mor\u001b[39;00m _global_forward_hooks \u001b[38;5;129;01mor\u001b[39;00m _global_forward_pre_hooks):\n\u001b[1;32m-> 1541\u001b[0m     \u001b[38;5;28;01mreturn\u001b[39;00m forward_call(\u001b[38;5;241m*\u001b[39margs, \u001b[38;5;241m*\u001b[39m\u001b[38;5;241m*\u001b[39mkwargs)\n\u001b[0;32m   1543\u001b[0m \u001b[38;5;28;01mtry\u001b[39;00m:\n\u001b[0;32m   1544\u001b[0m     result \u001b[38;5;241m=\u001b[39m \u001b[38;5;28;01mNone\u001b[39;00m\n",
      "File \u001b[1;32m~\\AppData\\Roaming\\Python\\Python310\\site-packages\\torch\\nn\\modules\\activation.py:396\u001b[0m, in \u001b[0;36mSiLU.forward\u001b[1;34m(self, input)\u001b[0m\n\u001b[0;32m    395\u001b[0m \u001b[38;5;28;01mdef\u001b[39;00m \u001b[38;5;21mforward\u001b[39m(\u001b[38;5;28mself\u001b[39m, \u001b[38;5;28minput\u001b[39m: Tensor) \u001b[38;5;241m-\u001b[39m\u001b[38;5;241m>\u001b[39m Tensor:\n\u001b[1;32m--> 396\u001b[0m     \u001b[38;5;28;01mreturn\u001b[39;00m \u001b[43mF\u001b[49m\u001b[38;5;241;43m.\u001b[39;49m\u001b[43msilu\u001b[49m\u001b[43m(\u001b[49m\u001b[38;5;28;43minput\u001b[39;49m\u001b[43m,\u001b[49m\u001b[43m \u001b[49m\u001b[43minplace\u001b[49m\u001b[38;5;241;43m=\u001b[39;49m\u001b[38;5;28;43mself\u001b[39;49m\u001b[38;5;241;43m.\u001b[39;49m\u001b[43minplace\u001b[49m\u001b[43m)\u001b[49m\n",
      "File \u001b[1;32m~\\AppData\\Roaming\\Python\\Python310\\site-packages\\torch\\nn\\functional.py:2101\u001b[0m, in \u001b[0;36msilu\u001b[1;34m(input, inplace)\u001b[0m\n\u001b[0;32m   2099\u001b[0m     \u001b[38;5;28;01mreturn\u001b[39;00m handle_torch_function(silu, (\u001b[38;5;28minput\u001b[39m,), \u001b[38;5;28minput\u001b[39m, inplace\u001b[38;5;241m=\u001b[39minplace)\n\u001b[0;32m   2100\u001b[0m \u001b[38;5;28;01mif\u001b[39;00m inplace:\n\u001b[1;32m-> 2101\u001b[0m     \u001b[38;5;28;01mreturn\u001b[39;00m \u001b[43mtorch\u001b[49m\u001b[38;5;241;43m.\u001b[39;49m\u001b[43m_C\u001b[49m\u001b[38;5;241;43m.\u001b[39;49m\u001b[43m_nn\u001b[49m\u001b[38;5;241;43m.\u001b[39;49m\u001b[43msilu_\u001b[49m\u001b[43m(\u001b[49m\u001b[38;5;28;43minput\u001b[39;49m\u001b[43m)\u001b[49m\n\u001b[0;32m   2102\u001b[0m \u001b[38;5;28;01mreturn\u001b[39;00m torch\u001b[38;5;241m.\u001b[39m_C\u001b[38;5;241m.\u001b[39m_nn\u001b[38;5;241m.\u001b[39msilu(\u001b[38;5;28minput\u001b[39m)\n",
      "\u001b[1;31mKeyboardInterrupt\u001b[0m: "
     ]
    }
   ],
   "source": [
    "from ultralytics import YOLO\n",
    "import cv2\n",
    "\n",
    "cap = cv2.VideoCapture(0)\n",
    "ret,frame = cap.read()\n",
    "model = YOLO(r\"C:\\Users\\zanyi\\OneDrive\\Git hub\\Ai\\School Anniversary\\runs\\detect\\train\\weights\\best.pt\")\n",
    "prediction = model.predict(source=0,show=True)"
   ]
  }
 ],
 "metadata": {
  "kernelspec": {
   "display_name": "Python 3",
   "language": "python",
   "name": "python3"
  },
  "language_info": {
   "codemirror_mode": {
    "name": "ipython",
    "version": 3
   },
   "file_extension": ".py",
   "mimetype": "text/x-python",
   "name": "python",
   "nbconvert_exporter": "python",
   "pygments_lexer": "ipython3",
   "version": "3.10.8"
  }
 },
 "nbformat": 4,
 "nbformat_minor": 2
}
